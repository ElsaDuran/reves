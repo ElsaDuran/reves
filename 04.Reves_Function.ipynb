{
 "cells": [
  {
   "cell_type": "markdown",
   "metadata": {},
   "source": [
    "# 4.Reves_to_production"
   ]
  },
  {
   "cell_type": "markdown",
   "metadata": {},
   "source": [
    "For now, all this project has been developed on Jupyter notebook, but now is time to use the code on a production enviroment. We have developed a web app that takes inputs from the user, transforms them into a DataFrame, runs the xgboost model with it and returns the predicted revenue and the final data inputs. \n",
    "\n",
    "- Load libraries and data\n",
    "- Take inputs from user\n",
    "- Transform data to suitable Python d-types\n",
    "- Create DataFrame\n",
    "- Apply model\n",
    "- Transform used data to show it back to the user\n",
    "\n",
    "All that code is in revesapp.py file, but we have created this final notebook with all the transformations for easier understanding."
   ]
  },
  {
   "cell_type": "markdown",
   "metadata": {},
   "source": [
    "### Load libraries and data"
   ]
  },
  {
   "cell_type": "code",
   "execution_count": 32,
   "metadata": {},
   "outputs": [],
   "source": [
    "import numpy as np\n",
    "import pandas as pd\n",
    "import pickle\n",
    "import revesFunctions as rf\n",
    "\n",
    "with open(\"transformation/collection_dict.pickle\", \"rb\") as handle:\n",
    "    collection_dict = pickle.load(handle)\n",
    "    \n",
    "with open(\"transformation/genres_dict.pickle\", \"rb\") as handle:\n",
    "    genres_dict = pickle.load(handle)\n",
    "\n",
    "with open(\"transformation/language_dict.pickle\", \"rb\") as handle:\n",
    "    language_dict = pickle.load(handle)\n",
    "    \n",
    "with open(\"transformation/production_company_dict.pickle\", \"rb\") as handle:\n",
    "    production_company_dict = pickle.load(handle)\n",
    "    \n",
    "with open(\"transformation/cast_dict.pickle\", \"rb\") as handle:\n",
    "    cast_dict = pickle.load(handle)\n",
    "    \n",
    "with open(\"transformation/cast_gender_dict.pickle\", \"rb\") as handle:\n",
    "    cast_gender_dict = pickle.load(handle)\n",
    "    \n",
    "with open(\"transformation/directors_dict.pickle\", \"rb\") as handle:\n",
    "    directors_dict = pickle.load(handle)\n",
    "    \n",
    "with open(\"transformation/writers_dict.pickle\", \"rb\") as handle:\n",
    "    writers_dict = pickle.load(handle)\n",
    "    \n",
    "with open(\"transformation/keywords_dict.pickle\", \"rb\") as handle:\n",
    "    keywords_dict = pickle.load(handle)\n",
    "    \n",
    "with open(\"transformation/month_dict.pickle\", \"rb\") as handle:\n",
    "    month_dict = pickle.load(handle)\n",
    "    \n",
    "with open(\"transformation/weekday_dict.pickle\", \"rb\") as handle:\n",
    "    weekday_dict = pickle.load(handle)\n",
    "    \n",
    "xgbo = pickle.load(open(\"xgbo_model.pkl\",\"rb\"))"
   ]
  },
  {
   "cell_type": "markdown",
   "metadata": {},
   "source": [
    "### Take inputs from user"
   ]
  },
  {
   "cell_type": "markdown",
   "metadata": {},
   "source": [
    "We have used WTforms to create a HTML & Flask form. https://revesapp.herokuapp.com/get-the-number.html\n",
    "\n",
    "We ask the user to introduce the following features (Examples have been writen to run a test on this notebook)."
   ]
  },
  {
   "cell_type": "code",
   "execution_count": 8,
   "metadata": {},
   "outputs": [],
   "source": [
    "title=\"Your movie's\"\n",
    "directors=[\"Ruben Fleischer\"]\n",
    "scriptwriters=['Jeff Pinkner', 'Scott Rosenberg', 'Kelly Marcel', 'Todd McFarlane', 'David Michelinie']\n",
    "cast_names=['Tom Hardy', 'Michelle Williams', 'Riz Ahmed', 'Scott Haze']\n",
    "main_actor_genre=[2]\n",
    "collection=0\n",
    "collection_name=['Venom Collection']\n",
    "genres=[]\n",
    "genres_count=2\n",
    "language=\"2\"\n",
    "planguage=[]\n",
    "production_companies=['Avi Arad Productions', 'Columbia Pictures Corporation', 'Marvel Entertainment', 'Matt Tolmach Productions',\n",
    "'Pascal Pictures', 'Sony Pictures Entertainment (SPE)', 'Tencent Pictures']\n",
    "\n",
    "runtime=120\n",
    "imax=1\n",
    "d3=2\n",
    "month=[7]\n",
    "weekday=[3]\n",
    "keywords=[]\n",
    "\n",
    "drama=\"drama\"\n",
    "comedy=\"\"\n",
    "thriller=\"\"\n",
    "action=\"action\"\n",
    "romance=\"a\"\n",
    "adventure=\"\"\n",
    "crime=\"a\"\n",
    "science_fiction=\"\"\n",
    "horror=\"horror\"\n",
    "family=\"\"\n",
    "fantasy=\"\"\n",
    "mystery=\"\"\n",
    "animation=\"\"\n",
    "history=\"\"\n",
    "music=\"\"\n",
    "war=\"\"\n",
    "documentary=\"\"\n",
    "western=\"\"\n",
    "foreign=\"\"\n",
    "tv=\"\""
   ]
  },
  {
   "cell_type": "markdown",
   "metadata": {},
   "source": [
    "### Transform data to suitable Python d-types"
   ]
  },
  {
   "cell_type": "markdown",
   "metadata": {},
   "source": [
    "When collecting data from wtform fields, some features do not match model's requirements."
   ]
  },
  {
   "cell_type": "code",
   "execution_count": null,
   "metadata": {},
   "outputs": [],
   "source": []
  },
  {
   "cell_type": "code",
   "execution_count": null,
   "metadata": {},
   "outputs": [],
   "source": [
    "companies_count = len(production_companies)\n",
    "\n",
    "genres = [drama, comedy, thriller, action, romance, adventure, crime, science_fiction, horror, family, fantasy,\n",
    "                 mystery, animation, history, music, war, documentary, western, foreign, tv]\n",
    "genres = [x for x in genres if x != \"None\"]\n",
    "genres_count = len(genres)\n",
    "\n",
    "if imax == 2:\n",
    "    if \"imax\" not in keywords:\n",
    "        keywords.append(\"imax\")\n",
    "\n",
    "if d3 == 2:\n",
    "    if \"3d\" not in keywords:\n",
    "        keywords.append(\"3d\")\n",
    "\n",
    "if planguage == 1:\n",
    "    language=\"en\"\n",
    "elif planguage == 2:\n",
    "    language=\"no\""
   ]
  },
  {
   "cell_type": "markdown",
   "metadata": {},
   "source": [
    "### Create DataFrame"
   ]
  },
  {
   "cell_type": "markdown",
   "metadata": {},
   "source": [
    "### Apply model"
   ]
  },
  {
   "cell_type": "markdown",
   "metadata": {},
   "source": [
    "### Transform used data to show it back to the user"
   ]
  },
  {
   "cell_type": "markdown",
   "metadata": {},
   "source": [
    "On the result page, there's a Data Summary that shows the user the data Reves has used to predict revenue, just as a \"sumbit record\". https://revesapp.herokuapp.com/get-the-number-result.html\n",
    "\n",
    "Can't render the format directly into html file with flask. That's why we have to format the number and save it back to the variable before passing values to front-end and rendering the html template."
   ]
  },
  {
   "cell_type": "code",
   "execution_count": null,
   "metadata": {},
   "outputs": [],
   "source": [
    "revenue='{0:,}'.format(revenue) "
   ]
  },
  {
   "cell_type": "markdown",
   "metadata": {},
   "source": [
    "Data is stored in lists. We don't want users to read Data Summary with Python syntax. We have to transform values back to strings for easier understanding."
   ]
  },
  {
   "cell_type": "code",
   "execution_count": null,
   "metadata": {},
   "outputs": [],
   "source": [
    "directors=(', '.join(directors))\n",
    "scriptwriters=(', '.join(scriptwriters))\n",
    "cast_names=(', '.join(cast_names))\n",
    "\n",
    "if main_actor_genre[0]==\"2\":\n",
    "        main_actor_genre=\"Male\"\n",
    "elif main_actor_genre[0]==\"1\":\n",
    "        main_actor_genre=\"Female\"\n",
    "    else:\n",
    "        main_actor_genre=\"No value\"\n",
    "\n",
    "collection_name=collection_name[0]\n",
    "genres=(', '.join(genres))\n",
    "production_companies=(\", \".join(production_companies))\n",
    "keywords = (\", \".join(keywords))\n",
    "\n",
    "if language==\"en\":\n",
    "    language=\"English\"\n",
    "elif language==\"no\":\n",
    "    language=\"Not English\"\n",
    "\n",
    "if month[0]==\"1\":\n",
    "    month=\"January\"\n",
    "elif month[0]==\"2\":\n",
    "    month=\"February\"\n",
    "elif month[0]==\"3\":\n",
    "    month=\"March\"\n",
    "elif month[0]==\"4\":\n",
    "    month=\"April\"\n",
    "elif month[0]==\"5\":\n",
    "    month=\"May\"\n",
    "elif month[0]==\"6\":\n",
    "    month=\"June\"\n",
    "elif month[0]==\"7\":\n",
    "    month=\"July\"\n",
    "elif month[0]==\"8\":\n",
    "    month=\"August\"\n",
    "elif month[0]==\"9\":\n",
    "    month=\"September\"\n",
    "elif month[0]==\"10\":\n",
    "    month=\"October\"\n",
    "elif month[0]==\"11\":\n",
    "    month=\"November\"\n",
    "elif month[0]==\"12\":\n",
    "    month=\"December\"\n",
    "\n",
    "if weekday[0]==\"1\":\n",
    "    weekday=\"Monday\"\n",
    "elif weekday[0]==\"2\":\n",
    "    weekday=\"Tuesday\"\n",
    "elif weekday[0]==\"3\":\n",
    "    weekday=\"Wednesday\"\n",
    "elif weekday[0]==\"4\":\n",
    "    weekday=\"Thursday\"\n",
    "elif weekday[0]==\"5\":\n",
    "    weekday=\"Friday\"\n",
    "elif weekday[0]==\"6\":\n",
    "    weekday=\"Saturday\"\n",
    "elif weekday[0]==\"7\":\n",
    "    weekday=\"Sunday\""
   ]
  },
  {
   "cell_type": "markdown",
   "metadata": {},
   "source": [
    "### Index pages"
   ]
  },
  {
   "cell_type": "code",
   "execution_count": null,
   "metadata": {},
   "outputs": [],
   "source": [
    "def directors():\n",
    "    import pandas as pd\n",
    "    directors=pd.read_pickle(\"./docs/dicts/directors_dict.pickle\")\n",
    "    b=sorted(list(directors.keys()))\n",
    "    c=len(b)\n",
    "    return render_template(\"directors-index.html\",directors=directors,b=b,c=c)"
   ]
  },
  {
   "cell_type": "markdown",
   "metadata": {},
   "source": [
    "## Let's Reves"
   ]
  },
  {
   "cell_type": "code",
   "execution_count": 11,
   "metadata": {},
   "outputs": [],
   "source": [
    "companies_count = len(production_companies)\n",
    "\n",
    "genres = [drama, comedy, thriller, action, romance, adventure, crime, science_fiction, horror, family, fantasy,\n",
    "                 mystery, animation, history, music, war, documentary, western, foreign, tv]\n",
    "genres = [x for x in genres if x != \"None\"]\n",
    "genres_count = len(genres)\n",
    "\n",
    "if imax == 2:\n",
    "    if \"imax\" not in keywords:\n",
    "        keywords.append(\"imax\")\n",
    "\n",
    "if d3 == 2:\n",
    "    if \"3d\" not in keywords:\n",
    "        keywords.append(\"3d\")\n",
    "\n",
    "if planguage == 1:\n",
    "    language=\"en\"\n",
    "elif planguage == 2:\n",
    "    language=\"no\"\n",
    "\n",
    "data = [directors, \n",
    "        scriptwriters, \n",
    "        collection_name, \n",
    "        genres, \n",
    "        language,\n",
    "        production_companies,\n",
    "        runtime,\n",
    "        keywords,\n",
    "        month,\n",
    "        weekday,\n",
    "        cast_names,\n",
    "        companies_count,\n",
    "        title,\n",
    "        genres_count,\n",
    "        main_actor_genre]\n",
    "\n",
    "x = pd.DataFrame([data], columns=['directors', 'writers', 'belongs_to_collection', 'genres',\n",
    "       'original_language', 'production_companies', 'runtime', 'keywords',\n",
    "       'release_month', 'release_weekday', 'cast_names',\n",
    "       'production_companies_counter', 'title', 'genres_counter',\n",
    "       'main_actor_genre'])\n",
    "\n",
    "x[\"directors\"] = x[\"directors\"].apply(lambda x: [rf.clean(name) for name in x])\n",
    "x[\"directors\"] = x[\"directors\"].apply(rf.get_mean, variable_mean_dict=directors_dict)\n",
    "\n",
    "x[\"writers\"] = x[\"writers\"].apply(lambda x: [rf.clean(name) for name in x])\n",
    "x[\"writers\"] = x[\"writers\"].apply(rf.get_mean, variable_mean_dict=writers_dict)\n",
    "\n",
    "x[\"genres\"] = x[\"genres\"].apply(lambda x: [rf.clean(name) for name in x])\n",
    "x[\"genres\"] = x[\"genres\"].apply(rf.get_mean, variable_mean_dict=genres_dict)\n",
    "\n",
    "x[\"cast_names\"] = x[\"cast_names\"].apply(lambda x: [rf.clean(name) for name in x])\n",
    "x[\"cast_names\"] = x[\"cast_names\"].apply(rf.get_mean, variable_mean_dict=cast_dict)\n",
    "\n",
    "x[\"belongs_to_collection\"] = x[\"belongs_to_collection\"].apply(lambda x: [rf.clean(name) for name in x])\n",
    "x[\"belongs_to_collection\"] = x[\"belongs_to_collection\"].apply(rf.get_mean, variable_mean_dict=collection_dict)\n",
    "\n",
    "x[\"original_language\"] = x[\"original_language\"].apply(lambda x: [rf.clean(name) for name in [x]])\n",
    "x[\"original_language\"] = x[\"original_language\"].apply(rf.get_mean, variable_mean_dict=language_dict)\n",
    "\n",
    "x[\"production_companies\"] = x[\"production_companies\"].apply(lambda x: [rf.clean(name) for name in x])\n",
    "x[\"production_companies\"] = x[\"production_companies\"].apply(rf.get_mean, variable_mean_dict=production_company_dict)\n",
    "\n",
    "x[\"release_month\"] = x[\"release_month\"].apply(rf.get_mean, variable_mean_dict=month_dict)\n",
    "x[\"release_weekday\"] = x[\"release_weekday\"].apply(rf.get_mean, variable_mean_dict=weekday_dict)\n",
    "\n",
    "x[\"keywords\"] = x[\"keywords\"].apply(lambda x: [rf.clean(name) for name in x])\n",
    "x[\"keywords\"] = x[\"keywords\"].apply(rf.get_mean, variable_mean_dict=keywords_dict)\n",
    "\n",
    "x[\"main_actor_genre\"] = x[\"main_actor_genre\"].apply(rf.get_mean, variable_mean_dict=cast_gender_dict)\n"
   ]
  },
  {
   "cell_type": "code",
   "execution_count": 12,
   "metadata": {},
   "outputs": [
    {
     "data": {
      "text/html": [
       "<div>\n",
       "<style scoped>\n",
       "    .dataframe tbody tr th:only-of-type {\n",
       "        vertical-align: middle;\n",
       "    }\n",
       "\n",
       "    .dataframe tbody tr th {\n",
       "        vertical-align: top;\n",
       "    }\n",
       "\n",
       "    .dataframe thead th {\n",
       "        text-align: right;\n",
       "    }\n",
       "</style>\n",
       "<table border=\"1\" class=\"dataframe\">\n",
       "  <thead>\n",
       "    <tr style=\"text-align: right;\">\n",
       "      <th></th>\n",
       "      <th>directors</th>\n",
       "      <th>writers</th>\n",
       "      <th>belongs_to_collection</th>\n",
       "      <th>genres</th>\n",
       "      <th>original_language</th>\n",
       "      <th>production_companies</th>\n",
       "      <th>runtime</th>\n",
       "      <th>keywords</th>\n",
       "      <th>release_month</th>\n",
       "      <th>release_weekday</th>\n",
       "      <th>cast_names</th>\n",
       "      <th>production_companies_counter</th>\n",
       "      <th>title</th>\n",
       "      <th>genres_counter</th>\n",
       "      <th>main_actor_genre</th>\n",
       "    </tr>\n",
       "  </thead>\n",
       "  <tbody>\n",
       "    <tr>\n",
       "      <th>0</th>\n",
       "      <td>9.062216e+07</td>\n",
       "      <td>8.404599e+07</td>\n",
       "      <td>1.937812e+08</td>\n",
       "      <td>1.201958e+08</td>\n",
       "      <td>7.165012e+07</td>\n",
       "      <td>4.758371e+08</td>\n",
       "      <td>120</td>\n",
       "      <td>4.621252e+08</td>\n",
       "      <td>1.585923e+08</td>\n",
       "      <td>1.279176e+08</td>\n",
       "      <td>1.281867e+08</td>\n",
       "      <td>7</td>\n",
       "      <td>Your movie's</td>\n",
       "      <td>20</td>\n",
       "      <td>1.763220e+08</td>\n",
       "    </tr>\n",
       "  </tbody>\n",
       "</table>\n",
       "</div>"
      ],
      "text/plain": [
       "      directors       writers  belongs_to_collection        genres  \\\n",
       "0  9.062216e+07  8.404599e+07           1.937812e+08  1.201958e+08   \n",
       "\n",
       "   original_language  production_companies  runtime      keywords  \\\n",
       "0       7.165012e+07          4.758371e+08      120  4.621252e+08   \n",
       "\n",
       "   release_month  release_weekday    cast_names  production_companies_counter  \\\n",
       "0   1.585923e+08     1.279176e+08  1.281867e+08                             7   \n",
       "\n",
       "          title  genres_counter  main_actor_genre  \n",
       "0  Your movie's              20      1.763220e+08  "
      ]
     },
     "execution_count": 12,
     "metadata": {},
     "output_type": "execute_result"
    }
   ],
   "source": [
    "x"
   ]
  },
  {
   "cell_type": "code",
   "execution_count": 13,
   "metadata": {
    "scrolled": true
   },
   "outputs": [],
   "source": [
    "x= x.drop([\"title\"], axis = 1).values"
   ]
  },
  {
   "cell_type": "code",
   "execution_count": 14,
   "metadata": {},
   "outputs": [
    {
     "ename": "NameError",
     "evalue": "name 'values' is not defined",
     "output_type": "error",
     "traceback": [
      "\u001b[1;31m---------------------------------------------------------------------------\u001b[0m",
      "\u001b[1;31mNameError\u001b[0m                                 Traceback (most recent call last)",
      "\u001b[1;32m<ipython-input-14-0234f1d70131>\u001b[0m in \u001b[0;36m<module>\u001b[1;34m()\u001b[0m\n\u001b[1;32m----> 1\u001b[1;33m \u001b[0mvalues\u001b[0m\u001b[1;33m\u001b[0m\u001b[0m\n\u001b[0m",
      "\u001b[1;31mNameError\u001b[0m: name 'values' is not defined"
     ]
    }
   ],
   "source": [
    "values"
   ]
  },
  {
   "cell_type": "code",
   "execution_count": null,
   "metadata": {},
   "outputs": [],
   "source": [
    "revenue=xgbo.predict(values)[0]"
   ]
  },
  {
   "cell_type": "code",
   "execution_count": null,
   "metadata": {},
   "outputs": [],
   "source": [
    "revenue"
   ]
  },
  {
   "cell_type": "code",
   "execution_count": null,
   "metadata": {},
   "outputs": [],
   "source": [
    "test_df.iloc[0]"
   ]
  },
  {
   "cell_type": "code",
   "execution_count": null,
   "metadata": {},
   "outputs": [],
   "source": [
    "test_df.iloc[0][\"cast_names\"]"
   ]
  },
  {
   "cell_type": "code",
   "execution_count": null,
   "metadata": {},
   "outputs": [],
   "source": []
  },
  {
   "cell_type": "code",
   "execution_count": 15,
   "metadata": {},
   "outputs": [],
   "source": [
    "a=[\"fiohwe\",\"owe\",\"nfprij\"]"
   ]
  },
  {
   "cell_type": "code",
   "execution_count": 23,
   "metadata": {},
   "outputs": [],
   "source": [
    "b=(', '.join(a))"
   ]
  },
  {
   "cell_type": "code",
   "execution_count": 24,
   "metadata": {},
   "outputs": [
    {
     "data": {
      "text/plain": [
       "'fiohwe, owe, nfprij'"
      ]
     },
     "execution_count": 24,
     "metadata": {},
     "output_type": "execute_result"
    }
   ],
   "source": [
    "b"
   ]
  },
  {
   "cell_type": "code",
   "execution_count": null,
   "metadata": {},
   "outputs": [],
   "source": []
  },
  {
   "cell_type": "code",
   "execution_count": 25,
   "metadata": {},
   "outputs": [],
   "source": [
    "release_month=[\"5\"]"
   ]
  },
  {
   "cell_type": "code",
   "execution_count": 26,
   "metadata": {},
   "outputs": [
    {
     "data": {
      "text/plain": [
       "'5'"
      ]
     },
     "execution_count": 26,
     "metadata": {},
     "output_type": "execute_result"
    }
   ],
   "source": [
    "release_month[0]"
   ]
  },
  {
   "cell_type": "code",
   "execution_count": null,
   "metadata": {},
   "outputs": [],
   "source": []
  },
  {
   "cell_type": "code",
   "execution_count": 29,
   "metadata": {},
   "outputs": [
    {
     "data": {
      "text/plain": [
       "'82,444,880'"
      ]
     },
     "execution_count": 29,
     "metadata": {},
     "output_type": "execute_result"
    }
   ],
   "source": [
    "'{0:,}'.format(82444880)"
   ]
  },
  {
   "cell_type": "code",
   "execution_count": 35,
   "metadata": {},
   "outputs": [
    {
     "data": {
      "text/plain": [
       "array([[list(['Ruben Fleischer']),\n",
       "        list(['Jeff Pinkner', 'Scott Rosenberg', 'Kelly Marcel', 'Todd McFarlane', 'David Michelinie']),\n",
       "        list(['Venom Collection']), list(['Action', 'Science Fiction']),\n",
       "        'en',\n",
       "        list(['Avi Arad Productions', 'Columbia Pictures Corporation', 'Marvel Entertainment', 'Matt Tolmach Productions', 'Pascal Pictures', 'Sony Pictures Entertainment (SPE)', 'Tencent Pictures']),\n",
       "        112,\n",
       "        list(['anti hero', 'based on comic', 'marvel comics', 'sony spiderverse']),\n",
       "        list([10]), list([4]),\n",
       "        list(['Tom Hardy', 'Michelle Williams', 'Riz Ahmed', 'Scott Haze']),\n",
       "        7, 'Venom', 2, list([2])],\n",
       "       [list(['Bradley Cooper']),\n",
       "        list(['Eric Roth', 'Bradley Cooper', 'Will Fetters', 'Moss Hart', 'John Gregory Dunne', 'Joan Didion', 'Frank Pierson', 'William A. Wellman', 'Robert Carson']),\n",
       "        list(['No']), list(['Drama', 'Music', 'Romance']), 'en',\n",
       "        list(['Warner Bros. Pictures', 'Live Nation Productions', 'Metro-Goldwyn-Mayer (MGM)', 'Peters Entertainment', 'Gerber Pictures', 'Joint Effort', 'Malpaso Productions', 'Thunder Road Pictures']),\n",
       "        136,\n",
       "        list(['alcoholism', 'singer songwriter', 'alcoholic', 'singer', 'showbiz']),\n",
       "        list([10]), list([4]),\n",
       "        list(['Lady Gaga', 'Bradley Cooper', 'Sam Elliott', 'Andrew Dice Clay']),\n",
       "        8, 'A Star is born', 3, list([1])],\n",
       "       [list(['Ol Parker']),\n",
       "        list(['Ol Parker', 'Richard Curtis', 'Catherine Johnson', 'Judy Craymer', 'ABBA']),\n",
       "        list(['Mamma Mia! Collection']),\n",
       "        list(['Comedy', 'Music', 'Romance']), 'en',\n",
       "        list(['Universal Pictures', 'Legendary Entertainment', 'Perfect World Pictures', 'Littlestar', 'Playtone', 'Dentsu', 'Fuji Television Network', 'Croatian Audiovisual Centre']),\n",
       "        114,\n",
       "        list(['sequel', 'reference to abba', 'younger version of self', 'hotel', 'grand opening']),\n",
       "        list([7]), list([4]),\n",
       "        list(['Amanda Seyfried', 'Andy Garcia', 'Celia Imrie', 'Lily James']),\n",
       "        8, 'Mamma Mia! Here We Go Again', 3, list([1])],\n",
       "       [list(['Ryan Coogler']),\n",
       "        list(['Joe Robert Cole', 'Ryan Coogler']),\n",
       "        list(['Black Panther Collection']),\n",
       "        list(['Action', 'Adventure', 'Science Fiction']), 'en',\n",
       "        list(['Marvel Studios', 'Moonlighting Films', 'Korean Film Council', 'Film Victoria', 'Walt Disney Pictures']),\n",
       "        134,\n",
       "        list(['marvel comic', 'king', 'superhero', 'based on comic', 'africa']),\n",
       "        list([2]), list([4]),\n",
       "        list(['Chadwick Boseman', 'Michael B. Jordan', \"Lupita Nyong'o\", 'Danai Gurira']),\n",
       "        5, 'Black Panther', 3, list([2])],\n",
       "       [list(['Anthony Russo', 'Joe Russo']),\n",
       "        list(['Stan Lee', 'Stephen McFeely', 'Christopher Markus']),\n",
       "        list(['Avengers Collection']),\n",
       "        list(['Action', 'Adventure', 'Science Fiction', 'Fantasy']),\n",
       "        'en',\n",
       "        list(['Marvel Studios', 'Jason Roberts Productions', 'South Pictures']),\n",
       "        149,\n",
       "        list(['marvel comic', 'death of recurring character', 'superhero', 'based on comic', 'supervillian', 'ensemble cast', 'iron man character']),\n",
       "        list([4]), list([4]),\n",
       "        list(['Robert Downey Jr.', 'Chris Hemsworth', 'Mark Ruffalo', 'Chris Evans']),\n",
       "        3, 'Avengers: Infinity War', 4, list([2])]], dtype=object)"
      ]
     },
     "execution_count": 35,
     "metadata": {},
     "output_type": "execute_result"
    }
   ],
   "source": [
    "test_df.values"
   ]
  },
  {
   "cell_type": "markdown",
   "metadata": {},
   "source": [
    "## Play"
   ]
  },
  {
   "cell_type": "code",
   "execution_count": 33,
   "metadata": {
    "scrolled": true
   },
   "outputs": [
    {
     "data": {
      "text/html": [
       "<div>\n",
       "<style scoped>\n",
       "    .dataframe tbody tr th:only-of-type {\n",
       "        vertical-align: middle;\n",
       "    }\n",
       "\n",
       "    .dataframe tbody tr th {\n",
       "        vertical-align: top;\n",
       "    }\n",
       "\n",
       "    .dataframe thead th {\n",
       "        text-align: right;\n",
       "    }\n",
       "</style>\n",
       "<table border=\"1\" class=\"dataframe\">\n",
       "  <thead>\n",
       "    <tr style=\"text-align: right;\">\n",
       "      <th></th>\n",
       "      <th>directors</th>\n",
       "      <th>writers</th>\n",
       "      <th>belongs_to_collection</th>\n",
       "      <th>genres</th>\n",
       "      <th>original_language</th>\n",
       "      <th>production_companies</th>\n",
       "      <th>runtime</th>\n",
       "      <th>keywords</th>\n",
       "      <th>release_month</th>\n",
       "      <th>release_weekday</th>\n",
       "      <th>cast_names</th>\n",
       "      <th>production_companies_counter</th>\n",
       "      <th>title</th>\n",
       "      <th>genres_counter</th>\n",
       "      <th>main_actor_genre</th>\n",
       "    </tr>\n",
       "  </thead>\n",
       "  <tbody>\n",
       "    <tr>\n",
       "      <th>0</th>\n",
       "      <td>[Ruben Fleischer]</td>\n",
       "      <td>[Jeff Pinkner, Scott Rosenberg, Kelly Marcel, ...</td>\n",
       "      <td>[Venom Collection]</td>\n",
       "      <td>[Action, Science Fiction]</td>\n",
       "      <td>en</td>\n",
       "      <td>[Avi Arad Productions, Columbia Pictures Corpo...</td>\n",
       "      <td>112</td>\n",
       "      <td>[anti hero, based on comic, marvel comics, son...</td>\n",
       "      <td>[10]</td>\n",
       "      <td>[4]</td>\n",
       "      <td>[Tom Hardy, Michelle Williams, Riz Ahmed, Scot...</td>\n",
       "      <td>7</td>\n",
       "      <td>Venom</td>\n",
       "      <td>2</td>\n",
       "      <td>[2]</td>\n",
       "    </tr>\n",
       "    <tr>\n",
       "      <th>1</th>\n",
       "      <td>[Bradley Cooper]</td>\n",
       "      <td>[Eric Roth, Bradley Cooper, Will Fetters, Moss...</td>\n",
       "      <td>[No]</td>\n",
       "      <td>[Drama, Music, Romance]</td>\n",
       "      <td>en</td>\n",
       "      <td>[Warner Bros. Pictures, Live Nation Production...</td>\n",
       "      <td>136</td>\n",
       "      <td>[alcoholism, singer songwriter, alcoholic, sin...</td>\n",
       "      <td>[10]</td>\n",
       "      <td>[4]</td>\n",
       "      <td>[Lady Gaga, Bradley Cooper, Sam Elliott, Andre...</td>\n",
       "      <td>8</td>\n",
       "      <td>A Star is born</td>\n",
       "      <td>3</td>\n",
       "      <td>[1]</td>\n",
       "    </tr>\n",
       "    <tr>\n",
       "      <th>2</th>\n",
       "      <td>[Ol Parker]</td>\n",
       "      <td>[Ol Parker, Richard Curtis, Catherine Johnson,...</td>\n",
       "      <td>[Mamma Mia! Collection]</td>\n",
       "      <td>[Comedy, Music, Romance]</td>\n",
       "      <td>en</td>\n",
       "      <td>[Universal Pictures, Legendary Entertainment, ...</td>\n",
       "      <td>114</td>\n",
       "      <td>[sequel, reference to abba, younger version of...</td>\n",
       "      <td>[7]</td>\n",
       "      <td>[4]</td>\n",
       "      <td>[Amanda Seyfried, Andy Garcia, Celia Imrie, Li...</td>\n",
       "      <td>8</td>\n",
       "      <td>Mamma Mia! Here We Go Again</td>\n",
       "      <td>3</td>\n",
       "      <td>[1]</td>\n",
       "    </tr>\n",
       "    <tr>\n",
       "      <th>3</th>\n",
       "      <td>[Ryan Coogler]</td>\n",
       "      <td>[Joe Robert Cole, Ryan Coogler]</td>\n",
       "      <td>[Black Panther Collection]</td>\n",
       "      <td>[Action, Adventure, Science Fiction]</td>\n",
       "      <td>en</td>\n",
       "      <td>[Marvel Studios, Moonlighting Films, Korean Fi...</td>\n",
       "      <td>134</td>\n",
       "      <td>[marvel comic, king, superhero, based on comic...</td>\n",
       "      <td>[2]</td>\n",
       "      <td>[4]</td>\n",
       "      <td>[Chadwick Boseman, Michael B. Jordan, Lupita N...</td>\n",
       "      <td>5</td>\n",
       "      <td>Black Panther</td>\n",
       "      <td>3</td>\n",
       "      <td>[2]</td>\n",
       "    </tr>\n",
       "    <tr>\n",
       "      <th>4</th>\n",
       "      <td>[Anthony Russo, Joe Russo]</td>\n",
       "      <td>[Stan Lee, Stephen McFeely, Christopher Markus]</td>\n",
       "      <td>[Avengers Collection]</td>\n",
       "      <td>[Action, Adventure, Science Fiction, Fantasy]</td>\n",
       "      <td>en</td>\n",
       "      <td>[Marvel Studios, Jason Roberts Productions, So...</td>\n",
       "      <td>149</td>\n",
       "      <td>[marvel comic, death of recurring character, s...</td>\n",
       "      <td>[4]</td>\n",
       "      <td>[4]</td>\n",
       "      <td>[Robert Downey Jr., Chris Hemsworth, Mark Ruff...</td>\n",
       "      <td>3</td>\n",
       "      <td>Avengers: Infinity War</td>\n",
       "      <td>4</td>\n",
       "      <td>[2]</td>\n",
       "    </tr>\n",
       "  </tbody>\n",
       "</table>\n",
       "</div>"
      ],
      "text/plain": [
       "                    directors  \\\n",
       "0           [Ruben Fleischer]   \n",
       "1            [Bradley Cooper]   \n",
       "2                 [Ol Parker]   \n",
       "3              [Ryan Coogler]   \n",
       "4  [Anthony Russo, Joe Russo]   \n",
       "\n",
       "                                             writers  \\\n",
       "0  [Jeff Pinkner, Scott Rosenberg, Kelly Marcel, ...   \n",
       "1  [Eric Roth, Bradley Cooper, Will Fetters, Moss...   \n",
       "2  [Ol Parker, Richard Curtis, Catherine Johnson,...   \n",
       "3                    [Joe Robert Cole, Ryan Coogler]   \n",
       "4    [Stan Lee, Stephen McFeely, Christopher Markus]   \n",
       "\n",
       "        belongs_to_collection                                         genres  \\\n",
       "0          [Venom Collection]                      [Action, Science Fiction]   \n",
       "1                        [No]                        [Drama, Music, Romance]   \n",
       "2     [Mamma Mia! Collection]                       [Comedy, Music, Romance]   \n",
       "3  [Black Panther Collection]           [Action, Adventure, Science Fiction]   \n",
       "4       [Avengers Collection]  [Action, Adventure, Science Fiction, Fantasy]   \n",
       "\n",
       "  original_language                               production_companies  \\\n",
       "0                en  [Avi Arad Productions, Columbia Pictures Corpo...   \n",
       "1                en  [Warner Bros. Pictures, Live Nation Production...   \n",
       "2                en  [Universal Pictures, Legendary Entertainment, ...   \n",
       "3                en  [Marvel Studios, Moonlighting Films, Korean Fi...   \n",
       "4                en  [Marvel Studios, Jason Roberts Productions, So...   \n",
       "\n",
       "  runtime                                           keywords release_month  \\\n",
       "0     112  [anti hero, based on comic, marvel comics, son...          [10]   \n",
       "1     136  [alcoholism, singer songwriter, alcoholic, sin...          [10]   \n",
       "2     114  [sequel, reference to abba, younger version of...           [7]   \n",
       "3     134  [marvel comic, king, superhero, based on comic...           [2]   \n",
       "4     149  [marvel comic, death of recurring character, s...           [4]   \n",
       "\n",
       "  release_weekday                                         cast_names  \\\n",
       "0             [4]  [Tom Hardy, Michelle Williams, Riz Ahmed, Scot...   \n",
       "1             [4]  [Lady Gaga, Bradley Cooper, Sam Elliott, Andre...   \n",
       "2             [4]  [Amanda Seyfried, Andy Garcia, Celia Imrie, Li...   \n",
       "3             [4]  [Chadwick Boseman, Michael B. Jordan, Lupita N...   \n",
       "4             [4]  [Robert Downey Jr., Chris Hemsworth, Mark Ruff...   \n",
       "\n",
       "  production_companies_counter                        title  genres_counter  \\\n",
       "0                            7                        Venom               2   \n",
       "1                            8               A Star is born               3   \n",
       "2                            8  Mamma Mia! Here We Go Again               3   \n",
       "3                            5                Black Panther               3   \n",
       "4                            3       Avengers: Infinity War               4   \n",
       "\n",
       "  main_actor_genre  \n",
       "0              [2]  \n",
       "1              [1]  \n",
       "2              [1]  \n",
       "3              [2]  \n",
       "4              [2]  "
      ]
     },
     "execution_count": 33,
     "metadata": {},
     "output_type": "execute_result"
    }
   ],
   "source": [
    "test_df = pd.read_pickle(\"data/test_df.pkl\")\n",
    "test_df"
   ]
  },
  {
   "cell_type": "code",
   "execution_count": 6,
   "metadata": {},
   "outputs": [],
   "source": [
    "def Reves(dataframe):\n",
    "    xgbo = pickle.load(open(\"xgbo_model.pkl\",\"rb\"))\n",
    "    X = dataframe.drop([\"title\"], axis = 1).values\n",
    "    dataframe[\"Revenue (MM$)\"] = xgbo.predict(X) / 1e6\n",
    "    return dataframe[[\"title\", \"Revenue (MM$)\"]]"
   ]
  },
  {
   "cell_type": "code",
   "execution_count": 7,
   "metadata": {},
   "outputs": [
    {
     "data": {
      "text/html": [
       "<div>\n",
       "<style scoped>\n",
       "    .dataframe tbody tr th:only-of-type {\n",
       "        vertical-align: middle;\n",
       "    }\n",
       "\n",
       "    .dataframe tbody tr th {\n",
       "        vertical-align: top;\n",
       "    }\n",
       "\n",
       "    .dataframe thead th {\n",
       "        text-align: right;\n",
       "    }\n",
       "</style>\n",
       "<table border=\"1\" class=\"dataframe\">\n",
       "  <thead>\n",
       "    <tr style=\"text-align: right;\">\n",
       "      <th></th>\n",
       "      <th>title</th>\n",
       "      <th>Revenue (MM$)</th>\n",
       "    </tr>\n",
       "  </thead>\n",
       "  <tbody>\n",
       "    <tr>\n",
       "      <th>0</th>\n",
       "      <td>Venom</td>\n",
       "      <td>171.874374</td>\n",
       "    </tr>\n",
       "    <tr>\n",
       "      <th>1</th>\n",
       "      <td>A Star is born</td>\n",
       "      <td>92.528725</td>\n",
       "    </tr>\n",
       "    <tr>\n",
       "      <th>2</th>\n",
       "      <td>Mamma Mia! Here We Go Again</td>\n",
       "      <td>127.554619</td>\n",
       "    </tr>\n",
       "    <tr>\n",
       "      <th>3</th>\n",
       "      <td>Black Panther</td>\n",
       "      <td>210.864822</td>\n",
       "    </tr>\n",
       "    <tr>\n",
       "      <th>4</th>\n",
       "      <td>Avengers: Infinity War</td>\n",
       "      <td>311.391235</td>\n",
       "    </tr>\n",
       "  </tbody>\n",
       "</table>\n",
       "</div>"
      ],
      "text/plain": [
       "                         title  Revenue (MM$)\n",
       "0                        Venom     171.874374\n",
       "1               A Star is born      92.528725\n",
       "2  Mamma Mia! Here We Go Again     127.554619\n",
       "3                Black Panther     210.864822\n",
       "4       Avengers: Infinity War     311.391235"
      ]
     },
     "execution_count": 7,
     "metadata": {},
     "output_type": "execute_result"
    }
   ],
   "source": [
    "Reves(test_df)"
   ]
  }
 ],
 "metadata": {
  "kernelspec": {
   "display_name": "Python 3",
   "language": "python",
   "name": "python3"
  }
 },
 "nbformat": 4,
 "nbformat_minor": 2
}
