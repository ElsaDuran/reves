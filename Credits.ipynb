{
 "cells": [
  {
   "cell_type": "code",
   "execution_count": 1,
   "metadata": {
    "collapsed": true
   },
   "outputs": [],
   "source": [
    "import matplotlib.pyplot as plt\n",
    "import numpy as np\n",
    "import pandas as pd\n",
    "import ast\n",
    "from functools import reduce\n",
    "import collections\n",
    "%matplotlib inline"
   ]
  },
  {
   "cell_type": "markdown",
   "metadata": {},
   "source": [
    "#### CREDITS DATA SET\n",
    "\n",
    "Let's analyze the data set of Credits. The target is to see what information there is, how it is structured, if there are null or empty data and finally obtain a final data set with the information that may be useful for the model"
   ]
  },
  {
   "cell_type": "code",
   "execution_count": 2,
   "metadata": {
    "collapsed": true
   },
   "outputs": [],
   "source": [
    "# The reason you get this low_memory warning is because guessing dtypes for each column is very memory demanding. \n",
    "# Pandas tries to determine what dtype to set by analyzing the data in each column\n",
    "\n",
    "df_credits = pd.read_csv(\"the_movies_dataset/credits.csv\", low_memory = False)"
   ]
  },
  {
   "cell_type": "code",
   "execution_count": 3,
   "metadata": {},
   "outputs": [
    {
     "data": {
      "text/html": [
       "<div>\n",
       "<style>\n",
       "    .dataframe thead tr:only-child th {\n",
       "        text-align: right;\n",
       "    }\n",
       "\n",
       "    .dataframe thead th {\n",
       "        text-align: left;\n",
       "    }\n",
       "\n",
       "    .dataframe tbody tr th {\n",
       "        vertical-align: top;\n",
       "    }\n",
       "</style>\n",
       "<table border=\"1\" class=\"dataframe\">\n",
       "  <thead>\n",
       "    <tr style=\"text-align: right;\">\n",
       "      <th></th>\n",
       "      <th>cast</th>\n",
       "      <th>crew</th>\n",
       "      <th>id</th>\n",
       "    </tr>\n",
       "  </thead>\n",
       "  <tbody>\n",
       "    <tr>\n",
       "      <th>0</th>\n",
       "      <td>[{'cast_id': 14, 'character': 'Woody (voice)',...</td>\n",
       "      <td>[{'credit_id': '52fe4284c3a36847f8024f49', 'de...</td>\n",
       "      <td>862</td>\n",
       "    </tr>\n",
       "    <tr>\n",
       "      <th>1</th>\n",
       "      <td>[{'cast_id': 1, 'character': 'Alan Parrish', '...</td>\n",
       "      <td>[{'credit_id': '52fe44bfc3a36847f80a7cd1', 'de...</td>\n",
       "      <td>8844</td>\n",
       "    </tr>\n",
       "    <tr>\n",
       "      <th>2</th>\n",
       "      <td>[{'cast_id': 2, 'character': 'Max Goldman', 'c...</td>\n",
       "      <td>[{'credit_id': '52fe466a9251416c75077a89', 'de...</td>\n",
       "      <td>15602</td>\n",
       "    </tr>\n",
       "    <tr>\n",
       "      <th>3</th>\n",
       "      <td>[{'cast_id': 1, 'character': \"Savannah 'Vannah...</td>\n",
       "      <td>[{'credit_id': '52fe44779251416c91011acb', 'de...</td>\n",
       "      <td>31357</td>\n",
       "    </tr>\n",
       "    <tr>\n",
       "      <th>4</th>\n",
       "      <td>[{'cast_id': 1, 'character': 'George Banks', '...</td>\n",
       "      <td>[{'credit_id': '52fe44959251416c75039ed7', 'de...</td>\n",
       "      <td>11862</td>\n",
       "    </tr>\n",
       "  </tbody>\n",
       "</table>\n",
       "</div>"
      ],
      "text/plain": [
       "                                                cast  \\\n",
       "0  [{'cast_id': 14, 'character': 'Woody (voice)',...   \n",
       "1  [{'cast_id': 1, 'character': 'Alan Parrish', '...   \n",
       "2  [{'cast_id': 2, 'character': 'Max Goldman', 'c...   \n",
       "3  [{'cast_id': 1, 'character': \"Savannah 'Vannah...   \n",
       "4  [{'cast_id': 1, 'character': 'George Banks', '...   \n",
       "\n",
       "                                                crew     id  \n",
       "0  [{'credit_id': '52fe4284c3a36847f8024f49', 'de...    862  \n",
       "1  [{'credit_id': '52fe44bfc3a36847f80a7cd1', 'de...   8844  \n",
       "2  [{'credit_id': '52fe466a9251416c75077a89', 'de...  15602  \n",
       "3  [{'credit_id': '52fe44779251416c91011acb', 'de...  31357  \n",
       "4  [{'credit_id': '52fe44959251416c75039ed7', 'de...  11862  "
      ]
     },
     "execution_count": 3,
     "metadata": {},
     "output_type": "execute_result"
    }
   ],
   "source": [
    "df_credits.head(5)"
   ]
  },
  {
   "cell_type": "code",
   "execution_count": 4,
   "metadata": {},
   "outputs": [
    {
     "name": "stdout",
     "output_type": "stream",
     "text": [
      "<class 'pandas.core.frame.DataFrame'>\n",
      "RangeIndex: 45476 entries, 0 to 45475\n",
      "Data columns (total 3 columns):\n",
      "cast    45476 non-null object\n",
      "crew    45476 non-null object\n",
      "id      45476 non-null int64\n",
      "dtypes: int64(1), object(2)\n",
      "memory usage: 1.0+ MB\n"
     ]
    }
   ],
   "source": [
    "df_credits.info()"
   ]
  },
  {
   "cell_type": "code",
   "execution_count": 5,
   "metadata": {},
   "outputs": [
    {
     "data": {
      "text/plain": [
       "cast    0\n",
       "crew    0\n",
       "id      0\n",
       "dtype: int64"
      ]
     },
     "execution_count": 5,
     "metadata": {},
     "output_type": "execute_result"
    }
   ],
   "source": [
    "df_credits.isnull().sum()"
   ]
  },
  {
   "cell_type": "markdown",
   "metadata": {},
   "source": [
    "After a first view of the dataframe we can see that there are 3 variables: cast, crew and id of the movie.\n",
    "<br>\n",
    "There are 45476 records and apparently no null data.\n",
    "<br>\n",
    "Let's see the information of each variable."
   ]
  },
  {
   "cell_type": "code",
   "execution_count": 6,
   "metadata": {},
   "outputs": [
    {
     "data": {
      "text/plain": [
       "\"[{'cast_id': 14, 'character': 'Woody (voice)', 'credit_id': '52fe4284c3a36847f8024f95', 'gender': 2, 'id': 31, 'name': 'Tom Hanks', 'order': 0, 'profile_path': '/pQFoyx7rp09CJTAb932F2g8Nlho.jpg'}, {'cast_id': 15, 'character': 'Buzz Lightyear (voice)', 'credit_id': '52fe4284c3a36847f8024f99', 'gender': 2, 'id': 12898, 'name': 'Tim Allen', 'order': 1, 'profile_path': '/uX2xVf6pMmPepxnvFWyBtjexzgY.jpg'}, {'cast_id': 16, 'character': 'Mr. Potato Head (voice)', 'credit_id': '52fe4284c3a36847f8024f9d', 'gender': 2, 'id': 7167, 'name': 'Don Rickles', 'order': 2, 'profile_path': '/h5BcaDMPRVLHLDzbQavec4xfSdt.jpg'}, {'cast_id': 17, 'character': 'Slinky Dog (voice)', 'credit_id': '52fe4284c3a36847f8024fa1', 'gender': 2, 'id': 12899, 'name': 'Jim Varney', 'order': 3, 'profile_path': '/eIo2jVVXYgjDtaHoF19Ll9vtW7h.jpg'}, {'cast_id': 18, 'character': 'Rex (voice)', 'credit_id': '52fe4284c3a36847f8024fa5', 'gender': 2, 'id': 12900, 'name': 'Wallace Shawn', 'order': 4, 'profile_path': '/oGE6JqPP2xH4tN\""
      ]
     },
     "execution_count": 6,
     "metadata": {},
     "output_type": "execute_result"
    }
   ],
   "source": [
    "df_credits[\"cast\"][0][0:1000]"
   ]
  },
  {
   "cell_type": "code",
   "execution_count": 7,
   "metadata": {},
   "outputs": [
    {
     "data": {
      "text/plain": [
       "\"[{'credit_id': '52fe4284c3a36847f8024f49', 'department': 'Directing', 'gender': 2, 'id': 7879, 'job': 'Director', 'name': 'John Lasseter', 'profile_path': '/7EdqiNbr4FRjIhKHyPPdFfEEEFG.jpg'}, {'credit_id': '52fe4284c3a36847f8024f4f', 'department': 'Writing', 'gender': 2, 'id': 12891, 'job': 'Screenplay', 'name': 'Joss Whedon', 'profile_path': '/dTiVsuaTVTeGmvkhcyJvKp2A5kr.jpg'}, {'credit_id': '52fe4284c3a36847f8024f55', 'department': 'Writing', 'gender': 2, 'id': 7, 'job': 'Screenplay', 'name': 'Andrew Stanton', 'profile_path': '/pvQWsu0qc8JFQhMVJkTHuexUAa1.jpg'}, {'credit_id': '52fe4284c3a36847f8024f5b', 'department': 'Writing', 'gender': 2, 'id': 12892, 'job': 'Screenplay', 'name': 'Joel Cohen', 'profile_path': '/dAubAiZcvKFbboWlj7oXOkZnTSu.jpg'}, {'credit_id': '52fe4284c3a36847f8024f61', 'department': 'Writing', 'gender': 0, 'id': 12893, 'job': 'Screenplay', 'name': 'Alec Sokolow', 'profile_path': '/v79vlRYi94BZUQnkkyznbGUZLjT.jpg'}, {'credit_id': '52fe4284c3a36847f8024f67', 'depart\""
      ]
     },
     "execution_count": 7,
     "metadata": {},
     "output_type": "execute_result"
    }
   ],
   "source": [
    "df_credits[\"crew\"][0][0:1000]"
   ]
  },
  {
   "cell_type": "code",
   "execution_count": 8,
   "metadata": {},
   "outputs": [
    {
     "data": {
      "text/plain": [
       "862"
      ]
     },
     "execution_count": 8,
     "metadata": {},
     "output_type": "execute_result"
    }
   ],
   "source": [
    "df_credits[\"id\"][0]"
   ]
  },
  {
   "cell_type": "markdown",
   "metadata": {},
   "source": [
    "#### Cast Column"
   ]
  },
  {
   "cell_type": "markdown",
   "metadata": {},
   "source": [
    "We can see that the information in the variables \"cast\" and \"crew\" are in JSON format. There are lists of dicts.\n",
    "<br>\n",
    "We are going to convert the JSON data into a list of dicts. This operation we will use it more times, so we create a function."
   ]
  },
  {
   "cell_type": "code",
   "execution_count": 9,
   "metadata": {
    "collapsed": true
   },
   "outputs": [],
   "source": [
    "def to_list(column, key):\n",
    "    \n",
    "    new_column = column.fillna('[]').apply(ast.literal_eval).apply(lambda x: [i[key] for i in x] \n",
    "                                                                   if isinstance(x, list) else [])\n",
    "    \n",
    "    return new_column"
   ]
  },
  {
   "cell_type": "markdown",
   "metadata": {},
   "source": [
    "This function takes the values of the key that are in the dictionary. For example, if we want the cast names we need to assign key = \"name\" in the input of the function.\n",
    "\n",
    "As we see above we have the following keys per movie:\n",
    "* cast_id\n",
    "* character\n",
    "* credit_id\n",
    "* gender\n",
    "* id\n",
    "* name\n",
    "* order\n",
    "* profile_path\n",
    "\n",
    "For the purpose of this project we only take the cast names and the cast gender. And we think that we don't need all the cast per movie, only the main 4 actors/actresses."
   ]
  },
  {
   "cell_type": "code",
   "execution_count": 10,
   "metadata": {},
   "outputs": [],
   "source": [
    "df_credits[\"cast_names\"] = to_list(df_credits[\"cast\"], \"name\")\n",
    "df_credits[\"cast_gender\"] = to_list(df_credits[\"cast\"], \"gender\")\n",
    "df_credits[\"cast_order\"] = to_list(df_credits[\"cast\"], \"order\")"
   ]
  },
  {
   "cell_type": "code",
   "execution_count": 11,
   "metadata": {},
   "outputs": [
    {
     "data": {
      "text/html": [
       "<div>\n",
       "<style>\n",
       "    .dataframe thead tr:only-child th {\n",
       "        text-align: right;\n",
       "    }\n",
       "\n",
       "    .dataframe thead th {\n",
       "        text-align: left;\n",
       "    }\n",
       "\n",
       "    .dataframe tbody tr th {\n",
       "        vertical-align: top;\n",
       "    }\n",
       "</style>\n",
       "<table border=\"1\" class=\"dataframe\">\n",
       "  <thead>\n",
       "    <tr style=\"text-align: right;\">\n",
       "      <th></th>\n",
       "      <th>cast</th>\n",
       "      <th>crew</th>\n",
       "      <th>id</th>\n",
       "      <th>cast_names</th>\n",
       "      <th>cast_gender</th>\n",
       "      <th>cast_order</th>\n",
       "    </tr>\n",
       "  </thead>\n",
       "  <tbody>\n",
       "    <tr>\n",
       "      <th>0</th>\n",
       "      <td>[{'cast_id': 14, 'character': 'Woody (voice)',...</td>\n",
       "      <td>[{'credit_id': '52fe4284c3a36847f8024f49', 'de...</td>\n",
       "      <td>862</td>\n",
       "      <td>[Tom Hanks, Tim Allen, Don Rickles, Jim Varney...</td>\n",
       "      <td>[2, 2, 2, 2, 2, 2, 1, 0, 2, 1, 2, 1, 2]</td>\n",
       "      <td>[0, 1, 2, 3, 4, 5, 6, 7, 8, 9, 10, 11, 12]</td>\n",
       "    </tr>\n",
       "    <tr>\n",
       "      <th>1</th>\n",
       "      <td>[{'cast_id': 1, 'character': 'Alan Parrish', '...</td>\n",
       "      <td>[{'credit_id': '52fe44bfc3a36847f80a7cd1', 'de...</td>\n",
       "      <td>8844</td>\n",
       "      <td>[Robin Williams, Jonathan Hyde, Kirsten Dunst,...</td>\n",
       "      <td>[2, 2, 1, 0, 1, 1, 2, 1, 0, 1, 2, 1, 2, 0, 0, ...</td>\n",
       "      <td>[0, 1, 2, 3, 4, 5, 6, 7, 8, 9, 10, 11, 12, 13,...</td>\n",
       "    </tr>\n",
       "    <tr>\n",
       "      <th>2</th>\n",
       "      <td>[{'cast_id': 2, 'character': 'Max Goldman', 'c...</td>\n",
       "      <td>[{'credit_id': '52fe466a9251416c75077a89', 'de...</td>\n",
       "      <td>15602</td>\n",
       "      <td>[Walter Matthau, Jack Lemmon, Ann-Margret, Sop...</td>\n",
       "      <td>[2, 2, 1, 1, 1, 2, 2]</td>\n",
       "      <td>[0, 1, 2, 3, 4, 5, 6]</td>\n",
       "    </tr>\n",
       "    <tr>\n",
       "      <th>3</th>\n",
       "      <td>[{'cast_id': 1, 'character': \"Savannah 'Vannah...</td>\n",
       "      <td>[{'credit_id': '52fe44779251416c91011acb', 'de...</td>\n",
       "      <td>31357</td>\n",
       "      <td>[Whitney Houston, Angela Bassett, Loretta Devi...</td>\n",
       "      <td>[1, 1, 1, 1, 2, 2, 2, 2, 2, 2]</td>\n",
       "      <td>[0, 1, 2, 3, 4, 5, 6, 7, 8, 9]</td>\n",
       "    </tr>\n",
       "    <tr>\n",
       "      <th>4</th>\n",
       "      <td>[{'cast_id': 1, 'character': 'George Banks', '...</td>\n",
       "      <td>[{'credit_id': '52fe44959251416c75039ed7', 'de...</td>\n",
       "      <td>11862</td>\n",
       "      <td>[Steve Martin, Diane Keaton, Martin Short, Kim...</td>\n",
       "      <td>[2, 1, 2, 1, 2, 0, 2, 2, 1, 1, 2, 1]</td>\n",
       "      <td>[0, 1, 2, 3, 4, 5, 6, 7, 8, 9, 10, 11]</td>\n",
       "    </tr>\n",
       "  </tbody>\n",
       "</table>\n",
       "</div>"
      ],
      "text/plain": [
       "                                                cast  \\\n",
       "0  [{'cast_id': 14, 'character': 'Woody (voice)',...   \n",
       "1  [{'cast_id': 1, 'character': 'Alan Parrish', '...   \n",
       "2  [{'cast_id': 2, 'character': 'Max Goldman', 'c...   \n",
       "3  [{'cast_id': 1, 'character': \"Savannah 'Vannah...   \n",
       "4  [{'cast_id': 1, 'character': 'George Banks', '...   \n",
       "\n",
       "                                                crew     id  \\\n",
       "0  [{'credit_id': '52fe4284c3a36847f8024f49', 'de...    862   \n",
       "1  [{'credit_id': '52fe44bfc3a36847f80a7cd1', 'de...   8844   \n",
       "2  [{'credit_id': '52fe466a9251416c75077a89', 'de...  15602   \n",
       "3  [{'credit_id': '52fe44779251416c91011acb', 'de...  31357   \n",
       "4  [{'credit_id': '52fe44959251416c75039ed7', 'de...  11862   \n",
       "\n",
       "                                          cast_names  \\\n",
       "0  [Tom Hanks, Tim Allen, Don Rickles, Jim Varney...   \n",
       "1  [Robin Williams, Jonathan Hyde, Kirsten Dunst,...   \n",
       "2  [Walter Matthau, Jack Lemmon, Ann-Margret, Sop...   \n",
       "3  [Whitney Houston, Angela Bassett, Loretta Devi...   \n",
       "4  [Steve Martin, Diane Keaton, Martin Short, Kim...   \n",
       "\n",
       "                                         cast_gender  \\\n",
       "0            [2, 2, 2, 2, 2, 2, 1, 0, 2, 1, 2, 1, 2]   \n",
       "1  [2, 2, 1, 0, 1, 1, 2, 1, 0, 1, 2, 1, 2, 0, 0, ...   \n",
       "2                              [2, 2, 1, 1, 1, 2, 2]   \n",
       "3                     [1, 1, 1, 1, 2, 2, 2, 2, 2, 2]   \n",
       "4               [2, 1, 2, 1, 2, 0, 2, 2, 1, 1, 2, 1]   \n",
       "\n",
       "                                          cast_order  \n",
       "0         [0, 1, 2, 3, 4, 5, 6, 7, 8, 9, 10, 11, 12]  \n",
       "1  [0, 1, 2, 3, 4, 5, 6, 7, 8, 9, 10, 11, 12, 13,...  \n",
       "2                              [0, 1, 2, 3, 4, 5, 6]  \n",
       "3                     [0, 1, 2, 3, 4, 5, 6, 7, 8, 9]  \n",
       "4             [0, 1, 2, 3, 4, 5, 6, 7, 8, 9, 10, 11]  "
      ]
     },
     "execution_count": 11,
     "metadata": {},
     "output_type": "execute_result"
    }
   ],
   "source": [
    "df_credits.head()"
   ]
  },
  {
   "cell_type": "markdown",
   "metadata": {},
   "source": [
    "It seems that the cast are in order, but let's check it"
   ]
  },
  {
   "cell_type": "code",
   "execution_count": 12,
   "metadata": {},
   "outputs": [
    {
     "data": {
      "text/plain": [
       "True"
      ]
     },
     "execution_count": 12,
     "metadata": {},
     "output_type": "execute_result"
    }
   ],
   "source": [
    "example = [0, 1, 2, 3, 4, 5, 6]\n",
    "\n",
    "def is_order(input_list):\n",
    "    return all(input_list[i] <= input_list[i + 1] for i in range(len(input_list) - 1))\n",
    "    \n",
    "is_order(example)"
   ]
  },
  {
   "cell_type": "code",
   "execution_count": 13,
   "metadata": {},
   "outputs": [
    {
     "data": {
      "text/html": [
       "<div>\n",
       "<style>\n",
       "    .dataframe thead tr:only-child th {\n",
       "        text-align: right;\n",
       "    }\n",
       "\n",
       "    .dataframe thead th {\n",
       "        text-align: left;\n",
       "    }\n",
       "\n",
       "    .dataframe tbody tr th {\n",
       "        vertical-align: top;\n",
       "    }\n",
       "</style>\n",
       "<table border=\"1\" class=\"dataframe\">\n",
       "  <thead>\n",
       "    <tr style=\"text-align: right;\">\n",
       "      <th></th>\n",
       "      <th>cast</th>\n",
       "      <th>crew</th>\n",
       "      <th>id</th>\n",
       "      <th>cast_names</th>\n",
       "      <th>cast_gender</th>\n",
       "      <th>cast_order</th>\n",
       "    </tr>\n",
       "  </thead>\n",
       "  <tbody>\n",
       "  </tbody>\n",
       "</table>\n",
       "</div>"
      ],
      "text/plain": [
       "Empty DataFrame\n",
       "Columns: [cast, crew, id, cast_names, cast_gender, cast_order]\n",
       "Index: []"
      ]
     },
     "execution_count": 13,
     "metadata": {},
     "output_type": "execute_result"
    }
   ],
   "source": [
    "df_credits[df_credits[\"cast_order\"].apply(is_order) == False]"
   ]
  },
  {
   "cell_type": "markdown",
   "metadata": {},
   "source": [
    "Ok, so we take only the first 4 elements of cast_names and cast_order and drop cast and cast_order columns"
   ]
  },
  {
   "cell_type": "code",
   "execution_count": 14,
   "metadata": {},
   "outputs": [],
   "source": [
    "df_credits[\"cast_names\"] = df_credits[\"cast_names\"].apply(lambda x: x[0:4])\n",
    "df_credits[\"cast_gender\"] = df_credits[\"cast_gender\"].apply(lambda x: x[0:4])\n",
    "df_credits.drop(\"cast\", axis = 1, inplace = True)\n",
    "df_credits.drop(\"cast_order\", axis = 1, inplace = True)"
   ]
  },
  {
   "cell_type": "code",
   "execution_count": 15,
   "metadata": {},
   "outputs": [
    {
     "data": {
      "text/html": [
       "<div>\n",
       "<style>\n",
       "    .dataframe thead tr:only-child th {\n",
       "        text-align: right;\n",
       "    }\n",
       "\n",
       "    .dataframe thead th {\n",
       "        text-align: left;\n",
       "    }\n",
       "\n",
       "    .dataframe tbody tr th {\n",
       "        vertical-align: top;\n",
       "    }\n",
       "</style>\n",
       "<table border=\"1\" class=\"dataframe\">\n",
       "  <thead>\n",
       "    <tr style=\"text-align: right;\">\n",
       "      <th></th>\n",
       "      <th>crew</th>\n",
       "      <th>id</th>\n",
       "      <th>cast_names</th>\n",
       "      <th>cast_gender</th>\n",
       "    </tr>\n",
       "  </thead>\n",
       "  <tbody>\n",
       "    <tr>\n",
       "      <th>0</th>\n",
       "      <td>[{'credit_id': '52fe4284c3a36847f8024f49', 'de...</td>\n",
       "      <td>862</td>\n",
       "      <td>[Tom Hanks, Tim Allen, Don Rickles, Jim Varney]</td>\n",
       "      <td>[2, 2, 2, 2]</td>\n",
       "    </tr>\n",
       "    <tr>\n",
       "      <th>1</th>\n",
       "      <td>[{'credit_id': '52fe44bfc3a36847f80a7cd1', 'de...</td>\n",
       "      <td>8844</td>\n",
       "      <td>[Robin Williams, Jonathan Hyde, Kirsten Dunst,...</td>\n",
       "      <td>[2, 2, 1, 0]</td>\n",
       "    </tr>\n",
       "    <tr>\n",
       "      <th>2</th>\n",
       "      <td>[{'credit_id': '52fe466a9251416c75077a89', 'de...</td>\n",
       "      <td>15602</td>\n",
       "      <td>[Walter Matthau, Jack Lemmon, Ann-Margret, Sop...</td>\n",
       "      <td>[2, 2, 1, 1]</td>\n",
       "    </tr>\n",
       "    <tr>\n",
       "      <th>3</th>\n",
       "      <td>[{'credit_id': '52fe44779251416c91011acb', 'de...</td>\n",
       "      <td>31357</td>\n",
       "      <td>[Whitney Houston, Angela Bassett, Loretta Devi...</td>\n",
       "      <td>[1, 1, 1, 1]</td>\n",
       "    </tr>\n",
       "    <tr>\n",
       "      <th>4</th>\n",
       "      <td>[{'credit_id': '52fe44959251416c75039ed7', 'de...</td>\n",
       "      <td>11862</td>\n",
       "      <td>[Steve Martin, Diane Keaton, Martin Short, Kim...</td>\n",
       "      <td>[2, 1, 2, 1]</td>\n",
       "    </tr>\n",
       "  </tbody>\n",
       "</table>\n",
       "</div>"
      ],
      "text/plain": [
       "                                                crew     id  \\\n",
       "0  [{'credit_id': '52fe4284c3a36847f8024f49', 'de...    862   \n",
       "1  [{'credit_id': '52fe44bfc3a36847f80a7cd1', 'de...   8844   \n",
       "2  [{'credit_id': '52fe466a9251416c75077a89', 'de...  15602   \n",
       "3  [{'credit_id': '52fe44779251416c91011acb', 'de...  31357   \n",
       "4  [{'credit_id': '52fe44959251416c75039ed7', 'de...  11862   \n",
       "\n",
       "                                          cast_names   cast_gender  \n",
       "0    [Tom Hanks, Tim Allen, Don Rickles, Jim Varney]  [2, 2, 2, 2]  \n",
       "1  [Robin Williams, Jonathan Hyde, Kirsten Dunst,...  [2, 2, 1, 0]  \n",
       "2  [Walter Matthau, Jack Lemmon, Ann-Margret, Sop...  [2, 2, 1, 1]  \n",
       "3  [Whitney Houston, Angela Bassett, Loretta Devi...  [1, 1, 1, 1]  \n",
       "4  [Steve Martin, Diane Keaton, Martin Short, Kim...  [2, 1, 2, 1]  "
      ]
     },
     "execution_count": 15,
     "metadata": {},
     "output_type": "execute_result"
    }
   ],
   "source": [
    "df_credits.head()"
   ]
  },
  {
   "cell_type": "markdown",
   "metadata": {},
   "source": [
    "Let's see the most frequent cast names and the count difference between genders. For this we create a function that make a word count."
   ]
  },
  {
   "cell_type": "code",
   "execution_count": 16,
   "metadata": {},
   "outputs": [],
   "source": [
    "def word_count(dataframe, ref_variable):\n",
    "    values_list = []\n",
    "    \n",
    "    for elements_list in dataframe[ref_variable]:\n",
    "        for value in elements_list:\n",
    "            values_list.append(value)\n",
    "    \n",
    "    return collections.Counter(values_list)"
   ]
  },
  {
   "cell_type": "code",
   "execution_count": 17,
   "metadata": {},
   "outputs": [
    {
     "data": {
      "image/png": "[encoded data removed]",
      "text/plain": [
       "<matplotlib.figure.Figure at 0x1b71707acc0>"
      ]
     },
     "metadata": {},
     "output_type": "display_data"
    }
   ],
   "source": [
    "cast_counter = word_count(df_credits, \"cast_names\")\n",
    "plt.subplots(figsize = (10, 5))\n",
    "\n",
    "ax = pd.Series(cast_counter).sort_values(ascending = True)[-20:].plot.barh()\n",
    "ax.set_xlabel(\"Nº of movies\")\n",
    "ax.set_title(\"Cast Frequency\") \n",
    "\n",
    "plt.show()"
   ]
  },
  {
   "cell_type": "code",
   "execution_count": 18,
   "metadata": {},
   "outputs": [
    {
     "data": {
      "image/png": "[encoded data removed]",
      "text/plain": [
       "<matplotlib.figure.Figure at 0x1b716c941d0>"
      ]
     },
     "metadata": {},
     "output_type": "display_data"
    }
   ],
   "source": [
    "gender_counter = word_count(df_credits, \"cast_gender\")\n",
    "plt.subplots(figsize = (10, 5))\n",
    "\n",
    "ax = pd.Series(gender_counter).sort_values(ascending = False).plot.bar()\n",
    "ax.set_xlabel(\"Nº of movies\")\n",
    "ax.set_title(\"Gender Frequency\")\n",
    "\n",
    "plt.show()"
   ]
  },
  {
   "cell_type": "markdown",
   "metadata": {},
   "source": [
    "#### Crew Column"
   ]
  },
  {
   "cell_type": "markdown",
   "metadata": {},
   "source": [
    "In this case we don't know the keys we want as we did in the cast column. For this reason, we have first to convert this column into a list of dictionaries and see more deeply what we have."
   ]
  },
  {
   "cell_type": "code",
   "execution_count": 19,
   "metadata": {
    "collapsed": true
   },
   "outputs": [],
   "source": [
    "def to_dict(dataframe, column):\n",
    "    \n",
    "    dataframe[column] = dataframe[column].apply(lambda x: np.nan if pd.isnull(x) else ast.literal_eval(x))\n",
    "    return dataframe"
   ]
  },
  {
   "cell_type": "code",
   "execution_count": 20,
   "metadata": {
    "collapsed": true
   },
   "outputs": [],
   "source": [
    "df_credits = to_dict(df_credits, \"crew\")"
   ]
  },
  {
   "cell_type": "code",
   "execution_count": 21,
   "metadata": {},
   "outputs": [
    {
     "data": {
      "text/plain": [
       "[{'credit_id': '52fe4284c3a36847f8024f49',\n",
       "  'department': 'Directing',\n",
       "  'gender': 2,\n",
       "  'id': 7879,\n",
       "  'job': 'Director',\n",
       "  'name': 'John Lasseter',\n",
       "  'profile_path': '/7EdqiNbr4FRjIhKHyPPdFfEEEFG.jpg'},\n",
       " {'credit_id': '52fe4284c3a36847f8024f4f',\n",
       "  'department': 'Writing',\n",
       "  'gender': 2,\n",
       "  'id': 12891,\n",
       "  'job': 'Screenplay',\n",
       "  'name': 'Joss Whedon',\n",
       "  'profile_path': '/dTiVsuaTVTeGmvkhcyJvKp2A5kr.jpg'}]"
      ]
     },
     "execution_count": 21,
     "metadata": {},
     "output_type": "execute_result"
    }
   ],
   "source": [
    "df_credits[\"crew\"][0][0:2]"
   ]
  },
  {
   "cell_type": "markdown",
   "metadata": {},
   "source": [
    "As we see, there are several departments and different jobs per department with the information of the person. In a first instance, we will focus on obtaining the name of the director, producer and scriptwriter.\n",
    "\n",
    "So, first step is to check how many departments are and see the diferent jobs per department.\n",
    "<br>\n",
    "For this task we will create a dictionary in which the key will be the department and the values will be the diferent jobs."
   ]
  },
  {
   "cell_type": "code",
   "execution_count": 22,
   "metadata": {
    "collapsed": true
   },
   "outputs": [],
   "source": [
    "departments_dict = {}\n",
    "\n",
    "for i in df_credits[\"crew\"]:   \n",
    "    for j in range(len(i)): \n",
    "        \n",
    "        department = list(filter(lambda item: item[0] == \"department\", i[j].items()))[0][1]\n",
    "        job = list(filter(lambda item: item[0] == \"job\", i[j].items()))[0][1]\n",
    "        \n",
    "        if department not in departments_dict:\n",
    "            departments_dict[department] = [job]\n",
    "            \n",
    "        else:\n",
    "            if job not in departments_dict[department]:\n",
    "                departments_dict[department] += [job]"
   ]
  },
  {
   "cell_type": "markdown",
   "metadata": {},
   "source": [
    "How many jobs are per department?"
   ]
  },
  {
   "cell_type": "code",
   "execution_count": 23,
   "metadata": {},
   "outputs": [
    {
     "data": {
      "image/png": "[encoded data removed]",
      "text/plain": [
       "<matplotlib.figure.Figure at 0x1b76de169e8>"
      ]
     },
     "metadata": {},
     "output_type": "display_data"
    }
   ],
   "source": [
    "fig, ax = plt.subplots(figsize = (10, 6))\n",
    "\n",
    "values = list(map(lambda value: len(value), departments_dict.values()))\n",
    "departments = list(departments_dict.keys())\n",
    "y_pos = np.arange(len(departments))\n",
    "\n",
    "ax.barh(y_pos, values, color = \"skyblue\")\n",
    "ax.set_yticks(y_pos)\n",
    "ax.set_yticklabels(departments)\n",
    "\n",
    "for i, v in enumerate(values):\n",
    "    ax.text(v, i - 0.2, str(v), fontsize = 12, color = \"black\", weight = \"bold\")\n",
    "\n",
    "ax.set_xlabel(\"Nº of jobs\")\n",
    "ax.set_title(\"Nº of jobs per department\")    \n",
    "    \n",
    "plt.show()"
   ]
  },
  {
   "cell_type": "markdown",
   "metadata": {},
   "source": [
    "Let's see the different jobs in the departments: Production, Writing and Directing"
   ]
  },
  {
   "cell_type": "code",
   "execution_count": 24,
   "metadata": {},
   "outputs": [
    {
     "name": "stdout",
     "output_type": "stream",
     "text": [
      "Production\n",
      " ['Producer', 'Executive Producer', 'Production Supervisor', 'Production Coordinator', 'Casting Consultant', 'ADR Voice Casting', 'Casting', 'Associate Producer', 'Unit Production Manager', 'Casting Associate', 'Production Manager', 'Casting Assistant', 'Location Manager', 'Co-Producer', 'Production Accountant', 'Line Producer', 'Assistant Production Manager', 'Local Casting', 'Finance', 'Co-Executive Producer', 'Executive In Charge Of Post Production', 'Executive In Charge Of Production', 'Publicist', 'Unit Manager', 'Production Office Coordinator', 'Other', 'Assistant Production Coordinator', 'Character Technical Supervisor', 'Administration', 'Researcher', 'Executive Consultant', 'Supervising Producer', 'Script Researcher', 'Consulting Producer', 'Production Director', 'Development Manager', 'Coordinating Producer'] \n",
      "\n",
      "Writing\n",
      " ['Screenplay', 'Original Story', 'Novel', 'Characters', 'Writer', 'Story', 'Author', 'Adaptation', 'Script Editor', 'Storyboard', 'Theatre Play', 'Scenario Writer', 'Short Story', 'Screenstory', 'Book', 'Other', 'Dialogue', 'Idea', 'Comic Book', 'Musical', 'Teleplay', 'Story Editor', 'Opera', 'Co-Writer', 'Creative Producer', 'Script Consultant'] \n",
      "\n",
      "Directing\n",
      " ['Director', 'Layout', 'Script Supervisor', 'Assistant Director', 'First Assistant Director', 'Second Assistant Director', 'Other', 'Special Guest Director', 'Continuity', 'Script Coordinator', 'Third Assistant Director', 'Co-Director'] \n",
      "\n"
     ]
    }
   ],
   "source": [
    "for department in [\"Production\", \"Writing\", \"Directing\"]:\n",
    "    print(department + \"\\n\", departments_dict[department],\"\\n\")"
   ]
  },
  {
   "cell_type": "markdown",
   "metadata": {},
   "source": [
    "We extract the data that we consider relevant from a movie:\n",
    "- Director name (department Directing --> job Director)\n",
    "- Producer name (department Production --> job Producer)\n",
    "- Screenplay name (department Writing --> job Screenplay)\n",
    "<br>\n",
    "<br>\n",
    "(((In the event that a film has more than one director, producer or screenwriter, we only extract the first))) ??"
   ]
  },
  {
   "cell_type": "code",
   "execution_count": 25,
   "metadata": {
    "collapsed": true
   },
   "outputs": [],
   "source": [
    "# This code is using list comprehension \n",
    "# We go through the crew column and extract the required information\n",
    "\n",
    "producer_df = [[i[j][\"name\"] for j in range(len(i)) \n",
    "                if i[j][\"department\"] == \"Production\" and i[j][\"job\"] == \"Producer\"] \n",
    "                for i in df_credits[\"crew\"]]\n",
    "\n",
    "director_df = [[i[j][\"name\"] for j in range(len(i)) \n",
    "                if i[j][\"department\"] == \"Directing\" and i[j][\"job\"] == \"Director\"] \n",
    "                for i in df_credits[\"crew\"]]\n",
    "\n",
    "screenplay_df = [[i[j][\"name\"] for j in range(len(i)) \n",
    "                 if i[j][\"department\"] == \"Writing\" and i[j][\"job\"] == \"Screenplay\"] \n",
    "                 for i in df_credits[\"crew\"]]\n",
    "\n",
    "# In the event that a film has more than one director, producer or screenwriter, we extract the first one from the list. \n",
    "# In the event that a film does not have information about the director, producer or screenwriter, we extract it as NaN.\n",
    "\n",
    "# producer_df = [i[0] if len(i) != 0 else np.nan for i in producer_df]\n",
    "# director_df = [i[0] if len(i) != 0 else np.nan for i in director_df]\n",
    "# screenplay_df = [i[0] if len(i) != 0 else np.nan for i in screenplay_df]"
   ]
  },
  {
   "cell_type": "code",
   "execution_count": 26,
   "metadata": {},
   "outputs": [
    {
     "name": "stdout",
     "output_type": "stream",
     "text": [
      "[['Bonnie Arnold', 'Ralph Guggenheim'], ['Scott Kroopf', 'William Teitler'], [], ['Ronald Bass', 'Ezra Swerdlow', 'Deborah Schindler', 'Caron K']]\n",
      "[['John Lasseter'], ['Joe Johnston'], ['Howard Deutch'], ['Forest Whitaker']]\n",
      "[['Joss Whedon', 'Andrew Stanton', 'Joel Cohen', 'Alec Sokolow'], ['Jonathan Hensleigh', 'Greg Taylor', 'Jim Strain'], [], ['Ronald Bass', 'Terry McMillan']]\n"
     ]
    }
   ],
   "source": [
    "print(producer_df[:4])\n",
    "print(director_df[:4])\n",
    "print(screenplay_df[:4])"
   ]
  },
  {
   "cell_type": "markdown",
   "metadata": {},
   "source": [
    "Introduce in the Data Frame and remove the crew original column"
   ]
  },
  {
   "cell_type": "code",
   "execution_count": 27,
   "metadata": {
    "collapsed": true
   },
   "outputs": [],
   "source": [
    "# Remove originals cast and crew columns\n",
    "df_credits.drop(\"crew\", axis = 1, inplace = True)\n",
    "\n",
    "# Creation new columns\n",
    "df_credits[\"Director\"] = pd.Series(director_df).values\n",
    "df_credits[\"Producer\"] = pd.Series(producer_df).values\n",
    "df_credits[\"Screenplay\"] = pd.Series(screenplay_df).values"
   ]
  },
  {
   "cell_type": "code",
   "execution_count": 28,
   "metadata": {},
   "outputs": [
    {
     "data": {
      "text/html": [
       "<div>\n",
       "<style>\n",
       "    .dataframe thead tr:only-child th {\n",
       "        text-align: right;\n",
       "    }\n",
       "\n",
       "    .dataframe thead th {\n",
       "        text-align: left;\n",
       "    }\n",
       "\n",
       "    .dataframe tbody tr th {\n",
       "        vertical-align: top;\n",
       "    }\n",
       "</style>\n",
       "<table border=\"1\" class=\"dataframe\">\n",
       "  <thead>\n",
       "    <tr style=\"text-align: right;\">\n",
       "      <th></th>\n",
       "      <th>id</th>\n",
       "      <th>cast_names</th>\n",
       "      <th>cast_gender</th>\n",
       "      <th>Director</th>\n",
       "      <th>Producer</th>\n",
       "      <th>Screenplay</th>\n",
       "    </tr>\n",
       "  </thead>\n",
       "  <tbody>\n",
       "    <tr>\n",
       "      <th>0</th>\n",
       "      <td>862</td>\n",
       "      <td>[Tom Hanks, Tim Allen, Don Rickles, Jim Varney]</td>\n",
       "      <td>[2, 2, 2, 2]</td>\n",
       "      <td>[John Lasseter]</td>\n",
       "      <td>[Bonnie Arnold, Ralph Guggenheim]</td>\n",
       "      <td>[Joss Whedon, Andrew Stanton, Joel Cohen, Alec...</td>\n",
       "    </tr>\n",
       "    <tr>\n",
       "      <th>1</th>\n",
       "      <td>8844</td>\n",
       "      <td>[Robin Williams, Jonathan Hyde, Kirsten Dunst,...</td>\n",
       "      <td>[2, 2, 1, 0]</td>\n",
       "      <td>[Joe Johnston]</td>\n",
       "      <td>[Scott Kroopf, William Teitler]</td>\n",
       "      <td>[Jonathan Hensleigh, Greg Taylor, Jim Strain]</td>\n",
       "    </tr>\n",
       "    <tr>\n",
       "      <th>2</th>\n",
       "      <td>15602</td>\n",
       "      <td>[Walter Matthau, Jack Lemmon, Ann-Margret, Sop...</td>\n",
       "      <td>[2, 2, 1, 1]</td>\n",
       "      <td>[Howard Deutch]</td>\n",
       "      <td>[]</td>\n",
       "      <td>[]</td>\n",
       "    </tr>\n",
       "    <tr>\n",
       "      <th>3</th>\n",
       "      <td>31357</td>\n",
       "      <td>[Whitney Houston, Angela Bassett, Loretta Devi...</td>\n",
       "      <td>[1, 1, 1, 1]</td>\n",
       "      <td>[Forest Whitaker]</td>\n",
       "      <td>[Ronald Bass, Ezra Swerdlow, Deborah Schindler...</td>\n",
       "      <td>[Ronald Bass, Terry McMillan]</td>\n",
       "    </tr>\n",
       "    <tr>\n",
       "      <th>4</th>\n",
       "      <td>11862</td>\n",
       "      <td>[Steve Martin, Diane Keaton, Martin Short, Kim...</td>\n",
       "      <td>[2, 1, 2, 1]</td>\n",
       "      <td>[Charles Shyer]</td>\n",
       "      <td>[Nancy Meyers]</td>\n",
       "      <td>[Nancy Meyers, Albert Hackett]</td>\n",
       "    </tr>\n",
       "  </tbody>\n",
       "</table>\n",
       "</div>"
      ],
      "text/plain": [
       "      id                                         cast_names   cast_gender  \\\n",
       "0    862    [Tom Hanks, Tim Allen, Don Rickles, Jim Varney]  [2, 2, 2, 2]   \n",
       "1   8844  [Robin Williams, Jonathan Hyde, Kirsten Dunst,...  [2, 2, 1, 0]   \n",
       "2  15602  [Walter Matthau, Jack Lemmon, Ann-Margret, Sop...  [2, 2, 1, 1]   \n",
       "3  31357  [Whitney Houston, Angela Bassett, Loretta Devi...  [1, 1, 1, 1]   \n",
       "4  11862  [Steve Martin, Diane Keaton, Martin Short, Kim...  [2, 1, 2, 1]   \n",
       "\n",
       "            Director                                           Producer  \\\n",
       "0    [John Lasseter]                  [Bonnie Arnold, Ralph Guggenheim]   \n",
       "1     [Joe Johnston]                    [Scott Kroopf, William Teitler]   \n",
       "2    [Howard Deutch]                                                 []   \n",
       "3  [Forest Whitaker]  [Ronald Bass, Ezra Swerdlow, Deborah Schindler...   \n",
       "4    [Charles Shyer]                                     [Nancy Meyers]   \n",
       "\n",
       "                                          Screenplay  \n",
       "0  [Joss Whedon, Andrew Stanton, Joel Cohen, Alec...  \n",
       "1      [Jonathan Hensleigh, Greg Taylor, Jim Strain]  \n",
       "2                                                 []  \n",
       "3                      [Ronald Bass, Terry McMillan]  \n",
       "4                     [Nancy Meyers, Albert Hackett]  "
      ]
     },
     "execution_count": 28,
     "metadata": {},
     "output_type": "execute_result"
    }
   ],
   "source": [
    "df_credits.head()"
   ]
  },
  {
   "cell_type": "markdown",
   "metadata": {},
   "source": [
    "Let's see the most frequent Director, Producers and Screenplay names."
   ]
  },
  {
   "cell_type": "code",
   "execution_count": 29,
   "metadata": {},
   "outputs": [
    {
     "data": {
      "image/png": "[encoded data removed]",
      "text/plain": [
       "<matplotlib.figure.Figure at 0x1b76de163c8>"
      ]
     },
     "metadata": {},
     "output_type": "display_data"
    }
   ],
   "source": [
    "director_counter = word_count(df_credits, \"Director\")\n",
    "plt.subplots(figsize = (10, 5))\n",
    "\n",
    "ax = pd.Series(director_counter).sort_values(ascending = True)[-20:].plot.barh()\n",
    "ax.set_xlabel(\"Nº of movies\")\n",
    "ax.set_title(\"Director Frequency\") \n",
    "\n",
    "plt.show()"
   ]
  },
  {
   "cell_type": "markdown",
   "metadata": {},
   "source": [
    "John Ford in the top 1, with movies like:\n",
    "* The Quiet Man (1952)\n",
    "* The Man Who Shot Liberty Valance (1962)\n",
    "* The Grapes of Wrath (1940)"
   ]
  },
  {
   "cell_type": "code",
   "execution_count": 30,
   "metadata": {},
   "outputs": [
    {
     "data": {
      "image/png": "[encoded data removed]",
      "text/plain": [
       "<matplotlib.figure.Figure at 0x1b716808a58>"
      ]
     },
     "metadata": {},
     "output_type": "display_data"
    }
   ],
   "source": [
    "producer_counter = word_count(df_credits, \"Producer\")\n",
    "plt.subplots(figsize = (10, 5))\n",
    "\n",
    "ax = pd.Series(producer_counter).sort_values(ascending = True)[-20:].plot.barh()\n",
    "ax.set_xlabel(\"Nº of movies\")\n",
    "ax.set_title(\"Producer Frequency\") \n",
    "\n",
    "plt.show()"
   ]
  },
  {
   "cell_type": "markdown",
   "metadata": {},
   "source": [
    "Darryl F. Znuck is the top 1. Here some of his most popular movies:\n",
    "* The Grapes of Wrath (1940)\n",
    "* In Old Chicago (1938)\n",
    "* The Longest Day (1962)\n",
    "* All About Eve (1950)"
   ]
  },
  {
   "cell_type": "code",
   "execution_count": 31,
   "metadata": {},
   "outputs": [
    {
     "data": {
      "image/png": "[encoded data removed]",
      "text/plain": [
       "<matplotlib.figure.Figure at 0x1b76d859438>"
      ]
     },
     "metadata": {},
     "output_type": "display_data"
    }
   ],
   "source": [
    "screenplay_counter = word_count(df_credits, \"Screenplay\")\n",
    "plt.subplots(figsize = (10, 5))\n",
    "\n",
    "ax = pd.Series(screenplay_counter).sort_values(ascending = True)[-20:].plot.barh()\n",
    "ax.set_xlabel(\"Nº of movies\")\n",
    "ax.set_title(\"Screenplay Frequency\") \n",
    "\n",
    "plt.show()"
   ]
  },
  {
   "cell_type": "markdown",
   "metadata": {},
   "source": [
    "Ben Hecht is the top 1. Here some of his most popular movies:\n",
    "* Notorious (1946)\n",
    "* The Scoundrel (1935)\n",
    "* Angels Over Broadway (1940)\n",
    "* Spellbound (1945)"
   ]
  },
  {
   "cell_type": "code",
   "execution_count": 32,
   "metadata": {},
   "outputs": [
    {
     "name": "stdout",
     "output_type": "stream",
     "text": [
      "<class 'pandas.core.frame.DataFrame'>\n",
      "RangeIndex: 45476 entries, 0 to 45475\n",
      "Data columns (total 6 columns):\n",
      "id             45476 non-null int64\n",
      "cast_names     45476 non-null object\n",
      "cast_gender    45476 non-null object\n",
      "Director       45476 non-null object\n",
      "Producer       45476 non-null object\n",
      "Screenplay     45476 non-null object\n",
      "dtypes: int64(1), object(5)\n",
      "memory usage: 2.1+ MB\n"
     ]
    }
   ],
   "source": [
    "df_credits.info()"
   ]
  }
 ],
 "metadata": {
  "kernelspec": {
   "display_name": "Python 3",
   "language": "python",
   "name": "python3"
  },
  "language_info": {
   "codemirror_mode": {
    "name": "ipython",
    "version": 3
   },
   "file_extension": ".py",
   "mimetype": "text/x-python",
   "name": "python",
   "nbconvert_exporter": "python",
   "pygments_lexer": "ipython3",
   "version": "3.6.3"
  }
 },
 "nbformat": 4,
 "nbformat_minor": 2
}
