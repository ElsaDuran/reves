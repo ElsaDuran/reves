{
 "cells": [
  {
   "cell_type": "markdown",
   "metadata": {},
   "source": [
    "# REVES 02: Data Engineering"
   ]
  },
  {
   "cell_type": "markdown",
   "metadata": {},
   "source": [
    "In this notebook, we will transform the data to fit the format required for our model and we will create new features to add valuable info to it. \n",
    "\n",
    "To start this notebook we will use the DataFrame we generated at the end of Cleaning_Data."
   ]
  },
  {
   "cell_type": "markdown",
   "metadata": {},
   "source": [
    "## Loading libraries and data"
   ]
  },
  {
   "cell_type": "code",
   "execution_count": 1,
   "metadata": {},
   "outputs": [],
   "source": [
    "import pandas as pd\n",
    "import revesFunctions as rf\n",
    "import matplotlib.pyplot as plt\n",
    "%matplotlib inline\n",
    "plt.style.use('ggplot')"
   ]
  },
  {
   "cell_type": "code",
   "execution_count": 2,
   "metadata": {
    "scrolled": true
   },
   "outputs": [],
   "source": [
    "reves = pd.read_pickle(\"data/cleaned_reves_df.pkl\")"
   ]
  },
  {
   "cell_type": "code",
   "execution_count": 3,
   "metadata": {
    "scrolled": true
   },
   "outputs": [
    {
     "data": {
      "text/html": [
       "<div>\n",
       "<style scoped>\n",
       "    .dataframe tbody tr th:only-of-type {\n",
       "        vertical-align: middle;\n",
       "    }\n",
       "\n",
       "    .dataframe tbody tr th {\n",
       "        vertical-align: top;\n",
       "    }\n",
       "\n",
       "    .dataframe thead th {\n",
       "        text-align: right;\n",
       "    }\n",
       "</style>\n",
       "<table border=\"1\" class=\"dataframe\">\n",
       "  <thead>\n",
       "    <tr style=\"text-align: right;\">\n",
       "      <th></th>\n",
       "      <th>belongs_to_collection</th>\n",
       "      <th>genres</th>\n",
       "      <th>imdb_id</th>\n",
       "      <th>original_language</th>\n",
       "      <th>production_companies</th>\n",
       "      <th>revenue</th>\n",
       "      <th>runtime</th>\n",
       "      <th>title</th>\n",
       "      <th>keywords</th>\n",
       "      <th>release_year</th>\n",
       "      <th>release_month</th>\n",
       "      <th>release_weekday</th>\n",
       "      <th>cast_names</th>\n",
       "      <th>cast_gender</th>\n",
       "      <th>Directors</th>\n",
       "      <th>Producers</th>\n",
       "      <th>Screenplayers</th>\n",
       "    </tr>\n",
       "  </thead>\n",
       "  <tbody>\n",
       "    <tr>\n",
       "      <th>0</th>\n",
       "      <td>Toy Story Collection</td>\n",
       "      <td>[Animation, Comedy, Family]</td>\n",
       "      <td>tt0114709</td>\n",
       "      <td>en</td>\n",
       "      <td>[Pixar Animation Studios]</td>\n",
       "      <td>373554033.0</td>\n",
       "      <td>81.0</td>\n",
       "      <td>Toy Story</td>\n",
       "      <td>[{'id': 931, 'name': 'jealousy'}, {'id': 4290,...</td>\n",
       "      <td>1995.0</td>\n",
       "      <td>10.0</td>\n",
       "      <td>0.0</td>\n",
       "      <td>[Tom Hanks, Tim Allen, Don Rickles, Jim Varney...</td>\n",
       "      <td>[2, 2, 2, 2, 2, 2, 1, 0, 2, 1, 2, 1, 2]</td>\n",
       "      <td>[John Lasseter]</td>\n",
       "      <td>[Bonnie Arnold, Ralph Guggenheim]</td>\n",
       "      <td>[Joss Whedon, Andrew Stanton, Joel Cohen, Alec...</td>\n",
       "    </tr>\n",
       "    <tr>\n",
       "      <th>1</th>\n",
       "      <td>NaN</td>\n",
       "      <td>[Adventure, Fantasy, Family]</td>\n",
       "      <td>tt0113497</td>\n",
       "      <td>en</td>\n",
       "      <td>[TriStar Pictures, Teitler Film, Interscope Co...</td>\n",
       "      <td>262797249.0</td>\n",
       "      <td>104.0</td>\n",
       "      <td>Jumanji</td>\n",
       "      <td>[{'id': 10090, 'name': 'board game'}, {'id': 1...</td>\n",
       "      <td>1995.0</td>\n",
       "      <td>12.0</td>\n",
       "      <td>4.0</td>\n",
       "      <td>[Robin Williams, Jonathan Hyde, Kirsten Dunst,...</td>\n",
       "      <td>[2, 2, 1, 0, 1, 1, 2, 1, 0, 1, 2, 1, 2, 0, 0, ...</td>\n",
       "      <td>[Joe Johnston]</td>\n",
       "      <td>[Scott Kroopf, William Teitler]</td>\n",
       "      <td>[Jonathan Hensleigh, Greg Taylor, Jim Strain]</td>\n",
       "    </tr>\n",
       "  </tbody>\n",
       "</table>\n",
       "</div>"
      ],
      "text/plain": [
       "  belongs_to_collection                        genres    imdb_id  \\\n",
       "0  Toy Story Collection   [Animation, Comedy, Family]  tt0114709   \n",
       "1                   NaN  [Adventure, Fantasy, Family]  tt0113497   \n",
       "\n",
       "  original_language                               production_companies  \\\n",
       "0                en                          [Pixar Animation Studios]   \n",
       "1                en  [TriStar Pictures, Teitler Film, Interscope Co...   \n",
       "\n",
       "       revenue  runtime      title  \\\n",
       "0  373554033.0     81.0  Toy Story   \n",
       "1  262797249.0    104.0    Jumanji   \n",
       "\n",
       "                                            keywords  release_year  \\\n",
       "0  [{'id': 931, 'name': 'jealousy'}, {'id': 4290,...        1995.0   \n",
       "1  [{'id': 10090, 'name': 'board game'}, {'id': 1...        1995.0   \n",
       "\n",
       "   release_month  release_weekday  \\\n",
       "0           10.0              0.0   \n",
       "1           12.0              4.0   \n",
       "\n",
       "                                          cast_names  \\\n",
       "0  [Tom Hanks, Tim Allen, Don Rickles, Jim Varney...   \n",
       "1  [Robin Williams, Jonathan Hyde, Kirsten Dunst,...   \n",
       "\n",
       "                                         cast_gender        Directors  \\\n",
       "0            [2, 2, 2, 2, 2, 2, 1, 0, 2, 1, 2, 1, 2]  [John Lasseter]   \n",
       "1  [2, 2, 1, 0, 1, 1, 2, 1, 0, 1, 2, 1, 2, 0, 0, ...   [Joe Johnston]   \n",
       "\n",
       "                           Producers  \\\n",
       "0  [Bonnie Arnold, Ralph Guggenheim]   \n",
       "1    [Scott Kroopf, William Teitler]   \n",
       "\n",
       "                                       Screenplayers  \n",
       "0  [Joss Whedon, Andrew Stanton, Joel Cohen, Alec...  \n",
       "1      [Jonathan Hensleigh, Greg Taylor, Jim Strain]  "
      ]
     },
     "execution_count": 3,
     "metadata": {},
     "output_type": "execute_result"
    }
   ],
   "source": [
    "reves.head(2)"
   ]
  },
  {
   "cell_type": "markdown",
   "metadata": {},
   "source": [
    "## Let's perform some data transformation"
   ]
  },
  {
   "cell_type": "markdown",
   "metadata": {},
   "source": [
    "#### Revenue & Release Year"
   ]
  },
  {
   "cell_type": "markdown",
   "metadata": {},
   "source": [
    "First of all, we have to transform revenue. We ought to take notice that the ticket price has been changing through the years as well as money's price itself. We all know that it's way different if a movie reached a $100 million box office on 1930 than if a movie did it nowadays.\n",
    "\n",
    "To to this engineering, we have transform revenue by applying a CPI-based factor. \n",
    "\n",
    "- Data has been collected from this website: https://www.usinflationcalculator.com/inflation/consumer-price-index-and-annual-percent-changes-from-1913-to-2008/\n",
    "\n",
    "- You can find a better explanation of this idea here: https://www.usinflationcalculator.com/frequently-asked-questions-faqs/#HowInflationCalculatorWorks"
   ]
  },
  {
   "cell_type": "markdown",
   "metadata": {},
   "source": [
    "Data has been downloaded as a CSV to use it with Pandas. Data transformations have been made up to 2017 and stored in a new column called revenue_inflated."
   ]
  },
  {
   "cell_type": "code",
   "execution_count": 4,
   "metadata": {},
   "outputs": [],
   "source": [
    "cpi_df = pd.read_excel(\"data/CPI_data.xlsx\")\n",
    "cpi_dict = dict(zip(cpi_df[\"Year\"], cpi_df[\"Avg\"]))\n",
    "reves[\"cpi\"] = reves[\"release_year\"].apply(lambda x: cpi_dict[x] if x in cpi_dict else 0)\n",
    "reves[\"revenue_inflated\"] = reves[\"revenue\"] * (cpi_dict[2017] / reves[\"cpi\"])"
   ]
  },
  {
   "cell_type": "code",
   "execution_count": 5,
   "metadata": {},
   "outputs": [
    {
     "data": {
      "text/html": [
       "<div>\n",
       "<style scoped>\n",
       "    .dataframe tbody tr th:only-of-type {\n",
       "        vertical-align: middle;\n",
       "    }\n",
       "\n",
       "    .dataframe tbody tr th {\n",
       "        vertical-align: top;\n",
       "    }\n",
       "\n",
       "    .dataframe thead th {\n",
       "        text-align: right;\n",
       "    }\n",
       "</style>\n",
       "<table border=\"1\" class=\"dataframe\">\n",
       "  <thead>\n",
       "    <tr style=\"text-align: right;\">\n",
       "      <th></th>\n",
       "      <th>revenue</th>\n",
       "      <th>revenue_inflated</th>\n",
       "      <th>release_year</th>\n",
       "      <th>title</th>\n",
       "    </tr>\n",
       "  </thead>\n",
       "  <tbody>\n",
       "    <tr>\n",
       "      <th>391</th>\n",
       "      <td>4.001765e+08</td>\n",
       "      <td>7.056925e+09</td>\n",
       "      <td>1939.0</td>\n",
       "      <td>Gone with the Wind</td>\n",
       "    </tr>\n",
       "    <tr>\n",
       "      <th>437</th>\n",
       "      <td>5.720000e+08</td>\n",
       "      <td>5.392640e+09</td>\n",
       "      <td>1951.0</td>\n",
       "      <td>Alice in Wonderland</td>\n",
       "    </tr>\n",
       "    <tr>\n",
       "      <th>902</th>\n",
       "      <td>2.674472e+08</td>\n",
       "      <td>4.021880e+09</td>\n",
       "      <td>1942.0</td>\n",
       "      <td>Bambi</td>\n",
       "    </tr>\n",
       "    <tr>\n",
       "      <th>4623</th>\n",
       "      <td>2.787965e+09</td>\n",
       "      <td>3.185399e+09</td>\n",
       "      <td>2009.0</td>\n",
       "      <td>Avatar</td>\n",
       "    </tr>\n",
       "    <tr>\n",
       "      <th>289</th>\n",
       "      <td>1.849255e+08</td>\n",
       "      <td>3.147843e+09</td>\n",
       "      <td>1937.0</td>\n",
       "      <td>Snow White and the Seven Dwarfs</td>\n",
       "    </tr>\n",
       "  </tbody>\n",
       "</table>\n",
       "</div>"
      ],
      "text/plain": [
       "           revenue  revenue_inflated  release_year  \\\n",
       "391   4.001765e+08      7.056925e+09        1939.0   \n",
       "437   5.720000e+08      5.392640e+09        1951.0   \n",
       "902   2.674472e+08      4.021880e+09        1942.0   \n",
       "4623  2.787965e+09      3.185399e+09        2009.0   \n",
       "289   1.849255e+08      3.147843e+09        1937.0   \n",
       "\n",
       "                                title  \n",
       "391                Gone with the Wind  \n",
       "437               Alice in Wonderland  \n",
       "902                             Bambi  \n",
       "4623                           Avatar  \n",
       "289   Snow White and the Seven Dwarfs  "
      ]
     },
     "execution_count": 5,
     "metadata": {},
     "output_type": "execute_result"
    }
   ],
   "source": [
    "reves[[\"revenue\", \"revenue_inflated\", \"release_year\", \"title\"]].sort_values(by = \"revenue_inflated\", ascending = False).head(5)"
   ]
  },
  {
   "cell_type": "markdown",
   "metadata": {},
   "source": [
    "#### Belongs to collection"
   ]
  },
  {
   "cell_type": "markdown",
   "metadata": {},
   "source": [
    "As we stablished on the previews notebook, the fact that a movie does belong to a collection or franchise is directely related to potential revenue. We also could prove that some collection had higher incomes than others.\n",
    "\n",
    "This is why we are performing a data transformation that consists on calculating average revenue per collection and applying this value to each movie, according to the current value of the actual \"belongs_to_collection\" column. In cases where movies do not belong to any franchise, we will apply a value based on the average revenue for all the don't-belong-to-collection movies, as if we created a collection named \"no\". \n",
    "\n",
    "To do this we will use 2 own functions, both explained in revesFunctions.py\n",
    "- word_mean\n",
    "- get_mean\n",
    "\n",
    "Before using them, we will perform some data cleaning to remove any special characters, capital letters and punctuation marks."
   ]
  },
  {
   "cell_type": "code",
   "execution_count": 6,
   "metadata": {},
   "outputs": [
    {
     "name": "stderr",
     "output_type": "stream",
     "text": [
      "C:\\Users\\Elsa\\Documents\\GitHub\\reves\\revesFunctions.py:79: FutureWarning: get_value is deprecated and will be removed in a future release. Please use .at[] or .iat[] accessors instead\n",
      "  word_mean_dict[name] = dataframe.get_value(i, variable) / counter[name]\n",
      "C:\\Users\\Elsa\\Documents\\GitHub\\reves\\revesFunctions.py:81: FutureWarning: get_value is deprecated and will be removed in a future release. Please use .at[] or .iat[] accessors instead\n",
      "  word_mean_dict[name] = word_mean_dict[name] + (dataframe.get_value(i, variable) / counter[name])\n"
     ]
    }
   ],
   "source": [
    "reves[\"belongs_to_collection\"] = reves[\"belongs_to_collection\"].apply(lambda x: [\"no\"] if pd.isnull(x) else [x])\n",
    "reves[\"belongs_to_collection\"] = reves[\"belongs_to_collection\"].apply(lambda x: [rf.clean(name) for name in x])\n",
    "collection_dict = rf.word_mean(reves, \"belongs_to_collection\", \"revenue_inflated\")\n",
    "reves[\"belongs_to_collection\"] = reves[\"belongs_to_collection\"].apply(rf.get_mean, variable_mean_dict = collection_dict)"
   ]
  },
  {
   "cell_type": "code",
   "execution_count": 7,
   "metadata": {},
   "outputs": [
    {
     "data": {
      "text/html": [
       "<div>\n",
       "<style scoped>\n",
       "    .dataframe tbody tr th:only-of-type {\n",
       "        vertical-align: middle;\n",
       "    }\n",
       "\n",
       "    .dataframe tbody tr th {\n",
       "        vertical-align: top;\n",
       "    }\n",
       "\n",
       "    .dataframe thead th {\n",
       "        text-align: right;\n",
       "    }\n",
       "</style>\n",
       "<table border=\"1\" class=\"dataframe\">\n",
       "  <thead>\n",
       "    <tr style=\"text-align: right;\">\n",
       "      <th></th>\n",
       "      <th>belongs_to_collection</th>\n",
       "      <th>revenue_inflated</th>\n",
       "      <th>title</th>\n",
       "    </tr>\n",
       "  </thead>\n",
       "  <tbody>\n",
       "    <tr>\n",
       "      <th>902</th>\n",
       "      <td>4.021880e+09</td>\n",
       "      <td>4.021880e+09</td>\n",
       "      <td>Bambi</td>\n",
       "    </tr>\n",
       "    <tr>\n",
       "      <th>4623</th>\n",
       "      <td>3.185399e+09</td>\n",
       "      <td>3.185399e+09</td>\n",
       "      <td>Avatar</td>\n",
       "    </tr>\n",
       "    <tr>\n",
       "      <th>431</th>\n",
       "      <td>2.680976e+09</td>\n",
       "      <td>2.680976e+09</td>\n",
       "      <td>Cinderella</td>\n",
       "    </tr>\n",
       "    <tr>\n",
       "      <th>939</th>\n",
       "      <td>1.769783e+09</td>\n",
       "      <td>1.769783e+09</td>\n",
       "      <td>One Hundred and One Dalmatians</td>\n",
       "    </tr>\n",
       "    <tr>\n",
       "      <th>129</th>\n",
       "      <td>1.584568e+09</td>\n",
       "      <td>3.136395e+09</td>\n",
       "      <td>Star Wars</td>\n",
       "    </tr>\n",
       "  </tbody>\n",
       "</table>\n",
       "</div>"
      ],
      "text/plain": [
       "      belongs_to_collection  revenue_inflated                           title\n",
       "902            4.021880e+09      4.021880e+09                           Bambi\n",
       "4623           3.185399e+09      3.185399e+09                          Avatar\n",
       "431            2.680976e+09      2.680976e+09                      Cinderella\n",
       "939            1.769783e+09      1.769783e+09  One Hundred and One Dalmatians\n",
       "129            1.584568e+09      3.136395e+09                       Star Wars"
      ]
     },
     "execution_count": 7,
     "metadata": {},
     "output_type": "execute_result"
    }
   ],
   "source": [
    "reves[[\"belongs_to_collection\", \"revenue_inflated\", \"title\"]].sort_values(by = \"belongs_to_collection\", ascending = False).head(5)"
   ]
  },
  {
   "cell_type": "code",
   "execution_count": 8,
   "metadata": {},
   "outputs": [
    {
     "data": {
      "text/plain": [
       "['bambi collection',\n",
       " 'avatar collection',\n",
       " 'cinderella collection',\n",
       " '101 dalmatians animated collection',\n",
       " 'star wars collection']"
      ]
     },
     "execution_count": 8,
     "metadata": {},
     "output_type": "execute_result"
    }
   ],
   "source": [
    "sorted(collection_dict, key = collection_dict.get, reverse = True)[:5]"
   ]
  },
  {
   "cell_type": "markdown",
   "metadata": {},
   "source": [
    "#### Genres"
   ]
  },
  {
   "cell_type": "markdown",
   "metadata": {},
   "source": [
    "To use this column, first we will drop all the movies with no genres information, and we are studying how the number of genres associated to a title affects the movies' potential revenue."
   ]
  },
  {
   "cell_type": "code",
   "execution_count": 9,
   "metadata": {},
   "outputs": [],
   "source": [
    "reves = reves[reves[\"genres\"].str.len() != 0].reset_index(drop = True)\n",
    "reves[\"genres_counter\"] = reves[\"genres\"].apply(lambda x: len(x))"
   ]
  },
  {
   "cell_type": "code",
   "execution_count": 10,
   "metadata": {},
   "outputs": [
    {
     "data": {
      "image/png": "[encoded data removed]",
      "text/plain": [
       "<Figure size 720x360 with 1 Axes>"
      ]
     },
     "metadata": {},
     "output_type": "display_data"
    }
   ],
   "source": [
    "plt.figure(figsize = (10, 5))\n",
    "plt.plot(reves.groupby(\"genres_counter\").mean()[\"revenue_inflated\"], color = \"green\")\n",
    "plt.ylabel(\"Mean Revenue\", fontsize = 13)\n",
    "plt.xlabel(\"Number of genres\", fontsize = 13)\n",
    "plt.title(\"Does the number of genres affect the revenue?\");"
   ]
  },
  {
   "cell_type": "markdown",
   "metadata": {},
   "source": [
    "As we see we think that the number of genres associated to a movie could be related to the complexity of the plot, and eventually to the movie's potential revenue."
   ]
  },
  {
   "cell_type": "markdown",
   "metadata": {},
   "source": [
    "On a first iteration of this notebook, we thought that we could transform this column into different dummy or one-hot-encoding columns, one for each genre. But that added too many features to our model with not much info. That's why we decided to use this data by perfoming a transformation based on the average revenue for each genre, and a final calculation of the mean of all the genres associated to each movie. \n",
    "\n",
    "- First we calculate the mean/average revenue for each genre\n",
    "- Then, for each movie in the dataframe, we sum the values of its related genres\n",
    "- Finally we divide the number by the total genres count"
   ]
  },
  {
   "cell_type": "code",
   "execution_count": 11,
   "metadata": {},
   "outputs": [
    {
     "name": "stderr",
     "output_type": "stream",
     "text": [
      "C:\\Users\\Elsa\\Documents\\GitHub\\reves\\revesFunctions.py:79: FutureWarning: get_value is deprecated and will be removed in a future release. Please use .at[] or .iat[] accessors instead\n",
      "  word_mean_dict[name] = dataframe.get_value(i, variable) / counter[name]\n",
      "C:\\Users\\Elsa\\Documents\\GitHub\\reves\\revesFunctions.py:81: FutureWarning: get_value is deprecated and will be removed in a future release. Please use .at[] or .iat[] accessors instead\n",
      "  word_mean_dict[name] = word_mean_dict[name] + (dataframe.get_value(i, variable) / counter[name])\n"
     ]
    }
   ],
   "source": [
    "reves[\"genres\"] = reves[\"genres\"].apply(lambda x: [rf.clean(name) for name in x])\n",
    "genres_dict = rf.word_mean(reves, \"genres\", \"revenue_inflated\")\n",
    "reves[\"genres\"] = reves[\"genres\"].apply(rf.get_mean, variable_mean_dict = genres_dict)"
   ]
  },
  {
   "cell_type": "code",
   "execution_count": 12,
   "metadata": {},
   "outputs": [
    {
     "data": {
      "text/html": [
       "<div>\n",
       "<style scoped>\n",
       "    .dataframe tbody tr th:only-of-type {\n",
       "        vertical-align: middle;\n",
       "    }\n",
       "\n",
       "    .dataframe tbody tr th {\n",
       "        vertical-align: top;\n",
       "    }\n",
       "\n",
       "    .dataframe thead th {\n",
       "        text-align: right;\n",
       "    }\n",
       "</style>\n",
       "<table border=\"1\" class=\"dataframe\">\n",
       "  <thead>\n",
       "    <tr style=\"text-align: right;\">\n",
       "      <th></th>\n",
       "      <th>genres</th>\n",
       "      <th>revenue_inflated</th>\n",
       "      <th>title</th>\n",
       "    </tr>\n",
       "  </thead>\n",
       "  <tbody>\n",
       "    <tr>\n",
       "      <th>1792</th>\n",
       "      <td>2.673057e+08</td>\n",
       "      <td>1.308271e+07</td>\n",
       "      <td>The Transformers: The Movie</td>\n",
       "    </tr>\n",
       "    <tr>\n",
       "      <th>6704</th>\n",
       "      <td>2.673057e+08</td>\n",
       "      <td>2.546512e+08</td>\n",
       "      <td>The Peanuts Movie</td>\n",
       "    </tr>\n",
       "    <tr>\n",
       "      <th>5698</th>\n",
       "      <td>2.673057e+08</td>\n",
       "      <td>1.240898e+08</td>\n",
       "      <td>The Wind Rises</td>\n",
       "    </tr>\n",
       "    <tr>\n",
       "      <th>1414</th>\n",
       "      <td>2.673057e+08</td>\n",
       "      <td>2.460894e+08</td>\n",
       "      <td>Pokémon: The First Movie: Mewtwo Strikes Back</td>\n",
       "    </tr>\n",
       "    <tr>\n",
       "      <th>4948</th>\n",
       "      <td>2.673057e+08</td>\n",
       "      <td>9.228176e+04</td>\n",
       "      <td>Summer Wars</td>\n",
       "    </tr>\n",
       "  </tbody>\n",
       "</table>\n",
       "</div>"
      ],
      "text/plain": [
       "            genres  revenue_inflated  \\\n",
       "1792  2.673057e+08      1.308271e+07   \n",
       "6704  2.673057e+08      2.546512e+08   \n",
       "5698  2.673057e+08      1.240898e+08   \n",
       "1414  2.673057e+08      2.460894e+08   \n",
       "4948  2.673057e+08      9.228176e+04   \n",
       "\n",
       "                                              title  \n",
       "1792                    The Transformers: The Movie  \n",
       "6704                              The Peanuts Movie  \n",
       "5698                                 The Wind Rises  \n",
       "1414  Pokémon: The First Movie: Mewtwo Strikes Back  \n",
       "4948                                    Summer Wars  "
      ]
     },
     "execution_count": 12,
     "metadata": {},
     "output_type": "execute_result"
    }
   ],
   "source": [
    "reves[[\"genres\", \"revenue_inflated\", \"title\"]].sort_values(by = \"genres\", ascending = False).head(5)"
   ]
  },
  {
   "cell_type": "code",
   "execution_count": 13,
   "metadata": {},
   "outputs": [
    {
     "data": {
      "text/plain": [
       "['animation', 'adventure', 'family', 'fantasy', 'science fiction']"
      ]
     },
     "execution_count": 13,
     "metadata": {},
     "output_type": "execute_result"
    }
   ],
   "source": [
    "sorted(genres_dict, key = genres_dict.get, reverse = True)[:5]"
   ]
  },
  {
   "cell_type": "markdown",
   "metadata": {},
   "source": [
    " \n",
    " \n",
    "#### Original Language"
   ]
  },
  {
   "cell_type": "markdown",
   "metadata": {},
   "source": [
    "For this feature, we will apply a value to each movie out of a simple list:\n",
    "- Average revenue for \"English\" original language\n",
    "- Average revenue for \"Not English\" original language"
   ]
  },
  {
   "cell_type": "code",
   "execution_count": 14,
   "metadata": {},
   "outputs": [
    {
     "name": "stderr",
     "output_type": "stream",
     "text": [
      "C:\\Users\\Elsa\\Documents\\GitHub\\reves\\revesFunctions.py:79: FutureWarning: get_value is deprecated and will be removed in a future release. Please use .at[] or .iat[] accessors instead\n",
      "  word_mean_dict[name] = dataframe.get_value(i, variable) / counter[name]\n",
      "C:\\Users\\Elsa\\Documents\\GitHub\\reves\\revesFunctions.py:81: FutureWarning: get_value is deprecated and will be removed in a future release. Please use .at[] or .iat[] accessors instead\n",
      "  word_mean_dict[name] = word_mean_dict[name] + (dataframe.get_value(i, variable) / counter[name])\n"
     ]
    }
   ],
   "source": [
    "reves[\"original_language\"] = reves[\"original_language\"].apply(lambda x: [x] if x == \"en\" else [\"no\"])\n",
    "reves[\"original_language\"] = reves[\"original_language\"].apply(lambda x: [rf.clean(name) for name in x])\n",
    "language_dict = rf.word_mean(reves, \"original_language\", \"revenue_inflated\")\n",
    "reves[\"original_language\"] = reves[\"original_language\"].apply(rf.get_mean, variable_mean_dict = language_dict)"
   ]
  },
  {
   "cell_type": "code",
   "execution_count": 15,
   "metadata": {},
   "outputs": [
    {
     "data": {
      "text/html": [
       "<div>\n",
       "<style scoped>\n",
       "    .dataframe tbody tr th:only-of-type {\n",
       "        vertical-align: middle;\n",
       "    }\n",
       "\n",
       "    .dataframe tbody tr th {\n",
       "        vertical-align: top;\n",
       "    }\n",
       "\n",
       "    .dataframe thead th {\n",
       "        text-align: right;\n",
       "    }\n",
       "</style>\n",
       "<table border=\"1\" class=\"dataframe\">\n",
       "  <thead>\n",
       "    <tr style=\"text-align: right;\">\n",
       "      <th></th>\n",
       "      <th>original_language</th>\n",
       "      <th>revenue_inflated</th>\n",
       "      <th>title</th>\n",
       "    </tr>\n",
       "  </thead>\n",
       "  <tbody>\n",
       "    <tr>\n",
       "      <th>0</th>\n",
       "      <td>1.174373e+08</td>\n",
       "      <td>6.008239e+08</td>\n",
       "      <td>Toy Story</td>\n",
       "    </tr>\n",
       "    <tr>\n",
       "      <th>4319</th>\n",
       "      <td>1.174373e+08</td>\n",
       "      <td>4.338256e+07</td>\n",
       "      <td>The Secret Life of Bees</td>\n",
       "    </tr>\n",
       "    <tr>\n",
       "      <th>4330</th>\n",
       "      <td>1.174373e+08</td>\n",
       "      <td>3.157481e+07</td>\n",
       "      <td>The Road</td>\n",
       "    </tr>\n",
       "    <tr>\n",
       "      <th>4329</th>\n",
       "      <td>1.174373e+08</td>\n",
       "      <td>1.286723e+08</td>\n",
       "      <td>Changeling</td>\n",
       "    </tr>\n",
       "    <tr>\n",
       "      <th>4328</th>\n",
       "      <td>1.174373e+08</td>\n",
       "      <td>2.259328e+07</td>\n",
       "      <td>Blindness</td>\n",
       "    </tr>\n",
       "  </tbody>\n",
       "</table>\n",
       "</div>"
      ],
      "text/plain": [
       "      original_language  revenue_inflated                    title\n",
       "0          1.174373e+08      6.008239e+08                Toy Story\n",
       "4319       1.174373e+08      4.338256e+07  The Secret Life of Bees\n",
       "4330       1.174373e+08      3.157481e+07                 The Road\n",
       "4329       1.174373e+08      1.286723e+08               Changeling\n",
       "4328       1.174373e+08      2.259328e+07                Blindness"
      ]
     },
     "execution_count": 15,
     "metadata": {},
     "output_type": "execute_result"
    }
   ],
   "source": [
    "reves[[\"original_language\",\"revenue_inflated\", \"title\"]].sort_values(by = \"original_language\", ascending = False).head(5)"
   ]
  },
  {
   "cell_type": "code",
   "execution_count": 16,
   "metadata": {},
   "outputs": [
    {
     "data": {
      "text/plain": [
       "['en', 'no']"
      ]
     },
     "execution_count": 16,
     "metadata": {},
     "output_type": "execute_result"
    }
   ],
   "source": [
    "sorted(language_dict, key = language_dict.get, reverse = True)[:5]"
   ]
  },
  {
   "cell_type": "markdown",
   "metadata": {},
   "source": [
    "  \n",
    "#### Production company"
   ]
  },
  {
   "cell_type": "markdown",
   "metadata": {},
   "source": [
    "First of all, we will drop records with no production company data. Then, we'll check it the number of production companies taking part on the movie is related to revenue."
   ]
  },
  {
   "cell_type": "code",
   "execution_count": 17,
   "metadata": {},
   "outputs": [],
   "source": [
    "reves = reves[reves[\"production_companies\"].str.len() != 0].reset_index(drop = True)\n",
    "reves[\"production_companies_counter\"] = reves[\"production_companies\"].apply(lambda x: len(x))"
   ]
  },
  {
   "cell_type": "code",
   "execution_count": 18,
   "metadata": {},
   "outputs": [
    {
     "data": {
      "image/png": "[encoded data removed]",
      "text/plain": [
       "<Figure size 720x360 with 1 Axes>"
      ]
     },
     "metadata": {},
     "output_type": "display_data"
    }
   ],
   "source": [
    "plt.figure(figsize = (10, 5))\n",
    "plt.plot(reves.groupby(\"production_companies_counter\").mean()[\"revenue_inflated\"], color = \"green\")\n",
    "plt.ylabel(\"Mean Revenue\", fontsize = 13)\n",
    "plt.xlabel(\"Number of product companies\", fontsize = 13)\n",
    "plt.title(\"Does the number of production company affect the revenue?\");"
   ]
  },
  {
   "cell_type": "markdown",
   "metadata": {},
   "source": [
    "We can check that, in fact, the number of production companies taking part on a movie does influence the revenue. That's why we'll later use a new feature called production companies count. (As well as we'll do with genres)."
   ]
  },
  {
   "cell_type": "code",
   "execution_count": 19,
   "metadata": {},
   "outputs": [
    {
     "name": "stderr",
     "output_type": "stream",
     "text": [
      "C:\\Users\\Elsa\\Documents\\GitHub\\reves\\revesFunctions.py:79: FutureWarning: get_value is deprecated and will be removed in a future release. Please use .at[] or .iat[] accessors instead\n",
      "  word_mean_dict[name] = dataframe.get_value(i, variable) / counter[name]\n",
      "C:\\Users\\Elsa\\Documents\\GitHub\\reves\\revesFunctions.py:81: FutureWarning: get_value is deprecated and will be removed in a future release. Please use .at[] or .iat[] accessors instead\n",
      "  word_mean_dict[name] = word_mean_dict[name] + (dataframe.get_value(i, variable) / counter[name])\n"
     ]
    }
   ],
   "source": [
    "reves[\"production_companies\"] = reves[\"production_companies\"].apply(lambda x: [rf.clean(name) for name in x])\n",
    "production_company_dict = rf.word_mean(reves, \"production_companies\", \"revenue_inflated\")\n",
    "reves[\"production_companies\"] = reves[\"production_companies\"].apply(rf.get_mean, variable_mean_dict = production_company_dict)"
   ]
  },
  {
   "cell_type": "code",
   "execution_count": 20,
   "metadata": {},
   "outputs": [
    {
     "data": {
      "text/html": [
       "<div>\n",
       "<style scoped>\n",
       "    .dataframe tbody tr th:only-of-type {\n",
       "        vertical-align: middle;\n",
       "    }\n",
       "\n",
       "    .dataframe tbody tr th {\n",
       "        vertical-align: top;\n",
       "    }\n",
       "\n",
       "    .dataframe thead th {\n",
       "        text-align: right;\n",
       "    }\n",
       "</style>\n",
       "<table border=\"1\" class=\"dataframe\">\n",
       "  <thead>\n",
       "    <tr style=\"text-align: right;\">\n",
       "      <th></th>\n",
       "      <th>production_companies</th>\n",
       "      <th>revenue_inflated</th>\n",
       "      <th>title</th>\n",
       "    </tr>\n",
       "  </thead>\n",
       "  <tbody>\n",
       "    <tr>\n",
       "      <th>392</th>\n",
       "      <td>2.419100e+09</td>\n",
       "      <td>1.050514e+08</td>\n",
       "      <td>Rebecca</td>\n",
       "    </tr>\n",
       "    <tr>\n",
       "      <th>394</th>\n",
       "      <td>2.419100e+09</td>\n",
       "      <td>9.532444e+07</td>\n",
       "      <td>Spellbound</td>\n",
       "    </tr>\n",
       "    <tr>\n",
       "      <th>872</th>\n",
       "      <td>1.312856e+09</td>\n",
       "      <td>2.436328e+09</td>\n",
       "      <td>The Exorcist</td>\n",
       "    </tr>\n",
       "    <tr>\n",
       "      <th>386</th>\n",
       "      <td>1.281629e+09</td>\n",
       "      <td>7.056925e+09</td>\n",
       "      <td>Gone with the Wind</td>\n",
       "    </tr>\n",
       "    <tr>\n",
       "      <th>97</th>\n",
       "      <td>1.113898e+09</td>\n",
       "      <td>1.280172e+07</td>\n",
       "      <td>Strange Days</td>\n",
       "    </tr>\n",
       "  </tbody>\n",
       "</table>\n",
       "</div>"
      ],
      "text/plain": [
       "     production_companies  revenue_inflated               title\n",
       "392          2.419100e+09      1.050514e+08             Rebecca\n",
       "394          2.419100e+09      9.532444e+07          Spellbound\n",
       "872          1.312856e+09      2.436328e+09        The Exorcist\n",
       "386          1.281629e+09      7.056925e+09  Gone with the Wind\n",
       "97           1.113898e+09      1.280172e+07        Strange Days"
      ]
     },
     "execution_count": 20,
     "metadata": {},
     "output_type": "execute_result"
    }
   ],
   "source": [
    "reves[[\"production_companies\", \"revenue_inflated\", \"title\"]].sort_values(by = \"production_companies\", ascending = False).head(5)"
   ]
  },
  {
   "cell_type": "code",
   "execution_count": 21,
   "metadata": {},
   "outputs": [
    {
     "data": {
      "text/plain": [
       "['hoya productions',\n",
       " 'selznick international pictures',\n",
       " 'argyle enterprises',\n",
       " 'abu dhabi film commission',\n",
       " 'colorado office of film television media']"
      ]
     },
     "execution_count": 21,
     "metadata": {},
     "output_type": "execute_result"
    }
   ],
   "source": [
    "sorted(production_company_dict, key = production_company_dict.get, reverse = True)[:5]"
   ]
  },
  {
   "cell_type": "markdown",
   "metadata": {},
   "source": [
    "\n",
    "#### Cast"
   ]
  },
  {
   "cell_type": "code",
   "execution_count": 22,
   "metadata": {},
   "outputs": [
    {
     "name": "stderr",
     "output_type": "stream",
     "text": [
      "C:\\Users\\Elsa\\Documents\\GitHub\\reves\\revesFunctions.py:79: FutureWarning: get_value is deprecated and will be removed in a future release. Please use .at[] or .iat[] accessors instead\n",
      "  word_mean_dict[name] = dataframe.get_value(i, variable) / counter[name]\n",
      "C:\\Users\\Elsa\\Documents\\GitHub\\reves\\revesFunctions.py:81: FutureWarning: get_value is deprecated and will be removed in a future release. Please use .at[] or .iat[] accessors instead\n",
      "  word_mean_dict[name] = word_mean_dict[name] + (dataframe.get_value(i, variable) / counter[name])\n"
     ]
    },
    {
     "name": "stdout",
     "output_type": "stream",
     "text": [
      "There are 75974 unique cast_names\n"
     ]
    }
   ],
   "source": [
    "reves = reves[reves[\"cast_names\"].str.len() != 0].reset_index(drop = True)\n",
    "reves[\"cast_names\"] = reves[\"cast_names\"].apply(lambda x: [rf.clean(name) for name in x])\n",
    "cast_dict = rf.word_mean(reves, \"cast_names\", \"revenue_inflated\")\n",
    "\n",
    "print(\"There are %d unique cast_names\" %(len(cast_dict.keys())))"
   ]
  },
  {
   "cell_type": "markdown",
   "metadata": {},
   "source": [
    "There are too many unique values to use in a model without overfitting, and also, too many values for a one hot encoding of this column. We need to simplify this information ir order to use it in Reves. \n",
    "\n",
    "There are many strategies we could follow: clustering actors by rating, clustering actors by mean revenue, replace \"actor_name\" with some actor's feature, etc. We have searched for datasets that may contain a ranking of actors that we could use for clustering, but they do not have all the names that appear in our main dataset, and we do the merge, we have too many missing values. \n",
    "\n",
    "In a real version of Reves we think that a great strategy will be using a clustering by actor's mean earnings or popularity. That information is easy to get for a production company though it's not available for us at this point of Reves development. \n",
    "\n",
    "The question is: What is the best Reves could learn from the data that we currently have?"
   ]
  },
  {
   "cell_type": "markdown",
   "metadata": {},
   "source": [
    "After studying all the different options, we have decided to transform this value for the average value of the revenue to predict. We will use the main 4 cast names for each movie. If we used the whole cast, out model will develop overfitting. "
   ]
  },
  {
   "cell_type": "code",
   "execution_count": 23,
   "metadata": {},
   "outputs": [],
   "source": [
    "reves[\"cast_names\"] = reves[\"cast_names\"].apply(lambda x: x[:4])\n",
    "reves[\"cast_names\"] = reves[\"cast_names\"].apply(rf.get_mean, variable_mean_dict = cast_dict)"
   ]
  },
  {
   "cell_type": "code",
   "execution_count": 24,
   "metadata": {},
   "outputs": [
    {
     "data": {
      "text/html": [
       "<div>\n",
       "<style scoped>\n",
       "    .dataframe tbody tr th:only-of-type {\n",
       "        vertical-align: middle;\n",
       "    }\n",
       "\n",
       "    .dataframe tbody tr th {\n",
       "        vertical-align: top;\n",
       "    }\n",
       "\n",
       "    .dataframe thead th {\n",
       "        text-align: right;\n",
       "    }\n",
       "</style>\n",
       "<table border=\"1\" class=\"dataframe\">\n",
       "  <thead>\n",
       "    <tr style=\"text-align: right;\">\n",
       "      <th></th>\n",
       "      <th>cast_names</th>\n",
       "      <th>revenue_inflated</th>\n",
       "      <th>title</th>\n",
       "    </tr>\n",
       "  </thead>\n",
       "  <tbody>\n",
       "    <tr>\n",
       "      <th>887</th>\n",
       "      <td>4.401261e+09</td>\n",
       "      <td>4.021880e+09</td>\n",
       "      <td>Bambi</td>\n",
       "    </tr>\n",
       "    <tr>\n",
       "      <th>285</th>\n",
       "      <td>2.769516e+09</td>\n",
       "      <td>3.147843e+09</td>\n",
       "      <td>Snow White and the Seven Dwarfs</td>\n",
       "    </tr>\n",
       "    <tr>\n",
       "      <th>432</th>\n",
       "      <td>2.297925e+09</td>\n",
       "      <td>5.392640e+09</td>\n",
       "      <td>Alice in Wonderland</td>\n",
       "    </tr>\n",
       "    <tr>\n",
       "      <th>426</th>\n",
       "      <td>1.889114e+09</td>\n",
       "      <td>2.680976e+09</td>\n",
       "      <td>Cinderella</td>\n",
       "    </tr>\n",
       "    <tr>\n",
       "      <th>386</th>\n",
       "      <td>1.870523e+09</td>\n",
       "      <td>7.056925e+09</td>\n",
       "      <td>Gone with the Wind</td>\n",
       "    </tr>\n",
       "  </tbody>\n",
       "</table>\n",
       "</div>"
      ],
      "text/plain": [
       "       cast_names  revenue_inflated                            title\n",
       "887  4.401261e+09      4.021880e+09                            Bambi\n",
       "285  2.769516e+09      3.147843e+09  Snow White and the Seven Dwarfs\n",
       "432  2.297925e+09      5.392640e+09              Alice in Wonderland\n",
       "426  1.889114e+09      2.680976e+09                       Cinderella\n",
       "386  1.870523e+09      7.056925e+09               Gone with the Wind"
      ]
     },
     "execution_count": 24,
     "metadata": {},
     "output_type": "execute_result"
    }
   ],
   "source": [
    "reves[[\"cast_names\", \"revenue_inflated\", \"title\"]].sort_values(by = \"cast_names\", ascending = False).head(5)"
   ]
  },
  {
   "cell_type": "code",
   "execution_count": 25,
   "metadata": {},
   "outputs": [
    {
     "data": {
      "text/plain": [
       "['leslie howard',\n",
       " 'ann rutherford',\n",
       " 'fred crane',\n",
       " 'marcella martin',\n",
       " 'leona roberts']"
      ]
     },
     "execution_count": 25,
     "metadata": {},
     "output_type": "execute_result"
    }
   ],
   "source": [
    "sorted(cast_dict, key = cast_dict.get, reverse = True)[:5]"
   ]
  },
  {
   "cell_type": "markdown",
   "metadata": {},
   "source": [
    "Cast-gender speaking we also checked before that there where significant differences on income based on the cast genders. Let's study how many men or women are there within the first 4 names of cast."
   ]
  },
  {
   "cell_type": "code",
   "execution_count": 26,
   "metadata": {},
   "outputs": [
    {
     "name": "stderr",
     "output_type": "stream",
     "text": [
      "C:\\Users\\Elsa\\Documents\\GitHub\\reves\\revesFunctions.py:79: FutureWarning: get_value is deprecated and will be removed in a future release. Please use .at[] or .iat[] accessors instead\n",
      "  word_mean_dict[name] = dataframe.get_value(i, variable) / counter[name]\n",
      "C:\\Users\\Elsa\\Documents\\GitHub\\reves\\revesFunctions.py:81: FutureWarning: get_value is deprecated and will be removed in a future release. Please use .at[] or .iat[] accessors instead\n",
      "  word_mean_dict[name] = word_mean_dict[name] + (dataframe.get_value(i, variable) / counter[name])\n"
     ]
    }
   ],
   "source": [
    "reves = reves[reves[\"cast_gender\"].str.len() != 0].reset_index(drop = True)\n",
    "cast_gender_dict = rf.word_mean(reves, \"cast_gender\", \"revenue_inflated\")\n",
    "reves[\"main_actor_genre\"] = reves[\"cast_gender\"].apply(lambda x: x[:1])\n",
    "reves[\"main_actor_genre\"] = reves[\"main_actor_genre\"].apply(rf.get_mean, variable_mean_dict = cast_gender_dict)"
   ]
  },
  {
   "cell_type": "code",
   "execution_count": 27,
   "metadata": {},
   "outputs": [
    {
     "data": {
      "text/html": [
       "<div>\n",
       "<style scoped>\n",
       "    .dataframe tbody tr th:only-of-type {\n",
       "        vertical-align: middle;\n",
       "    }\n",
       "\n",
       "    .dataframe tbody tr th {\n",
       "        vertical-align: top;\n",
       "    }\n",
       "\n",
       "    .dataframe thead th {\n",
       "        text-align: right;\n",
       "    }\n",
       "</style>\n",
       "<table border=\"1\" class=\"dataframe\">\n",
       "  <thead>\n",
       "    <tr style=\"text-align: right;\">\n",
       "      <th></th>\n",
       "      <th>main_actor_genre</th>\n",
       "      <th>revenue_inflated</th>\n",
       "      <th>title</th>\n",
       "    </tr>\n",
       "  </thead>\n",
       "  <tbody>\n",
       "    <tr>\n",
       "      <th>4763</th>\n",
       "      <td>1.817866e+08</td>\n",
       "      <td>4.238652e+06</td>\n",
       "      <td>Black Bread</td>\n",
       "    </tr>\n",
       "    <tr>\n",
       "      <th>320</th>\n",
       "      <td>1.817866e+08</td>\n",
       "      <td>4.708679e+06</td>\n",
       "      <td>Original Gangstas</td>\n",
       "    </tr>\n",
       "    <tr>\n",
       "      <th>1985</th>\n",
       "      <td>1.817866e+08</td>\n",
       "      <td>7.740490e+06</td>\n",
       "      <td>Bagdad Cafe</td>\n",
       "    </tr>\n",
       "    <tr>\n",
       "      <th>4354</th>\n",
       "      <td>1.817866e+08</td>\n",
       "      <td>1.347843e+06</td>\n",
       "      <td>Videocracy</td>\n",
       "    </tr>\n",
       "    <tr>\n",
       "      <th>4351</th>\n",
       "      <td>1.817866e+08</td>\n",
       "      <td>9.683699e+05</td>\n",
       "      <td>Paris 36</td>\n",
       "    </tr>\n",
       "  </tbody>\n",
       "</table>\n",
       "</div>"
      ],
      "text/plain": [
       "      main_actor_genre  revenue_inflated              title\n",
       "4763      1.817866e+08      4.238652e+06        Black Bread\n",
       "320       1.817866e+08      4.708679e+06  Original Gangstas\n",
       "1985      1.817866e+08      7.740490e+06        Bagdad Cafe\n",
       "4354      1.817866e+08      1.347843e+06         Videocracy\n",
       "4351      1.817866e+08      9.683699e+05           Paris 36"
      ]
     },
     "execution_count": 27,
     "metadata": {},
     "output_type": "execute_result"
    }
   ],
   "source": [
    "reves[[\"main_actor_genre\", \"revenue_inflated\", \"title\"]].sort_values(by = \"main_actor_genre\", ascending = False).head(5)"
   ]
  },
  {
   "cell_type": "code",
   "execution_count": 28,
   "metadata": {},
   "outputs": [
    {
     "data": {
      "text/plain": [
       "[0, 2, 1]"
      ]
     },
     "execution_count": 28,
     "metadata": {},
     "output_type": "execute_result"
    }
   ],
   "source": [
    "sorted(cast_gender_dict, key = cast_gender_dict.get, reverse = True)[:5]"
   ]
  },
  {
   "cell_type": "markdown",
   "metadata": {},
   "source": [
    "#### Directors"
   ]
  },
  {
   "cell_type": "markdown",
   "metadata": {},
   "source": [
    "Same transformation as performed before with other features."
   ]
  },
  {
   "cell_type": "code",
   "execution_count": 29,
   "metadata": {},
   "outputs": [
    {
     "ename": "KeyError",
     "evalue": "'directors'",
     "output_type": "error",
     "traceback": [
      "\u001b[1;31m---------------------------------------------------------------------------\u001b[0m",
      "\u001b[1;31mKeyError\u001b[0m                                  Traceback (most recent call last)",
      "\u001b[1;32m~\\Anaconda3\\lib\\site-packages\\pandas\\core\\indexes\\base.py\u001b[0m in \u001b[0;36mget_loc\u001b[1;34m(self, key, method, tolerance)\u001b[0m\n\u001b[0;32m   3062\u001b[0m             \u001b[1;32mtry\u001b[0m\u001b[1;33m:\u001b[0m\u001b[1;33m\u001b[0m\u001b[0m\n\u001b[1;32m-> 3063\u001b[1;33m                 \u001b[1;32mreturn\u001b[0m \u001b[0mself\u001b[0m\u001b[1;33m.\u001b[0m\u001b[0m_engine\u001b[0m\u001b[1;33m.\u001b[0m\u001b[0mget_loc\u001b[0m\u001b[1;33m(\u001b[0m\u001b[0mkey\u001b[0m\u001b[1;33m)\u001b[0m\u001b[1;33m\u001b[0m\u001b[0m\n\u001b[0m\u001b[0;32m   3064\u001b[0m             \u001b[1;32mexcept\u001b[0m \u001b[0mKeyError\u001b[0m\u001b[1;33m:\u001b[0m\u001b[1;33m\u001b[0m\u001b[0m\n",
      "\u001b[1;32mpandas\\_libs\\index.pyx\u001b[0m in \u001b[0;36mpandas._libs.index.IndexEngine.get_loc\u001b[1;34m()\u001b[0m\n",
      "\u001b[1;32mpandas\\_libs\\index.pyx\u001b[0m in \u001b[0;36mpandas._libs.index.IndexEngine.get_loc\u001b[1;34m()\u001b[0m\n",
      "\u001b[1;32mpandas\\_libs\\hashtable_class_helper.pxi\u001b[0m in \u001b[0;36mpandas._libs.hashtable.PyObjectHashTable.get_item\u001b[1;34m()\u001b[0m\n",
      "\u001b[1;32mpandas\\_libs\\hashtable_class_helper.pxi\u001b[0m in \u001b[0;36mpandas._libs.hashtable.PyObjectHashTable.get_item\u001b[1;34m()\u001b[0m\n",
      "\u001b[1;31mKeyError\u001b[0m: 'directors'",
      "\nDuring handling of the above exception, another exception occurred:\n",
      "\u001b[1;31mKeyError\u001b[0m                                  Traceback (most recent call last)",
      "\u001b[1;32m<ipython-input-29-c224e0d6474b>\u001b[0m in \u001b[0;36m<module>\u001b[1;34m()\u001b[0m\n\u001b[1;32m----> 1\u001b[1;33m \u001b[0mreves\u001b[0m \u001b[1;33m=\u001b[0m \u001b[0mreves\u001b[0m\u001b[1;33m[\u001b[0m\u001b[0mreves\u001b[0m\u001b[1;33m[\u001b[0m\u001b[1;34m\"directors\"\u001b[0m\u001b[1;33m]\u001b[0m\u001b[1;33m.\u001b[0m\u001b[0mstr\u001b[0m\u001b[1;33m.\u001b[0m\u001b[0mlen\u001b[0m\u001b[1;33m(\u001b[0m\u001b[1;33m)\u001b[0m \u001b[1;33m!=\u001b[0m \u001b[1;36m0\u001b[0m\u001b[1;33m]\u001b[0m\u001b[1;33m.\u001b[0m\u001b[0mreset_index\u001b[0m\u001b[1;33m(\u001b[0m\u001b[0mdrop\u001b[0m \u001b[1;33m=\u001b[0m \u001b[1;32mTrue\u001b[0m\u001b[1;33m)\u001b[0m\u001b[1;33m\u001b[0m\u001b[0m\n\u001b[0m\u001b[0;32m      2\u001b[0m \u001b[0mreves\u001b[0m\u001b[1;33m[\u001b[0m\u001b[1;34m\"directors\"\u001b[0m\u001b[1;33m]\u001b[0m \u001b[1;33m=\u001b[0m \u001b[0mreves\u001b[0m\u001b[1;33m[\u001b[0m\u001b[1;34m\"directors\"\u001b[0m\u001b[1;33m]\u001b[0m\u001b[1;33m.\u001b[0m\u001b[0mapply\u001b[0m\u001b[1;33m(\u001b[0m\u001b[1;32mlambda\u001b[0m \u001b[0mx\u001b[0m\u001b[1;33m:\u001b[0m \u001b[1;33m[\u001b[0m\u001b[0mrf\u001b[0m\u001b[1;33m.\u001b[0m\u001b[0mclean\u001b[0m\u001b[1;33m(\u001b[0m\u001b[0mname\u001b[0m\u001b[1;33m)\u001b[0m \u001b[1;32mfor\u001b[0m \u001b[0mname\u001b[0m \u001b[1;32min\u001b[0m \u001b[0mx\u001b[0m\u001b[1;33m]\u001b[0m\u001b[1;33m)\u001b[0m\u001b[1;33m\u001b[0m\u001b[0m\n\u001b[0;32m      3\u001b[0m \u001b[0mdirectors_dict\u001b[0m \u001b[1;33m=\u001b[0m \u001b[0mrf\u001b[0m\u001b[1;33m.\u001b[0m\u001b[0mword_mean\u001b[0m\u001b[1;33m(\u001b[0m\u001b[0mreves\u001b[0m\u001b[1;33m,\u001b[0m \u001b[1;34m\"Directors\"\u001b[0m\u001b[1;33m,\u001b[0m \u001b[1;34m\"revenue_inflated\"\u001b[0m\u001b[1;33m)\u001b[0m\u001b[1;33m\u001b[0m\u001b[0m\n\u001b[0;32m      4\u001b[0m \u001b[0mreves\u001b[0m\u001b[1;33m[\u001b[0m\u001b[1;34m\"directors\"\u001b[0m\u001b[1;33m]\u001b[0m \u001b[1;33m=\u001b[0m \u001b[0mreves\u001b[0m\u001b[1;33m[\u001b[0m\u001b[1;34m\"directors\"\u001b[0m\u001b[1;33m]\u001b[0m\u001b[1;33m.\u001b[0m\u001b[0mapply\u001b[0m\u001b[1;33m(\u001b[0m\u001b[0mrf\u001b[0m\u001b[1;33m.\u001b[0m\u001b[0mget_mean\u001b[0m\u001b[1;33m,\u001b[0m \u001b[0mvariable_mean_dict\u001b[0m \u001b[1;33m=\u001b[0m \u001b[0mdirectors_dict\u001b[0m\u001b[1;33m)\u001b[0m\u001b[1;33m\u001b[0m\u001b[0m\n",
      "\u001b[1;32m~\\Anaconda3\\lib\\site-packages\\pandas\\core\\frame.py\u001b[0m in \u001b[0;36m__getitem__\u001b[1;34m(self, key)\u001b[0m\n\u001b[0;32m   2683\u001b[0m             \u001b[1;32mreturn\u001b[0m \u001b[0mself\u001b[0m\u001b[1;33m.\u001b[0m\u001b[0m_getitem_multilevel\u001b[0m\u001b[1;33m(\u001b[0m\u001b[0mkey\u001b[0m\u001b[1;33m)\u001b[0m\u001b[1;33m\u001b[0m\u001b[0m\n\u001b[0;32m   2684\u001b[0m         \u001b[1;32melse\u001b[0m\u001b[1;33m:\u001b[0m\u001b[1;33m\u001b[0m\u001b[0m\n\u001b[1;32m-> 2685\u001b[1;33m             \u001b[1;32mreturn\u001b[0m \u001b[0mself\u001b[0m\u001b[1;33m.\u001b[0m\u001b[0m_getitem_column\u001b[0m\u001b[1;33m(\u001b[0m\u001b[0mkey\u001b[0m\u001b[1;33m)\u001b[0m\u001b[1;33m\u001b[0m\u001b[0m\n\u001b[0m\u001b[0;32m   2686\u001b[0m \u001b[1;33m\u001b[0m\u001b[0m\n\u001b[0;32m   2687\u001b[0m     \u001b[1;32mdef\u001b[0m \u001b[0m_getitem_column\u001b[0m\u001b[1;33m(\u001b[0m\u001b[0mself\u001b[0m\u001b[1;33m,\u001b[0m \u001b[0mkey\u001b[0m\u001b[1;33m)\u001b[0m\u001b[1;33m:\u001b[0m\u001b[1;33m\u001b[0m\u001b[0m\n",
      "\u001b[1;32m~\\Anaconda3\\lib\\site-packages\\pandas\\core\\frame.py\u001b[0m in \u001b[0;36m_getitem_column\u001b[1;34m(self, key)\u001b[0m\n\u001b[0;32m   2690\u001b[0m         \u001b[1;31m# get column\u001b[0m\u001b[1;33m\u001b[0m\u001b[1;33m\u001b[0m\u001b[0m\n\u001b[0;32m   2691\u001b[0m         \u001b[1;32mif\u001b[0m \u001b[0mself\u001b[0m\u001b[1;33m.\u001b[0m\u001b[0mcolumns\u001b[0m\u001b[1;33m.\u001b[0m\u001b[0mis_unique\u001b[0m\u001b[1;33m:\u001b[0m\u001b[1;33m\u001b[0m\u001b[0m\n\u001b[1;32m-> 2692\u001b[1;33m             \u001b[1;32mreturn\u001b[0m \u001b[0mself\u001b[0m\u001b[1;33m.\u001b[0m\u001b[0m_get_item_cache\u001b[0m\u001b[1;33m(\u001b[0m\u001b[0mkey\u001b[0m\u001b[1;33m)\u001b[0m\u001b[1;33m\u001b[0m\u001b[0m\n\u001b[0m\u001b[0;32m   2693\u001b[0m \u001b[1;33m\u001b[0m\u001b[0m\n\u001b[0;32m   2694\u001b[0m         \u001b[1;31m# duplicate columns & possible reduce dimensionality\u001b[0m\u001b[1;33m\u001b[0m\u001b[1;33m\u001b[0m\u001b[0m\n",
      "\u001b[1;32m~\\Anaconda3\\lib\\site-packages\\pandas\\core\\generic.py\u001b[0m in \u001b[0;36m_get_item_cache\u001b[1;34m(self, item)\u001b[0m\n\u001b[0;32m   2484\u001b[0m         \u001b[0mres\u001b[0m \u001b[1;33m=\u001b[0m \u001b[0mcache\u001b[0m\u001b[1;33m.\u001b[0m\u001b[0mget\u001b[0m\u001b[1;33m(\u001b[0m\u001b[0mitem\u001b[0m\u001b[1;33m)\u001b[0m\u001b[1;33m\u001b[0m\u001b[0m\n\u001b[0;32m   2485\u001b[0m         \u001b[1;32mif\u001b[0m \u001b[0mres\u001b[0m \u001b[1;32mis\u001b[0m \u001b[1;32mNone\u001b[0m\u001b[1;33m:\u001b[0m\u001b[1;33m\u001b[0m\u001b[0m\n\u001b[1;32m-> 2486\u001b[1;33m             \u001b[0mvalues\u001b[0m \u001b[1;33m=\u001b[0m \u001b[0mself\u001b[0m\u001b[1;33m.\u001b[0m\u001b[0m_data\u001b[0m\u001b[1;33m.\u001b[0m\u001b[0mget\u001b[0m\u001b[1;33m(\u001b[0m\u001b[0mitem\u001b[0m\u001b[1;33m)\u001b[0m\u001b[1;33m\u001b[0m\u001b[0m\n\u001b[0m\u001b[0;32m   2487\u001b[0m             \u001b[0mres\u001b[0m \u001b[1;33m=\u001b[0m \u001b[0mself\u001b[0m\u001b[1;33m.\u001b[0m\u001b[0m_box_item_values\u001b[0m\u001b[1;33m(\u001b[0m\u001b[0mitem\u001b[0m\u001b[1;33m,\u001b[0m \u001b[0mvalues\u001b[0m\u001b[1;33m)\u001b[0m\u001b[1;33m\u001b[0m\u001b[0m\n\u001b[0;32m   2488\u001b[0m             \u001b[0mcache\u001b[0m\u001b[1;33m[\u001b[0m\u001b[0mitem\u001b[0m\u001b[1;33m]\u001b[0m \u001b[1;33m=\u001b[0m \u001b[0mres\u001b[0m\u001b[1;33m\u001b[0m\u001b[0m\n",
      "\u001b[1;32m~\\Anaconda3\\lib\\site-packages\\pandas\\core\\internals.py\u001b[0m in \u001b[0;36mget\u001b[1;34m(self, item, fastpath)\u001b[0m\n\u001b[0;32m   4113\u001b[0m \u001b[1;33m\u001b[0m\u001b[0m\n\u001b[0;32m   4114\u001b[0m             \u001b[1;32mif\u001b[0m \u001b[1;32mnot\u001b[0m \u001b[0misna\u001b[0m\u001b[1;33m(\u001b[0m\u001b[0mitem\u001b[0m\u001b[1;33m)\u001b[0m\u001b[1;33m:\u001b[0m\u001b[1;33m\u001b[0m\u001b[0m\n\u001b[1;32m-> 4115\u001b[1;33m                 \u001b[0mloc\u001b[0m \u001b[1;33m=\u001b[0m \u001b[0mself\u001b[0m\u001b[1;33m.\u001b[0m\u001b[0mitems\u001b[0m\u001b[1;33m.\u001b[0m\u001b[0mget_loc\u001b[0m\u001b[1;33m(\u001b[0m\u001b[0mitem\u001b[0m\u001b[1;33m)\u001b[0m\u001b[1;33m\u001b[0m\u001b[0m\n\u001b[0m\u001b[0;32m   4116\u001b[0m             \u001b[1;32melse\u001b[0m\u001b[1;33m:\u001b[0m\u001b[1;33m\u001b[0m\u001b[0m\n\u001b[0;32m   4117\u001b[0m                 \u001b[0mindexer\u001b[0m \u001b[1;33m=\u001b[0m \u001b[0mnp\u001b[0m\u001b[1;33m.\u001b[0m\u001b[0marange\u001b[0m\u001b[1;33m(\u001b[0m\u001b[0mlen\u001b[0m\u001b[1;33m(\u001b[0m\u001b[0mself\u001b[0m\u001b[1;33m.\u001b[0m\u001b[0mitems\u001b[0m\u001b[1;33m)\u001b[0m\u001b[1;33m)\u001b[0m\u001b[1;33m[\u001b[0m\u001b[0misna\u001b[0m\u001b[1;33m(\u001b[0m\u001b[0mself\u001b[0m\u001b[1;33m.\u001b[0m\u001b[0mitems\u001b[0m\u001b[1;33m)\u001b[0m\u001b[1;33m]\u001b[0m\u001b[1;33m\u001b[0m\u001b[0m\n",
      "\u001b[1;32m~\\Anaconda3\\lib\\site-packages\\pandas\\core\\indexes\\base.py\u001b[0m in \u001b[0;36mget_loc\u001b[1;34m(self, key, method, tolerance)\u001b[0m\n\u001b[0;32m   3063\u001b[0m                 \u001b[1;32mreturn\u001b[0m \u001b[0mself\u001b[0m\u001b[1;33m.\u001b[0m\u001b[0m_engine\u001b[0m\u001b[1;33m.\u001b[0m\u001b[0mget_loc\u001b[0m\u001b[1;33m(\u001b[0m\u001b[0mkey\u001b[0m\u001b[1;33m)\u001b[0m\u001b[1;33m\u001b[0m\u001b[0m\n\u001b[0;32m   3064\u001b[0m             \u001b[1;32mexcept\u001b[0m \u001b[0mKeyError\u001b[0m\u001b[1;33m:\u001b[0m\u001b[1;33m\u001b[0m\u001b[0m\n\u001b[1;32m-> 3065\u001b[1;33m                 \u001b[1;32mreturn\u001b[0m \u001b[0mself\u001b[0m\u001b[1;33m.\u001b[0m\u001b[0m_engine\u001b[0m\u001b[1;33m.\u001b[0m\u001b[0mget_loc\u001b[0m\u001b[1;33m(\u001b[0m\u001b[0mself\u001b[0m\u001b[1;33m.\u001b[0m\u001b[0m_maybe_cast_indexer\u001b[0m\u001b[1;33m(\u001b[0m\u001b[0mkey\u001b[0m\u001b[1;33m)\u001b[0m\u001b[1;33m)\u001b[0m\u001b[1;33m\u001b[0m\u001b[0m\n\u001b[0m\u001b[0;32m   3066\u001b[0m \u001b[1;33m\u001b[0m\u001b[0m\n\u001b[0;32m   3067\u001b[0m         \u001b[0mindexer\u001b[0m \u001b[1;33m=\u001b[0m \u001b[0mself\u001b[0m\u001b[1;33m.\u001b[0m\u001b[0mget_indexer\u001b[0m\u001b[1;33m(\u001b[0m\u001b[1;33m[\u001b[0m\u001b[0mkey\u001b[0m\u001b[1;33m]\u001b[0m\u001b[1;33m,\u001b[0m \u001b[0mmethod\u001b[0m\u001b[1;33m=\u001b[0m\u001b[0mmethod\u001b[0m\u001b[1;33m,\u001b[0m \u001b[0mtolerance\u001b[0m\u001b[1;33m=\u001b[0m\u001b[0mtolerance\u001b[0m\u001b[1;33m)\u001b[0m\u001b[1;33m\u001b[0m\u001b[0m\n",
      "\u001b[1;32mpandas\\_libs\\index.pyx\u001b[0m in \u001b[0;36mpandas._libs.index.IndexEngine.get_loc\u001b[1;34m()\u001b[0m\n",
      "\u001b[1;32mpandas\\_libs\\index.pyx\u001b[0m in \u001b[0;36mpandas._libs.index.IndexEngine.get_loc\u001b[1;34m()\u001b[0m\n",
      "\u001b[1;32mpandas\\_libs\\hashtable_class_helper.pxi\u001b[0m in \u001b[0;36mpandas._libs.hashtable.PyObjectHashTable.get_item\u001b[1;34m()\u001b[0m\n",
      "\u001b[1;32mpandas\\_libs\\hashtable_class_helper.pxi\u001b[0m in \u001b[0;36mpandas._libs.hashtable.PyObjectHashTable.get_item\u001b[1;34m()\u001b[0m\n",
      "\u001b[1;31mKeyError\u001b[0m: 'directors'"
     ]
    }
   ],
   "source": [
    "reves = reves[reves[\"directors\"].str.len() != 0].reset_index(drop = True)\n",
    "reves[\"directors\"] = reves[\"directors\"].apply(lambda x: [rf.clean(name) for name in x])\n",
    "directors_dict = rf.word_mean(reves, \"Directors\", \"revenue_inflated\")\n",
    "reves[\"directors\"] = reves[\"directors\"].apply(rf.get_mean, variable_mean_dict = directors_dict)"
   ]
  },
  {
   "cell_type": "code",
   "execution_count": null,
   "metadata": {},
   "outputs": [],
   "source": [
    "reves[[\"directors\", \"revenue_inflated\", \"title\"]].sort_values(by = \"directors\", ascending = False).head(5)"
   ]
  },
  {
   "cell_type": "code",
   "execution_count": null,
   "metadata": {},
   "outputs": [],
   "source": [
    "sorted(directors_dict, key = directors_dict.get, reverse = True)[:5]"
   ]
  },
  {
   "cell_type": "markdown",
   "metadata": {},
   "source": [
    "#### Writers"
   ]
  },
  {
   "cell_type": "markdown",
   "metadata": {},
   "source": [
    "Same as before :)"
   ]
  },
  {
   "cell_type": "code",
   "execution_count": null,
   "metadata": {},
   "outputs": [],
   "source": [
    "reves = reves[reves[\"writers\"].str.len() != 0].reset_index(drop = True)\n",
    "reves[\"writers\"] = reves[\"writers\"].apply(lambda x: [rf.clean(name) for name in x])\n",
    "writers_dict = rf.word_mean(reves, \"writers\", \"revenue_inflated\")\n",
    "reves[\"writers\"] = reves[\"writers\"].apply(rf.get_mean, variable_mean_dict = writers_dict)"
   ]
  },
  {
   "cell_type": "code",
   "execution_count": null,
   "metadata": {},
   "outputs": [],
   "source": [
    "reves[[\"writers\", \"revenue_inflated\", \"title\"]].sort_values(by = \"writers\", ascending = False).head(5)"
   ]
  },
  {
   "cell_type": "code",
   "execution_count": null,
   "metadata": {},
   "outputs": [],
   "source": [
    "sorted(writers_dict, key = writers_dict.get, reverse = True)[:5]"
   ]
  },
  {
   "cell_type": "markdown",
   "metadata": {},
   "source": [
    "#### Keywords"
   ]
  },
  {
   "cell_type": "markdown",
   "metadata": {},
   "source": [
    "Same as before, but this time with a sligh difference. We know that some keywords mean more than others because they explain certain movie properties that are deeply related with box office. We are talking about 3d or imax, which usually mean a higher ticket price. That's why we are using this 2 keywords as key factors in our front-end and we specifically ask the user about them in our app. "
   ]
  },
  {
   "cell_type": "code",
   "execution_count": null,
   "metadata": {},
   "outputs": [],
   "source": [
    "reves = reves[reves[\"keywords\"].str.len() != 0].reset_index(drop = True)\n",
    "reves[\"keywords\"] = reves[\"keywords\"].apply(lambda x: [rf.clean(name) for name in x])\n",
    "keywords_dict = rf.word_mean(reves, \"keywords\", \"revenue_inflated\")\n",
    "reves[\"keywords\"] = reves[\"keywords\"].apply(rf.get_mean, variable_mean_dict = keywords_dict)"
   ]
  },
  {
   "cell_type": "code",
   "execution_count": null,
   "metadata": {},
   "outputs": [],
   "source": [
    "reves[[\"keywords\", \"revenue_inflated\", \"title\"]].sort_values(by = \"keywords\", ascending = False).head(5)"
   ]
  },
  {
   "cell_type": "code",
   "execution_count": 51,
   "metadata": {},
   "outputs": [
    {
     "ename": "NameError",
     "evalue": "name 'keywords_dict' is not defined",
     "output_type": "error",
     "traceback": [
      "\u001b[1;31m---------------------------------------------------------------------------\u001b[0m",
      "\u001b[1;31mNameError\u001b[0m                                 Traceback (most recent call last)",
      "\u001b[1;32m<ipython-input-51-a05d47b4eec7>\u001b[0m in \u001b[0;36m<module>\u001b[1;34m()\u001b[0m\n\u001b[1;32m----> 1\u001b[1;33m \u001b[0msorted\u001b[0m\u001b[1;33m(\u001b[0m\u001b[0mkeywords_dict\u001b[0m\u001b[1;33m,\u001b[0m \u001b[0mkey\u001b[0m \u001b[1;33m=\u001b[0m \u001b[0mkeywords_dict\u001b[0m\u001b[1;33m.\u001b[0m\u001b[0mget\u001b[0m\u001b[1;33m,\u001b[0m \u001b[0mreverse\u001b[0m \u001b[1;33m=\u001b[0m \u001b[1;32mTrue\u001b[0m\u001b[1;33m)\u001b[0m\u001b[1;33m[\u001b[0m\u001b[1;33m:\u001b[0m\u001b[1;36m5\u001b[0m\u001b[1;33m]\u001b[0m\u001b[1;33m\u001b[0m\u001b[0m\n\u001b[0m",
      "\u001b[1;31mNameError\u001b[0m: name 'keywords_dict' is not defined"
     ]
    }
   ],
   "source": [
    "sorted(keywords_dict, key = keywords_dict.get, reverse = True)[:5]"
   ]
  },
  {
   "cell_type": "markdown",
   "metadata": {},
   "source": [
    "#### Release Month and Release Weekday"
   ]
  },
  {
   "cell_type": "markdown",
   "metadata": {},
   "source": [
    "Same transformation criteria as before."
   ]
  },
  {
   "cell_type": "code",
   "execution_count": 52,
   "metadata": {},
   "outputs": [
    {
     "name": "stderr",
     "output_type": "stream",
     "text": [
      "C:\\Users\\Elsa\\Documents\\GitHub\\reves\\revesFunctions.py:79: FutureWarning: get_value is deprecated and will be removed in a future release. Please use .at[] or .iat[] accessors instead\n",
      "  word_mean_dict[name] = dataframe.get_value(i, variable) / counter[name]\n",
      "C:\\Users\\Elsa\\Documents\\GitHub\\reves\\revesFunctions.py:81: FutureWarning: get_value is deprecated and will be removed in a future release. Please use .at[] or .iat[] accessors instead\n",
      "  word_mean_dict[name] = word_mean_dict[name] + (dataframe.get_value(i, variable) / counter[name])\n"
     ]
    }
   ],
   "source": [
    "reves = reves[reves[\"release_month\"].notnull()].reset_index(drop = True)\n",
    "\n",
    "reves[\"release_month\"] = reves[\"release_month\"].apply(lambda x: [x])\n",
    "reves[\"release_weekday\"] = reves[\"release_weekday\"].apply(lambda x: [x])\n",
    "\n",
    "month_dict = rf.word_mean(reves, \"release_month\", \"revenue_inflated\")\n",
    "reves[\"release_month\"] = reves[\"release_month\"].apply(rf.get_mean, variable_mean_dict = month_dict)\n",
    "\n",
    "weekday_dict = rf.word_mean(reves, \"release_weekday\", \"revenue_inflated\")\n",
    "reves[\"release_weekday\"] = reves[\"release_weekday\"].apply(rf.get_mean, variable_mean_dict = weekday_dict)"
   ]
  },
  {
   "cell_type": "code",
   "execution_count": 53,
   "metadata": {},
   "outputs": [
    {
     "data": {
      "text/plain": [
       "[6.0, 12.0, 11.0, 7.0, 5.0, 3.0, 4.0, 10.0, 2.0, 8.0, 1.0, 9.0]"
      ]
     },
     "execution_count": 53,
     "metadata": {},
     "output_type": "execute_result"
    }
   ],
   "source": [
    "sorted(month_dict, key = month_dict.get, reverse = True)"
   ]
  },
  {
   "cell_type": "code",
   "execution_count": 54,
   "metadata": {},
   "outputs": [
    {
     "data": {
      "text/plain": [
       "[1.0, 2.0, 0.0, 3.0, 5.0, 6.0, 4.0]"
      ]
     },
     "execution_count": 54,
     "metadata": {},
     "output_type": "execute_result"
    }
   ],
   "source": [
    "sorted(weekday_dict, key = weekday_dict.get, reverse = True)"
   ]
  },
  {
   "cell_type": "markdown",
   "metadata": {},
   "source": [
    "Drop the irrelevant columns at this point."
   ]
  },
  {
   "cell_type": "code",
   "execution_count": 55,
   "metadata": {},
   "outputs": [],
   "source": [
    "reves.drop([\"revenue\", \"title\", \"release_year\", \"cpi\", \"cast_gender\"], axis = 1, inplace = True)"
   ]
  },
  {
   "cell_type": "code",
   "execution_count": 56,
   "metadata": {},
   "outputs": [
    {
     "data": {
      "text/html": [
       "<div>\n",
       "<style scoped>\n",
       "    .dataframe tbody tr th:only-of-type {\n",
       "        vertical-align: middle;\n",
       "    }\n",
       "\n",
       "    .dataframe tbody tr th {\n",
       "        vertical-align: top;\n",
       "    }\n",
       "\n",
       "    .dataframe thead th {\n",
       "        text-align: right;\n",
       "    }\n",
       "</style>\n",
       "<table border=\"1\" class=\"dataframe\">\n",
       "  <thead>\n",
       "    <tr style=\"text-align: right;\">\n",
       "      <th></th>\n",
       "      <th>belongs_to_collection</th>\n",
       "      <th>genres</th>\n",
       "      <th>imdb_id</th>\n",
       "      <th>original_language</th>\n",
       "      <th>production_companies</th>\n",
       "      <th>runtime</th>\n",
       "      <th>keywords</th>\n",
       "      <th>release_month</th>\n",
       "      <th>release_weekday</th>\n",
       "      <th>cast_names</th>\n",
       "      <th>Directors</th>\n",
       "      <th>Producers</th>\n",
       "      <th>Screenplayers</th>\n",
       "      <th>revenue_inflated</th>\n",
       "      <th>genres_counter</th>\n",
       "      <th>production_companies_counter</th>\n",
       "      <th>main_actor_genre</th>\n",
       "    </tr>\n",
       "  </thead>\n",
       "  <tbody>\n",
       "    <tr>\n",
       "      <th>0</th>\n",
       "      <td>8.440002e+08</td>\n",
       "      <td>1.993608e+08</td>\n",
       "      <td>tt0114709</td>\n",
       "      <td>1.174373e+08</td>\n",
       "      <td>7.367050e+08</td>\n",
       "      <td>81.0</td>\n",
       "      <td>[{'id': 931, 'name': 'jealousy'}, {'id': 4290,...</td>\n",
       "      <td>8.027825e+07</td>\n",
       "      <td>1.341440e+08</td>\n",
       "      <td>3.615782e+08</td>\n",
       "      <td>[John Lasseter]</td>\n",
       "      <td>[Bonnie Arnold, Ralph Guggenheim]</td>\n",
       "      <td>[Joss Whedon, Andrew Stanton, Joel Cohen, Alec...</td>\n",
       "      <td>6.008239e+08</td>\n",
       "      <td>3</td>\n",
       "      <td>1</td>\n",
       "      <td>1.760033e+08</td>\n",
       "    </tr>\n",
       "    <tr>\n",
       "      <th>1</th>\n",
       "      <td>6.995572e+07</td>\n",
       "      <td>2.405608e+08</td>\n",
       "      <td>tt0113497</td>\n",
       "      <td>1.174373e+08</td>\n",
       "      <td>1.488069e+08</td>\n",
       "      <td>104.0</td>\n",
       "      <td>[{'id': 10090, 'name': 'board game'}, {'id': 1...</td>\n",
       "      <td>1.731988e+08</td>\n",
       "      <td>7.844980e+07</td>\n",
       "      <td>3.183825e+08</td>\n",
       "      <td>[Joe Johnston]</td>\n",
       "      <td>[Scott Kroopf, William Teitler]</td>\n",
       "      <td>[Jonathan Hensleigh, Greg Taylor, Jim Strain]</td>\n",
       "      <td>4.226828e+08</td>\n",
       "      <td>3</td>\n",
       "      <td>3</td>\n",
       "      <td>1.760033e+08</td>\n",
       "    </tr>\n",
       "    <tr>\n",
       "      <th>2</th>\n",
       "      <td>6.995572e+07</td>\n",
       "      <td>8.433934e+07</td>\n",
       "      <td>tt0114885</td>\n",
       "      <td>1.174373e+08</td>\n",
       "      <td>2.249604e+08</td>\n",
       "      <td>127.0</td>\n",
       "      <td>[{'id': 818, 'name': 'based on novel'}, {'id':...</td>\n",
       "      <td>1.731988e+08</td>\n",
       "      <td>7.844980e+07</td>\n",
       "      <td>1.289398e+08</td>\n",
       "      <td>[Forest Whitaker]</td>\n",
       "      <td>[Ronald Bass, Ezra Swerdlow, Deborah Schindler...</td>\n",
       "      <td>[Ronald Bass, Terry McMillan]</td>\n",
       "      <td>1.310076e+08</td>\n",
       "      <td>3</td>\n",
       "      <td>1</td>\n",
       "      <td>1.537526e+08</td>\n",
       "    </tr>\n",
       "    <tr>\n",
       "      <th>3</th>\n",
       "      <td>1.419648e+08</td>\n",
       "      <td>9.177502e+07</td>\n",
       "      <td>tt0113041</td>\n",
       "      <td>1.174373e+08</td>\n",
       "      <td>1.058243e+08</td>\n",
       "      <td>106.0</td>\n",
       "      <td>[{'id': 1009, 'name': 'baby'}, {'id': 1599, 'n...</td>\n",
       "      <td>7.811190e+07</td>\n",
       "      <td>7.844980e+07</td>\n",
       "      <td>1.395087e+08</td>\n",
       "      <td>[Charles Shyer]</td>\n",
       "      <td>[Nancy Meyers]</td>\n",
       "      <td>[Nancy Meyers, Albert Hackett]</td>\n",
       "      <td>1.231694e+08</td>\n",
       "      <td>1</td>\n",
       "      <td>2</td>\n",
       "      <td>1.760033e+08</td>\n",
       "    </tr>\n",
       "    <tr>\n",
       "      <th>4</th>\n",
       "      <td>6.995572e+07</td>\n",
       "      <td>1.064514e+08</td>\n",
       "      <td>tt0113277</td>\n",
       "      <td>1.174373e+08</td>\n",
       "      <td>1.758369e+08</td>\n",
       "      <td>170.0</td>\n",
       "      <td>[{'id': 642, 'name': 'robbery'}, {'id': 703, '...</td>\n",
       "      <td>1.731988e+08</td>\n",
       "      <td>7.844980e+07</td>\n",
       "      <td>1.558497e+08</td>\n",
       "      <td>[Michael Mann]</td>\n",
       "      <td>[Art Linson, Michael Mann]</td>\n",
       "      <td>[Michael Mann]</td>\n",
       "      <td>3.014732e+08</td>\n",
       "      <td>4</td>\n",
       "      <td>3</td>\n",
       "      <td>1.760033e+08</td>\n",
       "    </tr>\n",
       "  </tbody>\n",
       "</table>\n",
       "</div>"
      ],
      "text/plain": [
       "   belongs_to_collection        genres    imdb_id  original_language  \\\n",
       "0           8.440002e+08  1.993608e+08  tt0114709       1.174373e+08   \n",
       "1           6.995572e+07  2.405608e+08  tt0113497       1.174373e+08   \n",
       "2           6.995572e+07  8.433934e+07  tt0114885       1.174373e+08   \n",
       "3           1.419648e+08  9.177502e+07  tt0113041       1.174373e+08   \n",
       "4           6.995572e+07  1.064514e+08  tt0113277       1.174373e+08   \n",
       "\n",
       "   production_companies  runtime  \\\n",
       "0          7.367050e+08     81.0   \n",
       "1          1.488069e+08    104.0   \n",
       "2          2.249604e+08    127.0   \n",
       "3          1.058243e+08    106.0   \n",
       "4          1.758369e+08    170.0   \n",
       "\n",
       "                                            keywords  release_month  \\\n",
       "0  [{'id': 931, 'name': 'jealousy'}, {'id': 4290,...   8.027825e+07   \n",
       "1  [{'id': 10090, 'name': 'board game'}, {'id': 1...   1.731988e+08   \n",
       "2  [{'id': 818, 'name': 'based on novel'}, {'id':...   1.731988e+08   \n",
       "3  [{'id': 1009, 'name': 'baby'}, {'id': 1599, 'n...   7.811190e+07   \n",
       "4  [{'id': 642, 'name': 'robbery'}, {'id': 703, '...   1.731988e+08   \n",
       "\n",
       "   release_weekday    cast_names          Directors  \\\n",
       "0     1.341440e+08  3.615782e+08    [John Lasseter]   \n",
       "1     7.844980e+07  3.183825e+08     [Joe Johnston]   \n",
       "2     7.844980e+07  1.289398e+08  [Forest Whitaker]   \n",
       "3     7.844980e+07  1.395087e+08    [Charles Shyer]   \n",
       "4     7.844980e+07  1.558497e+08     [Michael Mann]   \n",
       "\n",
       "                                           Producers  \\\n",
       "0                  [Bonnie Arnold, Ralph Guggenheim]   \n",
       "1                    [Scott Kroopf, William Teitler]   \n",
       "2  [Ronald Bass, Ezra Swerdlow, Deborah Schindler...   \n",
       "3                                     [Nancy Meyers]   \n",
       "4                         [Art Linson, Michael Mann]   \n",
       "\n",
       "                                       Screenplayers  revenue_inflated  \\\n",
       "0  [Joss Whedon, Andrew Stanton, Joel Cohen, Alec...      6.008239e+08   \n",
       "1      [Jonathan Hensleigh, Greg Taylor, Jim Strain]      4.226828e+08   \n",
       "2                      [Ronald Bass, Terry McMillan]      1.310076e+08   \n",
       "3                     [Nancy Meyers, Albert Hackett]      1.231694e+08   \n",
       "4                                     [Michael Mann]      3.014732e+08   \n",
       "\n",
       "   genres_counter  production_companies_counter  main_actor_genre  \n",
       "0               3                             1      1.760033e+08  \n",
       "1               3                             3      1.760033e+08  \n",
       "2               3                             1      1.537526e+08  \n",
       "3               1                             2      1.760033e+08  \n",
       "4               4                             3      1.760033e+08  "
      ]
     },
     "execution_count": 56,
     "metadata": {},
     "output_type": "execute_result"
    }
   ],
   "source": [
    "reves.head()"
   ]
  },
  {
   "cell_type": "code",
   "execution_count": 57,
   "metadata": {},
   "outputs": [],
   "source": [
    "reves.to_pickle(\"data/reves.pkl\")"
   ]
  },
  {
   "cell_type": "markdown",
   "metadata": {},
   "source": [
    "#### Runtime\n",
    "Yey! Runtime is good to go with no transformation as it is already a numeric value."
   ]
  },
  {
   "cell_type": "markdown",
   "metadata": {},
   "source": [
    "### Values for the dataframe transformation"
   ]
  },
  {
   "cell_type": "markdown",
   "metadata": {},
   "source": [
    "Esta celda a continuación es únicamente guardar los diccionarios generados en un pickle para su uso posterior a la hora de probar el modelo con películas nuevas. Las guardo en una carpeta llamada \"transformation\".\n",
    "\n",
    "Hay que tener en cuenta que en cuanto se prueba el modelo para películas nuevas, se va poniendo los datos y hacen falta estos diccionarios para realizar las transformaciones correspondientes."
   ]
  },
  {
   "cell_type": "code",
   "execution_count": 58,
   "metadata": {},
   "outputs": [
    {
     "ename": "NameError",
     "evalue": "name 'directors_dict' is not defined",
     "output_type": "error",
     "traceback": [
      "\u001b[1;31m---------------------------------------------------------------------------\u001b[0m",
      "\u001b[1;31mNameError\u001b[0m                                 Traceback (most recent call last)",
      "\u001b[1;32m<ipython-input-58-2fcd323538db>\u001b[0m in \u001b[0;36m<module>\u001b[1;34m()\u001b[0m\n\u001b[0;32m     20\u001b[0m \u001b[1;33m\u001b[0m\u001b[0m\n\u001b[0;32m     21\u001b[0m \u001b[1;32mwith\u001b[0m \u001b[0mopen\u001b[0m\u001b[1;33m(\u001b[0m\u001b[1;34m\"transformation/directors_dict.pickle\"\u001b[0m\u001b[1;33m,\u001b[0m \u001b[1;34m\"wb\"\u001b[0m\u001b[1;33m)\u001b[0m \u001b[1;32mas\u001b[0m \u001b[0mhandle\u001b[0m\u001b[1;33m:\u001b[0m\u001b[1;33m\u001b[0m\u001b[0m\n\u001b[1;32m---> 22\u001b[1;33m     \u001b[0mpickle\u001b[0m\u001b[1;33m.\u001b[0m\u001b[0mdump\u001b[0m\u001b[1;33m(\u001b[0m\u001b[0mdirectors_dict\u001b[0m\u001b[1;33m,\u001b[0m \u001b[0mhandle\u001b[0m\u001b[1;33m,\u001b[0m \u001b[0mprotocol\u001b[0m\u001b[1;33m=\u001b[0m\u001b[0mpickle\u001b[0m\u001b[1;33m.\u001b[0m\u001b[0mHIGHEST_PROTOCOL\u001b[0m\u001b[1;33m)\u001b[0m\u001b[1;33m\u001b[0m\u001b[0m\n\u001b[0m\u001b[0;32m     23\u001b[0m \u001b[1;33m\u001b[0m\u001b[0m\n\u001b[0;32m     24\u001b[0m \u001b[1;32mwith\u001b[0m \u001b[0mopen\u001b[0m\u001b[1;33m(\u001b[0m\u001b[1;34m\"transformation/writers_dict.pickle\"\u001b[0m\u001b[1;33m,\u001b[0m \u001b[1;34m\"wb\"\u001b[0m\u001b[1;33m)\u001b[0m \u001b[1;32mas\u001b[0m \u001b[0mhandle\u001b[0m\u001b[1;33m:\u001b[0m\u001b[1;33m\u001b[0m\u001b[0m\n",
      "\u001b[1;31mNameError\u001b[0m: name 'directors_dict' is not defined"
     ]
    }
   ],
   "source": [
    "import pickle\n",
    "\n",
    "with open(\"transformation/collection_dict.pickle\", \"wb\") as handle:\n",
    "    pickle.dump(collection_dict, handle, protocol=pickle.HIGHEST_PROTOCOL)\n",
    "    \n",
    "with open(\"transformation/genres_dict.pickle\", \"wb\") as handle:\n",
    "    pickle.dump(genres_dict, handle, protocol=pickle.HIGHEST_PROTOCOL)\n",
    "\n",
    "with open(\"transformation/language_dict.pickle\", \"wb\") as handle:\n",
    "    pickle.dump(language_dict, handle, protocol=pickle.HIGHEST_PROTOCOL)\n",
    "    \n",
    "with open(\"transformation/production_company_dict.pickle\", \"wb\") as handle:\n",
    "    pickle.dump(production_company_dict, handle, protocol=pickle.HIGHEST_PROTOCOL)\n",
    "    \n",
    "with open(\"transformation/cast_dict.pickle\", \"wb\") as handle:\n",
    "    pickle.dump(cast_dict, handle, protocol=pickle.HIGHEST_PROTOCOL)\n",
    "    \n",
    "with open(\"transformation/cast_gender_dict.pickle\", \"wb\") as handle:\n",
    "    pickle.dump(cast_gender_dict, handle, protocol=pickle.HIGHEST_PROTOCOL)\n",
    "    \n",
    "with open(\"transformation/directors_dict.pickle\", \"wb\") as handle:\n",
    "    pickle.dump(directors_dict, handle, protocol=pickle.HIGHEST_PROTOCOL)\n",
    "    \n",
    "with open(\"transformation/writers_dict.pickle\", \"wb\") as handle:\n",
    "    pickle.dump(writers_dict, handle, protocol=pickle.HIGHEST_PROTOCOL)\n",
    "    \n",
    "with open(\"transformation/keywords_dict.pickle\", \"wb\") as handle:\n",
    "    pickle.dump(keywords_dict, handle, protocol=pickle.HIGHEST_PROTOCOL)\n",
    "    \n",
    "with open(\"transformation/month_dict.pickle\", \"wb\") as handle:\n",
    "    pickle.dump(month_dict, handle, protocol=pickle.HIGHEST_PROTOCOL)\n",
    "    \n",
    "with open(\"transformation/weekday_dict.pickle\", \"wb\") as handle:\n",
    "    pickle.dump(weekday_dict, handle, protocol=pickle.HIGHEST_PROTOCOL)"
   ]
  },
  {
   "cell_type": "markdown",
   "metadata": {},
   "source": [
    "### Transformations summary\n",
    "In the final notebook we will resume the transformation developed for back-end and front-end connections.\n",
    "\n",
    "https://github.com/ElsaDuran/reves/blob/master/04.Reves_to_production.ipynb"
   ]
  },
  {
   "cell_type": "markdown",
   "metadata": {},
   "source": [
    "### Keep Coding"
   ]
  },
  {
   "cell_type": "markdown",
   "metadata": {},
   "source": [
    "Go to the following notebook for more.\n",
    "\n",
    "https://github.com/ElsaDuran/reves/blob/master/03.Model.ipynb"
   ]
  },
  {
   "cell_type": "code",
   "execution_count": null,
   "metadata": {},
   "outputs": [],
   "source": []
  }
 ],
 "metadata": {
  "kernelspec": {
   "display_name": "Python 3",
   "language": "python",
   "name": "python3"
  },
  "language_info": {
   "codemirror_mode": {
    "name": "ipython",
    "version": 3
   },
   "file_extension": ".py",
   "mimetype": "text/x-python",
   "name": "python",
   "nbconvert_exporter": "python",
   "pygments_lexer": "ipython3",
   "version": "3.6.5"
  }
 },
 "nbformat": 4,
 "nbformat_minor": 2
}
