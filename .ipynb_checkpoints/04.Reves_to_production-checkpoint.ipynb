{
 "cells": [
  {
   "cell_type": "markdown",
   "metadata": {},
   "source": [
    "# 4.Reves_to_production"
   ]
  },
  {
   "cell_type": "markdown",
   "metadata": {},
   "source": [
    "For now, all this project has been developed on Jupyter notebook, but now is time to use the code on a production enviroment. We have developed a web app that takes inputs from the user, transforms them into a DataFrame, runs the xgboost model with it and returns the predicted revenue and the final data inputs. \n",
    "\n",
    "- Load libraries and data\n",
    "- Take inputs from user\n",
    "- Transform data to suitable Python d-types\n",
    "- Create DataFrame\n",
    "- Apply model\n",
    "- Transform used data to show it back to the user\n",
    "\n",
    "All that code is in revesapp.py file, but we have created this final notebook with all the transformations for easier understanding."
   ]
  },
  {
   "cell_type": "markdown",
   "metadata": {},
   "source": [
    "### Load libraries and data"
   ]
  },
  {
   "cell_type": "code",
   "execution_count": 36,
   "metadata": {},
   "outputs": [],
   "source": [
    "import numpy as np\n",
    "import pandas as pd\n",
    "import pickle\n",
    "import revesFunctions as rf\n",
    "\n",
    "with open(\"transformation/collection_dict.pickle\", \"rb\") as handle:\n",
    "    collection_dict = pickle.load(handle)\n",
    "    \n",
    "with open(\"transformation/genres_dict.pickle\", \"rb\") as handle:\n",
    "    genres_dict = pickle.load(handle)\n",
    "\n",
    "with open(\"transformation/language_dict.pickle\", \"rb\") as handle:\n",
    "    language_dict = pickle.load(handle)\n",
    "    \n",
    "with open(\"transformation/production_company_dict.pickle\", \"rb\") as handle:\n",
    "    production_company_dict = pickle.load(handle)\n",
    "    \n",
    "with open(\"transformation/cast_dict.pickle\", \"rb\") as handle:\n",
    "    cast_dict = pickle.load(handle)\n",
    "    \n",
    "with open(\"transformation/cast_gender_dict.pickle\", \"rb\") as handle:\n",
    "    cast_gender_dict = pickle.load(handle)\n",
    "    \n",
    "with open(\"transformation/directors_dict.pickle\", \"rb\") as handle:\n",
    "    directors_dict = pickle.load(handle)\n",
    "    \n",
    "with open(\"transformation/writers_dict.pickle\", \"rb\") as handle:\n",
    "    writers_dict = pickle.load(handle)\n",
    "    \n",
    "with open(\"transformation/keywords_dict.pickle\", \"rb\") as handle:\n",
    "    keywords_dict = pickle.load(handle)\n",
    "    \n",
    "with open(\"transformation/month_dict.pickle\", \"rb\") as handle:\n",
    "    month_dict = pickle.load(handle)\n",
    "    \n",
    "with open(\"transformation/weekday_dict.pickle\", \"rb\") as handle:\n",
    "    weekday_dict = pickle.load(handle)\n",
    "    \n",
    "xgbo = pickle.load(open(\"xgbo_model.pkl\",\"rb\"))"
   ]
  },
  {
   "cell_type": "markdown",
   "metadata": {},
   "source": [
    "### Take inputs from user"
   ]
  },
  {
   "cell_type": "markdown",
   "metadata": {},
   "source": [
    "We have used WTforms to create a HTML & Flask form. https://revesapp.herokuapp.com/get-the-number.html\n",
    "\n",
    "We ask the user to introduce the following features.\n",
    "\n",
    "Examples have been writen to run a test on this notebook. Also, because in Flask we have to create variables inside the fuction in the @app.route before we run the form's request-method statement. And only then we can assing form's values to each feature."
   ]
  },
  {
   "cell_type": "code",
   "execution_count": 37,
   "metadata": {},
   "outputs": [],
   "source": [
    "title=\"Your movie's\"\n",
    "directors=[\"Ruben Fleischer\"]\n",
    "scriptwriters=['Jeff Pinkner', 'Scott Rosenberg', 'Kelly Marcel', 'Todd McFarlane', 'David Michelinie']\n",
    "cast_names=['Tom Hardy', 'Michelle Williams', 'Riz Ahmed', 'Scott Haze']\n",
    "main_actor_genre=[2]\n",
    "collection=0\n",
    "collection_name=['Venom Collection']\n",
    "genres=[]\n",
    "genres_count=2\n",
    "language=\"2\"\n",
    "planguage=[]\n",
    "production_companies=['Avi Arad Productions', 'Columbia Pictures Corporation', 'Marvel Entertainment', 'Matt Tolmach Productions',\n",
    "'Pascal Pictures', 'Sony Pictures Entertainment (SPE)', 'Tencent Pictures']\n",
    "\n",
    "runtime=120\n",
    "imax=1\n",
    "d3=2\n",
    "month=[7]\n",
    "weekday=[3]\n",
    "keywords=[]\n",
    "\n",
    "drama=\"drama\"\n",
    "comedy=\"\"\n",
    "thriller=\"\"\n",
    "action=\"action\"\n",
    "romance=\"a\"\n",
    "adventure=\"\"\n",
    "crime=\"a\"\n",
    "science_fiction=\"\"\n",
    "horror=\"horror\"\n",
    "family=\"\"\n",
    "fantasy=\"\"\n",
    "mystery=\"\"\n",
    "animation=\"\"\n",
    "history=\"\"\n",
    "music=\"\"\n",
    "war=\"\"\n",
    "documentary=\"\"\n",
    "western=\"\"\n",
    "foreign=\"\"\n",
    "tv=\"\""
   ]
  },
  {
   "cell_type": "markdown",
   "metadata": {},
   "source": [
    "#### Data validation"
   ]
  },
  {
   "cell_type": "markdown",
   "metadata": {},
   "source": [
    "There's no validation method on the form, as we can't force the user to know all the data about the movie. But we have applied some \"data validation\" on the prediction."
   ]
  },
  {
   "cell_type": "code",
   "execution_count": null,
   "metadata": {},
   "outputs": [],
   "source": [
    "if cast_names[0] == \"\" and directors[0] == \"\" and scriptwriters[0]==\"\" and production_companies[0]==\"\":\n",
    "    revenue = 0\n",
    "\n",
    "#else:\n",
    "    #continue reading in Transform data to suitable Python d-types"
   ]
  },
  {
   "cell_type": "markdown",
   "metadata": {},
   "source": [
    "To inform the user, in case this sentence is true, a message will appear in the final page saying \"Reves needs more info about your movie\" by using the following sentence in html file:"
   ]
  },
  {
   "cell_type": "markdown",
   "metadata": {},
   "source": [
    "{%if revenue==0 %}\n",
    "\n",
    "    Reves needs more info about your movie\n",
    "    \n",
    "{%endif%}"
   ]
  },
  {
   "cell_type": "markdown",
   "metadata": {},
   "source": [
    "### Transform data to suitable Python d-types"
   ]
  },
  {
   "cell_type": "markdown",
   "metadata": {},
   "source": [
    "When collecting data from wtform fields, some features do not match model's requirements.\n",
    "\n",
    "For example, imax and 3d are analyzed in keywords, but they are independent fields in our app's form. If the user indicates Imax=Yes or 3d=yes, we have to add them to keywords list before transforming this feature."
   ]
  },
  {
   "cell_type": "code",
   "execution_count": 38,
   "metadata": {},
   "outputs": [],
   "source": [
    "companies_count = len(production_companies)\n",
    "\n",
    "genres = [drama, comedy, thriller, action, romance, adventure, crime, science_fiction, horror, family, fantasy,\n",
    "                 mystery, animation, history, music, war, documentary, western, foreign, tv]\n",
    "genres = [x for x in genres if x != \"None\"]\n",
    "genres_count = len(genres)\n",
    "\n",
    "if imax == 2:\n",
    "    if \"imax\" not in keywords:\n",
    "        keywords.append(\"imax\")\n",
    "\n",
    "if d3 == 2:\n",
    "    if \"3d\" not in keywords:\n",
    "        keywords.append(\"3d\")\n",
    "\n",
    "if planguage == 1:\n",
    "    language=\"en\"\n",
    "elif planguage == 2:\n",
    "    language=\"no\""
   ]
  },
  {
   "cell_type": "markdown",
   "metadata": {},
   "source": [
    "### Create DataFrame"
   ]
  },
  {
   "cell_type": "code",
   "execution_count": 39,
   "metadata": {},
   "outputs": [],
   "source": [
    "data = [directors, \n",
    "        scriptwriters, \n",
    "        collection_name, \n",
    "        genres, \n",
    "        language,\n",
    "        production_companies,\n",
    "        runtime,\n",
    "        keywords,\n",
    "        month,\n",
    "        weekday,\n",
    "        cast_names,\n",
    "        companies_count,\n",
    "        title,\n",
    "        genres_count,\n",
    "        main_actor_genre]\n",
    "\n",
    "x = pd.DataFrame([data], columns=['directors', 'writers', 'belongs_to_collection', 'genres',\n",
    "       'original_language', 'production_companies', 'runtime', 'keywords',\n",
    "       'release_month', 'release_weekday', 'cast_names',\n",
    "       'production_companies_counter', 'title', 'genres_counter',\n",
    "       'main_actor_genre'])"
   ]
  },
  {
   "cell_type": "markdown",
   "metadata": {},
   "source": [
    "### Apply model"
   ]
  },
  {
   "cell_type": "code",
   "execution_count": 40,
   "metadata": {},
   "outputs": [],
   "source": [
    "x[\"directors\"] = x[\"directors\"].apply(lambda x: [rf.clean(name) for name in x])\n",
    "x[\"directors\"] = x[\"directors\"].apply(rf.get_mean, variable_mean_dict=directors_dict)\n",
    "\n",
    "x[\"writers\"] = x[\"writers\"].apply(lambda x: [rf.clean(name) for name in x])\n",
    "x[\"writers\"] = x[\"writers\"].apply(rf.get_mean, variable_mean_dict=writers_dict)\n",
    "\n",
    "x[\"genres\"] = x[\"genres\"].apply(lambda x: [rf.clean(name) for name in x])\n",
    "x[\"genres\"] = x[\"genres\"].apply(rf.get_mean, variable_mean_dict=genres_dict)\n",
    "\n",
    "x[\"cast_names\"] = x[\"cast_names\"].apply(lambda x: [rf.clean(name) for name in x])\n",
    "x[\"cast_names\"] = x[\"cast_names\"].apply(rf.get_mean, variable_mean_dict=cast_dict)\n",
    "\n",
    "x[\"belongs_to_collection\"] = x[\"belongs_to_collection\"].apply(lambda x: [rf.clean(name) for name in x])\n",
    "x[\"belongs_to_collection\"] = x[\"belongs_to_collection\"].apply(rf.get_mean, variable_mean_dict=collection_dict)\n",
    "\n",
    "x[\"original_language\"] = x[\"original_language\"].apply(lambda x: [rf.clean(name) for name in [x]])\n",
    "x[\"original_language\"] = x[\"original_language\"].apply(rf.get_mean, variable_mean_dict=language_dict)\n",
    "\n",
    "x[\"production_companies\"] = x[\"production_companies\"].apply(lambda x: [rf.clean(name) for name in x])\n",
    "x[\"production_companies\"] = x[\"production_companies\"].apply(rf.get_mean, variable_mean_dict=production_company_dict)\n",
    "\n",
    "x[\"release_month\"] = x[\"release_month\"].apply(rf.get_mean, variable_mean_dict=month_dict)\n",
    "x[\"release_weekday\"] = x[\"release_weekday\"].apply(rf.get_mean, variable_mean_dict=weekday_dict)\n",
    "\n",
    "x[\"keywords\"] = x[\"keywords\"].apply(lambda x: [rf.clean(name) for name in x])\n",
    "x[\"keywords\"] = x[\"keywords\"].apply(rf.get_mean, variable_mean_dict=keywords_dict)\n",
    "\n",
    "x[\"main_actor_genre\"] = x[\"main_actor_genre\"].apply(rf.get_mean, variable_mean_dict=cast_gender_dict)"
   ]
  },
  {
   "cell_type": "code",
   "execution_count": 41,
   "metadata": {},
   "outputs": [],
   "source": [
    "x = x.drop([\"title\"], axis=1).values"
   ]
  },
  {
   "cell_type": "code",
   "execution_count": 42,
   "metadata": {},
   "outputs": [],
   "source": [
    "revenue = int(xgbo.predict(x)[0])"
   ]
  },
  {
   "cell_type": "markdown",
   "metadata": {},
   "source": [
    "### Transform used data to show it back to the user"
   ]
  },
  {
   "cell_type": "markdown",
   "metadata": {},
   "source": [
    "On the result page, there's a Data Summary that shows the user the data Reves has used to predict revenue, just as a \"sumbit record\". https://revesapp.herokuapp.com/get-the-number-result.html\n",
    "\n",
    "Can't render the format directly into html file with Flask. That's why we have to format the number and save it back to the variable before passing values to front-end and rendering the html template."
   ]
  },
  {
   "cell_type": "code",
   "execution_count": 43,
   "metadata": {},
   "outputs": [],
   "source": [
    "revenue='{0:,}'.format(revenue) "
   ]
  },
  {
   "cell_type": "markdown",
   "metadata": {},
   "source": [
    "Data is stored in lists. We don't want users to read Data Summary with Python's syntax. We have to transform values back to strings for easier understanding."
   ]
  },
  {
   "cell_type": "code",
   "execution_count": 45,
   "metadata": {},
   "outputs": [],
   "source": [
    "directors=(', '.join(directors))\n",
    "scriptwriters=(', '.join(scriptwriters))\n",
    "cast_names=(', '.join(cast_names))\n",
    "\n",
    "if main_actor_genre[0]==\"2\":\n",
    "        main_actor_genre=\"Male\"\n",
    "elif main_actor_genre[0]==\"1\":\n",
    "    main_actor_genre=\"Female\"\n",
    "else:\n",
    "    main_actor_genre=\"No value\"\n",
    "\n",
    "collection_name=collection_name[0]\n",
    "genres=(', '.join(genres))\n",
    "production_companies=(\", \".join(production_companies))\n",
    "keywords = (\", \".join(keywords))\n",
    "\n",
    "if language==\"en\":\n",
    "    language=\"English\"\n",
    "elif language==\"no\":\n",
    "    language=\"Not English\"\n",
    "\n",
    "if month[0]==\"1\":\n",
    "    month=\"January\"\n",
    "elif month[0]==\"2\":\n",
    "    month=\"February\"\n",
    "elif month[0]==\"3\":\n",
    "    month=\"March\"\n",
    "elif month[0]==\"4\":\n",
    "    month=\"April\"\n",
    "elif month[0]==\"5\":\n",
    "    month=\"May\"\n",
    "elif month[0]==\"6\":\n",
    "    month=\"June\"\n",
    "elif month[0]==\"7\":\n",
    "    month=\"July\"\n",
    "elif month[0]==\"8\":\n",
    "    month=\"August\"\n",
    "elif month[0]==\"9\":\n",
    "    month=\"September\"\n",
    "elif month[0]==\"10\":\n",
    "    month=\"October\"\n",
    "elif month[0]==\"11\":\n",
    "    month=\"November\"\n",
    "elif month[0]==\"12\":\n",
    "    month=\"December\"\n",
    "\n",
    "if weekday[0]==\"1\":\n",
    "    weekday=\"Monday\"\n",
    "elif weekday[0]==\"2\":\n",
    "    weekday=\"Tuesday\"\n",
    "elif weekday[0]==\"3\":\n",
    "    weekday=\"Wednesday\"\n",
    "elif weekday[0]==\"4\":\n",
    "    weekday=\"Thursday\"\n",
    "elif weekday[0]==\"5\":\n",
    "    weekday=\"Friday\"\n",
    "elif weekday[0]==\"6\":\n",
    "    weekday=\"Saturday\"\n",
    "elif weekday[0]==\"7\":\n",
    "    weekday=\"Sunday\""
   ]
  },
  {
   "cell_type": "markdown",
   "metadata": {},
   "source": [
    "### Index pages"
   ]
  },
  {
   "cell_type": "markdown",
   "metadata": {},
   "source": [
    "In a further version of Reves, we will take care of user's misspellings by programming an autocomplete field for some of the features. For now, we have created some Index pages to help the user find the correct spelling of the following fields:\n",
    "\n",
    "- Directors - https://revesapp.herokuapp.com/directors-index.html\n",
    "- Scriptwriters - https://revesapp.herokuapp.com/scriptwriters-index.html\n",
    "- Collections - https://revesapp.herokuapp.com/collections-index.html\n",
    "- Cast Names - https://revesapp.herokuapp.com/cast-index.html\n",
    "- Production companies - https://revesapp.herokuapp.com/companies-index.html\n",
    "- Keywords - https://revesapp.herokuapp.com/keywords-index.html\n",
    "\n",
    "To create this pages, we have directly rendered the keys of the data stored in the dicts created with the training data. This is the function inside the @app.route of those pages."
   ]
  },
  {
   "cell_type": "code",
   "execution_count": 46,
   "metadata": {},
   "outputs": [],
   "source": [
    "def directors():\n",
    "    import pandas as pd\n",
    "    directors=pd.read_pickle(\"./docs/dicts/directors_dict.pickle\")\n",
    "    b=sorted(list(directors.keys()))\n",
    "    c=len(b)\n",
    "    return render_template(\"directors-index.html\",directors=directors,b=b,c=c)"
   ]
  },
  {
   "cell_type": "markdown",
   "metadata": {},
   "source": [
    "On html files, we just print the values of b with this statement.\n",
    "\n",
    "{% for element in b %}\n",
    "    <li>{{element}}</li>\n",
    "{%endfor%}\n",
    "\n",
    "\"c\" is just used to tell user how many different values are there."
   ]
  },
  {
   "cell_type": "markdown",
   "metadata": {},
   "source": [
    "## Play :)"
   ]
  },
  {
   "cell_type": "markdown",
   "metadata": {},
   "source": [
    "Just some examples to play with this notebook."
   ]
  },
  {
   "cell_type": "code",
   "execution_count": 47,
   "metadata": {
    "scrolled": true
   },
   "outputs": [
    {
     "data": {
      "text/html": [
       "<div>\n",
       "<style scoped>\n",
       "    .dataframe tbody tr th:only-of-type {\n",
       "        vertical-align: middle;\n",
       "    }\n",
       "\n",
       "    .dataframe tbody tr th {\n",
       "        vertical-align: top;\n",
       "    }\n",
       "\n",
       "    .dataframe thead th {\n",
       "        text-align: right;\n",
       "    }\n",
       "</style>\n",
       "<table border=\"1\" class=\"dataframe\">\n",
       "  <thead>\n",
       "    <tr style=\"text-align: right;\">\n",
       "      <th></th>\n",
       "      <th>directors</th>\n",
       "      <th>writers</th>\n",
       "      <th>belongs_to_collection</th>\n",
       "      <th>genres</th>\n",
       "      <th>original_language</th>\n",
       "      <th>production_companies</th>\n",
       "      <th>runtime</th>\n",
       "      <th>keywords</th>\n",
       "      <th>release_month</th>\n",
       "      <th>release_weekday</th>\n",
       "      <th>cast_names</th>\n",
       "      <th>production_companies_counter</th>\n",
       "      <th>title</th>\n",
       "      <th>genres_counter</th>\n",
       "      <th>main_actor_genre</th>\n",
       "    </tr>\n",
       "  </thead>\n",
       "  <tbody>\n",
       "    <tr>\n",
       "      <th>0</th>\n",
       "      <td>[Ruben Fleischer]</td>\n",
       "      <td>[Jeff Pinkner, Scott Rosenberg, Kelly Marcel, ...</td>\n",
       "      <td>[Venom Collection]</td>\n",
       "      <td>[Action, Science Fiction]</td>\n",
       "      <td>en</td>\n",
       "      <td>[Avi Arad Productions, Columbia Pictures Corpo...</td>\n",
       "      <td>112</td>\n",
       "      <td>[anti hero, based on comic, marvel comics, son...</td>\n",
       "      <td>[10]</td>\n",
       "      <td>[4]</td>\n",
       "      <td>[Tom Hardy, Michelle Williams, Riz Ahmed, Scot...</td>\n",
       "      <td>7</td>\n",
       "      <td>Venom</td>\n",
       "      <td>2</td>\n",
       "      <td>[2]</td>\n",
       "    </tr>\n",
       "    <tr>\n",
       "      <th>1</th>\n",
       "      <td>[Bradley Cooper]</td>\n",
       "      <td>[Eric Roth, Bradley Cooper, Will Fetters, Moss...</td>\n",
       "      <td>[No]</td>\n",
       "      <td>[Drama, Music, Romance]</td>\n",
       "      <td>en</td>\n",
       "      <td>[Warner Bros. Pictures, Live Nation Production...</td>\n",
       "      <td>136</td>\n",
       "      <td>[alcoholism, singer songwriter, alcoholic, sin...</td>\n",
       "      <td>[10]</td>\n",
       "      <td>[4]</td>\n",
       "      <td>[Lady Gaga, Bradley Cooper, Sam Elliott, Andre...</td>\n",
       "      <td>8</td>\n",
       "      <td>A Star is born</td>\n",
       "      <td>3</td>\n",
       "      <td>[1]</td>\n",
       "    </tr>\n",
       "    <tr>\n",
       "      <th>2</th>\n",
       "      <td>[Ol Parker]</td>\n",
       "      <td>[Ol Parker, Richard Curtis, Catherine Johnson,...</td>\n",
       "      <td>[Mamma Mia! Collection]</td>\n",
       "      <td>[Comedy, Music, Romance]</td>\n",
       "      <td>en</td>\n",
       "      <td>[Universal Pictures, Legendary Entertainment, ...</td>\n",
       "      <td>114</td>\n",
       "      <td>[sequel, reference to abba, younger version of...</td>\n",
       "      <td>[7]</td>\n",
       "      <td>[4]</td>\n",
       "      <td>[Amanda Seyfried, Andy Garcia, Celia Imrie, Li...</td>\n",
       "      <td>8</td>\n",
       "      <td>Mamma Mia! Here We Go Again</td>\n",
       "      <td>3</td>\n",
       "      <td>[1]</td>\n",
       "    </tr>\n",
       "    <tr>\n",
       "      <th>3</th>\n",
       "      <td>[Ryan Coogler]</td>\n",
       "      <td>[Joe Robert Cole, Ryan Coogler]</td>\n",
       "      <td>[Black Panther Collection]</td>\n",
       "      <td>[Action, Adventure, Science Fiction]</td>\n",
       "      <td>en</td>\n",
       "      <td>[Marvel Studios, Moonlighting Films, Korean Fi...</td>\n",
       "      <td>134</td>\n",
       "      <td>[marvel comic, king, superhero, based on comic...</td>\n",
       "      <td>[2]</td>\n",
       "      <td>[4]</td>\n",
       "      <td>[Chadwick Boseman, Michael B. Jordan, Lupita N...</td>\n",
       "      <td>5</td>\n",
       "      <td>Black Panther</td>\n",
       "      <td>3</td>\n",
       "      <td>[2]</td>\n",
       "    </tr>\n",
       "    <tr>\n",
       "      <th>4</th>\n",
       "      <td>[Anthony Russo, Joe Russo]</td>\n",
       "      <td>[Stan Lee, Stephen McFeely, Christopher Markus]</td>\n",
       "      <td>[Avengers Collection]</td>\n",
       "      <td>[Action, Adventure, Science Fiction, Fantasy]</td>\n",
       "      <td>en</td>\n",
       "      <td>[Marvel Studios, Jason Roberts Productions, So...</td>\n",
       "      <td>149</td>\n",
       "      <td>[marvel comic, death of recurring character, s...</td>\n",
       "      <td>[4]</td>\n",
       "      <td>[4]</td>\n",
       "      <td>[Robert Downey Jr., Chris Hemsworth, Mark Ruff...</td>\n",
       "      <td>3</td>\n",
       "      <td>Avengers: Infinity War</td>\n",
       "      <td>4</td>\n",
       "      <td>[2]</td>\n",
       "    </tr>\n",
       "  </tbody>\n",
       "</table>\n",
       "</div>"
      ],
      "text/plain": [
       "                    directors  \\\n",
       "0           [Ruben Fleischer]   \n",
       "1            [Bradley Cooper]   \n",
       "2                 [Ol Parker]   \n",
       "3              [Ryan Coogler]   \n",
       "4  [Anthony Russo, Joe Russo]   \n",
       "\n",
       "                                             writers  \\\n",
       "0  [Jeff Pinkner, Scott Rosenberg, Kelly Marcel, ...   \n",
       "1  [Eric Roth, Bradley Cooper, Will Fetters, Moss...   \n",
       "2  [Ol Parker, Richard Curtis, Catherine Johnson,...   \n",
       "3                    [Joe Robert Cole, Ryan Coogler]   \n",
       "4    [Stan Lee, Stephen McFeely, Christopher Markus]   \n",
       "\n",
       "        belongs_to_collection                                         genres  \\\n",
       "0          [Venom Collection]                      [Action, Science Fiction]   \n",
       "1                        [No]                        [Drama, Music, Romance]   \n",
       "2     [Mamma Mia! Collection]                       [Comedy, Music, Romance]   \n",
       "3  [Black Panther Collection]           [Action, Adventure, Science Fiction]   \n",
       "4       [Avengers Collection]  [Action, Adventure, Science Fiction, Fantasy]   \n",
       "\n",
       "  original_language                               production_companies  \\\n",
       "0                en  [Avi Arad Productions, Columbia Pictures Corpo...   \n",
       "1                en  [Warner Bros. Pictures, Live Nation Production...   \n",
       "2                en  [Universal Pictures, Legendary Entertainment, ...   \n",
       "3                en  [Marvel Studios, Moonlighting Films, Korean Fi...   \n",
       "4                en  [Marvel Studios, Jason Roberts Productions, So...   \n",
       "\n",
       "  runtime                                           keywords release_month  \\\n",
       "0     112  [anti hero, based on comic, marvel comics, son...          [10]   \n",
       "1     136  [alcoholism, singer songwriter, alcoholic, sin...          [10]   \n",
       "2     114  [sequel, reference to abba, younger version of...           [7]   \n",
       "3     134  [marvel comic, king, superhero, based on comic...           [2]   \n",
       "4     149  [marvel comic, death of recurring character, s...           [4]   \n",
       "\n",
       "  release_weekday                                         cast_names  \\\n",
       "0             [4]  [Tom Hardy, Michelle Williams, Riz Ahmed, Scot...   \n",
       "1             [4]  [Lady Gaga, Bradley Cooper, Sam Elliott, Andre...   \n",
       "2             [4]  [Amanda Seyfried, Andy Garcia, Celia Imrie, Li...   \n",
       "3             [4]  [Chadwick Boseman, Michael B. Jordan, Lupita N...   \n",
       "4             [4]  [Robert Downey Jr., Chris Hemsworth, Mark Ruff...   \n",
       "\n",
       "  production_companies_counter                        title  genres_counter  \\\n",
       "0                            7                        Venom               2   \n",
       "1                            8               A Star is born               3   \n",
       "2                            8  Mamma Mia! Here We Go Again               3   \n",
       "3                            5                Black Panther               3   \n",
       "4                            3       Avengers: Infinity War               4   \n",
       "\n",
       "  main_actor_genre  \n",
       "0              [2]  \n",
       "1              [1]  \n",
       "2              [1]  \n",
       "3              [2]  \n",
       "4              [2]  "
      ]
     },
     "execution_count": 47,
     "metadata": {},
     "output_type": "execute_result"
    }
   ],
   "source": [
    "test_df = pd.read_pickle(\"data/test_df.pkl\")\n",
    "test_df"
   ]
  },
  {
   "cell_type": "code",
   "execution_count": 51,
   "metadata": {},
   "outputs": [],
   "source": [
    "def Reves(dataframe):\n",
    "    xgbo = pickle.load(open(\"xgbo_model.pkl\",\"rb\"))\n",
    "    X = dataframe.drop([\"title\"], axis = 1).values\n",
    "    dataframe[\"Revenue (MM$)\"] = xgbo.predict(X) / 1e6\n",
    "    return dataframe[[\"title\", \"Revenue (MM$)\"]]"
   ]
  },
  {
   "cell_type": "code",
   "execution_count": 52,
   "metadata": {},
   "outputs": [
    {
     "ename": "ValueError",
     "evalue": "setting an array element with a sequence.",
     "output_type": "error",
     "traceback": [
      "\u001b[1;31m---------------------------------------------------------------------------\u001b[0m",
      "\u001b[1;31mValueError\u001b[0m                                Traceback (most recent call last)",
      "\u001b[1;32m<ipython-input-52-e158478bfef5>\u001b[0m in \u001b[0;36m<module>\u001b[1;34m()\u001b[0m\n\u001b[1;32m----> 1\u001b[1;33m \u001b[0mReves\u001b[0m\u001b[1;33m(\u001b[0m\u001b[0mtest_df\u001b[0m\u001b[1;33m)\u001b[0m\u001b[1;33m\u001b[0m\u001b[0m\n\u001b[0m",
      "\u001b[1;32m<ipython-input-51-f466184d71a0>\u001b[0m in \u001b[0;36mReves\u001b[1;34m(dataframe)\u001b[0m\n\u001b[0;32m      2\u001b[0m     \u001b[0mxgbo\u001b[0m \u001b[1;33m=\u001b[0m \u001b[0mpickle\u001b[0m\u001b[1;33m.\u001b[0m\u001b[0mload\u001b[0m\u001b[1;33m(\u001b[0m\u001b[0mopen\u001b[0m\u001b[1;33m(\u001b[0m\u001b[1;34m\"xgbo_model.pkl\"\u001b[0m\u001b[1;33m,\u001b[0m\u001b[1;34m\"rb\"\u001b[0m\u001b[1;33m)\u001b[0m\u001b[1;33m)\u001b[0m\u001b[1;33m\u001b[0m\u001b[0m\n\u001b[0;32m      3\u001b[0m     \u001b[0mX\u001b[0m \u001b[1;33m=\u001b[0m \u001b[0mdataframe\u001b[0m\u001b[1;33m.\u001b[0m\u001b[0mdrop\u001b[0m\u001b[1;33m(\u001b[0m\u001b[1;33m[\u001b[0m\u001b[1;34m\"title\"\u001b[0m\u001b[1;33m]\u001b[0m\u001b[1;33m,\u001b[0m \u001b[0maxis\u001b[0m \u001b[1;33m=\u001b[0m \u001b[1;36m1\u001b[0m\u001b[1;33m)\u001b[0m\u001b[1;33m.\u001b[0m\u001b[0mvalues\u001b[0m\u001b[1;33m\u001b[0m\u001b[0m\n\u001b[1;32m----> 4\u001b[1;33m     \u001b[0mdataframe\u001b[0m\u001b[1;33m[\u001b[0m\u001b[1;34m\"Revenue (MM$)\"\u001b[0m\u001b[1;33m]\u001b[0m \u001b[1;33m=\u001b[0m \u001b[0mxgbo\u001b[0m\u001b[1;33m.\u001b[0m\u001b[0mpredict\u001b[0m\u001b[1;33m(\u001b[0m\u001b[0mX\u001b[0m\u001b[1;33m)\u001b[0m \u001b[1;33m/\u001b[0m \u001b[1;36m1e6\u001b[0m\u001b[1;33m\u001b[0m\u001b[0m\n\u001b[0m\u001b[0;32m      5\u001b[0m     \u001b[1;32mreturn\u001b[0m \u001b[0mdataframe\u001b[0m\u001b[1;33m[\u001b[0m\u001b[1;33m[\u001b[0m\u001b[1;34m\"title\"\u001b[0m\u001b[1;33m,\u001b[0m \u001b[1;34m\"Revenue (MM$)\"\u001b[0m\u001b[1;33m]\u001b[0m\u001b[1;33m]\u001b[0m\u001b[1;33m\u001b[0m\u001b[0m\n",
      "\u001b[1;32m~\\Anaconda3\\lib\\site-packages\\xgboost\\sklearn.py\u001b[0m in \u001b[0;36mpredict\u001b[1;34m(self, data, output_margin, ntree_limit, validate_features)\u001b[0m\n\u001b[0;32m    423\u001b[0m         \"\"\"\n\u001b[0;32m    424\u001b[0m         \u001b[1;31m# pylint: disable=missing-docstring,invalid-name\u001b[0m\u001b[1;33m\u001b[0m\u001b[1;33m\u001b[0m\u001b[0m\n\u001b[1;32m--> 425\u001b[1;33m         \u001b[0mtest_dmatrix\u001b[0m \u001b[1;33m=\u001b[0m \u001b[0mDMatrix\u001b[0m\u001b[1;33m(\u001b[0m\u001b[0mdata\u001b[0m\u001b[1;33m,\u001b[0m \u001b[0mmissing\u001b[0m\u001b[1;33m=\u001b[0m\u001b[0mself\u001b[0m\u001b[1;33m.\u001b[0m\u001b[0mmissing\u001b[0m\u001b[1;33m,\u001b[0m \u001b[0mnthread\u001b[0m\u001b[1;33m=\u001b[0m\u001b[0mself\u001b[0m\u001b[1;33m.\u001b[0m\u001b[0mn_jobs\u001b[0m\u001b[1;33m)\u001b[0m\u001b[1;33m\u001b[0m\u001b[0m\n\u001b[0m\u001b[0;32m    426\u001b[0m         \u001b[1;31m# get ntree_limit to use - if none specified, default to\u001b[0m\u001b[1;33m\u001b[0m\u001b[1;33m\u001b[0m\u001b[0m\n\u001b[0;32m    427\u001b[0m         \u001b[1;31m# best_ntree_limit if defined, otherwise 0.\u001b[0m\u001b[1;33m\u001b[0m\u001b[1;33m\u001b[0m\u001b[0m\n",
      "\u001b[1;32m~\\Anaconda3\\lib\\site-packages\\xgboost\\core.py\u001b[0m in \u001b[0;36m__init__\u001b[1;34m(self, data, label, missing, weight, silent, feature_names, feature_types, nthread)\u001b[0m\n\u001b[0;32m    380\u001b[0m             \u001b[0mself\u001b[0m\u001b[1;33m.\u001b[0m\u001b[0m_init_from_csc\u001b[0m\u001b[1;33m(\u001b[0m\u001b[0mdata\u001b[0m\u001b[1;33m)\u001b[0m\u001b[1;33m\u001b[0m\u001b[0m\n\u001b[0;32m    381\u001b[0m         \u001b[1;32melif\u001b[0m \u001b[0misinstance\u001b[0m\u001b[1;33m(\u001b[0m\u001b[0mdata\u001b[0m\u001b[1;33m,\u001b[0m \u001b[0mnp\u001b[0m\u001b[1;33m.\u001b[0m\u001b[0mndarray\u001b[0m\u001b[1;33m)\u001b[0m\u001b[1;33m:\u001b[0m\u001b[1;33m\u001b[0m\u001b[0m\n\u001b[1;32m--> 382\u001b[1;33m             \u001b[0mself\u001b[0m\u001b[1;33m.\u001b[0m\u001b[0m_init_from_npy2d\u001b[0m\u001b[1;33m(\u001b[0m\u001b[0mdata\u001b[0m\u001b[1;33m,\u001b[0m \u001b[0mmissing\u001b[0m\u001b[1;33m,\u001b[0m \u001b[0mnthread\u001b[0m\u001b[1;33m)\u001b[0m\u001b[1;33m\u001b[0m\u001b[0m\n\u001b[0m\u001b[0;32m    383\u001b[0m         \u001b[1;32melif\u001b[0m \u001b[0misinstance\u001b[0m\u001b[1;33m(\u001b[0m\u001b[0mdata\u001b[0m\u001b[1;33m,\u001b[0m \u001b[0mDataTable\u001b[0m\u001b[1;33m)\u001b[0m\u001b[1;33m:\u001b[0m\u001b[1;33m\u001b[0m\u001b[0m\n\u001b[0;32m    384\u001b[0m             \u001b[0mself\u001b[0m\u001b[1;33m.\u001b[0m\u001b[0m_init_from_dt\u001b[0m\u001b[1;33m(\u001b[0m\u001b[0mdata\u001b[0m\u001b[1;33m,\u001b[0m \u001b[0mnthread\u001b[0m\u001b[1;33m)\u001b[0m\u001b[1;33m\u001b[0m\u001b[0m\n",
      "\u001b[1;32m~\\Anaconda3\\lib\\site-packages\\xgboost\\core.py\u001b[0m in \u001b[0;36m_init_from_npy2d\u001b[1;34m(self, mat, missing, nthread)\u001b[0m\n\u001b[0;32m    452\u001b[0m         \u001b[1;31m# we try to avoid data copies if possible (reshape returns a view when possible\u001b[0m\u001b[1;33m\u001b[0m\u001b[1;33m\u001b[0m\u001b[0m\n\u001b[0;32m    453\u001b[0m         \u001b[1;31m# and we explicitly tell np.array to try and avoid copying)\u001b[0m\u001b[1;33m\u001b[0m\u001b[1;33m\u001b[0m\u001b[0m\n\u001b[1;32m--> 454\u001b[1;33m         \u001b[0mdata\u001b[0m \u001b[1;33m=\u001b[0m \u001b[0mnp\u001b[0m\u001b[1;33m.\u001b[0m\u001b[0marray\u001b[0m\u001b[1;33m(\u001b[0m\u001b[0mmat\u001b[0m\u001b[1;33m.\u001b[0m\u001b[0mreshape\u001b[0m\u001b[1;33m(\u001b[0m\u001b[0mmat\u001b[0m\u001b[1;33m.\u001b[0m\u001b[0msize\u001b[0m\u001b[1;33m)\u001b[0m\u001b[1;33m,\u001b[0m \u001b[0mcopy\u001b[0m\u001b[1;33m=\u001b[0m\u001b[1;32mFalse\u001b[0m\u001b[1;33m,\u001b[0m \u001b[0mdtype\u001b[0m\u001b[1;33m=\u001b[0m\u001b[0mnp\u001b[0m\u001b[1;33m.\u001b[0m\u001b[0mfloat32\u001b[0m\u001b[1;33m)\u001b[0m\u001b[1;33m\u001b[0m\u001b[0m\n\u001b[0m\u001b[0;32m    455\u001b[0m         \u001b[0mself\u001b[0m\u001b[1;33m.\u001b[0m\u001b[0mhandle\u001b[0m \u001b[1;33m=\u001b[0m \u001b[0mctypes\u001b[0m\u001b[1;33m.\u001b[0m\u001b[0mc_void_p\u001b[0m\u001b[1;33m(\u001b[0m\u001b[1;33m)\u001b[0m\u001b[1;33m\u001b[0m\u001b[0m\n\u001b[0;32m    456\u001b[0m         \u001b[0mmissing\u001b[0m \u001b[1;33m=\u001b[0m \u001b[0mmissing\u001b[0m \u001b[1;32mif\u001b[0m \u001b[0mmissing\u001b[0m \u001b[1;32mis\u001b[0m \u001b[1;32mnot\u001b[0m \u001b[1;32mNone\u001b[0m \u001b[1;32melse\u001b[0m \u001b[0mnp\u001b[0m\u001b[1;33m.\u001b[0m\u001b[0mnan\u001b[0m\u001b[1;33m\u001b[0m\u001b[0m\n",
      "\u001b[1;31mValueError\u001b[0m: setting an array element with a sequence."
     ]
    }
   ],
   "source": [
    "Reves(test_df)"
   ]
  }
 ],
 "metadata": {
  "kernelspec": {
   "display_name": "Python 3",
   "language": "python",
   "name": "python3"
  },
  "language_info": {
   "codemirror_mode": {
    "name": "ipython",
    "version": 3
   },
   "file_extension": ".py",
   "mimetype": "text/x-python",
   "name": "python",
   "nbconvert_exporter": "python",
   "pygments_lexer": "ipython3",
   "version": "3.6.5"
  }
 },
 "nbformat": 4,
 "nbformat_minor": 2
}
