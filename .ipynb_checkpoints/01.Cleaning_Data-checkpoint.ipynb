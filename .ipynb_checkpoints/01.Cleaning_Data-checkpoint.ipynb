{
 "cells": [
  {
   "cell_type": "markdown",
   "metadata": {},
   "source": [
    "# REVES 01: Cleaning all the data\n",
    "\n",
    "In this notebook we will perform a first exploration of the initial data. The main goal is to understand what we've got to work with, and drop all the irrelevant data. The goal of this document is not to transform any data. At the end of the notebook, we will end up with a dataframe containing the main variables in order to perform data engineering on them in the second notebook named \"Data Engineering\". \n",
    "\n",
    "We are going to explore 3 CSV files found in \"The Movies Database\" project in Kaggle. There are other files in this Kaggle, but we wont be using them as they do not contain any further info that is relevant for this project. To take a look a the files, we have some extra notebooks stored in the file named \"Extra Data\" in our repository. "
   ]
  },
  {
   "cell_type": "markdown",
   "metadata": {},
   "source": [
    "## Loading libraries and data"
   ]
  },
  {
   "cell_type": "code",
   "execution_count": 172,
   "metadata": {},
   "outputs": [],
   "source": [
    "import revesFunctions as rf  #We have created our own library. For more info, read revesFuncionts.py\n",
    "import matplotlib.pyplot as plt\n",
    "import numpy as np\n",
    "import pandas as pd\n",
    "from functools import reduce\n",
    "from scipy import stats\n",
    "%matplotlib inline\n",
    "plt.style.use('ggplot')"
   ]
  },
  {
   "cell_type": "code",
   "execution_count": 173,
   "metadata": {
    "scrolled": true
   },
   "outputs": [],
   "source": [
    "metadata = pd.read_csv(\"data/movies_metadata.zip\", compression = \"zip\", low_memory = False)\n",
    "credits = pd.read_csv(\"data/credits.zip\", compression = \"zip\", low_memory = False)\n",
    "keywords = pd.read_csv(\"data/keywords.zip\",compression = \"zip\", low_memory = False)"
   ]
  },
  {
   "cell_type": "code",
   "execution_count": 174,
   "metadata": {},
   "outputs": [
    {
     "data": {
      "text/html": [
       "<div>\n",
       "<style scoped>\n",
       "    .dataframe tbody tr th:only-of-type {\n",
       "        vertical-align: middle;\n",
       "    }\n",
       "\n",
       "    .dataframe tbody tr th {\n",
       "        vertical-align: top;\n",
       "    }\n",
       "\n",
       "    .dataframe thead th {\n",
       "        text-align: right;\n",
       "    }\n",
       "</style>\n",
       "<table border=\"1\" class=\"dataframe\">\n",
       "  <thead>\n",
       "    <tr style=\"text-align: right;\">\n",
       "      <th></th>\n",
       "      <th>adult</th>\n",
       "      <th>belongs_to_collection</th>\n",
       "      <th>budget</th>\n",
       "      <th>genres</th>\n",
       "      <th>homepage</th>\n",
       "      <th>id</th>\n",
       "      <th>imdb_id</th>\n",
       "      <th>original_language</th>\n",
       "      <th>original_title</th>\n",
       "      <th>overview</th>\n",
       "      <th>...</th>\n",
       "      <th>release_date</th>\n",
       "      <th>revenue</th>\n",
       "      <th>runtime</th>\n",
       "      <th>spoken_languages</th>\n",
       "      <th>status</th>\n",
       "      <th>tagline</th>\n",
       "      <th>title</th>\n",
       "      <th>video</th>\n",
       "      <th>vote_average</th>\n",
       "      <th>vote_count</th>\n",
       "    </tr>\n",
       "  </thead>\n",
       "  <tbody>\n",
       "    <tr>\n",
       "      <th>0</th>\n",
       "      <td>False</td>\n",
       "      <td>{'id': 10194, 'name': 'Toy Story Collection', ...</td>\n",
       "      <td>30000000</td>\n",
       "      <td>[{'id': 16, 'name': 'Animation'}, {'id': 35, '...</td>\n",
       "      <td>http://toystory.disney.com/toy-story</td>\n",
       "      <td>862</td>\n",
       "      <td>tt0114709</td>\n",
       "      <td>en</td>\n",
       "      <td>Toy Story</td>\n",
       "      <td>Led by Woody, Andy's toys live happily in his ...</td>\n",
       "      <td>...</td>\n",
       "      <td>1995-10-30</td>\n",
       "      <td>373554033.0</td>\n",
       "      <td>81.0</td>\n",
       "      <td>[{'iso_639_1': 'en', 'name': 'English'}]</td>\n",
       "      <td>Released</td>\n",
       "      <td>NaN</td>\n",
       "      <td>Toy Story</td>\n",
       "      <td>False</td>\n",
       "      <td>7.7</td>\n",
       "      <td>5415.0</td>\n",
       "    </tr>\n",
       "    <tr>\n",
       "      <th>1</th>\n",
       "      <td>False</td>\n",
       "      <td>NaN</td>\n",
       "      <td>65000000</td>\n",
       "      <td>[{'id': 12, 'name': 'Adventure'}, {'id': 14, '...</td>\n",
       "      <td>NaN</td>\n",
       "      <td>8844</td>\n",
       "      <td>tt0113497</td>\n",
       "      <td>en</td>\n",
       "      <td>Jumanji</td>\n",
       "      <td>When siblings Judy and Peter discover an encha...</td>\n",
       "      <td>...</td>\n",
       "      <td>1995-12-15</td>\n",
       "      <td>262797249.0</td>\n",
       "      <td>104.0</td>\n",
       "      <td>[{'iso_639_1': 'en', 'name': 'English'}, {'iso...</td>\n",
       "      <td>Released</td>\n",
       "      <td>Roll the dice and unleash the excitement!</td>\n",
       "      <td>Jumanji</td>\n",
       "      <td>False</td>\n",
       "      <td>6.9</td>\n",
       "      <td>2413.0</td>\n",
       "    </tr>\n",
       "  </tbody>\n",
       "</table>\n",
       "<p>2 rows × 24 columns</p>\n",
       "</div>"
      ],
      "text/plain": [
       "   adult                              belongs_to_collection    budget  \\\n",
       "0  False  {'id': 10194, 'name': 'Toy Story Collection', ...  30000000   \n",
       "1  False                                                NaN  65000000   \n",
       "\n",
       "                                              genres  \\\n",
       "0  [{'id': 16, 'name': 'Animation'}, {'id': 35, '...   \n",
       "1  [{'id': 12, 'name': 'Adventure'}, {'id': 14, '...   \n",
       "\n",
       "                               homepage    id    imdb_id original_language  \\\n",
       "0  http://toystory.disney.com/toy-story   862  tt0114709                en   \n",
       "1                                   NaN  8844  tt0113497                en   \n",
       "\n",
       "  original_title                                           overview  \\\n",
       "0      Toy Story  Led by Woody, Andy's toys live happily in his ...   \n",
       "1        Jumanji  When siblings Judy and Peter discover an encha...   \n",
       "\n",
       "     ...     release_date      revenue runtime  \\\n",
       "0    ...       1995-10-30  373554033.0    81.0   \n",
       "1    ...       1995-12-15  262797249.0   104.0   \n",
       "\n",
       "                                    spoken_languages    status  \\\n",
       "0           [{'iso_639_1': 'en', 'name': 'English'}]  Released   \n",
       "1  [{'iso_639_1': 'en', 'name': 'English'}, {'iso...  Released   \n",
       "\n",
       "                                     tagline      title  video vote_average  \\\n",
       "0                                        NaN  Toy Story  False          7.7   \n",
       "1  Roll the dice and unleash the excitement!    Jumanji  False          6.9   \n",
       "\n",
       "  vote_count  \n",
       "0     5415.0  \n",
       "1     2413.0  \n",
       "\n",
       "[2 rows x 24 columns]"
      ]
     },
     "execution_count": 174,
     "metadata": {},
     "output_type": "execute_result"
    }
   ],
   "source": [
    "metadata.head(2)"
   ]
  },
  {
   "cell_type": "code",
   "execution_count": 175,
   "metadata": {},
   "outputs": [
    {
     "data": {
      "text/html": [
       "<div>\n",
       "<style scoped>\n",
       "    .dataframe tbody tr th:only-of-type {\n",
       "        vertical-align: middle;\n",
       "    }\n",
       "\n",
       "    .dataframe tbody tr th {\n",
       "        vertical-align: top;\n",
       "    }\n",
       "\n",
       "    .dataframe thead th {\n",
       "        text-align: right;\n",
       "    }\n",
       "</style>\n",
       "<table border=\"1\" class=\"dataframe\">\n",
       "  <thead>\n",
       "    <tr style=\"text-align: right;\">\n",
       "      <th></th>\n",
       "      <th>cast</th>\n",
       "      <th>crew</th>\n",
       "      <th>id</th>\n",
       "    </tr>\n",
       "  </thead>\n",
       "  <tbody>\n",
       "    <tr>\n",
       "      <th>0</th>\n",
       "      <td>[{'cast_id': 14, 'character': 'Woody (voice)',...</td>\n",
       "      <td>[{'credit_id': '52fe4284c3a36847f8024f49', 'de...</td>\n",
       "      <td>862</td>\n",
       "    </tr>\n",
       "    <tr>\n",
       "      <th>1</th>\n",
       "      <td>[{'cast_id': 1, 'character': 'Alan Parrish', '...</td>\n",
       "      <td>[{'credit_id': '52fe44bfc3a36847f80a7cd1', 'de...</td>\n",
       "      <td>8844</td>\n",
       "    </tr>\n",
       "  </tbody>\n",
       "</table>\n",
       "</div>"
      ],
      "text/plain": [
       "                                                cast  \\\n",
       "0  [{'cast_id': 14, 'character': 'Woody (voice)',...   \n",
       "1  [{'cast_id': 1, 'character': 'Alan Parrish', '...   \n",
       "\n",
       "                                                crew    id  \n",
       "0  [{'credit_id': '52fe4284c3a36847f8024f49', 'de...   862  \n",
       "1  [{'credit_id': '52fe44bfc3a36847f80a7cd1', 'de...  8844  "
      ]
     },
     "execution_count": 175,
     "metadata": {},
     "output_type": "execute_result"
    }
   ],
   "source": [
    "credits.head(2)"
   ]
  },
  {
   "cell_type": "code",
   "execution_count": 176,
   "metadata": {},
   "outputs": [
    {
     "data": {
      "text/html": [
       "<div>\n",
       "<style scoped>\n",
       "    .dataframe tbody tr th:only-of-type {\n",
       "        vertical-align: middle;\n",
       "    }\n",
       "\n",
       "    .dataframe tbody tr th {\n",
       "        vertical-align: top;\n",
       "    }\n",
       "\n",
       "    .dataframe thead th {\n",
       "        text-align: right;\n",
       "    }\n",
       "</style>\n",
       "<table border=\"1\" class=\"dataframe\">\n",
       "  <thead>\n",
       "    <tr style=\"text-align: right;\">\n",
       "      <th></th>\n",
       "      <th>id</th>\n",
       "      <th>keywords</th>\n",
       "    </tr>\n",
       "  </thead>\n",
       "  <tbody>\n",
       "    <tr>\n",
       "      <th>0</th>\n",
       "      <td>862</td>\n",
       "      <td>[{'id': 931, 'name': 'jealousy'}, {'id': 4290,...</td>\n",
       "    </tr>\n",
       "    <tr>\n",
       "      <th>1</th>\n",
       "      <td>8844</td>\n",
       "      <td>[{'id': 10090, 'name': 'board game'}, {'id': 1...</td>\n",
       "    </tr>\n",
       "  </tbody>\n",
       "</table>\n",
       "</div>"
      ],
      "text/plain": [
       "     id                                           keywords\n",
       "0   862  [{'id': 931, 'name': 'jealousy'}, {'id': 4290,...\n",
       "1  8844  [{'id': 10090, 'name': 'board game'}, {'id': 1..."
      ]
     },
     "execution_count": 176,
     "metadata": {},
     "output_type": "execute_result"
    }
   ],
   "source": [
    "keywords.head(2)"
   ]
  },
  {
   "cell_type": "markdown",
   "metadata": {},
   "source": [
    "We are going to merge the dataframes on the \"id\" column, but first we should check that they belong to the same \"data type\". \n",
    "We are doing the merge before droping any row nor column because we don't have a huge amount of data. If we had it, it would have been better to do a first and fast cleaning in order to optimize the merge. "
   ]
  },
  {
   "cell_type": "code",
   "execution_count": 177,
   "metadata": {},
   "outputs": [
    {
     "name": "stdout",
     "output_type": "stream",
     "text": [
      "object int64 int64\n"
     ]
    }
   ],
   "source": [
    "print(metadata[\"id\"].dtype, credits[\"id\"].dtype, keywords[\"id\"].dtype)"
   ]
  },
  {
   "cell_type": "markdown",
   "metadata": {},
   "source": [
    "Before merge the data frames we need to tranform the id column of the df_metadata into int"
   ]
  },
  {
   "cell_type": "code",
   "execution_count": 178,
   "metadata": {},
   "outputs": [],
   "source": [
    "metadata[\"id\"] = pd.to_numeric(metadata[\"id\"], errors = \"coerce\", downcast = \"integer\")"
   ]
  },
  {
   "cell_type": "code",
   "execution_count": 179,
   "metadata": {},
   "outputs": [
    {
     "name": "stdout",
     "output_type": "stream",
     "text": [
      "float64 int64 int64\n"
     ]
    }
   ],
   "source": [
    "print(metadata[\"id\"].dtype, credits[\"id\"].dtype, keywords[\"id\"].dtype)"
   ]
  },
  {
   "cell_type": "markdown",
   "metadata": {},
   "source": [
    "## Here comes the merge"
   ]
  },
  {
   "cell_type": "code",
   "execution_count": 180,
   "metadata": {},
   "outputs": [],
   "source": [
    "initial_reves = reduce(lambda df_left, df_right: pd.merge(df_left, df_right, on = [\"id\"]), [metadata, credits, keywords])"
   ]
  },
  {
   "cell_type": "code",
   "execution_count": 181,
   "metadata": {},
   "outputs": [
    {
     "data": {
      "text/html": [
       "<div>\n",
       "<style scoped>\n",
       "    .dataframe tbody tr th:only-of-type {\n",
       "        vertical-align: middle;\n",
       "    }\n",
       "\n",
       "    .dataframe tbody tr th {\n",
       "        vertical-align: top;\n",
       "    }\n",
       "\n",
       "    .dataframe thead th {\n",
       "        text-align: right;\n",
       "    }\n",
       "</style>\n",
       "<table border=\"1\" class=\"dataframe\">\n",
       "  <thead>\n",
       "    <tr style=\"text-align: right;\">\n",
       "      <th></th>\n",
       "      <th>adult</th>\n",
       "      <th>belongs_to_collection</th>\n",
       "      <th>budget</th>\n",
       "      <th>genres</th>\n",
       "      <th>homepage</th>\n",
       "      <th>id</th>\n",
       "      <th>imdb_id</th>\n",
       "      <th>original_language</th>\n",
       "      <th>original_title</th>\n",
       "      <th>overview</th>\n",
       "      <th>...</th>\n",
       "      <th>spoken_languages</th>\n",
       "      <th>status</th>\n",
       "      <th>tagline</th>\n",
       "      <th>title</th>\n",
       "      <th>video</th>\n",
       "      <th>vote_average</th>\n",
       "      <th>vote_count</th>\n",
       "      <th>cast</th>\n",
       "      <th>crew</th>\n",
       "      <th>keywords</th>\n",
       "    </tr>\n",
       "  </thead>\n",
       "  <tbody>\n",
       "    <tr>\n",
       "      <th>0</th>\n",
       "      <td>False</td>\n",
       "      <td>{'id': 10194, 'name': 'Toy Story Collection', ...</td>\n",
       "      <td>30000000</td>\n",
       "      <td>[{'id': 16, 'name': 'Animation'}, {'id': 35, '...</td>\n",
       "      <td>http://toystory.disney.com/toy-story</td>\n",
       "      <td>862.0</td>\n",
       "      <td>tt0114709</td>\n",
       "      <td>en</td>\n",
       "      <td>Toy Story</td>\n",
       "      <td>Led by Woody, Andy's toys live happily in his ...</td>\n",
       "      <td>...</td>\n",
       "      <td>[{'iso_639_1': 'en', 'name': 'English'}]</td>\n",
       "      <td>Released</td>\n",
       "      <td>NaN</td>\n",
       "      <td>Toy Story</td>\n",
       "      <td>False</td>\n",
       "      <td>7.7</td>\n",
       "      <td>5415.0</td>\n",
       "      <td>[{'cast_id': 14, 'character': 'Woody (voice)',...</td>\n",
       "      <td>[{'credit_id': '52fe4284c3a36847f8024f49', 'de...</td>\n",
       "      <td>[{'id': 931, 'name': 'jealousy'}, {'id': 4290,...</td>\n",
       "    </tr>\n",
       "    <tr>\n",
       "      <th>1</th>\n",
       "      <td>False</td>\n",
       "      <td>NaN</td>\n",
       "      <td>65000000</td>\n",
       "      <td>[{'id': 12, 'name': 'Adventure'}, {'id': 14, '...</td>\n",
       "      <td>NaN</td>\n",
       "      <td>8844.0</td>\n",
       "      <td>tt0113497</td>\n",
       "      <td>en</td>\n",
       "      <td>Jumanji</td>\n",
       "      <td>When siblings Judy and Peter discover an encha...</td>\n",
       "      <td>...</td>\n",
       "      <td>[{'iso_639_1': 'en', 'name': 'English'}, {'iso...</td>\n",
       "      <td>Released</td>\n",
       "      <td>Roll the dice and unleash the excitement!</td>\n",
       "      <td>Jumanji</td>\n",
       "      <td>False</td>\n",
       "      <td>6.9</td>\n",
       "      <td>2413.0</td>\n",
       "      <td>[{'cast_id': 1, 'character': 'Alan Parrish', '...</td>\n",
       "      <td>[{'credit_id': '52fe44bfc3a36847f80a7cd1', 'de...</td>\n",
       "      <td>[{'id': 10090, 'name': 'board game'}, {'id': 1...</td>\n",
       "    </tr>\n",
       "    <tr>\n",
       "      <th>2</th>\n",
       "      <td>False</td>\n",
       "      <td>{'id': 119050, 'name': 'Grumpy Old Men Collect...</td>\n",
       "      <td>0</td>\n",
       "      <td>[{'id': 10749, 'name': 'Romance'}, {'id': 35, ...</td>\n",
       "      <td>NaN</td>\n",
       "      <td>15602.0</td>\n",
       "      <td>tt0113228</td>\n",
       "      <td>en</td>\n",
       "      <td>Grumpier Old Men</td>\n",
       "      <td>A family wedding reignites the ancient feud be...</td>\n",
       "      <td>...</td>\n",
       "      <td>[{'iso_639_1': 'en', 'name': 'English'}]</td>\n",
       "      <td>Released</td>\n",
       "      <td>Still Yelling. Still Fighting. Still Ready for...</td>\n",
       "      <td>Grumpier Old Men</td>\n",
       "      <td>False</td>\n",
       "      <td>6.5</td>\n",
       "      <td>92.0</td>\n",
       "      <td>[{'cast_id': 2, 'character': 'Max Goldman', 'c...</td>\n",
       "      <td>[{'credit_id': '52fe466a9251416c75077a89', 'de...</td>\n",
       "      <td>[{'id': 1495, 'name': 'fishing'}, {'id': 12392...</td>\n",
       "    </tr>\n",
       "  </tbody>\n",
       "</table>\n",
       "<p>3 rows × 27 columns</p>\n",
       "</div>"
      ],
      "text/plain": [
       "   adult                              belongs_to_collection    budget  \\\n",
       "0  False  {'id': 10194, 'name': 'Toy Story Collection', ...  30000000   \n",
       "1  False                                                NaN  65000000   \n",
       "2  False  {'id': 119050, 'name': 'Grumpy Old Men Collect...         0   \n",
       "\n",
       "                                              genres  \\\n",
       "0  [{'id': 16, 'name': 'Animation'}, {'id': 35, '...   \n",
       "1  [{'id': 12, 'name': 'Adventure'}, {'id': 14, '...   \n",
       "2  [{'id': 10749, 'name': 'Romance'}, {'id': 35, ...   \n",
       "\n",
       "                               homepage       id    imdb_id original_language  \\\n",
       "0  http://toystory.disney.com/toy-story    862.0  tt0114709                en   \n",
       "1                                   NaN   8844.0  tt0113497                en   \n",
       "2                                   NaN  15602.0  tt0113228                en   \n",
       "\n",
       "     original_title                                           overview  \\\n",
       "0         Toy Story  Led by Woody, Andy's toys live happily in his ...   \n",
       "1           Jumanji  When siblings Judy and Peter discover an encha...   \n",
       "2  Grumpier Old Men  A family wedding reignites the ancient feud be...   \n",
       "\n",
       "                         ...                          \\\n",
       "0                        ...                           \n",
       "1                        ...                           \n",
       "2                        ...                           \n",
       "\n",
       "                                    spoken_languages    status  \\\n",
       "0           [{'iso_639_1': 'en', 'name': 'English'}]  Released   \n",
       "1  [{'iso_639_1': 'en', 'name': 'English'}, {'iso...  Released   \n",
       "2           [{'iso_639_1': 'en', 'name': 'English'}]  Released   \n",
       "\n",
       "                                             tagline             title  video  \\\n",
       "0                                                NaN         Toy Story  False   \n",
       "1          Roll the dice and unleash the excitement!           Jumanji  False   \n",
       "2  Still Yelling. Still Fighting. Still Ready for...  Grumpier Old Men  False   \n",
       "\n",
       "   vote_average  vote_count  \\\n",
       "0           7.7      5415.0   \n",
       "1           6.9      2413.0   \n",
       "2           6.5        92.0   \n",
       "\n",
       "                                                cast  \\\n",
       "0  [{'cast_id': 14, 'character': 'Woody (voice)',...   \n",
       "1  [{'cast_id': 1, 'character': 'Alan Parrish', '...   \n",
       "2  [{'cast_id': 2, 'character': 'Max Goldman', 'c...   \n",
       "\n",
       "                                                crew  \\\n",
       "0  [{'credit_id': '52fe4284c3a36847f8024f49', 'de...   \n",
       "1  [{'credit_id': '52fe44bfc3a36847f80a7cd1', 'de...   \n",
       "2  [{'credit_id': '52fe466a9251416c75077a89', 'de...   \n",
       "\n",
       "                                            keywords  \n",
       "0  [{'id': 931, 'name': 'jealousy'}, {'id': 4290,...  \n",
       "1  [{'id': 10090, 'name': 'board game'}, {'id': 1...  \n",
       "2  [{'id': 1495, 'name': 'fishing'}, {'id': 12392...  \n",
       "\n",
       "[3 rows x 27 columns]"
      ]
     },
     "execution_count": 181,
     "metadata": {},
     "output_type": "execute_result"
    }
   ],
   "source": [
    "initial_reves.head(3)"
   ]
  },
  {
   "cell_type": "markdown",
   "metadata": {},
   "source": [
    "## Diving into the Data"
   ]
  },
  {
   "cell_type": "code",
   "execution_count": 182,
   "metadata": {},
   "outputs": [
    {
     "name": "stdout",
     "output_type": "stream",
     "text": [
      "(46628, 27)\n",
      "Index(['adult', 'belongs_to_collection', 'budget', 'genres', 'homepage', 'id',\n",
      "       'imdb_id', 'original_language', 'original_title', 'overview',\n",
      "       'popularity', 'poster_path', 'production_companies',\n",
      "       'production_countries', 'release_date', 'revenue', 'runtime',\n",
      "       'spoken_languages', 'status', 'tagline', 'title', 'video',\n",
      "       'vote_average', 'vote_count', 'cast', 'crew', 'keywords'],\n",
      "      dtype='object')\n"
     ]
    }
   ],
   "source": [
    "print(initial_reves.shape)\n",
    "print(initial_reves.columns)"
   ]
  },
  {
   "cell_type": "markdown",
   "metadata": {},
   "source": [
    "#### Features\n",
    "\n",
    "* **adult**: Indicates if the movie is Adult/X-Rated or not.\n",
    "* **belongs_to_collection**: A stringifield dictionary that gives information on the movie series the particular film belongs to. If the movie does not belong to any collection, the value is NaN.\n",
    "* **budget**: The budget of the movie in dollars.\n",
    "* **genres**: A stringifield list of dictionaries that list out all the genres associated with the movie.\n",
    "* **homepage**: The Official Homepage of the move.\n",
    "* **id**: The ID of the movie.\n",
    "* **imdb_id**: The IMDB ID of the movie.\n",
    "* **original_language**: The language in which the movie was originally shot in.\n",
    "* **original_title**: The original title of the movie.\n",
    "* **overview**: A brief blurb of the movie.\n",
    "* **popularity**: The Popularity Score assigned by TMDB.\n",
    "* **poster_path**: The URL of the poster image.\n",
    "* **production_companies**: A stringifield list of production companies involved with the making of the movie.\n",
    "* **production_countries**: A stringifield list of countries where the movie was shot/produced in.\n",
    "* **release_date**: Theatrical Release Date of the movie.\n",
    "* **revenue**: The total revenue of the movie in dollars.\n",
    "* **runtime**: The runtime of the movie in minutes.\n",
    "* **spoken_languages**: A stringifield list of spoken languages in the film.\n",
    "* **status**: The status of the movie (Released, To Be Released, Announced, etc.)\n",
    "* **tagline**: The tagline of the movie.\n",
    "* **title**: The Official Title of the movie.\n",
    "* **video**: Indicates if there is a video present of the movie with TMDB.\n",
    "* **vote_average**: The average rating of the movie.\n",
    "* **vote_count**: The number of votes by users, as counted by TMDB.\n",
    "* **cast**: A stringfield list of the cast of the movie.\n",
    "* **crew**: A stringfield list of the crew of the movie.\n",
    "* **keywords**: A stringfield list of keywords related to the movie."
   ]
  },
  {
   "cell_type": "code",
   "execution_count": 183,
   "metadata": {},
   "outputs": [
    {
     "name": "stdout",
     "output_type": "stream",
     "text": [
      "<class 'pandas.core.frame.DataFrame'>\n",
      "Int64Index: 46628 entries, 0 to 46627\n",
      "Data columns (total 27 columns):\n",
      "adult                    46628 non-null object\n",
      "belongs_to_collection    4574 non-null object\n",
      "budget                   46628 non-null object\n",
      "genres                   46628 non-null object\n",
      "homepage                 8009 non-null object\n",
      "id                       46628 non-null float64\n",
      "imdb_id                  46611 non-null object\n",
      "original_language        46617 non-null object\n",
      "original_title           46628 non-null object\n",
      "overview                 45633 non-null object\n",
      "popularity               46624 non-null object\n",
      "poster_path              46229 non-null object\n",
      "production_companies     46624 non-null object\n",
      "production_countries     46624 non-null object\n",
      "release_date             46540 non-null object\n",
      "revenue                  46624 non-null float64\n",
      "runtime                  46360 non-null float64\n",
      "spoken_languages         46624 non-null object\n",
      "status                   46542 non-null object\n",
      "tagline                  20783 non-null object\n",
      "title                    46624 non-null object\n",
      "video                    46624 non-null object\n",
      "vote_average             46624 non-null float64\n",
      "vote_count               46624 non-null float64\n",
      "cast                     46628 non-null object\n",
      "crew                     46628 non-null object\n",
      "keywords                 46628 non-null object\n",
      "dtypes: float64(5), object(22)\n",
      "memory usage: 10.0+ MB\n"
     ]
    }
   ],
   "source": [
    "initial_reves.info()"
   ]
  },
  {
   "cell_type": "code",
   "execution_count": 184,
   "metadata": {},
   "outputs": [
    {
     "data": {
      "text/plain": [
       "adult                        0\n",
       "belongs_to_collection    42054\n",
       "budget                       0\n",
       "genres                       0\n",
       "homepage                 38619\n",
       "id                           0\n",
       "imdb_id                     17\n",
       "original_language           11\n",
       "original_title               0\n",
       "overview                   995\n",
       "popularity                   4\n",
       "poster_path                399\n",
       "production_companies         4\n",
       "production_countries         4\n",
       "release_date                88\n",
       "revenue                      4\n",
       "runtime                    268\n",
       "spoken_languages             4\n",
       "status                      86\n",
       "tagline                  25845\n",
       "title                        4\n",
       "video                        4\n",
       "vote_average                 4\n",
       "vote_count                   4\n",
       "cast                         0\n",
       "crew                         0\n",
       "keywords                     0\n",
       "dtype: int64"
      ]
     },
     "execution_count": 184,
     "metadata": {},
     "output_type": "execute_result"
    }
   ],
   "source": [
    "initial_reves.isnull().sum()"
   ]
  },
  {
   "cell_type": "markdown",
   "metadata": {},
   "source": [
    "Apparently, seems like there are no nulls. Let's also take a deeper look at each column to see it their type corresponds to what it should be. "
   ]
  },
  {
   "cell_type": "code",
   "execution_count": 185,
   "metadata": {},
   "outputs": [
    {
     "data": {
      "text/plain": [
       "adult                     object\n",
       "belongs_to_collection     object\n",
       "budget                    object\n",
       "genres                    object\n",
       "homepage                  object\n",
       "id                       float64\n",
       "imdb_id                   object\n",
       "original_language         object\n",
       "original_title            object\n",
       "overview                  object\n",
       "popularity                object\n",
       "poster_path               object\n",
       "production_companies      object\n",
       "production_countries      object\n",
       "release_date              object\n",
       "revenue                  float64\n",
       "runtime                  float64\n",
       "spoken_languages          object\n",
       "status                    object\n",
       "tagline                   object\n",
       "title                     object\n",
       "video                     object\n",
       "vote_average             float64\n",
       "vote_count               float64\n",
       "cast                      object\n",
       "crew                      object\n",
       "keywords                  object\n",
       "dtype: object"
      ]
     },
     "execution_count": 185,
     "metadata": {},
     "output_type": "execute_result"
    }
   ],
   "source": [
    "initial_reves[initial_reves.columns].dtypes"
   ]
  },
  {
   "cell_type": "markdown",
   "metadata": {},
   "source": [
    "* Budget should be numeric\n",
    "* Belongs_to_collection, as it is expressed in the column name, should be bool."
   ]
  },
  {
   "cell_type": "markdown",
   "metadata": {},
   "source": [
    "## Initial Data Cleaning: Drop irrelevant info"
   ]
  },
  {
   "cell_type": "markdown",
   "metadata": {},
   "source": [
    "### Missing revenue"
   ]
  },
  {
   "cell_type": "markdown",
   "metadata": {},
   "source": [
    "First thing is first! The whole point to our model is being able to predict a movie revenue, so, this column is essential for this project. That's why the first thing we should do is find out how many movies do we have that actually have a registered value for the revenue. If this value is null, we will have to drop those rows.\n",
    "\n",
    "As we found out in the previous cell, and also checked at metadata's stats, there are 4 null values in Revenue. Furthermore, we ought to check if we have values worth $0 revenue, because they'd be like null for us."
   ]
  },
  {
   "cell_type": "code",
   "execution_count": 186,
   "metadata": {},
   "outputs": [
    {
     "data": {
      "text/plain": [
       "count    4.662400e+04\n",
       "mean     1.102765e+07\n",
       "std      6.380526e+07\n",
       "min      0.000000e+00\n",
       "25%      0.000000e+00\n",
       "50%      0.000000e+00\n",
       "75%      0.000000e+00\n",
       "max      2.787965e+09\n",
       "Name: revenue, dtype: float64"
      ]
     },
     "execution_count": 186,
     "metadata": {},
     "output_type": "execute_result"
    }
   ],
   "source": [
    "initial_reves[\"revenue\"].describe()"
   ]
  },
  {
   "cell_type": "code",
   "execution_count": 187,
   "metadata": {},
   "outputs": [
    {
     "data": {
      "text/plain": [
       "4"
      ]
     },
     "execution_count": 187,
     "metadata": {},
     "output_type": "execute_result"
    }
   ],
   "source": [
    "initial_reves[\"revenue\"].isnull().sum()"
   ]
  },
  {
   "cell_type": "code",
   "execution_count": 188,
   "metadata": {},
   "outputs": [
    {
     "data": {
      "text/plain": [
       "(7537, 27)"
      ]
     },
     "execution_count": 188,
     "metadata": {},
     "output_type": "execute_result"
    }
   ],
   "source": [
    "initial_reves[initial_reves[\"revenue\"] > 0].shape"
   ]
  },
  {
   "cell_type": "markdown",
   "metadata": {},
   "source": [
    "Out of 46628 movies, there are only 7537 rows with revenue metadata. We are going to change the dataframe containing only the movies with revenue information, since it's essencial for our model."
   ]
  },
  {
   "cell_type": "code",
   "execution_count": 189,
   "metadata": {},
   "outputs": [],
   "source": [
    "initial_reves = initial_reves[initial_reves[\"revenue\"] > 0]"
   ]
  },
  {
   "cell_type": "code",
   "execution_count": 190,
   "metadata": {},
   "outputs": [
    {
     "name": "stdout",
     "output_type": "stream",
     "text": [
      "(7537, 27)\n",
      "Index(['adult', 'belongs_to_collection', 'budget', 'genres', 'homepage', 'id',\n",
      "       'imdb_id', 'original_language', 'original_title', 'overview',\n",
      "       'popularity', 'poster_path', 'production_companies',\n",
      "       'production_countries', 'release_date', 'revenue', 'runtime',\n",
      "       'spoken_languages', 'status', 'tagline', 'title', 'video',\n",
      "       'vote_average', 'vote_count', 'cast', 'crew', 'keywords'],\n",
      "      dtype='object')\n"
     ]
    }
   ],
   "source": [
    "print(initial_reves.shape)\n",
    "print(initial_reves.columns)"
   ]
  },
  {
   "cell_type": "code",
   "execution_count": 191,
   "metadata": {
    "scrolled": true
   },
   "outputs": [
    {
     "name": "stdout",
     "output_type": "stream",
     "text": [
      "count    7.537000e+03\n",
      "mean     6.821719e+07\n",
      "std      1.458936e+08\n",
      "min      1.000000e+00\n",
      "25%      2.300000e+06\n",
      "50%      1.662719e+07\n",
      "75%      6.613263e+07\n",
      "max      2.787965e+09\n",
      "Name: revenue, dtype: float64\n",
      "-----\n",
      "There are 0 null values in revenue column in this new dataframe\n"
     ]
    }
   ],
   "source": [
    "print(initial_reves[\"revenue\"].describe())\n",
    "print(\"-----\")\n",
    "print(\"There are %d null values in revenue column in this new dataframe\" % (initial_reves[\"revenue\"].isnull().sum()))"
   ]
  },
  {
   "cell_type": "markdown",
   "metadata": {},
   "source": [
    "Now let's check some random values. They seem like reasonable numbers for a movie revenue, don't they?"
   ]
  },
  {
   "cell_type": "code",
   "execution_count": 192,
   "metadata": {},
   "outputs": [
    {
     "data": {
      "text/plain": [
       "12105       254190.0\n",
       "44286         5255.0\n",
       "13142     31148328.0\n",
       "11037     97607453.0\n",
       "3606      32155047.0\n",
       "10534     10000000.0\n",
       "16947    144492830.0\n",
       "10980     85582407.0\n",
       "15150      8459458.0\n",
       "276       17381942.0\n",
       "Name: revenue, dtype: float64"
      ]
     },
     "execution_count": 192,
     "metadata": {},
     "output_type": "execute_result"
    }
   ],
   "source": [
    "initial_reves[\"revenue\"].sample(10)"
   ]
  },
  {
   "cell_type": "markdown",
   "metadata": {},
   "source": [
    "### Irrelevant columns"
   ]
  },
  {
   "cell_type": "markdown",
   "metadata": {},
   "source": [
    "Before continue analyzing, we should take a quick glance at the \"apparently irrelevant\" columns to decide if we drop them. This is not big data, but it could help with processing time.\n",
    "\n",
    "- Adult\n",
    "- Homepage\n",
    "- Status\n",
    "- Original Title (won't affect the model)\n",
    "- Overview\n",
    "- Popularity\n",
    "- Poster path (Not relevant)\n",
    "- Tagline (Not relevant)\n",
    "- Video (Not relevant)\n",
    "- Vote_average\n",
    "- Vote_count"
   ]
  },
  {
   "cell_type": "markdown",
   "metadata": {},
   "source": [
    "#### Adult"
   ]
  },
  {
   "cell_type": "code",
   "execution_count": 193,
   "metadata": {},
   "outputs": [
    {
     "data": {
      "text/plain": [
       "count      7537\n",
       "unique        1\n",
       "top       False\n",
       "freq       7537\n",
       "Name: adult, dtype: object"
      ]
     },
     "execution_count": 193,
     "metadata": {},
     "output_type": "execute_result"
    }
   ],
   "source": [
    "initial_reves[\"adult\"][initial_reves[\"revenue\"] != 0].describe()"
   ]
  },
  {
   "cell_type": "markdown",
   "metadata": {},
   "source": [
    "All the movies with revenue data are not Adult, this variable is not relevant."
   ]
  },
  {
   "cell_type": "markdown",
   "metadata": {},
   "source": [
    "#### Homepage"
   ]
  },
  {
   "cell_type": "code",
   "execution_count": 194,
   "metadata": {},
   "outputs": [
    {
     "data": {
      "text/plain": [
       "0    http://toystory.disney.com/toy-story\n",
       "1                                     NaN\n",
       "3                                     NaN\n",
       "Name: homepage, dtype: object"
      ]
     },
     "execution_count": 194,
     "metadata": {},
     "output_type": "execute_result"
    }
   ],
   "source": [
    "initial_reves[\"homepage\"].head(3)"
   ]
  },
  {
   "cell_type": "code",
   "execution_count": 195,
   "metadata": {},
   "outputs": [],
   "source": [
    "initial_reves[\"homepage\"] = initial_reves[\"homepage\"].apply(lambda x: \"yes\" if x is not np.nan else \"no\")"
   ]
  },
  {
   "cell_type": "code",
   "execution_count": 196,
   "metadata": {},
   "outputs": [
    {
     "data": {
      "text/html": [
       "<div>\n",
       "<style scoped>\n",
       "    .dataframe tbody tr th:only-of-type {\n",
       "        vertical-align: middle;\n",
       "    }\n",
       "\n",
       "    .dataframe tbody tr th {\n",
       "        vertical-align: top;\n",
       "    }\n",
       "\n",
       "    .dataframe thead th {\n",
       "        text-align: right;\n",
       "    }\n",
       "</style>\n",
       "<table border=\"1\" class=\"dataframe\">\n",
       "  <thead>\n",
       "    <tr style=\"text-align: right;\">\n",
       "      <th></th>\n",
       "      <th>count</th>\n",
       "      <th>mean</th>\n",
       "      <th>std</th>\n",
       "      <th>min</th>\n",
       "      <th>25%</th>\n",
       "      <th>50%</th>\n",
       "      <th>75%</th>\n",
       "      <th>max</th>\n",
       "    </tr>\n",
       "    <tr>\n",
       "      <th>homepage</th>\n",
       "      <th></th>\n",
       "      <th></th>\n",
       "      <th></th>\n",
       "      <th></th>\n",
       "      <th></th>\n",
       "      <th></th>\n",
       "      <th></th>\n",
       "      <th></th>\n",
       "    </tr>\n",
       "  </thead>\n",
       "  <tbody>\n",
       "    <tr>\n",
       "      <th>no</th>\n",
       "      <td>5127.0</td>\n",
       "      <td>4.279317e+07</td>\n",
       "      <td>7.923566e+07</td>\n",
       "      <td>1.0</td>\n",
       "      <td>1966723.00</td>\n",
       "      <td>12729917.0</td>\n",
       "      <td>4.435071e+07</td>\n",
       "      <td>8.766885e+08</td>\n",
       "    </tr>\n",
       "    <tr>\n",
       "      <th>yes</th>\n",
       "      <td>2410.0</td>\n",
       "      <td>1.223039e+08</td>\n",
       "      <td>2.211865e+08</td>\n",
       "      <td>1.0</td>\n",
       "      <td>3771742.75</td>\n",
       "      <td>35455217.0</td>\n",
       "      <td>1.322509e+08</td>\n",
       "      <td>2.787965e+09</td>\n",
       "    </tr>\n",
       "  </tbody>\n",
       "</table>\n",
       "</div>"
      ],
      "text/plain": [
       "           count          mean           std  min         25%         50%  \\\n",
       "homepage                                                                    \n",
       "no        5127.0  4.279317e+07  7.923566e+07  1.0  1966723.00  12729917.0   \n",
       "yes       2410.0  1.223039e+08  2.211865e+08  1.0  3771742.75  35455217.0   \n",
       "\n",
       "                   75%           max  \n",
       "homepage                              \n",
       "no        4.435071e+07  8.766885e+08  \n",
       "yes       1.322509e+08  2.787965e+09  "
      ]
     },
     "execution_count": 196,
     "metadata": {},
     "output_type": "execute_result"
    }
   ],
   "source": [
    "initial_reves[initial_reves[\"revenue\"] != 0].groupby(\"homepage\")[\"revenue\"].describe()"
   ]
  },
  {
   "cell_type": "markdown",
   "metadata": {},
   "source": [
    "#### Status"
   ]
  },
  {
   "cell_type": "code",
   "execution_count": 197,
   "metadata": {
    "scrolled": true
   },
   "outputs": [
    {
     "data": {
      "text/html": [
       "<div>\n",
       "<style scoped>\n",
       "    .dataframe tbody tr th:only-of-type {\n",
       "        vertical-align: middle;\n",
       "    }\n",
       "\n",
       "    .dataframe tbody tr th {\n",
       "        vertical-align: top;\n",
       "    }\n",
       "\n",
       "    .dataframe thead th {\n",
       "        text-align: right;\n",
       "    }\n",
       "</style>\n",
       "<table border=\"1\" class=\"dataframe\">\n",
       "  <thead>\n",
       "    <tr style=\"text-align: right;\">\n",
       "      <th></th>\n",
       "      <th>count</th>\n",
       "      <th>mean</th>\n",
       "      <th>std</th>\n",
       "      <th>min</th>\n",
       "      <th>25%</th>\n",
       "      <th>50%</th>\n",
       "      <th>75%</th>\n",
       "      <th>max</th>\n",
       "    </tr>\n",
       "    <tr>\n",
       "      <th>status</th>\n",
       "      <th></th>\n",
       "      <th></th>\n",
       "      <th></th>\n",
       "      <th></th>\n",
       "      <th></th>\n",
       "      <th></th>\n",
       "      <th></th>\n",
       "      <th></th>\n",
       "    </tr>\n",
       "  </thead>\n",
       "  <tbody>\n",
       "    <tr>\n",
       "      <th>Post Production</th>\n",
       "      <td>5.0</td>\n",
       "      <td>7.159479e+06</td>\n",
       "      <td>9.860135e+06</td>\n",
       "      <td>90425.0</td>\n",
       "      <td>841733.00</td>\n",
       "      <td>1066471.0</td>\n",
       "      <td>10893246.00</td>\n",
       "      <td>2.290552e+07</td>\n",
       "    </tr>\n",
       "    <tr>\n",
       "      <th>Released</th>\n",
       "      <td>7524.0</td>\n",
       "      <td>6.832604e+07</td>\n",
       "      <td>1.459957e+08</td>\n",
       "      <td>1.0</td>\n",
       "      <td>2341010.25</td>\n",
       "      <td>16664814.5</td>\n",
       "      <td>66532939.00</td>\n",
       "      <td>2.787965e+09</td>\n",
       "    </tr>\n",
       "    <tr>\n",
       "      <th>Rumored</th>\n",
       "      <td>6.0</td>\n",
       "      <td>5.325868e+06</td>\n",
       "      <td>8.107588e+06</td>\n",
       "      <td>60.0</td>\n",
       "      <td>195025.00</td>\n",
       "      <td>251322.0</td>\n",
       "      <td>10131979.25</td>\n",
       "      <td>1.785071e+07</td>\n",
       "    </tr>\n",
       "  </tbody>\n",
       "</table>\n",
       "</div>"
      ],
      "text/plain": [
       "                  count          mean           std      min         25%  \\\n",
       "status                                                                     \n",
       "Post Production     5.0  7.159479e+06  9.860135e+06  90425.0   841733.00   \n",
       "Released         7524.0  6.832604e+07  1.459957e+08      1.0  2341010.25   \n",
       "Rumored             6.0  5.325868e+06  8.107588e+06     60.0   195025.00   \n",
       "\n",
       "                        50%          75%           max  \n",
       "status                                                  \n",
       "Post Production   1066471.0  10893246.00  2.290552e+07  \n",
       "Released         16664814.5  66532939.00  2.787965e+09  \n",
       "Rumored            251322.0  10131979.25  1.785071e+07  "
      ]
     },
     "execution_count": 197,
     "metadata": {},
     "output_type": "execute_result"
    }
   ],
   "source": [
    "initial_reves[initial_reves[\"revenue\"] != 0].groupby(\"status\")[\"revenue\"].describe()"
   ]
  },
  {
   "cell_type": "markdown",
   "metadata": {},
   "source": [
    "Most of the movies with revenue data are in Released status. This information is not relevant."
   ]
  },
  {
   "cell_type": "markdown",
   "metadata": {},
   "source": [
    "#### Overview"
   ]
  },
  {
   "cell_type": "code",
   "execution_count": 198,
   "metadata": {},
   "outputs": [
    {
     "data": {
      "text/plain": [
       "0    Led by Woody, Andy's toys live happily in his ...\n",
       "1    When siblings Judy and Peter discover an encha...\n",
       "3    Cheated on, mistreated and stepped on, the wom...\n",
       "Name: overview, dtype: object"
      ]
     },
     "execution_count": 198,
     "metadata": {},
     "output_type": "execute_result"
    }
   ],
   "source": [
    "initial_reves[\"overview\"].head(3)"
   ]
  },
  {
   "cell_type": "code",
   "execution_count": 199,
   "metadata": {},
   "outputs": [
    {
     "data": {
      "text/plain": [
       "\"Led by Woody, Andy's toys live happily in his room until Andy's birthday brings Buzz Lightyear onto the scene. Afraid of losing his place in Andy's heart, Woody plots against Buzz. But when circumstances separate Buzz and Woody from their owner, the duo eventually learns to put aside their differences.\""
      ]
     },
     "execution_count": 199,
     "metadata": {},
     "output_type": "execute_result"
    }
   ],
   "source": [
    "initial_reves[\"overview\"][0]"
   ]
  },
  {
   "cell_type": "markdown",
   "metadata": {},
   "source": [
    "It could pretty cool to analyze Overview with NLP techniques, but there's not enough info and not all movies have an overview"
   ]
  },
  {
   "cell_type": "markdown",
   "metadata": {},
   "source": [
    "#### Popularity"
   ]
  },
  {
   "cell_type": "code",
   "execution_count": 200,
   "metadata": {},
   "outputs": [
    {
     "data": {
      "text/plain": [
       "0    21.946943\n",
       "1    17.015539\n",
       "3     3.859495\n",
       "Name: popularity, dtype: object"
      ]
     },
     "execution_count": 200,
     "metadata": {},
     "output_type": "execute_result"
    }
   ],
   "source": [
    "initial_reves[\"popularity\"].head(3)"
   ]
  },
  {
   "cell_type": "markdown",
   "metadata": {},
   "source": [
    "We can't use this variable in our model because before a movie is released this information does not exist. Besides, we don't know how this value has been defined and how values have been is taken/collected."
   ]
  },
  {
   "cell_type": "markdown",
   "metadata": {},
   "source": [
    "#### Poster Path"
   ]
  },
  {
   "cell_type": "code",
   "execution_count": 201,
   "metadata": {},
   "outputs": [
    {
     "data": {
      "text/plain": [
       "0    /rhIRbceoE9lR4veEXuwCC2wARtG.jpg\n",
       "1    /vzmL6fP7aPKNKPRTFnZmiUfciyV.jpg\n",
       "3    /16XOMpEaLWkrcPqSQqhTmeJuqQl.jpg\n",
       "Name: poster_path, dtype: object"
      ]
     },
     "execution_count": 201,
     "metadata": {},
     "output_type": "execute_result"
    }
   ],
   "source": [
    "initial_reves[\"poster_path\"].head(3)"
   ]
  },
  {
   "cell_type": "markdown",
   "metadata": {},
   "source": [
    "#### Tagline"
   ]
  },
  {
   "cell_type": "code",
   "execution_count": 202,
   "metadata": {},
   "outputs": [
    {
     "data": {
      "text/plain": [
       "0                                                  NaN\n",
       "1            Roll the dice and unleash the excitement!\n",
       "3    Friends are the people who let you be yourself...\n",
       "Name: tagline, dtype: object"
      ]
     },
     "execution_count": 202,
     "metadata": {},
     "output_type": "execute_result"
    }
   ],
   "source": [
    "initial_reves[\"tagline\"].head(3)"
   ]
  },
  {
   "cell_type": "markdown",
   "metadata": {},
   "source": [
    "#### Video"
   ]
  },
  {
   "cell_type": "code",
   "execution_count": 203,
   "metadata": {
    "scrolled": true
   },
   "outputs": [
    {
     "data": {
      "text/plain": [
       "6937     False\n",
       "6577     False\n",
       "21843    False\n",
       "Name: video, dtype: object"
      ]
     },
     "execution_count": 203,
     "metadata": {},
     "output_type": "execute_result"
    }
   ],
   "source": [
    "initial_reves[\"video\"].sample(3)"
   ]
  },
  {
   "cell_type": "markdown",
   "metadata": {},
   "source": [
    "#### Vote Average & Vote Count"
   ]
  },
  {
   "cell_type": "code",
   "execution_count": 204,
   "metadata": {
    "scrolled": true
   },
   "outputs": [
    {
     "data": {
      "text/plain": [
       "0    7.7\n",
       "1    6.9\n",
       "3    6.1\n",
       "4    5.7\n",
       "5    7.7\n",
       "Name: vote_average, dtype: float64"
      ]
     },
     "execution_count": 204,
     "metadata": {},
     "output_type": "execute_result"
    }
   ],
   "source": [
    "initial_reves[\"vote_average\"].head()"
   ]
  },
  {
   "cell_type": "code",
   "execution_count": 205,
   "metadata": {},
   "outputs": [
    {
     "data": {
      "text/plain": [
       "0    5415.0\n",
       "1    2413.0\n",
       "3      34.0\n",
       "4     173.0\n",
       "5    1886.0\n",
       "Name: vote_count, dtype: float64"
      ]
     },
     "execution_count": 205,
     "metadata": {},
     "output_type": "execute_result"
    }
   ],
   "source": [
    "initial_reves[\"vote_count\"].head()"
   ]
  },
  {
   "cell_type": "markdown",
   "metadata": {},
   "source": [
    "Vote average and vote count can't be use in the model because before a movie is released we don't know this information."
   ]
  },
  {
   "cell_type": "markdown",
   "metadata": {},
   "source": [
    "#### Dropping irrelevant columns"
   ]
  },
  {
   "cell_type": "code",
   "execution_count": 206,
   "metadata": {},
   "outputs": [],
   "source": [
    "cleaned_reves = initial_reves.drop([\"adult\" ,\"id\", \"overview\", \"popularity\" ,\"poster_path\", \"tagline\",  \n",
    "              \"status\", \"original_title\", \"video\", \"vote_average\", \"vote_count\", \"homepage\" ], axis = 1).reset_index(drop = True)"
   ]
  },
  {
   "cell_type": "code",
   "execution_count": 207,
   "metadata": {},
   "outputs": [
    {
     "data": {
      "text/html": [
       "<div>\n",
       "<style scoped>\n",
       "    .dataframe tbody tr th:only-of-type {\n",
       "        vertical-align: middle;\n",
       "    }\n",
       "\n",
       "    .dataframe tbody tr th {\n",
       "        vertical-align: top;\n",
       "    }\n",
       "\n",
       "    .dataframe thead th {\n",
       "        text-align: right;\n",
       "    }\n",
       "</style>\n",
       "<table border=\"1\" class=\"dataframe\">\n",
       "  <thead>\n",
       "    <tr style=\"text-align: right;\">\n",
       "      <th></th>\n",
       "      <th>belongs_to_collection</th>\n",
       "      <th>budget</th>\n",
       "      <th>genres</th>\n",
       "      <th>imdb_id</th>\n",
       "      <th>original_language</th>\n",
       "      <th>production_companies</th>\n",
       "      <th>production_countries</th>\n",
       "      <th>release_date</th>\n",
       "      <th>revenue</th>\n",
       "      <th>runtime</th>\n",
       "      <th>spoken_languages</th>\n",
       "      <th>title</th>\n",
       "      <th>cast</th>\n",
       "      <th>crew</th>\n",
       "      <th>keywords</th>\n",
       "    </tr>\n",
       "  </thead>\n",
       "  <tbody>\n",
       "    <tr>\n",
       "      <th>0</th>\n",
       "      <td>{'id': 10194, 'name': 'Toy Story Collection', ...</td>\n",
       "      <td>30000000</td>\n",
       "      <td>[{'id': 16, 'name': 'Animation'}, {'id': 35, '...</td>\n",
       "      <td>tt0114709</td>\n",
       "      <td>en</td>\n",
       "      <td>[{'name': 'Pixar Animation Studios', 'id': 3}]</td>\n",
       "      <td>[{'iso_3166_1': 'US', 'name': 'United States o...</td>\n",
       "      <td>1995-10-30</td>\n",
       "      <td>373554033.0</td>\n",
       "      <td>81.0</td>\n",
       "      <td>[{'iso_639_1': 'en', 'name': 'English'}]</td>\n",
       "      <td>Toy Story</td>\n",
       "      <td>[{'cast_id': 14, 'character': 'Woody (voice)',...</td>\n",
       "      <td>[{'credit_id': '52fe4284c3a36847f8024f49', 'de...</td>\n",
       "      <td>[{'id': 931, 'name': 'jealousy'}, {'id': 4290,...</td>\n",
       "    </tr>\n",
       "    <tr>\n",
       "      <th>1</th>\n",
       "      <td>NaN</td>\n",
       "      <td>65000000</td>\n",
       "      <td>[{'id': 12, 'name': 'Adventure'}, {'id': 14, '...</td>\n",
       "      <td>tt0113497</td>\n",
       "      <td>en</td>\n",
       "      <td>[{'name': 'TriStar Pictures', 'id': 559}, {'na...</td>\n",
       "      <td>[{'iso_3166_1': 'US', 'name': 'United States o...</td>\n",
       "      <td>1995-12-15</td>\n",
       "      <td>262797249.0</td>\n",
       "      <td>104.0</td>\n",
       "      <td>[{'iso_639_1': 'en', 'name': 'English'}, {'iso...</td>\n",
       "      <td>Jumanji</td>\n",
       "      <td>[{'cast_id': 1, 'character': 'Alan Parrish', '...</td>\n",
       "      <td>[{'credit_id': '52fe44bfc3a36847f80a7cd1', 'de...</td>\n",
       "      <td>[{'id': 10090, 'name': 'board game'}, {'id': 1...</td>\n",
       "    </tr>\n",
       "    <tr>\n",
       "      <th>2</th>\n",
       "      <td>NaN</td>\n",
       "      <td>16000000</td>\n",
       "      <td>[{'id': 35, 'name': 'Comedy'}, {'id': 18, 'nam...</td>\n",
       "      <td>tt0114885</td>\n",
       "      <td>en</td>\n",
       "      <td>[{'name': 'Twentieth Century Fox Film Corporat...</td>\n",
       "      <td>[{'iso_3166_1': 'US', 'name': 'United States o...</td>\n",
       "      <td>1995-12-22</td>\n",
       "      <td>81452156.0</td>\n",
       "      <td>127.0</td>\n",
       "      <td>[{'iso_639_1': 'en', 'name': 'English'}]</td>\n",
       "      <td>Waiting to Exhale</td>\n",
       "      <td>[{'cast_id': 1, 'character': \"Savannah 'Vannah...</td>\n",
       "      <td>[{'credit_id': '52fe44779251416c91011acb', 'de...</td>\n",
       "      <td>[{'id': 818, 'name': 'based on novel'}, {'id':...</td>\n",
       "    </tr>\n",
       "  </tbody>\n",
       "</table>\n",
       "</div>"
      ],
      "text/plain": [
       "                               belongs_to_collection    budget  \\\n",
       "0  {'id': 10194, 'name': 'Toy Story Collection', ...  30000000   \n",
       "1                                                NaN  65000000   \n",
       "2                                                NaN  16000000   \n",
       "\n",
       "                                              genres    imdb_id  \\\n",
       "0  [{'id': 16, 'name': 'Animation'}, {'id': 35, '...  tt0114709   \n",
       "1  [{'id': 12, 'name': 'Adventure'}, {'id': 14, '...  tt0113497   \n",
       "2  [{'id': 35, 'name': 'Comedy'}, {'id': 18, 'nam...  tt0114885   \n",
       "\n",
       "  original_language                               production_companies  \\\n",
       "0                en     [{'name': 'Pixar Animation Studios', 'id': 3}]   \n",
       "1                en  [{'name': 'TriStar Pictures', 'id': 559}, {'na...   \n",
       "2                en  [{'name': 'Twentieth Century Fox Film Corporat...   \n",
       "\n",
       "                                production_countries release_date  \\\n",
       "0  [{'iso_3166_1': 'US', 'name': 'United States o...   1995-10-30   \n",
       "1  [{'iso_3166_1': 'US', 'name': 'United States o...   1995-12-15   \n",
       "2  [{'iso_3166_1': 'US', 'name': 'United States o...   1995-12-22   \n",
       "\n",
       "       revenue  runtime                                   spoken_languages  \\\n",
       "0  373554033.0     81.0           [{'iso_639_1': 'en', 'name': 'English'}]   \n",
       "1  262797249.0    104.0  [{'iso_639_1': 'en', 'name': 'English'}, {'iso...   \n",
       "2   81452156.0    127.0           [{'iso_639_1': 'en', 'name': 'English'}]   \n",
       "\n",
       "               title                                               cast  \\\n",
       "0          Toy Story  [{'cast_id': 14, 'character': 'Woody (voice)',...   \n",
       "1            Jumanji  [{'cast_id': 1, 'character': 'Alan Parrish', '...   \n",
       "2  Waiting to Exhale  [{'cast_id': 1, 'character': \"Savannah 'Vannah...   \n",
       "\n",
       "                                                crew  \\\n",
       "0  [{'credit_id': '52fe4284c3a36847f8024f49', 'de...   \n",
       "1  [{'credit_id': '52fe44bfc3a36847f80a7cd1', 'de...   \n",
       "2  [{'credit_id': '52fe44779251416c91011acb', 'de...   \n",
       "\n",
       "                                            keywords  \n",
       "0  [{'id': 931, 'name': 'jealousy'}, {'id': 4290,...  \n",
       "1  [{'id': 10090, 'name': 'board game'}, {'id': 1...  \n",
       "2  [{'id': 818, 'name': 'based on novel'}, {'id':...  "
      ]
     },
     "execution_count": 207,
     "metadata": {},
     "output_type": "execute_result"
    }
   ],
   "source": [
    "cleaned_reves.head(3)"
   ]
  },
  {
   "cell_type": "markdown",
   "metadata": {},
   "source": [
    "### Relevant columns data exploration and cleaning"
   ]
  },
  {
   "cell_type": "markdown",
   "metadata": {},
   "source": [
    "#### Belongs to Collection"
   ]
  },
  {
   "cell_type": "code",
   "execution_count": 208,
   "metadata": {
    "scrolled": true
   },
   "outputs": [
    {
     "data": {
      "text/plain": [
       "0    {'id': 10194, 'name': 'Toy Story Collection', ...\n",
       "1                                                  NaN\n",
       "2                                                  NaN\n",
       "3    {'id': 96871, 'name': 'Father of the Bride Col...\n",
       "4                                                  NaN\n",
       "5                                                  NaN\n",
       "6    {'id': 645, 'name': 'James Bond Collection', '...\n",
       "7                                                  NaN\n",
       "8    {'id': 117693, 'name': 'Balto Collection', 'po...\n",
       "9                                                  NaN\n",
       "Name: belongs_to_collection, dtype: object"
      ]
     },
     "execution_count": 208,
     "metadata": {},
     "output_type": "execute_result"
    }
   ],
   "source": [
    "cleaned_reves[\"belongs_to_collection\"].head(10)"
   ]
  },
  {
   "cell_type": "code",
   "execution_count": 209,
   "metadata": {},
   "outputs": [
    {
     "name": "stdout",
     "output_type": "stream",
     "text": [
      "{'id': 10194, 'name': 'Toy Story Collection', 'poster_path': '/7G9915LfUQ2lVfwMEEhDsn3kT4B.jpg', 'backdrop_path': '/9FBwqcd9IRruEDUrTdcaafOMKUq.jpg'}\n",
      "Type for dicts elements is <class 'str'>\n"
     ]
    }
   ],
   "source": [
    "print(cleaned_reves[\"belongs_to_collection\"][0])\n",
    "print(\"Type for dicts elements is %s\" %(type(cleaned_reves[\"belongs_to_collection\"][0])))"
   ]
  },
  {
   "cell_type": "code",
   "execution_count": 210,
   "metadata": {},
   "outputs": [
    {
     "name": "stdout",
     "output_type": "stream",
     "text": [
      "nan\n",
      "Type for NaN elements is <class 'float'>\n"
     ]
    }
   ],
   "source": [
    "print(cleaned_reves[\"belongs_to_collection\"][1])\n",
    "print (\"Type for NaN elements is %s\" %(type(cleaned_reves[\"belongs_to_collection\"][1])))"
   ]
  },
  {
   "cell_type": "markdown",
   "metadata": {},
   "source": [
    "It seems that this column contains 2 different types of values:\n",
    "\n",
    "* If, indeed, the movie belongs to a series or a collection, the row contains a dict with the Id and the Name of that collection.\n",
    "* Otherwise, if the movie does not belong to a collection, the value is NaN.\n",
    "\n",
    "For our model, the valuable information is to know whether a movie belongs to a collection or not, because our assumption is that if it does, the expected revenue could be higher.\n",
    "\n",
    "At this point, we are taking only the name of the collection, and in the next notebook we will perform the data engineering and transform it into a number that represents the average gross per franchise."
   ]
  },
  {
   "cell_type": "markdown",
   "metadata": {},
   "source": [
    "First of all we have to transform this column into a dictionary, because is a string. For this task we build a function because we will use it later."
   ]
  },
  {
   "cell_type": "code",
   "execution_count": 211,
   "metadata": {},
   "outputs": [],
   "source": [
    "cleaned_reves = rf.to_dict(cleaned_reves, \"belongs_to_collection\")"
   ]
  },
  {
   "cell_type": "code",
   "execution_count": 41,
   "metadata": {},
   "outputs": [
    {
     "data": {
      "text/plain": [
       "dict_keys(['id', 'name', 'poster_path', 'backdrop_path'])"
      ]
     },
     "execution_count": 41,
     "metadata": {},
     "output_type": "execute_result"
    }
   ],
   "source": [
    "cleaned_reves[\"belongs_to_collection\"][0].keys()"
   ]
  },
  {
   "cell_type": "markdown",
   "metadata": {},
   "source": [
    "Now, we take the name of the collection"
   ]
  },
  {
   "cell_type": "code",
   "execution_count": 42,
   "metadata": {
    "scrolled": true
   },
   "outputs": [],
   "source": [
    "cleaned_reves[\"belongs_to_collection\"] = cleaned_reves[\"belongs_to_collection\"].apply(lambda x: x[\"name\"] if x is not np.nan else x)"
   ]
  },
  {
   "cell_type": "code",
   "execution_count": 43,
   "metadata": {
    "scrolled": true
   },
   "outputs": [
    {
     "data": {
      "text/plain": [
       "0              Toy Story Collection\n",
       "1                               NaN\n",
       "2                               NaN\n",
       "3    Father of the Bride Collection\n",
       "4                               NaN\n",
       "Name: belongs_to_collection, dtype: object"
      ]
     },
     "execution_count": 43,
     "metadata": {},
     "output_type": "execute_result"
    }
   ],
   "source": [
    "cleaned_reves[\"belongs_to_collection\"].head(5)"
   ]
  },
  {
   "cell_type": "markdown",
   "metadata": {},
   "source": [
    "These are the highest grossing collections"
   ]
  },
  {
   "cell_type": "code",
   "execution_count": 44,
   "metadata": {
    "scrolled": true
   },
   "outputs": [
    {
     "data": {
      "text/html": [
       "<div>\n",
       "<style scoped>\n",
       "    .dataframe tbody tr th:only-of-type {\n",
       "        vertical-align: middle;\n",
       "    }\n",
       "\n",
       "    .dataframe tbody tr th {\n",
       "        vertical-align: top;\n",
       "    }\n",
       "\n",
       "    .dataframe thead th {\n",
       "        text-align: right;\n",
       "    }\n",
       "</style>\n",
       "<table border=\"1\" class=\"dataframe\">\n",
       "  <thead>\n",
       "    <tr style=\"text-align: right;\">\n",
       "      <th></th>\n",
       "      <th>belongs_to_collection</th>\n",
       "      <th>count</th>\n",
       "      <th>sum</th>\n",
       "      <th>mean</th>\n",
       "    </tr>\n",
       "  </thead>\n",
       "  <tbody>\n",
       "    <tr>\n",
       "      <th>0</th>\n",
       "      <td>Avatar Collection</td>\n",
       "      <td>1</td>\n",
       "      <td>2.787965e+09</td>\n",
       "      <td>2.787965e+09</td>\n",
       "    </tr>\n",
       "    <tr>\n",
       "      <th>1</th>\n",
       "      <td>The Avengers Collection</td>\n",
       "      <td>2</td>\n",
       "      <td>2.924962e+09</td>\n",
       "      <td>1.462481e+09</td>\n",
       "    </tr>\n",
       "    <tr>\n",
       "      <th>2</th>\n",
       "      <td>Frozen Collection</td>\n",
       "      <td>1</td>\n",
       "      <td>1.274219e+09</td>\n",
       "      <td>1.274219e+09</td>\n",
       "    </tr>\n",
       "    <tr>\n",
       "      <th>3</th>\n",
       "      <td>Finding Nemo Collection</td>\n",
       "      <td>2</td>\n",
       "      <td>1.968906e+09</td>\n",
       "      <td>9.844532e+08</td>\n",
       "    </tr>\n",
       "    <tr>\n",
       "      <th>4</th>\n",
       "      <td>The Hobbit Collection</td>\n",
       "      <td>3</td>\n",
       "      <td>2.935523e+09</td>\n",
       "      <td>9.785078e+08</td>\n",
       "    </tr>\n",
       "    <tr>\n",
       "      <th>5</th>\n",
       "      <td>The Lord of the Rings Collection</td>\n",
       "      <td>3</td>\n",
       "      <td>2.916545e+09</td>\n",
       "      <td>9.721816e+08</td>\n",
       "    </tr>\n",
       "    <tr>\n",
       "      <th>6</th>\n",
       "      <td>Harry Potter Collection</td>\n",
       "      <td>8</td>\n",
       "      <td>7.707367e+09</td>\n",
       "      <td>9.634209e+08</td>\n",
       "    </tr>\n",
       "    <tr>\n",
       "      <th>7</th>\n",
       "      <td>Star Wars Collection</td>\n",
       "      <td>8</td>\n",
       "      <td>7.434495e+09</td>\n",
       "      <td>9.293118e+08</td>\n",
       "    </tr>\n",
       "    <tr>\n",
       "      <th>8</th>\n",
       "      <td>Despicable Me Collection</td>\n",
       "      <td>4</td>\n",
       "      <td>3.691070e+09</td>\n",
       "      <td>9.227676e+08</td>\n",
       "    </tr>\n",
       "    <tr>\n",
       "      <th>9</th>\n",
       "      <td>Pirates of the Caribbean Collection</td>\n",
       "      <td>5</td>\n",
       "      <td>4.521577e+09</td>\n",
       "      <td>9.043154e+08</td>\n",
       "    </tr>\n",
       "  </tbody>\n",
       "</table>\n",
       "</div>"
      ],
      "text/plain": [
       "                 belongs_to_collection  count           sum          mean\n",
       "0                    Avatar Collection      1  2.787965e+09  2.787965e+09\n",
       "1              The Avengers Collection      2  2.924962e+09  1.462481e+09\n",
       "2                    Frozen Collection      1  1.274219e+09  1.274219e+09\n",
       "3              Finding Nemo Collection      2  1.968906e+09  9.844532e+08\n",
       "4                The Hobbit Collection      3  2.935523e+09  9.785078e+08\n",
       "5     The Lord of the Rings Collection      3  2.916545e+09  9.721816e+08\n",
       "6              Harry Potter Collection      8  7.707367e+09  9.634209e+08\n",
       "7                 Star Wars Collection      8  7.434495e+09  9.293118e+08\n",
       "8             Despicable Me Collection      4  3.691070e+09  9.227676e+08\n",
       "9  Pirates of the Caribbean Collection      5  4.521577e+09  9.043154e+08"
      ]
     },
     "execution_count": 44,
     "metadata": {},
     "output_type": "execute_result"
    }
   ],
   "source": [
    "cleaned_reves.groupby(\"belongs_to_collection\")[\"revenue\"].agg([\"count\", \"sum\", \"mean\"]).sort_values(by = \"mean\", ascending = False).reset_index()[:10]"
   ]
  },
  {
   "cell_type": "markdown",
   "metadata": {},
   "source": [
    "Taking into account the average gross"
   ]
  },
  {
   "cell_type": "code",
   "execution_count": 45,
   "metadata": {},
   "outputs": [
    {
     "data": {
      "text/html": [
       "<div>\n",
       "<style scoped>\n",
       "    .dataframe tbody tr th:only-of-type {\n",
       "        vertical-align: middle;\n",
       "    }\n",
       "\n",
       "    .dataframe tbody tr th {\n",
       "        vertical-align: top;\n",
       "    }\n",
       "\n",
       "    .dataframe thead th {\n",
       "        text-align: right;\n",
       "    }\n",
       "</style>\n",
       "<table border=\"1\" class=\"dataframe\">\n",
       "  <thead>\n",
       "    <tr style=\"text-align: right;\">\n",
       "      <th></th>\n",
       "      <th>belongs_to_collection</th>\n",
       "      <th>count</th>\n",
       "      <th>sum</th>\n",
       "      <th>mean</th>\n",
       "    </tr>\n",
       "  </thead>\n",
       "  <tbody>\n",
       "    <tr>\n",
       "      <th>0</th>\n",
       "      <td>Harry Potter Collection</td>\n",
       "      <td>8</td>\n",
       "      <td>7.707367e+09</td>\n",
       "      <td>9.634209e+08</td>\n",
       "    </tr>\n",
       "    <tr>\n",
       "      <th>1</th>\n",
       "      <td>Star Wars Collection</td>\n",
       "      <td>8</td>\n",
       "      <td>7.434495e+09</td>\n",
       "      <td>9.293118e+08</td>\n",
       "    </tr>\n",
       "    <tr>\n",
       "      <th>2</th>\n",
       "      <td>James Bond Collection</td>\n",
       "      <td>26</td>\n",
       "      <td>7.106970e+09</td>\n",
       "      <td>2.733450e+08</td>\n",
       "    </tr>\n",
       "    <tr>\n",
       "      <th>3</th>\n",
       "      <td>The Fast and the Furious Collection</td>\n",
       "      <td>8</td>\n",
       "      <td>5.125099e+09</td>\n",
       "      <td>6.406373e+08</td>\n",
       "    </tr>\n",
       "    <tr>\n",
       "      <th>4</th>\n",
       "      <td>Pirates of the Caribbean Collection</td>\n",
       "      <td>5</td>\n",
       "      <td>4.521577e+09</td>\n",
       "      <td>9.043154e+08</td>\n",
       "    </tr>\n",
       "    <tr>\n",
       "      <th>5</th>\n",
       "      <td>Transformers Collection</td>\n",
       "      <td>5</td>\n",
       "      <td>4.366101e+09</td>\n",
       "      <td>8.732202e+08</td>\n",
       "    </tr>\n",
       "    <tr>\n",
       "      <th>6</th>\n",
       "      <td>Despicable Me Collection</td>\n",
       "      <td>4</td>\n",
       "      <td>3.691070e+09</td>\n",
       "      <td>9.227676e+08</td>\n",
       "    </tr>\n",
       "    <tr>\n",
       "      <th>7</th>\n",
       "      <td>The Twilight Collection</td>\n",
       "      <td>5</td>\n",
       "      <td>3.342107e+09</td>\n",
       "      <td>6.684215e+08</td>\n",
       "    </tr>\n",
       "    <tr>\n",
       "      <th>8</th>\n",
       "      <td>Ice Age Collection</td>\n",
       "      <td>5</td>\n",
       "      <td>3.216709e+09</td>\n",
       "      <td>6.433417e+08</td>\n",
       "    </tr>\n",
       "    <tr>\n",
       "      <th>9</th>\n",
       "      <td>Jurassic Park Collection</td>\n",
       "      <td>4</td>\n",
       "      <td>3.031484e+09</td>\n",
       "      <td>7.578710e+08</td>\n",
       "    </tr>\n",
       "  </tbody>\n",
       "</table>\n",
       "</div>"
      ],
      "text/plain": [
       "                 belongs_to_collection  count           sum          mean\n",
       "0              Harry Potter Collection      8  7.707367e+09  9.634209e+08\n",
       "1                 Star Wars Collection      8  7.434495e+09  9.293118e+08\n",
       "2                James Bond Collection     26  7.106970e+09  2.733450e+08\n",
       "3  The Fast and the Furious Collection      8  5.125099e+09  6.406373e+08\n",
       "4  Pirates of the Caribbean Collection      5  4.521577e+09  9.043154e+08\n",
       "5              Transformers Collection      5  4.366101e+09  8.732202e+08\n",
       "6             Despicable Me Collection      4  3.691070e+09  9.227676e+08\n",
       "7              The Twilight Collection      5  3.342107e+09  6.684215e+08\n",
       "8                   Ice Age Collection      5  3.216709e+09  6.433417e+08\n",
       "9             Jurassic Park Collection      4  3.031484e+09  7.578710e+08"
      ]
     },
     "execution_count": 45,
     "metadata": {},
     "output_type": "execute_result"
    }
   ],
   "source": [
    "cleaned_reves.groupby(\"belongs_to_collection\")[\"revenue\"].agg([\"count\", \"sum\", \"mean\"]).sort_values(by = \"sum\", ascending = False).reset_index()[:10]"
   ]
  },
  {
   "cell_type": "markdown",
   "metadata": {},
   "source": [
    "Does belongingness to a franchise relate to revenue?"
   ]
  },
  {
   "cell_type": "code",
   "execution_count": 46,
   "metadata": {},
   "outputs": [
    {
     "data": {
      "image/png": "[encoded data removed]",
      "text/plain": [
       "<Figure size 720x360 with 1 Axes>"
      ]
     },
     "metadata": {},
     "output_type": "display_data"
    }
   ],
   "source": [
    "pd.DataFrame(\n",
    "    {\"revenue(MM$)\": cleaned_reves[\"revenue\"] / 1e6, \n",
    "     \"belongs_to_collection\": cleaned_reves[\"belongs_to_collection\"].apply(lambda x: \"yes\" if x is not np.nan else \"no\")}\n",
    ").groupby(\"belongs_to_collection\").mean().plot.bar(figsize = (10, 5),color=\"green\");"
   ]
  },
  {
   "cell_type": "markdown",
   "metadata": {},
   "source": [
    "The films that belong to a franchise have more average revenue than the others."
   ]
  },
  {
   "cell_type": "markdown",
   "metadata": {},
   "source": [
    "#### Budget"
   ]
  },
  {
   "cell_type": "markdown",
   "metadata": {},
   "source": [
    "First, we transform this column into numeric value"
   ]
  },
  {
   "cell_type": "code",
   "execution_count": 47,
   "metadata": {},
   "outputs": [],
   "source": [
    "cleaned_reves[\"budget\"] = pd.to_numeric(cleaned_reves[\"budget\"], errors = \"coerce\")"
   ]
  },
  {
   "cell_type": "code",
   "execution_count": 48,
   "metadata": {},
   "outputs": [
    {
     "data": {
      "text/plain": [
       "dtype('int64')"
      ]
     },
     "execution_count": 48,
     "metadata": {},
     "output_type": "execute_result"
    }
   ],
   "source": [
    "cleaned_reves[\"budget\"].dtype"
   ]
  },
  {
   "cell_type": "code",
   "execution_count": 49,
   "metadata": {
    "scrolled": true
   },
   "outputs": [
    {
     "data": {
      "text/plain": [
       "count    7.537000e+03\n",
       "mean     2.243523e+07\n",
       "std      3.677674e+07\n",
       "min      0.000000e+00\n",
       "25%      0.000000e+00\n",
       "50%      7.500000e+06\n",
       "75%      2.800000e+07\n",
       "max      3.800000e+08\n",
       "Name: budget, dtype: float64"
      ]
     },
     "execution_count": 49,
     "metadata": {},
     "output_type": "execute_result"
    }
   ],
   "source": [
    "cleaned_reves[\"budget\"].describe()"
   ]
  },
  {
   "cell_type": "markdown",
   "metadata": {},
   "source": [
    "Now we have to analyze, out of the 7537, how many movies contain budget information in order to determine if we can use this variable in our model. As it happened with \"Revenue\" seems like we have not nulls, but we have false positives, since a 0 budget is null for us and a perfectly \"not null\" value for Python. This column should be numeric and $0 budget should be Nan."
   ]
  },
  {
   "cell_type": "code",
   "execution_count": 50,
   "metadata": {},
   "outputs": [],
   "source": [
    "cleaned_reves[\"budget\"] = cleaned_reves[\"budget\"].replace(0, np.nan)"
   ]
  },
  {
   "cell_type": "code",
   "execution_count": 51,
   "metadata": {},
   "outputs": [
    {
     "data": {
      "text/plain": [
       "5458"
      ]
     },
     "execution_count": 51,
     "metadata": {},
     "output_type": "execute_result"
    }
   ],
   "source": [
    "cleaned_reves[\"budget\"].notnull().sum()"
   ]
  },
  {
   "cell_type": "markdown",
   "metadata": {},
   "source": [
    "Out of 7537 movies, 5458 have a valid value for budget. Is that enough data for our model? "
   ]
  },
  {
   "cell_type": "markdown",
   "metadata": {},
   "source": [
    "Let's plot a relation between budget and revenue"
   ]
  },
  {
   "cell_type": "code",
   "execution_count": 52,
   "metadata": {},
   "outputs": [
    {
     "data": {
      "image/png": "[encoded data removed]",
      "text/plain": [
       "<Figure size 720x360 with 1 Axes>"
      ]
     },
     "metadata": {},
     "output_type": "display_data"
    }
   ],
   "source": [
    "plt.figure(figsize = (10, 5))\n",
    "\n",
    "fig = plt.scatter(x = cleaned_reves[\"budget\"], y = cleaned_reves[\"revenue\"],color=\"green\")\n",
    "\n",
    "plt.ylabel(\"Revenue\", fontsize = 13)\n",
    "plt.xlabel(\"Budget\", fontsize = 13)\n",
    "\n",
    "plt.show()"
   ]
  },
  {
   "cell_type": "markdown",
   "metadata": {},
   "source": [
    "We can see that there's a relationship between these two variables as expected. Unfortunately, taking a deeper look at the values, seems that most of them are exact and round amounts, and they don't seem very accurate.\n",
    "\n",
    "Unlike revenue, in budget we don't know the year of production, so we can't be sure of how to introduce this data in our model since we can't apply any method to fix the inflation and stablish the price of money. Also, we do not know the criteria used to set budget values. Thus can't be sure whether this values are realiable.\n",
    "\n",
    "So, even though data is highly relevant for revenue prediction, in this project we won't use budget as a feature. When Reve's becomes a real product, datamining is performed and we have better quality data, we can always put it back in game and use it to rise Reve's efficiency. For now, we'll hope that Reve's will be able to learn from this factor using \"related\" features such as Production company (bigger company's might invest more money) or Number of characters (more characters will probably mean more higher budget)."
   ]
  },
  {
   "cell_type": "code",
   "execution_count": 53,
   "metadata": {},
   "outputs": [],
   "source": [
    "cleaned_reves.drop(\"budget\", axis = 1, inplace = True)"
   ]
  },
  {
   "cell_type": "markdown",
   "metadata": {},
   "source": [
    "#### Genres"
   ]
  },
  {
   "cell_type": "code",
   "execution_count": 54,
   "metadata": {},
   "outputs": [
    {
     "data": {
      "text/plain": [
       "3513                       [{'id': 35, 'name': 'Comedy'}]\n",
       "7519    [{'id': 18, 'name': 'Drama'}, {'id': 53, 'name...\n",
       "7201    [{'id': 18, 'name': 'Drama'}, {'id': 10402, 'n...\n",
       "5483    [{'id': 16, 'name': 'Animation'}, {'id': 35, '...\n",
       "479     [{'id': 18, 'name': 'Drama'}, {'id': 10749, 'n...\n",
       "Name: genres, dtype: object"
      ]
     },
     "execution_count": 54,
     "metadata": {},
     "output_type": "execute_result"
    }
   ],
   "source": [
    "cleaned_reves[\"genres\"].sample(5)"
   ]
  },
  {
   "cell_type": "code",
   "execution_count": 55,
   "metadata": {},
   "outputs": [
    {
     "name": "stdout",
     "output_type": "stream",
     "text": [
      "[{'id': 16, 'name': 'Animation'}, {'id': 35, 'name': 'Comedy'}, {'id': 10751, 'name': 'Family'}]\n",
      "[{'id': 12, 'name': 'Adventure'}, {'id': 14, 'name': 'Fantasy'}, {'id': 10751, 'name': 'Family'}]\n",
      "[{'id': 12, 'name': 'Adventure'}, {'id': 14, 'name': 'Fantasy'}, {'id': 28, 'name': 'Action'}, {'id': 35, 'name': 'Comedy'}, {'id': 10751, 'name': 'Family'}]\n"
     ]
    }
   ],
   "source": [
    "print(cleaned_reves[\"genres\"][0])\n",
    "print(cleaned_reves[\"genres\"][1])\n",
    "print(cleaned_reves[\"genres\"][235])"
   ]
  },
  {
   "cell_type": "markdown",
   "metadata": {},
   "source": [
    "Seems that in this column, we can find a list of dicts that indicate the different movie genres associated to each movie. As we can see, there are many different generes associated to each movie, but not always the same ammount of them. \n",
    "\n",
    "Basic questions we should ask ourselves about the column \"Genres\":\n",
    "\n",
    "- How many genres are there? \n",
    "- Should we create dummie variables with all the genres?\n",
    "- What's the maxium numbers of genres per movie we want to use in our model?\n",
    "- ...\n",
    "\n",
    "First, let's find out how many different genres we have got, and what's the maximum number of genres any of the movies has."
   ]
  },
  {
   "cell_type": "markdown",
   "metadata": {},
   "source": [
    "For this task we have created a function that transforms the column into a list, since we'll use it later for other columns."
   ]
  },
  {
   "cell_type": "markdown",
   "metadata": {},
   "source": [
    "This function takes the values of the key that are in the dictionary. For example, if we want the name of the genre we need to assign key = \"name\" in the input of the function."
   ]
  },
  {
   "cell_type": "code",
   "execution_count": 56,
   "metadata": {},
   "outputs": [],
   "source": [
    "cleaned_reves[\"genres\"] = rf.to_list(cleaned_reves[\"genres\"], \"name\")"
   ]
  },
  {
   "cell_type": "code",
   "execution_count": 57,
   "metadata": {},
   "outputs": [
    {
     "data": {
      "text/plain": [
       "0         [Animation, Comedy, Family]\n",
       "1        [Adventure, Fantasy, Family]\n",
       "2            [Comedy, Drama, Romance]\n",
       "3                            [Comedy]\n",
       "4    [Action, Crime, Drama, Thriller]\n",
       "Name: genres, dtype: object"
      ]
     },
     "execution_count": 57,
     "metadata": {},
     "output_type": "execute_result"
    }
   ],
   "source": [
    "cleaned_reves[\"genres\"].head()"
   ]
  },
  {
   "cell_type": "markdown",
   "metadata": {},
   "source": [
    "* Maximum genres in a movie?\n",
    "* Mean of genres per movie?"
   ]
  },
  {
   "cell_type": "code",
   "execution_count": 58,
   "metadata": {},
   "outputs": [
    {
     "data": {
      "text/plain": [
       "DescribeResult(nobs=7537, minmax=(0, 8), mean=2.5011277696696297, variance=1.2625053627863332, skewness=0.48130236924329367, kurtosis=-0.04560935460086002)"
      ]
     },
     "execution_count": 58,
     "metadata": {},
     "output_type": "execute_result"
    }
   ],
   "source": [
    "stats.describe(np.array(cleaned_reves[\"genres\"].str.len()))"
   ]
  },
  {
   "cell_type": "markdown",
   "metadata": {},
   "source": [
    "Results from the stats:\n",
    "\n",
    "- We have movies with no genres\n",
    "- 8 maximum genres per movie\n",
    "- Mean of 2.5 genres per movie "
   ]
  },
  {
   "cell_type": "markdown",
   "metadata": {},
   "source": [
    "Does the number of genres in a movie affects to the revenue?"
   ]
  },
  {
   "cell_type": "code",
   "execution_count": 59,
   "metadata": {},
   "outputs": [
    {
     "data": {
      "image/png": "[encoded data removed]",
      "text/plain": [
       "<Figure size 1080x360 with 1 Axes>"
      ]
     },
     "metadata": {},
     "output_type": "display_data"
    }
   ],
   "source": [
    "pd.DataFrame(\n",
    "    {\"revenue(0.1MM$)\": cleaned_reves[\"revenue\"]/1e5,\n",
    "     \"N_genres\": [len(x) for x in cleaned_reves[\"genres\"]]}\n",
    ").groupby(\"N_genres\").agg([\"count\", \"mean\"]).plot.bar(figsize = (15, 5),color=[\"red\",\"green\"])\n",
    "plt.title(\"Mean Revenue for Movie's number of genres\");"
   ]
  },
  {
   "cell_type": "markdown",
   "metadata": {},
   "source": [
    "We see that most of the films have between 1 and 3 genres and it can be seen that the average of the collection increases with the number of genres up to 4-5."
   ]
  },
  {
   "cell_type": "markdown",
   "metadata": {},
   "source": [
    "Let's see how many genres we've got just in case we want to create dummie columns for each of them. For this task we will create a function that returns the list of genres and it's frequency. For the word count we will use the library collections."
   ]
  },
  {
   "cell_type": "code",
   "execution_count": 60,
   "metadata": {},
   "outputs": [],
   "source": [
    "genres_counter = rf.word_count(cleaned_reves, \"genres\")"
   ]
  },
  {
   "cell_type": "code",
   "execution_count": 61,
   "metadata": {},
   "outputs": [
    {
     "name": "stdout",
     "output_type": "stream",
     "text": [
      "We have 20 unique genres\n"
     ]
    }
   ],
   "source": [
    "print(\"We have %d unique genres\" %(len(genres_counter.keys())))"
   ]
  },
  {
   "cell_type": "markdown",
   "metadata": {},
   "source": [
    "Let's see the most common genres in a bar plot"
   ]
  },
  {
   "cell_type": "code",
   "execution_count": 62,
   "metadata": {},
   "outputs": [
    {
     "data": {
      "image/png": "[encoded data removed]",
      "text/plain": [
       "<Figure size 1080x360 with 1 Axes>"
      ]
     },
     "metadata": {},
     "output_type": "display_data"
    }
   ],
   "source": [
    "plt.subplots(figsize = (15, 5))\n",
    "\n",
    "ax = pd.Series(genres_counter).sort_values(ascending = True).plot.barh(color = \"green\")\n",
    "ax.set_xlabel(\"Nº of occurences\")\n",
    "ax.set_title(\"Genres Popularity\") \n",
    "\n",
    "plt.show()"
   ]
  },
  {
   "cell_type": "markdown",
   "metadata": {},
   "source": [
    "In the next chart, we can check the average revenue per movie genre using our own function word_mean. This function takes a dataframe as input, the column to be analyzed and the numeric feature used to do the math, such as revenue, bugdet. We will use this function further on, on the second notebook, to transform all features into numeric values for the model."
   ]
  },
  {
   "cell_type": "code",
   "execution_count": 63,
   "metadata": {},
   "outputs": [
    {
     "name": "stderr",
     "output_type": "stream",
     "text": [
      "C:\\Users\\Elsa\\Documents\\GitHub\\reves\\revesFunctions.py:79: FutureWarning: get_value is deprecated and will be removed in a future release. Please use .at[] or .iat[] accessors instead\n",
      "  word_mean_dict[name] = dataframe.get_value(i, variable) / counter[name]\n",
      "C:\\Users\\Elsa\\Documents\\GitHub\\reves\\revesFunctions.py:81: FutureWarning: get_value is deprecated and will be removed in a future release. Please use .at[] or .iat[] accessors instead\n",
      "  word_mean_dict[name] = word_mean_dict[name] + (dataframe.get_value(i, variable) / counter[name])\n"
     ]
    },
    {
     "data": {
      "image/png": "[encoded data removed]",
      "text/plain": [
       "<Figure size 1080x360 with 1 Axes>"
      ]
     },
     "metadata": {},
     "output_type": "display_data"
    }
   ],
   "source": [
    "genres_dict = rf.word_mean(cleaned_reves, \"genres\", \"revenue\")\n",
    "\n",
    "plt.subplots(figsize = (15, 5))\n",
    "\n",
    "ax = pd.Series(genres_dict).sort_values(ascending = True).plot.barh(color = \"green\")\n",
    "ax.set_xlabel(\"Revenue\")\n",
    "ax.set_title(\"Mean Revenue per Genre\") \n",
    "\n",
    "plt.show()"
   ]
  },
  {
   "cell_type": "markdown",
   "metadata": {},
   "source": [
    "Movies with no genres?"
   ]
  },
  {
   "cell_type": "code",
   "execution_count": 64,
   "metadata": {},
   "outputs": [
    {
     "data": {
      "text/plain": [
       "23"
      ]
     },
     "execution_count": 64,
     "metadata": {},
     "output_type": "execute_result"
    }
   ],
   "source": [
    "(cleaned_reves[\"genres\"].str.len() == 0).sum()"
   ]
  },
  {
   "cell_type": "markdown",
   "metadata": {},
   "source": [
    "#### Original Language"
   ]
  },
  {
   "cell_type": "code",
   "execution_count": 65,
   "metadata": {},
   "outputs": [
    {
     "data": {
      "text/plain": [
       "0    en\n",
       "1    en\n",
       "2    en\n",
       "3    en\n",
       "4    en\n",
       "Name: original_language, dtype: object"
      ]
     },
     "execution_count": 65,
     "metadata": {},
     "output_type": "execute_result"
    }
   ],
   "source": [
    "cleaned_reves[\"original_language\"].head(5)"
   ]
  },
  {
   "cell_type": "code",
   "execution_count": 66,
   "metadata": {},
   "outputs": [
    {
     "data": {
      "text/plain": [
       "count     7537\n",
       "unique      44\n",
       "top         en\n",
       "freq      6428\n",
       "Name: original_language, dtype: object"
      ]
     },
     "execution_count": 66,
     "metadata": {},
     "output_type": "execute_result"
    }
   ],
   "source": [
    "cleaned_reves[\"original_language\"].describe()"
   ]
  },
  {
   "cell_type": "markdown",
   "metadata": {},
   "source": [
    "Let's see the frequency of the languages and if they are related to the revenue."
   ]
  },
  {
   "cell_type": "code",
   "execution_count": 67,
   "metadata": {},
   "outputs": [
    {
     "data": {
      "image/png": "[encoded data removed]",
      "text/plain": [
       "<Figure size 1080x360 with 1 Axes>"
      ]
     },
     "metadata": {},
     "output_type": "display_data"
    }
   ],
   "source": [
    "plt.subplots(figsize = (15, 5))\n",
    "\n",
    "ax = cleaned_reves.groupby(\"original_language\")[\"revenue\"].count().sort_values(ascending = True)[-10:].plot.barh(color = \"green\")\n",
    "ax.set_xlabel(\"Nº of occurences\")\n",
    "ax.set_title(\"Language Popularity\") \n",
    "\n",
    "plt.show()"
   ]
  },
  {
   "cell_type": "markdown",
   "metadata": {},
   "source": [
    "Most of the films are English so we could do a bar plot in which we see the average collection if the film is English or not."
   ]
  },
  {
   "cell_type": "code",
   "execution_count": 68,
   "metadata": {
    "scrolled": true
   },
   "outputs": [
    {
     "data": {
      "image/png": "[encoded data removed]",
      "text/plain": [
       "<Figure size 1080x360 with 1 Axes>"
      ]
     },
     "metadata": {},
     "output_type": "display_data"
    }
   ],
   "source": [
    "pd.DataFrame(\n",
    "    {\"revenue(MM$)\": cleaned_reves[\"revenue\"] / 1e6, \n",
    "     \"Is_English\": cleaned_reves[\"original_language\"].apply(lambda x: \"yes\" if x == \"en\" else \"no\")}\n",
    ").groupby(\"Is_English\").mean().plot.bar(figsize = (15, 5),color=\"green\");\n",
    "plt.title(\"Mean Revenue submitted to Language: English vs Not English\");"
   ]
  },
  {
   "cell_type": "markdown",
   "metadata": {},
   "source": [
    "We see that English films are the most frequent and that they have also more average revenue. This leads us to think that we could categorize the films in two groups: English speaking and not."
   ]
  },
  {
   "cell_type": "markdown",
   "metadata": {},
   "source": [
    "Are there movies with no data in original language?"
   ]
  },
  {
   "cell_type": "code",
   "execution_count": 69,
   "metadata": {},
   "outputs": [
    {
     "data": {
      "text/plain": [
       "0"
      ]
     },
     "execution_count": 69,
     "metadata": {},
     "output_type": "execute_result"
    }
   ],
   "source": [
    "cleaned_reves[\"original_language\"].isnull().sum()"
   ]
  },
  {
   "cell_type": "markdown",
   "metadata": {},
   "source": [
    "#### Production Companies"
   ]
  },
  {
   "cell_type": "code",
   "execution_count": 70,
   "metadata": {},
   "outputs": [
    {
     "data": {
      "text/plain": [
       "0       [{'name': 'Pixar Animation Studios', 'id': 3}]\n",
       "1    [{'name': 'TriStar Pictures', 'id': 559}, {'na...\n",
       "2    [{'name': 'Twentieth Century Fox Film Corporat...\n",
       "3    [{'name': 'Sandollar Productions', 'id': 5842}...\n",
       "4    [{'name': 'Regency Enterprises', 'id': 508}, {...\n",
       "Name: production_companies, dtype: object"
      ]
     },
     "execution_count": 70,
     "metadata": {},
     "output_type": "execute_result"
    }
   ],
   "source": [
    "cleaned_reves[\"production_companies\"].head(5)"
   ]
  },
  {
   "cell_type": "markdown",
   "metadata": {},
   "source": [
    "Same as it happened with genres. Contains a list of dicts that we have to transform in a lists."
   ]
  },
  {
   "cell_type": "code",
   "execution_count": 71,
   "metadata": {},
   "outputs": [],
   "source": [
    "cleaned_reves[\"production_companies\"] = rf.to_list(cleaned_reves[\"production_companies\"], \"name\")"
   ]
  },
  {
   "cell_type": "code",
   "execution_count": 72,
   "metadata": {
    "scrolled": true
   },
   "outputs": [
    {
     "data": {
      "text/plain": [
       "0                            [Pixar Animation Studios]\n",
       "1    [TriStar Pictures, Teitler Film, Interscope Co...\n",
       "2             [Twentieth Century Fox Film Corporation]\n",
       "3         [Sandollar Productions, Touchstone Pictures]\n",
       "4    [Regency Enterprises, Forward Pass, Warner Bros.]\n",
       "Name: production_companies, dtype: object"
      ]
     },
     "execution_count": 72,
     "metadata": {},
     "output_type": "execute_result"
    }
   ],
   "source": [
    "cleaned_reves[\"production_companies\"].head()"
   ]
  },
  {
   "cell_type": "code",
   "execution_count": 73,
   "metadata": {},
   "outputs": [
    {
     "data": {
      "text/plain": [
       "DescribeResult(nobs=7537, minmax=(0, 26), mean=2.7556056786519836, variance=4.796420602451826, skewness=2.2842969003470928, kurtosis=10.71322621111153)"
      ]
     },
     "execution_count": 73,
     "metadata": {},
     "output_type": "execute_result"
    }
   ],
   "source": [
    "stats.describe(np.array(cleaned_reves[\"production_companies\"].str.len()))"
   ]
  },
  {
   "cell_type": "markdown",
   "metadata": {},
   "source": [
    "Results from the stats:\n",
    "\n",
    "- We have movies with no production company\n",
    "- 26 maximum genres per movie\n",
    "- Mean of 2.75 production companies per movie "
   ]
  },
  {
   "cell_type": "code",
   "execution_count": 74,
   "metadata": {},
   "outputs": [
    {
     "data": {
      "image/png": "[encoded data removed]",
      "text/plain": [
       "<Figure size 1080x360 with 1 Axes>"
      ]
     },
     "metadata": {},
     "output_type": "display_data"
    }
   ],
   "source": [
    "pd.DataFrame(\n",
    "    {\"revenue(0.1MM$)\": cleaned_reves[\"revenue\"] / 1e5,\n",
    "     \"Nº P.C\": [len(x) for x in cleaned_reves[\"production_companies\"]]}\n",
    ").groupby(\"Nº P.C\").agg([\"count\", \"mean\"]).plot.bar(figsize = (15, 5), color = [\"red\", \"green\"]);\n",
    "plt.title(\"Does the number of production companies affect the revenue?\");"
   ]
  },
  {
   "cell_type": "markdown",
   "metadata": {},
   "source": [
    "Most of the films have between 1 and 7 production companies, and it can be seen that those that are between 4 and 7 usually have more average revenue. Maybe we should use \"number of production companies\" as factor in our model."
   ]
  },
  {
   "cell_type": "markdown",
   "metadata": {},
   "source": [
    "Let's see how many production companies we've got just in case we want to create dummie columns for each of them. Same function as above with genres."
   ]
  },
  {
   "cell_type": "code",
   "execution_count": 75,
   "metadata": {},
   "outputs": [],
   "source": [
    "production_companies_counter = rf.word_count(cleaned_reves, \"production_companies\")"
   ]
  },
  {
   "cell_type": "code",
   "execution_count": 76,
   "metadata": {},
   "outputs": [
    {
     "data": {
      "text/plain": [
       "[('Warner Bros.', 491),\n",
       " ('Universal Pictures', 464),\n",
       " ('Paramount Pictures', 409),\n",
       " ('Twentieth Century Fox Film Corporation', 343),\n",
       " ('Columbia Pictures', 238)]"
      ]
     },
     "execution_count": 76,
     "metadata": {},
     "output_type": "execute_result"
    }
   ],
   "source": [
    "production_companies_counter.most_common(5)"
   ]
  },
  {
   "cell_type": "code",
   "execution_count": 77,
   "metadata": {},
   "outputs": [
    {
     "name": "stdout",
     "output_type": "stream",
     "text": [
      "There are 7091 unique production companies\n"
     ]
    }
   ],
   "source": [
    "print(\"There are %d unique production companies\" %(len(production_companies_counter.keys())))"
   ]
  },
  {
   "cell_type": "markdown",
   "metadata": {},
   "source": [
    "Which ones are the most common Production Companies?"
   ]
  },
  {
   "cell_type": "code",
   "execution_count": 78,
   "metadata": {},
   "outputs": [
    {
     "data": {
      "image/png": "[encoded data removed]",
      "text/plain": [
       "<Figure size 720x360 with 1 Axes>"
      ]
     },
     "metadata": {},
     "output_type": "display_data"
    }
   ],
   "source": [
    "plt.subplots(figsize = (10, 5))\n",
    "\n",
    "ax = pd.Series(production_companies_counter).sort_values(ascending = True)[-10:].plot.barh(color = \"green\")\n",
    "ax.set_xlabel(\"Nº of occurences\")\n",
    "ax.set_title(\"Most common Production Companies\") \n",
    "\n",
    "plt.show()"
   ]
  },
  {
   "cell_type": "markdown",
   "metadata": {},
   "source": [
    "What are the production companies that have more average revenue?"
   ]
  },
  {
   "cell_type": "code",
   "execution_count": 79,
   "metadata": {},
   "outputs": [
    {
     "name": "stderr",
     "output_type": "stream",
     "text": [
      "C:\\Users\\Elsa\\Documents\\GitHub\\reves\\revesFunctions.py:79: FutureWarning: get_value is deprecated and will be removed in a future release. Please use .at[] or .iat[] accessors instead\n",
      "  word_mean_dict[name] = dataframe.get_value(i, variable) / counter[name]\n",
      "C:\\Users\\Elsa\\Documents\\GitHub\\reves\\revesFunctions.py:81: FutureWarning: get_value is deprecated and will be removed in a future release. Please use .at[] or .iat[] accessors instead\n",
      "  word_mean_dict[name] = word_mean_dict[name] + (dataframe.get_value(i, variable) / counter[name])\n"
     ]
    },
    {
     "data": {
      "image/png": "[encoded data removed]",
      "text/plain": [
       "<Figure size 720x360 with 1 Axes>"
      ]
     },
     "metadata": {},
     "output_type": "display_data"
    }
   ],
   "source": [
    "production_companies_dict = rf.word_mean(cleaned_reves, \"production_companies\", \"revenue\")\n",
    "\n",
    "plt.subplots(figsize = (10, 5))\n",
    "\n",
    "ax = pd.Series(production_companies_dict).sort_values(ascending = True)[-10:].plot.barh(color = \"green\")\n",
    "ax.set_xlabel(\"Revenue\")\n",
    "ax.set_title(\"Mean Revenue per Production Company\") \n",
    "\n",
    "plt.show()"
   ]
  },
  {
   "cell_type": "markdown",
   "metadata": {},
   "source": [
    "Movies with no production companies?"
   ]
  },
  {
   "cell_type": "code",
   "execution_count": 80,
   "metadata": {},
   "outputs": [
    {
     "data": {
      "text/plain": [
       "426"
      ]
     },
     "execution_count": 80,
     "metadata": {},
     "output_type": "execute_result"
    }
   ],
   "source": [
    "(cleaned_reves[\"production_companies\"].str.len() == 0).sum()"
   ]
  },
  {
   "cell_type": "markdown",
   "metadata": {},
   "source": [
    "####  Production Countries"
   ]
  },
  {
   "cell_type": "code",
   "execution_count": 81,
   "metadata": {},
   "outputs": [
    {
     "data": {
      "text/plain": [
       "6884    [{'iso_3166_1': 'US', 'name': 'United States o...\n",
       "5720              [{'iso_3166_1': 'IT', 'name': 'Italy'}]\n",
       "5669    [{'iso_3166_1': 'US', 'name': 'United States o...\n",
       "5842    [{'iso_3166_1': 'CN', 'name': 'China'}, {'iso_...\n",
       "4691             [{'iso_3166_1': 'CA', 'name': 'Canada'}]\n",
       "Name: production_countries, dtype: object"
      ]
     },
     "execution_count": 81,
     "metadata": {},
     "output_type": "execute_result"
    }
   ],
   "source": [
    "cleaned_reves[\"production_countries\"].sample(5)"
   ]
  },
  {
   "cell_type": "markdown",
   "metadata": {},
   "source": [
    "Almost the same as before"
   ]
  },
  {
   "cell_type": "code",
   "execution_count": 82,
   "metadata": {},
   "outputs": [],
   "source": [
    "cleaned_reves[\"production_countries\"] = rf.to_list(cleaned_reves[\"production_countries\"], \"name\")"
   ]
  },
  {
   "cell_type": "code",
   "execution_count": 83,
   "metadata": {
    "scrolled": true
   },
   "outputs": [
    {
     "data": {
      "text/plain": [
       "0    [United States of America]\n",
       "1    [United States of America]\n",
       "2    [United States of America]\n",
       "3    [United States of America]\n",
       "4    [United States of America]\n",
       "Name: production_countries, dtype: object"
      ]
     },
     "execution_count": 83,
     "metadata": {},
     "output_type": "execute_result"
    }
   ],
   "source": [
    "cleaned_reves[\"production_countries\"].head()"
   ]
  },
  {
   "cell_type": "code",
   "execution_count": 84,
   "metadata": {},
   "outputs": [
    {
     "data": {
      "text/plain": [
       "DescribeResult(nobs=7537, minmax=(0, 12), mean=1.3404537614435452, variance=0.6470801019288567, skewness=2.987479654035032, kurtosis=15.626836710362493)"
      ]
     },
     "execution_count": 84,
     "metadata": {},
     "output_type": "execute_result"
    }
   ],
   "source": [
    "stats.describe(np.array(cleaned_reves[\"production_countries\"].str.len()))"
   ]
  },
  {
   "cell_type": "markdown",
   "metadata": {},
   "source": [
    "Results from the stats:\n",
    "\n",
    "- We have movies with no production country\n",
    "- 12 maximum genres per movie\n",
    "- Mean of 1.34 production countries per movie "
   ]
  },
  {
   "cell_type": "markdown",
   "metadata": {},
   "source": [
    "Let's see if the number of production countries affects to the revenue."
   ]
  },
  {
   "cell_type": "code",
   "execution_count": 85,
   "metadata": {},
   "outputs": [
    {
     "data": {
      "image/png": "[encoded data removed]",
      "text/plain": [
       "<Figure size 720x360 with 1 Axes>"
      ]
     },
     "metadata": {},
     "output_type": "display_data"
    }
   ],
   "source": [
    "pd.DataFrame(\n",
    "    {\"revenue(0.1MM$)\": cleaned_reves[\"revenue\"] / 100000,\n",
    "     \"Nº P.C\": [len(x) for x in cleaned_reves[\"production_countries\"]]}\n",
    ").groupby(\"Nº P.C\").agg([\"count\", \"mean\"]).plot.bar(figsize = (10, 5), color = [\"red\", \"green\"])\n",
    "plt.title(\"Does numer of production countries affect revenue?\");"
   ]
  },
  {
   "cell_type": "markdown",
   "metadata": {},
   "source": [
    "We see that most of the films only have 1 production country and that there is not much difference with respect to the revenue."
   ]
  },
  {
   "cell_type": "markdown",
   "metadata": {},
   "source": [
    "Movies with no production countries?"
   ]
  },
  {
   "cell_type": "code",
   "execution_count": 86,
   "metadata": {},
   "outputs": [
    {
     "data": {
      "text/plain": [
       "156"
      ]
     },
     "execution_count": 86,
     "metadata": {},
     "output_type": "execute_result"
    }
   ],
   "source": [
    "(cleaned_reves[\"production_countries\"].str.len() == 0).sum()"
   ]
  },
  {
   "cell_type": "markdown",
   "metadata": {},
   "source": [
    "As this variable is not relevant we eliminate it"
   ]
  },
  {
   "cell_type": "code",
   "execution_count": 87,
   "metadata": {},
   "outputs": [],
   "source": [
    "cleaned_reves = cleaned_reves.drop([\"production_countries\"], axis = 1)"
   ]
  },
  {
   "cell_type": "markdown",
   "metadata": {},
   "source": [
    "#### Release Date"
   ]
  },
  {
   "cell_type": "markdown",
   "metadata": {},
   "source": [
    "Release Date can be a very significant variable in our model since we assume that the movies released nearby certain months or times of the year, can reach more revenue more easily.\n",
    "\n",
    "Release year can not be used in the model, but we'll keep it as it will be useful to do some data engineering in the following notebook."
   ]
  },
  {
   "cell_type": "code",
   "execution_count": 88,
   "metadata": {},
   "outputs": [
    {
     "name": "stdout",
     "output_type": "stream",
     "text": [
      "467     1982-04-25\n",
      "7140    2016-06-23\n",
      "3918    2006-11-22\n",
      "3603    2005-09-05\n",
      "3173    2004-04-07\n",
      "Name: release_date, dtype: object\n",
      "There are 1 null values\n"
     ]
    }
   ],
   "source": [
    "print(cleaned_reves[\"release_date\"].sample(5))\n",
    "print(\"There are %d null values\" % (cleaned_reves[\"release_date\"].isnull().sum()))"
   ]
  },
  {
   "cell_type": "code",
   "execution_count": 89,
   "metadata": {},
   "outputs": [
    {
     "data": {
      "text/plain": [
       "str"
      ]
     },
     "execution_count": 89,
     "metadata": {},
     "output_type": "execute_result"
    }
   ],
   "source": [
    "type(cleaned_reves[\"release_date\"][2255])"
   ]
  },
  {
   "cell_type": "markdown",
   "metadata": {},
   "source": [
    "Info is stored in string format, so we should transform that to Date format, in order to be useful. It is possible that the revenue is related to the year, month and day of the week released."
   ]
  },
  {
   "cell_type": "code",
   "execution_count": 90,
   "metadata": {},
   "outputs": [],
   "source": [
    "cleaned_reves[\"release_date\"] = pd.to_datetime(cleaned_reves[\"release_date\"])"
   ]
  },
  {
   "cell_type": "code",
   "execution_count": 91,
   "metadata": {},
   "outputs": [
    {
     "data": {
      "text/plain": [
       "0   1995-10-30\n",
       "1   1995-12-15\n",
       "2   1995-12-22\n",
       "3   1995-02-10\n",
       "4   1995-12-15\n",
       "Name: release_date, dtype: datetime64[ns]"
      ]
     },
     "execution_count": 91,
     "metadata": {},
     "output_type": "execute_result"
    }
   ],
   "source": [
    "cleaned_reves[\"release_date\"].head()"
   ]
  },
  {
   "cell_type": "code",
   "execution_count": 92,
   "metadata": {},
   "outputs": [],
   "source": [
    "cleaned_reves[\"release_year\"] = (cleaned_reves[\"release_date\"].apply(lambda x: x.year))"
   ]
  },
  {
   "cell_type": "code",
   "execution_count": 93,
   "metadata": {},
   "outputs": [],
   "source": [
    "cleaned_reves[\"release_month\"] = cleaned_reves[\"release_date\"].apply(lambda x: x.month)"
   ]
  },
  {
   "cell_type": "code",
   "execution_count": 94,
   "metadata": {
    "scrolled": true
   },
   "outputs": [],
   "source": [
    "cleaned_reves[\"release_weekday\"] = cleaned_reves[\"release_date\"].apply(lambda x: x.dayofweek)"
   ]
  },
  {
   "cell_type": "markdown",
   "metadata": {},
   "source": [
    "Release Year could be related with revenue as the price of the ticket and the value of money itself has changed through time. We should do some transformation to this variable in the following notebook."
   ]
  },
  {
   "cell_type": "code",
   "execution_count": 95,
   "metadata": {
    "scrolled": true
   },
   "outputs": [
    {
     "data": {
      "image/png": "[encoded data removed]",
      "text/plain": [
       "<Figure size 720x360 with 1 Axes>"
      ]
     },
     "metadata": {},
     "output_type": "display_data"
    }
   ],
   "source": [
    "plt.subplots(figsize = (10, 5))\n",
    "plt.plot(cleaned_reves.groupby(\"release_year\")[\"release_year\"].count().index\n",
    "         ,cleaned_reves.groupby(\"release_year\")[\"revenue\"].mean()\n",
    "         ,c=\"green\",label=\"mean revenue\")\n",
    "plt.title(\"Mean Revenue evolution\");"
   ]
  },
  {
   "cell_type": "code",
   "execution_count": 96,
   "metadata": {},
   "outputs": [
    {
     "data": {
      "image/png": "[encoded data removed]",
      "text/plain": [
       "<Figure size 720x360 with 1 Axes>"
      ]
     },
     "metadata": {},
     "output_type": "display_data"
    }
   ],
   "source": [
    "plt.subplots(figsize = (10, 5))\n",
    "plt.plot(cleaned_reves.groupby(\"release_year\")[\"release_year\"].count().index\n",
    "         ,cleaned_reves.groupby(\"release_year\")[\"revenue\"].count()\n",
    "         ,c=\"green\",label=\"mean revenue\")\n",
    "plt.title(\"Movies Released evolution\");"
   ]
  },
  {
   "cell_type": "code",
   "execution_count": 97,
   "metadata": {},
   "outputs": [
    {
     "data": {
      "image/png": "[encoded data removed]",
      "text/plain": [
       "<Figure size 720x360 with 1 Axes>"
      ]
     },
     "metadata": {},
     "output_type": "display_data"
    }
   ],
   "source": [
    "plt.subplots(figsize = (10, 5))\n",
    "plt.bar(cleaned_reves.groupby(\"release_month\")[\"release_year\"].count().index\n",
    "         ,cleaned_reves.groupby(\"release_month\")[\"revenue\"].mean(),\n",
    "       color=\"green\",label=\"mean revenue\",\n",
    "        tick_label=[\"jan\",\"feb\",\"mar\",\"apr\",\"may\",\"jun\",\"jul\",\"aug\",\"sep\",\"oct\",\"nov\",\"dec\"])\n",
    "plt.title(\"Mean Revenue submitted to Release Month\");"
   ]
  },
  {
   "cell_type": "code",
   "execution_count": 98,
   "metadata": {},
   "outputs": [
    {
     "data": {
      "image/png": "[encoded data removed]",
      "text/plain": [
       "<Figure size 720x360 with 1 Axes>"
      ]
     },
     "metadata": {},
     "output_type": "display_data"
    }
   ],
   "source": [
    "plt.subplots(figsize = (10, 5))\n",
    "plt.bar(cleaned_reves.groupby(\"release_month\")[\"release_year\"].count().index\n",
    "         ,cleaned_reves.groupby(\"release_month\")[\"revenue\"].count(),\n",
    "       color=\"green\",label=\"mean revenue\",\n",
    "        tick_label=[\"jan\",\"feb\",\"mar\",\"apr\",\"may\",\"jun\",\"jul\",\"aug\",\"sep\",\"oct\",\"nov\",\"dec\"])\n",
    "plt.title(\"Movies Released by Month\");"
   ]
  },
  {
   "cell_type": "code",
   "execution_count": 99,
   "metadata": {},
   "outputs": [
    {
     "data": {
      "image/png": "[encoded data removed]",
      "text/plain": [
       "<Figure size 720x360 with 1 Axes>"
      ]
     },
     "metadata": {},
     "output_type": "display_data"
    }
   ],
   "source": [
    "plt.subplots(figsize = (10, 5))\n",
    "plt.bar(cleaned_reves.groupby(\"release_weekday\")[\"release_weekday\"].count().index\n",
    "         ,cleaned_reves.groupby(\"release_weekday\")[\"revenue\"].mean(),\n",
    "       color=\"green\",label=\"mean revenue\",\n",
    "        tick_label=[\"mon\",\"tue\",\"wed\",\"thu\",\"fri\",\"sat\",\"sun\"])\n",
    "plt.title(\"Mean Revenue submitted to Release Weekday\");"
   ]
  },
  {
   "cell_type": "markdown",
   "metadata": {},
   "source": [
    "Unlike we could guess, even though most movies are released on friday (see next chart), the movies release on Tuesdays get higher revenues. This could be just because some popular movies are released on this weekdays on purpose just as a special occasion or to be different than mainstream movies. Let check what movies have been released on a Tuesday."
   ]
  },
  {
   "cell_type": "code",
   "execution_count": 100,
   "metadata": {},
   "outputs": [
    {
     "data": {
      "text/html": [
       "<div>\n",
       "<style scoped>\n",
       "    .dataframe tbody tr th:only-of-type {\n",
       "        vertical-align: middle;\n",
       "    }\n",
       "\n",
       "    .dataframe tbody tr th {\n",
       "        vertical-align: top;\n",
       "    }\n",
       "\n",
       "    .dataframe thead th {\n",
       "        text-align: right;\n",
       "    }\n",
       "</style>\n",
       "<table border=\"1\" class=\"dataframe\">\n",
       "  <thead>\n",
       "    <tr style=\"text-align: right;\">\n",
       "      <th></th>\n",
       "      <th>title</th>\n",
       "      <th>revenue</th>\n",
       "      <th>release_date</th>\n",
       "    </tr>\n",
       "  </thead>\n",
       "  <tbody>\n",
       "    <tr>\n",
       "      <th>6309</th>\n",
       "      <td>Star Wars: The Force Awakens</td>\n",
       "      <td>2.068224e+09</td>\n",
       "      <td>2015-12-15</td>\n",
       "    </tr>\n",
       "    <tr>\n",
       "      <th>759</th>\n",
       "      <td>Titanic</td>\n",
       "      <td>1.845034e+09</td>\n",
       "      <td>1997-11-18</td>\n",
       "    </tr>\n",
       "    <tr>\n",
       "      <th>6221</th>\n",
       "      <td>Jurassic World</td>\n",
       "      <td>1.513529e+09</td>\n",
       "      <td>2015-06-09</td>\n",
       "    </tr>\n",
       "    <tr>\n",
       "      <th>5103</th>\n",
       "      <td>Transformers: Dark of the Moon</td>\n",
       "      <td>1.123747e+09</td>\n",
       "      <td>2011-06-28</td>\n",
       "    </tr>\n",
       "    <tr>\n",
       "      <th>3789</th>\n",
       "      <td>Pirates of the Caribbean: Dead Man's Chest</td>\n",
       "      <td>1.065660e+09</td>\n",
       "      <td>2006-06-20</td>\n",
       "    </tr>\n",
       "    <tr>\n",
       "      <th>5725</th>\n",
       "      <td>Despicable Me 2</td>\n",
       "      <td>9.707619e+08</td>\n",
       "      <td>2013-06-25</td>\n",
       "    </tr>\n",
       "    <tr>\n",
       "      <th>4552</th>\n",
       "      <td>Harry Potter and the Half-Blood Prince</td>\n",
       "      <td>9.339592e+08</td>\n",
       "      <td>2009-07-07</td>\n",
       "    </tr>\n",
       "    <tr>\n",
       "      <th>4021</th>\n",
       "      <td>Spider-Man 3</td>\n",
       "      <td>8.908716e+08</td>\n",
       "      <td>2007-05-01</td>\n",
       "    </tr>\n",
       "    <tr>\n",
       "      <th>5413</th>\n",
       "      <td>Ice Age: Continental Drift</td>\n",
       "      <td>8.772448e+08</td>\n",
       "      <td>2012-06-26</td>\n",
       "    </tr>\n",
       "    <tr>\n",
       "      <th>2235</th>\n",
       "      <td>The Lord of the Rings: The Fellowship of the Ring</td>\n",
       "      <td>8.713684e+08</td>\n",
       "      <td>2001-12-18</td>\n",
       "    </tr>\n",
       "  </tbody>\n",
       "</table>\n",
       "</div>"
      ],
      "text/plain": [
       "                                                  title       revenue  \\\n",
       "6309                       Star Wars: The Force Awakens  2.068224e+09   \n",
       "759                                             Titanic  1.845034e+09   \n",
       "6221                                     Jurassic World  1.513529e+09   \n",
       "5103                     Transformers: Dark of the Moon  1.123747e+09   \n",
       "3789         Pirates of the Caribbean: Dead Man's Chest  1.065660e+09   \n",
       "5725                                    Despicable Me 2  9.707619e+08   \n",
       "4552             Harry Potter and the Half-Blood Prince  9.339592e+08   \n",
       "4021                                       Spider-Man 3  8.908716e+08   \n",
       "5413                         Ice Age: Continental Drift  8.772448e+08   \n",
       "2235  The Lord of the Rings: The Fellowship of the Ring  8.713684e+08   \n",
       "\n",
       "     release_date  \n",
       "6309   2015-12-15  \n",
       "759    1997-11-18  \n",
       "6221   2015-06-09  \n",
       "5103   2011-06-28  \n",
       "3789   2006-06-20  \n",
       "5725   2013-06-25  \n",
       "4552   2009-07-07  \n",
       "4021   2007-05-01  \n",
       "5413   2012-06-26  \n",
       "2235   2001-12-18  "
      ]
     },
     "execution_count": 100,
     "metadata": {},
     "output_type": "execute_result"
    }
   ],
   "source": [
    "cleaned_reves[cleaned_reves[\"release_weekday\"] == 1][[\"title\", \"revenue\", \"release_date\"]].sort_values(by = \"revenue\", ascending = False).head(10)"
   ]
  },
  {
   "cell_type": "code",
   "execution_count": 101,
   "metadata": {},
   "outputs": [
    {
     "data": {
      "image/png": "[encoded data removed]",
      "text/plain": [
       "<Figure size 720x360 with 1 Axes>"
      ]
     },
     "metadata": {},
     "output_type": "display_data"
    }
   ],
   "source": [
    "plt.subplots(figsize = (10, 5))\n",
    "plt.bar(cleaned_reves.groupby(\"release_weekday\")[\"release_weekday\"].count().index\n",
    "         ,cleaned_reves.groupby(\"release_weekday\")[\"revenue\"].count(),\n",
    "       color=\"green\",label=\"mean revenue\",\n",
    "        tick_label=[\"mon\",\"tue\",\"wed\",\"thu\",\"fri\",\"sat\",\"sun\"])\n",
    "plt.title(\"Movies Released by Weekday\");"
   ]
  },
  {
   "cell_type": "markdown",
   "metadata": {},
   "source": [
    "Movies with no release date?"
   ]
  },
  {
   "cell_type": "code",
   "execution_count": 102,
   "metadata": {},
   "outputs": [
    {
     "data": {
      "text/plain": [
       "1"
      ]
     },
     "execution_count": 102,
     "metadata": {},
     "output_type": "execute_result"
    }
   ],
   "source": [
    "cleaned_reves[\"release_date\"].isnull().sum()"
   ]
  },
  {
   "cell_type": "markdown",
   "metadata": {},
   "source": [
    "There's a movie with no date, so we will delete that row to avoid value errors from now on."
   ]
  },
  {
   "cell_type": "code",
   "execution_count": 103,
   "metadata": {},
   "outputs": [],
   "source": [
    "cleaned_reves = cleaned_reves[cleaned_reves[\"release_date\"].notnull()].reset_index(drop = True)"
   ]
  },
  {
   "cell_type": "code",
   "execution_count": 104,
   "metadata": {},
   "outputs": [],
   "source": [
    "cleaned_reves = cleaned_reves.drop([\"release_date\"], axis = 1)"
   ]
  },
  {
   "cell_type": "markdown",
   "metadata": {},
   "source": [
    "#### Runtime"
   ]
  },
  {
   "cell_type": "code",
   "execution_count": 105,
   "metadata": {},
   "outputs": [
    {
     "data": {
      "text/plain": [
       "917      84.0\n",
       "4377    131.0\n",
       "2139     95.0\n",
       "554      89.0\n",
       "2626    103.0\n",
       "Name: runtime, dtype: float64"
      ]
     },
     "execution_count": 105,
     "metadata": {},
     "output_type": "execute_result"
    }
   ],
   "source": [
    "cleaned_reves[\"runtime\"].sample(5)"
   ]
  },
  {
   "cell_type": "code",
   "execution_count": 106,
   "metadata": {},
   "outputs": [
    {
     "data": {
      "text/plain": [
       "count    7530.000000\n",
       "mean      107.746215\n",
       "std        21.447431\n",
       "min         0.000000\n",
       "25%        94.000000\n",
       "50%       104.000000\n",
       "75%       118.000000\n",
       "max       338.000000\n",
       "Name: runtime, dtype: float64"
      ]
     },
     "execution_count": 106,
     "metadata": {},
     "output_type": "execute_result"
    }
   ],
   "source": [
    "cleaned_reves[\"runtime\"].describe()"
   ]
  },
  {
   "cell_type": "markdown",
   "metadata": {},
   "source": [
    "Relation between runtime and revenue?"
   ]
  },
  {
   "cell_type": "code",
   "execution_count": 107,
   "metadata": {},
   "outputs": [
    {
     "data": {
      "image/png": "[encoded data removed]",
      "text/plain": [
       "<Figure size 720x360 with 1 Axes>"
      ]
     },
     "metadata": {},
     "output_type": "display_data"
    }
   ],
   "source": [
    "plt.figure(figsize = (10, 5))\n",
    "\n",
    "fig = plt.scatter(x = cleaned_reves[\"runtime\"], y = cleaned_reves[\"revenue\"],color=\"green\")\n",
    "\n",
    "plt.ylabel(\"Revenue\", fontsize = 13)\n",
    "plt.xlabel(\"Runtime\", fontsize = 13)\n",
    "plt.title(\"Mean Revenue submitted to Runtime\")\n",
    "plt.show()"
   ]
  },
  {
   "cell_type": "markdown",
   "metadata": {},
   "source": [
    "We see that there is not a very strong relationship between these two variables. Most movies have a runtime between 90 and 120 minutes and we see that the collection is very varied."
   ]
  },
  {
   "cell_type": "markdown",
   "metadata": {},
   "source": [
    "Movies with no runtime data or zero minutes?"
   ]
  },
  {
   "cell_type": "code",
   "execution_count": 108,
   "metadata": {},
   "outputs": [
    {
     "data": {
      "text/plain": [
       "(27, 15)"
      ]
     },
     "execution_count": 108,
     "metadata": {},
     "output_type": "execute_result"
    }
   ],
   "source": [
    "cleaned_reves[(cleaned_reves[\"runtime\"].isnull()) | (cleaned_reves[\"runtime\"] <= 0)].shape"
   ]
  },
  {
   "cell_type": "markdown",
   "metadata": {},
   "source": [
    "#### Spoken Languages"
   ]
  },
  {
   "cell_type": "code",
   "execution_count": 109,
   "metadata": {},
   "outputs": [
    {
     "data": {
      "text/plain": [
       "1085             [{'iso_639_1': 'en', 'name': 'English'}]\n",
       "385     [{'iso_639_1': 'de', 'name': 'Deutsch'}, {'iso...\n",
       "7240             [{'iso_639_1': 'en', 'name': 'English'}]\n",
       "2321    [{'iso_639_1': 'cs', 'name': 'Český'}, {'iso_6...\n",
       "5327             [{'iso_639_1': 'en', 'name': 'English'}]\n",
       "Name: spoken_languages, dtype: object"
      ]
     },
     "execution_count": 109,
     "metadata": {},
     "output_type": "execute_result"
    }
   ],
   "source": [
    "cleaned_reves[\"spoken_languages\"].sample(5)"
   ]
  },
  {
   "cell_type": "markdown",
   "metadata": {},
   "source": [
    "Almost same as before"
   ]
  },
  {
   "cell_type": "code",
   "execution_count": 110,
   "metadata": {},
   "outputs": [],
   "source": [
    "cleaned_reves[\"spoken_languages\"] = rf.to_list(cleaned_reves[\"spoken_languages\"], \"name\")"
   ]
  },
  {
   "cell_type": "code",
   "execution_count": 111,
   "metadata": {
    "scrolled": true
   },
   "outputs": [
    {
     "data": {
      "text/plain": [
       "0              [English]\n",
       "1    [English, Français]\n",
       "2              [English]\n",
       "3              [English]\n",
       "4     [English, Español]\n",
       "Name: spoken_languages, dtype: object"
      ]
     },
     "execution_count": 111,
     "metadata": {},
     "output_type": "execute_result"
    }
   ],
   "source": [
    "cleaned_reves[\"spoken_languages\"].head()"
   ]
  },
  {
   "cell_type": "code",
   "execution_count": 112,
   "metadata": {},
   "outputs": [
    {
     "data": {
      "text/plain": [
       "DescribeResult(nobs=7536, minmax=(0, 9), mean=1.4447983014861996, variance=0.7966869400687803, skewness=2.5600838309580616, kurtosis=8.898362467393637)"
      ]
     },
     "execution_count": 112,
     "metadata": {},
     "output_type": "execute_result"
    }
   ],
   "source": [
    "stats.describe(np.array(cleaned_reves[\"spoken_languages\"].str.len()))"
   ]
  },
  {
   "cell_type": "markdown",
   "metadata": {},
   "source": [
    "We have movies with no spoken languages and movies with 9. The mean per movie are 1.44."
   ]
  },
  {
   "cell_type": "code",
   "execution_count": 113,
   "metadata": {},
   "outputs": [
    {
     "data": {
      "image/png": "[encoded data removed]",
      "text/plain": [
       "<Figure size 720x360 with 1 Axes>"
      ]
     },
     "metadata": {},
     "output_type": "display_data"
    }
   ],
   "source": [
    "pd.DataFrame(\n",
    "    {\"revenue(0.1MM$)\": cleaned_reves[\"revenue\"] / 100000,\n",
    "     \"N_spoken_languages\": [len(x) for x in cleaned_reves[\"spoken_languages\"]]}\n",
    ").groupby(\"N_spoken_languages\").agg([\"count\", \"mean\"]).plot.bar(figsize = (10, 5), color = [\"red\", \"green\"])\n",
    "plt.title(\"Does the number of spoken languages affect de Revenue?\");"
   ]
  },
  {
   "cell_type": "markdown",
   "metadata": {},
   "source": [
    "We see that most of the films only have 1 spoken language and that there is not much difference with respect to the revenue."
   ]
  },
  {
   "cell_type": "markdown",
   "metadata": {},
   "source": [
    "Movies with no language info?"
   ]
  },
  {
   "cell_type": "code",
   "execution_count": 114,
   "metadata": {},
   "outputs": [
    {
     "data": {
      "text/plain": [
       "57"
      ]
     },
     "execution_count": 114,
     "metadata": {},
     "output_type": "execute_result"
    }
   ],
   "source": [
    "(cleaned_reves[\"spoken_languages\"].str.len() == 0).sum()"
   ]
  },
  {
   "cell_type": "markdown",
   "metadata": {},
   "source": [
    "As this variable is not relevant we eliminate it"
   ]
  },
  {
   "cell_type": "code",
   "execution_count": 115,
   "metadata": {},
   "outputs": [],
   "source": [
    "cleaned_reves = cleaned_reves.drop([\"spoken_languages\"], axis = 1)"
   ]
  },
  {
   "cell_type": "markdown",
   "metadata": {},
   "source": [
    "#### Title"
   ]
  },
  {
   "cell_type": "code",
   "execution_count": 116,
   "metadata": {},
   "outputs": [
    {
     "data": {
      "text/plain": [
       "4129                       Michael Clayton\n",
       "7167                        47 Meters Down\n",
       "7073                          Mother's Day\n",
       "5373                          Dark Shadows\n",
       "588     Butch Cassidy and the Sundance Kid\n",
       "Name: title, dtype: object"
      ]
     },
     "execution_count": 116,
     "metadata": {},
     "output_type": "execute_result"
    }
   ],
   "source": [
    "cleaned_reves[\"title\"].sample(5)"
   ]
  },
  {
   "cell_type": "code",
   "execution_count": 117,
   "metadata": {},
   "outputs": [
    {
     "data": {
      "text/plain": [
       "0"
      ]
     },
     "execution_count": 117,
     "metadata": {},
     "output_type": "execute_result"
    }
   ],
   "source": [
    "cleaned_reves[\"title\"].isnull().sum()"
   ]
  },
  {
   "cell_type": "markdown",
   "metadata": {},
   "source": [
    "At this point, we have discover that we have some duplicated values. Let's drop them."
   ]
  },
  {
   "cell_type": "code",
   "execution_count": 118,
   "metadata": {},
   "outputs": [
    {
     "data": {
      "text/plain": [
       "(139, 14)"
      ]
     },
     "execution_count": 118,
     "metadata": {},
     "output_type": "execute_result"
    }
   ],
   "source": [
    "cleaned_reves[cleaned_reves.duplicated(\"imdb_id\")].shape"
   ]
  },
  {
   "cell_type": "code",
   "execution_count": 119,
   "metadata": {},
   "outputs": [],
   "source": [
    "cleaned_reves = cleaned_reves.drop_duplicates(\"imdb_id\").reset_index(drop = True)"
   ]
  },
  {
   "cell_type": "markdown",
   "metadata": {},
   "source": [
    "#### Cast"
   ]
  },
  {
   "cell_type": "code",
   "execution_count": 120,
   "metadata": {},
   "outputs": [
    {
     "data": {
      "text/plain": [
       "\"[{'cast_id': 14, 'character': 'Woody (voice)', 'credit_id': '52fe4284c3a36847f8024f95', 'gender': 2, 'id': 31, 'name': 'Tom Hanks', 'order': 0, 'profile_path': '/pQFoyx7rp09CJTAb932F2g8Nlho.jpg'}, {'cast_id': 15, 'character': 'Buzz Lightyear (voice)', 'credit_id': '52fe4284c3a36847f8024f99', 'gender': 2, 'id': 12898, 'name': 'Tim Allen', 'order': 1, 'profile_path': '/uX2xVf6pMmPepxnvFWyBtjexzgY.jpg'}, {'cast_id': 16, 'character': 'Mr. Potato Head (voice)', 'credit_id': '52fe4284c3a36847f8024f9d', 'gender': 2, 'id': 7167, 'name': 'Don Rickles', 'order': 2, 'profile_path': '/h5BcaDMPRVLHLDzbQavec4xfSdt.jpg'}, {'cast_id': 17, 'character': 'Slinky Dog (voice)', 'credit_id': '52fe4284c3a36847f8024fa1', 'gender': 2, 'id': 12899, 'name': 'Jim Varney', 'order': 3, 'profile_path': '/eIo2jVVXYgjDtaHoF19Ll9vtW7h.jpg'}, {'cast_id': 18, 'character': 'Rex (voice)', 'credit_id': '52fe4284c3a36847f8024fa5', 'gender': 2, 'id': 12900, 'name': 'Wallace Shawn', 'order': 4, 'profile_path': '/oGE6JqPP2xH4tN\""
      ]
     },
     "execution_count": 120,
     "metadata": {},
     "output_type": "execute_result"
    }
   ],
   "source": [
    "cleaned_reves[\"cast\"][0][0:1000]"
   ]
  },
  {
   "cell_type": "markdown",
   "metadata": {},
   "source": [
    "As we see above we have the following keys per movie:\n",
    "\n",
    "* cast_id\n",
    "* character\n",
    "* credit_id\n",
    "* gender\n",
    "* id\n",
    "* name\n",
    "* order\n",
    "* profile_path\n",
    "\n",
    "We can also see that the information is stored in lists of dicts. As we did before with genres we are transforming it into a list and extracting only the important information. "
   ]
  },
  {
   "cell_type": "code",
   "execution_count": 121,
   "metadata": {},
   "outputs": [],
   "source": [
    "cleaned_reves[\"cast_names\"] = rf.to_list(cleaned_reves[\"cast\"], \"name\")\n",
    "cleaned_reves[\"cast_gender\"] = rf.to_list(cleaned_reves[\"cast\"], \"gender\")\n",
    "cleaned_reves[\"cast_order\"] = rf.to_list(cleaned_reves[\"cast\"], \"order\")\n",
    "cleaned_reves = cleaned_reves.reset_index(drop = True)"
   ]
  },
  {
   "cell_type": "code",
   "execution_count": 122,
   "metadata": {},
   "outputs": [
    {
     "data": {
      "text/html": [
       "<div>\n",
       "<style scoped>\n",
       "    .dataframe tbody tr th:only-of-type {\n",
       "        vertical-align: middle;\n",
       "    }\n",
       "\n",
       "    .dataframe tbody tr th {\n",
       "        vertical-align: top;\n",
       "    }\n",
       "\n",
       "    .dataframe thead th {\n",
       "        text-align: right;\n",
       "    }\n",
       "</style>\n",
       "<table border=\"1\" class=\"dataframe\">\n",
       "  <thead>\n",
       "    <tr style=\"text-align: right;\">\n",
       "      <th></th>\n",
       "      <th>belongs_to_collection</th>\n",
       "      <th>genres</th>\n",
       "      <th>imdb_id</th>\n",
       "      <th>original_language</th>\n",
       "      <th>production_companies</th>\n",
       "      <th>revenue</th>\n",
       "      <th>runtime</th>\n",
       "      <th>title</th>\n",
       "      <th>cast</th>\n",
       "      <th>crew</th>\n",
       "      <th>keywords</th>\n",
       "      <th>release_year</th>\n",
       "      <th>release_month</th>\n",
       "      <th>release_weekday</th>\n",
       "      <th>cast_names</th>\n",
       "      <th>cast_gender</th>\n",
       "      <th>cast_order</th>\n",
       "    </tr>\n",
       "  </thead>\n",
       "  <tbody>\n",
       "    <tr>\n",
       "      <th>0</th>\n",
       "      <td>Toy Story Collection</td>\n",
       "      <td>[Animation, Comedy, Family]</td>\n",
       "      <td>tt0114709</td>\n",
       "      <td>en</td>\n",
       "      <td>[Pixar Animation Studios]</td>\n",
       "      <td>373554033.0</td>\n",
       "      <td>81.0</td>\n",
       "      <td>Toy Story</td>\n",
       "      <td>[{'cast_id': 14, 'character': 'Woody (voice)',...</td>\n",
       "      <td>[{'credit_id': '52fe4284c3a36847f8024f49', 'de...</td>\n",
       "      <td>[{'id': 931, 'name': 'jealousy'}, {'id': 4290,...</td>\n",
       "      <td>1995.0</td>\n",
       "      <td>10.0</td>\n",
       "      <td>0.0</td>\n",
       "      <td>[Tom Hanks, Tim Allen, Don Rickles, Jim Varney...</td>\n",
       "      <td>[2, 2, 2, 2, 2, 2, 1, 0, 2, 1, 2, 1, 2]</td>\n",
       "      <td>[0, 1, 2, 3, 4, 5, 6, 7, 8, 9, 10, 11, 12]</td>\n",
       "    </tr>\n",
       "    <tr>\n",
       "      <th>1</th>\n",
       "      <td>NaN</td>\n",
       "      <td>[Adventure, Fantasy, Family]</td>\n",
       "      <td>tt0113497</td>\n",
       "      <td>en</td>\n",
       "      <td>[TriStar Pictures, Teitler Film, Interscope Co...</td>\n",
       "      <td>262797249.0</td>\n",
       "      <td>104.0</td>\n",
       "      <td>Jumanji</td>\n",
       "      <td>[{'cast_id': 1, 'character': 'Alan Parrish', '...</td>\n",
       "      <td>[{'credit_id': '52fe44bfc3a36847f80a7cd1', 'de...</td>\n",
       "      <td>[{'id': 10090, 'name': 'board game'}, {'id': 1...</td>\n",
       "      <td>1995.0</td>\n",
       "      <td>12.0</td>\n",
       "      <td>4.0</td>\n",
       "      <td>[Robin Williams, Jonathan Hyde, Kirsten Dunst,...</td>\n",
       "      <td>[2, 2, 1, 0, 1, 1, 2, 1, 0, 1, 2, 1, 2, 0, 0, ...</td>\n",
       "      <td>[0, 1, 2, 3, 4, 5, 6, 7, 8, 9, 10, 11, 12, 13,...</td>\n",
       "    </tr>\n",
       "    <tr>\n",
       "      <th>2</th>\n",
       "      <td>NaN</td>\n",
       "      <td>[Comedy, Drama, Romance]</td>\n",
       "      <td>tt0114885</td>\n",
       "      <td>en</td>\n",
       "      <td>[Twentieth Century Fox Film Corporation]</td>\n",
       "      <td>81452156.0</td>\n",
       "      <td>127.0</td>\n",
       "      <td>Waiting to Exhale</td>\n",
       "      <td>[{'cast_id': 1, 'character': \"Savannah 'Vannah...</td>\n",
       "      <td>[{'credit_id': '52fe44779251416c91011acb', 'de...</td>\n",
       "      <td>[{'id': 818, 'name': 'based on novel'}, {'id':...</td>\n",
       "      <td>1995.0</td>\n",
       "      <td>12.0</td>\n",
       "      <td>4.0</td>\n",
       "      <td>[Whitney Houston, Angela Bassett, Loretta Devi...</td>\n",
       "      <td>[1, 1, 1, 1, 2, 2, 2, 2, 2, 2]</td>\n",
       "      <td>[0, 1, 2, 3, 4, 5, 6, 7, 8, 9]</td>\n",
       "    </tr>\n",
       "  </tbody>\n",
       "</table>\n",
       "</div>"
      ],
      "text/plain": [
       "  belongs_to_collection                        genres    imdb_id  \\\n",
       "0  Toy Story Collection   [Animation, Comedy, Family]  tt0114709   \n",
       "1                   NaN  [Adventure, Fantasy, Family]  tt0113497   \n",
       "2                   NaN      [Comedy, Drama, Romance]  tt0114885   \n",
       "\n",
       "  original_language                               production_companies  \\\n",
       "0                en                          [Pixar Animation Studios]   \n",
       "1                en  [TriStar Pictures, Teitler Film, Interscope Co...   \n",
       "2                en           [Twentieth Century Fox Film Corporation]   \n",
       "\n",
       "       revenue  runtime              title  \\\n",
       "0  373554033.0     81.0          Toy Story   \n",
       "1  262797249.0    104.0            Jumanji   \n",
       "2   81452156.0    127.0  Waiting to Exhale   \n",
       "\n",
       "                                                cast  \\\n",
       "0  [{'cast_id': 14, 'character': 'Woody (voice)',...   \n",
       "1  [{'cast_id': 1, 'character': 'Alan Parrish', '...   \n",
       "2  [{'cast_id': 1, 'character': \"Savannah 'Vannah...   \n",
       "\n",
       "                                                crew  \\\n",
       "0  [{'credit_id': '52fe4284c3a36847f8024f49', 'de...   \n",
       "1  [{'credit_id': '52fe44bfc3a36847f80a7cd1', 'de...   \n",
       "2  [{'credit_id': '52fe44779251416c91011acb', 'de...   \n",
       "\n",
       "                                            keywords  release_year  \\\n",
       "0  [{'id': 931, 'name': 'jealousy'}, {'id': 4290,...        1995.0   \n",
       "1  [{'id': 10090, 'name': 'board game'}, {'id': 1...        1995.0   \n",
       "2  [{'id': 818, 'name': 'based on novel'}, {'id':...        1995.0   \n",
       "\n",
       "   release_month  release_weekday  \\\n",
       "0           10.0              0.0   \n",
       "1           12.0              4.0   \n",
       "2           12.0              4.0   \n",
       "\n",
       "                                          cast_names  \\\n",
       "0  [Tom Hanks, Tim Allen, Don Rickles, Jim Varney...   \n",
       "1  [Robin Williams, Jonathan Hyde, Kirsten Dunst,...   \n",
       "2  [Whitney Houston, Angela Bassett, Loretta Devi...   \n",
       "\n",
       "                                         cast_gender  \\\n",
       "0            [2, 2, 2, 2, 2, 2, 1, 0, 2, 1, 2, 1, 2]   \n",
       "1  [2, 2, 1, 0, 1, 1, 2, 1, 0, 1, 2, 1, 2, 0, 0, ...   \n",
       "2                     [1, 1, 1, 1, 2, 2, 2, 2, 2, 2]   \n",
       "\n",
       "                                          cast_order  \n",
       "0         [0, 1, 2, 3, 4, 5, 6, 7, 8, 9, 10, 11, 12]  \n",
       "1  [0, 1, 2, 3, 4, 5, 6, 7, 8, 9, 10, 11, 12, 13,...  \n",
       "2                     [0, 1, 2, 3, 4, 5, 6, 7, 8, 9]  "
      ]
     },
     "execution_count": 122,
     "metadata": {},
     "output_type": "execute_result"
    }
   ],
   "source": [
    "cleaned_reves.head(3)"
   ]
  },
  {
   "cell_type": "markdown",
   "metadata": {},
   "source": [
    "Let's see if the number of the cast affects to the revenue."
   ]
  },
  {
   "cell_type": "code",
   "execution_count": 123,
   "metadata": {},
   "outputs": [
    {
     "data": {
      "image/png": "[encoded data removed]",
      "text/plain": [
       "<Figure size 720x360 with 1 Axes>"
      ]
     },
     "metadata": {},
     "output_type": "display_data"
    }
   ],
   "source": [
    "plt.figure(figsize = (10, 5))\n",
    "\n",
    "fig = plt.scatter(x = cleaned_reves[\"cast_names\"].str.len(), y = cleaned_reves[\"revenue\"]/1e6, color=\"green\")\n",
    "\n",
    "plt.ylabel(\"Revenue (MM$)\", fontsize = 13)\n",
    "plt.xlabel(\"Nº Cast\", fontsize = 13)\n",
    "plt.title(\"Mean Revenue submitted Lenght of Cast\")\n",
    "\n",
    "plt.show()"
   ]
  },
  {
   "cell_type": "markdown",
   "metadata": {},
   "source": [
    "The films that collect more than $ 1000 million do not have a relationship in terms of the amount of the cast. For films with lower revenue we see that it increases until reaching a cast of approximately 40 actors, and from that value, we see that the revenue tends to decrease."
   ]
  },
  {
   "cell_type": "markdown",
   "metadata": {},
   "source": [
    "Next question: Does the actor's/actresse's genre influence the revenue? Let's look at the average revenue.\n",
    "    - 2: Male\n",
    "    - 1: Female"
   ]
  },
  {
   "cell_type": "code",
   "execution_count": 124,
   "metadata": {},
   "outputs": [
    {
     "data": {
      "text/plain": [
       "0              [2, 2, 2, 2, 2, 2, 1, 0, 2, 1, 2, 1, 2]\n",
       "1    [2, 2, 1, 0, 1, 1, 2, 1, 0, 1, 2, 1, 2, 0, 0, ...\n",
       "2                       [1, 1, 1, 1, 2, 2, 2, 2, 2, 2]\n",
       "3                 [2, 1, 2, 1, 2, 0, 2, 2, 1, 1, 2, 1]\n",
       "4    [2, 2, 2, 2, 2, 1, 1, 1, 2, 1, 2, 2, 2, 2, 2, ...\n",
       "Name: cast_gender, dtype: object"
      ]
     },
     "execution_count": 124,
     "metadata": {},
     "output_type": "execute_result"
    }
   ],
   "source": [
    "cleaned_reves[\"cast_gender\"].head()"
   ]
  },
  {
   "cell_type": "code",
   "execution_count": 125,
   "metadata": {},
   "outputs": [
    {
     "name": "stderr",
     "output_type": "stream",
     "text": [
      "C:\\Users\\Elsa\\Anaconda3\\lib\\site-packages\\ipykernel_launcher.py:6: FutureWarning: get_value is deprecated and will be removed in a future release. Please use .at[] or .iat[] accessors instead\n",
      "  \n",
      "C:\\Users\\Elsa\\Anaconda3\\lib\\site-packages\\ipykernel_launcher.py:8: FutureWarning: get_value is deprecated and will be removed in a future release. Please use .at[] or .iat[] accessors instead\n",
      "  \n"
     ]
    }
   ],
   "source": [
    "male_revenue = []\n",
    "female_revenue = []\n",
    "for index, gender_list in enumerate(cleaned_reves[\"cast_gender\"]):\n",
    "    for gender in gender_list:\n",
    "        if gender == 2:\n",
    "            male_revenue.append(cleaned_reves.get_value(index, \"revenue\"))\n",
    "        elif gender == 1:\n",
    "            female_revenue.append(cleaned_reves.get_value(index, \"revenue\"))"
   ]
  },
  {
   "cell_type": "code",
   "execution_count": 126,
   "metadata": {},
   "outputs": [
    {
     "name": "stdout",
     "output_type": "stream",
     "text": [
      "There are 69899 actors\n",
      "There are 34528 actresses\n"
     ]
    }
   ],
   "source": [
    "print(\"There are %d actors\" %(len(male_revenue)))\n",
    "print(\"There are %d actresses\" %(len(female_revenue)))"
   ]
  },
  {
   "cell_type": "code",
   "execution_count": 127,
   "metadata": {},
   "outputs": [
    {
     "data": {
      "image/png": "[encoded data removed]",
      "text/plain": [
       "<Figure size 720x360 with 1 Axes>"
      ]
     },
     "metadata": {},
     "output_type": "display_data"
    }
   ],
   "source": [
    "plt.figure(figsize = (10, 5))\n",
    "plt.bar([\"male\", \"female\"], [np.mean(male_revenue)/1e6, np.mean(female_revenue)/1e6], color = \"green\")\n",
    "plt.ylabel(\"Mean Revenue (MM$)\", fontsize = 13)\n",
    "plt.xlabel(\"Cast gender\", fontsize = 13)\n",
    "plt.title(\"Mean Revenue submitted to Cast Gender (All orders)\")\n",
    "plt.show()"
   ]
  },
  {
   "cell_type": "markdown",
   "metadata": {},
   "source": [
    "We see that the actors have on average a little more revenue than the actresses, but the value is very similar. Where there is a lot of difference is that there are more than double actors than actresses."
   ]
  },
  {
   "cell_type": "markdown",
   "metadata": {},
   "source": [
    "Does the order influence? Let's see these same results for the 4 main roles of a movie. But first let's check if the cast order column is indeed in order."
   ]
  },
  {
   "cell_type": "code",
   "execution_count": 128,
   "metadata": {},
   "outputs": [
    {
     "name": "stdout",
     "output_type": "stream",
     "text": [
      "True\n",
      "False\n",
      "True\n"
     ]
    }
   ],
   "source": [
    "print(rf.is_ordered([0, 1, 2, 3, 4, 5, 6]))\n",
    "print(rf.is_ordered([0, 1, 6, 3, 4, 5, 6]))\n",
    "print(rf.is_ordered([0, 0, 0, 1, 5, 6]))"
   ]
  },
  {
   "cell_type": "code",
   "execution_count": 129,
   "metadata": {},
   "outputs": [
    {
     "data": {
      "text/html": [
       "<div>\n",
       "<style scoped>\n",
       "    .dataframe tbody tr th:only-of-type {\n",
       "        vertical-align: middle;\n",
       "    }\n",
       "\n",
       "    .dataframe tbody tr th {\n",
       "        vertical-align: top;\n",
       "    }\n",
       "\n",
       "    .dataframe thead th {\n",
       "        text-align: right;\n",
       "    }\n",
       "</style>\n",
       "<table border=\"1\" class=\"dataframe\">\n",
       "  <thead>\n",
       "    <tr style=\"text-align: right;\">\n",
       "      <th></th>\n",
       "      <th>belongs_to_collection</th>\n",
       "      <th>genres</th>\n",
       "      <th>imdb_id</th>\n",
       "      <th>original_language</th>\n",
       "      <th>production_companies</th>\n",
       "      <th>revenue</th>\n",
       "      <th>runtime</th>\n",
       "      <th>title</th>\n",
       "      <th>cast</th>\n",
       "      <th>crew</th>\n",
       "      <th>keywords</th>\n",
       "      <th>release_year</th>\n",
       "      <th>release_month</th>\n",
       "      <th>release_weekday</th>\n",
       "      <th>cast_names</th>\n",
       "      <th>cast_gender</th>\n",
       "      <th>cast_order</th>\n",
       "    </tr>\n",
       "  </thead>\n",
       "  <tbody>\n",
       "  </tbody>\n",
       "</table>\n",
       "</div>"
      ],
      "text/plain": [
       "Empty DataFrame\n",
       "Columns: [belongs_to_collection, genres, imdb_id, original_language, production_companies, revenue, runtime, title, cast, crew, keywords, release_year, release_month, release_weekday, cast_names, cast_gender, cast_order]\n",
       "Index: []"
      ]
     },
     "execution_count": 129,
     "metadata": {},
     "output_type": "execute_result"
    }
   ],
   "source": [
    "cleaned_reves[cleaned_reves[\"cast_order\"].apply(rf.is_ordered) == False]"
   ]
  },
  {
   "cell_type": "markdown",
   "metadata": {},
   "source": [
    "Cast values are in order, so let's calculate."
   ]
  },
  {
   "cell_type": "code",
   "execution_count": 130,
   "metadata": {},
   "outputs": [
    {
     "name": "stderr",
     "output_type": "stream",
     "text": [
      "C:\\Users\\Elsa\\Anaconda3\\lib\\site-packages\\ipykernel_launcher.py:6: FutureWarning: get_value is deprecated and will be removed in a future release. Please use .at[] or .iat[] accessors instead\n",
      "  \n",
      "C:\\Users\\Elsa\\Anaconda3\\lib\\site-packages\\ipykernel_launcher.py:8: FutureWarning: get_value is deprecated and will be removed in a future release. Please use .at[] or .iat[] accessors instead\n",
      "  \n"
     ]
    }
   ],
   "source": [
    "male_revenue = []\n",
    "female_revenue = []\n",
    "for index, gender_list in enumerate(cleaned_reves[\"cast_gender\"]):\n",
    "    for gender in gender_list[:3]:\n",
    "        if gender == 2:\n",
    "            male_revenue.append(cleaned_reves.get_value(index, \"revenue\"))\n",
    "        elif gender == 1:\n",
    "            female_revenue.append(cleaned_reves.get_value(index, \"revenue\"))"
   ]
  },
  {
   "cell_type": "code",
   "execution_count": 131,
   "metadata": {},
   "outputs": [
    {
     "name": "stdout",
     "output_type": "stream",
     "text": [
      "There are 12818 actors\n",
      "There are 6943 actresses\n"
     ]
    }
   ],
   "source": [
    "print(\"There are %d actors\" %(len(male_revenue)))\n",
    "print(\"There are %d actresses\" %(len(female_revenue)))"
   ]
  },
  {
   "cell_type": "code",
   "execution_count": 132,
   "metadata": {},
   "outputs": [
    {
     "data": {
      "image/png": "[encoded data removed]",
      "text/plain": [
       "<Figure size 720x360 with 1 Axes>"
      ]
     },
     "metadata": {},
     "output_type": "display_data"
    }
   ],
   "source": [
    "plt.figure(figsize = (10, 5))\n",
    "plt.bar([\"male\", \"female\"], [np.mean(male_revenue)/1e6, np.mean(female_revenue)/1e6],color=\"green\")\n",
    "plt.ylabel(\"Mean Revenue (MM$)\", fontsize = 13)\n",
    "plt.xlabel(\"Cast gender\", fontsize = 13)\n",
    "plt.title(\"Mean Revenue submitted to Cast Gender (First 4 Roles)\")\n",
    "plt.show()"
   ]
  },
  {
   "cell_type": "markdown",
   "metadata": {},
   "source": [
    "We see that there is not much difference in terms of gender if we take the 4 main protagonists versus if we took the full cast."
   ]
  },
  {
   "cell_type": "markdown",
   "metadata": {},
   "source": [
    "What if we only take into account the main character?"
   ]
  },
  {
   "cell_type": "code",
   "execution_count": 133,
   "metadata": {},
   "outputs": [
    {
     "name": "stderr",
     "output_type": "stream",
     "text": [
      "C:\\Users\\Elsa\\Anaconda3\\lib\\site-packages\\ipykernel_launcher.py:6: FutureWarning: get_value is deprecated and will be removed in a future release. Please use .at[] or .iat[] accessors instead\n",
      "  \n",
      "C:\\Users\\Elsa\\Anaconda3\\lib\\site-packages\\ipykernel_launcher.py:8: FutureWarning: get_value is deprecated and will be removed in a future release. Please use .at[] or .iat[] accessors instead\n",
      "  \n"
     ]
    }
   ],
   "source": [
    "male_revenue = []\n",
    "female_revenue = []\n",
    "for index, gender_list in enumerate(cleaned_reves[\"cast_gender\"]):\n",
    "    for gender in gender_list[:1]:\n",
    "        if gender == 2:\n",
    "            male_revenue.append(cleaned_reves.get_value(index, \"revenue\"))\n",
    "        elif gender == 1:\n",
    "            female_revenue.append(cleaned_reves.get_value(index, \"revenue\"))"
   ]
  },
  {
   "cell_type": "code",
   "execution_count": 134,
   "metadata": {
    "scrolled": true
   },
   "outputs": [
    {
     "name": "stdout",
     "output_type": "stream",
     "text": [
      "There are 5070 actors\n",
      "There are 1713 actresses\n"
     ]
    }
   ],
   "source": [
    "print(\"There are %d actors\" %(len(male_revenue)))\n",
    "print(\"There are %d actresses\" %(len(female_revenue)))"
   ]
  },
  {
   "cell_type": "code",
   "execution_count": 135,
   "metadata": {},
   "outputs": [
    {
     "data": {
      "image/png": "[encoded data removed]",
      "text/plain": [
       "<Figure size 720x360 with 1 Axes>"
      ]
     },
     "metadata": {},
     "output_type": "display_data"
    }
   ],
   "source": [
    "plt.figure(figsize = (10, 5))\n",
    "plt.bar([\"male\", \"female\"], [np.mean(male_revenue)/1e6, np.mean(female_revenue)/1e6], color = \"green\")\n",
    "plt.ylabel(\"Mean Revenue (MM$)\", fontsize = 13)\n",
    "plt.xlabel(\"Cast gender\", fontsize = 13)\n",
    "plt.title(\"Mean Revenue submitted to Cast Gender (Main Role)\")\n",
    "plt.show()"
   ]
  },
  {
   "cell_type": "markdown",
   "metadata": {},
   "source": [
    "Now we see a little more difference. From the outset, there are three times more films with male protagonists than female protagonists. And in addition, the films whose protagonist is a man have an average revenue $ 30 million more than the films starring women."
   ]
  },
  {
   "cell_type": "markdown",
   "metadata": {},
   "source": [
    "Who are the actors / actresses with the highest average revenue?"
   ]
  },
  {
   "cell_type": "code",
   "execution_count": 136,
   "metadata": {},
   "outputs": [],
   "source": [
    "cast_counter = rf.word_count(cleaned_reves, \"cast_names\")\n",
    "cast_list = np.array(list(cast_counter.keys()))\n",
    "cast_list_count = np.array(list(cast_counter.values()))"
   ]
  },
  {
   "cell_type": "code",
   "execution_count": 137,
   "metadata": {},
   "outputs": [
    {
     "name": "stderr",
     "output_type": "stream",
     "text": [
      "C:\\Users\\Elsa\\Anaconda3\\lib\\site-packages\\ipykernel_launcher.py:5: FutureWarning: get_value is deprecated and will be removed in a future release. Please use .at[] or .iat[] accessors instead\n",
      "  \"\"\"\n",
      "C:\\Users\\Elsa\\Anaconda3\\lib\\site-packages\\ipykernel_launcher.py:7: FutureWarning: get_value is deprecated and will be removed in a future release. Please use .at[] or .iat[] accessors instead\n",
      "  import sys\n"
     ]
    }
   ],
   "source": [
    "cast_dict_revenue = {}\n",
    "for index, artists_list in enumerate(cleaned_reves[\"cast_names\"]):\n",
    "    for artist in artists_list:\n",
    "        if artist not in cast_dict_revenue:\n",
    "            cast_dict_revenue[artist] = cleaned_reves.get_value(index, \"revenue\")\n",
    "        else:\n",
    "            cast_dict_revenue[artist] = cast_dict_revenue[artist] + cleaned_reves.get_value(index, \"revenue\")   "
   ]
  },
  {
   "cell_type": "code",
   "execution_count": 138,
   "metadata": {},
   "outputs": [],
   "source": [
    "cast_list_revenue = np.array(list(cast_dict_revenue.values()))"
   ]
  },
  {
   "cell_type": "code",
   "execution_count": 139,
   "metadata": {},
   "outputs": [],
   "source": [
    "cleaned_reves_cast = pd.DataFrame(\n",
    "    {\"Name\": cast_list,\n",
    "     \"N_Movies\": cast_list_count,\n",
    "     \"Revenue\": cast_list_revenue / 1e6,\n",
    "     \"Average_Revenue\": (cast_list_revenue / cast_list_count) / 1e6}\n",
    ")"
   ]
  },
  {
   "cell_type": "code",
   "execution_count": 140,
   "metadata": {},
   "outputs": [
    {
     "data": {
      "text/html": [
       "<div>\n",
       "<style scoped>\n",
       "    .dataframe tbody tr th:only-of-type {\n",
       "        vertical-align: middle;\n",
       "    }\n",
       "\n",
       "    .dataframe tbody tr th {\n",
       "        vertical-align: top;\n",
       "    }\n",
       "\n",
       "    .dataframe thead th {\n",
       "        text-align: right;\n",
       "    }\n",
       "</style>\n",
       "<table border=\"1\" class=\"dataframe\">\n",
       "  <thead>\n",
       "    <tr style=\"text-align: right;\">\n",
       "      <th></th>\n",
       "      <th>Name</th>\n",
       "      <th>N_Movies</th>\n",
       "      <th>Revenue</th>\n",
       "      <th>Average_Revenue</th>\n",
       "    </tr>\n",
       "  </thead>\n",
       "  <tbody>\n",
       "    <tr>\n",
       "      <th>0</th>\n",
       "      <td>Tom Hanks</td>\n",
       "      <td>45</td>\n",
       "      <td>9936.142170</td>\n",
       "      <td>220.803159</td>\n",
       "    </tr>\n",
       "    <tr>\n",
       "      <th>1</th>\n",
       "      <td>Tim Allen</td>\n",
       "      <td>14</td>\n",
       "      <td>3305.184195</td>\n",
       "      <td>236.084585</td>\n",
       "    </tr>\n",
       "    <tr>\n",
       "      <th>2</th>\n",
       "      <td>Don Rickles</td>\n",
       "      <td>6</td>\n",
       "      <td>2097.375480</td>\n",
       "      <td>349.562580</td>\n",
       "    </tr>\n",
       "    <tr>\n",
       "      <th>3</th>\n",
       "      <td>Jim Varney</td>\n",
       "      <td>5</td>\n",
       "      <td>1108.686118</td>\n",
       "      <td>221.737224</td>\n",
       "    </tr>\n",
       "    <tr>\n",
       "      <th>4</th>\n",
       "      <td>Wallace Shawn</td>\n",
       "      <td>29</td>\n",
       "      <td>4114.695039</td>\n",
       "      <td>141.886036</td>\n",
       "    </tr>\n",
       "  </tbody>\n",
       "</table>\n",
       "</div>"
      ],
      "text/plain": [
       "            Name  N_Movies      Revenue  Average_Revenue\n",
       "0      Tom Hanks        45  9936.142170       220.803159\n",
       "1      Tim Allen        14  3305.184195       236.084585\n",
       "2    Don Rickles         6  2097.375480       349.562580\n",
       "3     Jim Varney         5  1108.686118       221.737224\n",
       "4  Wallace Shawn        29  4114.695039       141.886036"
      ]
     },
     "execution_count": 140,
     "metadata": {},
     "output_type": "execute_result"
    }
   ],
   "source": [
    "cleaned_reves_cast.head()"
   ]
  },
  {
   "cell_type": "code",
   "execution_count": 141,
   "metadata": {},
   "outputs": [
    {
     "data": {
      "image/png": "[encoded data removed]",
      "text/plain": [
       "<Figure size 720x360 with 1 Axes>"
      ]
     },
     "metadata": {},
     "output_type": "display_data"
    }
   ],
   "source": [
    "plt.subplots(figsize = (10, 5))\n",
    "\n",
    "ax = cleaned_reves_cast.set_index(\"Name\")[\"N_Movies\"].sort_values(ascending = True)[-10:].plot.barh(color=\"green\")\n",
    "ax.set_xlabel(\"Nº of movies\")\n",
    "ax.set_title(\"Top Cast Frequency\") \n",
    "\n",
    "plt.show()"
   ]
  },
  {
   "cell_type": "code",
   "execution_count": 142,
   "metadata": {},
   "outputs": [
    {
     "data": {
      "image/png": "[encoded data removed]",
      "text/plain": [
       "<Figure size 720x360 with 1 Axes>"
      ]
     },
     "metadata": {},
     "output_type": "display_data"
    }
   ],
   "source": [
    "plt.subplots(figsize = (10, 5))\n",
    "\n",
    "ax = (cleaned_reves_cast.set_index(\"Name\")[\"Revenue\"]).sort_values(ascending = True)[-10:].plot.barh(color=\"green\")\n",
    "ax.set_xlabel(\"Revenue(MM$)\")\n",
    "ax.set_title(\"Cast Highest Revenue\") \n",
    "\n",
    "plt.show()"
   ]
  },
  {
   "cell_type": "code",
   "execution_count": 143,
   "metadata": {},
   "outputs": [
    {
     "data": {
      "image/png": "[encoded data removed]",
      "text/plain": [
       "<Figure size 720x360 with 1 Axes>"
      ]
     },
     "metadata": {},
     "output_type": "display_data"
    }
   ],
   "source": [
    "plt.subplots(figsize = (10, 5))\n",
    "\n",
    "ax = (cleaned_reves_cast[cleaned_reves_cast[\"N_Movies\"] > 15].set_index(\"Name\")[\"Average_Revenue\"]).sort_values(ascending = True)[-10:].plot.barh(color=\"green\")\n",
    "ax.set_xlabel(\"Revenue(MM$)\")\n",
    "ax.set_title(\"Cast Highest Average Revenue (More than 15 movies)\") \n",
    "\n",
    "plt.show()"
   ]
  },
  {
   "cell_type": "markdown",
   "metadata": {},
   "source": [
    "Let's see the same plots but only taking into account the 4 main protagonist of the movie"
   ]
  },
  {
   "cell_type": "code",
   "execution_count": 144,
   "metadata": {},
   "outputs": [
    {
     "name": "stderr",
     "output_type": "stream",
     "text": [
      "C:\\Users\\Elsa\\Anaconda3\\lib\\site-packages\\ipykernel_launcher.py:9: FutureWarning: get_value is deprecated and will be removed in a future release. Please use .at[] or .iat[] accessors instead\n",
      "  if __name__ == '__main__':\n",
      "C:\\Users\\Elsa\\Anaconda3\\lib\\site-packages\\ipykernel_launcher.py:11: FutureWarning: get_value is deprecated and will be removed in a future release. Please use .at[] or .iat[] accessors instead\n",
      "  # This is added back by InteractiveShellApp.init_path()\n"
     ]
    }
   ],
   "source": [
    "cast_counter = rf.word_count(cleaned_reves, \"cast_names\", n = 4)\n",
    "cast_list = np.array(list(cast_counter.keys()))\n",
    "cast_list_count = np.array(list(cast_counter.values()))\n",
    "\n",
    "cast_dict_revenue = {}\n",
    "for index, artists_list in enumerate(cleaned_reves[\"cast_names\"]):\n",
    "    for artist in artists_list[:4]:\n",
    "        if artist not in cast_dict_revenue:\n",
    "            cast_dict_revenue[artist] = cleaned_reves.get_value(index, \"revenue\")\n",
    "        else:\n",
    "            cast_dict_revenue[artist] = cast_dict_revenue[artist] + cleaned_reves.get_value(index, \"revenue\")\n",
    "\n",
    "cast_list_revenue = np.array(list(cast_dict_revenue.values()))\n",
    "\n",
    "cleaned_reves_cast_main = pd.DataFrame(\n",
    "    {\"Name\": cast_list,\n",
    "     \"N_Movies\": cast_list_count,\n",
    "     \"Revenue\": cast_list_revenue / 1e6,\n",
    "     \"Average_Revenue\": (cast_list_revenue / cast_list_count) / 1e6}\n",
    ")"
   ]
  },
  {
   "cell_type": "code",
   "execution_count": 145,
   "metadata": {},
   "outputs": [
    {
     "data": {
      "image/png": "[encoded data removed]",
      "text/plain": [
       "<Figure size 720x360 with 1 Axes>"
      ]
     },
     "metadata": {},
     "output_type": "display_data"
    }
   ],
   "source": [
    "plt.subplots(figsize = (10, 5))\n",
    "\n",
    "ax = cleaned_reves_cast_main.set_index(\"Name\")[\"N_Movies\"].sort_values(ascending = True)[-10:].plot.barh(color=\"green\")\n",
    "ax.set_xlabel(\"Nº of movies\")\n",
    "ax.set_title(\"Cast Frequency\") \n",
    "\n",
    "plt.show()"
   ]
  },
  {
   "cell_type": "code",
   "execution_count": 146,
   "metadata": {},
   "outputs": [
    {
     "data": {
      "image/png": "[encoded data removed]",
      "text/plain": [
       "<Figure size 720x360 with 1 Axes>"
      ]
     },
     "metadata": {},
     "output_type": "display_data"
    }
   ],
   "source": [
    "plt.subplots(figsize = (10, 5))\n",
    "\n",
    "ax = (cleaned_reves_cast_main.set_index(\"Name\")[\"Revenue\"]).sort_values(ascending = True)[-10:].plot.barh(color=\"green\")\n",
    "ax.set_xlabel(\"Revenue(MM$)\")\n",
    "ax.set_title(\"Cast Highest Revenue\") \n",
    "\n",
    "plt.show()"
   ]
  },
  {
   "cell_type": "code",
   "execution_count": 147,
   "metadata": {},
   "outputs": [
    {
     "data": {
      "image/png": "[encoded data removed]",
      "text/plain": [
       "<Figure size 720x360 with 1 Axes>"
      ]
     },
     "metadata": {},
     "output_type": "display_data"
    }
   ],
   "source": [
    "plt.subplots(figsize = (10, 5))\n",
    "\n",
    "ax = (cleaned_reves_cast_main[cleaned_reves_cast_main[\"N_Movies\"] > 15].set_index(\"Name\")[\"Average_Revenue\"]).sort_values(ascending = True)[-10:].plot.barh(color=\"green\")\n",
    "ax.set_xlabel(\"Revenue(MM$)\")\n",
    "ax.set_title(\"Cast Highest Average Revenue (More than 15 movies)\") \n",
    "\n",
    "plt.show()"
   ]
  },
  {
   "cell_type": "markdown",
   "metadata": {},
   "source": [
    "We see that the plots are different, so clearly the order of the actors in a film is related to the revenue. It is not the same to have certain actors among the 4 main roles.\n",
    "\n",
    "We also see that most of these actors with the highest average revenue are actors that belong to a franchise (for example: Harry Potter, The Fast and the Furious, Marvel).\n",
    "\n",
    "In order to build our model, we have seen that it can be useful to take into account:\n",
    "* The length of the cast.\n",
    "* Number of men and women in the cast.\n",
    "* Who are the 4 main actors."
   ]
  },
  {
   "cell_type": "code",
   "execution_count": 148,
   "metadata": {},
   "outputs": [
    {
     "data": {
      "text/plain": [
       "(0, 17)"
      ]
     },
     "execution_count": 148,
     "metadata": {},
     "output_type": "execute_result"
    }
   ],
   "source": [
    "cleaned_reves[cleaned_reves[\"cast\"].str.len() == 0].shape"
   ]
  },
  {
   "cell_type": "code",
   "execution_count": 149,
   "metadata": {},
   "outputs": [],
   "source": [
    "cleaned_reves = cleaned_reves.drop([\"cast\"], axis = 1)"
   ]
  },
  {
   "cell_type": "code",
   "execution_count": 150,
   "metadata": {},
   "outputs": [],
   "source": [
    "cleaned_reves = cleaned_reves.drop([\"cast_order\"], axis = 1)"
   ]
  },
  {
   "cell_type": "markdown",
   "metadata": {},
   "source": [
    "#### Crew"
   ]
  },
  {
   "cell_type": "code",
   "execution_count": 151,
   "metadata": {},
   "outputs": [
    {
     "data": {
      "text/plain": [
       "\"[{'credit_id': '52fe4284c3a36847f8024f49', 'department': 'Directing', 'gender': 2, 'id': 7879, 'job': 'Director', 'name': 'John Lasseter', 'profile_path': '/7EdqiNbr4FRjIhKHyPPdFfEEEFG.jpg'}, {'credit_id': '52fe4284c3a36847f8024f4f', 'department': 'Writing', 'gender': 2, 'id': 12891, 'job': 'Screenplay', 'name': 'Joss Whedon', 'profile_path': '/dTiVsuaTVTeGmvkhcyJvKp2A5kr.jpg'}, {'credit_id': '52fe4284c3a36847f8024f55', 'department': 'Writing', 'gender': 2, 'id': 7, 'job': 'Screenplay', 'name': 'Andrew Stanton', 'profile_path': '/pvQWsu0qc8JFQhMVJkTHuexUAa1.jpg'}, {'credit_id': '52fe4284c3a36847f8024f5b', 'department': 'Writing', 'gender': 2, 'id': 12892, 'job': 'Screenplay', 'name': 'Joel Cohen', 'profile_path': '/dAubAiZcvKFbboWlj7oXOkZnTSu.jpg'}, {'credit_id': '52fe4284c3a36847f8024f61', 'department': 'Writing', 'gender': 0, 'id': 12893, 'job': 'Screenplay', 'name': 'Alec Sokolow', 'profile_path': '/v79vlRYi94BZUQnkkyznbGUZLjT.jpg'}, {'credit_id': '52fe4284c3a36847f8024f67', 'depart\""
      ]
     },
     "execution_count": 151,
     "metadata": {},
     "output_type": "execute_result"
    }
   ],
   "source": [
    "cleaned_reves[\"crew\"][0][0:1000]"
   ]
  },
  {
   "cell_type": "markdown",
   "metadata": {},
   "source": [
    "In this case we don't know the keys we want as we did in the cast column. For this reason, we have first to convert this column into a list of dictionaries and take a deeper look at what we have."
   ]
  },
  {
   "cell_type": "code",
   "execution_count": 152,
   "metadata": {},
   "outputs": [],
   "source": [
    "cleaned_reves = rf.to_dict(cleaned_reves, \"crew\")"
   ]
  },
  {
   "cell_type": "code",
   "execution_count": 153,
   "metadata": {},
   "outputs": [
    {
     "data": {
      "text/plain": [
       "[{'credit_id': '52fe4284c3a36847f8024f49',\n",
       "  'department': 'Directing',\n",
       "  'gender': 2,\n",
       "  'id': 7879,\n",
       "  'job': 'Director',\n",
       "  'name': 'John Lasseter',\n",
       "  'profile_path': '/7EdqiNbr4FRjIhKHyPPdFfEEEFG.jpg'},\n",
       " {'credit_id': '52fe4284c3a36847f8024f4f',\n",
       "  'department': 'Writing',\n",
       "  'gender': 2,\n",
       "  'id': 12891,\n",
       "  'job': 'Screenplay',\n",
       "  'name': 'Joss Whedon',\n",
       "  'profile_path': '/dTiVsuaTVTeGmvkhcyJvKp2A5kr.jpg'}]"
      ]
     },
     "execution_count": 153,
     "metadata": {},
     "output_type": "execute_result"
    }
   ],
   "source": [
    "cleaned_reves[\"crew\"][0][0:2]"
   ]
  },
  {
   "cell_type": "markdown",
   "metadata": {},
   "source": [
    "We are going how many departments are there and how many diferent jobs per department do exist. For this task we will create a dictionary in which the key will be the department and the values will be the diferent jobs."
   ]
  },
  {
   "cell_type": "code",
   "execution_count": 154,
   "metadata": {},
   "outputs": [],
   "source": [
    "departments_dict = {}\n",
    "\n",
    "for i in cleaned_reves[\"crew\"]:   \n",
    "    for j in range(len(i)): \n",
    "        \n",
    "        department = list(filter(lambda item: item[0] == \"department\", i[j].items()))[0][1]\n",
    "        job = list(filter(lambda item: item[0] == \"job\", i[j].items()))[0][1]\n",
    "        \n",
    "        if department not in departments_dict:\n",
    "            departments_dict[department] = [job]\n",
    "            \n",
    "        else:\n",
    "            if job not in departments_dict[department]:\n",
    "                departments_dict[department] += [job]"
   ]
  },
  {
   "cell_type": "code",
   "execution_count": 155,
   "metadata": {},
   "outputs": [
    {
     "data": {
      "image/png": "[encoded data removed]",
      "text/plain": [
       "<Figure size 720x432 with 1 Axes>"
      ]
     },
     "metadata": {},
     "output_type": "display_data"
    }
   ],
   "source": [
    "fig, ax = plt.subplots(figsize = (10, 6))\n",
    "\n",
    "values = list(map(lambda value: len(value), departments_dict.values()))\n",
    "departments = list(departments_dict.keys())\n",
    "y_pos = np.arange(len(departments))\n",
    "\n",
    "ax.barh(y_pos, values, color = \"green\")\n",
    "ax.set_yticks(y_pos)\n",
    "ax.set_yticklabels(departments)\n",
    "\n",
    "for i, v in enumerate(values):\n",
    "    ax.text(v, i - 0.2, str(v), fontsize = 10)\n",
    "\n",
    "ax.set_xlabel(\"Nº of jobs\")\n",
    "ax.set_title(\"Nº of jobs per department\")    \n",
    "    \n",
    "plt.show()"
   ]
  },
  {
   "cell_type": "code",
   "execution_count": 156,
   "metadata": {
    "scrolled": true
   },
   "outputs": [
    {
     "name": "stdout",
     "output_type": "stream",
     "text": [
      "Production\n",
      " ['Producer', 'Executive Producer', 'Production Supervisor', 'Production Coordinator', 'Casting Consultant', 'ADR Voice Casting', 'Casting', 'Associate Producer', 'Unit Production Manager', 'Casting Associate', 'Co-Producer', 'Location Manager', 'Production Accountant', 'Production Manager', 'Line Producer', 'Assistant Production Manager', 'Casting Assistant', 'Local Casting', 'Finance', 'Co-Executive Producer', 'Executive In Charge Of Post Production', 'Executive In Charge Of Production', 'Publicist', 'Unit Manager', 'Production Office Coordinator', 'Other', 'Assistant Production Coordinator', 'Character Technical Supervisor', 'Researcher', 'Executive Consultant', 'Administration', 'Supervising Producer', 'Script Researcher', 'Production Director', 'Development Manager', 'Consulting Producer'] \n",
      "\n",
      "Writing\n",
      " ['Screenplay', 'Original Story', 'Novel', 'Characters', 'Story', 'Writer', 'Author', 'Storyboard', 'Scenario Writer', 'Theatre Play', 'Screenstory', 'Book', 'Other', 'Adaptation', 'Comic Book', 'Dialogue', 'Musical', 'Short Story', 'Idea', 'Teleplay', 'Script Editor', 'Story Editor', 'Creative Producer', 'Co-Writer', 'Script Consultant'] \n",
      "\n",
      "Directing\n",
      " ['Director', 'Layout', 'Script Supervisor', 'Assistant Director', 'First Assistant Director', 'Second Assistant Director', 'Other', 'Special Guest Director', 'Continuity', 'Script Coordinator', 'Third Assistant Director', 'Co-Director'] \n",
      "\n"
     ]
    }
   ],
   "source": [
    "for department in [\"Production\", \"Writing\", \"Directing\"]:\n",
    "    print(department + \"\\n\", departments_dict[department],\"\\n\")"
   ]
  },
  {
   "cell_type": "markdown",
   "metadata": {},
   "source": [
    "As showed above, in each list there are diferent dicts with information about the whole cast. There are several departments and different jobs per department."
   ]
  },
  {
   "cell_type": "markdown",
   "metadata": {},
   "source": [
    "At a first instance, we will focus on obtaining the name of the director, producer and scriptwriter as we consider that they may have something to do with the revenue.\n",
    "\n",
    "- Director name = Department Directing => job Director\n",
    "- Producer name = Department Production => job Producer\n",
    "- Screenplay name = Department Writing => job Screenplay"
   ]
  },
  {
   "cell_type": "code",
   "execution_count": 157,
   "metadata": {},
   "outputs": [],
   "source": [
    "# This code is using list comprehension. We go through the crew column and extract the required information\n",
    "\n",
    "producers_df = [[i[j][\"name\"] for j in range(len(i)) \n",
    "                if i[j][\"department\"] == \"Production\" and i[j][\"job\"] == \"Producer\"] \n",
    "                for i in cleaned_reves[\"crew\"]]\n",
    "\n",
    "directors_df = [[i[j][\"name\"] for j in range(len(i)) \n",
    "                if i[j][\"department\"] == \"Directing\" and i[j][\"job\"] == \"Director\"] \n",
    "                for i in cleaned_reves[\"crew\"]]\n",
    "\n",
    "screenplayers_df = [[i[j][\"name\"] for j in range(len(i)) \n",
    "                 if i[j][\"department\"] == \"Writing\" and i[j][\"job\"] == \"Screenplay\"] \n",
    "                 for i in cleaned_reves[\"crew\"]]"
   ]
  },
  {
   "cell_type": "code",
   "execution_count": 158,
   "metadata": {},
   "outputs": [
    {
     "name": "stdout",
     "output_type": "stream",
     "text": [
      "[['Bonnie Arnold', 'Ralph Guggenheim'], ['Scott Kroopf', 'William Teitler'], ['Ronald Bass', 'Ezra Swerdlow', 'Deborah Schindler', 'Caron K'], ['Nancy Meyers']]\n",
      "[['John Lasseter'], ['Joe Johnston'], ['Forest Whitaker'], ['Charles Shyer']]\n",
      "[['Joss Whedon', 'Andrew Stanton', 'Joel Cohen', 'Alec Sokolow'], ['Jonathan Hensleigh', 'Greg Taylor', 'Jim Strain'], ['Ronald Bass', 'Terry McMillan'], ['Nancy Meyers', 'Albert Hackett']]\n"
     ]
    }
   ],
   "source": [
    "print(producers_df[:4])\n",
    "print(directors_df[:4])\n",
    "print(screenplayers_df[:4])"
   ]
  },
  {
   "cell_type": "markdown",
   "metadata": {},
   "source": [
    "Introduce in the Data Frame and remove the crew original column"
   ]
  },
  {
   "cell_type": "code",
   "execution_count": 159,
   "metadata": {},
   "outputs": [],
   "source": [
    "# Remove originals cast and crew columns\n",
    "cleaned_reves.drop(\"crew\", axis = 1, inplace = True)\n",
    "\n",
    "# Creation new columns\n",
    "cleaned_reves[\"Directors\"] = pd.Series(directors_df).values\n",
    "cleaned_reves[\"Producers\"] = pd.Series(producers_df).values\n",
    "cleaned_reves[\"Screenplayers\"] = pd.Series(screenplayers_df).values"
   ]
  },
  {
   "cell_type": "code",
   "execution_count": 160,
   "metadata": {
    "scrolled": true
   },
   "outputs": [
    {
     "data": {
      "text/html": [
       "<div>\n",
       "<style scoped>\n",
       "    .dataframe tbody tr th:only-of-type {\n",
       "        vertical-align: middle;\n",
       "    }\n",
       "\n",
       "    .dataframe tbody tr th {\n",
       "        vertical-align: top;\n",
       "    }\n",
       "\n",
       "    .dataframe thead th {\n",
       "        text-align: right;\n",
       "    }\n",
       "</style>\n",
       "<table border=\"1\" class=\"dataframe\">\n",
       "  <thead>\n",
       "    <tr style=\"text-align: right;\">\n",
       "      <th></th>\n",
       "      <th>belongs_to_collection</th>\n",
       "      <th>genres</th>\n",
       "      <th>imdb_id</th>\n",
       "      <th>original_language</th>\n",
       "      <th>production_companies</th>\n",
       "      <th>revenue</th>\n",
       "      <th>runtime</th>\n",
       "      <th>title</th>\n",
       "      <th>keywords</th>\n",
       "      <th>release_year</th>\n",
       "      <th>release_month</th>\n",
       "      <th>release_weekday</th>\n",
       "      <th>cast_names</th>\n",
       "      <th>cast_gender</th>\n",
       "      <th>Directors</th>\n",
       "      <th>Producers</th>\n",
       "      <th>Screenplayers</th>\n",
       "    </tr>\n",
       "  </thead>\n",
       "  <tbody>\n",
       "    <tr>\n",
       "      <th>0</th>\n",
       "      <td>Toy Story Collection</td>\n",
       "      <td>[Animation, Comedy, Family]</td>\n",
       "      <td>tt0114709</td>\n",
       "      <td>en</td>\n",
       "      <td>[Pixar Animation Studios]</td>\n",
       "      <td>373554033.0</td>\n",
       "      <td>81.0</td>\n",
       "      <td>Toy Story</td>\n",
       "      <td>[{'id': 931, 'name': 'jealousy'}, {'id': 4290,...</td>\n",
       "      <td>1995.0</td>\n",
       "      <td>10.0</td>\n",
       "      <td>0.0</td>\n",
       "      <td>[Tom Hanks, Tim Allen, Don Rickles, Jim Varney...</td>\n",
       "      <td>[2, 2, 2, 2, 2, 2, 1, 0, 2, 1, 2, 1, 2]</td>\n",
       "      <td>[John Lasseter]</td>\n",
       "      <td>[Bonnie Arnold, Ralph Guggenheim]</td>\n",
       "      <td>[Joss Whedon, Andrew Stanton, Joel Cohen, Alec...</td>\n",
       "    </tr>\n",
       "    <tr>\n",
       "      <th>1</th>\n",
       "      <td>NaN</td>\n",
       "      <td>[Adventure, Fantasy, Family]</td>\n",
       "      <td>tt0113497</td>\n",
       "      <td>en</td>\n",
       "      <td>[TriStar Pictures, Teitler Film, Interscope Co...</td>\n",
       "      <td>262797249.0</td>\n",
       "      <td>104.0</td>\n",
       "      <td>Jumanji</td>\n",
       "      <td>[{'id': 10090, 'name': 'board game'}, {'id': 1...</td>\n",
       "      <td>1995.0</td>\n",
       "      <td>12.0</td>\n",
       "      <td>4.0</td>\n",
       "      <td>[Robin Williams, Jonathan Hyde, Kirsten Dunst,...</td>\n",
       "      <td>[2, 2, 1, 0, 1, 1, 2, 1, 0, 1, 2, 1, 2, 0, 0, ...</td>\n",
       "      <td>[Joe Johnston]</td>\n",
       "      <td>[Scott Kroopf, William Teitler]</td>\n",
       "      <td>[Jonathan Hensleigh, Greg Taylor, Jim Strain]</td>\n",
       "    </tr>\n",
       "    <tr>\n",
       "      <th>2</th>\n",
       "      <td>NaN</td>\n",
       "      <td>[Comedy, Drama, Romance]</td>\n",
       "      <td>tt0114885</td>\n",
       "      <td>en</td>\n",
       "      <td>[Twentieth Century Fox Film Corporation]</td>\n",
       "      <td>81452156.0</td>\n",
       "      <td>127.0</td>\n",
       "      <td>Waiting to Exhale</td>\n",
       "      <td>[{'id': 818, 'name': 'based on novel'}, {'id':...</td>\n",
       "      <td>1995.0</td>\n",
       "      <td>12.0</td>\n",
       "      <td>4.0</td>\n",
       "      <td>[Whitney Houston, Angela Bassett, Loretta Devi...</td>\n",
       "      <td>[1, 1, 1, 1, 2, 2, 2, 2, 2, 2]</td>\n",
       "      <td>[Forest Whitaker]</td>\n",
       "      <td>[Ronald Bass, Ezra Swerdlow, Deborah Schindler...</td>\n",
       "      <td>[Ronald Bass, Terry McMillan]</td>\n",
       "    </tr>\n",
       "  </tbody>\n",
       "</table>\n",
       "</div>"
      ],
      "text/plain": [
       "  belongs_to_collection                        genres    imdb_id  \\\n",
       "0  Toy Story Collection   [Animation, Comedy, Family]  tt0114709   \n",
       "1                   NaN  [Adventure, Fantasy, Family]  tt0113497   \n",
       "2                   NaN      [Comedy, Drama, Romance]  tt0114885   \n",
       "\n",
       "  original_language                               production_companies  \\\n",
       "0                en                          [Pixar Animation Studios]   \n",
       "1                en  [TriStar Pictures, Teitler Film, Interscope Co...   \n",
       "2                en           [Twentieth Century Fox Film Corporation]   \n",
       "\n",
       "       revenue  runtime              title  \\\n",
       "0  373554033.0     81.0          Toy Story   \n",
       "1  262797249.0    104.0            Jumanji   \n",
       "2   81452156.0    127.0  Waiting to Exhale   \n",
       "\n",
       "                                            keywords  release_year  \\\n",
       "0  [{'id': 931, 'name': 'jealousy'}, {'id': 4290,...        1995.0   \n",
       "1  [{'id': 10090, 'name': 'board game'}, {'id': 1...        1995.0   \n",
       "2  [{'id': 818, 'name': 'based on novel'}, {'id':...        1995.0   \n",
       "\n",
       "   release_month  release_weekday  \\\n",
       "0           10.0              0.0   \n",
       "1           12.0              4.0   \n",
       "2           12.0              4.0   \n",
       "\n",
       "                                          cast_names  \\\n",
       "0  [Tom Hanks, Tim Allen, Don Rickles, Jim Varney...   \n",
       "1  [Robin Williams, Jonathan Hyde, Kirsten Dunst,...   \n",
       "2  [Whitney Houston, Angela Bassett, Loretta Devi...   \n",
       "\n",
       "                                         cast_gender          Directors  \\\n",
       "0            [2, 2, 2, 2, 2, 2, 1, 0, 2, 1, 2, 1, 2]    [John Lasseter]   \n",
       "1  [2, 2, 1, 0, 1, 1, 2, 1, 0, 1, 2, 1, 2, 0, 0, ...     [Joe Johnston]   \n",
       "2                     [1, 1, 1, 1, 2, 2, 2, 2, 2, 2]  [Forest Whitaker]   \n",
       "\n",
       "                                           Producers  \\\n",
       "0                  [Bonnie Arnold, Ralph Guggenheim]   \n",
       "1                    [Scott Kroopf, William Teitler]   \n",
       "2  [Ronald Bass, Ezra Swerdlow, Deborah Schindler...   \n",
       "\n",
       "                                       Screenplayers  \n",
       "0  [Joss Whedon, Andrew Stanton, Joel Cohen, Alec...  \n",
       "1      [Jonathan Hensleigh, Greg Taylor, Jim Strain]  \n",
       "2                      [Ronald Bass, Terry McMillan]  "
      ]
     },
     "execution_count": 160,
     "metadata": {},
     "output_type": "execute_result"
    }
   ],
   "source": [
    "cleaned_reves.head(3)"
   ]
  },
  {
   "cell_type": "code",
   "execution_count": 161,
   "metadata": {
    "scrolled": true
   },
   "outputs": [
    {
     "name": "stdout",
     "output_type": "stream",
     "text": [
      "(12, 17)\n",
      "(1535, 17)\n",
      "(2959, 17)\n"
     ]
    }
   ],
   "source": [
    "print(cleaned_reves[cleaned_reves[\"Directors\"].str.len() == 0].shape)\n",
    "print(cleaned_reves[cleaned_reves[\"Producers\"].str.len() == 0].shape)\n",
    "print(cleaned_reves[cleaned_reves[\"Screenplayers\"].str.len() == 0].shape)"
   ]
  },
  {
   "cell_type": "markdown",
   "metadata": {},
   "source": [
    "To fill up gaps or missing values in Directors and Scriptwriters records, we will use new dataframes availables on IMBD. We can merge values on \"imdb_id\" column.\n",
    "- Check ontent details here: https://www.imdb.com/interfaces/\n",
    "- Download data from here: https://datasets.imdbws.com/ \n",
    "\n",
    "<strong>IMPORTANT! name_basics.zip file is too large to be uploaded to Github. You will have to download it from the link and save it on your computer in order to run the following cells.</strong>"
   ]
  },
  {
   "cell_type": "code",
   "execution_count": 214,
   "metadata": {},
   "outputs": [
    {
     "ename": "KeyError",
     "evalue": "'writers'",
     "output_type": "error",
     "traceback": [
      "\u001b[1;31m---------------------------------------------------------------------------\u001b[0m",
      "\u001b[1;31mKeyError\u001b[0m                                  Traceback (most recent call last)",
      "\u001b[1;32m~\\Anaconda3\\lib\\site-packages\\pandas\\core\\indexes\\base.py\u001b[0m in \u001b[0;36mget_loc\u001b[1;34m(self, key, method, tolerance)\u001b[0m\n\u001b[0;32m   3062\u001b[0m             \u001b[1;32mtry\u001b[0m\u001b[1;33m:\u001b[0m\u001b[1;33m\u001b[0m\u001b[0m\n\u001b[1;32m-> 3063\u001b[1;33m                 \u001b[1;32mreturn\u001b[0m \u001b[0mself\u001b[0m\u001b[1;33m.\u001b[0m\u001b[0m_engine\u001b[0m\u001b[1;33m.\u001b[0m\u001b[0mget_loc\u001b[0m\u001b[1;33m(\u001b[0m\u001b[0mkey\u001b[0m\u001b[1;33m)\u001b[0m\u001b[1;33m\u001b[0m\u001b[0m\n\u001b[0m\u001b[0;32m   3064\u001b[0m             \u001b[1;32mexcept\u001b[0m \u001b[0mKeyError\u001b[0m\u001b[1;33m:\u001b[0m\u001b[1;33m\u001b[0m\u001b[0m\n",
      "\u001b[1;32mpandas\\_libs\\index.pyx\u001b[0m in \u001b[0;36mpandas._libs.index.IndexEngine.get_loc\u001b[1;34m()\u001b[0m\n",
      "\u001b[1;32mpandas\\_libs\\index.pyx\u001b[0m in \u001b[0;36mpandas._libs.index.IndexEngine.get_loc\u001b[1;34m()\u001b[0m\n",
      "\u001b[1;32mpandas\\_libs\\hashtable_class_helper.pxi\u001b[0m in \u001b[0;36mpandas._libs.hashtable.PyObjectHashTable.get_item\u001b[1;34m()\u001b[0m\n",
      "\u001b[1;32mpandas\\_libs\\hashtable_class_helper.pxi\u001b[0m in \u001b[0;36mpandas._libs.hashtable.PyObjectHashTable.get_item\u001b[1;34m()\u001b[0m\n",
      "\u001b[1;31mKeyError\u001b[0m: 'writers'",
      "\nDuring handling of the above exception, another exception occurred:\n",
      "\u001b[1;31mKeyError\u001b[0m                                  Traceback (most recent call last)",
      "\u001b[1;32m<ipython-input-214-cdcac59c5f08>\u001b[0m in \u001b[0;36m<module>\u001b[1;34m()\u001b[0m\n\u001b[0;32m      9\u001b[0m \u001b[1;33m\u001b[0m\u001b[0m\n\u001b[0;32m     10\u001b[0m \u001b[0mcleaned_reves\u001b[0m \u001b[1;33m=\u001b[0m \u001b[0mpd\u001b[0m\u001b[1;33m.\u001b[0m\u001b[0mmerge\u001b[0m\u001b[1;33m(\u001b[0m\u001b[0mcrew_imdb\u001b[0m\u001b[1;33m,\u001b[0m \u001b[0mcleaned_reves\u001b[0m\u001b[1;33m,\u001b[0m \u001b[0mon\u001b[0m \u001b[1;33m=\u001b[0m \u001b[1;33m[\u001b[0m\u001b[1;34m\"imdb_id\"\u001b[0m\u001b[1;33m]\u001b[0m\u001b[1;33m)\u001b[0m\u001b[1;33m\u001b[0m\u001b[0m\n\u001b[1;32m---> 11\u001b[1;33m \u001b[0mcleaned_reves\u001b[0m\u001b[1;33m[\u001b[0m\u001b[1;34m\"writers\"\u001b[0m\u001b[1;33m]\u001b[0m \u001b[1;33m=\u001b[0m \u001b[0mcleaned_reves\u001b[0m\u001b[1;33m[\u001b[0m\u001b[1;34m\"writers\"\u001b[0m\u001b[1;33m]\u001b[0m\u001b[1;33m.\u001b[0m\u001b[0mapply\u001b[0m\u001b[1;33m(\u001b[0m\u001b[1;32mlambda\u001b[0m \u001b[0mx\u001b[0m\u001b[1;33m:\u001b[0m \u001b[0mx\u001b[0m\u001b[1;33m.\u001b[0m\u001b[0msplit\u001b[0m\u001b[1;33m(\u001b[0m\u001b[1;34m\",\"\u001b[0m\u001b[1;33m)\u001b[0m\u001b[1;33m)\u001b[0m\u001b[1;33m\u001b[0m\u001b[0m\n\u001b[0m\u001b[0;32m     12\u001b[0m \u001b[0mcleaned_reves\u001b[0m\u001b[1;33m[\u001b[0m\u001b[1;34m\"writers\"\u001b[0m\u001b[1;33m]\u001b[0m \u001b[1;33m=\u001b[0m \u001b[0mcleaned_reves\u001b[0m\u001b[1;33m[\u001b[0m\u001b[1;34m\"writers\"\u001b[0m\u001b[1;33m]\u001b[0m\u001b[1;33m.\u001b[0m\u001b[0mapply\u001b[0m\u001b[1;33m(\u001b[0m\u001b[1;32mlambda\u001b[0m \u001b[0mx\u001b[0m\u001b[1;33m:\u001b[0m \u001b[1;33m[\u001b[0m\u001b[0mdictionary\u001b[0m\u001b[1;33m[\u001b[0m\u001b[0mc\u001b[0m\u001b[1;33m]\u001b[0m \u001b[1;32mfor\u001b[0m \u001b[0mc\u001b[0m \u001b[1;32min\u001b[0m \u001b[0mx\u001b[0m\u001b[1;33m]\u001b[0m\u001b[1;33m)\u001b[0m\u001b[1;33m\u001b[0m\u001b[0m\n\u001b[0;32m     13\u001b[0m \u001b[0mcleaned_reves\u001b[0m\u001b[1;33m[\u001b[0m\u001b[1;34m\"directors\"\u001b[0m\u001b[1;33m]\u001b[0m \u001b[1;33m=\u001b[0m \u001b[0mcleaned_reves\u001b[0m\u001b[1;33m[\u001b[0m\u001b[1;34m\"directors\"\u001b[0m\u001b[1;33m]\u001b[0m\u001b[1;33m.\u001b[0m\u001b[0mapply\u001b[0m\u001b[1;33m(\u001b[0m\u001b[1;32mlambda\u001b[0m \u001b[0mx\u001b[0m\u001b[1;33m:\u001b[0m \u001b[0mx\u001b[0m\u001b[1;33m.\u001b[0m\u001b[0msplit\u001b[0m\u001b[1;33m(\u001b[0m\u001b[1;34m\",\"\u001b[0m\u001b[1;33m)\u001b[0m\u001b[1;33m)\u001b[0m\u001b[1;33m\u001b[0m\u001b[0m\n",
      "\u001b[1;32m~\\Anaconda3\\lib\\site-packages\\pandas\\core\\frame.py\u001b[0m in \u001b[0;36m__getitem__\u001b[1;34m(self, key)\u001b[0m\n\u001b[0;32m   2683\u001b[0m             \u001b[1;32mreturn\u001b[0m \u001b[0mself\u001b[0m\u001b[1;33m.\u001b[0m\u001b[0m_getitem_multilevel\u001b[0m\u001b[1;33m(\u001b[0m\u001b[0mkey\u001b[0m\u001b[1;33m)\u001b[0m\u001b[1;33m\u001b[0m\u001b[0m\n\u001b[0;32m   2684\u001b[0m         \u001b[1;32melse\u001b[0m\u001b[1;33m:\u001b[0m\u001b[1;33m\u001b[0m\u001b[0m\n\u001b[1;32m-> 2685\u001b[1;33m             \u001b[1;32mreturn\u001b[0m \u001b[0mself\u001b[0m\u001b[1;33m.\u001b[0m\u001b[0m_getitem_column\u001b[0m\u001b[1;33m(\u001b[0m\u001b[0mkey\u001b[0m\u001b[1;33m)\u001b[0m\u001b[1;33m\u001b[0m\u001b[0m\n\u001b[0m\u001b[0;32m   2686\u001b[0m \u001b[1;33m\u001b[0m\u001b[0m\n\u001b[0;32m   2687\u001b[0m     \u001b[1;32mdef\u001b[0m \u001b[0m_getitem_column\u001b[0m\u001b[1;33m(\u001b[0m\u001b[0mself\u001b[0m\u001b[1;33m,\u001b[0m \u001b[0mkey\u001b[0m\u001b[1;33m)\u001b[0m\u001b[1;33m:\u001b[0m\u001b[1;33m\u001b[0m\u001b[0m\n",
      "\u001b[1;32m~\\Anaconda3\\lib\\site-packages\\pandas\\core\\frame.py\u001b[0m in \u001b[0;36m_getitem_column\u001b[1;34m(self, key)\u001b[0m\n\u001b[0;32m   2690\u001b[0m         \u001b[1;31m# get column\u001b[0m\u001b[1;33m\u001b[0m\u001b[1;33m\u001b[0m\u001b[0m\n\u001b[0;32m   2691\u001b[0m         \u001b[1;32mif\u001b[0m \u001b[0mself\u001b[0m\u001b[1;33m.\u001b[0m\u001b[0mcolumns\u001b[0m\u001b[1;33m.\u001b[0m\u001b[0mis_unique\u001b[0m\u001b[1;33m:\u001b[0m\u001b[1;33m\u001b[0m\u001b[0m\n\u001b[1;32m-> 2692\u001b[1;33m             \u001b[1;32mreturn\u001b[0m \u001b[0mself\u001b[0m\u001b[1;33m.\u001b[0m\u001b[0m_get_item_cache\u001b[0m\u001b[1;33m(\u001b[0m\u001b[0mkey\u001b[0m\u001b[1;33m)\u001b[0m\u001b[1;33m\u001b[0m\u001b[0m\n\u001b[0m\u001b[0;32m   2693\u001b[0m \u001b[1;33m\u001b[0m\u001b[0m\n\u001b[0;32m   2694\u001b[0m         \u001b[1;31m# duplicate columns & possible reduce dimensionality\u001b[0m\u001b[1;33m\u001b[0m\u001b[1;33m\u001b[0m\u001b[0m\n",
      "\u001b[1;32m~\\Anaconda3\\lib\\site-packages\\pandas\\core\\generic.py\u001b[0m in \u001b[0;36m_get_item_cache\u001b[1;34m(self, item)\u001b[0m\n\u001b[0;32m   2484\u001b[0m         \u001b[0mres\u001b[0m \u001b[1;33m=\u001b[0m \u001b[0mcache\u001b[0m\u001b[1;33m.\u001b[0m\u001b[0mget\u001b[0m\u001b[1;33m(\u001b[0m\u001b[0mitem\u001b[0m\u001b[1;33m)\u001b[0m\u001b[1;33m\u001b[0m\u001b[0m\n\u001b[0;32m   2485\u001b[0m         \u001b[1;32mif\u001b[0m \u001b[0mres\u001b[0m \u001b[1;32mis\u001b[0m \u001b[1;32mNone\u001b[0m\u001b[1;33m:\u001b[0m\u001b[1;33m\u001b[0m\u001b[0m\n\u001b[1;32m-> 2486\u001b[1;33m             \u001b[0mvalues\u001b[0m \u001b[1;33m=\u001b[0m \u001b[0mself\u001b[0m\u001b[1;33m.\u001b[0m\u001b[0m_data\u001b[0m\u001b[1;33m.\u001b[0m\u001b[0mget\u001b[0m\u001b[1;33m(\u001b[0m\u001b[0mitem\u001b[0m\u001b[1;33m)\u001b[0m\u001b[1;33m\u001b[0m\u001b[0m\n\u001b[0m\u001b[0;32m   2487\u001b[0m             \u001b[0mres\u001b[0m \u001b[1;33m=\u001b[0m \u001b[0mself\u001b[0m\u001b[1;33m.\u001b[0m\u001b[0m_box_item_values\u001b[0m\u001b[1;33m(\u001b[0m\u001b[0mitem\u001b[0m\u001b[1;33m,\u001b[0m \u001b[0mvalues\u001b[0m\u001b[1;33m)\u001b[0m\u001b[1;33m\u001b[0m\u001b[0m\n\u001b[0;32m   2488\u001b[0m             \u001b[0mcache\u001b[0m\u001b[1;33m[\u001b[0m\u001b[0mitem\u001b[0m\u001b[1;33m]\u001b[0m \u001b[1;33m=\u001b[0m \u001b[0mres\u001b[0m\u001b[1;33m\u001b[0m\u001b[0m\n",
      "\u001b[1;32m~\\Anaconda3\\lib\\site-packages\\pandas\\core\\internals.py\u001b[0m in \u001b[0;36mget\u001b[1;34m(self, item, fastpath)\u001b[0m\n\u001b[0;32m   4113\u001b[0m \u001b[1;33m\u001b[0m\u001b[0m\n\u001b[0;32m   4114\u001b[0m             \u001b[1;32mif\u001b[0m \u001b[1;32mnot\u001b[0m \u001b[0misna\u001b[0m\u001b[1;33m(\u001b[0m\u001b[0mitem\u001b[0m\u001b[1;33m)\u001b[0m\u001b[1;33m:\u001b[0m\u001b[1;33m\u001b[0m\u001b[0m\n\u001b[1;32m-> 4115\u001b[1;33m                 \u001b[0mloc\u001b[0m \u001b[1;33m=\u001b[0m \u001b[0mself\u001b[0m\u001b[1;33m.\u001b[0m\u001b[0mitems\u001b[0m\u001b[1;33m.\u001b[0m\u001b[0mget_loc\u001b[0m\u001b[1;33m(\u001b[0m\u001b[0mitem\u001b[0m\u001b[1;33m)\u001b[0m\u001b[1;33m\u001b[0m\u001b[0m\n\u001b[0m\u001b[0;32m   4116\u001b[0m             \u001b[1;32melse\u001b[0m\u001b[1;33m:\u001b[0m\u001b[1;33m\u001b[0m\u001b[0m\n\u001b[0;32m   4117\u001b[0m                 \u001b[0mindexer\u001b[0m \u001b[1;33m=\u001b[0m \u001b[0mnp\u001b[0m\u001b[1;33m.\u001b[0m\u001b[0marange\u001b[0m\u001b[1;33m(\u001b[0m\u001b[0mlen\u001b[0m\u001b[1;33m(\u001b[0m\u001b[0mself\u001b[0m\u001b[1;33m.\u001b[0m\u001b[0mitems\u001b[0m\u001b[1;33m)\u001b[0m\u001b[1;33m)\u001b[0m\u001b[1;33m[\u001b[0m\u001b[0misna\u001b[0m\u001b[1;33m(\u001b[0m\u001b[0mself\u001b[0m\u001b[1;33m.\u001b[0m\u001b[0mitems\u001b[0m\u001b[1;33m)\u001b[0m\u001b[1;33m]\u001b[0m\u001b[1;33m\u001b[0m\u001b[0m\n",
      "\u001b[1;32m~\\Anaconda3\\lib\\site-packages\\pandas\\core\\indexes\\base.py\u001b[0m in \u001b[0;36mget_loc\u001b[1;34m(self, key, method, tolerance)\u001b[0m\n\u001b[0;32m   3063\u001b[0m                 \u001b[1;32mreturn\u001b[0m \u001b[0mself\u001b[0m\u001b[1;33m.\u001b[0m\u001b[0m_engine\u001b[0m\u001b[1;33m.\u001b[0m\u001b[0mget_loc\u001b[0m\u001b[1;33m(\u001b[0m\u001b[0mkey\u001b[0m\u001b[1;33m)\u001b[0m\u001b[1;33m\u001b[0m\u001b[0m\n\u001b[0;32m   3064\u001b[0m             \u001b[1;32mexcept\u001b[0m \u001b[0mKeyError\u001b[0m\u001b[1;33m:\u001b[0m\u001b[1;33m\u001b[0m\u001b[0m\n\u001b[1;32m-> 3065\u001b[1;33m                 \u001b[1;32mreturn\u001b[0m \u001b[0mself\u001b[0m\u001b[1;33m.\u001b[0m\u001b[0m_engine\u001b[0m\u001b[1;33m.\u001b[0m\u001b[0mget_loc\u001b[0m\u001b[1;33m(\u001b[0m\u001b[0mself\u001b[0m\u001b[1;33m.\u001b[0m\u001b[0m_maybe_cast_indexer\u001b[0m\u001b[1;33m(\u001b[0m\u001b[0mkey\u001b[0m\u001b[1;33m)\u001b[0m\u001b[1;33m)\u001b[0m\u001b[1;33m\u001b[0m\u001b[0m\n\u001b[0m\u001b[0;32m   3066\u001b[0m \u001b[1;33m\u001b[0m\u001b[0m\n\u001b[0;32m   3067\u001b[0m         \u001b[0mindexer\u001b[0m \u001b[1;33m=\u001b[0m \u001b[0mself\u001b[0m\u001b[1;33m.\u001b[0m\u001b[0mget_indexer\u001b[0m\u001b[1;33m(\u001b[0m\u001b[1;33m[\u001b[0m\u001b[0mkey\u001b[0m\u001b[1;33m]\u001b[0m\u001b[1;33m,\u001b[0m \u001b[0mmethod\u001b[0m\u001b[1;33m=\u001b[0m\u001b[0mmethod\u001b[0m\u001b[1;33m,\u001b[0m \u001b[0mtolerance\u001b[0m\u001b[1;33m=\u001b[0m\u001b[0mtolerance\u001b[0m\u001b[1;33m)\u001b[0m\u001b[1;33m\u001b[0m\u001b[0m\n",
      "\u001b[1;32mpandas\\_libs\\index.pyx\u001b[0m in \u001b[0;36mpandas._libs.index.IndexEngine.get_loc\u001b[1;34m()\u001b[0m\n",
      "\u001b[1;32mpandas\\_libs\\index.pyx\u001b[0m in \u001b[0;36mpandas._libs.index.IndexEngine.get_loc\u001b[1;34m()\u001b[0m\n",
      "\u001b[1;32mpandas\\_libs\\hashtable_class_helper.pxi\u001b[0m in \u001b[0;36mpandas._libs.hashtable.PyObjectHashTable.get_item\u001b[1;34m()\u001b[0m\n",
      "\u001b[1;32mpandas\\_libs\\hashtable_class_helper.pxi\u001b[0m in \u001b[0;36mpandas._libs.hashtable.PyObjectHashTable.get_item\u001b[1;34m()\u001b[0m\n",
      "\u001b[1;31mKeyError\u001b[0m: 'writers'"
     ]
    }
   ],
   "source": [
    "people_imdb = pd.read_csv(\"data/imdb/name_basics.zip\", sep = \"\\t\", compression = \"zip\")\n",
    "dictionary = {}\n",
    "for x, y in zip(people_imdb[\"nconst\"], people_imdb[\"primaryName\"]):\n",
    "    dictionary[x] = y\n",
    "    \n",
    "crew_imdb = pd.read_csv(\"data/imdb/title_crew.zip\", sep = \"\\t\", compression = \"zip\")\n",
    "crew_imdb = crew_imdb[crew_imdb[\"writers\"] != \"\\\\N\"]\n",
    "crew_imdb.columns = [\"imdb_id\", \"directors\", \"writers\"]\n",
    "\n",
    "cleaned_reves = pd.merge(crew_imdb, cleaned_reves, on = [\"imdb_id\"])\n",
    "cleaned_reves[\"writers\"] = cleaned_reves[\"writers\"].apply(lambda x: x.split(\",\"))\n",
    "cleaned_reves[\"writers\"] = cleaned_reves[\"writers\"].apply(lambda x: [dictionary[c] for c in x])\n",
    "cleaned_reves[\"directors\"] = cleaned_reves[\"directors\"].apply(lambda x: x.split(\",\"))\n",
    "cleaned_reves[\"directors\"] = cleaned_reves[\"directors\"].apply(lambda x: [dictionary[c] for c in x])"
   ]
  },
  {
   "cell_type": "code",
   "execution_count": null,
   "metadata": {},
   "outputs": [],
   "source": [
    "print(cleaned_reves[cleaned_reves[\"directors\"].str.len() == 0].shape)\n",
    "print(cleaned_reves[cleaned_reves[\"Producers\"].str.len() == 0].shape)\n",
    "print(cleaned_reves[cleaned_reves[\"writers\"].str.len() == 0].shape)"
   ]
  },
  {
   "cell_type": "markdown",
   "metadata": {},
   "source": [
    "Now we can see we have director and writer/scriptwirter values. We couldn't find a producers dataframe to merge, so we will drop that feature for these version of Reves. We will also drop existing columns with director and writer from the original dataframe, in order to not mix criteria."
   ]
  },
  {
   "cell_type": "code",
   "execution_count": null,
   "metadata": {},
   "outputs": [],
   "source": [
    "cleaned_reves.drop(\"Directors\", axis = 1, inplace = True)\n",
    "cleaned_reves.drop(\"Producers\", axis = 1, inplace = True)\n",
    "cleaned_reves.drop(\"Screenplayers\", axis = 1, inplace = True)"
   ]
  },
  {
   "cell_type": "markdown",
   "metadata": {},
   "source": [
    "It could be interesting to analyze if the length of all the crew influences the revenue, but we consider that it is an impractical information when it comes to predicting a new movie. However, we could analyze if the collection of a film changes depending on whether there is one or more directors."
   ]
  },
  {
   "cell_type": "code",
   "execution_count": null,
   "metadata": {},
   "outputs": [],
   "source": [
    "pd.DataFrame(\n",
    "    {\"revenue(0.1MM$)\":  cleaned_reves[\"revenue\"] / 1e5,\n",
    "     \"N_directors\": [len(x) for x in cleaned_reves[\"directors\"]]}\n",
    ").groupby(\"N_directors\").agg([\"count\", \"mean\"]).plot.bar(figsize = (10, 5), color = [\"red\", \"green\"])\n",
    "plt.title(\"Does number of directors affect the revenue?\");"
   ]
  },
  {
   "cell_type": "markdown",
   "metadata": {},
   "source": [
    "We see that most films have a single director and that the number of films with more than one director is not significant enough to say that the revenue depends on it."
   ]
  },
  {
   "cell_type": "markdown",
   "metadata": {},
   "source": [
    "Now let's see who are the directors, producers and scriptwriters with the highest average collection"
   ]
  },
  {
   "cell_type": "markdown",
   "metadata": {},
   "source": [
    "#### Directors "
   ]
  },
  {
   "cell_type": "code",
   "execution_count": null,
   "metadata": {},
   "outputs": [],
   "source": [
    "director_counter = rf.word_count(cleaned_reves, \"directors\")\n",
    "director_list = np.array(list(director_counter.keys()))\n",
    "director_list_count = np.array(list(director_counter.values()))\n",
    "\n",
    "director_dict_revenue = {}\n",
    "for index, artists_list in enumerate(cleaned_reves[\"directors\"]):\n",
    "    for director in artists_list:\n",
    "        if director not in director_dict_revenue:\n",
    "            director_dict_revenue[director] = cleaned_reves.get_value(index, \"revenue\")\n",
    "        else:\n",
    "            director_dict_revenue[director] = director_dict_revenue[director] + cleaned_reves.get_value(index, \"revenue\")\n",
    "\n",
    "director_list_revenue = np.array(list(director_dict_revenue.values()))\n",
    "\n",
    "df_director = pd.DataFrame(\n",
    "    {\"Name\": director_list,\n",
    "     \"N_Movies\": director_list_count,\n",
    "     \"Revenue\": director_list_revenue / 1e6,\n",
    "     \"Average_Revenue\": (director_list_revenue / director_list_count) / 1e6}\n",
    ")"
   ]
  },
  {
   "cell_type": "code",
   "execution_count": null,
   "metadata": {},
   "outputs": [],
   "source": [
    "plt.subplots(figsize = (10, 5))\n",
    "\n",
    "ax = df_director.set_index(\"Name\")[\"N_Movies\"].sort_values(ascending = True)[-10:].plot.barh(color = \"green\")\n",
    "ax.set_xlabel(\"Nº of movies\")\n",
    "ax.set_title(\"Director Frequency\") \n",
    "\n",
    "plt.show()"
   ]
  },
  {
   "cell_type": "code",
   "execution_count": null,
   "metadata": {},
   "outputs": [],
   "source": [
    "plt.subplots(figsize = (10, 5))\n",
    "\n",
    "ax = (df_director.set_index(\"Name\")[\"Revenue\"]).sort_values(ascending = True)[-10:].plot.barh(color = \"green\")\n",
    "ax.set_xlabel(\"Revenue(MM$)\")\n",
    "ax.set_title(\"Director Highest Revenue\") \n",
    "\n",
    "plt.show()"
   ]
  },
  {
   "cell_type": "code",
   "execution_count": null,
   "metadata": {},
   "outputs": [],
   "source": [
    "plt.subplots(figsize = (10, 5))\n",
    "\n",
    "ax = (df_director[df_director[\"N_Movies\"] > 5].set_index(\"Name\")[\"Average_Revenue\"]).sort_values(ascending = True)[-10:].plot.barh(color = \"green\")\n",
    "ax.set_xlabel(\"Revenue(MM$)\")\n",
    "ax.set_title(\"Director Highest Average Revenue (More than 5 movies)\") \n",
    "\n",
    "plt.show()"
   ]
  },
  {
   "cell_type": "markdown",
   "metadata": {},
   "source": [
    "#### Writers"
   ]
  },
  {
   "cell_type": "code",
   "execution_count": null,
   "metadata": {},
   "outputs": [],
   "source": [
    "writer_counter = rf.word_count(cleaned_reves, \"writers\")\n",
    "writer_list = np.array(list(writer_counter.keys()))\n",
    "writer_list_count = np.array(list(writer_counter.values()))\n",
    "\n",
    "writer_dict_revenue = {}\n",
    "for index, artists_list in enumerate(cleaned_reves[\"writers\"]):\n",
    "    for writer in artists_list:\n",
    "        if writer not in writer_dict_revenue:\n",
    "            writer_dict_revenue[writer] = cleaned_reves.get_value(index, \"revenue\")\n",
    "        else:\n",
    "            writer_dict_revenue[writer] = writer_dict_revenue[writer] + cleaned_reves.get_value(index, \"revenue\")\n",
    "\n",
    "writer_list_revenue = np.array(list(writer_dict_revenue.values()))\n",
    "\n",
    "df_writer = pd.DataFrame(\n",
    "    {\"Name\": writer_list,\n",
    "     \"N_Movies\": writer_list_count,\n",
    "     \"Revenue\": writer_list_revenue / 1e6,\n",
    "     \"Average_Revenue\": (writer_list_revenue / writer_list_count) / 1e6}\n",
    ")"
   ]
  },
  {
   "cell_type": "code",
   "execution_count": null,
   "metadata": {},
   "outputs": [],
   "source": [
    "plt.subplots(figsize = (10, 5))\n",
    "\n",
    "ax = df_writer.set_index(\"Name\")[\"N_Movies\"].sort_values(ascending = True)[-10:].plot.barh(color = \"green\")\n",
    "ax.set_xlabel(\"Nº of movies\")\n",
    "ax.set_title(\"Writer Frequency\") \n",
    "\n",
    "plt.show()"
   ]
  },
  {
   "cell_type": "code",
   "execution_count": null,
   "metadata": {},
   "outputs": [],
   "source": [
    "plt.subplots(figsize = (10, 5))\n",
    "\n",
    "ax = (df_writer.set_index(\"Name\")[\"Revenue\"]).sort_values(ascending = True)[-10:].plot.barh(color = \"green\")\n",
    "ax.set_xlabel(\"Revenue(MM$)\")\n",
    "ax.set_title(\"Writer Highest Revenue\") \n",
    "\n",
    "plt.show()"
   ]
  },
  {
   "cell_type": "code",
   "execution_count": null,
   "metadata": {},
   "outputs": [],
   "source": [
    "plt.subplots(figsize = (10, 5))\n",
    "\n",
    "ax = (df_writer[df_writer[\"N_Movies\"] > 5].set_index(\"Name\")[\"Average_Revenue\"]).sort_values(ascending = True)[-10:].plot.barh(color = \"green\")\n",
    "ax.set_xlabel(\"Revenue(MM$)\")\n",
    "ax.set_title(\"Writer Highest Average Revenue (More than 5 movies)\") \n",
    "\n",
    "plt.show()"
   ]
  },
  {
   "cell_type": "markdown",
   "metadata": {},
   "source": [
    "#### Keywords"
   ]
  },
  {
   "cell_type": "code",
   "execution_count": null,
   "metadata": {},
   "outputs": [],
   "source": [
    "cleaned_reves[\"keywords\"][0]"
   ]
  },
  {
   "cell_type": "markdown",
   "metadata": {},
   "source": [
    "Once again, it is a list of dicts. Let's apply our function to_list"
   ]
  },
  {
   "cell_type": "code",
   "execution_count": null,
   "metadata": {},
   "outputs": [],
   "source": [
    "cleaned_reves[\"keywords\"] = rf.to_list(cleaned_reves[\"keywords\"], \"name\")"
   ]
  },
  {
   "cell_type": "code",
   "execution_count": null,
   "metadata": {},
   "outputs": [],
   "source": [
    "cleaned_reves[\"keywords\"].head()"
   ]
  },
  {
   "cell_type": "markdown",
   "metadata": {},
   "source": [
    "We are going to analyze two things:\n",
    "* Does the number of keywords in a film influences the revenue?\n",
    "* What are the keywords that with higher revenue average?"
   ]
  },
  {
   "cell_type": "code",
   "execution_count": null,
   "metadata": {},
   "outputs": [],
   "source": [
    "pd.DataFrame(\n",
    "    {\"revenue(0.1MM$)\": cleaned_reves[\"revenue\"] / 100000,\n",
    "     \"N_Keywords\": [len(x) for x in cleaned_reves[\"keywords\"]]}\n",
    ").groupby(\"N_Keywords\").agg([\"count\", \"mean\"]).plot.bar(figsize = (10, 5), color = [\"red\", \"green\"])\n",
    "plt.title(\"Does number of KW affect the Revenue?\");"
   ]
  },
  {
   "cell_type": "markdown",
   "metadata": {},
   "source": [
    "We see that most movies have between 0 and 10 keywords. We also see that there is a tendency for revenue to increase as the number of keywords increases up to 12."
   ]
  },
  {
   "cell_type": "code",
   "execution_count": null,
   "metadata": {},
   "outputs": [],
   "source": [
    "keywords_counter = rf.word_count(cleaned_reves, \"keywords\")\n",
    "keywords_list = np.array(list(keywords_counter.keys()))\n",
    "keywords_list_count = np.array(list(keywords_counter.values()))\n",
    "\n",
    "keywords_dict_revenue = {}\n",
    "for index, artists_list in enumerate(cleaned_reves[\"keywords\"]):\n",
    "    for keywords in artists_list:\n",
    "        if keywords not in keywords_dict_revenue:\n",
    "            keywords_dict_revenue[keywords] = cleaned_reves.get_value(index, \"revenue\")\n",
    "        else:\n",
    "            keywords_dict_revenue[keywords] = keywords_dict_revenue[keywords] + cleaned_reves.get_value(index, \"revenue\")\n",
    "\n",
    "keywords_list_revenue = np.array(list(keywords_dict_revenue.values()))\n",
    "\n",
    "cleaned_reves_keywords = pd.DataFrame(\n",
    "    {\"Name\": keywords_list,\n",
    "     \"N_Movies\": keywords_list_count,\n",
    "     \"Revenue\": keywords_list_revenue / 1e6,\n",
    "     \"Average_Revenue\": (keywords_list_revenue / keywords_list_count) / 1e6}\n",
    ")"
   ]
  },
  {
   "cell_type": "code",
   "execution_count": null,
   "metadata": {},
   "outputs": [],
   "source": [
    "plt.subplots(figsize = (10, 5))\n",
    "\n",
    "ax = cleaned_reves_keywords.set_index(\"Name\")[\"N_Movies\"].sort_values(ascending = True)[-20:].plot.barh(color = \"green\")\n",
    "ax.set_xlabel(\"Nº of movies\")\n",
    "ax.set_title(\"Keywords Frequency\") \n",
    "\n",
    "plt.show()"
   ]
  },
  {
   "cell_type": "code",
   "execution_count": null,
   "metadata": {},
   "outputs": [],
   "source": [
    "plt.subplots(figsize = (10, 5))\n",
    "\n",
    "ax = (cleaned_reves_keywords.set_index(\"Name\")[\"Revenue\"]).sort_values(ascending = True)[-20:].plot.barh(color = \"green\")\n",
    "ax.set_xlabel(\"Revenue(MM$)\")\n",
    "ax.set_title(\"Keywords Highest Revenue\") \n",
    "\n",
    "plt.show()"
   ]
  },
  {
   "cell_type": "code",
   "execution_count": null,
   "metadata": {},
   "outputs": [],
   "source": [
    "plt.subplots(figsize = (10, 5))\n",
    "\n",
    "ax = (cleaned_reves_keywords[cleaned_reves_keywords[\"N_Movies\"] > 20].set_index(\"Name\")[\"Average_Revenue\"]).sort_values(ascending = True)[-20:].plot.barh(color = \"green\")\n",
    "ax.set_xlabel(\"Revenue(MM$)\")\n",
    "ax.set_title(\"Keywords Highest Average Revenue (More than 20 movies)\") \n",
    "\n",
    "plt.show()"
   ]
  },
  {
   "cell_type": "markdown",
   "metadata": {},
   "source": [
    "About the most average revenue keywords, we find several types:\n",
    "* Related to superhero movies: comic marvel, superhero, based on comic, super powers, dc comics.\n",
    "* Related to the genre of the movie: space opera, animation, riddle, animal talking (animation), anthropomorphism (animation), shipwreck.\n",
    "* Related to franchises: marvel, space, spaceship, dc comics, dinosaur, magic.\n",
    "* Related to the format of the movie: imax, 3d"
   ]
  },
  {
   "cell_type": "markdown",
   "metadata": {},
   "source": [
    "For the model we will consider what type of keywords it contains and if it belongs to a group that is related to a high revenue."
   ]
  },
  {
   "cell_type": "code",
   "execution_count": null,
   "metadata": {},
   "outputs": [],
   "source": [
    "cleaned_reves[cleaned_reves[\"keywords\"].str.len() == 0].shape"
   ]
  },
  {
   "cell_type": "markdown",
   "metadata": {},
   "source": [
    "There are 644 records with no keywords"
   ]
  },
  {
   "cell_type": "markdown",
   "metadata": {},
   "source": [
    "#### Data Frame cleaned"
   ]
  },
  {
   "cell_type": "code",
   "execution_count": null,
   "metadata": {},
   "outputs": [],
   "source": [
    "cleaned_reves.drop(\"imdb_id\", axis = 1, inplace = True)\n",
    "cleaned_reves.head(3)"
   ]
  },
  {
   "cell_type": "code",
   "execution_count": null,
   "metadata": {},
   "outputs": [],
   "source": [
    "cleaned_reves.shape"
   ]
  },
  {
   "cell_type": "markdown",
   "metadata": {},
   "source": [
    "#### Keep Coding"
   ]
  },
  {
   "cell_type": "code",
   "execution_count": 163,
   "metadata": {},
   "outputs": [],
   "source": [
    "cleaned_reves.to_pickle(\"data/cleaned_reves_df.pkl\")"
   ]
  },
  {
   "cell_type": "markdown",
   "metadata": {},
   "source": [
    "We are using pd.to_pickle cause we have several columns with information stored in lists. If we used \"pd.to_csv\" it will save this info as a string and we would lose the list's funcionality in the next notebook.\n",
    "\n",
    "Go to the following notebook for more.\n",
    "\n",
    "https://github.com/ElsaDuran/reves/blob/master/02.Data_Engineering.ipynb"
   ]
  }
 ],
 "metadata": {
  "kernelspec": {
   "display_name": "Python 3",
   "language": "python",
   "name": "python3"
  },
  "language_info": {
   "codemirror_mode": {
    "name": "ipython",
    "version": 3
   },
   "file_extension": ".py",
   "mimetype": "text/x-python",
   "name": "python",
   "nbconvert_exporter": "python",
   "pygments_lexer": "ipython3",
   "version": "3.6.5"
  }
 },
 "nbformat": 4,
 "nbformat_minor": 2
}
