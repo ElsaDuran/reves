{
 "cells": [
  {
   "cell_type": "markdown",
   "metadata": {},
   "source": [
    "# 4. Play"
   ]
  },
  {
   "cell_type": "markdown",
   "metadata": {},
   "source": [
    "Este es un Notebook para poder jugar. Se van poniendo datos de películas y te dice cual es la recaudación prevista."
   ]
  },
  {
   "cell_type": "markdown",
   "metadata": {},
   "source": [
    "Primero cargo la función media descrita en el notebook 2 e importo los diccionarios guardados también en el notebook 2. Esto lo hago para poder realizar las transformaciones necesarias."
   ]
  },
  {
   "cell_type": "code",
   "execution_count": 1,
   "metadata": {},
   "outputs": [],
   "source": [
    "import numpy as np\n",
    "import pandas as pd\n",
    "import pickle\n",
    "\n",
    "def media(lista):\n",
    "    return np.mean(list(map(lambda x: diccionario[x] if x in diccionario else np.mean(list(diccionario.values())), lista))) "
   ]
  },
  {
   "cell_type": "code",
   "execution_count": 2,
   "metadata": {},
   "outputs": [],
   "source": [
    "import pickle\n",
    "\n",
    "with open(\"transformation/homepage_dict.pickle\", \"rb\") as handle:\n",
    "    homepage_dict = pickle.load(handle)\n",
    "\n",
    "with open(\"transformation/collection_dict.pickle\", \"rb\") as handle:\n",
    "    collection_dict = pickle.load(handle)\n",
    "    \n",
    "with open(\"transformation/genres_dict.pickle\", \"rb\") as handle:\n",
    "    genres_dict = pickle.load(handle)\n",
    "\n",
    "with open(\"transformation/language_dict.pickle\", \"rb\") as handle:\n",
    "    language_dict = pickle.load(handle)\n",
    "    \n",
    "with open(\"transformation/production_company_dict.pickle\", \"rb\") as handle:\n",
    "    production_company_dict = pickle.load(handle)\n",
    "    \n",
    "with open(\"transformation/cast_dict.pickle\", \"rb\") as handle:\n",
    "    cast_dict = pickle.load(handle)\n",
    "    \n",
    "with open(\"transformation/directors_dict.pickle\", \"rb\") as handle:\n",
    "    directors_dict = pickle.load(handle)\n",
    "    \n",
    "with open(\"transformation/writers_dict.pickle\", \"rb\") as handle:\n",
    "    writers_dict = pickle.load(handle)\n",
    "    \n",
    "with open(\"transformation/keywords_dict.pickle\", \"rb\") as handle:\n",
    "    keywords_dict = pickle.load(handle)\n",
    "    \n",
    "with open(\"transformation/month_dict.pickle\", \"rb\") as handle:\n",
    "    month_dict = pickle.load(handle)\n",
    "    \n",
    "with open(\"transformation/weekday_dict.pickle\", \"rb\") as handle:\n",
    "    weekday_dict = pickle.load(handle)"
   ]
  },
  {
   "cell_type": "markdown",
   "metadata": {},
   "source": [
    "## Play"
   ]
  },
  {
   "cell_type": "markdown",
   "metadata": {},
   "source": [
    "* La primera celda es para ir rellenando los datos de la película que queremos predecir la recaudación.\n",
    "* La segunda celda corresponde a la creación del DataFrame con las columnas necesarias.\n",
    "* La tercera celda es la que hace todas las transformaciones previas al modelo y rellena el DataFrame"
   ]
  },
  {
   "cell_type": "code",
   "execution_count": 3,
   "metadata": {},
   "outputs": [],
   "source": [
    "title = \"I Can Only Imagine\"\n",
    "directors = \"Andrew Erwin, Jon Erwin\"\n",
    "writers = \"Bart Millard, Jon Erwin, Brent McCorkle, Alex Cramer\"\n",
    "belongs_to_collection = \"No\" # Write the \"Collection name\" or \"No\". Ex: Avengers Collection\n",
    "genres = \"Drama, Family, Music\" \n",
    "homepage = \"no\"\n",
    "original_language = \"en\"\n",
    "production_companies = \"Kevin Downes Productions, Mission Pictures International, City on a Hill Productions, Imagine Rights, LLC, LD Entertainment, Toy Gun Films\"\n",
    "runtime = 110\n",
    "keywords = \"abusive father, song, religion, christianity, based on true story, biography\"\n",
    "release_date = \"2018/03/16\"\n",
    "cast_names = \"J. Michael Finley, Madeline Carroll, Dennis Quaid, Trace Adkins\"\n",
    "production_companies_counter = len([x.strip() for x in production_companies.split(\",\")])\n",
    "N_female = 1"
   ]
  },
  {
   "cell_type": "code",
   "execution_count": 4,
   "metadata": {},
   "outputs": [],
   "source": [
    "test = pd.DataFrame(columns = [\"directors\", \"writers\", \"belongs_to_collection\", \"genres\", \"homepage\", \"original_language\",\n",
    "                               \"production_companies\", \"runtime\", \"keywords\", \"release_month\", \"release_weekday\",\n",
    "                               \"cast_names\", \"production_companies_counter\", \"N_female\"])"
   ]
  },
  {
   "cell_type": "code",
   "execution_count": 5,
   "metadata": {},
   "outputs": [],
   "source": [
    "# homepage\n",
    "test.loc[0, \"homepage\"] = homepage\n",
    "test[\"homepage\"] = test[\"homepage\"].apply(lambda x: homepage_dict[x])\n",
    "\n",
    "# belongs_to_collection\n",
    "test.loc[0, \"belongs_to_collection\"] = belongs_to_collection\n",
    "diccionario = collection_dict\n",
    "test[\"belongs_to_collection\"] = test[\"belongs_to_collection\"].apply(media)\n",
    "\n",
    "# genres\n",
    "test.at[0, \"genres\"] = [x.strip() for x in genres.split(\",\")]\n",
    "diccionario = genres_dict\n",
    "test[\"genres\"] = test[\"genres\"].apply(media)\n",
    "\n",
    "# original language\n",
    "test.at[0, \"original_language\"] = original_language\n",
    "diccionario = language_dict\n",
    "test[\"original_language\"] = test[\"original_language\"].apply(media)\n",
    "\n",
    "# production company\n",
    "test.at[0, \"production_companies\"] = [x.strip() for x in production_companies.split(\",\")]\n",
    "diccionario = production_company_dict\n",
    "test[\"production_companies\"] = test[\"production_companies\"].apply(media)\n",
    "\n",
    "# cast names\n",
    "test.at[0, \"cast_names\"] = [x.strip() for x in cast_names.split(\",\")]\n",
    "diccionario = cast_dict\n",
    "test[\"cast_names\"] = test[\"cast_names\"].apply(media)\n",
    "\n",
    "# directors\n",
    "test.at[0, \"directors\"] = [x.strip() for x in directors.split(\",\")]\n",
    "diccionario = directors_dict\n",
    "test[\"directors\"] = test[\"directors\"].apply(media)\n",
    "\n",
    "# writers\n",
    "test.at[0, \"writers\"] = [x.strip() for x in writers.split(\",\")]\n",
    "diccionario = writers_dict\n",
    "test[\"writers\"] = test[\"writers\"].apply(media)\n",
    "\n",
    "# keywords\n",
    "test.at[0, \"keywords\"] = [x.strip() for x in keywords.split(\",\")]\n",
    "diccionario = keywords_dict\n",
    "test[\"keywords\"] = test[\"keywords\"].apply(media)\n",
    "\n",
    "# release date\n",
    "test[\"release_month\"] = pd.to_datetime(release_date).month\n",
    "test[\"release_weekday\"] = pd.to_datetime(release_date).dayofweek\n",
    "test[\"release_month\"] = test[\"release_month\"].apply(lambda x: [x])\n",
    "test[\"release_weekday\"] = test[\"release_weekday\"].apply(lambda x: [x])\n",
    "diccionario = month_dict\n",
    "test[\"release_month\"] = test[\"release_month\"].apply(media)\n",
    "diccionario = weekday_dict\n",
    "test[\"release_weekday\"] = test[\"release_weekday\"].apply(media)\n",
    "\n",
    "# runtime\n",
    "test.at[0, \"runtime\"] = runtime\n",
    "\n",
    "# N_female\n",
    "test.at[0, \"N_female\"] = N_female\n",
    "\n",
    "# production companies counter\n",
    "test.at[0, \"production_companies_counter\"] = production_companies_counter"
   ]
  },
  {
   "cell_type": "code",
   "execution_count": 6,
   "metadata": {},
   "outputs": [
    {
     "data": {
      "text/html": [
       "<div>\n",
       "<style>\n",
       "    .dataframe thead tr:only-child th {\n",
       "        text-align: right;\n",
       "    }\n",
       "\n",
       "    .dataframe thead th {\n",
       "        text-align: left;\n",
       "    }\n",
       "\n",
       "    .dataframe tbody tr th {\n",
       "        vertical-align: top;\n",
       "    }\n",
       "</style>\n",
       "<table border=\"1\" class=\"dataframe\">\n",
       "  <thead>\n",
       "    <tr style=\"text-align: right;\">\n",
       "      <th></th>\n",
       "      <th>directors</th>\n",
       "      <th>writers</th>\n",
       "      <th>belongs_to_collection</th>\n",
       "      <th>genres</th>\n",
       "      <th>homepage</th>\n",
       "      <th>original_language</th>\n",
       "      <th>production_companies</th>\n",
       "      <th>runtime</th>\n",
       "      <th>keywords</th>\n",
       "      <th>release_month</th>\n",
       "      <th>release_weekday</th>\n",
       "      <th>cast_names</th>\n",
       "      <th>production_companies_counter</th>\n",
       "      <th>N_female</th>\n",
       "    </tr>\n",
       "  </thead>\n",
       "  <tbody>\n",
       "    <tr>\n",
       "      <th>0</th>\n",
       "      <td>1.284263e+07</td>\n",
       "      <td>6.624515e+07</td>\n",
       "      <td>1.937812e+08</td>\n",
       "      <td>1.415524e+08</td>\n",
       "      <td>7.941297e+07</td>\n",
       "      <td>1.791042e+07</td>\n",
       "      <td>5.566460e+07</td>\n",
       "      <td>110</td>\n",
       "      <td>9.454801e+07</td>\n",
       "      <td>1.090185e+08</td>\n",
       "      <td>8.316584e+07</td>\n",
       "      <td>8.969843e+07</td>\n",
       "      <td>7</td>\n",
       "      <td>1</td>\n",
       "    </tr>\n",
       "  </tbody>\n",
       "</table>\n",
       "</div>"
      ],
      "text/plain": [
       "      directors       writers  belongs_to_collection        genres  \\\n",
       "0  1.284263e+07  6.624515e+07           1.937812e+08  1.415524e+08   \n",
       "\n",
       "       homepage  original_language  production_companies runtime  \\\n",
       "0  7.941297e+07       1.791042e+07          5.566460e+07     110   \n",
       "\n",
       "       keywords  release_month  release_weekday    cast_names  \\\n",
       "0  9.454801e+07   1.090185e+08     8.316584e+07  8.969843e+07   \n",
       "\n",
       "  production_companies_counter N_female  \n",
       "0                            7        1  "
      ]
     },
     "execution_count": 6,
     "metadata": {},
     "output_type": "execute_result"
    }
   ],
   "source": [
    "test"
   ]
  },
  {
   "cell_type": "markdown",
   "metadata": {},
   "source": [
    "## Let's Reves"
   ]
  },
  {
   "cell_type": "code",
   "execution_count": 7,
   "metadata": {},
   "outputs": [],
   "source": [
    "def Reves(dataframe):\n",
    "    xgbo = pickle.load(open(\"xgbo_model.pkl\",\"rb\"))\n",
    "    X = dataframe.values\n",
    "    return print(\"%s would have a total gross of %0.2f MM$\" %(title, xgbo.predict(X)[0]/1e6))"
   ]
  },
  {
   "cell_type": "code",
   "execution_count": 8,
   "metadata": {},
   "outputs": [
    {
     "name": "stdout",
     "output_type": "stream",
     "text": [
      "I Can Only Imagine would have a total gross of 24.03 MM$\n"
     ]
    }
   ],
   "source": [
    "Reves(test)"
   ]
  }
 ],
 "metadata": {
  "kernelspec": {
   "display_name": "Python 3",
   "language": "python",
   "name": "python3"
  },
  "language_info": {
   "codemirror_mode": {
    "name": "ipython",
    "version": 3
   },
   "file_extension": ".py",
   "mimetype": "text/x-python",
   "name": "python",
   "nbconvert_exporter": "python",
   "pygments_lexer": "ipython3",
   "version": "3.6.5"
  }
 },
 "nbformat": 4,
 "nbformat_minor": 2
}
