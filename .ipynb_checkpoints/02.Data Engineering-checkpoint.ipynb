{
 "cells": [
  {
   "cell_type": "markdown",
   "metadata": {},
   "source": [
    "# 02. Data Engineering"
   ]
  },
  {
   "cell_type": "markdown",
   "metadata": {},
   "source": [
    "In this notebook, we will transform the data to fit the format required for our model and we will create new features to add valuable info to it. \n",
    "\n",
    "To start this notebook we will use the DataFrame we generated in Cleaning_Data."
   ]
  },
  {
   "cell_type": "markdown",
   "metadata": {},
   "source": [
    "## Loading libraries and data"
   ]
  },
  {
   "cell_type": "code",
   "execution_count": 12,
   "metadata": {},
   "outputs": [],
   "source": [
    "import matplotlib.pyplot as plt\n",
    "import numpy as np\n",
    "import pandas as pd\n",
    "import ast\n",
    "import collections\n",
    "import seaborn as sns\n",
    "from functools import reduce\n",
    "from scipy import stats\n",
    "%matplotlib inline\n",
    "plt.style.use('ggplot')"
   ]
  },
  {
   "cell_type": "code",
   "execution_count": 10,
   "metadata": {
    "scrolled": true
   },
   "outputs": [],
   "source": [
    "reves=pd.read_pickle(\"./data/cleaned_reves_df.pkl\")"
   ]
  },
  {
   "cell_type": "code",
   "execution_count": 14,
   "metadata": {
    "scrolled": true
   },
   "outputs": [
    {
     "data": {
      "text/html": [
       "<div>\n",
       "<style scoped>\n",
       "    .dataframe tbody tr th:only-of-type {\n",
       "        vertical-align: middle;\n",
       "    }\n",
       "\n",
       "    .dataframe tbody tr th {\n",
       "        vertical-align: top;\n",
       "    }\n",
       "\n",
       "    .dataframe thead th {\n",
       "        text-align: right;\n",
       "    }\n",
       "</style>\n",
       "<table border=\"1\" class=\"dataframe\">\n",
       "  <thead>\n",
       "    <tr style=\"text-align: right;\">\n",
       "      <th></th>\n",
       "      <th>belongs_to_collection</th>\n",
       "      <th>budget</th>\n",
       "      <th>genres</th>\n",
       "      <th>original_language</th>\n",
       "      <th>production_companies</th>\n",
       "      <th>revenue</th>\n",
       "      <th>runtime</th>\n",
       "      <th>title</th>\n",
       "      <th>keywords</th>\n",
       "      <th>release_year</th>\n",
       "      <th>release_month</th>\n",
       "      <th>release_weekday</th>\n",
       "      <th>cast_names</th>\n",
       "      <th>cast_gender</th>\n",
       "      <th>Directors</th>\n",
       "      <th>Producers</th>\n",
       "      <th>Screenplayers</th>\n",
       "    </tr>\n",
       "  </thead>\n",
       "  <tbody>\n",
       "    <tr>\n",
       "      <th>0</th>\n",
       "      <td>Toy Story Collection</td>\n",
       "      <td>30000000.0</td>\n",
       "      <td>[Animation, Comedy, Family]</td>\n",
       "      <td>en</td>\n",
       "      <td>[Pixar Animation Studios]</td>\n",
       "      <td>373554033.0</td>\n",
       "      <td>81.0</td>\n",
       "      <td>Toy Story</td>\n",
       "      <td>[jealousy, toy, boy, friendship, friends, riva...</td>\n",
       "      <td>1995.0</td>\n",
       "      <td>10.0</td>\n",
       "      <td>0.0</td>\n",
       "      <td>[Tom Hanks, Tim Allen, Don Rickles, Jim Varney...</td>\n",
       "      <td>[Tom Hanks, Tim Allen, Don Rickles, Jim Varney...</td>\n",
       "      <td>[John Lasseter]</td>\n",
       "      <td>[Bonnie Arnold, Ralph Guggenheim]</td>\n",
       "      <td>[Joss Whedon, Andrew Stanton, Joel Cohen, Alec...</td>\n",
       "    </tr>\n",
       "    <tr>\n",
       "      <th>1</th>\n",
       "      <td>NaN</td>\n",
       "      <td>65000000.0</td>\n",
       "      <td>[Adventure, Fantasy, Family]</td>\n",
       "      <td>en</td>\n",
       "      <td>[TriStar Pictures, Teitler Film, Interscope Co...</td>\n",
       "      <td>262797249.0</td>\n",
       "      <td>104.0</td>\n",
       "      <td>Jumanji</td>\n",
       "      <td>[board game, disappearance, based on children'...</td>\n",
       "      <td>1995.0</td>\n",
       "      <td>12.0</td>\n",
       "      <td>4.0</td>\n",
       "      <td>[Robin Williams, Jonathan Hyde, Kirsten Dunst,...</td>\n",
       "      <td>[Robin Williams, Jonathan Hyde, Kirsten Dunst,...</td>\n",
       "      <td>[Joe Johnston]</td>\n",
       "      <td>[Scott Kroopf, William Teitler]</td>\n",
       "      <td>[Jonathan Hensleigh, Greg Taylor, Jim Strain]</td>\n",
       "    </tr>\n",
       "  </tbody>\n",
       "</table>\n",
       "</div>"
      ],
      "text/plain": [
       "  belongs_to_collection      budget                        genres  \\\n",
       "0  Toy Story Collection  30000000.0   [Animation, Comedy, Family]   \n",
       "1                   NaN  65000000.0  [Adventure, Fantasy, Family]   \n",
       "\n",
       "  original_language                               production_companies  \\\n",
       "0                en                          [Pixar Animation Studios]   \n",
       "1                en  [TriStar Pictures, Teitler Film, Interscope Co...   \n",
       "\n",
       "       revenue  runtime      title  \\\n",
       "0  373554033.0     81.0  Toy Story   \n",
       "1  262797249.0    104.0    Jumanji   \n",
       "\n",
       "                                            keywords  release_year  \\\n",
       "0  [jealousy, toy, boy, friendship, friends, riva...        1995.0   \n",
       "1  [board game, disappearance, based on children'...        1995.0   \n",
       "\n",
       "   release_month  release_weekday  \\\n",
       "0           10.0              0.0   \n",
       "1           12.0              4.0   \n",
       "\n",
       "                                          cast_names  \\\n",
       "0  [Tom Hanks, Tim Allen, Don Rickles, Jim Varney...   \n",
       "1  [Robin Williams, Jonathan Hyde, Kirsten Dunst,...   \n",
       "\n",
       "                                         cast_gender        Directors  \\\n",
       "0  [Tom Hanks, Tim Allen, Don Rickles, Jim Varney...  [John Lasseter]   \n",
       "1  [Robin Williams, Jonathan Hyde, Kirsten Dunst,...   [Joe Johnston]   \n",
       "\n",
       "                           Producers  \\\n",
       "0  [Bonnie Arnold, Ralph Guggenheim]   \n",
       "1    [Scott Kroopf, William Teitler]   \n",
       "\n",
       "                                       Screenplayers  \n",
       "0  [Joss Whedon, Andrew Stanton, Joel Cohen, Alec...  \n",
       "1      [Jonathan Hensleigh, Greg Taylor, Jim Strain]  "
      ]
     },
     "execution_count": 14,
     "metadata": {},
     "output_type": "execute_result"
    }
   ],
   "source": [
    "reves.head(2)"
   ]
  },
  {
   "cell_type": "markdown",
   "metadata": {},
   "source": [
    "## Let's perform some data transformation"
   ]
  },
  {
   "cell_type": "markdown",
   "metadata": {},
   "source": [
    "#### Belongs to collection"
   ]
  },
  {
   "cell_type": "markdown",
   "metadata": {},
   "source": [
    "As we explained in the first notebook, what we really need from this column is to know whether a movie belongs to a series or a collection or not. The name of the collection by itself woulnd't add any knowledge to our model. That's why we are going to overwrite this column with 2 possible values:\n",
    "    - 1 for movies that belong to a collection\n",
    "    - 0 for movies that don't"
   ]
  },
  {
   "cell_type": "code",
   "execution_count": 16,
   "metadata": {},
   "outputs": [],
   "source": [
    "reves[\"belongs_to_collection\"] = reves[\"belongs_to_collection\"].apply(lambda x: 1 if type(x)==str else 0)"
   ]
  },
  {
   "cell_type": "markdown",
   "metadata": {},
   "source": [
    "#### Genres"
   ]
  },
  {
   "cell_type": "code",
   "execution_count": 17,
   "metadata": {},
   "outputs": [],
   "source": [
    "def get_uniques(sequence):\n",
    "    #from ast import literal_eval\n",
    "    #sequence=sequence.fillna('[]').apply(literal_eval).apply(lambda x: [i['name'] for i in x] if isinstance(x, list) else [])\n",
    "    counter=[]\n",
    "    for line in sequence:\n",
    "        counter.append(line)\n",
    "        flat_list=[item for sublist in sequence for item in sublist]\n",
    "        for sublist in sequence:\n",
    "            for item in sublist:\n",
    "                flat_list.append(item)\n",
    "        counter=list(set(flat_list))\n",
    "        \n",
    "        return counter"
   ]
  },
  {
   "cell_type": "code",
   "execution_count": 21,
   "metadata": {},
   "outputs": [
    {
     "name": "stdout",
     "output_type": "stream",
     "text": [
      "['Western', 'Comedy', 'Animation', 'Drama', 'Romance', 'Fantasy', 'Thriller', 'Adventure', 'Horror', 'Family', 'History', 'Crime', 'Mystery', 'Music', 'TV Movie', 'War', 'Documentary', 'Foreign', 'Science Fiction', 'Action']\n"
     ]
    }
   ],
   "source": [
    "genres=get_uniques(reves[\"genres\"])\n",
    "print(genres)\n"
   ]
  },
  {
   "cell_type": "code",
   "execution_count": 22,
   "metadata": {},
   "outputs": [],
   "source": [
    "def word_to_dummy(word,ref_column):\n",
    "    word_list=[]\n",
    "    for line in ref_column:\n",
    "        value=0\n",
    "        for element in line:\n",
    "            if element==str(word):\n",
    "                value+=1\n",
    "            else:\n",
    "                value+=0\n",
    "        word_list.append(value)\n",
    "    return word_list"
   ]
  },
  {
   "cell_type": "code",
   "execution_count": 23,
   "metadata": {},
   "outputs": [],
   "source": [
    "for line in genres:\n",
    "    reves[line]=word_to_dummy(line,reves[\"genres\"])"
   ]
  },
  {
   "cell_type": "code",
   "execution_count": 29,
   "metadata": {},
   "outputs": [
    {
     "data": {
      "text/plain": [
       "Index(['belongs_to_collection', 'budget', 'genres', 'original_language',\n",
       "       'production_companies', 'revenue', 'runtime', 'title', 'keywords',\n",
       "       'release_year', 'release_month', 'release_weekday', 'cast_names',\n",
       "       'cast_gender', 'Directors', 'Producers', 'Screenplayers', 'Western',\n",
       "       'Comedy', 'Animation', 'Drama', 'Romance', 'Fantasy', 'Thriller',\n",
       "       'Adventure', 'Horror', 'Family', 'History', 'Crime', 'Mystery', 'Music',\n",
       "       'TV Movie', 'War', 'Documentary', 'Foreign', 'Science Fiction',\n",
       "       'Action', 'Genres_count'],\n",
       "      dtype='object')"
      ]
     },
     "execution_count": 29,
     "metadata": {},
     "output_type": "execute_result"
    }
   ],
   "source": [
    "reves.columns"
   ]
  },
  {
   "cell_type": "markdown",
   "metadata": {},
   "source": [
    "Now we are creating a column with the number of genres per movie, as we think that it can be related to movie revenue as it can explain the complexity of the movie's synopsis. We will write a function because we will use it later for other purposes."
   ]
  },
  {
   "cell_type": "code",
   "execution_count": 26,
   "metadata": {},
   "outputs": [],
   "source": [
    "def lenght_column(column):\n",
    "    column_lenght=[]\n",
    "    for line in reves[column]:\n",
    "        column_lenght.append(len(line))\n",
    "    return column_lenght"
   ]
  },
  {
   "cell_type": "code",
   "execution_count": 27,
   "metadata": {},
   "outputs": [],
   "source": [
    "reves[\"Genres_count\"]=lenght_column(\"genres\")"
   ]
  },
  {
   "cell_type": "code",
   "execution_count": 28,
   "metadata": {
    "scrolled": true
   },
   "outputs": [
    {
     "data": {
      "text/html": [
       "<div>\n",
       "<style scoped>\n",
       "    .dataframe tbody tr th:only-of-type {\n",
       "        vertical-align: middle;\n",
       "    }\n",
       "\n",
       "    .dataframe tbody tr th {\n",
       "        vertical-align: top;\n",
       "    }\n",
       "\n",
       "    .dataframe thead th {\n",
       "        text-align: right;\n",
       "    }\n",
       "</style>\n",
       "<table border=\"1\" class=\"dataframe\">\n",
       "  <thead>\n",
       "    <tr style=\"text-align: right;\">\n",
       "      <th></th>\n",
       "      <th>belongs_to_collection</th>\n",
       "      <th>budget</th>\n",
       "      <th>genres</th>\n",
       "      <th>original_language</th>\n",
       "      <th>production_companies</th>\n",
       "      <th>revenue</th>\n",
       "      <th>runtime</th>\n",
       "      <th>title</th>\n",
       "      <th>keywords</th>\n",
       "      <th>release_year</th>\n",
       "      <th>...</th>\n",
       "      <th>Crime</th>\n",
       "      <th>Mystery</th>\n",
       "      <th>Music</th>\n",
       "      <th>TV Movie</th>\n",
       "      <th>War</th>\n",
       "      <th>Documentary</th>\n",
       "      <th>Foreign</th>\n",
       "      <th>Science Fiction</th>\n",
       "      <th>Action</th>\n",
       "      <th>Genres_count</th>\n",
       "    </tr>\n",
       "  </thead>\n",
       "  <tbody>\n",
       "    <tr>\n",
       "      <th>0</th>\n",
       "      <td>1</td>\n",
       "      <td>30000000.0</td>\n",
       "      <td>[Animation, Comedy, Family]</td>\n",
       "      <td>en</td>\n",
       "      <td>[Pixar Animation Studios]</td>\n",
       "      <td>373554033.0</td>\n",
       "      <td>81.0</td>\n",
       "      <td>Toy Story</td>\n",
       "      <td>[jealousy, toy, boy, friendship, friends, riva...</td>\n",
       "      <td>1995.0</td>\n",
       "      <td>...</td>\n",
       "      <td>0</td>\n",
       "      <td>0</td>\n",
       "      <td>0</td>\n",
       "      <td>0</td>\n",
       "      <td>0</td>\n",
       "      <td>0</td>\n",
       "      <td>0</td>\n",
       "      <td>0</td>\n",
       "      <td>0</td>\n",
       "      <td>3</td>\n",
       "    </tr>\n",
       "    <tr>\n",
       "      <th>1</th>\n",
       "      <td>0</td>\n",
       "      <td>65000000.0</td>\n",
       "      <td>[Adventure, Fantasy, Family]</td>\n",
       "      <td>en</td>\n",
       "      <td>[TriStar Pictures, Teitler Film, Interscope Co...</td>\n",
       "      <td>262797249.0</td>\n",
       "      <td>104.0</td>\n",
       "      <td>Jumanji</td>\n",
       "      <td>[board game, disappearance, based on children'...</td>\n",
       "      <td>1995.0</td>\n",
       "      <td>...</td>\n",
       "      <td>0</td>\n",
       "      <td>0</td>\n",
       "      <td>0</td>\n",
       "      <td>0</td>\n",
       "      <td>0</td>\n",
       "      <td>0</td>\n",
       "      <td>0</td>\n",
       "      <td>0</td>\n",
       "      <td>0</td>\n",
       "      <td>3</td>\n",
       "    </tr>\n",
       "    <tr>\n",
       "      <th>2</th>\n",
       "      <td>0</td>\n",
       "      <td>16000000.0</td>\n",
       "      <td>[Comedy, Drama, Romance]</td>\n",
       "      <td>en</td>\n",
       "      <td>[Twentieth Century Fox Film Corporation]</td>\n",
       "      <td>81452156.0</td>\n",
       "      <td>127.0</td>\n",
       "      <td>Waiting to Exhale</td>\n",
       "      <td>[based on novel, interracial relationship, sin...</td>\n",
       "      <td>1995.0</td>\n",
       "      <td>...</td>\n",
       "      <td>0</td>\n",
       "      <td>0</td>\n",
       "      <td>0</td>\n",
       "      <td>0</td>\n",
       "      <td>0</td>\n",
       "      <td>0</td>\n",
       "      <td>0</td>\n",
       "      <td>0</td>\n",
       "      <td>0</td>\n",
       "      <td>3</td>\n",
       "    </tr>\n",
       "    <tr>\n",
       "      <th>3</th>\n",
       "      <td>1</td>\n",
       "      <td>NaN</td>\n",
       "      <td>[Comedy]</td>\n",
       "      <td>en</td>\n",
       "      <td>[Sandollar Productions, Touchstone Pictures]</td>\n",
       "      <td>76578911.0</td>\n",
       "      <td>106.0</td>\n",
       "      <td>Father of the Bride Part II</td>\n",
       "      <td>[baby, midlife crisis, confidence, aging, daug...</td>\n",
       "      <td>1995.0</td>\n",
       "      <td>...</td>\n",
       "      <td>0</td>\n",
       "      <td>0</td>\n",
       "      <td>0</td>\n",
       "      <td>0</td>\n",
       "      <td>0</td>\n",
       "      <td>0</td>\n",
       "      <td>0</td>\n",
       "      <td>0</td>\n",
       "      <td>0</td>\n",
       "      <td>1</td>\n",
       "    </tr>\n",
       "    <tr>\n",
       "      <th>4</th>\n",
       "      <td>0</td>\n",
       "      <td>60000000.0</td>\n",
       "      <td>[Action, Crime, Drama, Thriller]</td>\n",
       "      <td>en</td>\n",
       "      <td>[Regency Enterprises, Forward Pass, Warner Bros.]</td>\n",
       "      <td>187436818.0</td>\n",
       "      <td>170.0</td>\n",
       "      <td>Heat</td>\n",
       "      <td>[robbery, detective, bank, obsession, chase, s...</td>\n",
       "      <td>1995.0</td>\n",
       "      <td>...</td>\n",
       "      <td>1</td>\n",
       "      <td>0</td>\n",
       "      <td>0</td>\n",
       "      <td>0</td>\n",
       "      <td>0</td>\n",
       "      <td>0</td>\n",
       "      <td>0</td>\n",
       "      <td>0</td>\n",
       "      <td>1</td>\n",
       "      <td>4</td>\n",
       "    </tr>\n",
       "  </tbody>\n",
       "</table>\n",
       "<p>5 rows × 38 columns</p>\n",
       "</div>"
      ],
      "text/plain": [
       "   belongs_to_collection      budget                            genres  \\\n",
       "0                      1  30000000.0       [Animation, Comedy, Family]   \n",
       "1                      0  65000000.0      [Adventure, Fantasy, Family]   \n",
       "2                      0  16000000.0          [Comedy, Drama, Romance]   \n",
       "3                      1         NaN                          [Comedy]   \n",
       "4                      0  60000000.0  [Action, Crime, Drama, Thriller]   \n",
       "\n",
       "  original_language                               production_companies  \\\n",
       "0                en                          [Pixar Animation Studios]   \n",
       "1                en  [TriStar Pictures, Teitler Film, Interscope Co...   \n",
       "2                en           [Twentieth Century Fox Film Corporation]   \n",
       "3                en       [Sandollar Productions, Touchstone Pictures]   \n",
       "4                en  [Regency Enterprises, Forward Pass, Warner Bros.]   \n",
       "\n",
       "       revenue  runtime                        title  \\\n",
       "0  373554033.0     81.0                    Toy Story   \n",
       "1  262797249.0    104.0                      Jumanji   \n",
       "2   81452156.0    127.0            Waiting to Exhale   \n",
       "3   76578911.0    106.0  Father of the Bride Part II   \n",
       "4  187436818.0    170.0                         Heat   \n",
       "\n",
       "                                            keywords  release_year  \\\n",
       "0  [jealousy, toy, boy, friendship, friends, riva...        1995.0   \n",
       "1  [board game, disappearance, based on children'...        1995.0   \n",
       "2  [based on novel, interracial relationship, sin...        1995.0   \n",
       "3  [baby, midlife crisis, confidence, aging, daug...        1995.0   \n",
       "4  [robbery, detective, bank, obsession, chase, s...        1995.0   \n",
       "\n",
       "       ...       Crime  Mystery Music TV Movie War Documentary Foreign  \\\n",
       "0      ...           0        0     0        0   0           0       0   \n",
       "1      ...           0        0     0        0   0           0       0   \n",
       "2      ...           0        0     0        0   0           0       0   \n",
       "3      ...           0        0     0        0   0           0       0   \n",
       "4      ...           1        0     0        0   0           0       0   \n",
       "\n",
       "   Science Fiction  Action  Genres_count  \n",
       "0                0       0             3  \n",
       "1                0       0             3  \n",
       "2                0       0             3  \n",
       "3                0       0             1  \n",
       "4                0       1             4  \n",
       "\n",
       "[5 rows x 38 columns]"
      ]
     },
     "execution_count": 28,
     "metadata": {},
     "output_type": "execute_result"
    }
   ],
   "source": [
    "reves.head()"
   ]
  },
  {
   "cell_type": "markdown",
   "metadata": {},
   "source": [
    " \n",
    " \n",
    "#### Original Language"
   ]
  },
  {
   "cell_type": "markdown",
   "metadata": {},
   "source": [
    "As we stablished in the preliminar exploration, we will transform this feature into a categorical variable with 2 possible values:\n",
    "\n",
    "    - English = 1\n",
    "    - Not english = 0"
   ]
  },
  {
   "cell_type": "code",
   "execution_count": 30,
   "metadata": {},
   "outputs": [],
   "source": [
    "reves[\"original_language\"] = reves[\"original_language\"].apply(lambda x: 1 if x==\"en\" else 0)"
   ]
  },
  {
   "cell_type": "markdown",
   "metadata": {},
   "source": [
    "  \n",
    "#### Production company"
   ]
  },
  {
   "cell_type": "code",
   "execution_count": 31,
   "metadata": {},
   "outputs": [],
   "source": [
    "reves[\"production_companies_count\"]=lenght_column(\"production_companies\")"
   ]
  },
  {
   "cell_type": "markdown",
   "metadata": {},
   "source": [
    "\n",
    "#### Cast"
   ]
  },
  {
   "cell_type": "code",
   "execution_count": 32,
   "metadata": {},
   "outputs": [],
   "source": [
    "reves[\"number_of_characters\"]=lenght_column(\"cast_names\")"
   ]
  }
 ],
 "metadata": {
  "kernelspec": {
   "display_name": "Python 3",
   "language": "python",
   "name": "python3"
  },
  "language_info": {
   "codemirror_mode": {
    "name": "ipython",
    "version": 3
   },
   "file_extension": ".py",
   "mimetype": "text/x-python",
   "name": "python",
   "nbconvert_exporter": "python",
   "pygments_lexer": "ipython3",
   "version": "3.6.5"
  }
 },
 "nbformat": 4,
 "nbformat_minor": 2
}
