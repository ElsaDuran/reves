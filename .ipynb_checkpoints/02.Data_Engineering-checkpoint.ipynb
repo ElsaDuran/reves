{
 "cells": [
  {
   "cell_type": "markdown",
   "metadata": {},
   "source": [
    "# 02. Data Engineering"
   ]
  },
  {
   "cell_type": "markdown",
   "metadata": {},
   "source": [
    "In this notebook, we will transform the data to fit the format required for our model and we will create new features to add valuable info to it. \n",
    "\n",
    "To start this notebook we will use the DataFrame we generated in Cleaning_Data."
   ]
  },
  {
   "cell_type": "markdown",
   "metadata": {},
   "source": [
    "## Loading libraries and data"
   ]
  },
  {
   "cell_type": "code",
   "execution_count": 53,
   "metadata": {},
   "outputs": [],
   "source": [
    "import pandas as pd\n",
    "import revesFunctions as rf\n",
    "import matplotlib.pyplot as plt\n",
    "%matplotlib inline\n",
    "plt.style.use('ggplot')\n",
    "import pickle"
   ]
  },
  {
   "cell_type": "code",
   "execution_count": 27,
   "metadata": {
    "scrolled": true
   },
   "outputs": [],
   "source": [
    "reves = pd.read_pickle(\"data/cleaned_reves_df.pkl\")"
   ]
  },
  {
   "cell_type": "code",
   "execution_count": 28,
   "metadata": {
    "scrolled": true
   },
   "outputs": [
    {
     "data": {
      "text/html": [
       "<div>\n",
       "<style scoped>\n",
       "    .dataframe tbody tr th:only-of-type {\n",
       "        vertical-align: middle;\n",
       "    }\n",
       "\n",
       "    .dataframe tbody tr th {\n",
       "        vertical-align: top;\n",
       "    }\n",
       "\n",
       "    .dataframe thead th {\n",
       "        text-align: right;\n",
       "    }\n",
       "</style>\n",
       "<table border=\"1\" class=\"dataframe\">\n",
       "  <thead>\n",
       "    <tr style=\"text-align: right;\">\n",
       "      <th></th>\n",
       "      <th>directors</th>\n",
       "      <th>writers</th>\n",
       "      <th>belongs_to_collection</th>\n",
       "      <th>genres</th>\n",
       "      <th>original_language</th>\n",
       "      <th>production_companies</th>\n",
       "      <th>revenue</th>\n",
       "      <th>runtime</th>\n",
       "      <th>title</th>\n",
       "      <th>keywords</th>\n",
       "      <th>release_year</th>\n",
       "      <th>release_month</th>\n",
       "      <th>release_weekday</th>\n",
       "      <th>cast_names</th>\n",
       "      <th>cast_gender</th>\n",
       "    </tr>\n",
       "  </thead>\n",
       "  <tbody>\n",
       "    <tr>\n",
       "      <th>2073</th>\n",
       "      <td>[Martin Campbell]</td>\n",
       "      <td>[Richard Herley, Michael Gaylin, Joel Gross]</td>\n",
       "      <td>NaN</td>\n",
       "      <td>[Action, Drama, Science Fiction, Thriller]</td>\n",
       "      <td>en</td>\n",
       "      <td>[Columbia Pictures Corporation, Pacific Wester...</td>\n",
       "      <td>15340000.0</td>\n",
       "      <td>118.0</td>\n",
       "      <td>No Escape</td>\n",
       "      <td>[prison, island, chase, dystopia, prison guard...</td>\n",
       "      <td>1994.0</td>\n",
       "      <td>4.0</td>\n",
       "      <td>4.0</td>\n",
       "      <td>[Ray Liotta, Lance Henriksen, Stuart Wilson, K...</td>\n",
       "      <td>[2, 2, 2, 2, 2, 2, 2, 2, 2, 2, 2, 0, 0, 2, 0, ...</td>\n",
       "    </tr>\n",
       "    <tr>\n",
       "      <th>470</th>\n",
       "      <td>[Blake Edwards]</td>\n",
       "      <td>[Frank Waldman, Blake Edwards]</td>\n",
       "      <td>The Pink Panther (Original) Collection</td>\n",
       "      <td>[Mystery, Comedy, Crime]</td>\n",
       "      <td>en</td>\n",
       "      <td>[United Artists, Jewel Productions, Pimlico Fi...</td>\n",
       "      <td>41833347.0</td>\n",
       "      <td>113.0</td>\n",
       "      <td>The Return of the Pink Panther</td>\n",
       "      <td>[robbery, diamant, côte d'azur, inspector, pan...</td>\n",
       "      <td>1975.0</td>\n",
       "      <td>5.0</td>\n",
       "      <td>2.0</td>\n",
       "      <td>[Peter Sellers, Christopher Plummer, Herbert L...</td>\n",
       "      <td>[2, 2, 2, 1, 2, 2, 2, 2, 2, 2, 2, 2, 2, 2, 2, ...</td>\n",
       "    </tr>\n",
       "    <tr>\n",
       "      <th>1320</th>\n",
       "      <td>[Joan Micklin Silver]</td>\n",
       "      <td>[Susan Sandler]</td>\n",
       "      <td>NaN</td>\n",
       "      <td>[Comedy, Drama, Romance]</td>\n",
       "      <td>en</td>\n",
       "      <td>[Warner Bros.]</td>\n",
       "      <td>16262415.0</td>\n",
       "      <td>97.0</td>\n",
       "      <td>Crossing Delancey</td>\n",
       "      <td>[matchmaking, woman director, pickles]</td>\n",
       "      <td>1988.0</td>\n",
       "      <td>9.0</td>\n",
       "      <td>4.0</td>\n",
       "      <td>[Amy Irving, Peter Riegert, Reizl Bozyk, Jeroe...</td>\n",
       "      <td>[1, 2, 0, 0, 1, 2, 2, 1, 2]</td>\n",
       "    </tr>\n",
       "    <tr>\n",
       "      <th>6257</th>\n",
       "      <td>[Drake Doremus]</td>\n",
       "      <td>[Drake Doremus, Ben York Jones]</td>\n",
       "      <td>NaN</td>\n",
       "      <td>[Drama]</td>\n",
       "      <td>en</td>\n",
       "      <td>[Indian Paintbrush, Super Crispy Entertainment]</td>\n",
       "      <td>15000.0</td>\n",
       "      <td>98.0</td>\n",
       "      <td>Breathe In</td>\n",
       "      <td>[new york, exchange, marriage, crisis, party, ...</td>\n",
       "      <td>2013.0</td>\n",
       "      <td>1.0</td>\n",
       "      <td>4.0</td>\n",
       "      <td>[Guy Pearce, Felicity Jones, Amy Ryan, Mackenz...</td>\n",
       "      <td>[2, 1, 1, 1, 2, 0, 1, 0, 2, 0, 1, 0, 1, 2, 2]</td>\n",
       "    </tr>\n",
       "    <tr>\n",
       "      <th>6442</th>\n",
       "      <td>[Kevin Macdonald]</td>\n",
       "      <td>[Dennis Kelly]</td>\n",
       "      <td>NaN</td>\n",
       "      <td>[Adventure]</td>\n",
       "      <td>en</td>\n",
       "      <td>[Cowboy Films, Film4, Focus Features]</td>\n",
       "      <td>1171559.0</td>\n",
       "      <td>115.0</td>\n",
       "      <td>Black Sea</td>\n",
       "      <td>[submarine, captain]</td>\n",
       "      <td>2014.0</td>\n",
       "      <td>12.0</td>\n",
       "      <td>4.0</td>\n",
       "      <td>[Jude Law, Karl Davies, Jodie Whittaker, Danie...</td>\n",
       "      <td>[2, 2, 1, 0, 2, 2, 2, 2, 2, 0, 0, 2, 2, 2, 0, ...</td>\n",
       "    </tr>\n",
       "  </tbody>\n",
       "</table>\n",
       "</div>"
      ],
      "text/plain": [
       "                  directors                                       writers  \\\n",
       "2073      [Martin Campbell]  [Richard Herley, Michael Gaylin, Joel Gross]   \n",
       "470         [Blake Edwards]                [Frank Waldman, Blake Edwards]   \n",
       "1320  [Joan Micklin Silver]                               [Susan Sandler]   \n",
       "6257        [Drake Doremus]               [Drake Doremus, Ben York Jones]   \n",
       "6442      [Kevin Macdonald]                                [Dennis Kelly]   \n",
       "\n",
       "                       belongs_to_collection  \\\n",
       "2073                                     NaN   \n",
       "470   The Pink Panther (Original) Collection   \n",
       "1320                                     NaN   \n",
       "6257                                     NaN   \n",
       "6442                                     NaN   \n",
       "\n",
       "                                          genres original_language  \\\n",
       "2073  [Action, Drama, Science Fiction, Thriller]                en   \n",
       "470                     [Mystery, Comedy, Crime]                en   \n",
       "1320                    [Comedy, Drama, Romance]                en   \n",
       "6257                                     [Drama]                en   \n",
       "6442                                 [Adventure]                en   \n",
       "\n",
       "                                   production_companies     revenue  runtime  \\\n",
       "2073  [Columbia Pictures Corporation, Pacific Wester...  15340000.0    118.0   \n",
       "470   [United Artists, Jewel Productions, Pimlico Fi...  41833347.0    113.0   \n",
       "1320                                     [Warner Bros.]  16262415.0     97.0   \n",
       "6257    [Indian Paintbrush, Super Crispy Entertainment]     15000.0     98.0   \n",
       "6442              [Cowboy Films, Film4, Focus Features]   1171559.0    115.0   \n",
       "\n",
       "                               title  \\\n",
       "2073                       No Escape   \n",
       "470   The Return of the Pink Panther   \n",
       "1320               Crossing Delancey   \n",
       "6257                      Breathe In   \n",
       "6442                       Black Sea   \n",
       "\n",
       "                                               keywords  release_year  \\\n",
       "2073  [prison, island, chase, dystopia, prison guard...        1994.0   \n",
       "470   [robbery, diamant, côte d'azur, inspector, pan...        1975.0   \n",
       "1320             [matchmaking, woman director, pickles]        1988.0   \n",
       "6257  [new york, exchange, marriage, crisis, party, ...        2013.0   \n",
       "6442                               [submarine, captain]        2014.0   \n",
       "\n",
       "      release_month  release_weekday  \\\n",
       "2073            4.0              4.0   \n",
       "470             5.0              2.0   \n",
       "1320            9.0              4.0   \n",
       "6257            1.0              4.0   \n",
       "6442           12.0              4.0   \n",
       "\n",
       "                                             cast_names  \\\n",
       "2073  [Ray Liotta, Lance Henriksen, Stuart Wilson, K...   \n",
       "470   [Peter Sellers, Christopher Plummer, Herbert L...   \n",
       "1320  [Amy Irving, Peter Riegert, Reizl Bozyk, Jeroe...   \n",
       "6257  [Guy Pearce, Felicity Jones, Amy Ryan, Mackenz...   \n",
       "6442  [Jude Law, Karl Davies, Jodie Whittaker, Danie...   \n",
       "\n",
       "                                            cast_gender  \n",
       "2073  [2, 2, 2, 2, 2, 2, 2, 2, 2, 2, 2, 0, 0, 2, 0, ...  \n",
       "470   [2, 2, 2, 1, 2, 2, 2, 2, 2, 2, 2, 2, 2, 2, 2, ...  \n",
       "1320                        [1, 2, 0, 0, 1, 2, 2, 1, 2]  \n",
       "6257      [2, 1, 1, 1, 2, 0, 1, 0, 2, 0, 1, 0, 1, 2, 2]  \n",
       "6442  [2, 2, 1, 0, 2, 2, 2, 2, 2, 0, 0, 2, 2, 2, 0, ...  "
      ]
     },
     "execution_count": 28,
     "metadata": {},
     "output_type": "execute_result"
    }
   ],
   "source": [
    "reves.sample(5)"
   ]
  },
  {
   "cell_type": "markdown",
   "metadata": {},
   "source": [
    "## Let's perform some data transformation"
   ]
  },
  {
   "cell_type": "markdown",
   "metadata": {},
   "source": [
    "#### Revenue & Release Year"
   ]
  },
  {
   "cell_type": "markdown",
   "metadata": {},
   "source": [
    "First of all, we should transform the value to predict: revenue. Why? Becasuse we ought to know that the price of money has changed through the years, and we have movies in our dataset released since 1930 to 2015.The $100 milions raised on 1950 are definetely not worth the same than today. Movie theatre's ticket price has also changed, and we need to find a way to balance between values from different years.\n",
    "\n",
    "To do so we have used an external data source to perform a CPI-based transformation. You can find de data and the explanation of how we've transformed the values here:"
   ]
  },
  {
   "cell_type": "markdown",
   "metadata": {},
   "source": [
    "- Data: https://www.usinflationcalculator.com/inflation/consumer-price-index-and-annual-percent-changes-from-1913-to-2008/\n",
    "\n",
    "- Process: https://www.usinflationcalculator.com/frequently-asked-questions-faqs/#HowInflationCalculatorWorks"
   ]
  },
  {
   "cell_type": "markdown",
   "metadata": {},
   "source": [
    "The data from the above-linked source has been downloaded as a .xslx file to be used with Pandas. Data has been transformed up to 2017. "
   ]
  },
  {
   "cell_type": "code",
   "execution_count": 29,
   "metadata": {},
   "outputs": [],
   "source": [
    "cpi_df = pd.read_excel(\"data/CPI_data.xlsx\")\n",
    "cpi_dict = dict(zip(cpi_df[\"Year\"], cpi_df[\"Avg\"]))\n",
    "reves[\"cpi\"] = reves[\"release_year\"].apply(lambda x: cpi_dict[x] if x in cpi_dict else 0)\n",
    "reves[\"revenue_inflated\"] = reves[\"revenue\"] * (cpi_dict[2017] / reves[\"cpi\"])"
   ]
  },
  {
   "cell_type": "code",
   "execution_count": 30,
   "metadata": {
    "scrolled": false
   },
   "outputs": [
    {
     "data": {
      "text/html": [
       "<div>\n",
       "<style scoped>\n",
       "    .dataframe tbody tr th:only-of-type {\n",
       "        vertical-align: middle;\n",
       "    }\n",
       "\n",
       "    .dataframe tbody tr th {\n",
       "        vertical-align: top;\n",
       "    }\n",
       "\n",
       "    .dataframe thead th {\n",
       "        text-align: right;\n",
       "    }\n",
       "</style>\n",
       "<table border=\"1\" class=\"dataframe\">\n",
       "  <thead>\n",
       "    <tr style=\"text-align: right;\">\n",
       "      <th></th>\n",
       "      <th>revenue</th>\n",
       "      <th>revenue_inflated</th>\n",
       "      <th>release_year</th>\n",
       "      <th>title</th>\n",
       "    </tr>\n",
       "  </thead>\n",
       "  <tbody>\n",
       "    <tr>\n",
       "      <th>58</th>\n",
       "      <td>4.001765e+08</td>\n",
       "      <td>7.056925e+09</td>\n",
       "      <td>1939.0</td>\n",
       "      <td>Gone with the Wind</td>\n",
       "    </tr>\n",
       "    <tr>\n",
       "      <th>123</th>\n",
       "      <td>5.720000e+08</td>\n",
       "      <td>5.392640e+09</td>\n",
       "      <td>1951.0</td>\n",
       "      <td>Alice in Wonderland</td>\n",
       "    </tr>\n",
       "    <tr>\n",
       "      <th>75</th>\n",
       "      <td>2.674472e+08</td>\n",
       "      <td>4.021880e+09</td>\n",
       "      <td>1942.0</td>\n",
       "      <td>Bambi</td>\n",
       "    </tr>\n",
       "    <tr>\n",
       "      <th>4537</th>\n",
       "      <td>2.787965e+09</td>\n",
       "      <td>3.185399e+09</td>\n",
       "      <td>2009.0</td>\n",
       "      <td>Avatar</td>\n",
       "    </tr>\n",
       "    <tr>\n",
       "      <th>54</th>\n",
       "      <td>1.849255e+08</td>\n",
       "      <td>3.147843e+09</td>\n",
       "      <td>1937.0</td>\n",
       "      <td>Snow White and the Seven Dwarfs</td>\n",
       "    </tr>\n",
       "  </tbody>\n",
       "</table>\n",
       "</div>"
      ],
      "text/plain": [
       "           revenue  revenue_inflated  release_year  \\\n",
       "58    4.001765e+08      7.056925e+09        1939.0   \n",
       "123   5.720000e+08      5.392640e+09        1951.0   \n",
       "75    2.674472e+08      4.021880e+09        1942.0   \n",
       "4537  2.787965e+09      3.185399e+09        2009.0   \n",
       "54    1.849255e+08      3.147843e+09        1937.0   \n",
       "\n",
       "                                title  \n",
       "58                 Gone with the Wind  \n",
       "123               Alice in Wonderland  \n",
       "75                              Bambi  \n",
       "4537                           Avatar  \n",
       "54    Snow White and the Seven Dwarfs  "
      ]
     },
     "execution_count": 30,
     "metadata": {},
     "output_type": "execute_result"
    }
   ],
   "source": [
    "reves[[\"revenue\", \"revenue_inflated\", \"release_year\", \"title\"]].sort_values(by = \"revenue_inflated\", ascending = False).head(5)"
   ]
  },
  {
   "cell_type": "markdown",
   "metadata": {},
   "source": [
    "As we see, results are not the same if we compare the top revenue ranking with and without the transformation performed."
   ]
  },
  {
   "cell_type": "code",
   "execution_count": 31,
   "metadata": {},
   "outputs": [
    {
     "name": "stdout",
     "output_type": "stream",
     "text": [
      "Top movie (original revenue)\n"
     ]
    },
    {
     "data": {
      "text/html": [
       "<div>\n",
       "<style scoped>\n",
       "    .dataframe tbody tr th:only-of-type {\n",
       "        vertical-align: middle;\n",
       "    }\n",
       "\n",
       "    .dataframe tbody tr th {\n",
       "        vertical-align: top;\n",
       "    }\n",
       "\n",
       "    .dataframe thead th {\n",
       "        text-align: right;\n",
       "    }\n",
       "</style>\n",
       "<table border=\"1\" class=\"dataframe\">\n",
       "  <thead>\n",
       "    <tr style=\"text-align: right;\">\n",
       "      <th></th>\n",
       "      <th>revenue</th>\n",
       "      <th>revenue_inflated</th>\n",
       "      <th>release_year</th>\n",
       "      <th>title</th>\n",
       "    </tr>\n",
       "  </thead>\n",
       "  <tbody>\n",
       "    <tr>\n",
       "      <th>4537</th>\n",
       "      <td>2.787965e+09</td>\n",
       "      <td>3.185399e+09</td>\n",
       "      <td>2009.0</td>\n",
       "      <td>Avatar</td>\n",
       "    </tr>\n",
       "  </tbody>\n",
       "</table>\n",
       "</div>"
      ],
      "text/plain": [
       "           revenue  revenue_inflated  release_year   title\n",
       "4537  2.787965e+09      3.185399e+09        2009.0  Avatar"
      ]
     },
     "execution_count": 31,
     "metadata": {},
     "output_type": "execute_result"
    }
   ],
   "source": [
    "print(\"Top movie (original revenue)\")\n",
    "reves[[\"revenue\", \"revenue_inflated\", \"release_year\", \"title\"]].sort_values(by = \"revenue\", ascending = False).head(1)"
   ]
  },
  {
   "cell_type": "code",
   "execution_count": 32,
   "metadata": {},
   "outputs": [
    {
     "name": "stdout",
     "output_type": "stream",
     "text": [
      "Top movie (revenue inflated)\n"
     ]
    },
    {
     "data": {
      "text/html": [
       "<div>\n",
       "<style scoped>\n",
       "    .dataframe tbody tr th:only-of-type {\n",
       "        vertical-align: middle;\n",
       "    }\n",
       "\n",
       "    .dataframe tbody tr th {\n",
       "        vertical-align: top;\n",
       "    }\n",
       "\n",
       "    .dataframe thead th {\n",
       "        text-align: right;\n",
       "    }\n",
       "</style>\n",
       "<table border=\"1\" class=\"dataframe\">\n",
       "  <thead>\n",
       "    <tr style=\"text-align: right;\">\n",
       "      <th></th>\n",
       "      <th>revenue</th>\n",
       "      <th>revenue_inflated</th>\n",
       "      <th>release_year</th>\n",
       "      <th>title</th>\n",
       "    </tr>\n",
       "  </thead>\n",
       "  <tbody>\n",
       "    <tr>\n",
       "      <th>58</th>\n",
       "      <td>400176459.0</td>\n",
       "      <td>7.056925e+09</td>\n",
       "      <td>1939.0</td>\n",
       "      <td>Gone with the Wind</td>\n",
       "    </tr>\n",
       "  </tbody>\n",
       "</table>\n",
       "</div>"
      ],
      "text/plain": [
       "        revenue  revenue_inflated  release_year               title\n",
       "58  400176459.0      7.056925e+09        1939.0  Gone with the Wind"
      ]
     },
     "execution_count": 32,
     "metadata": {},
     "output_type": "execute_result"
    }
   ],
   "source": [
    "print(\"Top movie (revenue inflated)\")\n",
    "reves[[\"revenue\", \"revenue_inflated\", \"release_year\", \"title\"]].sort_values(by = \"revenue_inflated\", ascending = False).head(1)"
   ]
  },
  {
   "cell_type": "markdown",
   "metadata": {},
   "source": [
    "#### Belongs to collection"
   ]
  },
  {
   "cell_type": "markdown",
   "metadata": {},
   "source": [
    "As seen in the previous notebook, whether a movie that belongs to a collection or franchise or not influences the potential revenue. Mean-talking, a movie that do belongs to a series has a higher revenue value than the ones that doesn't. We have also established that some of those collections raise more money than others. That is why we are not only informing our model with a one hot encoding variable. Instead of that, we are using the name of the collection itself to get a more accurate prediction of the revenue. \n",
    "\n",
    "The engineering performed in this case consists on assigning to each movie a score based on the mean-revenue value raised by it's collection or franchise. When the movie doesn't belong to any collection, the assigned score will be the mean revenue of all the non-collection movies, which is the same as saying that the value will be the mean revenue for the \"No\" collection movies."
   ]
  },
  {
   "cell_type": "markdown",
   "metadata": {},
   "source": [
    "To do this, we will import 2 own functions defined in RevesFunctions library.\n",
    "* word_mean\n",
    "* get_mean\n",
    "\n",
    "Prior to this processing, we will apply a text-cleaning removing special characters, orthografic accents, and removing capital letters. This process should also be applied later to the data we use when making predictions. "
   ]
  },
  {
   "cell_type": "code",
   "execution_count": 33,
   "metadata": {},
   "outputs": [
    {
     "name": "stderr",
     "output_type": "stream",
     "text": [
      "C:\\Users\\Elsa\\Documents\\GitHub\\reves\\revesFunctions.py:79: FutureWarning: get_value is deprecated and will be removed in a future release. Please use .at[] or .iat[] accessors instead\n",
      "  word_mean_dict[name] = dataframe.get_value(i, variable) / counter[name]\n",
      "C:\\Users\\Elsa\\Documents\\GitHub\\reves\\revesFunctions.py:81: FutureWarning: get_value is deprecated and will be removed in a future release. Please use .at[] or .iat[] accessors instead\n",
      "  word_mean_dict[name] = word_mean_dict[name] + (dataframe.get_value(i, variable) / counter[name])\n"
     ]
    }
   ],
   "source": [
    "reves[\"belongs_to_collection\"] = reves[\"belongs_to_collection\"].apply(lambda x: [\"no\"] if pd.isnull(x) else [x])\n",
    "reves[\"belongs_to_collection\"] = reves[\"belongs_to_collection\"].apply(lambda x: [rf.clean(name) for name in x])\n",
    "collection_dict = rf.word_mean(reves, \"belongs_to_collection\", \"revenue_inflated\")\n",
    "reves[\"collection_score\"] = reves[\"belongs_to_collection\"].apply(rf.get_mean, variable_mean_dict = collection_dict)"
   ]
  },
  {
   "cell_type": "code",
   "execution_count": 34,
   "metadata": {},
   "outputs": [
    {
     "data": {
      "text/html": [
       "<div>\n",
       "<style scoped>\n",
       "    .dataframe tbody tr th:only-of-type {\n",
       "        vertical-align: middle;\n",
       "    }\n",
       "\n",
       "    .dataframe tbody tr th {\n",
       "        vertical-align: top;\n",
       "    }\n",
       "\n",
       "    .dataframe thead th {\n",
       "        text-align: right;\n",
       "    }\n",
       "</style>\n",
       "<table border=\"1\" class=\"dataframe\">\n",
       "  <thead>\n",
       "    <tr style=\"text-align: right;\">\n",
       "      <th></th>\n",
       "      <th>collection_score</th>\n",
       "      <th>belongs_to_collection</th>\n",
       "      <th>revenue</th>\n",
       "      <th>title</th>\n",
       "    </tr>\n",
       "  </thead>\n",
       "  <tbody>\n",
       "    <tr>\n",
       "      <th>75</th>\n",
       "      <td>4.021880e+09</td>\n",
       "      <td>[bambi collection]</td>\n",
       "      <td>2.674472e+08</td>\n",
       "      <td>Bambi</td>\n",
       "    </tr>\n",
       "    <tr>\n",
       "      <th>4537</th>\n",
       "      <td>3.185399e+09</td>\n",
       "      <td>[avatar collection]</td>\n",
       "      <td>2.787965e+09</td>\n",
       "      <td>Avatar</td>\n",
       "    </tr>\n",
       "    <tr>\n",
       "      <th>118</th>\n",
       "      <td>2.680976e+09</td>\n",
       "      <td>[cinderella collection]</td>\n",
       "      <td>2.635914e+08</td>\n",
       "      <td>Cinderella</td>\n",
       "    </tr>\n",
       "    <tr>\n",
       "      <th>233</th>\n",
       "      <td>1.769783e+09</td>\n",
       "      <td>[101 dalmatians animated collection]</td>\n",
       "      <td>2.158800e+08</td>\n",
       "      <td>One Hundred and One Dalmatians</td>\n",
       "    </tr>\n",
       "    <tr>\n",
       "      <th>2666</th>\n",
       "      <td>1.584568e+09</td>\n",
       "      <td>[star wars collection]</td>\n",
       "      <td>8.500000e+08</td>\n",
       "      <td>Star Wars: Episode III - Revenge of the Sith</td>\n",
       "    </tr>\n",
       "  </tbody>\n",
       "</table>\n",
       "</div>"
      ],
      "text/plain": [
       "      collection_score                 belongs_to_collection       revenue  \\\n",
       "75        4.021880e+09                    [bambi collection]  2.674472e+08   \n",
       "4537      3.185399e+09                   [avatar collection]  2.787965e+09   \n",
       "118       2.680976e+09               [cinderella collection]  2.635914e+08   \n",
       "233       1.769783e+09  [101 dalmatians animated collection]  2.158800e+08   \n",
       "2666      1.584568e+09                [star wars collection]  8.500000e+08   \n",
       "\n",
       "                                             title  \n",
       "75                                           Bambi  \n",
       "4537                                        Avatar  \n",
       "118                                     Cinderella  \n",
       "233                 One Hundred and One Dalmatians  \n",
       "2666  Star Wars: Episode III - Revenge of the Sith  "
      ]
     },
     "execution_count": 34,
     "metadata": {},
     "output_type": "execute_result"
    }
   ],
   "source": [
    "reves[[\"collection_score\", \"belongs_to_collection\",\"revenue\", \"title\"]].sort_values(by = \"collection_score\", ascending = False).head(5)"
   ]
  },
  {
   "cell_type": "markdown",
   "metadata": {},
   "source": [
    "#### The score transformations"
   ]
  },
  {
   "cell_type": "markdown",
   "metadata": {},
   "source": [
    "The score transformation performed with Belongs to Collection will be the standard transfomation that we will apply to other features from now on during this notebook. We will ajust it depending on the feature itself and its values, but all of them will be based in this same criteria. \n",
    "\n",
    "We will do so because we plan on developing a XGboost model, but we have categorical variables that we must transform into numeric values in order to be used in the model. "
   ]
  },
  {
   "cell_type": "markdown",
   "metadata": {},
   "source": [
    "#### Genres"
   ]
  },
  {
   "cell_type": "markdown",
   "metadata": {},
   "source": [
    "In order to use data in Genres, we will drop rows with no values first. Then, we are going to check if the total ammount of genres assigned to a movie influence the potential revenue, as we think that the number of genres associated to a movie could be related to the complexity of the plot, and eventually to the movie's potential revenue."
   ]
  },
  {
   "cell_type": "code",
   "execution_count": 35,
   "metadata": {},
   "outputs": [],
   "source": [
    "reves = reves[reves[\"genres\"].str.len() != 0].reset_index(drop = True)\n",
    "reves[\"genres_count\"] = reves[\"genres\"].apply(lambda x: len(x))"
   ]
  },
  {
   "cell_type": "code",
   "execution_count": 36,
   "metadata": {
    "scrolled": true
   },
   "outputs": [
    {
     "data": {
      "image/png": "[encoded data removed]",
      "text/plain": [
       "<Figure size 720x360 with 1 Axes>"
      ]
     },
     "metadata": {},
     "output_type": "display_data"
    }
   ],
   "source": [
    "plt.subplots(figsize = (10, 5))\n",
    "plt.bar(reves.groupby(\"genres_count\")[\"genres_count\"].count().index\n",
    "         ,reves.groupby(\"genres_count\")[\"revenue\"].mean(),\n",
    "       color=\"green\",label=\"mean revenue\")\n",
    "plt.ylabel(\"Mean Revenue\", fontsize = 13)\n",
    "plt.xlabel(\"Genres Count\", fontsize = 13)\n",
    "plt.title(\"Does the number of genres affect the revenue?\");"
   ]
  },
  {
   "cell_type": "markdown",
   "metadata": {},
   "source": [
    "On the first iteration, we thought of creating one hot encoding columns for each of the genres, to indicate with 1 or 0 whether the movie had that genre assigned or not, but that would have added 20 columns to our model and that wouldn't have added any value. Finally we decided to transform this column applying to each movie a value obtained by generating the mean of the mean revenue for each genre assigned to it. "
   ]
  },
  {
   "cell_type": "code",
   "execution_count": 37,
   "metadata": {},
   "outputs": [
    {
     "name": "stderr",
     "output_type": "stream",
     "text": [
      "C:\\Users\\Elsa\\Documents\\GitHub\\reves\\revesFunctions.py:79: FutureWarning: get_value is deprecated and will be removed in a future release. Please use .at[] or .iat[] accessors instead\n",
      "  word_mean_dict[name] = dataframe.get_value(i, variable) / counter[name]\n",
      "C:\\Users\\Elsa\\Documents\\GitHub\\reves\\revesFunctions.py:81: FutureWarning: get_value is deprecated and will be removed in a future release. Please use .at[] or .iat[] accessors instead\n",
      "  word_mean_dict[name] = word_mean_dict[name] + (dataframe.get_value(i, variable) / counter[name])\n"
     ]
    }
   ],
   "source": [
    "reves[\"genres\"] = reves[\"genres\"].apply(lambda x: [rf.clean(name) for name in x])\n",
    "genres_dict = rf.word_mean(reves, \"genres\", \"revenue_inflated\")\n",
    "reves[\"genres_score\"] = reves[\"genres\"].apply(rf.get_mean, variable_mean_dict = genres_dict)"
   ]
  },
  {
   "cell_type": "code",
   "execution_count": 38,
   "metadata": {},
   "outputs": [
    {
     "data": {
      "text/html": [
       "<div>\n",
       "<style scoped>\n",
       "    .dataframe tbody tr th:only-of-type {\n",
       "        vertical-align: middle;\n",
       "    }\n",
       "\n",
       "    .dataframe tbody tr th {\n",
       "        vertical-align: top;\n",
       "    }\n",
       "\n",
       "    .dataframe thead th {\n",
       "        text-align: right;\n",
       "    }\n",
       "</style>\n",
       "<table border=\"1\" class=\"dataframe\">\n",
       "  <thead>\n",
       "    <tr style=\"text-align: right;\">\n",
       "      <th></th>\n",
       "      <th>genres</th>\n",
       "      <th>genres_score</th>\n",
       "      <th>revenue_inflated</th>\n",
       "      <th>title</th>\n",
       "    </tr>\n",
       "  </thead>\n",
       "  <tbody>\n",
       "    <tr>\n",
       "      <th>7036</th>\n",
       "      <td>[animation]</td>\n",
       "      <td>2.679820e+08</td>\n",
       "      <td>1.626846e+07</td>\n",
       "      <td>Mune: Guardian of the Moon</td>\n",
       "    </tr>\n",
       "    <tr>\n",
       "      <th>2958</th>\n",
       "      <td>[animation]</td>\n",
       "      <td>2.679820e+08</td>\n",
       "      <td>2.460894e+08</td>\n",
       "      <td>Pokémon: The First Movie: Mewtwo Strikes Back</td>\n",
       "    </tr>\n",
       "    <tr>\n",
       "      <th>2100</th>\n",
       "      <td>[animation]</td>\n",
       "      <td>2.679820e+08</td>\n",
       "      <td>1.616214e+07</td>\n",
       "      <td>The Swan Princess</td>\n",
       "    </tr>\n",
       "    <tr>\n",
       "      <th>6596</th>\n",
       "      <td>[animation]</td>\n",
       "      <td>2.679820e+08</td>\n",
       "      <td>2.546512e+08</td>\n",
       "      <td>The Peanuts Movie</td>\n",
       "    </tr>\n",
       "    <tr>\n",
       "      <th>983</th>\n",
       "      <td>[animation]</td>\n",
       "      <td>2.679820e+08</td>\n",
       "      <td>4.849706e+07</td>\n",
       "      <td>The Black Cauldron</td>\n",
       "    </tr>\n",
       "  </tbody>\n",
       "</table>\n",
       "</div>"
      ],
      "text/plain": [
       "           genres  genres_score  revenue_inflated  \\\n",
       "7036  [animation]  2.679820e+08      1.626846e+07   \n",
       "2958  [animation]  2.679820e+08      2.460894e+08   \n",
       "2100  [animation]  2.679820e+08      1.616214e+07   \n",
       "6596  [animation]  2.679820e+08      2.546512e+08   \n",
       "983   [animation]  2.679820e+08      4.849706e+07   \n",
       "\n",
       "                                              title  \n",
       "7036                     Mune: Guardian of the Moon  \n",
       "2958  Pokémon: The First Movie: Mewtwo Strikes Back  \n",
       "2100                              The Swan Princess  \n",
       "6596                              The Peanuts Movie  \n",
       "983                              The Black Cauldron  "
      ]
     },
     "execution_count": 38,
     "metadata": {},
     "output_type": "execute_result"
    }
   ],
   "source": [
    "reves[[\"genres\", \"genres_score\", \"revenue_inflated\", \"title\"]].sort_values(by = \"genres_score\", ascending = False).head(5)"
   ]
  },
  {
   "cell_type": "code",
   "execution_count": 39,
   "metadata": {},
   "outputs": [
    {
     "data": {
      "text/plain": [
       "['animation', 'adventure', 'family', 'fantasy', 'science fiction']"
      ]
     },
     "execution_count": 39,
     "metadata": {},
     "output_type": "execute_result"
    }
   ],
   "source": [
    "sorted(genres_dict, key = genres_dict.get, reverse = True)[:5]"
   ]
  },
  {
   "cell_type": "markdown",
   "metadata": {},
   "source": [
    " \n",
    " \n",
    "#### Original Language"
   ]
  },
  {
   "cell_type": "markdown",
   "metadata": {},
   "source": [
    "We'll do the same as before, now with Original Language: applying mean revenue value for each language."
   ]
  },
  {
   "cell_type": "code",
   "execution_count": 40,
   "metadata": {},
   "outputs": [
    {
     "name": "stderr",
     "output_type": "stream",
     "text": [
      "C:\\Users\\Elsa\\Documents\\GitHub\\reves\\revesFunctions.py:79: FutureWarning: get_value is deprecated and will be removed in a future release. Please use .at[] or .iat[] accessors instead\n",
      "  word_mean_dict[name] = dataframe.get_value(i, variable) / counter[name]\n",
      "C:\\Users\\Elsa\\Documents\\GitHub\\reves\\revesFunctions.py:81: FutureWarning: get_value is deprecated and will be removed in a future release. Please use .at[] or .iat[] accessors instead\n",
      "  word_mean_dict[name] = word_mean_dict[name] + (dataframe.get_value(i, variable) / counter[name])\n"
     ]
    }
   ],
   "source": [
    "reves[\"original_language\"] = reves[\"original_language\"].apply(lambda x: [x])\n",
    "reves[\"original_language\"] = reves[\"original_language\"].apply(lambda x: [rf.clean(name) for name in x])\n",
    "language_dict = rf.word_mean(reves, \"original_language\", \"revenue_inflated\")\n",
    "reves[\"language_score\"] = reves[\"original_language\"].apply(rf.get_mean, variable_mean_dict = language_dict)"
   ]
  },
  {
   "cell_type": "code",
   "execution_count": 41,
   "metadata": {},
   "outputs": [
    {
     "data": {
      "text/html": [
       "<div>\n",
       "<style scoped>\n",
       "    .dataframe tbody tr th:only-of-type {\n",
       "        vertical-align: middle;\n",
       "    }\n",
       "\n",
       "    .dataframe tbody tr th {\n",
       "        vertical-align: top;\n",
       "    }\n",
       "\n",
       "    .dataframe thead th {\n",
       "        text-align: right;\n",
       "    }\n",
       "</style>\n",
       "<table border=\"1\" class=\"dataframe\">\n",
       "  <thead>\n",
       "    <tr style=\"text-align: right;\">\n",
       "      <th></th>\n",
       "      <th>original_language</th>\n",
       "      <th>language_score</th>\n",
       "      <th>revenue_inflated</th>\n",
       "      <th>title</th>\n",
       "    </tr>\n",
       "  </thead>\n",
       "  <tbody>\n",
       "    <tr>\n",
       "      <th>0</th>\n",
       "      <td>[en]</td>\n",
       "      <td>1.188783e+08</td>\n",
       "      <td>2.669624e+08</td>\n",
       "      <td>The Birth of a Nation</td>\n",
       "    </tr>\n",
       "    <tr>\n",
       "      <th>4210</th>\n",
       "      <td>[en]</td>\n",
       "      <td>1.188783e+08</td>\n",
       "      <td>1.739583e+07</td>\n",
       "      <td>The Assassination of Jesse James by the Coward...</td>\n",
       "    </tr>\n",
       "    <tr>\n",
       "      <th>4208</th>\n",
       "      <td>[en]</td>\n",
       "      <td>1.188783e+08</td>\n",
       "      <td>9.474125e+07</td>\n",
       "      <td>The Sentinel</td>\n",
       "    </tr>\n",
       "    <tr>\n",
       "      <th>6768</th>\n",
       "      <td>[en]</td>\n",
       "      <td>1.188783e+08</td>\n",
       "      <td>3.126346e+07</td>\n",
       "      <td>Far from the Madding Crowd</td>\n",
       "    </tr>\n",
       "    <tr>\n",
       "      <th>4206</th>\n",
       "      <td>[en]</td>\n",
       "      <td>1.188783e+08</td>\n",
       "      <td>3.371057e+06</td>\n",
       "      <td>Killshot</td>\n",
       "    </tr>\n",
       "  </tbody>\n",
       "</table>\n",
       "</div>"
      ],
      "text/plain": [
       "     original_language  language_score  revenue_inflated  \\\n",
       "0                 [en]    1.188783e+08      2.669624e+08   \n",
       "4210              [en]    1.188783e+08      1.739583e+07   \n",
       "4208              [en]    1.188783e+08      9.474125e+07   \n",
       "6768              [en]    1.188783e+08      3.126346e+07   \n",
       "4206              [en]    1.188783e+08      3.371057e+06   \n",
       "\n",
       "                                                  title  \n",
       "0                                 The Birth of a Nation  \n",
       "4210  The Assassination of Jesse James by the Coward...  \n",
       "4208                                       The Sentinel  \n",
       "6768                         Far from the Madding Crowd  \n",
       "4206                                           Killshot  "
      ]
     },
     "execution_count": 41,
     "metadata": {},
     "output_type": "execute_result"
    }
   ],
   "source": [
    "reves[[\"original_language\",\"language_score\", \"revenue_inflated\", \"title\"]].sort_values(by = \"language_score\", ascending = False).head(5)"
   ]
  },
  {
   "cell_type": "code",
   "execution_count": 42,
   "metadata": {},
   "outputs": [
    {
     "data": {
      "text/plain": [
       "['en', 'xx', 'zh', 'ja', 'te']"
      ]
     },
     "execution_count": 42,
     "metadata": {},
     "output_type": "execute_result"
    }
   ],
   "source": [
    "sorted(language_dict, key = language_dict.get, reverse = True)[:5]"
   ]
  },
  {
   "cell_type": "markdown",
   "metadata": {},
   "source": [
    "  \n",
    "#### Production company"
   ]
  },
  {
   "cell_type": "markdown",
   "metadata": {},
   "source": [
    "First of all, we will drop the rows with no production companies data. Then, we will check if the number of production companies (not the companies themselves, but how many) influences potential revenue."
   ]
  },
  {
   "cell_type": "code",
   "execution_count": 43,
   "metadata": {},
   "outputs": [],
   "source": [
    "reves = reves[reves[\"production_companies\"].str.len() != 0].reset_index(drop = True)\n",
    "reves[\"production_companies_count\"] = reves[\"production_companies\"].apply(lambda x: len(x))"
   ]
  },
  {
   "cell_type": "code",
   "execution_count": 44,
   "metadata": {},
   "outputs": [
    {
     "data": {
      "image/png": "[encoded data removed]",
      "text/plain": [
       "<Figure size 720x360 with 1 Axes>"
      ]
     },
     "metadata": {},
     "output_type": "display_data"
    }
   ],
   "source": [
    "plt.figure(figsize = (10, 5))\n",
    "plt.bar(reves.groupby(\"production_companies_count\").count()[\"title\"].index,\n",
    "        reves.groupby(\"production_companies_count\").count()[\"title\"].values,color=\"green\")\n",
    "plt.ylabel(\"Movies count\", fontsize = 13)\n",
    "plt.xlabel(\"Number of product companies\", fontsize = 13)\n",
    "plt.title(\"Number of movies per Production Companies Count\");\n",
    "plt.show()"
   ]
  },
  {
   "cell_type": "code",
   "execution_count": 45,
   "metadata": {},
   "outputs": [
    {
     "data": {
      "image/png": "[encoded data removed]",
      "text/plain": [
       "<Figure size 720x360 with 1 Axes>"
      ]
     },
     "metadata": {},
     "output_type": "display_data"
    }
   ],
   "source": [
    "plt.figure(figsize = (10, 5))\n",
    "plt.plot(reves.groupby(\"production_companies_count\").mean()[\"revenue_inflated\"], color = \"green\")\n",
    "plt.ylabel(\"Mean Revenue\", fontsize = 13)\n",
    "plt.xlabel(\"Number of product companies\", fontsize = 13)\n",
    "plt.title(\"Does the number of production company affect the revenue?\");"
   ]
  },
  {
   "cell_type": "markdown",
   "metadata": {},
   "source": [
    "Seems that there's actually an influence, that is why we will create a column with the number of production-companies' count. Also, we will transform this variable as we did above with other similar features."
   ]
  },
  {
   "cell_type": "code",
   "execution_count": 46,
   "metadata": {},
   "outputs": [
    {
     "name": "stderr",
     "output_type": "stream",
     "text": [
      "C:\\Users\\Elsa\\Documents\\GitHub\\reves\\revesFunctions.py:79: FutureWarning: get_value is deprecated and will be removed in a future release. Please use .at[] or .iat[] accessors instead\n",
      "  word_mean_dict[name] = dataframe.get_value(i, variable) / counter[name]\n",
      "C:\\Users\\Elsa\\Documents\\GitHub\\reves\\revesFunctions.py:81: FutureWarning: get_value is deprecated and will be removed in a future release. Please use .at[] or .iat[] accessors instead\n",
      "  word_mean_dict[name] = word_mean_dict[name] + (dataframe.get_value(i, variable) / counter[name])\n"
     ]
    }
   ],
   "source": [
    "reves[\"production_companies\"] = reves[\"production_companies\"].apply(lambda x: [rf.clean(name) for name in x])\n",
    "production_company_dict = rf.word_mean(reves, \"production_companies\", \"revenue_inflated\")\n",
    "reves[\"companies_score\"] = reves[\"production_companies\"].apply(rf.get_mean, variable_mean_dict = production_company_dict)"
   ]
  },
  {
   "cell_type": "code",
   "execution_count": 47,
   "metadata": {},
   "outputs": [
    {
     "data": {
      "text/html": [
       "<div>\n",
       "<style scoped>\n",
       "    .dataframe tbody tr th:only-of-type {\n",
       "        vertical-align: middle;\n",
       "    }\n",
       "\n",
       "    .dataframe tbody tr th {\n",
       "        vertical-align: top;\n",
       "    }\n",
       "\n",
       "    .dataframe thead th {\n",
       "        text-align: right;\n",
       "    }\n",
       "</style>\n",
       "<table border=\"1\" class=\"dataframe\">\n",
       "  <thead>\n",
       "    <tr style=\"text-align: right;\">\n",
       "      <th></th>\n",
       "      <th>production_companies</th>\n",
       "      <th>companies_score</th>\n",
       "      <th>revenue_inflated</th>\n",
       "      <th>title</th>\n",
       "    </tr>\n",
       "  </thead>\n",
       "  <tbody>\n",
       "    <tr>\n",
       "      <th>68</th>\n",
       "      <td>[selznick international pictures]</td>\n",
       "      <td>2.419100e+09</td>\n",
       "      <td>1.050514e+08</td>\n",
       "      <td>Rebecca</td>\n",
       "    </tr>\n",
       "    <tr>\n",
       "      <th>95</th>\n",
       "      <td>[selznick international pictures]</td>\n",
       "      <td>2.419100e+09</td>\n",
       "      <td>9.532444e+07</td>\n",
       "      <td>Spellbound</td>\n",
       "    </tr>\n",
       "    <tr>\n",
       "      <th>434</th>\n",
       "      <td>[warner bros, hoya productions]</td>\n",
       "      <td>1.312827e+09</td>\n",
       "      <td>2.436328e+09</td>\n",
       "      <td>The Exorcist</td>\n",
       "    </tr>\n",
       "    <tr>\n",
       "      <th>58</th>\n",
       "      <td>[selznick international pictures, metrogoldwyn...</td>\n",
       "      <td>1.281629e+09</td>\n",
       "      <td>7.056925e+09</td>\n",
       "      <td>Gone with the Wind</td>\n",
       "    </tr>\n",
       "    <tr>\n",
       "      <th>2148</th>\n",
       "      <td>[lightstorm entertainment]</td>\n",
       "      <td>1.113898e+09</td>\n",
       "      <td>1.280172e+07</td>\n",
       "      <td>Strange Days</td>\n",
       "    </tr>\n",
       "  </tbody>\n",
       "</table>\n",
       "</div>"
      ],
      "text/plain": [
       "                                   production_companies  companies_score  \\\n",
       "68                    [selznick international pictures]     2.419100e+09   \n",
       "95                    [selznick international pictures]     2.419100e+09   \n",
       "434                     [warner bros, hoya productions]     1.312827e+09   \n",
       "58    [selznick international pictures, metrogoldwyn...     1.281629e+09   \n",
       "2148                         [lightstorm entertainment]     1.113898e+09   \n",
       "\n",
       "      revenue_inflated               title  \n",
       "68        1.050514e+08             Rebecca  \n",
       "95        9.532444e+07          Spellbound  \n",
       "434       2.436328e+09        The Exorcist  \n",
       "58        7.056925e+09  Gone with the Wind  \n",
       "2148      1.280172e+07        Strange Days  "
      ]
     },
     "execution_count": 47,
     "metadata": {},
     "output_type": "execute_result"
    }
   ],
   "source": [
    "reves[[\"production_companies\",\"companies_score\", \"revenue_inflated\", \"title\"]].sort_values(by = \"companies_score\", ascending = False).head(5)"
   ]
  },
  {
   "cell_type": "code",
   "execution_count": 48,
   "metadata": {},
   "outputs": [
    {
     "data": {
      "text/plain": [
       "['hoya productions',\n",
       " 'selznick international pictures',\n",
       " 'argyle enterprises',\n",
       " 'abu dhabi film commission',\n",
       " 'colorado office of film television media']"
      ]
     },
     "execution_count": 48,
     "metadata": {},
     "output_type": "execute_result"
    }
   ],
   "source": [
    "sorted(production_company_dict, key = production_company_dict.get, reverse = True)[:5]"
   ]
  },
  {
   "cell_type": "markdown",
   "metadata": {},
   "source": [
    "\n",
    "#### Cast"
   ]
  },
  {
   "cell_type": "code",
   "execution_count": 49,
   "metadata": {},
   "outputs": [
    {
     "name": "stderr",
     "output_type": "stream",
     "text": [
      "C:\\Users\\Elsa\\Documents\\GitHub\\reves\\revesFunctions.py:79: FutureWarning: get_value is deprecated and will be removed in a future release. Please use .at[] or .iat[] accessors instead\n",
      "  word_mean_dict[name] = dataframe.get_value(i, variable) / counter[name]\n",
      "C:\\Users\\Elsa\\Documents\\GitHub\\reves\\revesFunctions.py:81: FutureWarning: get_value is deprecated and will be removed in a future release. Please use .at[] or .iat[] accessors instead\n",
      "  word_mean_dict[name] = word_mean_dict[name] + (dataframe.get_value(i, variable) / counter[name])\n"
     ]
    },
    {
     "name": "stdout",
     "output_type": "stream",
     "text": [
      "There are 75700 unique cast_names\n"
     ]
    }
   ],
   "source": [
    "reves = reves[reves[\"cast_names\"].str.len() != 0].reset_index(drop = True)\n",
    "reves[\"cast_names\"] = reves[\"cast_names\"].apply(lambda x: [rf.clean(name) for name in x])\n",
    "cast_dict = rf.word_mean(reves, \"cast_names\",\"revenue_inflated\")\n",
    "\n",
    "print(\"There are %d unique cast_names\" %(len(cast_dict.keys())))"
   ]
  },
  {
   "cell_type": "markdown",
   "metadata": {},
   "source": [
    "There are too many unique values to use in a model without overfitting, and also, too many values for a one hot encoding of this column. We need to simplify this information ir order to use it in Reves. \n",
    "\n",
    "There are many strategies we could follow: clustering actors by rating, clustering actors by mean revenue, replace \"actor_name\" with some actor's feature, etc. We have searched for datasets that may contain a ranking of actors that we could use for clustering, but they do not have all the names that appear in our main dataset, and we do the merge, we have too many missing values. \n",
    "\n",
    "In a real version of Reves we think that a great strategy will be using a clustering by actor's mean earnings or popularity. That information is easy to get for a production company though it's not available for us at this point of Reves development. \n",
    "\n",
    "The question is: What is the best Reves could learn from the data that we currently have?\n",
    "\n",
    "We think that is interesting to try 2 features:\n",
    "\n",
    "- Number of characters/actors. Since it might have something to do with the plot's complexity.\n",
    "- Main roles genres. Is the main lead a female or a male?\n"
   ]
  },
  {
   "cell_type": "code",
   "execution_count": 54,
   "metadata": {},
   "outputs": [
    {
     "ename": "AttributeError",
     "evalue": "module 'revesFunctions' has no attribute 'lenght'",
     "output_type": "error",
     "traceback": [
      "\u001b[1;31m---------------------------------------------------------------------------\u001b[0m",
      "\u001b[1;31mAttributeError\u001b[0m                            Traceback (most recent call last)",
      "\u001b[1;32m<ipython-input-54-53310d818a05>\u001b[0m in \u001b[0;36m<module>\u001b[1;34m()\u001b[0m\n\u001b[1;32m----> 1\u001b[1;33m \u001b[0mreves\u001b[0m\u001b[1;33m[\u001b[0m\u001b[1;34m\"number_of_characters\"\u001b[0m\u001b[1;33m]\u001b[0m\u001b[1;33m=\u001b[0m\u001b[0mrf\u001b[0m\u001b[1;33m.\u001b[0m\u001b[0mlenght\u001b[0m\u001b[1;33m(\u001b[0m\u001b[1;34m\"cast_names\"\u001b[0m\u001b[1;33m)\u001b[0m\u001b[1;33m\u001b[0m\u001b[0m\n\u001b[0m",
      "\u001b[1;31mAttributeError\u001b[0m: module 'revesFunctions' has no attribute 'lenght'"
     ]
    }
   ],
   "source": [
    "reves[\"number_of_characters\"]=rf.lenght(\"cast_names\")"
   ]
  },
  {
   "cell_type": "code",
   "execution_count": 55,
   "metadata": {},
   "outputs": [
    {
     "ename": "KeyError",
     "evalue": "'number_of_characters'",
     "output_type": "error",
     "traceback": [
      "\u001b[1;31m---------------------------------------------------------------------------\u001b[0m",
      "\u001b[1;31mKeyError\u001b[0m                                  Traceback (most recent call last)",
      "\u001b[1;32m~\\Anaconda3\\lib\\site-packages\\pandas\\core\\indexes\\base.py\u001b[0m in \u001b[0;36mget_loc\u001b[1;34m(self, key, method, tolerance)\u001b[0m\n\u001b[0;32m   3062\u001b[0m             \u001b[1;32mtry\u001b[0m\u001b[1;33m:\u001b[0m\u001b[1;33m\u001b[0m\u001b[0m\n\u001b[1;32m-> 3063\u001b[1;33m                 \u001b[1;32mreturn\u001b[0m \u001b[0mself\u001b[0m\u001b[1;33m.\u001b[0m\u001b[0m_engine\u001b[0m\u001b[1;33m.\u001b[0m\u001b[0mget_loc\u001b[0m\u001b[1;33m(\u001b[0m\u001b[0mkey\u001b[0m\u001b[1;33m)\u001b[0m\u001b[1;33m\u001b[0m\u001b[0m\n\u001b[0m\u001b[0;32m   3064\u001b[0m             \u001b[1;32mexcept\u001b[0m \u001b[0mKeyError\u001b[0m\u001b[1;33m:\u001b[0m\u001b[1;33m\u001b[0m\u001b[0m\n",
      "\u001b[1;32mpandas\\_libs\\index.pyx\u001b[0m in \u001b[0;36mpandas._libs.index.IndexEngine.get_loc\u001b[1;34m()\u001b[0m\n",
      "\u001b[1;32mpandas\\_libs\\index.pyx\u001b[0m in \u001b[0;36mpandas._libs.index.IndexEngine.get_loc\u001b[1;34m()\u001b[0m\n",
      "\u001b[1;32mpandas\\_libs\\hashtable_class_helper.pxi\u001b[0m in \u001b[0;36mpandas._libs.hashtable.PyObjectHashTable.get_item\u001b[1;34m()\u001b[0m\n",
      "\u001b[1;32mpandas\\_libs\\hashtable_class_helper.pxi\u001b[0m in \u001b[0;36mpandas._libs.hashtable.PyObjectHashTable.get_item\u001b[1;34m()\u001b[0m\n",
      "\u001b[1;31mKeyError\u001b[0m: 'number_of_characters'",
      "\nDuring handling of the above exception, another exception occurred:\n",
      "\u001b[1;31mKeyError\u001b[0m                                  Traceback (most recent call last)",
      "\u001b[1;32m<ipython-input-55-980306b4e06e>\u001b[0m in \u001b[0;36m<module>\u001b[1;34m()\u001b[0m\n\u001b[0;32m      1\u001b[0m \u001b[0mplt\u001b[0m\u001b[1;33m.\u001b[0m\u001b[0mfigure\u001b[0m\u001b[1;33m(\u001b[0m\u001b[0mfigsize\u001b[0m \u001b[1;33m=\u001b[0m \u001b[1;33m(\u001b[0m\u001b[1;36m10\u001b[0m\u001b[1;33m,\u001b[0m \u001b[1;36m5\u001b[0m\u001b[1;33m)\u001b[0m\u001b[1;33m)\u001b[0m\u001b[1;33m\u001b[0m\u001b[0m\n\u001b[0;32m      2\u001b[0m \u001b[1;33m\u001b[0m\u001b[0m\n\u001b[1;32m----> 3\u001b[1;33m \u001b[0mfig\u001b[0m \u001b[1;33m=\u001b[0m \u001b[0mplt\u001b[0m\u001b[1;33m.\u001b[0m\u001b[0mscatter\u001b[0m\u001b[1;33m(\u001b[0m\u001b[0mx\u001b[0m \u001b[1;33m=\u001b[0m \u001b[0mreves\u001b[0m\u001b[1;33m[\u001b[0m\u001b[1;34m\"number_of_characters\"\u001b[0m\u001b[1;33m]\u001b[0m\u001b[1;33m,\u001b[0m \u001b[0my\u001b[0m \u001b[1;33m=\u001b[0m \u001b[0mreves\u001b[0m\u001b[1;33m[\u001b[0m\u001b[1;34m\"revenue\"\u001b[0m\u001b[1;33m]\u001b[0m\u001b[1;33m,\u001b[0m\u001b[0mcolor\u001b[0m\u001b[1;33m=\u001b[0m\u001b[1;34m\"green\"\u001b[0m\u001b[1;33m)\u001b[0m\u001b[1;33m\u001b[0m\u001b[0m\n\u001b[0m\u001b[0;32m      4\u001b[0m \u001b[1;33m\u001b[0m\u001b[0m\n\u001b[0;32m      5\u001b[0m \u001b[0mplt\u001b[0m\u001b[1;33m.\u001b[0m\u001b[0mylabel\u001b[0m\u001b[1;33m(\u001b[0m\u001b[1;34m\"Number of characters\"\u001b[0m\u001b[1;33m,\u001b[0m \u001b[0mfontsize\u001b[0m \u001b[1;33m=\u001b[0m \u001b[1;36m13\u001b[0m\u001b[1;33m)\u001b[0m\u001b[1;33m\u001b[0m\u001b[0m\n",
      "\u001b[1;32m~\\Anaconda3\\lib\\site-packages\\pandas\\core\\frame.py\u001b[0m in \u001b[0;36m__getitem__\u001b[1;34m(self, key)\u001b[0m\n\u001b[0;32m   2683\u001b[0m             \u001b[1;32mreturn\u001b[0m \u001b[0mself\u001b[0m\u001b[1;33m.\u001b[0m\u001b[0m_getitem_multilevel\u001b[0m\u001b[1;33m(\u001b[0m\u001b[0mkey\u001b[0m\u001b[1;33m)\u001b[0m\u001b[1;33m\u001b[0m\u001b[0m\n\u001b[0;32m   2684\u001b[0m         \u001b[1;32melse\u001b[0m\u001b[1;33m:\u001b[0m\u001b[1;33m\u001b[0m\u001b[0m\n\u001b[1;32m-> 2685\u001b[1;33m             \u001b[1;32mreturn\u001b[0m \u001b[0mself\u001b[0m\u001b[1;33m.\u001b[0m\u001b[0m_getitem_column\u001b[0m\u001b[1;33m(\u001b[0m\u001b[0mkey\u001b[0m\u001b[1;33m)\u001b[0m\u001b[1;33m\u001b[0m\u001b[0m\n\u001b[0m\u001b[0;32m   2686\u001b[0m \u001b[1;33m\u001b[0m\u001b[0m\n\u001b[0;32m   2687\u001b[0m     \u001b[1;32mdef\u001b[0m \u001b[0m_getitem_column\u001b[0m\u001b[1;33m(\u001b[0m\u001b[0mself\u001b[0m\u001b[1;33m,\u001b[0m \u001b[0mkey\u001b[0m\u001b[1;33m)\u001b[0m\u001b[1;33m:\u001b[0m\u001b[1;33m\u001b[0m\u001b[0m\n",
      "\u001b[1;32m~\\Anaconda3\\lib\\site-packages\\pandas\\core\\frame.py\u001b[0m in \u001b[0;36m_getitem_column\u001b[1;34m(self, key)\u001b[0m\n\u001b[0;32m   2690\u001b[0m         \u001b[1;31m# get column\u001b[0m\u001b[1;33m\u001b[0m\u001b[1;33m\u001b[0m\u001b[0m\n\u001b[0;32m   2691\u001b[0m         \u001b[1;32mif\u001b[0m \u001b[0mself\u001b[0m\u001b[1;33m.\u001b[0m\u001b[0mcolumns\u001b[0m\u001b[1;33m.\u001b[0m\u001b[0mis_unique\u001b[0m\u001b[1;33m:\u001b[0m\u001b[1;33m\u001b[0m\u001b[0m\n\u001b[1;32m-> 2692\u001b[1;33m             \u001b[1;32mreturn\u001b[0m \u001b[0mself\u001b[0m\u001b[1;33m.\u001b[0m\u001b[0m_get_item_cache\u001b[0m\u001b[1;33m(\u001b[0m\u001b[0mkey\u001b[0m\u001b[1;33m)\u001b[0m\u001b[1;33m\u001b[0m\u001b[0m\n\u001b[0m\u001b[0;32m   2693\u001b[0m \u001b[1;33m\u001b[0m\u001b[0m\n\u001b[0;32m   2694\u001b[0m         \u001b[1;31m# duplicate columns & possible reduce dimensionality\u001b[0m\u001b[1;33m\u001b[0m\u001b[1;33m\u001b[0m\u001b[0m\n",
      "\u001b[1;32m~\\Anaconda3\\lib\\site-packages\\pandas\\core\\generic.py\u001b[0m in \u001b[0;36m_get_item_cache\u001b[1;34m(self, item)\u001b[0m\n\u001b[0;32m   2484\u001b[0m         \u001b[0mres\u001b[0m \u001b[1;33m=\u001b[0m \u001b[0mcache\u001b[0m\u001b[1;33m.\u001b[0m\u001b[0mget\u001b[0m\u001b[1;33m(\u001b[0m\u001b[0mitem\u001b[0m\u001b[1;33m)\u001b[0m\u001b[1;33m\u001b[0m\u001b[0m\n\u001b[0;32m   2485\u001b[0m         \u001b[1;32mif\u001b[0m \u001b[0mres\u001b[0m \u001b[1;32mis\u001b[0m \u001b[1;32mNone\u001b[0m\u001b[1;33m:\u001b[0m\u001b[1;33m\u001b[0m\u001b[0m\n\u001b[1;32m-> 2486\u001b[1;33m             \u001b[0mvalues\u001b[0m \u001b[1;33m=\u001b[0m \u001b[0mself\u001b[0m\u001b[1;33m.\u001b[0m\u001b[0m_data\u001b[0m\u001b[1;33m.\u001b[0m\u001b[0mget\u001b[0m\u001b[1;33m(\u001b[0m\u001b[0mitem\u001b[0m\u001b[1;33m)\u001b[0m\u001b[1;33m\u001b[0m\u001b[0m\n\u001b[0m\u001b[0;32m   2487\u001b[0m             \u001b[0mres\u001b[0m \u001b[1;33m=\u001b[0m \u001b[0mself\u001b[0m\u001b[1;33m.\u001b[0m\u001b[0m_box_item_values\u001b[0m\u001b[1;33m(\u001b[0m\u001b[0mitem\u001b[0m\u001b[1;33m,\u001b[0m \u001b[0mvalues\u001b[0m\u001b[1;33m)\u001b[0m\u001b[1;33m\u001b[0m\u001b[0m\n\u001b[0;32m   2488\u001b[0m             \u001b[0mcache\u001b[0m\u001b[1;33m[\u001b[0m\u001b[0mitem\u001b[0m\u001b[1;33m]\u001b[0m \u001b[1;33m=\u001b[0m \u001b[0mres\u001b[0m\u001b[1;33m\u001b[0m\u001b[0m\n",
      "\u001b[1;32m~\\Anaconda3\\lib\\site-packages\\pandas\\core\\internals.py\u001b[0m in \u001b[0;36mget\u001b[1;34m(self, item, fastpath)\u001b[0m\n\u001b[0;32m   4113\u001b[0m \u001b[1;33m\u001b[0m\u001b[0m\n\u001b[0;32m   4114\u001b[0m             \u001b[1;32mif\u001b[0m \u001b[1;32mnot\u001b[0m \u001b[0misna\u001b[0m\u001b[1;33m(\u001b[0m\u001b[0mitem\u001b[0m\u001b[1;33m)\u001b[0m\u001b[1;33m:\u001b[0m\u001b[1;33m\u001b[0m\u001b[0m\n\u001b[1;32m-> 4115\u001b[1;33m                 \u001b[0mloc\u001b[0m \u001b[1;33m=\u001b[0m \u001b[0mself\u001b[0m\u001b[1;33m.\u001b[0m\u001b[0mitems\u001b[0m\u001b[1;33m.\u001b[0m\u001b[0mget_loc\u001b[0m\u001b[1;33m(\u001b[0m\u001b[0mitem\u001b[0m\u001b[1;33m)\u001b[0m\u001b[1;33m\u001b[0m\u001b[0m\n\u001b[0m\u001b[0;32m   4116\u001b[0m             \u001b[1;32melse\u001b[0m\u001b[1;33m:\u001b[0m\u001b[1;33m\u001b[0m\u001b[0m\n\u001b[0;32m   4117\u001b[0m                 \u001b[0mindexer\u001b[0m \u001b[1;33m=\u001b[0m \u001b[0mnp\u001b[0m\u001b[1;33m.\u001b[0m\u001b[0marange\u001b[0m\u001b[1;33m(\u001b[0m\u001b[0mlen\u001b[0m\u001b[1;33m(\u001b[0m\u001b[0mself\u001b[0m\u001b[1;33m.\u001b[0m\u001b[0mitems\u001b[0m\u001b[1;33m)\u001b[0m\u001b[1;33m)\u001b[0m\u001b[1;33m[\u001b[0m\u001b[0misna\u001b[0m\u001b[1;33m(\u001b[0m\u001b[0mself\u001b[0m\u001b[1;33m.\u001b[0m\u001b[0mitems\u001b[0m\u001b[1;33m)\u001b[0m\u001b[1;33m]\u001b[0m\u001b[1;33m\u001b[0m\u001b[0m\n",
      "\u001b[1;32m~\\Anaconda3\\lib\\site-packages\\pandas\\core\\indexes\\base.py\u001b[0m in \u001b[0;36mget_loc\u001b[1;34m(self, key, method, tolerance)\u001b[0m\n\u001b[0;32m   3063\u001b[0m                 \u001b[1;32mreturn\u001b[0m \u001b[0mself\u001b[0m\u001b[1;33m.\u001b[0m\u001b[0m_engine\u001b[0m\u001b[1;33m.\u001b[0m\u001b[0mget_loc\u001b[0m\u001b[1;33m(\u001b[0m\u001b[0mkey\u001b[0m\u001b[1;33m)\u001b[0m\u001b[1;33m\u001b[0m\u001b[0m\n\u001b[0;32m   3064\u001b[0m             \u001b[1;32mexcept\u001b[0m \u001b[0mKeyError\u001b[0m\u001b[1;33m:\u001b[0m\u001b[1;33m\u001b[0m\u001b[0m\n\u001b[1;32m-> 3065\u001b[1;33m                 \u001b[1;32mreturn\u001b[0m \u001b[0mself\u001b[0m\u001b[1;33m.\u001b[0m\u001b[0m_engine\u001b[0m\u001b[1;33m.\u001b[0m\u001b[0mget_loc\u001b[0m\u001b[1;33m(\u001b[0m\u001b[0mself\u001b[0m\u001b[1;33m.\u001b[0m\u001b[0m_maybe_cast_indexer\u001b[0m\u001b[1;33m(\u001b[0m\u001b[0mkey\u001b[0m\u001b[1;33m)\u001b[0m\u001b[1;33m)\u001b[0m\u001b[1;33m\u001b[0m\u001b[0m\n\u001b[0m\u001b[0;32m   3066\u001b[0m \u001b[1;33m\u001b[0m\u001b[0m\n\u001b[0;32m   3067\u001b[0m         \u001b[0mindexer\u001b[0m \u001b[1;33m=\u001b[0m \u001b[0mself\u001b[0m\u001b[1;33m.\u001b[0m\u001b[0mget_indexer\u001b[0m\u001b[1;33m(\u001b[0m\u001b[1;33m[\u001b[0m\u001b[0mkey\u001b[0m\u001b[1;33m]\u001b[0m\u001b[1;33m,\u001b[0m \u001b[0mmethod\u001b[0m\u001b[1;33m=\u001b[0m\u001b[0mmethod\u001b[0m\u001b[1;33m,\u001b[0m \u001b[0mtolerance\u001b[0m\u001b[1;33m=\u001b[0m\u001b[0mtolerance\u001b[0m\u001b[1;33m)\u001b[0m\u001b[1;33m\u001b[0m\u001b[0m\n",
      "\u001b[1;32mpandas\\_libs\\index.pyx\u001b[0m in \u001b[0;36mpandas._libs.index.IndexEngine.get_loc\u001b[1;34m()\u001b[0m\n",
      "\u001b[1;32mpandas\\_libs\\index.pyx\u001b[0m in \u001b[0;36mpandas._libs.index.IndexEngine.get_loc\u001b[1;34m()\u001b[0m\n",
      "\u001b[1;32mpandas\\_libs\\hashtable_class_helper.pxi\u001b[0m in \u001b[0;36mpandas._libs.hashtable.PyObjectHashTable.get_item\u001b[1;34m()\u001b[0m\n",
      "\u001b[1;32mpandas\\_libs\\hashtable_class_helper.pxi\u001b[0m in \u001b[0;36mpandas._libs.hashtable.PyObjectHashTable.get_item\u001b[1;34m()\u001b[0m\n",
      "\u001b[1;31mKeyError\u001b[0m: 'number_of_characters'"
     ]
    },
    {
     "data": {
      "text/plain": [
       "<Figure size 720x360 with 0 Axes>"
      ]
     },
     "metadata": {},
     "output_type": "display_data"
    }
   ],
   "source": [
    "plt.figure(figsize = (10, 5))\n",
    "\n",
    "fig = plt.scatter(x = reves[\"number_of_characters\"], y = reves[\"revenue\"],color=\"green\")\n",
    "\n",
    "plt.ylabel(\"Number of characters\", fontsize = 13)\n",
    "plt.xlabel(\"Revenue\", fontsize = 13)\n",
    "plt.title(\"Relation between number_of_characters and revenue\")\n",
    "\n",
    "plt.show()"
   ]
  },
  {
   "cell_type": "markdown",
   "metadata": {},
   "source": [
    "Seems like an interesting issue to analyze. Maybe more cast members equals more budget and that's defenitely a factor for higher potential income.\n",
    "\n",
    "Nevertheless, we wont' use this information in Reves since it has been designed as a tool to movie planning for production companies. When companies use Reves, they won't know in advance how many actors and actresses they are going to use. We need to stick to the data we are going to have/know at the app's moment of use."
   ]
  },
  {
   "cell_type": "markdown",
   "metadata": {},
   "source": [
    "After evaluating all this posibilities, we have decided to do the same as we did with the columns above: this time, we will generate a new column based on the mean revenue value generated by the 4 main characters/roles of the cast. (We've made some tests using the whole cast but they really didn't better the error although they add a lot more information to process). "
   ]
  },
  {
   "cell_type": "code",
   "execution_count": 57,
   "metadata": {},
   "outputs": [],
   "source": [
    "reves[\"cast_names\"] = reves[\"cast_names\"].apply(lambda x: x[:4])\n",
    "reves[\"cast_score\"] = reves[\"cast_names\"].apply(rf.get_mean, variable_mean_dict = cast_dict)"
   ]
  },
  {
   "cell_type": "code",
   "execution_count": 58,
   "metadata": {},
   "outputs": [
    {
     "data": {
      "text/html": [
       "<div>\n",
       "<style scoped>\n",
       "    .dataframe tbody tr th:only-of-type {\n",
       "        vertical-align: middle;\n",
       "    }\n",
       "\n",
       "    .dataframe tbody tr th {\n",
       "        vertical-align: top;\n",
       "    }\n",
       "\n",
       "    .dataframe thead th {\n",
       "        text-align: right;\n",
       "    }\n",
       "</style>\n",
       "<table border=\"1\" class=\"dataframe\">\n",
       "  <thead>\n",
       "    <tr style=\"text-align: right;\">\n",
       "      <th></th>\n",
       "      <th>cast_names</th>\n",
       "      <th>cast_score</th>\n",
       "      <th>revenue_inflated</th>\n",
       "      <th>title</th>\n",
       "    </tr>\n",
       "  </thead>\n",
       "  <tbody>\n",
       "    <tr>\n",
       "      <th>75</th>\n",
       "      <td>[donnie dunagan, peter behn, stan alexander, c...</td>\n",
       "      <td>4.401261e+09</td>\n",
       "      <td>4.021880e+09</td>\n",
       "      <td>Bambi</td>\n",
       "    </tr>\n",
       "    <tr>\n",
       "      <th>54</th>\n",
       "      <td>[adriana caselotti, lucille la verne, harry st...</td>\n",
       "      <td>2.769516e+09</td>\n",
       "      <td>3.147843e+09</td>\n",
       "      <td>Snow White and the Seven Dwarfs</td>\n",
       "    </tr>\n",
       "    <tr>\n",
       "      <th>123</th>\n",
       "      <td>[kathryn beaumont, verna felton, ed wynn, rich...</td>\n",
       "      <td>2.297925e+09</td>\n",
       "      <td>5.392640e+09</td>\n",
       "      <td>Alice in Wonderland</td>\n",
       "    </tr>\n",
       "    <tr>\n",
       "      <th>118</th>\n",
       "      <td>[ilene woods, eleanor audley, lucille bliss, v...</td>\n",
       "      <td>1.889114e+09</td>\n",
       "      <td>2.680976e+09</td>\n",
       "      <td>Cinderella</td>\n",
       "    </tr>\n",
       "    <tr>\n",
       "      <th>58</th>\n",
       "      <td>[vivien leigh, clark gable, olivia de havillan...</td>\n",
       "      <td>1.870523e+09</td>\n",
       "      <td>7.056925e+09</td>\n",
       "      <td>Gone with the Wind</td>\n",
       "    </tr>\n",
       "  </tbody>\n",
       "</table>\n",
       "</div>"
      ],
      "text/plain": [
       "                                            cast_names    cast_score  \\\n",
       "75   [donnie dunagan, peter behn, stan alexander, c...  4.401261e+09   \n",
       "54   [adriana caselotti, lucille la verne, harry st...  2.769516e+09   \n",
       "123  [kathryn beaumont, verna felton, ed wynn, rich...  2.297925e+09   \n",
       "118  [ilene woods, eleanor audley, lucille bliss, v...  1.889114e+09   \n",
       "58   [vivien leigh, clark gable, olivia de havillan...  1.870523e+09   \n",
       "\n",
       "     revenue_inflated                            title  \n",
       "75       4.021880e+09                            Bambi  \n",
       "54       3.147843e+09  Snow White and the Seven Dwarfs  \n",
       "123      5.392640e+09              Alice in Wonderland  \n",
       "118      2.680976e+09                       Cinderella  \n",
       "58       7.056925e+09               Gone with the Wind  "
      ]
     },
     "execution_count": 58,
     "metadata": {},
     "output_type": "execute_result"
    }
   ],
   "source": [
    "reves[[\"cast_names\",\"cast_score\", \"revenue_inflated\", \"title\"]].sort_values(by = \"cast_score\", ascending = False).head(5)"
   ]
  },
  {
   "cell_type": "code",
   "execution_count": 27,
   "metadata": {},
   "outputs": [
    {
     "data": {
      "text/plain": [
       "['donnie dunagan',\n",
       " 'peter behn',\n",
       " 'stan alexander',\n",
       " 'cammie king',\n",
       " 'richard haydn']"
      ]
     },
     "execution_count": 27,
     "metadata": {},
     "output_type": "execute_result"
    }
   ],
   "source": [
    "sorted(cast_dict, key = cast_dict.get, reverse = True)[:5]"
   ]
  },
  {
   "cell_type": "markdown",
   "metadata": {},
   "source": [
    "Attending the gender of the cast, we also checked that there are some differences in mean revenue if the main characters are men or women. We are gonna use this information by creating 2 new features for the main 4 roles:\n",
    "\n",
    "- Number of women\n",
    "- Number of men "
   ]
  },
  {
   "cell_type": "code",
   "execution_count": 146,
   "metadata": {},
   "outputs": [],
   "source": [
    "reves = reves[reves[\"cast_gender\"].str.len() != 0].reset_index(drop = True)\n",
    "reves[\"cast_gender\"] = reves[\"cast_gender\"].apply(lambda x: x[:4])\n",
    "reves[\"N_male\"] = reves[\"cast_gender\"].apply(rf.get_male_count)\n",
    "reves[\"N_female\"] = reves[\"cast_gender\"].apply(rf.get_female_count)"
   ]
  },
  {
   "cell_type": "markdown",
   "metadata": {},
   "source": [
    "#### Directors"
   ]
  },
  {
   "cell_type": "markdown",
   "metadata": {},
   "source": [
    "Same as before."
   ]
  },
  {
   "cell_type": "code",
   "execution_count": 59,
   "metadata": {},
   "outputs": [
    {
     "name": "stderr",
     "output_type": "stream",
     "text": [
      "C:\\Users\\Elsa\\Documents\\GitHub\\reves\\revesFunctions.py:79: FutureWarning: get_value is deprecated and will be removed in a future release. Please use .at[] or .iat[] accessors instead\n",
      "  word_mean_dict[name] = dataframe.get_value(i, variable) / counter[name]\n",
      "C:\\Users\\Elsa\\Documents\\GitHub\\reves\\revesFunctions.py:81: FutureWarning: get_value is deprecated and will be removed in a future release. Please use .at[] or .iat[] accessors instead\n",
      "  word_mean_dict[name] = word_mean_dict[name] + (dataframe.get_value(i, variable) / counter[name])\n"
     ]
    }
   ],
   "source": [
    "reves = reves[reves[\"directors\"].str.len() != 0].reset_index(drop = True)\n",
    "reves[\"directors\"] = reves[\"directors\"].apply(lambda x: [rf.clean(name) for name in x])\n",
    "directors_dict = rf.word_mean(reves, \"directors\", \"revenue_inflated\")\n",
    "reves[\"directors_score\"] = reves[\"directors\"].apply(rf.get_mean, variable_mean_dict = directors_dict)"
   ]
  },
  {
   "cell_type": "code",
   "execution_count": 60,
   "metadata": {},
   "outputs": [
    {
     "data": {
      "text/html": [
       "<div>\n",
       "<style scoped>\n",
       "    .dataframe tbody tr th:only-of-type {\n",
       "        vertical-align: middle;\n",
       "    }\n",
       "\n",
       "    .dataframe tbody tr th {\n",
       "        vertical-align: top;\n",
       "    }\n",
       "\n",
       "    .dataframe thead th {\n",
       "        text-align: right;\n",
       "    }\n",
       "</style>\n",
       "<table border=\"1\" class=\"dataframe\">\n",
       "  <thead>\n",
       "    <tr style=\"text-align: right;\">\n",
       "      <th></th>\n",
       "      <th>directors</th>\n",
       "      <th>directors_score</th>\n",
       "      <th>revenue_inflated</th>\n",
       "      <th>title</th>\n",
       "    </tr>\n",
       "  </thead>\n",
       "  <tbody>\n",
       "    <tr>\n",
       "      <th>58</th>\n",
       "      <td>[victor fleming, george cukor, sam wood]</td>\n",
       "      <td>3.899356e+09</td>\n",
       "      <td>7.056925e+09</td>\n",
       "      <td>Gone with the Wind</td>\n",
       "    </tr>\n",
       "    <tr>\n",
       "      <th>75</th>\n",
       "      <td>[james algar, samuel armstrong, david hand, gr...</td>\n",
       "      <td>2.730483e+09</td>\n",
       "      <td>4.021880e+09</td>\n",
       "      <td>Bambi</td>\n",
       "    </tr>\n",
       "    <tr>\n",
       "      <th>54</th>\n",
       "      <td>[william cottrell, ben sharpsteen, perce pearc...</td>\n",
       "      <td>2.637869e+09</td>\n",
       "      <td>3.147843e+09</td>\n",
       "      <td>Snow White and the Seven Dwarfs</td>\n",
       "    </tr>\n",
       "    <tr>\n",
       "      <th>83</th>\n",
       "      <td>[victor fleming]</td>\n",
       "      <td>2.575623e+09</td>\n",
       "      <td>7.469196e+07</td>\n",
       "      <td>A Guy Named Joe</td>\n",
       "    </tr>\n",
       "    <tr>\n",
       "      <th>63</th>\n",
       "      <td>[george cukor]</td>\n",
       "      <td>2.065520e+09</td>\n",
       "      <td>4.003039e+07</td>\n",
       "      <td>The Women</td>\n",
       "    </tr>\n",
       "  </tbody>\n",
       "</table>\n",
       "</div>"
      ],
      "text/plain": [
       "                                            directors  directors_score  \\\n",
       "58           [victor fleming, george cukor, sam wood]     3.899356e+09   \n",
       "75  [james algar, samuel armstrong, david hand, gr...     2.730483e+09   \n",
       "54  [william cottrell, ben sharpsteen, perce pearc...     2.637869e+09   \n",
       "83                                   [victor fleming]     2.575623e+09   \n",
       "63                                     [george cukor]     2.065520e+09   \n",
       "\n",
       "    revenue_inflated                            title  \n",
       "58      7.056925e+09               Gone with the Wind  \n",
       "75      4.021880e+09                            Bambi  \n",
       "54      3.147843e+09  Snow White and the Seven Dwarfs  \n",
       "83      7.469196e+07                  A Guy Named Joe  \n",
       "63      4.003039e+07                        The Women  "
      ]
     },
     "execution_count": 60,
     "metadata": {},
     "output_type": "execute_result"
    }
   ],
   "source": [
    "reves[[\"directors\",\"directors_score\", \"revenue_inflated\", \"title\"]].sort_values(by = \"directors_score\", ascending = False).head(5)"
   ]
  },
  {
   "cell_type": "code",
   "execution_count": 30,
   "metadata": {},
   "outputs": [
    {
     "data": {
      "text/plain": [
       "['sam wood',\n",
       " 'graham heid',\n",
       " 'norman wright',\n",
       " 'william cottrell',\n",
       " 'perce pearce']"
      ]
     },
     "execution_count": 30,
     "metadata": {},
     "output_type": "execute_result"
    }
   ],
   "source": [
    "sorted(directors_dict, key = directors_dict.get, reverse = True)[:5]"
   ]
  },
  {
   "cell_type": "markdown",
   "metadata": {},
   "source": [
    "#### Writers"
   ]
  },
  {
   "cell_type": "markdown",
   "metadata": {},
   "source": [
    "Same as before."
   ]
  },
  {
   "cell_type": "code",
   "execution_count": 61,
   "metadata": {},
   "outputs": [
    {
     "name": "stderr",
     "output_type": "stream",
     "text": [
      "C:\\Users\\Elsa\\Documents\\GitHub\\reves\\revesFunctions.py:79: FutureWarning: get_value is deprecated and will be removed in a future release. Please use .at[] or .iat[] accessors instead\n",
      "  word_mean_dict[name] = dataframe.get_value(i, variable) / counter[name]\n",
      "C:\\Users\\Elsa\\Documents\\GitHub\\reves\\revesFunctions.py:81: FutureWarning: get_value is deprecated and will be removed in a future release. Please use .at[] or .iat[] accessors instead\n",
      "  word_mean_dict[name] = word_mean_dict[name] + (dataframe.get_value(i, variable) / counter[name])\n"
     ]
    }
   ],
   "source": [
    "reves = reves[reves[\"writers\"].str.len() != 0].reset_index(drop = True)\n",
    "reves[\"writers\"] = reves[\"writers\"].apply(lambda x: [rf.clean(name) for name in x])\n",
    "writers_dict = rf.word_mean(reves, \"writers\", \"revenue_inflated\")\n",
    "reves[\"writers_score\"] = reves[\"writers\"].apply(rf.get_mean, variable_mean_dict = writers_dict)"
   ]
  },
  {
   "cell_type": "code",
   "execution_count": 62,
   "metadata": {},
   "outputs": [
    {
     "data": {
      "text/html": [
       "<div>\n",
       "<style scoped>\n",
       "    .dataframe tbody tr th:only-of-type {\n",
       "        vertical-align: middle;\n",
       "    }\n",
       "\n",
       "    .dataframe tbody tr th {\n",
       "        vertical-align: top;\n",
       "    }\n",
       "\n",
       "    .dataframe thead th {\n",
       "        text-align: right;\n",
       "    }\n",
       "</style>\n",
       "<table border=\"1\" class=\"dataframe\">\n",
       "  <thead>\n",
       "    <tr style=\"text-align: right;\">\n",
       "      <th></th>\n",
       "      <th>writers</th>\n",
       "      <th>writers_score</th>\n",
       "      <th>revenue_inflated</th>\n",
       "      <th>title</th>\n",
       "    </tr>\n",
       "  </thead>\n",
       "  <tbody>\n",
       "    <tr>\n",
       "      <th>58</th>\n",
       "      <td>[margaret mitchell, sidney howard, oliver hp g...</td>\n",
       "      <td>4.628770e+09</td>\n",
       "      <td>7.056925e+09</td>\n",
       "      <td>Gone with the Wind</td>\n",
       "    </tr>\n",
       "    <tr>\n",
       "      <th>123</th>\n",
       "      <td>[lewis carroll, winston hibler, ted sears, bil...</td>\n",
       "      <td>3.052142e+09</td>\n",
       "      <td>5.392640e+09</td>\n",
       "      <td>Alice in Wonderland</td>\n",
       "    </tr>\n",
       "    <tr>\n",
       "      <th>75</th>\n",
       "      <td>[felix salten, perce pearce, larry morey, vern...</td>\n",
       "      <td>2.517277e+09</td>\n",
       "      <td>4.021880e+09</td>\n",
       "      <td>Bambi</td>\n",
       "    </tr>\n",
       "    <tr>\n",
       "      <th>54</th>\n",
       "      <td>[jacob grimm, wilhelm grimm, ted sears, richar...</td>\n",
       "      <td>2.292087e+09</td>\n",
       "      <td>3.147843e+09</td>\n",
       "      <td>Snow White and the Seven Dwarfs</td>\n",
       "    </tr>\n",
       "    <tr>\n",
       "      <th>118</th>\n",
       "      <td>[charles perrault, bill peet, erdman penner, t...</td>\n",
       "      <td>1.861384e+09</td>\n",
       "      <td>2.680976e+09</td>\n",
       "      <td>Cinderella</td>\n",
       "    </tr>\n",
       "  </tbody>\n",
       "</table>\n",
       "</div>"
      ],
      "text/plain": [
       "                                               writers  writers_score  \\\n",
       "58   [margaret mitchell, sidney howard, oliver hp g...   4.628770e+09   \n",
       "123  [lewis carroll, winston hibler, ted sears, bil...   3.052142e+09   \n",
       "75   [felix salten, perce pearce, larry morey, vern...   2.517277e+09   \n",
       "54   [jacob grimm, wilhelm grimm, ted sears, richar...   2.292087e+09   \n",
       "118  [charles perrault, bill peet, erdman penner, t...   1.861384e+09   \n",
       "\n",
       "     revenue_inflated                            title  \n",
       "58       7.056925e+09               Gone with the Wind  \n",
       "123      5.392640e+09              Alice in Wonderland  \n",
       "75       4.021880e+09                            Bambi  \n",
       "54       3.147843e+09  Snow White and the Seven Dwarfs  \n",
       "118      2.680976e+09                       Cinderella  "
      ]
     },
     "execution_count": 62,
     "metadata": {},
     "output_type": "execute_result"
    }
   ],
   "source": [
    "reves[[\"writers\",\"writers_score\", \"revenue_inflated\", \"title\"]].sort_values(by = \"writers_score\", ascending = False).head(5)"
   ]
  },
  {
   "cell_type": "code",
   "execution_count": 33,
   "metadata": {},
   "outputs": [
    {
     "data": {
      "text/plain": [
       "['margaret mitchell',\n",
       " 'sidney howard',\n",
       " 'john van druten',\n",
       " 'dick kelsey',\n",
       " 'del connell']"
      ]
     },
     "execution_count": 33,
     "metadata": {},
     "output_type": "execute_result"
    }
   ],
   "source": [
    "sorted(writers_dict, key = writers_dict.get, reverse = True)[:5]"
   ]
  },
  {
   "cell_type": "markdown",
   "metadata": {},
   "source": [
    "#### Keywords"
   ]
  },
  {
   "cell_type": "markdown",
   "metadata": {},
   "source": [
    "añadir gráficos del notebook 1. Para ver que dentro de las KW con mayor revenue, vemos 2 que hacen referencia a criterios de produccion, no solo a temática o factores externos."
   ]
  },
  {
   "cell_type": "code",
   "execution_count": null,
   "metadata": {},
   "outputs": [],
   "source": []
  },
  {
   "cell_type": "markdown",
   "metadata": {},
   "source": [
    "For keywords, we will use the same transformations as we did before. But in addition to that, we have stablished that there are some important keyowords that are specially meaninful for our model, since they mean higher price ticket and therefore, more revenue. We are talking about IMAX and 3D. We will use them as a key feature in our app's front and backend. \n",
    "- Is the movie being launched in 3d?\n",
    "- Is the movie being launched in IMAX?\n"
   ]
  },
  {
   "cell_type": "code",
   "execution_count": 63,
   "metadata": {},
   "outputs": [
    {
     "name": "stderr",
     "output_type": "stream",
     "text": [
      "C:\\Users\\Elsa\\Documents\\GitHub\\reves\\revesFunctions.py:79: FutureWarning: get_value is deprecated and will be removed in a future release. Please use .at[] or .iat[] accessors instead\n",
      "  word_mean_dict[name] = dataframe.get_value(i, variable) / counter[name]\n",
      "C:\\Users\\Elsa\\Documents\\GitHub\\reves\\revesFunctions.py:81: FutureWarning: get_value is deprecated and will be removed in a future release. Please use .at[] or .iat[] accessors instead\n",
      "  word_mean_dict[name] = word_mean_dict[name] + (dataframe.get_value(i, variable) / counter[name])\n"
     ]
    }
   ],
   "source": [
    "reves = reves[reves[\"keywords\"].str.len() != 0].reset_index(drop = True)\n",
    "reves[\"keywords\"] = reves[\"keywords\"].apply(lambda x: [rf.clean(name) for name in x])\n",
    "keywords_dict = rf.word_mean(reves, \"keywords\", \"revenue_inflated\")\n",
    "reves[\"keywords_score\"] = reves[\"keywords\"].apply(rf.get_mean, variable_mean_dict = keywords_dict)"
   ]
  },
  {
   "cell_type": "code",
   "execution_count": 64,
   "metadata": {},
   "outputs": [
    {
     "data": {
      "text/html": [
       "<div>\n",
       "<style scoped>\n",
       "    .dataframe tbody tr th:only-of-type {\n",
       "        vertical-align: middle;\n",
       "    }\n",
       "\n",
       "    .dataframe tbody tr th {\n",
       "        vertical-align: top;\n",
       "    }\n",
       "\n",
       "    .dataframe thead th {\n",
       "        text-align: right;\n",
       "    }\n",
       "</style>\n",
       "<table border=\"1\" class=\"dataframe\">\n",
       "  <thead>\n",
       "    <tr style=\"text-align: right;\">\n",
       "      <th></th>\n",
       "      <th>keywords</th>\n",
       "      <th>keywords_score</th>\n",
       "      <th>revenue_inflated</th>\n",
       "      <th>title</th>\n",
       "    </tr>\n",
       "  </thead>\n",
       "  <tbody>\n",
       "    <tr>\n",
       "      <th>119</th>\n",
       "      <td>[cat, dream, queen, heart, animation, nothing,...</td>\n",
       "      <td>1.913561e+09</td>\n",
       "      <td>5.392640e+09</td>\n",
       "      <td>Alice in Wonderland</td>\n",
       "    </tr>\n",
       "    <tr>\n",
       "      <th>55</th>\n",
       "      <td>[life and death, civil war, southern usa, loss...</td>\n",
       "      <td>1.589665e+09</td>\n",
       "      <td>7.056925e+09</td>\n",
       "      <td>Gone with the Wind</td>\n",
       "    </tr>\n",
       "    <tr>\n",
       "      <th>533</th>\n",
       "      <td>[android, galaxy, hermit, death star, lightsab...</td>\n",
       "      <td>1.384135e+09</td>\n",
       "      <td>3.136395e+09</td>\n",
       "      <td>Star Wars</td>\n",
       "    </tr>\n",
       "    <tr>\n",
       "      <th>627</th>\n",
       "      <td>[rebel, android, asteroid, space battle, snow ...</td>\n",
       "      <td>1.085052e+09</td>\n",
       "      <td>1.601609e+09</td>\n",
       "      <td>The Empire Strikes Back</td>\n",
       "    </tr>\n",
       "    <tr>\n",
       "      <th>288</th>\n",
       "      <td>[resistance, austria, world war ii, musical, m...</td>\n",
       "      <td>1.007425e+09</td>\n",
       "      <td>2.227201e+09</td>\n",
       "      <td>The Sound of Music</td>\n",
       "    </tr>\n",
       "  </tbody>\n",
       "</table>\n",
       "</div>"
      ],
      "text/plain": [
       "                                              keywords  keywords_score  \\\n",
       "119  [cat, dream, queen, heart, animation, nothing,...    1.913561e+09   \n",
       "55   [life and death, civil war, southern usa, loss...    1.589665e+09   \n",
       "533  [android, galaxy, hermit, death star, lightsab...    1.384135e+09   \n",
       "627  [rebel, android, asteroid, space battle, snow ...    1.085052e+09   \n",
       "288  [resistance, austria, world war ii, musical, m...    1.007425e+09   \n",
       "\n",
       "     revenue_inflated                    title  \n",
       "119      5.392640e+09      Alice in Wonderland  \n",
       "55       7.056925e+09       Gone with the Wind  \n",
       "533      3.136395e+09                Star Wars  \n",
       "627      1.601609e+09  The Empire Strikes Back  \n",
       "288      2.227201e+09       The Sound of Music  "
      ]
     },
     "execution_count": 64,
     "metadata": {},
     "output_type": "execute_result"
    }
   ],
   "source": [
    "reves[[\"keywords\", \"keywords_score\",\"revenue_inflated\", \"title\"]].sort_values(by = \"keywords_score\", ascending = False).head(5)"
   ]
  },
  {
   "cell_type": "code",
   "execution_count": 36,
   "metadata": {},
   "outputs": [
    {
     "data": {
      "text/plain": [
       "['typhus', 'nothing', 'tea party', 'anti war', 'hermit']"
      ]
     },
     "execution_count": 36,
     "metadata": {},
     "output_type": "execute_result"
    }
   ],
   "source": [
    "sorted(keywords_dict, key = keywords_dict.get, reverse = True)[:5]"
   ]
  },
  {
   "cell_type": "markdown",
   "metadata": {},
   "source": [
    "#### Release Month and Release Weekday"
   ]
  },
  {
   "cell_type": "markdown",
   "metadata": {},
   "source": [
    "Same as before."
   ]
  },
  {
   "cell_type": "code",
   "execution_count": 157,
   "metadata": {},
   "outputs": [
    {
     "name": "stderr",
     "output_type": "stream",
     "text": [
      "C:\\Users\\Elsa\\Documents\\GitHub\\reves\\revesFunctions.py:79: FutureWarning: get_value is deprecated and will be removed in a future release. Please use .at[] or .iat[] accessors instead\n",
      "  word_mean_dict[name] = dataframe.get_value(i, variable) / counter[name]\n",
      "C:\\Users\\Elsa\\Documents\\GitHub\\reves\\revesFunctions.py:81: FutureWarning: get_value is deprecated and will be removed in a future release. Please use .at[] or .iat[] accessors instead\n",
      "  word_mean_dict[name] = word_mean_dict[name] + (dataframe.get_value(i, variable) / counter[name])\n"
     ]
    }
   ],
   "source": [
    "reves = reves[reves[\"release_month\"].notnull()].reset_index(drop = True)\n",
    "\n",
    "reves[\"release_month\"] = reves[\"release_month\"].apply(lambda x: [x])\n",
    "reves[\"release_weekday\"] = reves[\"release_weekday\"].apply(lambda x: [x])\n",
    "\n",
    "month_dict = rf.word_mean(reves, \"release_month\", \"revenue_inflated\")\n",
    "reves[\"release_month\"] = reves[\"release_month\"].apply(rf.get_mean, variable_mean_dict = month_dict)\n",
    "\n",
    "weekday_dict = rf.word_mean(reves, \"release_weekday\", \"revenue_inflated\")\n",
    "reves[\"release_weekday\"] = reves[\"release_weekday\"].apply(rf.get_mean, variable_mean_dict = weekday_dict)"
   ]
  },
  {
   "cell_type": "markdown",
   "metadata": {},
   "source": [
    "#### Runtime\n",
    "This variable is the only one with no transformation. As it is already a number type of value, we'll leave it as it is. "
   ]
  },
  {
   "cell_type": "markdown",
   "metadata": {},
   "source": [
    "#### Drop irrelevant info and saving info for Data Modelling"
   ]
  },
  {
   "cell_type": "code",
   "execution_count": 38,
   "metadata": {},
   "outputs": [],
   "source": [
    "reves.drop([\"revenue\", \"title\", \"release_year\", \"cpi\", \"cast_gender\"], axis = 1, inplace = True)"
   ]
  },
  {
   "cell_type": "code",
   "execution_count": 39,
   "metadata": {},
   "outputs": [
    {
     "data": {
      "text/html": [
       "<div>\n",
       "<style>\n",
       "    .dataframe thead tr:only-child th {\n",
       "        text-align: right;\n",
       "    }\n",
       "\n",
       "    .dataframe thead th {\n",
       "        text-align: left;\n",
       "    }\n",
       "\n",
       "    .dataframe tbody tr th {\n",
       "        vertical-align: top;\n",
       "    }\n",
       "</style>\n",
       "<table border=\"1\" class=\"dataframe\">\n",
       "  <thead>\n",
       "    <tr style=\"text-align: right;\">\n",
       "      <th></th>\n",
       "      <th>directors</th>\n",
       "      <th>writers</th>\n",
       "      <th>belongs_to_collection</th>\n",
       "      <th>genres</th>\n",
       "      <th>original_language</th>\n",
       "      <th>production_companies</th>\n",
       "      <th>runtime</th>\n",
       "      <th>keywords</th>\n",
       "      <th>release_month</th>\n",
       "      <th>release_weekday</th>\n",
       "      <th>cast_names</th>\n",
       "      <th>revenue_inflated</th>\n",
       "      <th>genres_counter</th>\n",
       "      <th>production_companies_counter</th>\n",
       "      <th>N_male</th>\n",
       "      <th>N_female</th>\n",
       "    </tr>\n",
       "  </thead>\n",
       "  <tbody>\n",
       "    <tr>\n",
       "      <th>0</th>\n",
       "      <td>2.669624e+08</td>\n",
       "      <td>2.669624e+08</td>\n",
       "      <td>7.092380e+07</td>\n",
       "      <td>1.059860e+08</td>\n",
       "      <td>1.188783e+08</td>\n",
       "      <td>2.669624e+08</td>\n",
       "      <td>193.0</td>\n",
       "      <td>2.269225e+08</td>\n",
       "      <td>8.272077e+07</td>\n",
       "      <td>1.408839e+08</td>\n",
       "      <td>1.759860e+08</td>\n",
       "      <td>2.669624e+08</td>\n",
       "      <td>3</td>\n",
       "      <td>1</td>\n",
       "      <td>1</td>\n",
       "      <td>3</td>\n",
       "    </tr>\n",
       "    <tr>\n",
       "      <th>1</th>\n",
       "      <td>1.799046e+08</td>\n",
       "      <td>1.962946e+08</td>\n",
       "      <td>7.092380e+07</td>\n",
       "      <td>1.667151e+08</td>\n",
       "      <td>1.188783e+08</td>\n",
       "      <td>1.799046e+08</td>\n",
       "      <td>105.0</td>\n",
       "      <td>1.175707e+08</td>\n",
       "      <td>1.797448e+08</td>\n",
       "      <td>9.058722e+07</td>\n",
       "      <td>1.799046e+08</td>\n",
       "      <td>1.799046e+08</td>\n",
       "      <td>4</td>\n",
       "      <td>1</td>\n",
       "      <td>0</td>\n",
       "      <td>0</td>\n",
       "    </tr>\n",
       "    <tr>\n",
       "      <th>2</th>\n",
       "      <td>1.298649e+08</td>\n",
       "      <td>1.298649e+08</td>\n",
       "      <td>7.092380e+07</td>\n",
       "      <td>8.279268e+07</td>\n",
       "      <td>1.188783e+08</td>\n",
       "      <td>1.298649e+08</td>\n",
       "      <td>93.0</td>\n",
       "      <td>2.149132e+08</td>\n",
       "      <td>8.251373e+07</td>\n",
       "      <td>1.279176e+08</td>\n",
       "      <td>1.468606e+08</td>\n",
       "      <td>1.298649e+08</td>\n",
       "      <td>2</td>\n",
       "      <td>1</td>\n",
       "      <td>1</td>\n",
       "      <td>1</td>\n",
       "    </tr>\n",
       "    <tr>\n",
       "      <th>3</th>\n",
       "      <td>7.112113e+07</td>\n",
       "      <td>7.112113e+07</td>\n",
       "      <td>7.092380e+07</td>\n",
       "      <td>8.279268e+07</td>\n",
       "      <td>1.188783e+08</td>\n",
       "      <td>4.454915e+07</td>\n",
       "      <td>68.0</td>\n",
       "      <td>1.225954e+08</td>\n",
       "      <td>5.521710e+07</td>\n",
       "      <td>8.316584e+07</td>\n",
       "      <td>4.069436e+07</td>\n",
       "      <td>3.423464e+07</td>\n",
       "      <td>2</td>\n",
       "      <td>2</td>\n",
       "      <td>2</td>\n",
       "      <td>1</td>\n",
       "    </tr>\n",
       "    <tr>\n",
       "      <th>4</th>\n",
       "      <td>2.919561e+06</td>\n",
       "      <td>4.166173e+06</td>\n",
       "      <td>7.092380e+07</td>\n",
       "      <td>7.353105e+07</td>\n",
       "      <td>1.188783e+08</td>\n",
       "      <td>5.839109e+06</td>\n",
       "      <td>117.0</td>\n",
       "      <td>5.842999e+07</td>\n",
       "      <td>5.521710e+07</td>\n",
       "      <td>1.691554e+08</td>\n",
       "      <td>1.052070e+07</td>\n",
       "      <td>5.839109e+06</td>\n",
       "      <td>1</td>\n",
       "      <td>1</td>\n",
       "      <td>1</td>\n",
       "      <td>0</td>\n",
       "    </tr>\n",
       "  </tbody>\n",
       "</table>\n",
       "</div>"
      ],
      "text/plain": [
       "      directors       writers  belongs_to_collection        genres  \\\n",
       "0  2.669624e+08  2.669624e+08           7.092380e+07  1.059860e+08   \n",
       "1  1.799046e+08  1.962946e+08           7.092380e+07  1.667151e+08   \n",
       "2  1.298649e+08  1.298649e+08           7.092380e+07  8.279268e+07   \n",
       "3  7.112113e+07  7.112113e+07           7.092380e+07  8.279268e+07   \n",
       "4  2.919561e+06  4.166173e+06           7.092380e+07  7.353105e+07   \n",
       "\n",
       "   original_language  production_companies  runtime      keywords  \\\n",
       "0       1.188783e+08          2.669624e+08    193.0  2.269225e+08   \n",
       "1       1.188783e+08          1.799046e+08    105.0  1.175707e+08   \n",
       "2       1.188783e+08          1.298649e+08     93.0  2.149132e+08   \n",
       "3       1.188783e+08          4.454915e+07     68.0  1.225954e+08   \n",
       "4       1.188783e+08          5.839109e+06    117.0  5.842999e+07   \n",
       "\n",
       "   release_month  release_weekday    cast_names  revenue_inflated  \\\n",
       "0   8.272077e+07     1.408839e+08  1.759860e+08      2.669624e+08   \n",
       "1   1.797448e+08     9.058722e+07  1.799046e+08      1.799046e+08   \n",
       "2   8.251373e+07     1.279176e+08  1.468606e+08      1.298649e+08   \n",
       "3   5.521710e+07     8.316584e+07  4.069436e+07      3.423464e+07   \n",
       "4   5.521710e+07     1.691554e+08  1.052070e+07      5.839109e+06   \n",
       "\n",
       "   genres_counter  production_companies_counter  N_male  N_female  \n",
       "0               3                             1       1         3  \n",
       "1               4                             1       0         0  \n",
       "2               2                             1       1         1  \n",
       "3               2                             2       2         1  \n",
       "4               1                             1       1         0  "
      ]
     },
     "execution_count": 39,
     "metadata": {},
     "output_type": "execute_result"
    }
   ],
   "source": [
    "reves.head()"
   ]
  },
  {
   "cell_type": "code",
   "execution_count": 40,
   "metadata": {},
   "outputs": [],
   "source": [
    "reves.to_pickle(\"data/reves.pkl\")"
   ]
  },
  {
   "cell_type": "markdown",
   "metadata": {},
   "source": [
    "### Values for the dataframe transformation"
   ]
  },
  {
   "cell_type": "markdown",
   "metadata": {},
   "source": [
    "In this cell we are just saving the dicts we have created for later use in modelling and front-end development."
   ]
  },
  {
   "cell_type": "code",
   "execution_count": 41,
   "metadata": {},
   "outputs": [],
   "source": [
    "with open(\"transformation/collection_dict.pickle\", \"wb\") as handle:\n",
    "    pickle.dump(collection_dict, handle, protocol=pickle.HIGHEST_PROTOCOL)\n",
    "    \n",
    "with open(\"transformation/genres_dict.pickle\", \"wb\") as handle:\n",
    "    pickle.dump(genres_dict, handle, protocol=pickle.HIGHEST_PROTOCOL)\n",
    "\n",
    "with open(\"transformation/language_dict.pickle\", \"wb\") as handle:\n",
    "    pickle.dump(language_dict, handle, protocol=pickle.HIGHEST_PROTOCOL)\n",
    "    \n",
    "with open(\"transformation/production_company_dict.pickle\", \"wb\") as handle:\n",
    "    pickle.dump(production_company_dict, handle, protocol=pickle.HIGHEST_PROTOCOL)\n",
    "    \n",
    "with open(\"transformation/cast_dict.pickle\", \"wb\") as handle:\n",
    "    pickle.dump(cast_dict, handle, protocol=pickle.HIGHEST_PROTOCOL)\n",
    "    \n",
    "with open(\"transformation/directors_dict.pickle\", \"wb\") as handle:\n",
    "    pickle.dump(directors_dict, handle, protocol=pickle.HIGHEST_PROTOCOL)\n",
    "    \n",
    "with open(\"transformation/writers_dict.pickle\", \"wb\") as handle:\n",
    "    pickle.dump(directors_dict, handle, protocol=pickle.HIGHEST_PROTOCOL)\n",
    "    \n",
    "with open(\"transformation/keywords_dict.pickle\", \"wb\") as handle:\n",
    "    pickle.dump(keywords_dict, handle, protocol=pickle.HIGHEST_PROTOCOL)\n",
    "    \n",
    "with open(\"transformation/month_dict.pickle\", \"wb\") as handle:\n",
    "    pickle.dump(month_dict, handle, protocol=pickle.HIGHEST_PROTOCOL)\n",
    "    \n",
    "with open(\"transformation/weekday_dict.pickle\", \"wb\") as handle:\n",
    "    pickle.dump(weekday_dict, handle, protocol=pickle.HIGHEST_PROTOCOL)"
   ]
  },
  {
   "cell_type": "markdown",
   "metadata": {},
   "source": [
    "### Resumen de las transformaciones que se han realizado. \n",
    "Este es el código que usaremos en el backend para transformar los datos que nos de el usuario y poder meterlos al modelo. \n",
    "Hemos añadido una parte de limpieza de datos (lower, strip, etc) para limpiar los datos de entrada y que puedan entrar al modelo sin dar fallo. "
   ]
  },
  {
   "cell_type": "markdown",
   "metadata": {},
   "source": [
    "``` python\n",
    "# belongs_to_collection\n",
    "test_df[\"belongs_to_collection\"] = test_df[\"belongs_to_collection\"].apply(rf.get_mean, variable_mean_dict = collection_dict)\n",
    "\n",
    "# genres\n",
    "test_df[\"genres\"] = test_df[\"genres\"].apply(rf.get_mean, variable_mean_dict = genres_dict)\n",
    "\n",
    "# original language\n",
    "test_df[\"original_language\"] = test_df[\"original_language\"].apply(rf.get_mean, variable_mean_dict = language_dict)\n",
    "\n",
    "# production company\n",
    "test_df[\"production_companies\"] = test_df[\"production_companies\"].apply(rf.get_mean, variable_mean_dict = production_company_dict)\n",
    "test_df[\"production_companies_counter\"] = reves[\"production_companies\"].apply(lambda x: len(x))\n",
    "\n",
    "# cast names\n",
    "test_df[\"cast_names\"] = test_df[\"cast_names\"].apply(rf.get_mean, variable_mean_dict = cast_dict)\n",
    "test_df[\"N_male\"] = test_df[\"cast_gender\"].apply(get_male_count)\n",
    "test_df[\"N_female\"] = test_df[\"cast_gender\"].apply(get_female_count)\n",
    "\n",
    "# directors\n",
    "test_df[\"directors\"] = test_df[\"directors\"].apply(rf.get_mean, variable_mean_dict = directors_dict)\n",
    "\n",
    "# writers\n",
    "test_df[\"writers\"] = test_df[\"writers\"].apply(rf.get_mean, variable_mean_dict = writers_dict)\n",
    "\n",
    "# keywords\n",
    "test_df[\"keywords\"] = test_df[\"keywords\"].apply(rf.get_mean, variable_mean_dict = keywords_dict)\n",
    "\n",
    "# release date\n",
    "test_df[\"release_month\"] = test_df[\"release_month\"].apply(rf.get_mean, variable_mean_dict = month_dict)\n",
    "test_df[\"release_weekday\"] = test_df[\"release_weekday\"].apply(rf.get_mean, variable_mean_dict = weekday_dict)\n",
    "```"
   ]
  }
 ],
 "metadata": {
  "kernelspec": {
   "display_name": "Python 3",
   "language": "python",
   "name": "python3"
  },
  "language_info": {
   "codemirror_mode": {
    "name": "ipython",
    "version": 3
   },
   "file_extension": ".py",
   "mimetype": "text/x-python",
   "name": "python",
   "nbconvert_exporter": "python",
   "pygments_lexer": "ipython3",
   "version": "3.6.5"
  }
 },
 "nbformat": 4,
 "nbformat_minor": 2
}
