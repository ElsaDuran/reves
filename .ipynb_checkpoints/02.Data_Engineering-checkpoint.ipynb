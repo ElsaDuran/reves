{
 "cells": [
  {
   "cell_type": "markdown",
   "metadata": {},
   "source": [
    "# 02. Data Engineering"
   ]
  },
  {
   "cell_type": "markdown",
   "metadata": {},
   "source": [
    "In this notebook, we will transform the data to fit the format required for our model and we will create new features to add valuable info to it. \n",
    "\n",
    "To start this notebook we will use the DataFrame we generated in Cleaning_Data."
   ]
  },
  {
   "cell_type": "markdown",
   "metadata": {},
   "source": [
    "## Loading libraries and data"
   ]
  },
  {
   "cell_type": "code",
   "execution_count": 1,
   "metadata": {},
   "outputs": [],
   "source": [
    "import numpy as np\n",
    "import pandas as pd\n",
    "import collections"
   ]
  },
  {
   "cell_type": "markdown",
   "metadata": {},
   "source": [
    "Aquí cargo las 3 funciones que se utilizan para realizar las transformaciones. Dos de ellas ya se han visto en el primer notebook.\n",
    "\n",
    "* **word_count**. Lo que hace esta función es devolver un contador a modo de diccionario en el que la key es el valor contenido de la variable que introducimos como input, y el value es el número de veces que ese valor sale en la variable del dataframe.\n",
    "\n",
    "\n",
    "* **word_mean**. Te devuelve un diccionario parecido a word_count, pero en lugar de ser un contador el valor del diccionario es la media de la variable (revenue, o lo que se quiera). Esta función llama a word_count para saber el contador y así calcular la media.\n",
    "\n",
    "\n",
    "* **media**. Esta función es para aplicarla a una serie. Lo que hace es sustituye el valor por el número correspondiente contenido en el diccionario que ha devuelto la función word_mean. Una vez se tiene esa lista de valores calcula la media y devuelve ese valor.\n",
    "    - Es importante saber que hacer en el caso de que al utilizar un modelo e introducir películas a predecir que sucede cuando se introduce un valor que no aparece en el dataframe. Pongamos un ejemplo en el cual es la primera película de un director, que jamás ha salido en ninguna otra. Que valor se toma para esta persona? Esta función lo que toma es el valor medio que tienen todos los directores. He probado con introducir el mínimo pero el modelo comete fallos."
   ]
  },
  {
   "cell_type": "code",
   "execution_count": 2,
   "metadata": {},
   "outputs": [],
   "source": [
    "def word_count(dataframe, ref_variable):\n",
    "    values_list = []\n",
    "    \n",
    "    for elements_list in dataframe[ref_variable]:\n",
    "        for value in elements_list:\n",
    "            values_list.append(value)\n",
    "    \n",
    "    return collections.Counter(values_list)\n",
    "\n",
    "\n",
    "def word_mean(dataframe, column, variable):\n",
    "    counter = word_count(dataframe, column)\n",
    "    \n",
    "    word_mean_dict = {}\n",
    "\n",
    "    for i, x in enumerate(dataframe[column]):\n",
    "        for name in x:\n",
    "            if name not in word_mean_dict:\n",
    "                word_mean_dict[name] = dataframe.get_value(i, variable) / counter[name]\n",
    "            else:\n",
    "                word_mean_dict[name] = word_mean_dict[name] + (dataframe.get_value(i, variable) / counter[name])\n",
    "                \n",
    "    return word_mean_dict\n",
    "\n",
    "def media(lista):\n",
    "    return np.mean(list(map(lambda x: diccionario[x] if x in diccionario else np.mean(list(diccionario.values())), lista))) "
   ]
  },
  {
   "cell_type": "code",
   "execution_count": 3,
   "metadata": {
    "scrolled": true
   },
   "outputs": [],
   "source": [
    "reves = pd.read_pickle(\"data/cleaned_reves_df.pkl\")"
   ]
  },
  {
   "cell_type": "code",
   "execution_count": 4,
   "metadata": {
    "scrolled": true
   },
   "outputs": [
    {
     "data": {
      "text/html": [
       "<div>\n",
       "<style>\n",
       "    .dataframe thead tr:only-child th {\n",
       "        text-align: right;\n",
       "    }\n",
       "\n",
       "    .dataframe thead th {\n",
       "        text-align: left;\n",
       "    }\n",
       "\n",
       "    .dataframe tbody tr th {\n",
       "        vertical-align: top;\n",
       "    }\n",
       "</style>\n",
       "<table border=\"1\" class=\"dataframe\">\n",
       "  <thead>\n",
       "    <tr style=\"text-align: right;\">\n",
       "      <th></th>\n",
       "      <th>directors</th>\n",
       "      <th>writers</th>\n",
       "      <th>belongs_to_collection</th>\n",
       "      <th>genres</th>\n",
       "      <th>homepage</th>\n",
       "      <th>original_language</th>\n",
       "      <th>production_companies</th>\n",
       "      <th>revenue</th>\n",
       "      <th>runtime</th>\n",
       "      <th>title</th>\n",
       "      <th>keywords</th>\n",
       "      <th>release_year</th>\n",
       "      <th>release_month</th>\n",
       "      <th>release_weekday</th>\n",
       "      <th>cast_names</th>\n",
       "      <th>cast_gender</th>\n",
       "    </tr>\n",
       "  </thead>\n",
       "  <tbody>\n",
       "    <tr>\n",
       "      <th>0</th>\n",
       "      <td>[D.W. Griffith]</td>\n",
       "      <td>[Thomas Dixon Jr., D.W. Griffith, Frank E. Woods]</td>\n",
       "      <td>NaN</td>\n",
       "      <td>[Drama, History, War]</td>\n",
       "      <td>no</td>\n",
       "      <td>en</td>\n",
       "      <td>[Epoch Film Co.]</td>\n",
       "      <td>11000000.0</td>\n",
       "      <td>193.0</td>\n",
       "      <td>The Birth of a Nation</td>\n",
       "      <td>[ku klux klan, southern usa, patriotism, army,...</td>\n",
       "      <td>1915.0</td>\n",
       "      <td>2.0</td>\n",
       "      <td>0.0</td>\n",
       "      <td>[Lillian Gish, Mae Marsh, Henry B. Walthall, M...</td>\n",
       "      <td>[1, 1, 2, 1, 0, 2, 2, 1, 2, 1, 2, 2, 0, 0, 0, ...</td>\n",
       "    </tr>\n",
       "    <tr>\n",
       "      <th>1</th>\n",
       "      <td>[Cecil B. DeMille]</td>\n",
       "      <td>[Hector Turnbull, Jeanie Macpherson]</td>\n",
       "      <td>NaN</td>\n",
       "      <td>[Drama]</td>\n",
       "      <td>no</td>\n",
       "      <td>en</td>\n",
       "      <td>[Jesse L. Lasky Feature Play Company]</td>\n",
       "      <td>137365.0</td>\n",
       "      <td>59.0</td>\n",
       "      <td>The Cheat</td>\n",
       "      <td>[]</td>\n",
       "      <td>1915.0</td>\n",
       "      <td>12.0</td>\n",
       "      <td>0.0</td>\n",
       "      <td>[Fannie Ward, Jack Dean, Sessue Hayakawa, Jame...</td>\n",
       "      <td>[1, 2, 2, 0, 0, 0, 0, 0, 0, 2, 2]</td>\n",
       "    </tr>\n",
       "  </tbody>\n",
       "</table>\n",
       "</div>"
      ],
      "text/plain": [
       "            directors                                            writers  \\\n",
       "0     [D.W. Griffith]  [Thomas Dixon Jr., D.W. Griffith, Frank E. Woods]   \n",
       "1  [Cecil B. DeMille]               [Hector Turnbull, Jeanie Macpherson]   \n",
       "\n",
       "  belongs_to_collection                 genres homepage original_language  \\\n",
       "0                   NaN  [Drama, History, War]       no                en   \n",
       "1                   NaN                [Drama]       no                en   \n",
       "\n",
       "                    production_companies     revenue  runtime  \\\n",
       "0                       [Epoch Film Co.]  11000000.0    193.0   \n",
       "1  [Jesse L. Lasky Feature Play Company]    137365.0     59.0   \n",
       "\n",
       "                   title                                           keywords  \\\n",
       "0  The Birth of a Nation  [ku klux klan, southern usa, patriotism, army,...   \n",
       "1              The Cheat                                                 []   \n",
       "\n",
       "   release_year  release_month  release_weekday  \\\n",
       "0        1915.0            2.0              0.0   \n",
       "1        1915.0           12.0              0.0   \n",
       "\n",
       "                                          cast_names  \\\n",
       "0  [Lillian Gish, Mae Marsh, Henry B. Walthall, M...   \n",
       "1  [Fannie Ward, Jack Dean, Sessue Hayakawa, Jame...   \n",
       "\n",
       "                                         cast_gender  \n",
       "0  [1, 1, 2, 1, 0, 2, 2, 1, 2, 1, 2, 2, 0, 0, 0, ...  \n",
       "1                  [1, 2, 2, 0, 0, 0, 0, 0, 0, 2, 2]  "
      ]
     },
     "execution_count": 4,
     "metadata": {},
     "output_type": "execute_result"
    }
   ],
   "source": [
    "reves.head(2)"
   ]
  },
  {
   "cell_type": "markdown",
   "metadata": {},
   "source": [
    "## Let's perform some data transformation"
   ]
  },
  {
   "cell_type": "markdown",
   "metadata": {},
   "source": [
    "#### Revenue & Release Year"
   ]
  },
  {
   "cell_type": "markdown",
   "metadata": {},
   "source": [
    "Aquí lo que se hace es transformar la variable a predecir. Hay que tener en cuenta de que el precio de las entradas al cine ha ido cambiando con los años y no es lo mismo una película que haya recaudado 100 millones en 1930 que una en 2015. Para ello lo que se utiliza es una transformación en base al CPI. \n",
    "\n",
    "Los datos están obtenidos de esta web: https://www.usinflationcalculator.com/inflation/consumer-price-index-and-annual-percent-changes-from-1913-to-2008/\n",
    "\n",
    "Y aquí la explicación de como hacer el cálculo: https://www.usinflationcalculator.com/frequently-asked-questions-faqs/#HowInflationCalculatorWorks"
   ]
  },
  {
   "cell_type": "markdown",
   "metadata": {},
   "source": [
    "La tabla contenida en la web está descargada en un excel para su uso en pandas. La transformación se hace hasta el dato del cpi del año 2017."
   ]
  },
  {
   "cell_type": "code",
   "execution_count": 5,
   "metadata": {},
   "outputs": [],
   "source": [
    "cpi_df = pd.read_excel(\"data/CPI_data.xlsx\")\n",
    "cpi_dict = dict(zip(cpi_df[\"Year\"], cpi_df[\"Avg\"]))\n",
    "reves[\"cpi\"] = reves[\"release_year\"].apply(lambda x: cpi_dict[x] if x in cpi_dict else 0)\n",
    "reves[\"revenue_inflated\"] = reves[\"revenue\"] * (cpi_dict[2017] / reves[\"cpi\"])"
   ]
  },
  {
   "cell_type": "code",
   "execution_count": 6,
   "metadata": {},
   "outputs": [
    {
     "data": {
      "text/html": [
       "<div>\n",
       "<style>\n",
       "    .dataframe thead tr:only-child th {\n",
       "        text-align: right;\n",
       "    }\n",
       "\n",
       "    .dataframe thead th {\n",
       "        text-align: left;\n",
       "    }\n",
       "\n",
       "    .dataframe tbody tr th {\n",
       "        vertical-align: top;\n",
       "    }\n",
       "</style>\n",
       "<table border=\"1\" class=\"dataframe\">\n",
       "  <thead>\n",
       "    <tr style=\"text-align: right;\">\n",
       "      <th></th>\n",
       "      <th>revenue</th>\n",
       "      <th>revenue_inflated</th>\n",
       "      <th>release_year</th>\n",
       "      <th>title</th>\n",
       "    </tr>\n",
       "  </thead>\n",
       "  <tbody>\n",
       "    <tr>\n",
       "      <th>58</th>\n",
       "      <td>4.001765e+08</td>\n",
       "      <td>7.056925e+09</td>\n",
       "      <td>1939.0</td>\n",
       "      <td>Gone with the Wind</td>\n",
       "    </tr>\n",
       "    <tr>\n",
       "      <th>123</th>\n",
       "      <td>5.720000e+08</td>\n",
       "      <td>5.392640e+09</td>\n",
       "      <td>1951.0</td>\n",
       "      <td>Alice in Wonderland</td>\n",
       "    </tr>\n",
       "    <tr>\n",
       "      <th>75</th>\n",
       "      <td>2.674472e+08</td>\n",
       "      <td>4.021880e+09</td>\n",
       "      <td>1942.0</td>\n",
       "      <td>Bambi</td>\n",
       "    </tr>\n",
       "    <tr>\n",
       "      <th>4537</th>\n",
       "      <td>2.787965e+09</td>\n",
       "      <td>3.185399e+09</td>\n",
       "      <td>2009.0</td>\n",
       "      <td>Avatar</td>\n",
       "    </tr>\n",
       "    <tr>\n",
       "      <th>54</th>\n",
       "      <td>1.849255e+08</td>\n",
       "      <td>3.147843e+09</td>\n",
       "      <td>1937.0</td>\n",
       "      <td>Snow White and the Seven Dwarfs</td>\n",
       "    </tr>\n",
       "  </tbody>\n",
       "</table>\n",
       "</div>"
      ],
      "text/plain": [
       "           revenue  revenue_inflated  release_year  \\\n",
       "58    4.001765e+08      7.056925e+09        1939.0   \n",
       "123   5.720000e+08      5.392640e+09        1951.0   \n",
       "75    2.674472e+08      4.021880e+09        1942.0   \n",
       "4537  2.787965e+09      3.185399e+09        2009.0   \n",
       "54    1.849255e+08      3.147843e+09        1937.0   \n",
       "\n",
       "                                title  \n",
       "58                 Gone with the Wind  \n",
       "123               Alice in Wonderland  \n",
       "75                              Bambi  \n",
       "4537                           Avatar  \n",
       "54    Snow White and the Seven Dwarfs  "
      ]
     },
     "execution_count": 6,
     "metadata": {},
     "output_type": "execute_result"
    }
   ],
   "source": [
    "reves[[\"revenue\", \"revenue_inflated\", \"release_year\", \"title\"]].sort_values(by = \"revenue_inflated\", ascending = False).head(5)"
   ]
  },
  {
   "cell_type": "markdown",
   "metadata": {},
   "source": [
    "Esta celda únicamente la utilizo para probar el modelo. Ahora está puesta como que el criterio que utilizo es la variable revenue_inflated. Pero también se podría hacer pruebas para ver como funciona el modelo para la variable revenue, sin tener en cuenta la inflación."
   ]
  },
  {
   "cell_type": "code",
   "execution_count": 7,
   "metadata": {},
   "outputs": [],
   "source": [
    "criterio = \"revenue_inflated\""
   ]
  },
  {
   "cell_type": "markdown",
   "metadata": {},
   "source": [
    "#### Homepage \n",
    "\n",
    "Obtenemos el valor medio del revenue_inflated para las películas con homepage o no_homepage y sustimos."
   ]
  },
  {
   "cell_type": "code",
   "execution_count": 8,
   "metadata": {},
   "outputs": [],
   "source": [
    "no_homepage = reves.groupby(\"homepage\")[criterio].describe()[\"mean\"][0]\n",
    "yes_homepage = reves.groupby(\"homepage\")[criterio].describe()[\"mean\"][1]\n",
    "reves[\"homepage\"] = reves[\"homepage\"].apply(lambda x: no_homepage if x == \"no\" else yes_homepage)"
   ]
  },
  {
   "cell_type": "markdown",
   "metadata": {},
   "source": [
    "#### Belongs to collection"
   ]
  },
  {
   "cell_type": "markdown",
   "metadata": {},
   "source": [
    "As we explained in the first notebook, what we really need from this column is to know whether a movie belongs to a series or a collection or not. The name of the collection by itself woulnd't add any knowledge to our model. That's why we are going to overwrite this column with 2 possible values:\n",
    "- 1 for movies that belong to a collection\n",
    "- 0 for movies that don't"
   ]
  },
  {
   "cell_type": "markdown",
   "metadata": {},
   "source": [
    "Lo que he hecho es calcular la media de revenue_inflated que tiene cada franquicia con la función word_mean. Y sustituyo ese valor en el dataframe. Para las películas que no son de ninguna franquicia en el diccionario están como si fuese la franquicia \"No\" con su correspondiente valor medio de revenue_inflated."
   ]
  },
  {
   "cell_type": "code",
   "execution_count": 9,
   "metadata": {},
   "outputs": [],
   "source": [
    "reves[\"belongs_to_collection\"] = reves[\"belongs_to_collection\"].apply(lambda x: [\"No\"] if pd.isnull(x) else [x])\n",
    "diccionario = word_mean(reves, \"belongs_to_collection\", criterio)\n",
    "reves[\"belongs_to_collection\"] = reves[\"belongs_to_collection\"].apply(media)"
   ]
  },
  {
   "cell_type": "code",
   "execution_count": 10,
   "metadata": {},
   "outputs": [],
   "source": [
    "collection_dict = diccionario"
   ]
  },
  {
   "cell_type": "code",
   "execution_count": 11,
   "metadata": {},
   "outputs": [
    {
     "data": {
      "text/html": [
       "<div>\n",
       "<style>\n",
       "    .dataframe thead tr:only-child th {\n",
       "        text-align: right;\n",
       "    }\n",
       "\n",
       "    .dataframe thead th {\n",
       "        text-align: left;\n",
       "    }\n",
       "\n",
       "    .dataframe tbody tr th {\n",
       "        vertical-align: top;\n",
       "    }\n",
       "</style>\n",
       "<table border=\"1\" class=\"dataframe\">\n",
       "  <thead>\n",
       "    <tr style=\"text-align: right;\">\n",
       "      <th></th>\n",
       "      <th>belongs_to_collection</th>\n",
       "      <th>revenue_inflated</th>\n",
       "      <th>title</th>\n",
       "    </tr>\n",
       "  </thead>\n",
       "  <tbody>\n",
       "    <tr>\n",
       "      <th>75</th>\n",
       "      <td>4.021880e+09</td>\n",
       "      <td>4.021880e+09</td>\n",
       "      <td>Bambi</td>\n",
       "    </tr>\n",
       "    <tr>\n",
       "      <th>4537</th>\n",
       "      <td>3.185399e+09</td>\n",
       "      <td>3.185399e+09</td>\n",
       "      <td>Avatar</td>\n",
       "    </tr>\n",
       "    <tr>\n",
       "      <th>118</th>\n",
       "      <td>2.680976e+09</td>\n",
       "      <td>2.680976e+09</td>\n",
       "      <td>Cinderella</td>\n",
       "    </tr>\n",
       "    <tr>\n",
       "      <th>233</th>\n",
       "      <td>1.769783e+09</td>\n",
       "      <td>1.769783e+09</td>\n",
       "      <td>One Hundred and One Dalmatians</td>\n",
       "    </tr>\n",
       "    <tr>\n",
       "      <th>2666</th>\n",
       "      <td>1.584568e+09</td>\n",
       "      <td>1.066831e+09</td>\n",
       "      <td>Star Wars: Episode III - Revenge of the Sith</td>\n",
       "    </tr>\n",
       "  </tbody>\n",
       "</table>\n",
       "</div>"
      ],
      "text/plain": [
       "      belongs_to_collection  revenue_inflated  \\\n",
       "75             4.021880e+09      4.021880e+09   \n",
       "4537           3.185399e+09      3.185399e+09   \n",
       "118            2.680976e+09      2.680976e+09   \n",
       "233            1.769783e+09      1.769783e+09   \n",
       "2666           1.584568e+09      1.066831e+09   \n",
       "\n",
       "                                             title  \n",
       "75                                           Bambi  \n",
       "4537                                        Avatar  \n",
       "118                                     Cinderella  \n",
       "233                 One Hundred and One Dalmatians  \n",
       "2666  Star Wars: Episode III - Revenge of the Sith  "
      ]
     },
     "execution_count": 11,
     "metadata": {},
     "output_type": "execute_result"
    }
   ],
   "source": [
    "reves[[\"belongs_to_collection\", criterio, \"title\"]].sort_values(by = \"belongs_to_collection\", ascending = False).head(5)"
   ]
  },
  {
   "cell_type": "markdown",
   "metadata": {},
   "source": [
    "#### Genres"
   ]
  },
  {
   "cell_type": "markdown",
   "metadata": {},
   "source": [
    "From \"Genres\" we are going to create the following columns that will add more valuable an actionable information to reves:\n",
    "- **Genres count:** We think that the number of genres associated to a movie could be related to the complexity of the plot, and eventually to the movie's potential revenue.\n",
    "- **Dummy genres**: we will transform a list of N genres to N dummy columns that will contain 1 or 0 values according to whether the movie has that genre associated (1) or not (0)."
   ]
  },
  {
   "cell_type": "markdown",
   "metadata": {},
   "source": [
    "Aquí pasa lo mismo, para cada género calculo su valor medio de revenue_inflated con la función word_mean y luego sustituyo por cada película"
   ]
  },
  {
   "cell_type": "code",
   "execution_count": 12,
   "metadata": {},
   "outputs": [],
   "source": [
    "reves = reves[reves[\"genres\"].str.len() != 0].reset_index(drop = True)\n",
    "diccionario = word_mean(reves, \"genres\", criterio)\n",
    "reves[\"genres\"] = reves[\"genres\"].apply(media)"
   ]
  },
  {
   "cell_type": "code",
   "execution_count": 13,
   "metadata": {},
   "outputs": [],
   "source": [
    "genres_dict = diccionario"
   ]
  },
  {
   "cell_type": "code",
   "execution_count": 14,
   "metadata": {},
   "outputs": [
    {
     "data": {
      "text/html": [
       "<div>\n",
       "<style>\n",
       "    .dataframe thead tr:only-child th {\n",
       "        text-align: right;\n",
       "    }\n",
       "\n",
       "    .dataframe thead th {\n",
       "        text-align: left;\n",
       "    }\n",
       "\n",
       "    .dataframe tbody tr th {\n",
       "        vertical-align: top;\n",
       "    }\n",
       "</style>\n",
       "<table border=\"1\" class=\"dataframe\">\n",
       "  <thead>\n",
       "    <tr style=\"text-align: right;\">\n",
       "      <th></th>\n",
       "      <th>genres</th>\n",
       "      <th>revenue_inflated</th>\n",
       "      <th>title</th>\n",
       "    </tr>\n",
       "  </thead>\n",
       "  <tbody>\n",
       "    <tr>\n",
       "      <th>7036</th>\n",
       "      <td>2.679820e+08</td>\n",
       "      <td>1.626846e+07</td>\n",
       "      <td>Mune: Guardian of the Moon</td>\n",
       "    </tr>\n",
       "    <tr>\n",
       "      <th>2958</th>\n",
       "      <td>2.679820e+08</td>\n",
       "      <td>2.460894e+08</td>\n",
       "      <td>Pokémon: The First Movie: Mewtwo Strikes Back</td>\n",
       "    </tr>\n",
       "    <tr>\n",
       "      <th>2100</th>\n",
       "      <td>2.679820e+08</td>\n",
       "      <td>1.616214e+07</td>\n",
       "      <td>The Swan Princess</td>\n",
       "    </tr>\n",
       "    <tr>\n",
       "      <th>6596</th>\n",
       "      <td>2.679820e+08</td>\n",
       "      <td>2.546512e+08</td>\n",
       "      <td>The Peanuts Movie</td>\n",
       "    </tr>\n",
       "    <tr>\n",
       "      <th>983</th>\n",
       "      <td>2.679820e+08</td>\n",
       "      <td>4.849706e+07</td>\n",
       "      <td>The Black Cauldron</td>\n",
       "    </tr>\n",
       "  </tbody>\n",
       "</table>\n",
       "</div>"
      ],
      "text/plain": [
       "            genres  revenue_inflated  \\\n",
       "7036  2.679820e+08      1.626846e+07   \n",
       "2958  2.679820e+08      2.460894e+08   \n",
       "2100  2.679820e+08      1.616214e+07   \n",
       "6596  2.679820e+08      2.546512e+08   \n",
       "983   2.679820e+08      4.849706e+07   \n",
       "\n",
       "                                              title  \n",
       "7036                     Mune: Guardian of the Moon  \n",
       "2958  Pokémon: The First Movie: Mewtwo Strikes Back  \n",
       "2100                              The Swan Princess  \n",
       "6596                              The Peanuts Movie  \n",
       "983                              The Black Cauldron  "
      ]
     },
     "execution_count": 14,
     "metadata": {},
     "output_type": "execute_result"
    }
   ],
   "source": [
    "reves[[\"genres\", criterio, \"title\"]].sort_values(by = \"genres\", ascending = False).head(5)"
   ]
  },
  {
   "cell_type": "markdown",
   "metadata": {},
   "source": [
    " \n",
    " \n",
    "#### Original Language"
   ]
  },
  {
   "cell_type": "markdown",
   "metadata": {},
   "source": [
    "As we stablished in the preliminar exploration, we will transform this feature into a categorical variable with 2 possible values:\n",
    "\n",
    "- English = 1\n",
    "- Not english = 0"
   ]
  },
  {
   "cell_type": "markdown",
   "metadata": {},
   "source": [
    "Aquí hago lo mismo para cada idioma que aparece en el dataframe"
   ]
  },
  {
   "cell_type": "code",
   "execution_count": 15,
   "metadata": {},
   "outputs": [],
   "source": [
    "reves[\"original_language\"] = reves[\"original_language\"].apply(lambda x: [x])\n",
    "diccionario = word_mean(reves, \"original_language\", criterio)\n",
    "reves[\"original_language\"] = reves[\"original_language\"].apply(media)"
   ]
  },
  {
   "cell_type": "code",
   "execution_count": 16,
   "metadata": {},
   "outputs": [],
   "source": [
    "language_dict = diccionario"
   ]
  },
  {
   "cell_type": "code",
   "execution_count": 17,
   "metadata": {},
   "outputs": [
    {
     "data": {
      "text/html": [
       "<div>\n",
       "<style>\n",
       "    .dataframe thead tr:only-child th {\n",
       "        text-align: right;\n",
       "    }\n",
       "\n",
       "    .dataframe thead th {\n",
       "        text-align: left;\n",
       "    }\n",
       "\n",
       "    .dataframe tbody tr th {\n",
       "        vertical-align: top;\n",
       "    }\n",
       "</style>\n",
       "<table border=\"1\" class=\"dataframe\">\n",
       "  <thead>\n",
       "    <tr style=\"text-align: right;\">\n",
       "      <th></th>\n",
       "      <th>original_language</th>\n",
       "      <th>revenue_inflated</th>\n",
       "      <th>title</th>\n",
       "    </tr>\n",
       "  </thead>\n",
       "  <tbody>\n",
       "    <tr>\n",
       "      <th>0</th>\n",
       "      <td>1.188783e+08</td>\n",
       "      <td>2.669624e+08</td>\n",
       "      <td>The Birth of a Nation</td>\n",
       "    </tr>\n",
       "    <tr>\n",
       "      <th>4210</th>\n",
       "      <td>1.188783e+08</td>\n",
       "      <td>1.739583e+07</td>\n",
       "      <td>The Assassination of Jesse James by the Coward...</td>\n",
       "    </tr>\n",
       "    <tr>\n",
       "      <th>4208</th>\n",
       "      <td>1.188783e+08</td>\n",
       "      <td>9.474125e+07</td>\n",
       "      <td>The Sentinel</td>\n",
       "    </tr>\n",
       "    <tr>\n",
       "      <th>6768</th>\n",
       "      <td>1.188783e+08</td>\n",
       "      <td>3.126346e+07</td>\n",
       "      <td>Far from the Madding Crowd</td>\n",
       "    </tr>\n",
       "    <tr>\n",
       "      <th>4206</th>\n",
       "      <td>1.188783e+08</td>\n",
       "      <td>3.371057e+06</td>\n",
       "      <td>Killshot</td>\n",
       "    </tr>\n",
       "  </tbody>\n",
       "</table>\n",
       "</div>"
      ],
      "text/plain": [
       "      original_language  revenue_inflated  \\\n",
       "0          1.188783e+08      2.669624e+08   \n",
       "4210       1.188783e+08      1.739583e+07   \n",
       "4208       1.188783e+08      9.474125e+07   \n",
       "6768       1.188783e+08      3.126346e+07   \n",
       "4206       1.188783e+08      3.371057e+06   \n",
       "\n",
       "                                                  title  \n",
       "0                                 The Birth of a Nation  \n",
       "4210  The Assassination of Jesse James by the Coward...  \n",
       "4208                                       The Sentinel  \n",
       "6768                         Far from the Madding Crowd  \n",
       "4206                                           Killshot  "
      ]
     },
     "execution_count": 17,
     "metadata": {},
     "output_type": "execute_result"
    }
   ],
   "source": [
    "reves[[\"original_language\", criterio, \"title\"]].sort_values(by = \"original_language\", ascending = False).head(5)"
   ]
  },
  {
   "cell_type": "markdown",
   "metadata": {},
   "source": [
    "  \n",
    "#### Production company"
   ]
  },
  {
   "cell_type": "markdown",
   "metadata": {},
   "source": [
    "Lo mismo que antes. Aquí primero elimino las películas que no tienen datos de productoras y luego creo una columna con el número de productoras que tiene la película"
   ]
  },
  {
   "cell_type": "code",
   "execution_count": 18,
   "metadata": {},
   "outputs": [],
   "source": [
    "#production companies\n",
    "reves = reves[reves[\"production_companies\"].str.len() != 0].reset_index(drop = True)\n",
    "reves[\"production_companies_counter\"] = reves[\"production_companies\"].apply(lambda x: len(x))\n",
    "diccionario = word_mean(reves, \"production_companies\", criterio)\n",
    "reves[\"production_companies\"] = reves[\"production_companies\"].apply(media)"
   ]
  },
  {
   "cell_type": "code",
   "execution_count": 19,
   "metadata": {},
   "outputs": [],
   "source": [
    "production_company_dict = diccionario"
   ]
  },
  {
   "cell_type": "code",
   "execution_count": 20,
   "metadata": {},
   "outputs": [
    {
     "data": {
      "text/html": [
       "<div>\n",
       "<style>\n",
       "    .dataframe thead tr:only-child th {\n",
       "        text-align: right;\n",
       "    }\n",
       "\n",
       "    .dataframe thead th {\n",
       "        text-align: left;\n",
       "    }\n",
       "\n",
       "    .dataframe tbody tr th {\n",
       "        vertical-align: top;\n",
       "    }\n",
       "</style>\n",
       "<table border=\"1\" class=\"dataframe\">\n",
       "  <thead>\n",
       "    <tr style=\"text-align: right;\">\n",
       "      <th></th>\n",
       "      <th>production_companies</th>\n",
       "      <th>revenue_inflated</th>\n",
       "      <th>title</th>\n",
       "    </tr>\n",
       "  </thead>\n",
       "  <tbody>\n",
       "    <tr>\n",
       "      <th>95</th>\n",
       "      <td>2.419100e+09</td>\n",
       "      <td>9.532444e+07</td>\n",
       "      <td>Spellbound</td>\n",
       "    </tr>\n",
       "    <tr>\n",
       "      <th>68</th>\n",
       "      <td>2.419100e+09</td>\n",
       "      <td>1.050514e+08</td>\n",
       "      <td>Rebecca</td>\n",
       "    </tr>\n",
       "    <tr>\n",
       "      <th>434</th>\n",
       "      <td>1.312827e+09</td>\n",
       "      <td>2.436328e+09</td>\n",
       "      <td>The Exorcist</td>\n",
       "    </tr>\n",
       "    <tr>\n",
       "      <th>58</th>\n",
       "      <td>1.281629e+09</td>\n",
       "      <td>7.056925e+09</td>\n",
       "      <td>Gone with the Wind</td>\n",
       "    </tr>\n",
       "    <tr>\n",
       "      <th>2148</th>\n",
       "      <td>1.113898e+09</td>\n",
       "      <td>1.280172e+07</td>\n",
       "      <td>Strange Days</td>\n",
       "    </tr>\n",
       "  </tbody>\n",
       "</table>\n",
       "</div>"
      ],
      "text/plain": [
       "      production_companies  revenue_inflated               title\n",
       "95            2.419100e+09      9.532444e+07          Spellbound\n",
       "68            2.419100e+09      1.050514e+08             Rebecca\n",
       "434           1.312827e+09      2.436328e+09        The Exorcist\n",
       "58            1.281629e+09      7.056925e+09  Gone with the Wind\n",
       "2148          1.113898e+09      1.280172e+07        Strange Days"
      ]
     },
     "execution_count": 20,
     "metadata": {},
     "output_type": "execute_result"
    }
   ],
   "source": [
    "reves[[\"production_companies\", criterio, \"title\"]].sort_values(by = \"production_companies\", ascending = False).head(5)"
   ]
  },
  {
   "cell_type": "markdown",
   "metadata": {},
   "source": [
    "\n",
    "#### Cast"
   ]
  },
  {
   "cell_type": "markdown",
   "metadata": {},
   "source": [
    "Lo mismo. Lo que no hago es calcular cuantos actores hay en el reparto, porque luego a la hora de que el usuario interactúe, no es práctico ir metiendo todos los actores de la película (hay películas con más de 100 actores), entonces únicamente se tiene en cuenta los 4 actores principales."
   ]
  },
  {
   "cell_type": "code",
   "execution_count": 21,
   "metadata": {},
   "outputs": [],
   "source": [
    "#cast names\n",
    "reves = reves[reves[\"cast_names\"].str.len() != 0].reset_index(drop = True)\n",
    "diccionario = word_mean(reves, \"cast_names\", criterio)\n",
    "reves[\"cast_names\"] = reves[\"cast_names\"].apply(lambda x: x[:4])\n",
    "reves[\"cast_names\"] = reves[\"cast_names\"].apply(media)"
   ]
  },
  {
   "cell_type": "code",
   "execution_count": 22,
   "metadata": {},
   "outputs": [],
   "source": [
    "cast_dict = diccionario"
   ]
  },
  {
   "cell_type": "code",
   "execution_count": 23,
   "metadata": {},
   "outputs": [
    {
     "data": {
      "text/html": [
       "<div>\n",
       "<style>\n",
       "    .dataframe thead tr:only-child th {\n",
       "        text-align: right;\n",
       "    }\n",
       "\n",
       "    .dataframe thead th {\n",
       "        text-align: left;\n",
       "    }\n",
       "\n",
       "    .dataframe tbody tr th {\n",
       "        vertical-align: top;\n",
       "    }\n",
       "</style>\n",
       "<table border=\"1\" class=\"dataframe\">\n",
       "  <thead>\n",
       "    <tr style=\"text-align: right;\">\n",
       "      <th></th>\n",
       "      <th>cast_names</th>\n",
       "      <th>revenue_inflated</th>\n",
       "      <th>title</th>\n",
       "    </tr>\n",
       "  </thead>\n",
       "  <tbody>\n",
       "    <tr>\n",
       "      <th>75</th>\n",
       "      <td>4.401261e+09</td>\n",
       "      <td>4.021880e+09</td>\n",
       "      <td>Bambi</td>\n",
       "    </tr>\n",
       "    <tr>\n",
       "      <th>54</th>\n",
       "      <td>2.769516e+09</td>\n",
       "      <td>3.147843e+09</td>\n",
       "      <td>Snow White and the Seven Dwarfs</td>\n",
       "    </tr>\n",
       "    <tr>\n",
       "      <th>123</th>\n",
       "      <td>2.297925e+09</td>\n",
       "      <td>5.392640e+09</td>\n",
       "      <td>Alice in Wonderland</td>\n",
       "    </tr>\n",
       "    <tr>\n",
       "      <th>118</th>\n",
       "      <td>1.889114e+09</td>\n",
       "      <td>2.680976e+09</td>\n",
       "      <td>Cinderella</td>\n",
       "    </tr>\n",
       "    <tr>\n",
       "      <th>58</th>\n",
       "      <td>1.870523e+09</td>\n",
       "      <td>7.056925e+09</td>\n",
       "      <td>Gone with the Wind</td>\n",
       "    </tr>\n",
       "  </tbody>\n",
       "</table>\n",
       "</div>"
      ],
      "text/plain": [
       "       cast_names  revenue_inflated                            title\n",
       "75   4.401261e+09      4.021880e+09                            Bambi\n",
       "54   2.769516e+09      3.147843e+09  Snow White and the Seven Dwarfs\n",
       "123  2.297925e+09      5.392640e+09              Alice in Wonderland\n",
       "118  1.889114e+09      2.680976e+09                       Cinderella\n",
       "58   1.870523e+09      7.056925e+09               Gone with the Wind"
      ]
     },
     "execution_count": 23,
     "metadata": {},
     "output_type": "execute_result"
    }
   ],
   "source": [
    "reves[[\"cast_names\", criterio, \"title\"]].sort_values(by = \"cast_names\", ascending = False).head(5)"
   ]
  },
  {
   "cell_type": "markdown",
   "metadata": {},
   "source": [
    "Para el género lo que se tiene en cuenta es de los 4 actores principales cuantos son hombres y cuantas son mujeres."
   ]
  },
  {
   "cell_type": "code",
   "execution_count": 24,
   "metadata": {},
   "outputs": [],
   "source": [
    "#cast gender\n",
    "reves = reves[reves[\"cast_gender\"].str.len() != 0].reset_index(drop = True)\n",
    "\n",
    "def contar_male(lista):   \n",
    "    male = 0\n",
    "    for genero in lista:\n",
    "        if genero == 2:\n",
    "            male += 1\n",
    "    return male\n",
    "\n",
    "def contar_female(lista):   \n",
    "    female = 0\n",
    "    for genero in lista:\n",
    "        if genero == 1:\n",
    "            female += 1\n",
    "    return female\n",
    "\n",
    "reves[\"cast_gender\"] = reves[\"cast_gender\"].apply(lambda x: x[:4])\n",
    "\n",
    "reves[\"N_male\"] = reves[\"cast_gender\"].apply(contar_male)\n",
    "reves[\"N_female\"] = reves[\"cast_gender\"].apply(contar_female)"
   ]
  },
  {
   "cell_type": "markdown",
   "metadata": {},
   "source": [
    "#### Directors"
   ]
  },
  {
   "cell_type": "markdown",
   "metadata": {},
   "source": [
    "Para los directores es lo mismo. Se calcula la media y se susituye el valor"
   ]
  },
  {
   "cell_type": "code",
   "execution_count": 25,
   "metadata": {},
   "outputs": [],
   "source": [
    "reves = reves[reves[\"directors\"].str.len() != 0].reset_index(drop = True)\n",
    "diccionario = word_mean(reves, \"directors\", criterio)\n",
    "reves[\"directors\"] = reves[\"directors\"].apply(media)"
   ]
  },
  {
   "cell_type": "code",
   "execution_count": 26,
   "metadata": {},
   "outputs": [],
   "source": [
    "directors_dict = diccionario"
   ]
  },
  {
   "cell_type": "code",
   "execution_count": 27,
   "metadata": {},
   "outputs": [
    {
     "data": {
      "text/html": [
       "<div>\n",
       "<style>\n",
       "    .dataframe thead tr:only-child th {\n",
       "        text-align: right;\n",
       "    }\n",
       "\n",
       "    .dataframe thead th {\n",
       "        text-align: left;\n",
       "    }\n",
       "\n",
       "    .dataframe tbody tr th {\n",
       "        vertical-align: top;\n",
       "    }\n",
       "</style>\n",
       "<table border=\"1\" class=\"dataframe\">\n",
       "  <thead>\n",
       "    <tr style=\"text-align: right;\">\n",
       "      <th></th>\n",
       "      <th>directors</th>\n",
       "      <th>revenue_inflated</th>\n",
       "      <th>title</th>\n",
       "    </tr>\n",
       "  </thead>\n",
       "  <tbody>\n",
       "    <tr>\n",
       "      <th>58</th>\n",
       "      <td>3.899356e+09</td>\n",
       "      <td>7.056925e+09</td>\n",
       "      <td>Gone with the Wind</td>\n",
       "    </tr>\n",
       "    <tr>\n",
       "      <th>75</th>\n",
       "      <td>2.730483e+09</td>\n",
       "      <td>4.021880e+09</td>\n",
       "      <td>Bambi</td>\n",
       "    </tr>\n",
       "    <tr>\n",
       "      <th>54</th>\n",
       "      <td>2.637869e+09</td>\n",
       "      <td>3.147843e+09</td>\n",
       "      <td>Snow White and the Seven Dwarfs</td>\n",
       "    </tr>\n",
       "    <tr>\n",
       "      <th>83</th>\n",
       "      <td>2.575623e+09</td>\n",
       "      <td>7.469196e+07</td>\n",
       "      <td>A Guy Named Joe</td>\n",
       "    </tr>\n",
       "    <tr>\n",
       "      <th>63</th>\n",
       "      <td>2.065520e+09</td>\n",
       "      <td>4.003039e+07</td>\n",
       "      <td>The Women</td>\n",
       "    </tr>\n",
       "  </tbody>\n",
       "</table>\n",
       "</div>"
      ],
      "text/plain": [
       "       directors  revenue_inflated                            title\n",
       "58  3.899356e+09      7.056925e+09               Gone with the Wind\n",
       "75  2.730483e+09      4.021880e+09                            Bambi\n",
       "54  2.637869e+09      3.147843e+09  Snow White and the Seven Dwarfs\n",
       "83  2.575623e+09      7.469196e+07                  A Guy Named Joe\n",
       "63  2.065520e+09      4.003039e+07                        The Women"
      ]
     },
     "execution_count": 27,
     "metadata": {},
     "output_type": "execute_result"
    }
   ],
   "source": [
    "reves[[\"directors\", criterio, \"title\"]].sort_values(by = \"directors\", ascending = False).head(5)"
   ]
  },
  {
   "cell_type": "markdown",
   "metadata": {},
   "source": [
    "#### Writers"
   ]
  },
  {
   "cell_type": "markdown",
   "metadata": {},
   "source": [
    "Lo mismo que con los directores"
   ]
  },
  {
   "cell_type": "code",
   "execution_count": 28,
   "metadata": {},
   "outputs": [],
   "source": [
    "reves = reves[reves[\"writers\"].str.len() != 0].reset_index(drop = True)\n",
    "diccionario = word_mean(reves, \"writers\", criterio)\n",
    "reves[\"writers\"] = reves[\"writers\"].apply(media)"
   ]
  },
  {
   "cell_type": "code",
   "execution_count": 29,
   "metadata": {},
   "outputs": [],
   "source": [
    "writers_dict = diccionario"
   ]
  },
  {
   "cell_type": "code",
   "execution_count": 30,
   "metadata": {},
   "outputs": [
    {
     "data": {
      "text/html": [
       "<div>\n",
       "<style>\n",
       "    .dataframe thead tr:only-child th {\n",
       "        text-align: right;\n",
       "    }\n",
       "\n",
       "    .dataframe thead th {\n",
       "        text-align: left;\n",
       "    }\n",
       "\n",
       "    .dataframe tbody tr th {\n",
       "        vertical-align: top;\n",
       "    }\n",
       "</style>\n",
       "<table border=\"1\" class=\"dataframe\">\n",
       "  <thead>\n",
       "    <tr style=\"text-align: right;\">\n",
       "      <th></th>\n",
       "      <th>writers</th>\n",
       "      <th>revenue_inflated</th>\n",
       "      <th>title</th>\n",
       "    </tr>\n",
       "  </thead>\n",
       "  <tbody>\n",
       "    <tr>\n",
       "      <th>58</th>\n",
       "      <td>4.628770e+09</td>\n",
       "      <td>7.056925e+09</td>\n",
       "      <td>Gone with the Wind</td>\n",
       "    </tr>\n",
       "    <tr>\n",
       "      <th>123</th>\n",
       "      <td>3.052142e+09</td>\n",
       "      <td>5.392640e+09</td>\n",
       "      <td>Alice in Wonderland</td>\n",
       "    </tr>\n",
       "    <tr>\n",
       "      <th>75</th>\n",
       "      <td>2.517277e+09</td>\n",
       "      <td>4.021880e+09</td>\n",
       "      <td>Bambi</td>\n",
       "    </tr>\n",
       "    <tr>\n",
       "      <th>54</th>\n",
       "      <td>2.292087e+09</td>\n",
       "      <td>3.147843e+09</td>\n",
       "      <td>Snow White and the Seven Dwarfs</td>\n",
       "    </tr>\n",
       "    <tr>\n",
       "      <th>118</th>\n",
       "      <td>1.861384e+09</td>\n",
       "      <td>2.680976e+09</td>\n",
       "      <td>Cinderella</td>\n",
       "    </tr>\n",
       "  </tbody>\n",
       "</table>\n",
       "</div>"
      ],
      "text/plain": [
       "          writers  revenue_inflated                            title\n",
       "58   4.628770e+09      7.056925e+09               Gone with the Wind\n",
       "123  3.052142e+09      5.392640e+09              Alice in Wonderland\n",
       "75   2.517277e+09      4.021880e+09                            Bambi\n",
       "54   2.292087e+09      3.147843e+09  Snow White and the Seven Dwarfs\n",
       "118  1.861384e+09      2.680976e+09                       Cinderella"
      ]
     },
     "execution_count": 30,
     "metadata": {},
     "output_type": "execute_result"
    }
   ],
   "source": [
    "reves[[\"writers\", criterio, \"title\"]].sort_values(by = \"writers\", ascending = False).head(5)"
   ]
  },
  {
   "cell_type": "markdown",
   "metadata": {},
   "source": [
    "#### Keywords"
   ]
  },
  {
   "cell_type": "markdown",
   "metadata": {},
   "source": [
    "Para los keywords es exactamente lo mismo"
   ]
  },
  {
   "cell_type": "code",
   "execution_count": 31,
   "metadata": {},
   "outputs": [],
   "source": [
    "reves = reves[reves[\"keywords\"].str.len() != 0].reset_index(drop = True)\n",
    "diccionario = word_mean(reves, \"keywords\", criterio)\n",
    "reves[\"keywords\"] = reves[\"keywords\"].apply(media)"
   ]
  },
  {
   "cell_type": "code",
   "execution_count": 32,
   "metadata": {},
   "outputs": [],
   "source": [
    "keywords_dict = diccionario"
   ]
  },
  {
   "cell_type": "code",
   "execution_count": 33,
   "metadata": {},
   "outputs": [
    {
     "data": {
      "text/html": [
       "<div>\n",
       "<style>\n",
       "    .dataframe thead tr:only-child th {\n",
       "        text-align: right;\n",
       "    }\n",
       "\n",
       "    .dataframe thead th {\n",
       "        text-align: left;\n",
       "    }\n",
       "\n",
       "    .dataframe tbody tr th {\n",
       "        vertical-align: top;\n",
       "    }\n",
       "</style>\n",
       "<table border=\"1\" class=\"dataframe\">\n",
       "  <thead>\n",
       "    <tr style=\"text-align: right;\">\n",
       "      <th></th>\n",
       "      <th>keywords</th>\n",
       "      <th>revenue_inflated</th>\n",
       "      <th>title</th>\n",
       "    </tr>\n",
       "  </thead>\n",
       "  <tbody>\n",
       "    <tr>\n",
       "      <th>119</th>\n",
       "      <td>1.913561e+09</td>\n",
       "      <td>5.392640e+09</td>\n",
       "      <td>Alice in Wonderland</td>\n",
       "    </tr>\n",
       "    <tr>\n",
       "      <th>55</th>\n",
       "      <td>1.589665e+09</td>\n",
       "      <td>7.056925e+09</td>\n",
       "      <td>Gone with the Wind</td>\n",
       "    </tr>\n",
       "    <tr>\n",
       "      <th>533</th>\n",
       "      <td>1.384135e+09</td>\n",
       "      <td>3.136395e+09</td>\n",
       "      <td>Star Wars</td>\n",
       "    </tr>\n",
       "    <tr>\n",
       "      <th>627</th>\n",
       "      <td>1.085052e+09</td>\n",
       "      <td>1.601609e+09</td>\n",
       "      <td>The Empire Strikes Back</td>\n",
       "    </tr>\n",
       "    <tr>\n",
       "      <th>288</th>\n",
       "      <td>1.007425e+09</td>\n",
       "      <td>2.227201e+09</td>\n",
       "      <td>The Sound of Music</td>\n",
       "    </tr>\n",
       "  </tbody>\n",
       "</table>\n",
       "</div>"
      ],
      "text/plain": [
       "         keywords  revenue_inflated                    title\n",
       "119  1.913561e+09      5.392640e+09      Alice in Wonderland\n",
       "55   1.589665e+09      7.056925e+09       Gone with the Wind\n",
       "533  1.384135e+09      3.136395e+09                Star Wars\n",
       "627  1.085052e+09      1.601609e+09  The Empire Strikes Back\n",
       "288  1.007425e+09      2.227201e+09       The Sound of Music"
      ]
     },
     "execution_count": 33,
     "metadata": {},
     "output_type": "execute_result"
    }
   ],
   "source": [
    "reves[[\"keywords\", criterio, \"title\"]].sort_values(by = \"keywords\", ascending = False).head(5)"
   ]
  },
  {
   "cell_type": "markdown",
   "metadata": {},
   "source": [
    "#### Release Month and Release Weekday"
   ]
  },
  {
   "cell_type": "markdown",
   "metadata": {},
   "source": [
    "Estas dos variables aunque son números, en realidad son categóricas por lo que se podría realizar la misma transformación. Con la media de revenue_inflated por cada valor y sustituir"
   ]
  },
  {
   "cell_type": "code",
   "execution_count": 34,
   "metadata": {},
   "outputs": [],
   "source": [
    "reves = reves[reves[\"release_month\"].notnull()].reset_index(drop = True)\n",
    "\n",
    "reves[\"release_month\"] = reves[\"release_month\"].apply(lambda x: [x])\n",
    "reves[\"release_weekday\"] = reves[\"release_weekday\"].apply(lambda x: [x])\n",
    "\n",
    "diccionario = word_mean(reves, \"release_month\", criterio)\n",
    "reves[\"release_month\"] = reves[\"release_month\"].apply(media)\n",
    "month_dict = diccionario\n",
    "\n",
    "diccionario = word_mean(reves, \"release_weekday\", criterio)\n",
    "reves[\"release_weekday\"] = reves[\"release_weekday\"].apply(media)\n",
    "weekday_dict = diccionario"
   ]
  },
  {
   "cell_type": "markdown",
   "metadata": {},
   "source": [
    "Eliminamos las variables que no hacen falta para el modelo"
   ]
  },
  {
   "cell_type": "code",
   "execution_count": 35,
   "metadata": {},
   "outputs": [],
   "source": [
    "reves.drop([\"revenue\", \"title\", \"release_year\", \"cpi\", \"cast_gender\"], axis = 1, inplace = True)"
   ]
  },
  {
   "cell_type": "code",
   "execution_count": 36,
   "metadata": {},
   "outputs": [
    {
     "data": {
      "text/html": [
       "<div>\n",
       "<style>\n",
       "    .dataframe thead tr:only-child th {\n",
       "        text-align: right;\n",
       "    }\n",
       "\n",
       "    .dataframe thead th {\n",
       "        text-align: left;\n",
       "    }\n",
       "\n",
       "    .dataframe tbody tr th {\n",
       "        vertical-align: top;\n",
       "    }\n",
       "</style>\n",
       "<table border=\"1\" class=\"dataframe\">\n",
       "  <thead>\n",
       "    <tr style=\"text-align: right;\">\n",
       "      <th></th>\n",
       "      <th>directors</th>\n",
       "      <th>writers</th>\n",
       "      <th>belongs_to_collection</th>\n",
       "      <th>genres</th>\n",
       "      <th>homepage</th>\n",
       "      <th>original_language</th>\n",
       "      <th>production_companies</th>\n",
       "      <th>runtime</th>\n",
       "      <th>keywords</th>\n",
       "      <th>release_month</th>\n",
       "      <th>release_weekday</th>\n",
       "      <th>cast_names</th>\n",
       "      <th>revenue_inflated</th>\n",
       "      <th>production_companies_counter</th>\n",
       "      <th>N_male</th>\n",
       "      <th>N_female</th>\n",
       "    </tr>\n",
       "  </thead>\n",
       "  <tbody>\n",
       "    <tr>\n",
       "      <th>0</th>\n",
       "      <td>2.669624e+08</td>\n",
       "      <td>2.669624e+08</td>\n",
       "      <td>7.092380e+07</td>\n",
       "      <td>1.059860e+08</td>\n",
       "      <td>7.941297e+07</td>\n",
       "      <td>1.188783e+08</td>\n",
       "      <td>2.669624e+08</td>\n",
       "      <td>193.0</td>\n",
       "      <td>2.269225e+08</td>\n",
       "      <td>8.272077e+07</td>\n",
       "      <td>1.408839e+08</td>\n",
       "      <td>1.759860e+08</td>\n",
       "      <td>2.669624e+08</td>\n",
       "      <td>1</td>\n",
       "      <td>1</td>\n",
       "      <td>3</td>\n",
       "    </tr>\n",
       "    <tr>\n",
       "      <th>1</th>\n",
       "      <td>1.799046e+08</td>\n",
       "      <td>1.962946e+08</td>\n",
       "      <td>7.092380e+07</td>\n",
       "      <td>1.667151e+08</td>\n",
       "      <td>7.941297e+07</td>\n",
       "      <td>1.188783e+08</td>\n",
       "      <td>1.799046e+08</td>\n",
       "      <td>105.0</td>\n",
       "      <td>1.175707e+08</td>\n",
       "      <td>1.797448e+08</td>\n",
       "      <td>9.058722e+07</td>\n",
       "      <td>1.799046e+08</td>\n",
       "      <td>1.799046e+08</td>\n",
       "      <td>1</td>\n",
       "      <td>0</td>\n",
       "      <td>0</td>\n",
       "    </tr>\n",
       "    <tr>\n",
       "      <th>2</th>\n",
       "      <td>1.298649e+08</td>\n",
       "      <td>1.298649e+08</td>\n",
       "      <td>7.092380e+07</td>\n",
       "      <td>8.279268e+07</td>\n",
       "      <td>7.941297e+07</td>\n",
       "      <td>1.188783e+08</td>\n",
       "      <td>1.298649e+08</td>\n",
       "      <td>93.0</td>\n",
       "      <td>2.149132e+08</td>\n",
       "      <td>8.251373e+07</td>\n",
       "      <td>1.279176e+08</td>\n",
       "      <td>1.468606e+08</td>\n",
       "      <td>1.298649e+08</td>\n",
       "      <td>1</td>\n",
       "      <td>1</td>\n",
       "      <td>1</td>\n",
       "    </tr>\n",
       "    <tr>\n",
       "      <th>3</th>\n",
       "      <td>7.112113e+07</td>\n",
       "      <td>7.112113e+07</td>\n",
       "      <td>7.092380e+07</td>\n",
       "      <td>8.279268e+07</td>\n",
       "      <td>7.941297e+07</td>\n",
       "      <td>1.188783e+08</td>\n",
       "      <td>4.454915e+07</td>\n",
       "      <td>68.0</td>\n",
       "      <td>1.225954e+08</td>\n",
       "      <td>5.521710e+07</td>\n",
       "      <td>8.316584e+07</td>\n",
       "      <td>4.069436e+07</td>\n",
       "      <td>3.423464e+07</td>\n",
       "      <td>2</td>\n",
       "      <td>2</td>\n",
       "      <td>1</td>\n",
       "    </tr>\n",
       "    <tr>\n",
       "      <th>4</th>\n",
       "      <td>2.919561e+06</td>\n",
       "      <td>4.166173e+06</td>\n",
       "      <td>7.092380e+07</td>\n",
       "      <td>7.353105e+07</td>\n",
       "      <td>7.941297e+07</td>\n",
       "      <td>1.188783e+08</td>\n",
       "      <td>5.839109e+06</td>\n",
       "      <td>117.0</td>\n",
       "      <td>5.842999e+07</td>\n",
       "      <td>5.521710e+07</td>\n",
       "      <td>1.691554e+08</td>\n",
       "      <td>1.052070e+07</td>\n",
       "      <td>5.839109e+06</td>\n",
       "      <td>1</td>\n",
       "      <td>1</td>\n",
       "      <td>0</td>\n",
       "    </tr>\n",
       "  </tbody>\n",
       "</table>\n",
       "</div>"
      ],
      "text/plain": [
       "      directors       writers  belongs_to_collection        genres  \\\n",
       "0  2.669624e+08  2.669624e+08           7.092380e+07  1.059860e+08   \n",
       "1  1.799046e+08  1.962946e+08           7.092380e+07  1.667151e+08   \n",
       "2  1.298649e+08  1.298649e+08           7.092380e+07  8.279268e+07   \n",
       "3  7.112113e+07  7.112113e+07           7.092380e+07  8.279268e+07   \n",
       "4  2.919561e+06  4.166173e+06           7.092380e+07  7.353105e+07   \n",
       "\n",
       "       homepage  original_language  production_companies  runtime  \\\n",
       "0  7.941297e+07       1.188783e+08          2.669624e+08    193.0   \n",
       "1  7.941297e+07       1.188783e+08          1.799046e+08    105.0   \n",
       "2  7.941297e+07       1.188783e+08          1.298649e+08     93.0   \n",
       "3  7.941297e+07       1.188783e+08          4.454915e+07     68.0   \n",
       "4  7.941297e+07       1.188783e+08          5.839109e+06    117.0   \n",
       "\n",
       "       keywords  release_month  release_weekday    cast_names  \\\n",
       "0  2.269225e+08   8.272077e+07     1.408839e+08  1.759860e+08   \n",
       "1  1.175707e+08   1.797448e+08     9.058722e+07  1.799046e+08   \n",
       "2  2.149132e+08   8.251373e+07     1.279176e+08  1.468606e+08   \n",
       "3  1.225954e+08   5.521710e+07     8.316584e+07  4.069436e+07   \n",
       "4  5.842999e+07   5.521710e+07     1.691554e+08  1.052070e+07   \n",
       "\n",
       "   revenue_inflated  production_companies_counter  N_male  N_female  \n",
       "0      2.669624e+08                             1       1         3  \n",
       "1      1.799046e+08                             1       0         0  \n",
       "2      1.298649e+08                             1       1         1  \n",
       "3      3.423464e+07                             2       2         1  \n",
       "4      5.839109e+06                             1       1         0  "
      ]
     },
     "execution_count": 36,
     "metadata": {},
     "output_type": "execute_result"
    }
   ],
   "source": [
    "reves.head()"
   ]
  },
  {
   "cell_type": "code",
   "execution_count": 37,
   "metadata": {},
   "outputs": [],
   "source": [
    "reves.to_pickle(\"data/reves.pkl\")"
   ]
  },
  {
   "cell_type": "markdown",
   "metadata": {},
   "source": [
    "### Values for the dataframe transformation"
   ]
  },
  {
   "cell_type": "markdown",
   "metadata": {},
   "source": [
    "Esta celda a continuación es únicamente guardar los diccionarios generados en un pickle para su uso posterior a la hora de probar el modelo con películas nuevas. Las guardo en una carpeta llamada \"transformation\".\n",
    "\n",
    "Hay que tener en cuenta que en cuanto se prueba el modelo para películas nuevas, se va poniendo los datos y hacen falta estos diccionarios para realizar las transformaciones correspondientes."
   ]
  },
  {
   "cell_type": "code",
   "execution_count": 38,
   "metadata": {},
   "outputs": [],
   "source": [
    "homepage_dict = {\"yes\" : yes_homepage, \"no\" : no_homepage}"
   ]
  },
  {
   "cell_type": "code",
   "execution_count": 39,
   "metadata": {},
   "outputs": [],
   "source": [
    "import pickle\n",
    "\n",
    "homepage_dict = {\"yes\" : yes_homepage, \"no\" : no_homepage}\n",
    "with open(\"transformation/homepage_dict.pickle\", \"wb\") as handle:\n",
    "    pickle.dump(homepage_dict, handle, protocol=pickle.HIGHEST_PROTOCOL)\n",
    "\n",
    "with open(\"transformation/collection_dict.pickle\", \"wb\") as handle:\n",
    "    pickle.dump(collection_dict, handle, protocol=pickle.HIGHEST_PROTOCOL)\n",
    "    \n",
    "with open(\"transformation/genres_dict.pickle\", \"wb\") as handle:\n",
    "    pickle.dump(genres_dict, handle, protocol=pickle.HIGHEST_PROTOCOL)\n",
    "\n",
    "with open(\"transformation/language_dict.pickle\", \"wb\") as handle:\n",
    "    pickle.dump(language_dict, handle, protocol=pickle.HIGHEST_PROTOCOL)\n",
    "    \n",
    "with open(\"transformation/production_company_dict.pickle\", \"wb\") as handle:\n",
    "    pickle.dump(production_company_dict, handle, protocol=pickle.HIGHEST_PROTOCOL)\n",
    "    \n",
    "with open(\"transformation/cast_dict.pickle\", \"wb\") as handle:\n",
    "    pickle.dump(cast_dict, handle, protocol=pickle.HIGHEST_PROTOCOL)\n",
    "    \n",
    "with open(\"transformation/directors_dict.pickle\", \"wb\") as handle:\n",
    "    pickle.dump(directors_dict, handle, protocol=pickle.HIGHEST_PROTOCOL)\n",
    "    \n",
    "with open(\"transformation/writers_dict.pickle\", \"wb\") as handle:\n",
    "    pickle.dump(directors_dict, handle, protocol=pickle.HIGHEST_PROTOCOL)\n",
    "    \n",
    "with open(\"transformation/keywords_dict.pickle\", \"wb\") as handle:\n",
    "    pickle.dump(keywords_dict, handle, protocol=pickle.HIGHEST_PROTOCOL)\n",
    "    \n",
    "with open(\"transformation/month_dict.pickle\", \"wb\") as handle:\n",
    "    pickle.dump(month_dict, handle, protocol=pickle.HIGHEST_PROTOCOL)\n",
    "    \n",
    "with open(\"transformation/weekday_dict.pickle\", \"wb\") as handle:\n",
    "    pickle.dump(weekday_dict, handle, protocol=pickle.HIGHEST_PROTOCOL)"
   ]
  }
 ],
 "metadata": {
  "kernelspec": {
   "display_name": "Python 3",
   "language": "python",
   "name": "python3"
  },
  "language_info": {
   "codemirror_mode": {
    "name": "ipython",
    "version": 3
   },
   "file_extension": ".py",
   "mimetype": "text/x-python",
   "name": "python",
   "nbconvert_exporter": "python",
   "pygments_lexer": "ipython3",
   "version": "3.6.5"
  }
 },
 "nbformat": 4,
 "nbformat_minor": 2
}
