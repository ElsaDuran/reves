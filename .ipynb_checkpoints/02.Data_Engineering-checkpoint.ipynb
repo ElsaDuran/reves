{
 "cells": [
  {
   "cell_type": "markdown",
   "metadata": {},
   "source": [
    "# REVES 02: Data Engineering"
   ]
  },
  {
   "cell_type": "markdown",
   "metadata": {},
   "source": [
    "In this notebook, we will transform the data to fit the format required for our model and we will create new features to add valuable info to it. \n",
    "\n",
    "To start this notebook we will use the DataFrame we generated at the end of Cleaning_Data."
   ]
  },
  {
   "cell_type": "markdown",
   "metadata": {},
   "source": [
    "## Loading libraries and data"
   ]
  },
  {
   "cell_type": "code",
   "execution_count": 2,
   "metadata": {},
   "outputs": [],
   "source": [
    "import pandas as pd\n",
    "import revesFunctions as rf\n",
    "import matplotlib.pyplot as plt\n",
    "%matplotlib inline\n",
    "plt.style.use('ggplot')"
   ]
  },
  {
   "cell_type": "code",
   "execution_count": 3,
   "metadata": {
    "scrolled": true
   },
   "outputs": [],
   "source": [
    "reves = pd.read_pickle(\"data/cleaned_reves_df.pkl\")"
   ]
  },
  {
   "cell_type": "code",
   "execution_count": 4,
   "metadata": {
    "scrolled": true
   },
   "outputs": [
    {
     "data": {
      "text/html": [
       "<div>\n",
       "<style scoped>\n",
       "    .dataframe tbody tr th:only-of-type {\n",
       "        vertical-align: middle;\n",
       "    }\n",
       "\n",
       "    .dataframe tbody tr th {\n",
       "        vertical-align: top;\n",
       "    }\n",
       "\n",
       "    .dataframe thead th {\n",
       "        text-align: right;\n",
       "    }\n",
       "</style>\n",
       "<table border=\"1\" class=\"dataframe\">\n",
       "  <thead>\n",
       "    <tr style=\"text-align: right;\">\n",
       "      <th></th>\n",
       "      <th>belongs_to_collection</th>\n",
       "      <th>genres</th>\n",
       "      <th>imdb_id</th>\n",
       "      <th>original_language</th>\n",
       "      <th>production_companies</th>\n",
       "      <th>revenue</th>\n",
       "      <th>runtime</th>\n",
       "      <th>title</th>\n",
       "      <th>keywords</th>\n",
       "      <th>release_year</th>\n",
       "      <th>release_month</th>\n",
       "      <th>release_weekday</th>\n",
       "      <th>cast_names</th>\n",
       "      <th>cast_gender</th>\n",
       "      <th>Directors</th>\n",
       "      <th>Producers</th>\n",
       "      <th>Screenplayers</th>\n",
       "    </tr>\n",
       "  </thead>\n",
       "  <tbody>\n",
       "    <tr>\n",
       "      <th>0</th>\n",
       "      <td>Toy Story Collection</td>\n",
       "      <td>[Animation, Comedy, Family]</td>\n",
       "      <td>tt0114709</td>\n",
       "      <td>en</td>\n",
       "      <td>[Pixar Animation Studios]</td>\n",
       "      <td>373554033.0</td>\n",
       "      <td>81.0</td>\n",
       "      <td>Toy Story</td>\n",
       "      <td>[{'id': 931, 'name': 'jealousy'}, {'id': 4290,...</td>\n",
       "      <td>1995.0</td>\n",
       "      <td>10.0</td>\n",
       "      <td>0.0</td>\n",
       "      <td>[Tom Hanks, Tim Allen, Don Rickles, Jim Varney...</td>\n",
       "      <td>[2, 2, 2, 2, 2, 2, 1, 0, 2, 1, 2, 1, 2]</td>\n",
       "      <td>[John Lasseter]</td>\n",
       "      <td>[Bonnie Arnold, Ralph Guggenheim]</td>\n",
       "      <td>[Joss Whedon, Andrew Stanton, Joel Cohen, Alec...</td>\n",
       "    </tr>\n",
       "    <tr>\n",
       "      <th>1</th>\n",
       "      <td>NaN</td>\n",
       "      <td>[Adventure, Fantasy, Family]</td>\n",
       "      <td>tt0113497</td>\n",
       "      <td>en</td>\n",
       "      <td>[TriStar Pictures, Teitler Film, Interscope Co...</td>\n",
       "      <td>262797249.0</td>\n",
       "      <td>104.0</td>\n",
       "      <td>Jumanji</td>\n",
       "      <td>[{'id': 10090, 'name': 'board game'}, {'id': 1...</td>\n",
       "      <td>1995.0</td>\n",
       "      <td>12.0</td>\n",
       "      <td>4.0</td>\n",
       "      <td>[Robin Williams, Jonathan Hyde, Kirsten Dunst,...</td>\n",
       "      <td>[2, 2, 1, 0, 1, 1, 2, 1, 0, 1, 2, 1, 2, 0, 0, ...</td>\n",
       "      <td>[Joe Johnston]</td>\n",
       "      <td>[Scott Kroopf, William Teitler]</td>\n",
       "      <td>[Jonathan Hensleigh, Greg Taylor, Jim Strain]</td>\n",
       "    </tr>\n",
       "  </tbody>\n",
       "</table>\n",
       "</div>"
      ],
      "text/plain": [
       "  belongs_to_collection                        genres    imdb_id  \\\n",
       "0  Toy Story Collection   [Animation, Comedy, Family]  tt0114709   \n",
       "1                   NaN  [Adventure, Fantasy, Family]  tt0113497   \n",
       "\n",
       "  original_language                               production_companies  \\\n",
       "0                en                          [Pixar Animation Studios]   \n",
       "1                en  [TriStar Pictures, Teitler Film, Interscope Co...   \n",
       "\n",
       "       revenue  runtime      title  \\\n",
       "0  373554033.0     81.0  Toy Story   \n",
       "1  262797249.0    104.0    Jumanji   \n",
       "\n",
       "                                            keywords  release_year  \\\n",
       "0  [{'id': 931, 'name': 'jealousy'}, {'id': 4290,...        1995.0   \n",
       "1  [{'id': 10090, 'name': 'board game'}, {'id': 1...        1995.0   \n",
       "\n",
       "   release_month  release_weekday  \\\n",
       "0           10.0              0.0   \n",
       "1           12.0              4.0   \n",
       "\n",
       "                                          cast_names  \\\n",
       "0  [Tom Hanks, Tim Allen, Don Rickles, Jim Varney...   \n",
       "1  [Robin Williams, Jonathan Hyde, Kirsten Dunst,...   \n",
       "\n",
       "                                         cast_gender        Directors  \\\n",
       "0            [2, 2, 2, 2, 2, 2, 1, 0, 2, 1, 2, 1, 2]  [John Lasseter]   \n",
       "1  [2, 2, 1, 0, 1, 1, 2, 1, 0, 1, 2, 1, 2, 0, 0, ...   [Joe Johnston]   \n",
       "\n",
       "                           Producers  \\\n",
       "0  [Bonnie Arnold, Ralph Guggenheim]   \n",
       "1    [Scott Kroopf, William Teitler]   \n",
       "\n",
       "                                       Screenplayers  \n",
       "0  [Joss Whedon, Andrew Stanton, Joel Cohen, Alec...  \n",
       "1      [Jonathan Hensleigh, Greg Taylor, Jim Strain]  "
      ]
     },
     "execution_count": 4,
     "metadata": {},
     "output_type": "execute_result"
    }
   ],
   "source": [
    "reves.head(2)"
   ]
  },
  {
   "cell_type": "markdown",
   "metadata": {},
   "source": [
    "## Let's perform some data transformation"
   ]
  },
  {
   "cell_type": "markdown",
   "metadata": {},
   "source": [
    "#### Revenue & Release Year"
   ]
  },
  {
   "cell_type": "markdown",
   "metadata": {},
   "source": [
    "First of all, we have to transform revenue. We ought to take notice that the ticket price has been changing through the years as well as money's price itself. We all know that it's way different if a movie reached a $100 million box office on 1930 than if a movie did it nowadays.\n",
    "\n",
    "To to this engineering, we have transform revenue by applying a CPI-based factor. \n",
    "\n",
    "- Data has been collected from this website: https://www.usinflationcalculator.com/inflation/consumer-price-index-and-annual-percent-changes-from-1913-to-2008/\n",
    "\n",
    "- You can find a better explanation of this idea here: https://www.usinflationcalculator.com/frequently-asked-questions-faqs/#HowInflationCalculatorWorks"
   ]
  },
  {
   "cell_type": "markdown",
   "metadata": {},
   "source": [
    "Data has been downloaded as a CSV to use it with Pandas. Data transformations have been made up to 2017 and stored in a new column called revenue_inflated."
   ]
  },
  {
   "cell_type": "code",
   "execution_count": 5,
   "metadata": {},
   "outputs": [],
   "source": [
    "cpi_df = pd.read_excel(\"data/CPI_data.xlsx\")\n",
    "cpi_dict = dict(zip(cpi_df[\"Year\"], cpi_df[\"Avg\"]))\n",
    "reves[\"cpi\"] = reves[\"release_year\"].apply(lambda x: cpi_dict[x] if x in cpi_dict else 0)\n",
    "reves[\"revenue_inflated\"] = reves[\"revenue\"] * (cpi_dict[2017] / reves[\"cpi\"])"
   ]
  },
  {
   "cell_type": "code",
   "execution_count": 6,
   "metadata": {},
   "outputs": [
    {
     "data": {
      "text/html": [
       "<div>\n",
       "<style scoped>\n",
       "    .dataframe tbody tr th:only-of-type {\n",
       "        vertical-align: middle;\n",
       "    }\n",
       "\n",
       "    .dataframe tbody tr th {\n",
       "        vertical-align: top;\n",
       "    }\n",
       "\n",
       "    .dataframe thead th {\n",
       "        text-align: right;\n",
       "    }\n",
       "</style>\n",
       "<table border=\"1\" class=\"dataframe\">\n",
       "  <thead>\n",
       "    <tr style=\"text-align: right;\">\n",
       "      <th></th>\n",
       "      <th>revenue</th>\n",
       "      <th>revenue_inflated</th>\n",
       "      <th>release_year</th>\n",
       "      <th>title</th>\n",
       "    </tr>\n",
       "  </thead>\n",
       "  <tbody>\n",
       "    <tr>\n",
       "      <th>391</th>\n",
       "      <td>4.001765e+08</td>\n",
       "      <td>7.056925e+09</td>\n",
       "      <td>1939.0</td>\n",
       "      <td>Gone with the Wind</td>\n",
       "    </tr>\n",
       "    <tr>\n",
       "      <th>437</th>\n",
       "      <td>5.720000e+08</td>\n",
       "      <td>5.392640e+09</td>\n",
       "      <td>1951.0</td>\n",
       "      <td>Alice in Wonderland</td>\n",
       "    </tr>\n",
       "    <tr>\n",
       "      <th>902</th>\n",
       "      <td>2.674472e+08</td>\n",
       "      <td>4.021880e+09</td>\n",
       "      <td>1942.0</td>\n",
       "      <td>Bambi</td>\n",
       "    </tr>\n",
       "    <tr>\n",
       "      <th>4623</th>\n",
       "      <td>2.787965e+09</td>\n",
       "      <td>3.185399e+09</td>\n",
       "      <td>2009.0</td>\n",
       "      <td>Avatar</td>\n",
       "    </tr>\n",
       "    <tr>\n",
       "      <th>289</th>\n",
       "      <td>1.849255e+08</td>\n",
       "      <td>3.147843e+09</td>\n",
       "      <td>1937.0</td>\n",
       "      <td>Snow White and the Seven Dwarfs</td>\n",
       "    </tr>\n",
       "  </tbody>\n",
       "</table>\n",
       "</div>"
      ],
      "text/plain": [
       "           revenue  revenue_inflated  release_year  \\\n",
       "391   4.001765e+08      7.056925e+09        1939.0   \n",
       "437   5.720000e+08      5.392640e+09        1951.0   \n",
       "902   2.674472e+08      4.021880e+09        1942.0   \n",
       "4623  2.787965e+09      3.185399e+09        2009.0   \n",
       "289   1.849255e+08      3.147843e+09        1937.0   \n",
       "\n",
       "                                title  \n",
       "391                Gone with the Wind  \n",
       "437               Alice in Wonderland  \n",
       "902                             Bambi  \n",
       "4623                           Avatar  \n",
       "289   Snow White and the Seven Dwarfs  "
      ]
     },
     "execution_count": 6,
     "metadata": {},
     "output_type": "execute_result"
    }
   ],
   "source": [
    "reves[[\"revenue\", \"revenue_inflated\", \"release_year\", \"title\"]].sort_values(by = \"revenue_inflated\", ascending = False).head(5)"
   ]
  },
  {
   "cell_type": "markdown",
   "metadata": {},
   "source": [
    "#### Belongs to collection"
   ]
  },
  {
   "cell_type": "markdown",
   "metadata": {},
   "source": [
    "As we stablished on the previews notebook, the fact that a movie does belong to a collection or franchise is directely related to potential revenue. We also could prove that some collection had higher incomes than others.\n",
    "\n",
    "This is why we are performing a data transformation that consists on calculating average revenue per collection and applying this value to each movie, according to the current value of the actual \"belongs_to_collection\" column. In cases where movies do not belong to any franchise, we will apply a value based on the average revenue for all the don't-belong-to-collection movies, as if we created a collection named \"no\". \n",
    "\n",
    "To do this we will use 2 own functions, both explained in revesFunctions.py\n",
    "- word_mean\n",
    "- get_mean\n",
    "\n",
    "Before using them, we will perform some data cleaning to remove any special characters, capital letters and punctuation marks."
   ]
  },
  {
   "cell_type": "code",
   "execution_count": 7,
   "metadata": {},
   "outputs": [
    {
     "name": "stderr",
     "output_type": "stream",
     "text": [
      "C:\\Users\\Elsa\\Documents\\GitHub\\reves\\revesFunctions.py:79: FutureWarning: get_value is deprecated and will be removed in a future release. Please use .at[] or .iat[] accessors instead\n",
      "  word_mean_dict[name] = dataframe.get_value(i, variable) / counter[name]\n",
      "C:\\Users\\Elsa\\Documents\\GitHub\\reves\\revesFunctions.py:81: FutureWarning: get_value is deprecated and will be removed in a future release. Please use .at[] or .iat[] accessors instead\n",
      "  word_mean_dict[name] = word_mean_dict[name] + (dataframe.get_value(i, variable) / counter[name])\n"
     ]
    }
   ],
   "source": [
    "reves[\"belongs_to_collection\"] = reves[\"belongs_to_collection\"].apply(lambda x: [\"no\"] if pd.isnull(x) else [x])\n",
    "reves[\"belongs_to_collection\"] = reves[\"belongs_to_collection\"].apply(lambda x: [rf.clean(name) for name in x])\n",
    "collection_dict = rf.word_mean(reves, \"belongs_to_collection\", \"revenue_inflated\")\n",
    "reves[\"belongs_to_collection\"] = reves[\"belongs_to_collection\"].apply(rf.get_mean, variable_mean_dict = collection_dict)"
   ]
  },
  {
   "cell_type": "code",
   "execution_count": 8,
   "metadata": {},
   "outputs": [
    {
     "data": {
      "text/html": [
       "<div>\n",
       "<style scoped>\n",
       "    .dataframe tbody tr th:only-of-type {\n",
       "        vertical-align: middle;\n",
       "    }\n",
       "\n",
       "    .dataframe tbody tr th {\n",
       "        vertical-align: top;\n",
       "    }\n",
       "\n",
       "    .dataframe thead th {\n",
       "        text-align: right;\n",
       "    }\n",
       "</style>\n",
       "<table border=\"1\" class=\"dataframe\">\n",
       "  <thead>\n",
       "    <tr style=\"text-align: right;\">\n",
       "      <th></th>\n",
       "      <th>belongs_to_collection</th>\n",
       "      <th>revenue_inflated</th>\n",
       "      <th>title</th>\n",
       "    </tr>\n",
       "  </thead>\n",
       "  <tbody>\n",
       "    <tr>\n",
       "      <th>902</th>\n",
       "      <td>4.021880e+09</td>\n",
       "      <td>4.021880e+09</td>\n",
       "      <td>Bambi</td>\n",
       "    </tr>\n",
       "    <tr>\n",
       "      <th>4623</th>\n",
       "      <td>3.185399e+09</td>\n",
       "      <td>3.185399e+09</td>\n",
       "      <td>Avatar</td>\n",
       "    </tr>\n",
       "    <tr>\n",
       "      <th>431</th>\n",
       "      <td>2.680976e+09</td>\n",
       "      <td>2.680976e+09</td>\n",
       "      <td>Cinderella</td>\n",
       "    </tr>\n",
       "    <tr>\n",
       "      <th>939</th>\n",
       "      <td>1.769783e+09</td>\n",
       "      <td>1.769783e+09</td>\n",
       "      <td>One Hundred and One Dalmatians</td>\n",
       "    </tr>\n",
       "    <tr>\n",
       "      <th>129</th>\n",
       "      <td>1.584568e+09</td>\n",
       "      <td>3.136395e+09</td>\n",
       "      <td>Star Wars</td>\n",
       "    </tr>\n",
       "  </tbody>\n",
       "</table>\n",
       "</div>"
      ],
      "text/plain": [
       "      belongs_to_collection  revenue_inflated                           title\n",
       "902            4.021880e+09      4.021880e+09                           Bambi\n",
       "4623           3.185399e+09      3.185399e+09                          Avatar\n",
       "431            2.680976e+09      2.680976e+09                      Cinderella\n",
       "939            1.769783e+09      1.769783e+09  One Hundred and One Dalmatians\n",
       "129            1.584568e+09      3.136395e+09                       Star Wars"
      ]
     },
     "execution_count": 8,
     "metadata": {},
     "output_type": "execute_result"
    }
   ],
   "source": [
    "reves[[\"belongs_to_collection\", \"revenue_inflated\", \"title\"]].sort_values(by = \"belongs_to_collection\", ascending = False).head(5)"
   ]
  },
  {
   "cell_type": "code",
   "execution_count": 9,
   "metadata": {},
   "outputs": [
    {
     "data": {
      "text/plain": [
       "['bambi collection',\n",
       " 'avatar collection',\n",
       " 'cinderella collection',\n",
       " '101 dalmatians animated collection',\n",
       " 'star wars collection']"
      ]
     },
     "execution_count": 9,
     "metadata": {},
     "output_type": "execute_result"
    }
   ],
   "source": [
    "sorted(collection_dict, key = collection_dict.get, reverse = True)[:5]"
   ]
  },
  {
   "cell_type": "markdown",
   "metadata": {},
   "source": [
    "#### Genres"
   ]
  },
  {
   "cell_type": "markdown",
   "metadata": {},
   "source": [
    "To use this column, first we will drop all the movies with no genres information, and we are studying how the number of genres associated to a title affects the movies' potential revenue."
   ]
  },
  {
   "cell_type": "code",
   "execution_count": 10,
   "metadata": {},
   "outputs": [],
   "source": [
    "reves = reves[reves[\"genres\"].str.len() != 0].reset_index(drop = True)\n",
    "reves[\"genres_counter\"] = reves[\"genres\"].apply(lambda x: len(x))"
   ]
  },
  {
   "cell_type": "code",
   "execution_count": 11,
   "metadata": {},
   "outputs": [
    {
     "data": {
      "image/png": "[encoded data removed]",
      "text/plain": [
       "<Figure size 720x360 with 1 Axes>"
      ]
     },
     "metadata": {},
     "output_type": "display_data"
    }
   ],
   "source": [
    "plt.figure(figsize = (10, 5))\n",
    "plt.plot(reves.groupby(\"genres_counter\").mean()[\"revenue_inflated\"], color = \"green\")\n",
    "plt.ylabel(\"Mean Revenue\", fontsize = 13)\n",
    "plt.xlabel(\"Number of genres\", fontsize = 13)\n",
    "plt.title(\"Does the number of genres affect the revenue?\");"
   ]
  },
  {
   "cell_type": "markdown",
   "metadata": {},
   "source": [
    "As we see we think that the number of genres associated to a movie could be related to the complexity of the plot, and eventually to the movie's potential revenue."
   ]
  },
  {
   "cell_type": "markdown",
   "metadata": {},
   "source": [
    "On a first iteration of this notebook, we thought that we could transform this column into different dummy or one-hot-encoding columns, one for each genre. But that added too many features to our model with not much info. That's why we decided to use this data by perfoming a transformation based on the average revenue for each genre, and a final calculation of the mean of all the genres associated to each movie. \n",
    "\n",
    "- First we calculate the mean/average revenue for each genre\n",
    "- Then, for each movie in the dataframe, we sum the values of its related genres\n",
    "- Finally we divide the number by the total genres count"
   ]
  },
  {
   "cell_type": "code",
   "execution_count": 12,
   "metadata": {},
   "outputs": [
    {
     "name": "stderr",
     "output_type": "stream",
     "text": [
      "C:\\Users\\Elsa\\Documents\\GitHub\\reves\\revesFunctions.py:79: FutureWarning: get_value is deprecated and will be removed in a future release. Please use .at[] or .iat[] accessors instead\n",
      "  word_mean_dict[name] = dataframe.get_value(i, variable) / counter[name]\n",
      "C:\\Users\\Elsa\\Documents\\GitHub\\reves\\revesFunctions.py:81: FutureWarning: get_value is deprecated and will be removed in a future release. Please use .at[] or .iat[] accessors instead\n",
      "  word_mean_dict[name] = word_mean_dict[name] + (dataframe.get_value(i, variable) / counter[name])\n"
     ]
    }
   ],
   "source": [
    "reves[\"genres\"] = reves[\"genres\"].apply(lambda x: [rf.clean(name) for name in x])\n",
    "genres_dict = rf.word_mean(reves, \"genres\", \"revenue_inflated\")\n",
    "reves[\"genres_score\"] = reves[\"genres\"].apply(rf.get_mean, variable_mean_dict = genres_dict)"
   ]
  },
  {
   "cell_type": "code",
   "execution_count": 13,
   "metadata": {},
   "outputs": [
    {
     "data": {
      "text/html": [
       "<div>\n",
       "<style scoped>\n",
       "    .dataframe tbody tr th:only-of-type {\n",
       "        vertical-align: middle;\n",
       "    }\n",
       "\n",
       "    .dataframe tbody tr th {\n",
       "        vertical-align: top;\n",
       "    }\n",
       "\n",
       "    .dataframe thead th {\n",
       "        text-align: right;\n",
       "    }\n",
       "</style>\n",
       "<table border=\"1\" class=\"dataframe\">\n",
       "  <thead>\n",
       "    <tr style=\"text-align: right;\">\n",
       "      <th></th>\n",
       "      <th>genres</th>\n",
       "      <th>genres_score</th>\n",
       "      <th>revenue_inflated</th>\n",
       "      <th>title</th>\n",
       "    </tr>\n",
       "  </thead>\n",
       "  <tbody>\n",
       "    <tr>\n",
       "      <th>1792</th>\n",
       "      <td>[animation]</td>\n",
       "      <td>2.673057e+08</td>\n",
       "      <td>1.308271e+07</td>\n",
       "      <td>The Transformers: The Movie</td>\n",
       "    </tr>\n",
       "    <tr>\n",
       "      <th>6704</th>\n",
       "      <td>[animation]</td>\n",
       "      <td>2.673057e+08</td>\n",
       "      <td>2.546512e+08</td>\n",
       "      <td>The Peanuts Movie</td>\n",
       "    </tr>\n",
       "    <tr>\n",
       "      <th>5698</th>\n",
       "      <td>[animation]</td>\n",
       "      <td>2.673057e+08</td>\n",
       "      <td>1.240898e+08</td>\n",
       "      <td>The Wind Rises</td>\n",
       "    </tr>\n",
       "    <tr>\n",
       "      <th>1414</th>\n",
       "      <td>[animation]</td>\n",
       "      <td>2.673057e+08</td>\n",
       "      <td>2.460894e+08</td>\n",
       "      <td>Pokémon: The First Movie: Mewtwo Strikes Back</td>\n",
       "    </tr>\n",
       "    <tr>\n",
       "      <th>4948</th>\n",
       "      <td>[animation]</td>\n",
       "      <td>2.673057e+08</td>\n",
       "      <td>9.228176e+04</td>\n",
       "      <td>Summer Wars</td>\n",
       "    </tr>\n",
       "  </tbody>\n",
       "</table>\n",
       "</div>"
      ],
      "text/plain": [
       "           genres  genres_score  revenue_inflated  \\\n",
       "1792  [animation]  2.673057e+08      1.308271e+07   \n",
       "6704  [animation]  2.673057e+08      2.546512e+08   \n",
       "5698  [animation]  2.673057e+08      1.240898e+08   \n",
       "1414  [animation]  2.673057e+08      2.460894e+08   \n",
       "4948  [animation]  2.673057e+08      9.228176e+04   \n",
       "\n",
       "                                              title  \n",
       "1792                    The Transformers: The Movie  \n",
       "6704                              The Peanuts Movie  \n",
       "5698                                 The Wind Rises  \n",
       "1414  Pokémon: The First Movie: Mewtwo Strikes Back  \n",
       "4948                                    Summer Wars  "
      ]
     },
     "execution_count": 13,
     "metadata": {},
     "output_type": "execute_result"
    }
   ],
   "source": [
    "reves[[\"genres\",\"genres_score\", \"revenue_inflated\", \"title\"]].sort_values(by = \"genres_score\", ascending = False).head(5)"
   ]
  },
  {
   "cell_type": "code",
   "execution_count": 14,
   "metadata": {},
   "outputs": [
    {
     "data": {
      "text/plain": [
       "['animation', 'adventure', 'family', 'fantasy', 'science fiction']"
      ]
     },
     "execution_count": 14,
     "metadata": {},
     "output_type": "execute_result"
    }
   ],
   "source": [
    "sorted(genres_dict, key = genres_dict.get, reverse = True)[:5]"
   ]
  },
  {
   "cell_type": "markdown",
   "metadata": {},
   "source": [
    " \n",
    " \n",
    "#### Original Language"
   ]
  },
  {
   "cell_type": "markdown",
   "metadata": {},
   "source": [
    "For"
   ]
  },
  {
   "cell_type": "markdown",
   "metadata": {},
   "source": [
    "Para esta variable vamos a asignar un valor para las películas cuyo idioma original es el inglés y asignaremos otro valor para el resto de idiomas. De tal forma que nos quedamos con dos posibilidades:\n",
    "* Películas de idioma inglés\n",
    "* Películas con el resto de idiomas"
   ]
  },
  {
   "cell_type": "code",
   "execution_count": 14,
   "metadata": {},
   "outputs": [],
   "source": [
    "reves[\"original_language\"] = reves[\"original_language\"].apply(lambda x: [x] if x == \"en\" else [\"no\"])\n",
    "reves[\"original_language\"] = reves[\"original_language\"].apply(lambda x: [rf.clean(name) for name in x])\n",
    "language_dict = rf.word_mean(reves, \"original_language\", \"revenue_inflated\")\n",
    "reves[\"original_language\"] = reves[\"original_language\"].apply(rf.get_mean, variable_mean_dict = language_dict)"
   ]
  },
  {
   "cell_type": "code",
   "execution_count": 15,
   "metadata": {},
   "outputs": [
    {
     "data": {
      "text/html": [
       "<div>\n",
       "<style>\n",
       "    .dataframe thead tr:only-child th {\n",
       "        text-align: right;\n",
       "    }\n",
       "\n",
       "    .dataframe thead th {\n",
       "        text-align: left;\n",
       "    }\n",
       "\n",
       "    .dataframe tbody tr th {\n",
       "        vertical-align: top;\n",
       "    }\n",
       "</style>\n",
       "<table border=\"1\" class=\"dataframe\">\n",
       "  <thead>\n",
       "    <tr style=\"text-align: right;\">\n",
       "      <th></th>\n",
       "      <th>original_language</th>\n",
       "      <th>revenue_inflated</th>\n",
       "      <th>title</th>\n",
       "    </tr>\n",
       "  </thead>\n",
       "  <tbody>\n",
       "    <tr>\n",
       "      <th>0</th>\n",
       "      <td>1.188783e+08</td>\n",
       "      <td>2.669624e+08</td>\n",
       "      <td>The Birth of a Nation</td>\n",
       "    </tr>\n",
       "    <tr>\n",
       "      <th>4302</th>\n",
       "      <td>1.188783e+08</td>\n",
       "      <td>2.910541e+07</td>\n",
       "      <td>Stormbreaker</td>\n",
       "    </tr>\n",
       "    <tr>\n",
       "      <th>6909</th>\n",
       "      <td>1.188783e+08</td>\n",
       "      <td>4.764664e+07</td>\n",
       "      <td>A Monster Calls</td>\n",
       "    </tr>\n",
       "    <tr>\n",
       "      <th>4299</th>\n",
       "      <td>1.188783e+08</td>\n",
       "      <td>8.214968e+07</td>\n",
       "      <td>Mr. Magorium's Wonder Emporium</td>\n",
       "    </tr>\n",
       "    <tr>\n",
       "      <th>4298</th>\n",
       "      <td>1.188783e+08</td>\n",
       "      <td>7.848066e+07</td>\n",
       "      <td>Land of the Lost</td>\n",
       "    </tr>\n",
       "  </tbody>\n",
       "</table>\n",
       "</div>"
      ],
      "text/plain": [
       "      original_language  revenue_inflated                           title\n",
       "0          1.188783e+08      2.669624e+08           The Birth of a Nation\n",
       "4302       1.188783e+08      2.910541e+07                    Stormbreaker\n",
       "6909       1.188783e+08      4.764664e+07                 A Monster Calls\n",
       "4299       1.188783e+08      8.214968e+07  Mr. Magorium's Wonder Emporium\n",
       "4298       1.188783e+08      7.848066e+07                Land of the Lost"
      ]
     },
     "execution_count": 15,
     "metadata": {},
     "output_type": "execute_result"
    }
   ],
   "source": [
    "reves[[\"original_language\", \"revenue_inflated\", \"title\"]].sort_values(by = \"original_language\", ascending = False).head(5)"
   ]
  },
  {
   "cell_type": "code",
   "execution_count": 16,
   "metadata": {},
   "outputs": [
    {
     "data": {
      "text/plain": [
       "['en', 'no']"
      ]
     },
     "execution_count": 16,
     "metadata": {},
     "output_type": "execute_result"
    }
   ],
   "source": [
    "sorted(language_dict, key = language_dict.get, reverse = True)[:5]"
   ]
  },
  {
   "cell_type": "markdown",
   "metadata": {},
   "source": [
    "  \n",
    "#### Production company"
   ]
  },
  {
   "cell_type": "markdown",
   "metadata": {},
   "source": [
    "Primero eliminamos los registros que no contienen información sobre las compañías productoras.\n",
    "\n",
    "Y vamos a analizar si el número de productoras afecta a la recaudación"
   ]
  },
  {
   "cell_type": "code",
   "execution_count": 17,
   "metadata": {},
   "outputs": [],
   "source": [
    "reves = reves[reves[\"production_companies\"].str.len() != 0].reset_index(drop = True)\n",
    "reves[\"production_companies_counter\"] = reves[\"production_companies\"].apply(lambda x: len(x))"
   ]
  },
  {
   "cell_type": "code",
   "execution_count": 18,
   "metadata": {},
   "outputs": [
    {
     "data": {
      "image/png": "[encoded data removed]",
      "text/plain": [
       "<matplotlib.figure.Figure at 0x238da9bf128>"
      ]
     },
     "metadata": {
      "needs_background": "light"
     },
     "output_type": "display_data"
    }
   ],
   "source": [
    "plt.figure(figsize = (10, 5))\n",
    "plt.plot(reves.groupby(\"production_companies_counter\").mean()[\"revenue_inflated\"], color = \"green\")\n",
    "plt.ylabel(\"Mean Revenue\", fontsize = 13)\n",
    "plt.xlabel(\"Number of product companies\", fontsize = 13)\n",
    "plt.title(\"Does the number of production company affect the revenue?\");"
   ]
  },
  {
   "cell_type": "markdown",
   "metadata": {},
   "source": [
    "Vemos que efectivamente hay influencia en la recaudación por lo que crearemos una variable nueva que cuente el número de productoras participantes en una película.\n",
    "\n",
    "Además de crear esta nueva variable vamos a realizar la misma transformación que hemos realizado previamente para las otras variables."
   ]
  },
  {
   "cell_type": "code",
   "execution_count": 19,
   "metadata": {},
   "outputs": [],
   "source": [
    "reves[\"production_companies\"] = reves[\"production_companies\"].apply(lambda x: [rf.clean(name) for name in x])\n",
    "production_company_dict = rf.word_mean(reves, \"production_companies\", \"revenue_inflated\")\n",
    "reves[\"production_companies\"] = reves[\"production_companies\"].apply(rf.get_mean, variable_mean_dict = production_company_dict)"
   ]
  },
  {
   "cell_type": "code",
   "execution_count": 20,
   "metadata": {},
   "outputs": [
    {
     "data": {
      "text/html": [
       "<div>\n",
       "<style>\n",
       "    .dataframe thead tr:only-child th {\n",
       "        text-align: right;\n",
       "    }\n",
       "\n",
       "    .dataframe thead th {\n",
       "        text-align: left;\n",
       "    }\n",
       "\n",
       "    .dataframe tbody tr th {\n",
       "        vertical-align: top;\n",
       "    }\n",
       "</style>\n",
       "<table border=\"1\" class=\"dataframe\">\n",
       "  <thead>\n",
       "    <tr style=\"text-align: right;\">\n",
       "      <th></th>\n",
       "      <th>production_companies</th>\n",
       "      <th>revenue_inflated</th>\n",
       "      <th>title</th>\n",
       "    </tr>\n",
       "  </thead>\n",
       "  <tbody>\n",
       "    <tr>\n",
       "      <th>68</th>\n",
       "      <td>2.419100e+09</td>\n",
       "      <td>1.050514e+08</td>\n",
       "      <td>Rebecca</td>\n",
       "    </tr>\n",
       "    <tr>\n",
       "      <th>95</th>\n",
       "      <td>2.419100e+09</td>\n",
       "      <td>9.532444e+07</td>\n",
       "      <td>Spellbound</td>\n",
       "    </tr>\n",
       "    <tr>\n",
       "      <th>434</th>\n",
       "      <td>1.312827e+09</td>\n",
       "      <td>2.436328e+09</td>\n",
       "      <td>The Exorcist</td>\n",
       "    </tr>\n",
       "    <tr>\n",
       "      <th>58</th>\n",
       "      <td>1.281629e+09</td>\n",
       "      <td>7.056925e+09</td>\n",
       "      <td>Gone with the Wind</td>\n",
       "    </tr>\n",
       "    <tr>\n",
       "      <th>2148</th>\n",
       "      <td>1.113898e+09</td>\n",
       "      <td>1.280172e+07</td>\n",
       "      <td>Strange Days</td>\n",
       "    </tr>\n",
       "  </tbody>\n",
       "</table>\n",
       "</div>"
      ],
      "text/plain": [
       "      production_companies  revenue_inflated               title\n",
       "68            2.419100e+09      1.050514e+08             Rebecca\n",
       "95            2.419100e+09      9.532444e+07          Spellbound\n",
       "434           1.312827e+09      2.436328e+09        The Exorcist\n",
       "58            1.281629e+09      7.056925e+09  Gone with the Wind\n",
       "2148          1.113898e+09      1.280172e+07        Strange Days"
      ]
     },
     "execution_count": 20,
     "metadata": {},
     "output_type": "execute_result"
    }
   ],
   "source": [
    "reves[[\"production_companies\", \"revenue_inflated\", \"title\"]].sort_values(by = \"production_companies\", ascending = False).head(5)"
   ]
  },
  {
   "cell_type": "code",
   "execution_count": 21,
   "metadata": {},
   "outputs": [
    {
     "data": {
      "text/plain": [
       "['hoya productions',\n",
       " 'selznick international pictures',\n",
       " 'argyle enterprises',\n",
       " 'abu dhabi film commission',\n",
       " 'colorado office of film television media']"
      ]
     },
     "execution_count": 21,
     "metadata": {},
     "output_type": "execute_result"
    }
   ],
   "source": [
    "sorted(production_company_dict, key = production_company_dict.get, reverse = True)[:5]"
   ]
  },
  {
   "cell_type": "markdown",
   "metadata": {},
   "source": [
    "\n",
    "#### Cast"
   ]
  },
  {
   "cell_type": "code",
   "execution_count": 22,
   "metadata": {},
   "outputs": [
    {
     "name": "stdout",
     "output_type": "stream",
     "text": [
      "There are 75700 unique cast_names\n"
     ]
    }
   ],
   "source": [
    "reves = reves[reves[\"cast_names\"].str.len() != 0].reset_index(drop = True)\n",
    "reves[\"cast_names\"] = reves[\"cast_names\"].apply(lambda x: [rf.clean(name) for name in x])\n",
    "cast_dict = rf.word_mean(reves, \"cast_names\", \"revenue_inflated\")\n",
    "\n",
    "print(\"There are %d unique cast_names\" %(len(cast_dict.keys())))"
   ]
  },
  {
   "cell_type": "markdown",
   "metadata": {},
   "source": [
    "There are too many unique values to use in a model without overfitting, and also, too many values for a one hot encoding of this column. We need to simplify this information ir order to use it in Reves. \n",
    "\n",
    "There are many strategies we could follow: clustering actors by rating, clustering actors by mean revenue, replace \"actor_name\" with some actor's feature, etc. We have searched for datasets that may contain a ranking of actors that we could use for clustering, but they do not have all the names that appear in our main dataset, and we do the merge, we have too many missing values. \n",
    "\n",
    "In a real version of Reves we think that a great strategy will be using a clustering by actor's mean earnings or popularity. That information is easy to get for a production company though it's not available for us at this point of Reves development. \n",
    "\n",
    "The question is: What is the best Reves could learn from the data that we currently have?"
   ]
  },
  {
   "cell_type": "markdown",
   "metadata": {},
   "source": [
    "Después de analizar varias posibilidades nos decantamos por realizar la transformación de esta variable por la media del valor a predecir. Además, de cara a dar un uso práctico a este modelo vamos a considerar los 4 actores principales por película. (Se han hecho pruebas teniendo en cuenta todo el reparto y el modelo mejora en cuanto al error, pero se deja como opcion de mejora para el futuro)."
   ]
  },
  {
   "cell_type": "code",
   "execution_count": 23,
   "metadata": {},
   "outputs": [],
   "source": [
    "#cast names\n",
    "reves[\"cast_names\"] = reves[\"cast_names\"].apply(lambda x: x[:4])\n",
    "reves[\"cast_names\"] = reves[\"cast_names\"].apply(rf.get_mean, variable_mean_dict = cast_dict)"
   ]
  },
  {
   "cell_type": "code",
   "execution_count": 24,
   "metadata": {},
   "outputs": [
    {
     "data": {
      "text/html": [
       "<div>\n",
       "<style>\n",
       "    .dataframe thead tr:only-child th {\n",
       "        text-align: right;\n",
       "    }\n",
       "\n",
       "    .dataframe thead th {\n",
       "        text-align: left;\n",
       "    }\n",
       "\n",
       "    .dataframe tbody tr th {\n",
       "        vertical-align: top;\n",
       "    }\n",
       "</style>\n",
       "<table border=\"1\" class=\"dataframe\">\n",
       "  <thead>\n",
       "    <tr style=\"text-align: right;\">\n",
       "      <th></th>\n",
       "      <th>cast_names</th>\n",
       "      <th>revenue_inflated</th>\n",
       "      <th>title</th>\n",
       "    </tr>\n",
       "  </thead>\n",
       "  <tbody>\n",
       "    <tr>\n",
       "      <th>75</th>\n",
       "      <td>4.401261e+09</td>\n",
       "      <td>4.021880e+09</td>\n",
       "      <td>Bambi</td>\n",
       "    </tr>\n",
       "    <tr>\n",
       "      <th>54</th>\n",
       "      <td>2.769516e+09</td>\n",
       "      <td>3.147843e+09</td>\n",
       "      <td>Snow White and the Seven Dwarfs</td>\n",
       "    </tr>\n",
       "    <tr>\n",
       "      <th>123</th>\n",
       "      <td>2.297925e+09</td>\n",
       "      <td>5.392640e+09</td>\n",
       "      <td>Alice in Wonderland</td>\n",
       "    </tr>\n",
       "    <tr>\n",
       "      <th>118</th>\n",
       "      <td>1.889114e+09</td>\n",
       "      <td>2.680976e+09</td>\n",
       "      <td>Cinderella</td>\n",
       "    </tr>\n",
       "    <tr>\n",
       "      <th>58</th>\n",
       "      <td>1.870523e+09</td>\n",
       "      <td>7.056925e+09</td>\n",
       "      <td>Gone with the Wind</td>\n",
       "    </tr>\n",
       "  </tbody>\n",
       "</table>\n",
       "</div>"
      ],
      "text/plain": [
       "       cast_names  revenue_inflated                            title\n",
       "75   4.401261e+09      4.021880e+09                            Bambi\n",
       "54   2.769516e+09      3.147843e+09  Snow White and the Seven Dwarfs\n",
       "123  2.297925e+09      5.392640e+09              Alice in Wonderland\n",
       "118  1.889114e+09      2.680976e+09                       Cinderella\n",
       "58   1.870523e+09      7.056925e+09               Gone with the Wind"
      ]
     },
     "execution_count": 24,
     "metadata": {},
     "output_type": "execute_result"
    }
   ],
   "source": [
    "reves[[\"cast_names\", \"revenue_inflated\", \"title\"]].sort_values(by = \"cast_names\", ascending = False).head(5)"
   ]
  },
  {
   "cell_type": "code",
   "execution_count": 25,
   "metadata": {},
   "outputs": [
    {
     "data": {
      "text/plain": [
       "['leslie howard',\n",
       " 'ann rutherford',\n",
       " 'fred crane',\n",
       " 'marcella martin',\n",
       " 'leona roberts']"
      ]
     },
     "execution_count": 25,
     "metadata": {},
     "output_type": "execute_result"
    }
   ],
   "source": [
    "sorted(cast_dict, key = cast_dict.get, reverse = True)[:5]"
   ]
  },
  {
   "cell_type": "markdown",
   "metadata": {},
   "source": [
    "En cuanto al género de los protagonistas también vimos que había diferencias en la recaudación media de las películas si los protagonistas eran hombres o mujeres. Vamos a crear dos variables que nos digan cuantas mujeres y hombres hay entre los 4 protagonistas."
   ]
  },
  {
   "cell_type": "code",
   "execution_count": 26,
   "metadata": {},
   "outputs": [],
   "source": [
    "#cast gender\n",
    "reves = reves[reves[\"cast_gender\"].str.len() != 0].reset_index(drop = True)\n",
    "cast_gender_dict = rf.word_mean(reves, \"cast_gender\", \"revenue_inflated\")\n",
    "reves[\"main_actor_genre\"] = reves[\"cast_gender\"].apply(lambda x: x[:1])\n",
    "reves[\"main_actor_genre\"] = reves[\"main_actor_genre\"].apply(rf.get_mean, variable_mean_dict = cast_gender_dict)"
   ]
  },
  {
   "cell_type": "code",
   "execution_count": 27,
   "metadata": {},
   "outputs": [
    {
     "data": {
      "text/html": [
       "<div>\n",
       "<style>\n",
       "    .dataframe thead tr:only-child th {\n",
       "        text-align: right;\n",
       "    }\n",
       "\n",
       "    .dataframe thead th {\n",
       "        text-align: left;\n",
       "    }\n",
       "\n",
       "    .dataframe tbody tr th {\n",
       "        vertical-align: top;\n",
       "    }\n",
       "</style>\n",
       "<table border=\"1\" class=\"dataframe\">\n",
       "  <thead>\n",
       "    <tr style=\"text-align: right;\">\n",
       "      <th></th>\n",
       "      <th>main_actor_genre</th>\n",
       "      <th>revenue_inflated</th>\n",
       "      <th>title</th>\n",
       "    </tr>\n",
       "  </thead>\n",
       "  <tbody>\n",
       "    <tr>\n",
       "      <th>6921</th>\n",
       "      <td>1.826323e+08</td>\n",
       "      <td>9.868942e+06</td>\n",
       "      <td>The Spacewalker</td>\n",
       "    </tr>\n",
       "    <tr>\n",
       "      <th>707</th>\n",
       "      <td>1.826323e+08</td>\n",
       "      <td>8.035837e+07</td>\n",
       "      <td>The Fox and the Hound</td>\n",
       "    </tr>\n",
       "    <tr>\n",
       "      <th>6229</th>\n",
       "      <td>1.826323e+08</td>\n",
       "      <td>1.188368e+04</td>\n",
       "      <td>The Devil's Violinist</td>\n",
       "    </tr>\n",
       "    <tr>\n",
       "      <th>4942</th>\n",
       "      <td>1.826323e+08</td>\n",
       "      <td>5.787719e+04</td>\n",
       "      <td>The Miracle</td>\n",
       "    </tr>\n",
       "    <tr>\n",
       "      <th>5870</th>\n",
       "      <td>1.826323e+08</td>\n",
       "      <td>1.240653e+05</td>\n",
       "      <td>Yossi</td>\n",
       "    </tr>\n",
       "  </tbody>\n",
       "</table>\n",
       "</div>"
      ],
      "text/plain": [
       "      main_actor_genre  revenue_inflated                  title\n",
       "6921      1.826323e+08      9.868942e+06        The Spacewalker\n",
       "707       1.826323e+08      8.035837e+07  The Fox and the Hound\n",
       "6229      1.826323e+08      1.188368e+04  The Devil's Violinist\n",
       "4942      1.826323e+08      5.787719e+04            The Miracle\n",
       "5870      1.826323e+08      1.240653e+05                  Yossi"
      ]
     },
     "execution_count": 27,
     "metadata": {},
     "output_type": "execute_result"
    }
   ],
   "source": [
    "reves[[\"main_actor_genre\", \"revenue_inflated\", \"title\"]].sort_values(by = \"main_actor_genre\", ascending = False).head(5)"
   ]
  },
  {
   "cell_type": "code",
   "execution_count": 28,
   "metadata": {},
   "outputs": [
    {
     "data": {
      "text/plain": [
       "[0, 2, 1]"
      ]
     },
     "execution_count": 28,
     "metadata": {},
     "output_type": "execute_result"
    }
   ],
   "source": [
    "sorted(cast_gender_dict, key = cast_gender_dict.get, reverse = True)[:5]"
   ]
  },
  {
   "cell_type": "markdown",
   "metadata": {},
   "source": [
    "#### Directors"
   ]
  },
  {
   "cell_type": "markdown",
   "metadata": {},
   "source": [
    "Para los directores es exactamente igual que las demás. Sustituimos por el valor medio."
   ]
  },
  {
   "cell_type": "code",
   "execution_count": 29,
   "metadata": {},
   "outputs": [],
   "source": [
    "reves = reves[reves[\"directors\"].str.len() != 0].reset_index(drop = True)\n",
    "reves[\"directors\"] = reves[\"directors\"].apply(lambda x: [rf.clean(name) for name in x])\n",
    "directors_dict = rf.word_mean(reves, \"directors\", \"revenue_inflated\")\n",
    "reves[\"directors\"] = reves[\"directors\"].apply(rf.get_mean, variable_mean_dict = directors_dict)"
   ]
  },
  {
   "cell_type": "code",
   "execution_count": 30,
   "metadata": {},
   "outputs": [
    {
     "data": {
      "text/html": [
       "<div>\n",
       "<style>\n",
       "    .dataframe thead tr:only-child th {\n",
       "        text-align: right;\n",
       "    }\n",
       "\n",
       "    .dataframe thead th {\n",
       "        text-align: left;\n",
       "    }\n",
       "\n",
       "    .dataframe tbody tr th {\n",
       "        vertical-align: top;\n",
       "    }\n",
       "</style>\n",
       "<table border=\"1\" class=\"dataframe\">\n",
       "  <thead>\n",
       "    <tr style=\"text-align: right;\">\n",
       "      <th></th>\n",
       "      <th>directors</th>\n",
       "      <th>revenue_inflated</th>\n",
       "      <th>title</th>\n",
       "    </tr>\n",
       "  </thead>\n",
       "  <tbody>\n",
       "    <tr>\n",
       "      <th>58</th>\n",
       "      <td>3.899356e+09</td>\n",
       "      <td>7.056925e+09</td>\n",
       "      <td>Gone with the Wind</td>\n",
       "    </tr>\n",
       "    <tr>\n",
       "      <th>75</th>\n",
       "      <td>2.730483e+09</td>\n",
       "      <td>4.021880e+09</td>\n",
       "      <td>Bambi</td>\n",
       "    </tr>\n",
       "    <tr>\n",
       "      <th>54</th>\n",
       "      <td>2.637869e+09</td>\n",
       "      <td>3.147843e+09</td>\n",
       "      <td>Snow White and the Seven Dwarfs</td>\n",
       "    </tr>\n",
       "    <tr>\n",
       "      <th>83</th>\n",
       "      <td>2.575623e+09</td>\n",
       "      <td>7.469196e+07</td>\n",
       "      <td>A Guy Named Joe</td>\n",
       "    </tr>\n",
       "    <tr>\n",
       "      <th>63</th>\n",
       "      <td>2.065520e+09</td>\n",
       "      <td>4.003039e+07</td>\n",
       "      <td>The Women</td>\n",
       "    </tr>\n",
       "  </tbody>\n",
       "</table>\n",
       "</div>"
      ],
      "text/plain": [
       "       directors  revenue_inflated                            title\n",
       "58  3.899356e+09      7.056925e+09               Gone with the Wind\n",
       "75  2.730483e+09      4.021880e+09                            Bambi\n",
       "54  2.637869e+09      3.147843e+09  Snow White and the Seven Dwarfs\n",
       "83  2.575623e+09      7.469196e+07                  A Guy Named Joe\n",
       "63  2.065520e+09      4.003039e+07                        The Women"
      ]
     },
     "execution_count": 30,
     "metadata": {},
     "output_type": "execute_result"
    }
   ],
   "source": [
    "reves[[\"directors\", \"revenue_inflated\", \"title\"]].sort_values(by = \"directors\", ascending = False).head(5)"
   ]
  },
  {
   "cell_type": "code",
   "execution_count": 31,
   "metadata": {},
   "outputs": [
    {
     "data": {
      "text/plain": [
       "['sam wood',\n",
       " 'graham heid',\n",
       " 'norman wright',\n",
       " 'william cottrell',\n",
       " 'perce pearce']"
      ]
     },
     "execution_count": 31,
     "metadata": {},
     "output_type": "execute_result"
    }
   ],
   "source": [
    "sorted(directors_dict, key = directors_dict.get, reverse = True)[:5]"
   ]
  },
  {
   "cell_type": "markdown",
   "metadata": {},
   "source": [
    "#### Writers"
   ]
  },
  {
   "cell_type": "markdown",
   "metadata": {},
   "source": [
    "Exactamente igual."
   ]
  },
  {
   "cell_type": "code",
   "execution_count": 32,
   "metadata": {},
   "outputs": [],
   "source": [
    "reves = reves[reves[\"writers\"].str.len() != 0].reset_index(drop = True)\n",
    "reves[\"writers\"] = reves[\"writers\"].apply(lambda x: [rf.clean(name) for name in x])\n",
    "writers_dict = rf.word_mean(reves, \"writers\", \"revenue_inflated\")\n",
    "reves[\"writers\"] = reves[\"writers\"].apply(rf.get_mean, variable_mean_dict = writers_dict)"
   ]
  },
  {
   "cell_type": "code",
   "execution_count": 33,
   "metadata": {},
   "outputs": [
    {
     "data": {
      "text/html": [
       "<div>\n",
       "<style>\n",
       "    .dataframe thead tr:only-child th {\n",
       "        text-align: right;\n",
       "    }\n",
       "\n",
       "    .dataframe thead th {\n",
       "        text-align: left;\n",
       "    }\n",
       "\n",
       "    .dataframe tbody tr th {\n",
       "        vertical-align: top;\n",
       "    }\n",
       "</style>\n",
       "<table border=\"1\" class=\"dataframe\">\n",
       "  <thead>\n",
       "    <tr style=\"text-align: right;\">\n",
       "      <th></th>\n",
       "      <th>writers</th>\n",
       "      <th>revenue_inflated</th>\n",
       "      <th>title</th>\n",
       "    </tr>\n",
       "  </thead>\n",
       "  <tbody>\n",
       "    <tr>\n",
       "      <th>58</th>\n",
       "      <td>4.628770e+09</td>\n",
       "      <td>7.056925e+09</td>\n",
       "      <td>Gone with the Wind</td>\n",
       "    </tr>\n",
       "    <tr>\n",
       "      <th>123</th>\n",
       "      <td>3.052142e+09</td>\n",
       "      <td>5.392640e+09</td>\n",
       "      <td>Alice in Wonderland</td>\n",
       "    </tr>\n",
       "    <tr>\n",
       "      <th>75</th>\n",
       "      <td>2.517277e+09</td>\n",
       "      <td>4.021880e+09</td>\n",
       "      <td>Bambi</td>\n",
       "    </tr>\n",
       "    <tr>\n",
       "      <th>54</th>\n",
       "      <td>2.292087e+09</td>\n",
       "      <td>3.147843e+09</td>\n",
       "      <td>Snow White and the Seven Dwarfs</td>\n",
       "    </tr>\n",
       "    <tr>\n",
       "      <th>118</th>\n",
       "      <td>1.861384e+09</td>\n",
       "      <td>2.680976e+09</td>\n",
       "      <td>Cinderella</td>\n",
       "    </tr>\n",
       "  </tbody>\n",
       "</table>\n",
       "</div>"
      ],
      "text/plain": [
       "          writers  revenue_inflated                            title\n",
       "58   4.628770e+09      7.056925e+09               Gone with the Wind\n",
       "123  3.052142e+09      5.392640e+09              Alice in Wonderland\n",
       "75   2.517277e+09      4.021880e+09                            Bambi\n",
       "54   2.292087e+09      3.147843e+09  Snow White and the Seven Dwarfs\n",
       "118  1.861384e+09      2.680976e+09                       Cinderella"
      ]
     },
     "execution_count": 33,
     "metadata": {},
     "output_type": "execute_result"
    }
   ],
   "source": [
    "reves[[\"writers\", \"revenue_inflated\", \"title\"]].sort_values(by = \"writers\", ascending = False).head(5)"
   ]
  },
  {
   "cell_type": "code",
   "execution_count": 34,
   "metadata": {},
   "outputs": [
    {
     "data": {
      "text/plain": [
       "['margaret mitchell',\n",
       " 'sidney howard',\n",
       " 'john van druten',\n",
       " 'dick kelsey',\n",
       " 'del connell']"
      ]
     },
     "execution_count": 34,
     "metadata": {},
     "output_type": "execute_result"
    }
   ],
   "source": [
    "sorted(writers_dict, key = writers_dict.get, reverse = True)[:5]"
   ]
  },
  {
   "cell_type": "markdown",
   "metadata": {},
   "source": [
    "#### Keywords"
   ]
  },
  {
   "cell_type": "markdown",
   "metadata": {},
   "source": [
    "Para los keywords es exactamente lo mismo. Como vimos en el notebook anterior existen keywords de significado técnico que pueden ser muy útiles a la hora de predecir la recaudación (imax y 3D). Por este motivo y de cara al usuario, en el front se dará la opción de seleccionar si estas dos keywords pertenecen a la película a predecir."
   ]
  },
  {
   "cell_type": "code",
   "execution_count": 35,
   "metadata": {},
   "outputs": [],
   "source": [
    "reves = reves[reves[\"keywords\"].str.len() != 0].reset_index(drop = True)\n",
    "reves[\"keywords\"] = reves[\"keywords\"].apply(lambda x: [rf.clean(name) for name in x])\n",
    "keywords_dict = rf.word_mean(reves, \"keywords\", \"revenue_inflated\")\n",
    "reves[\"keywords\"] = reves[\"keywords\"].apply(rf.get_mean, variable_mean_dict = keywords_dict)"
   ]
  },
  {
   "cell_type": "code",
   "execution_count": 36,
   "metadata": {},
   "outputs": [
    {
     "data": {
      "text/html": [
       "<div>\n",
       "<style>\n",
       "    .dataframe thead tr:only-child th {\n",
       "        text-align: right;\n",
       "    }\n",
       "\n",
       "    .dataframe thead th {\n",
       "        text-align: left;\n",
       "    }\n",
       "\n",
       "    .dataframe tbody tr th {\n",
       "        vertical-align: top;\n",
       "    }\n",
       "</style>\n",
       "<table border=\"1\" class=\"dataframe\">\n",
       "  <thead>\n",
       "    <tr style=\"text-align: right;\">\n",
       "      <th></th>\n",
       "      <th>keywords</th>\n",
       "      <th>revenue_inflated</th>\n",
       "      <th>title</th>\n",
       "    </tr>\n",
       "  </thead>\n",
       "  <tbody>\n",
       "    <tr>\n",
       "      <th>119</th>\n",
       "      <td>1.913561e+09</td>\n",
       "      <td>5.392640e+09</td>\n",
       "      <td>Alice in Wonderland</td>\n",
       "    </tr>\n",
       "    <tr>\n",
       "      <th>55</th>\n",
       "      <td>1.589665e+09</td>\n",
       "      <td>7.056925e+09</td>\n",
       "      <td>Gone with the Wind</td>\n",
       "    </tr>\n",
       "    <tr>\n",
       "      <th>533</th>\n",
       "      <td>1.384135e+09</td>\n",
       "      <td>3.136395e+09</td>\n",
       "      <td>Star Wars</td>\n",
       "    </tr>\n",
       "    <tr>\n",
       "      <th>627</th>\n",
       "      <td>1.085052e+09</td>\n",
       "      <td>1.601609e+09</td>\n",
       "      <td>The Empire Strikes Back</td>\n",
       "    </tr>\n",
       "    <tr>\n",
       "      <th>288</th>\n",
       "      <td>1.007425e+09</td>\n",
       "      <td>2.227201e+09</td>\n",
       "      <td>The Sound of Music</td>\n",
       "    </tr>\n",
       "  </tbody>\n",
       "</table>\n",
       "</div>"
      ],
      "text/plain": [
       "         keywords  revenue_inflated                    title\n",
       "119  1.913561e+09      5.392640e+09      Alice in Wonderland\n",
       "55   1.589665e+09      7.056925e+09       Gone with the Wind\n",
       "533  1.384135e+09      3.136395e+09                Star Wars\n",
       "627  1.085052e+09      1.601609e+09  The Empire Strikes Back\n",
       "288  1.007425e+09      2.227201e+09       The Sound of Music"
      ]
     },
     "execution_count": 36,
     "metadata": {},
     "output_type": "execute_result"
    }
   ],
   "source": [
    "reves[[\"keywords\", \"revenue_inflated\", \"title\"]].sort_values(by = \"keywords\", ascending = False).head(5)"
   ]
  },
  {
   "cell_type": "code",
   "execution_count": 37,
   "metadata": {},
   "outputs": [
    {
     "data": {
      "text/plain": [
       "['typhus', 'nothing', 'tea party', 'anti war', 'hermit']"
      ]
     },
     "execution_count": 37,
     "metadata": {},
     "output_type": "execute_result"
    }
   ],
   "source": [
    "sorted(keywords_dict, key = keywords_dict.get, reverse = True)[:5]"
   ]
  },
  {
   "cell_type": "markdown",
   "metadata": {},
   "source": [
    "#### Release Month and Release Weekday"
   ]
  },
  {
   "cell_type": "markdown",
   "metadata": {},
   "source": [
    "Para el mes y el día de lanzamiento también vimos ciertas diferencias en cuanto a la recaudación. La transformación que realizamos es exactamente igual que en las anteriores variables."
   ]
  },
  {
   "cell_type": "code",
   "execution_count": 38,
   "metadata": {},
   "outputs": [],
   "source": [
    "reves = reves[reves[\"release_month\"].notnull()].reset_index(drop = True)\n",
    "\n",
    "reves[\"release_month\"] = reves[\"release_month\"].apply(lambda x: [x])\n",
    "reves[\"release_weekday\"] = reves[\"release_weekday\"].apply(lambda x: [x])\n",
    "\n",
    "month_dict = rf.word_mean(reves, \"release_month\", \"revenue_inflated\")\n",
    "reves[\"release_month\"] = reves[\"release_month\"].apply(rf.get_mean, variable_mean_dict = month_dict)\n",
    "\n",
    "weekday_dict = rf.word_mean(reves, \"release_weekday\", \"revenue_inflated\")\n",
    "reves[\"release_weekday\"] = reves[\"release_weekday\"].apply(rf.get_mean, variable_mean_dict = weekday_dict)"
   ]
  },
  {
   "cell_type": "code",
   "execution_count": 39,
   "metadata": {},
   "outputs": [
    {
     "data": {
      "text/plain": [
       "[6.0, 12.0, 11.0, 5.0, 7.0, 3.0, 4.0, 10.0, 2.0, 8.0, 1.0, 9.0]"
      ]
     },
     "execution_count": 39,
     "metadata": {},
     "output_type": "execute_result"
    }
   ],
   "source": [
    "sorted(month_dict, key = month_dict.get, reverse = True)"
   ]
  },
  {
   "cell_type": "code",
   "execution_count": 40,
   "metadata": {},
   "outputs": [
    {
     "data": {
      "text/plain": [
       "[1.0, 2.0, 0.0, 3.0, 5.0, 6.0, 4.0]"
      ]
     },
     "execution_count": 40,
     "metadata": {},
     "output_type": "execute_result"
    }
   ],
   "source": [
    "sorted(weekday_dict, key = weekday_dict.get, reverse = True)"
   ]
  },
  {
   "cell_type": "markdown",
   "metadata": {},
   "source": [
    "Eliminamos las variables que no hacen falta para el modelo"
   ]
  },
  {
   "cell_type": "code",
   "execution_count": 41,
   "metadata": {},
   "outputs": [],
   "source": [
    "reves.drop([\"revenue\", \"title\", \"release_year\", \"cpi\", \"cast_gender\"], axis = 1, inplace = True)"
   ]
  },
  {
   "cell_type": "code",
   "execution_count": 42,
   "metadata": {},
   "outputs": [
    {
     "data": {
      "text/html": [
       "<div>\n",
       "<style>\n",
       "    .dataframe thead tr:only-child th {\n",
       "        text-align: right;\n",
       "    }\n",
       "\n",
       "    .dataframe thead th {\n",
       "        text-align: left;\n",
       "    }\n",
       "\n",
       "    .dataframe tbody tr th {\n",
       "        vertical-align: top;\n",
       "    }\n",
       "</style>\n",
       "<table border=\"1\" class=\"dataframe\">\n",
       "  <thead>\n",
       "    <tr style=\"text-align: right;\">\n",
       "      <th></th>\n",
       "      <th>directors</th>\n",
       "      <th>writers</th>\n",
       "      <th>belongs_to_collection</th>\n",
       "      <th>genres</th>\n",
       "      <th>original_language</th>\n",
       "      <th>production_companies</th>\n",
       "      <th>runtime</th>\n",
       "      <th>keywords</th>\n",
       "      <th>release_month</th>\n",
       "      <th>release_weekday</th>\n",
       "      <th>cast_names</th>\n",
       "      <th>revenue_inflated</th>\n",
       "      <th>genres_counter</th>\n",
       "      <th>production_companies_counter</th>\n",
       "      <th>main_actor_genre</th>\n",
       "    </tr>\n",
       "  </thead>\n",
       "  <tbody>\n",
       "    <tr>\n",
       "      <th>0</th>\n",
       "      <td>2.669624e+08</td>\n",
       "      <td>2.669624e+08</td>\n",
       "      <td>7.092380e+07</td>\n",
       "      <td>1.059860e+08</td>\n",
       "      <td>1.188783e+08</td>\n",
       "      <td>2.669624e+08</td>\n",
       "      <td>193.0</td>\n",
       "      <td>2.269225e+08</td>\n",
       "      <td>8.272077e+07</td>\n",
       "      <td>1.408839e+08</td>\n",
       "      <td>1.759860e+08</td>\n",
       "      <td>2.669624e+08</td>\n",
       "      <td>3</td>\n",
       "      <td>1</td>\n",
       "      <td>1.539184e+08</td>\n",
       "    </tr>\n",
       "    <tr>\n",
       "      <th>1</th>\n",
       "      <td>1.799046e+08</td>\n",
       "      <td>1.962946e+08</td>\n",
       "      <td>7.092380e+07</td>\n",
       "      <td>1.667151e+08</td>\n",
       "      <td>1.188783e+08</td>\n",
       "      <td>1.799046e+08</td>\n",
       "      <td>105.0</td>\n",
       "      <td>1.175707e+08</td>\n",
       "      <td>1.797448e+08</td>\n",
       "      <td>9.058722e+07</td>\n",
       "      <td>1.799046e+08</td>\n",
       "      <td>1.799046e+08</td>\n",
       "      <td>4</td>\n",
       "      <td>1</td>\n",
       "      <td>1.826323e+08</td>\n",
       "    </tr>\n",
       "    <tr>\n",
       "      <th>2</th>\n",
       "      <td>1.298649e+08</td>\n",
       "      <td>1.298649e+08</td>\n",
       "      <td>7.092380e+07</td>\n",
       "      <td>8.279268e+07</td>\n",
       "      <td>1.188783e+08</td>\n",
       "      <td>1.298649e+08</td>\n",
       "      <td>93.0</td>\n",
       "      <td>2.149132e+08</td>\n",
       "      <td>8.251373e+07</td>\n",
       "      <td>1.279176e+08</td>\n",
       "      <td>1.468606e+08</td>\n",
       "      <td>1.298649e+08</td>\n",
       "      <td>2</td>\n",
       "      <td>1</td>\n",
       "      <td>1.539184e+08</td>\n",
       "    </tr>\n",
       "    <tr>\n",
       "      <th>3</th>\n",
       "      <td>7.112113e+07</td>\n",
       "      <td>7.112113e+07</td>\n",
       "      <td>7.092380e+07</td>\n",
       "      <td>8.279268e+07</td>\n",
       "      <td>1.188783e+08</td>\n",
       "      <td>4.454915e+07</td>\n",
       "      <td>68.0</td>\n",
       "      <td>1.225954e+08</td>\n",
       "      <td>5.521710e+07</td>\n",
       "      <td>8.316584e+07</td>\n",
       "      <td>4.069436e+07</td>\n",
       "      <td>3.423464e+07</td>\n",
       "      <td>2</td>\n",
       "      <td>2</td>\n",
       "      <td>1.763220e+08</td>\n",
       "    </tr>\n",
       "    <tr>\n",
       "      <th>4</th>\n",
       "      <td>2.919561e+06</td>\n",
       "      <td>4.166173e+06</td>\n",
       "      <td>7.092380e+07</td>\n",
       "      <td>7.353105e+07</td>\n",
       "      <td>1.188783e+08</td>\n",
       "      <td>5.839109e+06</td>\n",
       "      <td>117.0</td>\n",
       "      <td>5.842999e+07</td>\n",
       "      <td>5.521710e+07</td>\n",
       "      <td>1.691554e+08</td>\n",
       "      <td>1.052070e+07</td>\n",
       "      <td>5.839109e+06</td>\n",
       "      <td>1</td>\n",
       "      <td>1</td>\n",
       "      <td>1.763220e+08</td>\n",
       "    </tr>\n",
       "  </tbody>\n",
       "</table>\n",
       "</div>"
      ],
      "text/plain": [
       "      directors       writers  belongs_to_collection        genres  \\\n",
       "0  2.669624e+08  2.669624e+08           7.092380e+07  1.059860e+08   \n",
       "1  1.799046e+08  1.962946e+08           7.092380e+07  1.667151e+08   \n",
       "2  1.298649e+08  1.298649e+08           7.092380e+07  8.279268e+07   \n",
       "3  7.112113e+07  7.112113e+07           7.092380e+07  8.279268e+07   \n",
       "4  2.919561e+06  4.166173e+06           7.092380e+07  7.353105e+07   \n",
       "\n",
       "   original_language  production_companies  runtime      keywords  \\\n",
       "0       1.188783e+08          2.669624e+08    193.0  2.269225e+08   \n",
       "1       1.188783e+08          1.799046e+08    105.0  1.175707e+08   \n",
       "2       1.188783e+08          1.298649e+08     93.0  2.149132e+08   \n",
       "3       1.188783e+08          4.454915e+07     68.0  1.225954e+08   \n",
       "4       1.188783e+08          5.839109e+06    117.0  5.842999e+07   \n",
       "\n",
       "   release_month  release_weekday    cast_names  revenue_inflated  \\\n",
       "0   8.272077e+07     1.408839e+08  1.759860e+08      2.669624e+08   \n",
       "1   1.797448e+08     9.058722e+07  1.799046e+08      1.799046e+08   \n",
       "2   8.251373e+07     1.279176e+08  1.468606e+08      1.298649e+08   \n",
       "3   5.521710e+07     8.316584e+07  4.069436e+07      3.423464e+07   \n",
       "4   5.521710e+07     1.691554e+08  1.052070e+07      5.839109e+06   \n",
       "\n",
       "   genres_counter  production_companies_counter  main_actor_genre  \n",
       "0               3                             1      1.539184e+08  \n",
       "1               4                             1      1.826323e+08  \n",
       "2               2                             1      1.539184e+08  \n",
       "3               2                             2      1.763220e+08  \n",
       "4               1                             1      1.763220e+08  "
      ]
     },
     "execution_count": 42,
     "metadata": {},
     "output_type": "execute_result"
    }
   ],
   "source": [
    "reves.head()"
   ]
  },
  {
   "cell_type": "code",
   "execution_count": 43,
   "metadata": {},
   "outputs": [],
   "source": [
    "reves.to_pickle(\"data/reves.pkl\")"
   ]
  },
  {
   "cell_type": "markdown",
   "metadata": {},
   "source": [
    "#### Runtime\n",
    "This variable is the only one with no transformation. "
   ]
  },
  {
   "cell_type": "markdown",
   "metadata": {},
   "source": [
    "### Values for the dataframe transformation"
   ]
  },
  {
   "cell_type": "markdown",
   "metadata": {},
   "source": [
    "Esta celda a continuación es únicamente guardar los diccionarios generados en un pickle para su uso posterior a la hora de probar el modelo con películas nuevas. Las guardo en una carpeta llamada \"transformation\".\n",
    "\n",
    "Hay que tener en cuenta que en cuanto se prueba el modelo para películas nuevas, se va poniendo los datos y hacen falta estos diccionarios para realizar las transformaciones correspondientes."
   ]
  },
  {
   "cell_type": "code",
   "execution_count": 44,
   "metadata": {},
   "outputs": [],
   "source": [
    "import pickle\n",
    "\n",
    "with open(\"transformation/collection_dict.pickle\", \"wb\") as handle:\n",
    "    pickle.dump(collection_dict, handle, protocol=pickle.HIGHEST_PROTOCOL)\n",
    "    \n",
    "with open(\"transformation/genres_dict.pickle\", \"wb\") as handle:\n",
    "    pickle.dump(genres_dict, handle, protocol=pickle.HIGHEST_PROTOCOL)\n",
    "\n",
    "with open(\"transformation/language_dict.pickle\", \"wb\") as handle:\n",
    "    pickle.dump(language_dict, handle, protocol=pickle.HIGHEST_PROTOCOL)\n",
    "    \n",
    "with open(\"transformation/production_company_dict.pickle\", \"wb\") as handle:\n",
    "    pickle.dump(production_company_dict, handle, protocol=pickle.HIGHEST_PROTOCOL)\n",
    "    \n",
    "with open(\"transformation/cast_dict.pickle\", \"wb\") as handle:\n",
    "    pickle.dump(cast_dict, handle, protocol=pickle.HIGHEST_PROTOCOL)\n",
    "    \n",
    "with open(\"transformation/cast_gender_dict.pickle\", \"wb\") as handle:\n",
    "    pickle.dump(cast_gender_dict, handle, protocol=pickle.HIGHEST_PROTOCOL)\n",
    "    \n",
    "with open(\"transformation/directors_dict.pickle\", \"wb\") as handle:\n",
    "    pickle.dump(directors_dict, handle, protocol=pickle.HIGHEST_PROTOCOL)\n",
    "    \n",
    "with open(\"transformation/writers_dict.pickle\", \"wb\") as handle:\n",
    "    pickle.dump(directors_dict, handle, protocol=pickle.HIGHEST_PROTOCOL)\n",
    "    \n",
    "with open(\"transformation/keywords_dict.pickle\", \"wb\") as handle:\n",
    "    pickle.dump(keywords_dict, handle, protocol=pickle.HIGHEST_PROTOCOL)\n",
    "    \n",
    "with open(\"transformation/month_dict.pickle\", \"wb\") as handle:\n",
    "    pickle.dump(month_dict, handle, protocol=pickle.HIGHEST_PROTOCOL)\n",
    "    \n",
    "with open(\"transformation/weekday_dict.pickle\", \"wb\") as handle:\n",
    "    pickle.dump(weekday_dict, handle, protocol=pickle.HIGHEST_PROTOCOL)"
   ]
  },
  {
   "cell_type": "markdown",
   "metadata": {},
   "source": [
    "### Resumen de las transformaciones que se han realizado. \n",
    "Este es el código que usaremos en el backend para transformar los datos que nos de el usuario y poder meterlos al modelo. \n",
    "Hemos añadido una parte de limpieza de datos (lower, strip, etc) para limpiar los datos de entrada y que puedan entrar al modelo sin dar fallo. "
   ]
  },
  {
   "cell_type": "markdown",
   "metadata": {},
   "source": [
    "``` python\n",
    "# belongs_to_collection\n",
    "test_df[\"belongs_to_collection\"] = test_df[\"belongs_to_collection\"].apply(lambda x: [rf.clean(name) for name in x])\n",
    "test_df[\"belongs_to_collection\"] = test_df[\"belongs_to_collection\"].apply(rf.get_mean, variable_mean_dict = collection_dict)\n",
    "\n",
    "# genres\n",
    "test_df[\"genres\"] = test_df[\"genres\"].apply(lambda x: [rf.clean(name) for name in x])\n",
    "test_df[\"genres\"] = test_df[\"genres\"].apply(rf.get_mean, variable_mean_dict = genres_dict)\n",
    "\n",
    "# original language\n",
    "test_df[\"original_language\"] = test_df[\"original_language\"].apply(lambda x: [rf.clean(name) for name in x])\n",
    "test_df[\"original_language\"] = test_df[\"original_language\"].apply(rf.get_mean, variable_mean_dict = language_dict)\n",
    "\n",
    "# production company\n",
    "test_df[\"production_companies\"] = test_df[\"production_companies\"].apply(lambda x: [rf.clean(name) for name in x])\n",
    "test_df[\"production_companies\"] = test_df[\"production_companies\"].apply(rf.get_mean, variable_mean_dict = production_company_dict)\n",
    "test_df[\"production_companies_counter\"] = reves[\"production_companies\"].apply(lambda x: len(x))\n",
    "\n",
    "# cast names\n",
    "test_df[\"cast_names\"] = test_df[\"cast_names\"].apply(lambda x: [rf.clean(name) for name in x])\n",
    "test_df[\"cast_names\"] = test_df[\"cast_names\"].apply(rf.get_mean, variable_mean_dict = cast_dict)\n",
    "\n",
    "# main actor genre\n",
    "test_df[\"main_actor_genre\"] = test_df[\"main_actor_genre\"].apply(rf.get_mean, variable_mean_dict = cast_gender_dict)\n",
    "\n",
    "# directors\n",
    "test_df[\"directors\"] = test_df[\"directors\"].apply(lambda x: [rf.clean(name) for name in x])\n",
    "test_df[\"directors\"] = test_df[\"directors\"].apply(rf.get_mean, variable_mean_dict = directors_dict)\n",
    "\n",
    "# writers\n",
    "test_df[\"writers\"] = test_df[\"writers\"].apply(lambda x: [rf.clean(name) for name in x])\n",
    "test_df[\"writers\"] = test_df[\"writers\"].apply(rf.get_mean, variable_mean_dict = writers_dict)\n",
    "\n",
    "# keywords\n",
    "test_df[\"keywords\"] = test_df[\"keywords\"].apply(lambda x: [rf.clean(name) for name in x])\n",
    "test_df[\"keywords\"] = test_df[\"keywords\"].apply(rf.get_mean, variable_mean_dict = keywords_dict)\n",
    "\n",
    "# release date\n",
    "test_df[\"release_month\"] = test_df[\"release_month\"].apply(rf.get_mean, variable_mean_dict = month_dict)\n",
    "test_df[\"release_weekday\"] = test_df[\"release_weekday\"].apply(rf.get_mean, variable_mean_dict = weekday_dict)\n",
    "```"
   ]
  },
  {
   "cell_type": "markdown",
   "metadata": {},
   "source": [
    "#### Keep Coding"
   ]
  },
  {
   "cell_type": "markdown",
   "metadata": {},
   "source": [
    "Go to the following notebook for more.\n",
    "\n",
    "https://github.com/ElsaDuran/reves/blob/master/03.Model.ipynb"
   ]
  },
  {
   "cell_type": "code",
   "execution_count": null,
   "metadata": {},
   "outputs": [],
   "source": []
  }
 ],
 "metadata": {
  "kernelspec": {
   "display_name": "Python 3",
   "language": "python",
   "name": "python3"
  },
  "language_info": {
   "codemirror_mode": {
    "name": "ipython",
    "version": 3
   },
   "file_extension": ".py",
   "mimetype": "text/x-python",
   "name": "python",
   "nbconvert_exporter": "python",
   "pygments_lexer": "ipython3",
   "version": "3.6.5"
  }
 },
 "nbformat": 4,
 "nbformat_minor": 2
}
