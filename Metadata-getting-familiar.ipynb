{
 "cells": [
  {
   "cell_type": "markdown",
   "metadata": {},
   "source": [
    "# Getting familiar with Movies_Metadata File"
   ]
  },
  {
   "cell_type": "markdown",
   "metadata": {},
   "source": [
    "Reload dataset"
   ]
  },
  {
   "cell_type": "code",
   "execution_count": 4,
   "metadata": {},
   "outputs": [
    {
     "name": "stdout",
     "output_type": "stream",
     "text": [
      "(7408, 24)\n",
      "Index(['adult', 'belongs_to_collection', 'budget', 'genres', 'homepage', 'id',\n",
      "       'imdb_id', 'original_language', 'original_title', 'overview',\n",
      "       'popularity', 'poster_path', 'production_companies',\n",
      "       'production_countries', 'release_date', 'revenue', 'runtime',\n",
      "       'spoken_languages', 'status', 'tagline', 'title', 'video',\n",
      "       'vote_average', 'vote_count'],\n",
      "      dtype='object')\n"
     ]
    }
   ],
   "source": [
    "path=\"C:/Users/Elsa/OneDrive/master/03_reve/data/\"\n",
    "metadata_file=\"movies_metadata.csv\"\n",
    "metadata=pd.read_csv(path+metadata_file,low_memory=False)\n",
    "reves_metadata=metadata[metadata[\"revenue\"]>0]\n",
    "print(reves_metadata.shape)\n",
    "print(reves_metadata.columns)"
   ]
  },
  {
   "cell_type": "code",
   "execution_count": null,
   "metadata": {},
   "outputs": [],
   "source": []
  },
  {
   "cell_type": "code",
   "execution_count": null,
   "metadata": {},
   "outputs": [],
   "source": []
  },
  {
   "cell_type": "markdown",
   "metadata": {},
   "source": [
    "#### Loading libraries and data"
   ]
  },
  {
   "cell_type": "code",
   "execution_count": 3,
   "metadata": {},
   "outputs": [],
   "source": [
    "import pandas as pd\n",
    "import numpy as np\n",
    "import matplotlib.pyplot as plt\n",
    "%matplotlib inline\n",
    "plt.style.use('ggplot')"
   ]
  },
  {
   "cell_type": "code",
   "execution_count": 4,
   "metadata": {},
   "outputs": [],
   "source": [
    "#Set the path to the data files\n",
    "path=\"C:/Users/Elsa/OneDrive/master/03_reve/data/\"\n",
    "metadata_file=\"movies_metadata.csv\""
   ]
  },
  {
   "cell_type": "code",
   "execution_count": 5,
   "metadata": {},
   "outputs": [],
   "source": [
    "metadata=pd.read_csv(path+metadata_file,low_memory=False)\n",
    "#The reason you get this low_memory warning is because guessing dtypes for each column is very memory demanding. \n",
    "#Pandas tries to determine what dtype to set by analyzing the data in each column"
   ]
  },
  {
   "cell_type": "markdown",
   "metadata": {},
   "source": [
    "#### Analyzing what we have"
   ]
  },
  {
   "cell_type": "code",
   "execution_count": 6,
   "metadata": {
    "scrolled": true
   },
   "outputs": [
    {
     "name": "stdout",
     "output_type": "stream",
     "text": [
      "<class 'pandas.core.frame.DataFrame'>\n",
      "(45466, 24)\n",
      "Index(['adult', 'belongs_to_collection', 'budget', 'genres', 'homepage', 'id',\n",
      "       'imdb_id', 'original_language', 'original_title', 'overview',\n",
      "       'popularity', 'poster_path', 'production_companies',\n",
      "       'production_countries', 'release_date', 'revenue', 'runtime',\n",
      "       'spoken_languages', 'status', 'tagline', 'title', 'video',\n",
      "       'vote_average', 'vote_count'],\n",
      "      dtype='object')\n"
     ]
    }
   ],
   "source": [
    "print(type(metadata))\n",
    "print(metadata.shape)\n",
    "print(metadata.columns)"
   ]
  },
  {
   "cell_type": "markdown",
   "metadata": {},
   "source": [
    "We have a 45466 row DataFrame, with 24 columns or variables. At first sight, we are interested in the following columns\n",
    "- Id\n",
    "- Belongs to collection\n",
    "- Budget\n",
    "- Genres\n",
    "- Popularity\n",
    "- Production companies\n",
    "- Production countries\n",
    "- Release date\n",
    "- **Revenue**\n",
    "- Runtime\n",
    "- Title\n"
   ]
  },
  {
   "cell_type": "code",
   "execution_count": 7,
   "metadata": {},
   "outputs": [
    {
     "name": "stdout",
     "output_type": "stream",
     "text": [
      "<class 'pandas.core.frame.DataFrame'>\n",
      "RangeIndex: 45466 entries, 0 to 45465\n",
      "Data columns (total 24 columns):\n",
      "adult                    45466 non-null object\n",
      "belongs_to_collection    4494 non-null object\n",
      "budget                   45466 non-null object\n",
      "genres                   45466 non-null object\n",
      "homepage                 7782 non-null object\n",
      "id                       45466 non-null object\n",
      "imdb_id                  45449 non-null object\n",
      "original_language        45455 non-null object\n",
      "original_title           45466 non-null object\n",
      "overview                 44512 non-null object\n",
      "popularity               45461 non-null object\n",
      "poster_path              45080 non-null object\n",
      "production_companies     45463 non-null object\n",
      "production_countries     45463 non-null object\n",
      "release_date             45379 non-null object\n",
      "revenue                  45460 non-null float64\n",
      "runtime                  45203 non-null float64\n",
      "spoken_languages         45460 non-null object\n",
      "status                   45379 non-null object\n",
      "tagline                  20412 non-null object\n",
      "title                    45460 non-null object\n",
      "video                    45460 non-null object\n",
      "vote_average             45460 non-null float64\n",
      "vote_count               45460 non-null float64\n",
      "dtypes: float64(4), object(20)\n",
      "memory usage: 8.3+ MB\n"
     ]
    }
   ],
   "source": [
    "metadata.info()"
   ]
  },
  {
   "cell_type": "code",
   "execution_count": 8,
   "metadata": {},
   "outputs": [
    {
     "data": {
      "text/plain": [
       "adult                        0\n",
       "belongs_to_collection    40972\n",
       "budget                       0\n",
       "genres                       0\n",
       "homepage                 37684\n",
       "id                           0\n",
       "imdb_id                     17\n",
       "original_language           11\n",
       "original_title               0\n",
       "overview                   954\n",
       "popularity                   5\n",
       "poster_path                386\n",
       "production_companies         3\n",
       "production_countries         3\n",
       "release_date                87\n",
       "revenue                      6\n",
       "runtime                    263\n",
       "spoken_languages             6\n",
       "status                      87\n",
       "tagline                  25054\n",
       "title                        6\n",
       "video                        6\n",
       "vote_average                 6\n",
       "vote_count                   6\n",
       "dtype: int64"
      ]
     },
     "execution_count": 8,
     "metadata": {},
     "output_type": "execute_result"
    }
   ],
   "source": [
    "metadata.isnull().sum()"
   ]
  },
  {
   "cell_type": "code",
   "execution_count": 9,
   "metadata": {
    "scrolled": true
   },
   "outputs": [],
   "source": [
    "#print (metadata[pd.to_numeric(metadata['id'], errors='coerce').isnull()])"
   ]
  },
  {
   "cell_type": "markdown",
   "metadata": {},
   "source": [
    "Apparently, seems like there are no null, but let's take a deeper look at each column"
   ]
  },
  {
   "cell_type": "code",
   "execution_count": 10,
   "metadata": {
    "scrolled": true
   },
   "outputs": [
    {
     "data": {
      "text/plain": [
       "adult                     object\n",
       "belongs_to_collection     object\n",
       "budget                    object\n",
       "genres                    object\n",
       "homepage                  object\n",
       "id                        object\n",
       "imdb_id                   object\n",
       "original_language         object\n",
       "original_title            object\n",
       "overview                  object\n",
       "popularity                object\n",
       "poster_path               object\n",
       "production_companies      object\n",
       "production_countries      object\n",
       "release_date              object\n",
       "revenue                  float64\n",
       "runtime                  float64\n",
       "spoken_languages          object\n",
       "status                    object\n",
       "tagline                   object\n",
       "title                     object\n",
       "video                     object\n",
       "vote_average             float64\n",
       "vote_count               float64\n",
       "dtype: object"
      ]
     },
     "execution_count": 10,
     "metadata": {},
     "output_type": "execute_result"
    }
   ],
   "source": [
    "metadata[metadata.columns].dtypes"
   ]
  },
  {
   "cell_type": "markdown",
   "metadata": {},
   "source": [
    "- Budget should be numeric\n",
    "- Belongs_to_collection should be bool\n",
    "- Id should be numeric"
   ]
  },
  {
   "cell_type": "markdown",
   "metadata": {},
   "source": [
    "#### 0. Id"
   ]
  },
  {
   "cell_type": "markdown",
   "metadata": {},
   "source": [
    "This will be the Key to join the different dataframes analyzed in this project. As we have established before, there are no missing values for this key-column, but type is wrong because it shouldn't be object but numeric. "
   ]
  },
  {
   "cell_type": "code",
   "execution_count": 11,
   "metadata": {},
   "outputs": [],
   "source": [
    "metadata[\"id\"] =pd.to_numeric(metadata['id'], errors='coerce',downcast=\"integer\")"
   ]
  },
  {
   "cell_type": "code",
   "execution_count": 12,
   "metadata": {
    "scrolled": true
   },
   "outputs": [
    {
     "data": {
      "text/plain": [
       "dtype('float64')"
      ]
     },
     "execution_count": 12,
     "metadata": {},
     "output_type": "execute_result"
    }
   ],
   "source": [
    "metadata[\"id\"].dtype"
   ]
  },
  {
   "cell_type": "markdown",
   "metadata": {},
   "source": [
    "#### 1. Revenue"
   ]
  },
  {
   "cell_type": "code",
   "execution_count": 13,
   "metadata": {
    "scrolled": false
   },
   "outputs": [
    {
     "data": {
      "text/plain": [
       "count    4.546000e+04\n",
       "mean     1.120935e+07\n",
       "std      6.433225e+07\n",
       "min      0.000000e+00\n",
       "25%      0.000000e+00\n",
       "50%      0.000000e+00\n",
       "75%      0.000000e+00\n",
       "max      2.787965e+09\n",
       "Name: revenue, dtype: float64"
      ]
     },
     "execution_count": 13,
     "metadata": {},
     "output_type": "execute_result"
    }
   ],
   "source": [
    "metadata[\"revenue\"].describe()"
   ]
  },
  {
   "cell_type": "code",
   "execution_count": 14,
   "metadata": {},
   "outputs": [
    {
     "data": {
      "text/plain": [
       "6"
      ]
     },
     "execution_count": 14,
     "metadata": {},
     "output_type": "execute_result"
    }
   ],
   "source": [
    "metadata[\"revenue\"].isnull().sum()"
   ]
  },
  {
   "cell_type": "markdown",
   "metadata": {},
   "source": [
    "The whole ponint to our model is being able to predict a movie revenue, so, this column is essential for this project. That's why the first thing we should do is find out how many movies do we have that actually have a registered value for the revenue. If this value is null, we will have to drop those rows.\n",
    "\n",
    "As we found out in the previous cell, and also checked at metadata's stats, there are 6 null values in Revenue. Furthermore, we ought to check if we have values worth $0 revenue, because they'd be like null for us. "
   ]
  },
  {
   "cell_type": "code",
   "execution_count": 15,
   "metadata": {},
   "outputs": [
    {
     "data": {
      "text/plain": [
       "(7408, 24)"
      ]
     },
     "execution_count": 15,
     "metadata": {},
     "output_type": "execute_result"
    }
   ],
   "source": [
    "metadata[metadata[\"revenue\"]>0].shape"
   ]
  },
  {
   "cell_type": "markdown",
   "metadata": {},
   "source": [
    "Out of 45466 movies, there are only 7408 rows with revenue metadata. We are going to create a new dataframe containing only the movies with revenue information, since it's essencial for our model. From now on, we would be using this new dataframe named \"reves_metadata\"."
   ]
  },
  {
   "cell_type": "code",
   "execution_count": 16,
   "metadata": {},
   "outputs": [],
   "source": [
    "reves_metadata=metadata[metadata[\"revenue\"]>0]"
   ]
  },
  {
   "cell_type": "code",
   "execution_count": 17,
   "metadata": {
    "scrolled": true
   },
   "outputs": [
    {
     "name": "stdout",
     "output_type": "stream",
     "text": [
      "(7408, 24)\n",
      "Index(['adult', 'belongs_to_collection', 'budget', 'genres', 'homepage', 'id',\n",
      "       'imdb_id', 'original_language', 'original_title', 'overview',\n",
      "       'popularity', 'poster_path', 'production_companies',\n",
      "       'production_countries', 'release_date', 'revenue', 'runtime',\n",
      "       'spoken_languages', 'status', 'tagline', 'title', 'video',\n",
      "       'vote_average', 'vote_count'],\n",
      "      dtype='object')\n"
     ]
    }
   ],
   "source": [
    "print(reves_metadata.shape)\n",
    "print(reves_metadata.columns)"
   ]
  },
  {
   "cell_type": "markdown",
   "metadata": {},
   "source": [
    "The new file has 7408 rows with the same 24 columns"
   ]
  },
  {
   "cell_type": "code",
   "execution_count": 18,
   "metadata": {},
   "outputs": [
    {
     "name": "stdout",
     "output_type": "stream",
     "text": [
      "count    7.408000e+03\n",
      "mean     6.878739e+07\n",
      "std      1.464203e+08\n",
      "min      1.000000e+00\n",
      "25%      2.400000e+06\n",
      "50%      1.682272e+07\n",
      "75%      6.722707e+07\n",
      "max      2.787965e+09\n",
      "Name: revenue, dtype: float64\n",
      "-----\n",
      "There are 0 null values in revenue column in this new dataframe\n"
     ]
    }
   ],
   "source": [
    "print(reves_metadata[\"revenue\"].describe())\n",
    "print(\"-----\")\n",
    "print(\"There are %d null values in revenue column in this new dataframe\" % (reves_metadata[\"revenue\"].isnull().sum()))"
   ]
  },
  {
   "cell_type": "markdown",
   "metadata": {},
   "source": [
    "Now let's check some random values. They seem like reasonable numbers for a movie revenue, don't they?"
   ]
  },
  {
   "cell_type": "code",
   "execution_count": 19,
   "metadata": {
    "scrolled": true
   },
   "outputs": [
    {
     "data": {
      "text/plain": [
       "20533      1347747.0\n",
       "10420        92076.0\n",
       "24089     19054534.0\n",
       "11927    938212738.0\n",
       "28527     45710059.0\n",
       "4614      59217789.0\n",
       "1852     412800000.0\n",
       "215       23450000.0\n",
       "3495     119754278.0\n",
       "2356      41382841.0\n",
       "Name: revenue, dtype: float64"
      ]
     },
     "execution_count": 19,
     "metadata": {},
     "output_type": "execute_result"
    }
   ],
   "source": [
    "reves_metadata[\"revenue\"].sample(10)"
   ]
  },
  {
   "cell_type": "markdown",
   "metadata": {},
   "source": [
    "#### 2. Belongs to Collection"
   ]
  },
  {
   "cell_type": "code",
   "execution_count": 138,
   "metadata": {
    "scrolled": true
   },
   "outputs": [
    {
     "data": {
      "text/plain": [
       "0     {'id': 10194, 'name': 'Toy Story Collection', ...\n",
       "1                                                   NaN\n",
       "3                                                   NaN\n",
       "4     {'id': 96871, 'name': 'Father of the Bride Col...\n",
       "5                                                   NaN\n",
       "8                                                   NaN\n",
       "9     {'id': 645, 'name': 'James Bond Collection', '...\n",
       "10                                                  NaN\n",
       "12    {'id': 117693, 'name': 'Balto Collection', 'po...\n",
       "13                                                  NaN\n",
       "Name: belongs_to_collection, dtype: object"
      ]
     },
     "execution_count": 138,
     "metadata": {},
     "output_type": "execute_result"
    }
   ],
   "source": [
    "reves_metadata[\"belongs_to_collection\"].head(10)"
   ]
  },
  {
   "cell_type": "code",
   "execution_count": 139,
   "metadata": {
    "scrolled": true
   },
   "outputs": [
    {
     "name": "stdout",
     "output_type": "stream",
     "text": [
      "{'id': 10194, 'name': 'Toy Story Collection', 'poster_path': '/7G9915LfUQ2lVfwMEEhDsn3kT4B.jpg', 'backdrop_path': '/9FBwqcd9IRruEDUrTdcaafOMKUq.jpg'}\n",
      "Type for dicts elements is <class 'str'>\n"
     ]
    }
   ],
   "source": [
    "print(reves_metadata[\"belongs_to_collection\"][0])\n",
    "print (\"Type for dicts elements is %s\"%(type(reves_metadata[\"belongs_to_collection\"][0])))"
   ]
  },
  {
   "cell_type": "code",
   "execution_count": 140,
   "metadata": {},
   "outputs": [
    {
     "name": "stdout",
     "output_type": "stream",
     "text": [
      "nan\n",
      "Type for NaN elements is <class 'float'>\n"
     ]
    }
   ],
   "source": [
    "print(reves_metadata[\"belongs_to_collection\"][1])\n",
    "print (\"Type for NaN elements is %s\"%(type(reves_metadata[\"belongs_to_collection\"][1])))"
   ]
  },
  {
   "cell_type": "markdown",
   "metadata": {},
   "source": [
    "It seems that this column contains 2 different types of values: \n",
    "\n",
    "- If, indeed, the movie belongs to a series or a collection, the row contains a dict with the Id and the Name of that collection. \n",
    "- Otherwise, if the movie does not belong to a collection, the value is NaN. \n",
    "\n",
    "For our model, the valuable information is to know whether a movie belongs to a collection or not, because our assumption is that if it does, the expected revenue could be higher. \n",
    "\n",
    "Values different from NaN mean that they actually belong to a collection, so this could be simplified if translated into a dummie column where 0 means \"Doesn't belong to collection\" and 1 \"Does belong to a collection\". \n",
    "\n",
    "We will also create a  new column named \"collection_info\" with the id of the collection, in order to use it in the future if necessary. "
   ]
  },
  {
   "cell_type": "code",
   "execution_count": 141,
   "metadata": {
    "scrolled": true
   },
   "outputs": [
    {
     "name": "stderr",
     "output_type": "stream",
     "text": [
      "C:\\Users\\Elsa\\Anaconda3\\lib\\site-packages\\ipykernel_launcher.py:1: SettingWithCopyWarning: \n",
      "A value is trying to be set on a copy of a slice from a DataFrame.\n",
      "Try using .loc[row_indexer,col_indexer] = value instead\n",
      "\n",
      "See the caveats in the documentation: http://pandas.pydata.org/pandas-docs/stable/indexing.html#indexing-view-versus-copy\n",
      "  \"\"\"Entry point for launching an IPython kernel.\n"
     ]
    }
   ],
   "source": [
    "reves_metadata[\"collection_info\"]=reves_metadata[\"belongs_to_collection\"].copy()"
   ]
  },
  {
   "cell_type": "code",
   "execution_count": 142,
   "metadata": {},
   "outputs": [],
   "source": [
    "belongs_to_collection=[]\n",
    "for element in reves_metadata[\"belongs_to_collection\"]:\n",
    "    if type(element)==str:\n",
    "        belongs_to_collection.append(1)\n",
    "    else:\n",
    "        belongs_to_collection.append(0)"
   ]
  },
  {
   "cell_type": "code",
   "execution_count": 143,
   "metadata": {
    "scrolled": true
   },
   "outputs": [
    {
     "name": "stderr",
     "output_type": "stream",
     "text": [
      "C:\\Users\\Elsa\\Anaconda3\\lib\\site-packages\\ipykernel_launcher.py:1: SettingWithCopyWarning: \n",
      "A value is trying to be set on a copy of a slice from a DataFrame.\n",
      "Try using .loc[row_indexer,col_indexer] = value instead\n",
      "\n",
      "See the caveats in the documentation: http://pandas.pydata.org/pandas-docs/stable/indexing.html#indexing-view-versus-copy\n",
      "  \"\"\"Entry point for launching an IPython kernel.\n"
     ]
    }
   ],
   "source": [
    "reves_metadata[\"belongs_to_collection\"]=belongs_to_collection"
   ]
  },
  {
   "cell_type": "code",
   "execution_count": 144,
   "metadata": {
    "scrolled": false
   },
   "outputs": [
    {
     "data": {
      "text/plain": [
       "0    1\n",
       "1    0\n",
       "3    0\n",
       "4    1\n",
       "5    0\n",
       "Name: belongs_to_collection, dtype: int64"
      ]
     },
     "execution_count": 144,
     "metadata": {},
     "output_type": "execute_result"
    }
   ],
   "source": [
    "reves_metadata[\"belongs_to_collection\"].head()"
   ]
  },
  {
   "cell_type": "code",
   "execution_count": 148,
   "metadata": {},
   "outputs": [
    {
     "name": "stdout",
     "output_type": "stream",
     "text": [
      "There are 1483 movies that DO belong to a collection\n",
      "There are 5925 movies that DON'T belong to any collection\n"
     ]
    }
   ],
   "source": [
    "print(\"There are %d movies that DO belong to a collection\"%(reves_metadata[\"belongs_to_collection\"]==1).sum())\n",
    "print(\"There are %d movies that DON'T belong to any collection\"%(reves_metadata[\"belongs_to_collection\"]==0).sum())"
   ]
  },
  {
   "cell_type": "markdown",
   "metadata": {},
   "source": [
    "#### 3. Budget"
   ]
  },
  {
   "cell_type": "markdown",
   "metadata": {},
   "source": [
    "First, basic data exploring"
   ]
  },
  {
   "cell_type": "code",
   "execution_count": 124,
   "metadata": {},
   "outputs": [
    {
     "data": {
      "text/plain": [
       "0    30000000\n",
       "1    65000000\n",
       "3    16000000\n",
       "4           0\n",
       "5    60000000\n",
       "Name: budget, dtype: object"
      ]
     },
     "execution_count": 124,
     "metadata": {},
     "output_type": "execute_result"
    }
   ],
   "source": [
    "reves_metadata[\"budget\"].head()"
   ]
  },
  {
   "cell_type": "code",
   "execution_count": 125,
   "metadata": {
    "scrolled": true
   },
   "outputs": [
    {
     "data": {
      "text/plain": [
       "count     7408\n",
       "unique     705\n",
       "top          0\n",
       "freq      2027\n",
       "Name: budget, dtype: object"
      ]
     },
     "execution_count": 125,
     "metadata": {},
     "output_type": "execute_result"
    }
   ],
   "source": [
    "reves_metadata[\"budget\"].describe()"
   ]
  },
  {
   "cell_type": "markdown",
   "metadata": {},
   "source": [
    "Surprise! Seems like values are not numeric! We should fix that."
   ]
  },
  {
   "cell_type": "code",
   "execution_count": 22,
   "metadata": {
    "scrolled": true
   },
   "outputs": [
    {
     "name": "stderr",
     "output_type": "stream",
     "text": [
      "C:\\Users\\Elsa\\Anaconda3\\lib\\site-packages\\ipykernel_launcher.py:1: SettingWithCopyWarning: \n",
      "A value is trying to be set on a copy of a slice from a DataFrame.\n",
      "Try using .loc[row_indexer,col_indexer] = value instead\n",
      "\n",
      "See the caveats in the documentation: http://pandas.pydata.org/pandas-docs/stable/indexing.html#indexing-view-versus-copy\n",
      "  \"\"\"Entry point for launching an IPython kernel.\n",
      "C:\\Users\\Elsa\\Anaconda3\\lib\\site-packages\\ipykernel_launcher.py:2: SettingWithCopyWarning: \n",
      "A value is trying to be set on a copy of a slice from a DataFrame.\n",
      "Try using .loc[row_indexer,col_indexer] = value instead\n",
      "\n",
      "See the caveats in the documentation: http://pandas.pydata.org/pandas-docs/stable/indexing.html#indexing-view-versus-copy\n",
      "  \n"
     ]
    }
   ],
   "source": [
    "reves_metadata[\"budget\"]=pd.to_numeric(reves_metadata[\"budget\"], errors=\"coerce\")\n",
    "reves_metadata[\"budget\"]=reves_metadata[\"budget\"].replace(0,np.nan)"
   ]
  },
  {
   "cell_type": "code",
   "execution_count": 23,
   "metadata": {},
   "outputs": [
    {
     "data": {
      "text/plain": [
       "dtype('float64')"
      ]
     },
     "execution_count": 23,
     "metadata": {},
     "output_type": "execute_result"
    }
   ],
   "source": [
    "reves_metadata[\"budget\"].dtype"
   ]
  },
  {
   "cell_type": "markdown",
   "metadata": {},
   "source": [
    "Now we have to analyze, out of the 7408, how many movies contain budget information in order to determine if we can use this variable in our model. As it happened with \"Revenue\" seems like we have not nulls, but we have false positives, since a 0 budget is null for us and a perfectly \"not null\" value for Python. This column should be numeric and $0 budget should be Nan."
   ]
  },
  {
   "cell_type": "code",
   "execution_count": 24,
   "metadata": {},
   "outputs": [
    {
     "data": {
      "text/plain": [
       "5381"
      ]
     },
     "execution_count": 24,
     "metadata": {},
     "output_type": "execute_result"
    }
   ],
   "source": [
    "reves_metadata[reves_metadata[\"budget\"]>0][\"budget\"].count()"
   ]
  },
  {
   "cell_type": "code",
   "execution_count": 25,
   "metadata": {},
   "outputs": [
    {
     "data": {
      "text/plain": [
       "1664      70000000.0\n",
       "2499       3000000.0\n",
       "38041            NaN\n",
       "4525      15000000.0\n",
       "11123    110000000.0\n",
       "Name: budget, dtype: float64"
      ]
     },
     "execution_count": 25,
     "metadata": {},
     "output_type": "execute_result"
    }
   ],
   "source": [
    "reves_metadata[\"budget\"].sample(5)"
   ]
  },
  {
   "cell_type": "markdown",
   "metadata": {
    "collapsed": true
   },
   "source": [
    "Out of 7404 movies, 5381 have a valid value for budget. Is that enough data for our model?\n",
    "Also, taking a deeper look at the values, seems that most of them are exact and round amounts, and they don't seem very accurate. Should we use this data in our model?"
   ]
  },
  {
   "cell_type": "markdown",
   "metadata": {},
   "source": [
    "#### 4. Genres"
   ]
  },
  {
   "cell_type": "code",
   "execution_count": 150,
   "metadata": {
    "scrolled": true
   },
   "outputs": [
    {
     "data": {
      "text/plain": [
       "332      [{'id': 10749, 'name': 'Romance'}, {'id': 18, ...\n",
       "20546    [{'id': 27, 'name': 'Horror'}, {'id': 53, 'nam...\n",
       "2901                        [{'id': 27, 'name': 'Horror'}]\n",
       "11229    [{'id': 9648, 'name': 'Mystery'}, {'id': 53, '...\n",
       "15242    [{'id': 28, 'name': 'Action'}, {'id': 35, 'nam...\n",
       "Name: genres, dtype: object"
      ]
     },
     "execution_count": 150,
     "metadata": {},
     "output_type": "execute_result"
    }
   ],
   "source": [
    "reves_metadata[\"genres\"].sample(5)"
   ]
  },
  {
   "cell_type": "code",
   "execution_count": 151,
   "metadata": {},
   "outputs": [
    {
     "name": "stdout",
     "output_type": "stream",
     "text": [
      "[{'id': 16, 'name': 'Animation'}, {'id': 35, 'name': 'Comedy'}, {'id': 10751, 'name': 'Family'}]\n",
      "[{'id': 12, 'name': 'Adventure'}, {'id': 14, 'name': 'Fantasy'}, {'id': 10751, 'name': 'Family'}]\n",
      "[{'id': 10749, 'name': 'Romance'}, {'id': 16, 'name': 'Animation'}, {'id': 10751, 'name': 'Family'}, {'id': 35, 'name': 'Comedy'}, {'id': 12, 'name': 'Adventure'}]\n"
     ]
    }
   ],
   "source": [
    "print(reves_metadata[\"genres\"][0])\n",
    "print(reves_metadata[\"genres\"][1])\n",
    "print(reves_metadata[\"genres\"][235])"
   ]
  },
  {
   "cell_type": "markdown",
   "metadata": {},
   "source": [
    "Seems that in this column, we can find a list of dicts that indicate the different movie genres associated to each movie. As we can see, there are many different generes associated to each movie, but not always the same ammount of them. First of all, we should find out how many different genres we've got, in order to decide what to do and how to use this information. \n",
    "\n",
    "Basic questions we should ask ourselves about the column \"Genres\":\n",
    "- Should we create dummie variables with all the genres? \n",
    "- What's the maxium numbers of genres per movie we want to use in our model \n",
    "- ...\n",
    "- Maybe we shoul just keep the id_genre info, and save the dict of (index,genre) outside the main dataframe, just for querys.\n"
   ]
  },
  {
   "cell_type": "markdown",
   "metadata": {},
   "source": [
    "First, let's find out how many different genres we have got, and what's the maximum number of genres any of the movies has"
   ]
  },
  {
   "cell_type": "code",
   "execution_count": 152,
   "metadata": {},
   "outputs": [],
   "source": [
    "#We will create a function as we will use it later with some other columns\n",
    "def to_list (column):\n",
    "    from ast import literal_eval\n",
    "    new_column= column.fillna('[]').apply(literal_eval).apply(lambda x: [i['name'] for i in x] if isinstance(x, list) else [])\n",
    "    return new_column"
   ]
  },
  {
   "cell_type": "code",
   "execution_count": 153,
   "metadata": {},
   "outputs": [
    {
     "name": "stderr",
     "output_type": "stream",
     "text": [
      "C:\\Users\\Elsa\\Anaconda3\\lib\\site-packages\\ipykernel_launcher.py:1: SettingWithCopyWarning: \n",
      "A value is trying to be set on a copy of a slice from a DataFrame.\n",
      "Try using .loc[row_indexer,col_indexer] = value instead\n",
      "\n",
      "See the caveats in the documentation: http://pandas.pydata.org/pandas-docs/stable/indexing.html#indexing-view-versus-copy\n",
      "  \"\"\"Entry point for launching an IPython kernel.\n"
     ]
    }
   ],
   "source": [
    "reves_metadata[\"genres\"]=to_list(reves_metadata[\"genres\"])"
   ]
  },
  {
   "cell_type": "code",
   "execution_count": 154,
   "metadata": {
    "scrolled": true
   },
   "outputs": [
    {
     "data": {
      "text/plain": [
       "0          [Animation, Comedy, Family]\n",
       "1         [Adventure, Fantasy, Family]\n",
       "3             [Comedy, Drama, Romance]\n",
       "4                             [Comedy]\n",
       "5     [Action, Crime, Drama, Thriller]\n",
       "8        [Action, Adventure, Thriller]\n",
       "9        [Adventure, Action, Thriller]\n",
       "10            [Comedy, Drama, Romance]\n",
       "12      [Family, Animation, Adventure]\n",
       "13                    [History, Drama]\n",
       "Name: genres, dtype: object"
      ]
     },
     "execution_count": 154,
     "metadata": {},
     "output_type": "execute_result"
    }
   ],
   "source": [
    "reves_metadata[\"genres\"].head(10)"
   ]
  },
  {
   "cell_type": "code",
   "execution_count": 155,
   "metadata": {},
   "outputs": [
    {
     "name": "stdout",
     "output_type": "stream",
     "text": [
      "There are a max of 8 genres per movie\n"
     ]
    }
   ],
   "source": [
    "genres_lenghts=[]\n",
    "for line in reves_metadata[\"genres\"]:\n",
    "    lenght=len(line)\n",
    "    genres_lenghts.append(lenght)\n",
    "print(\"There are a max of %d genres per movie\"%(max(genres_lenghts)))"
   ]
  },
  {
   "cell_type": "markdown",
   "metadata": {},
   "source": [
    "How many genres per movie are we using for out model?"
   ]
  },
  {
   "cell_type": "code",
   "execution_count": 156,
   "metadata": {
    "scrolled": true
   },
   "outputs": [
    {
     "data": {
      "text/plain": [
       "2.4966252699784017"
      ]
     },
     "execution_count": 156,
     "metadata": {},
     "output_type": "execute_result"
    }
   ],
   "source": [
    "np.mean(genres_lenghts)"
   ]
  },
  {
   "cell_type": "markdown",
   "metadata": {},
   "source": [
    "Maybe we should set up the maximux on 3. It's a reasonable number of categories for a variable. In case we do that, we would be assuming that the first 3 genres mentioned in this column would be the most reliable, and the ones that best describe the movie's storyline."
   ]
  },
  {
   "cell_type": "markdown",
   "metadata": {},
   "source": [
    "Let's see how many genres we've got just in case we want to create dummie columns for each of them.  "
   ]
  },
  {
   "cell_type": "code",
   "execution_count": 157,
   "metadata": {},
   "outputs": [],
   "source": [
    "#We will create a function as we are going to do the same process with Production Companies and Production Countries.\n",
    "\n",
    "def get_uniques(sequence):\n",
    "    #from ast import literal_eval\n",
    "    #sequence=sequence.fillna('[]').apply(literal_eval).apply(lambda x: [i['name'] for i in x] if isinstance(x, list) else [])\n",
    "    counter=[]\n",
    "    for line in sequence:\n",
    "        counter.append(line)\n",
    "        flat_list=[item for sublist in sequence for item in sublist]\n",
    "        for sublist in sequence:\n",
    "            for item in sublist:\n",
    "                flat_list.append(item)\n",
    "        counter=list(set(flat_list))\n",
    "        \n",
    "        return counter"
   ]
  },
  {
   "cell_type": "code",
   "execution_count": 158,
   "metadata": {
    "scrolled": true
   },
   "outputs": [
    {
     "name": "stdout",
     "output_type": "stream",
     "text": [
      "There are 20 unique genres\n"
     ]
    },
    {
     "data": {
      "text/plain": [
       "['Romance',\n",
       " 'TV Movie',\n",
       " 'Adventure',\n",
       " 'Music',\n",
       " 'Science Fiction',\n",
       " 'Horror',\n",
       " 'Thriller',\n",
       " 'Documentary',\n",
       " 'Action',\n",
       " 'Family',\n",
       " 'Western',\n",
       " 'Comedy',\n",
       " 'Drama',\n",
       " 'Foreign',\n",
       " 'Animation',\n",
       " 'Mystery',\n",
       " 'Crime',\n",
       " 'Fantasy',\n",
       " 'War',\n",
       " 'History']"
      ]
     },
     "execution_count": 158,
     "metadata": {},
     "output_type": "execute_result"
    }
   ],
   "source": [
    "genres=get_uniques(reves_metadata[\"genres\"])\n",
    "print(\"There are %d unique genres\"%(len(genres)))\n",
    "genres"
   ]
  },
  {
   "cell_type": "code",
   "execution_count": null,
   "metadata": {
    "collapsed": true
   },
   "outputs": [],
   "source": [
    "#we should do a barplot with the most common genres."
   ]
  },
  {
   "cell_type": "code",
   "execution_count": 161,
   "metadata": {
    "collapsed": true
   },
   "outputs": [
    {
     "data": {
      "text/plain": [
       "0                              [Animation, Comedy, Family]\n",
       "1                             [Adventure, Fantasy, Family]\n",
       "3                                 [Comedy, Drama, Romance]\n",
       "4                                                 [Comedy]\n",
       "5                         [Action, Crime, Drama, Thriller]\n",
       "8                            [Action, Adventure, Thriller]\n",
       "9                            [Adventure, Action, Thriller]\n",
       "10                                [Comedy, Drama, Romance]\n",
       "12                          [Family, Animation, Adventure]\n",
       "13                                        [History, Drama]\n",
       "14                                     [Action, Adventure]\n",
       "15                                          [Drama, Crime]\n",
       "16                                        [Drama, Romance]\n",
       "17                                         [Crime, Comedy]\n",
       "18                              [Crime, Comedy, Adventure]\n",
       "19                                 [Action, Comedy, Crime]\n",
       "20                               [Comedy, Thriller, Crime]\n",
       "22                    [Action, Adventure, Crime, Thriller]\n",
       "24                                        [Drama, Romance]\n",
       "26                                 [Comedy, Drama, Family]\n",
       "28                   [Fantasy, Science Fiction, Adventure]\n",
       "30                                          [Drama, Crime]\n",
       "31                    [Science Fiction, Thriller, Mystery]\n",
       "33                        [Fantasy, Drama, Comedy, Family]\n",
       "35                                                 [Drama]\n",
       "39                                                 [Drama]\n",
       "43                                       [Action, Fantasy]\n",
       "44                      [Fantasy, Drama, Comedy, Thriller]\n",
       "45                                        [Drama, Romance]\n",
       "46                              [Crime, Mystery, Thriller]\n",
       "                               ...                        \n",
       "44791                              [Action, Drama, Comedy]\n",
       "44812                               [Adventure, Animation]\n",
       "44818                                        [Documentary]\n",
       "44821      [Adventure, Fantasy, Animation, Action, Family]\n",
       "44826    [Adventure, Fantasy, Animation, Science Fictio...\n",
       "44842       [Action, Science Fiction, Thriller, Adventure]\n",
       "44844                                             [Comedy]\n",
       "44848                                      [Comedy, Drama]\n",
       "44850                                             [Comedy]\n",
       "44856                                    [Comedy, Romance]\n",
       "44888                                              [Drama]\n",
       "44904                             [Drama, Thriller, Crime]\n",
       "44947                                       [Crime, Drama]\n",
       "44956                                    [Drama, Thriller]\n",
       "44970                                    [Comedy, Romance]\n",
       "45014    [Action, Western, Science Fiction, Fantasy, Ho...\n",
       "45063                                            [Romance]\n",
       "45093                                              [Drama]\n",
       "45139                          [Comedy, Family, Animation]\n",
       "45167                   [Action, Crime, Mystery, Thriller]\n",
       "45238               [Adventure, Animation, Comedy, Family]\n",
       "45248                                             [Action]\n",
       "45250                              [Action, Comedy, Drama]\n",
       "45265                                      [Comedy, Drama]\n",
       "45381                          [Horror, Thriller, Mystery]\n",
       "45399                                      [Crime, Comedy]\n",
       "45401                            [Drama, History, Mystery]\n",
       "45409                                      [Comedy, Drama]\n",
       "45412                                     [Romance, Drama]\n",
       "45422                     [Action, Comedy, Crime, Foreign]\n",
       "Name: genres, Length: 7408, dtype: object"
      ]
     },
     "execution_count": 161,
     "metadata": {},
     "output_type": "execute_result"
    }
   ],
   "source": [
    "reves_metadata[\"genres\"]"
   ]
  },
  {
   "cell_type": "code",
   "execution_count": 166,
   "metadata": {
    "scrolled": true
   },
   "outputs": [
    {
     "data": {
      "text/plain": [
       "[('Drama', 3683),\n",
       " ('Comedy', 2607),\n",
       " ('Thriller', 1872),\n",
       " ('Action', 1736),\n",
       " ('Romance', 1437),\n",
       " ('Adventure', 1120),\n",
       " ('Crime', 1086),\n",
       " ('Science Fiction', 747),\n",
       " ('Horror', 735),\n",
       " ('Family', 678),\n",
       " ('Fantasy', 630),\n",
       " ('Mystery', 550),\n",
       " ('Animation', 385),\n",
       " ('History', 295),\n",
       " ('Music', 267),\n",
       " ('War', 244),\n",
       " ('Documentary', 221),\n",
       " ('Western', 117),\n",
       " ('Foreign', 84),\n",
       " ('TV Movie', 1)]"
      ]
     },
     "execution_count": 166,
     "metadata": {},
     "output_type": "execute_result"
    }
   ],
   "source": [
    "genres_wc=[]\n",
    "for element in reves_metadata[\"genres\"]:\n",
    "        for genre in element:\n",
    "            genres_wc.append(genre)\n",
    "genres_wc=Counter(genres_wc).most_common(20)\n",
    "genres_wc"
   ]
  },
  {
   "cell_type": "code",
   "execution_count": 206,
   "metadata": {},
   "outputs": [
    {
     "data": {
      "image/png": "[encoded data removed]",
      "text/plain": [
       "<Figure size 640x480 with 1 Axes>"
      ]
     },
     "metadata": {},
     "output_type": "display_data"
    }
   ],
   "source": [
    "fig, ax = plt.subplots()\n",
    "ax.barh(x, y, color='blue')\n",
    "ax.invert_yaxis()\n",
    "ax.set_title('Movies per genre')\n",
    "\n",
    "plt.show()"
   ]
  },
  {
   "cell_type": "markdown",
   "metadata": {},
   "source": [
    "#### 5. Popularity"
   ]
  },
  {
   "cell_type": "code",
   "execution_count": null,
   "metadata": {
    "collapsed": true,
    "scrolled": true
   },
   "outputs": [],
   "source": [
    "reves_metadata[\"popularity\"].describe()"
   ]
  },
  {
   "cell_type": "code",
   "execution_count": null,
   "metadata": {
    "collapsed": true
   },
   "outputs": [],
   "source": [
    "reves_metadata[\"popularity\"].sample(5)"
   ]
  },
  {
   "cell_type": "markdown",
   "metadata": {},
   "source": [
    "#### 6. Production Companies"
   ]
  },
  {
   "cell_type": "code",
   "execution_count": 34,
   "metadata": {
    "scrolled": true
   },
   "outputs": [
    {
     "data": {
      "text/plain": [
       "0       [{'name': 'Pixar Animation Studios', 'id': 3}]\n",
       "1    [{'name': 'TriStar Pictures', 'id': 559}, {'na...\n",
       "3    [{'name': 'Twentieth Century Fox Film Corporat...\n",
       "4    [{'name': 'Sandollar Productions', 'id': 5842}...\n",
       "5    [{'name': 'Regency Enterprises', 'id': 508}, {...\n",
       "Name: production_companies, dtype: object"
      ]
     },
     "execution_count": 34,
     "metadata": {},
     "output_type": "execute_result"
    }
   ],
   "source": [
    "reves_metadata[\"production_companies\"].head(5)"
   ]
  },
  {
   "cell_type": "markdown",
   "metadata": {},
   "source": [
    "Same as it happened with genres. Contains a list of dicts."
   ]
  },
  {
   "cell_type": "code",
   "execution_count": 35,
   "metadata": {},
   "outputs": [
    {
     "name": "stderr",
     "output_type": "stream",
     "text": [
      "C:\\Users\\Elsa\\Anaconda3\\lib\\site-packages\\ipykernel_launcher.py:1: SettingWithCopyWarning: \n",
      "A value is trying to be set on a copy of a slice from a DataFrame.\n",
      "Try using .loc[row_indexer,col_indexer] = value instead\n",
      "\n",
      "See the caveats in the documentation: http://pandas.pydata.org/pandas-docs/stable/indexing.html#indexing-view-versus-copy\n",
      "  \"\"\"Entry point for launching an IPython kernel.\n"
     ]
    }
   ],
   "source": [
    "reves_metadata[\"production_companies\"]=to_list(reves_metadata[\"production_companies\"])"
   ]
  },
  {
   "cell_type": "code",
   "execution_count": 36,
   "metadata": {},
   "outputs": [
    {
     "data": {
      "text/plain": [
       "0                            [Pixar Animation Studios]\n",
       "1    [TriStar Pictures, Teitler Film, Interscope Co...\n",
       "3             [Twentieth Century Fox Film Corporation]\n",
       "4         [Sandollar Productions, Touchstone Pictures]\n",
       "5    [Regency Enterprises, Forward Pass, Warner Bros.]\n",
       "Name: production_companies, dtype: object"
      ]
     },
     "execution_count": 36,
     "metadata": {},
     "output_type": "execute_result"
    }
   ],
   "source": [
    "reves_metadata[\"production_companies\"].head(5)"
   ]
  },
  {
   "cell_type": "code",
   "execution_count": 37,
   "metadata": {},
   "outputs": [
    {
     "name": "stdout",
     "output_type": "stream",
     "text": [
      "There are 7091 unique production companies\n"
     ]
    },
    {
     "data": {
      "text/plain": [
       "['Freedom Media',\n",
       " 'Prospero Pictures',\n",
       " 'Everything Is Everything',\n",
       " 'Schiwago Film',\n",
       " 'Pervoe Kinopartnerstvo',\n",
       " 'Fuji Television Network',\n",
       " 'Matt Tolmach Productions',\n",
       " 'See Saw Films',\n",
       " 'Religiosa Primitiva',\n",
       " 'Northern Lights Entertainment',\n",
       " 'Principato-Young Entertainment',\n",
       " 'micro_scope',\n",
       " 'Liberty Pictures',\n",
       " 'Cabin Pictures',\n",
       " 'Bangkok Dangerous',\n",
       " 'Georgetown Productions, Inc.',\n",
       " 'Newman/Tooley Films',\n",
       " 'Element Pictures',\n",
       " 'NASA Entertainment',\n",
       " 'Chenault Productions',\n",
       " 'ABC Pictures',\n",
       " 'Horizon Pictures',\n",
       " 'Инвада фильм',\n",
       " 'Hari Om Entertainment Co.',\n",
       " 'Constellation Productions',\n",
       " 'Eros Entertainment',\n",
       " 'Ministère du Développement Durable et de la Mer',\n",
       " 'Légende Entreprises',\n",
       " 'Andamar Entertainment',\n",
       " 'Fonds National de Soutien à la Production Audiovisuelle du Luxembourg',\n",
       " 'WV Films III',\n",
       " 'Prospect Park',\n",
       " 'Leverage Communications',\n",
       " 'Tremendum Pictures',\n",
       " 'Minotaur Film Partnership No. 3',\n",
       " 'Les Films Manuel Munz',\n",
       " 'Cubicle Inc.',\n",
       " 'Tatira-Hiller Productions',\n",
       " 'LStar Capital',\n",
       " 'Ambience Entertainment',\n",
       " 'Prospekt',\n",
       " 'Greencard Pictures',\n",
       " 'MF Pictures',\n",
       " 'Pointe Studios',\n",
       " 'Merced Media Partners',\n",
       " 'Seine Pictures',\n",
       " 'Gilla Company',\n",
       " 'Notting Hill Pictures',\n",
       " 'City Lights Pictures',\n",
       " 'Young Hannibal Productions',\n",
       " 'Caliber Media Company',\n",
       " 'Cannon Productions',\n",
       " 'ShivHans Pictures',\n",
       " 'Aspen Productions (I)',\n",
       " 'Conseil Régional de Haute Normandie',\n",
       " 'South Street Films',\n",
       " 'Catfish Productions',\n",
       " 'Big Stone Pictures',\n",
       " 'Les Films Du Fleuve',\n",
       " 'Funny Balloons',\n",
       " 'Latina Pictures',\n",
       " 'Pacific Northwest Pictures',\n",
       " 'Translux',\n",
       " 'Amigos Creations',\n",
       " 'New Deal Productions',\n",
       " 'Star Cinema Productions',\n",
       " 'Spondoolie Productions',\n",
       " 'Deux Chevaux Films',\n",
       " 'Cine Camera',\n",
       " 'Hoody Boy Productions',\n",
       " 'Ion Pictures',\n",
       " 'Christmas Tree Films',\n",
       " 'Mott Street Pictures',\n",
       " 'AE Electra Productions',\n",
       " 'Malpaso Productions',\n",
       " 'Midlife Crisis Productions',\n",
       " 'Bill Kenwright Films',\n",
       " 'Samaha Productions',\n",
       " 'CAMERON MACKINTOSH',\n",
       " 'Cohen Media Group',\n",
       " 'Runway Pictures Inc',\n",
       " 'Beijing Silver Moon Productions',\n",
       " 'Vrijzinnig Protestantse Radio Omroep (VPRO)',\n",
       " 'Maybe Movies',\n",
       " 'Blue Screen Productions',\n",
       " 'PalmStar Media',\n",
       " 'Sogecine',\n",
       " 'Stage III Productions',\n",
       " 'Hyde Park Films',\n",
       " 'Baumgarten Merims Productions',\n",
       " 'Maeil Broadcasting Network',\n",
       " 'Start Motion Pictures',\n",
       " 'Soprofilms',\n",
       " 'Arcturus Motion Pictures',\n",
       " 'Brothers Dowdle Productions',\n",
       " 'Black Entertainment Television (BET)',\n",
       " 'Zentropa International Sweden',\n",
       " 'Legendary Pictures',\n",
       " 'Liddell Entertainment',\n",
       " 'C.R.R.A.V. Nord Pas de Calais',\n",
       " 'WarpX',\n",
       " 'Eurasia Film Production',\n",
       " 'Freerunning',\n",
       " 'MC Productions',\n",
       " '21st Century Film Corporation',\n",
       " 'Off Hollywood Pictures',\n",
       " 'Youngheart Productions',\n",
       " 'Essential Media & Entertainment',\n",
       " 'Oregon Film Factory',\n",
       " 'Theobald Film Productions',\n",
       " 'BorderLine Films',\n",
       " 'May Day Movies',\n",
       " 'Herald Ace',\n",
       " 'Fade to Black Productions',\n",
       " 'Magnet Media Productions',\n",
       " 'Cometstone Pictures',\n",
       " 'TMC',\n",
       " 'Wim Wenders Stiftung',\n",
       " 'Smart Egg Pictures',\n",
       " 'Escima',\n",
       " 'Walt Disney Productions',\n",
       " 'Роскинопрокат',\n",
       " 'Paradise City',\n",
       " 'Pixar Animation Studios',\n",
       " 'SPAD Films',\n",
       " 'Storefront Films',\n",
       " 'Robert Wise Productions',\n",
       " 'Outlaw Productions (I)',\n",
       " 'Cinerenta Medienbeteiligungs KG',\n",
       " 'XM2 Productions',\n",
       " 'Film Rock',\n",
       " 'Cinealpha KG',\n",
       " 'Rodgers & Hammerstein Productions',\n",
       " 'area japan',\n",
       " 'Red Granite Pictures',\n",
       " 'Video Audio Project (VAP)',\n",
       " 'Five Roses',\n",
       " 'Fat Free',\n",
       " 'Magical Elves Productions',\n",
       " 'Amiguetes Entertainment',\n",
       " 'Point Grey Pictures',\n",
       " 'David Ladd Films',\n",
       " 'Australian Film Commission',\n",
       " 'Mark Gordon Productions',\n",
       " 'Mockingbird Pictures',\n",
       " 'China Dream Film Culture Industry',\n",
       " 'Castel Film Romania',\n",
       " 'CBS Entertainment Productions',\n",
       " 'Minerva Picture Company Ltd.',\n",
       " 'Channel Productions',\n",
       " 'Milk & Honey',\n",
       " 'IM3 Entertainment',\n",
       " 'Entertainment Films',\n",
       " 'Four of a Kind Productions',\n",
       " 'France Télévision',\n",
       " 'MacGillivray Freeman Films',\n",
       " 'ShadowMachine Films',\n",
       " 'Dead Films',\n",
       " 'AVM Productions',\n",
       " 'Midwinter Productions Inc.',\n",
       " 'I Remember Productions',\n",
       " 'Mediapro',\n",
       " 'Produzioni Europee Associati (PEA)',\n",
       " 'Gaumont Production',\n",
       " 'Heimatfilm GbR',\n",
       " 'Enchanted Productions',\n",
       " 'Disney Channel',\n",
       " 'Guardian Trust Company',\n",
       " 'Les Films Upside Down',\n",
       " \"Coup d'Etat Films\",\n",
       " 'Friendly Films Productions',\n",
       " 'Cinémaginaire Inc.',\n",
       " 'Elzévir Films',\n",
       " 'ApolloProMovie & Co. 3. Filmproduktion',\n",
       " 'A Plus Image 5',\n",
       " 'Stephen J. Cannell Productions',\n",
       " 'Pain Unlimited GmbH Filmproduktion',\n",
       " 'VIP 3 Medienfonds',\n",
       " 'The Post Republic',\n",
       " 'Sky',\n",
       " 'Procirep',\n",
       " 'Jon Shestack Productions',\n",
       " 'Modern VideoFilm',\n",
       " 'Kino Vision',\n",
       " 'Леополис',\n",
       " 'Fida Film',\n",
       " 'Cort/Madden Productions',\n",
       " 'The Filmakers Group',\n",
       " 'Producers Circle',\n",
       " 'Deutscher Filmförderfonds (DFFF)',\n",
       " 'Brooksfilms',\n",
       " 'Vanguard Films',\n",
       " 'Bandaï Media Department',\n",
       " 'Katalyst Films',\n",
       " 'Chrysler Corporation',\n",
       " 'Hachette Première',\n",
       " 'Shamley Productions',\n",
       " 'Flash Forward Entertainment',\n",
       " 'Bruce Cohen Productions',\n",
       " 'Rolling Film Entertainment',\n",
       " 'Friland Produksjon',\n",
       " 'Headshot Films',\n",
       " 'El Mar Pictures',\n",
       " 'IMF Internationale Medien und Film GmbH & Co. Produktions KG',\n",
       " 'European Film Company',\n",
       " 'Sofinergie 2',\n",
       " 'Daiei Studios',\n",
       " 'Kent Productions',\n",
       " 'Daly-Harris Productions',\n",
       " 'Laura Films',\n",
       " 'Fabula',\n",
       " 'Korea Capital Investment',\n",
       " 'Racova',\n",
       " 'Kreo Films FZ',\n",
       " 'Cinema 84',\n",
       " 'A113',\n",
       " 'Werc Werk Works',\n",
       " 'Keith Barish Productions',\n",
       " 'Isabella Films',\n",
       " 'Sforzando Productions',\n",
       " 'Digging to China LLC',\n",
       " 'Broad Street Pictures',\n",
       " 'Renardes Productions',\n",
       " 'Surefire Capital',\n",
       " 'American Work',\n",
       " 'Shogakukan-Shueisha Productions',\n",
       " 'Qwerty Films',\n",
       " 'The Coppola Company',\n",
       " 'Deiz Production',\n",
       " 'M Productions',\n",
       " 'Michael Grandage Company',\n",
       " 'Hurricane Films',\n",
       " 'Cloud Eight Films',\n",
       " '42',\n",
       " 'Mark Johnson Productions',\n",
       " 'The Film',\n",
       " 'Sveriges Television (SVT)',\n",
       " 'Red-horse Native',\n",
       " 'Lotus Entertainment (I)',\n",
       " 'King Record Co.',\n",
       " 'Trianon Films',\n",
       " 'MVP Films',\n",
       " 'Dee Gee Entertainment',\n",
       " 'Overnight Films',\n",
       " 'Deer Path Films',\n",
       " 'creative differences',\n",
       " 'DefyNite Films',\n",
       " 'Soficinéma 6',\n",
       " 'Daybreak',\n",
       " 'Turner Feature Animation',\n",
       " 'HanWay Films',\n",
       " 'Comune di Castellabate',\n",
       " 'Tazora Films',\n",
       " 'Hecht-Lancaster Productions',\n",
       " 'Nu Image Films',\n",
       " 'Spitfire Pictures',\n",
       " 'Ibermedia European Community Program',\n",
       " 'RVK Studios',\n",
       " 'Sequence Film',\n",
       " 'Osiris Productions',\n",
       " 'Vertigo Entertainment',\n",
       " 'Creative England',\n",
       " 'Wheelhouse Entertainment',\n",
       " 'Aegis Film Fund',\n",
       " 'Archer Gray',\n",
       " 'John Ford Productions',\n",
       " 'Artina Films',\n",
       " 'Astral Media',\n",
       " 'Planet Productions',\n",
       " '1492 Pictures',\n",
       " 'Alan Greenspan Productions',\n",
       " 'First Knight Productions',\n",
       " 'Les Films Concordia',\n",
       " 'Plantain Films',\n",
       " 'Fiction Films',\n",
       " 'R&C Produzioni',\n",
       " 'Blockbuster Films',\n",
       " 'Lieutenant Productions',\n",
       " 'Parts and Labor',\n",
       " 'NorthSee',\n",
       " 'Danny the Dog Prods Ltd.',\n",
       " 'Screen Siren Pictures',\n",
       " 'Rysher Entertainment',\n",
       " 'Blue-Tongue Films',\n",
       " 'Jolly Russell Productions',\n",
       " \"Eric's Boy\",\n",
       " 'Government of Ontario: Ontario Film and Television Tax Credit Program',\n",
       " 'Sailor Bear',\n",
       " 'Gracie Films',\n",
       " 'Rampart Films',\n",
       " 'RCS',\n",
       " 'Lionsgate',\n",
       " 'FilmColony',\n",
       " 'Maiden Voyage Pictures',\n",
       " 'Material Pictures',\n",
       " 'Mirage Films',\n",
       " 'Thunder Road Productions',\n",
       " 'Animal Kingdom',\n",
       " 'Bourne Again',\n",
       " 'New Regency Pictures',\n",
       " 'Investec Merchant Bank',\n",
       " 'Stars Road Entertainment',\n",
       " 'Phoenix Film Poland',\n",
       " 'Kanal Russia 1',\n",
       " 'Kinberg Genre',\n",
       " 'Albacore Productions Inc.',\n",
       " 'Blackout Productions Inc.',\n",
       " 'HiFilm',\n",
       " 'Lee Daniels Entertainment',\n",
       " 'Summertime Entertainment',\n",
       " 'Cruel & Unusual Films',\n",
       " 'Media Farm',\n",
       " 'Scythia Films',\n",
       " 'Mélusine Productions',\n",
       " 'Taihe Entertainment',\n",
       " 'Film Oblige',\n",
       " 'Coproducción España-Argentina-Francia',\n",
       " 'Shinework Media',\n",
       " 'Millbrook Farm Productions',\n",
       " 'Ufland',\n",
       " 'White Hot Productions',\n",
       " 'Crimes of the Heart S.A',\n",
       " 'Media Rights Capital (MRC)',\n",
       " 'Sanen Productions',\n",
       " 'Vinoothna Geetha',\n",
       " 'Argyle Enterprises',\n",
       " 'Uni Etoile 4',\n",
       " 'Lemodeln Model & Talent Agency',\n",
       " 'Senator International',\n",
       " 'Geneon Entertainment',\n",
       " 'FM Productions',\n",
       " 'GHS Productions KG',\n",
       " 'Mirisch G-E Productions',\n",
       " 'Yari Film Group Releasing',\n",
       " 'Sniper Productions',\n",
       " \"Région Provence-Alpes-Côte d'Azur\",\n",
       " 'Horipro',\n",
       " 'Conquistador Entertainment',\n",
       " 'WV Films IV',\n",
       " 'Three Dimension Pictures',\n",
       " 'Cyrkfilms',\n",
       " 'Living Films',\n",
       " 'Las Producciones del Escorpion',\n",
       " 'Hiett Designs of Las Vegas',\n",
       " 'First Artists',\n",
       " 'Midnight Picture Show',\n",
       " 'Osterman Weekend Associates',\n",
       " 'Syncopated Films',\n",
       " 'Goldwyn Films',\n",
       " 'Media Factory',\n",
       " 'Golden Princess Film Production Limited',\n",
       " 'Bungalow 78 Productions',\n",
       " 'TS Productions',\n",
       " 'Cape Of Good Films',\n",
       " 'Mirabelle Pictures',\n",
       " 'First Floor Features',\n",
       " 'Saban Entertainment',\n",
       " 'Channel Four Films',\n",
       " 'Orsay Films',\n",
       " 'Tornasol Films',\n",
       " 'Media Programme of the European Community',\n",
       " 'Film Development Fund',\n",
       " 'Backup Media',\n",
       " 'Pyramania',\n",
       " 'Makuhari Media',\n",
       " 'Gruskoff/Levy Company',\n",
       " 'Room 101',\n",
       " 'Intrepid Pictures',\n",
       " 'Lolita Productions',\n",
       " 'Southpaw Entertainment',\n",
       " 'Sindika Dokolo',\n",
       " 'ASAF',\n",
       " 'Koppelmann/Bandier-Carnegie Pictures',\n",
       " 'X-Filme Creative Pool',\n",
       " 'Untitled Entertainment',\n",
       " 'LEGO System A/S',\n",
       " 'Bron Creative',\n",
       " 'CAT Films',\n",
       " 'Legendary East',\n",
       " 'Camp Grey',\n",
       " 'Pax Enterprises',\n",
       " 'Sovereign Pictures',\n",
       " 'Kadokawa Shoten Publishing Co.',\n",
       " 'Yoruba Saxon Productions',\n",
       " 'HBO Polska (koprodukcja)',\n",
       " 'Toei Animation Company',\n",
       " 'Prodyuserskaya Firma Igorya Tolstunova',\n",
       " 'Bess Movie',\n",
       " 'Vistar Films',\n",
       " 'Bedford Falls Company, The',\n",
       " 'warner bross Turkey',\n",
       " 'Talent International Film Cultural Company',\n",
       " 'Fruit Salad Films',\n",
       " 'Paradise/MGN',\n",
       " 'BBC Films',\n",
       " 'Alan Young Pictures',\n",
       " 'The Picture Property Company',\n",
       " 'Passenger Film Studio',\n",
       " 'Primesco Communications Inc.',\n",
       " 'Wonderland Films',\n",
       " 'Channel A',\n",
       " 'Lakeshore International',\n",
       " 'Campania Film Commission',\n",
       " 'Polar Entertainment',\n",
       " 'Something Else B.V.',\n",
       " 'Endymion Films',\n",
       " 'Meespierson Film CV',\n",
       " 'Ingenious Broadcasting',\n",
       " 'Four by Two Films',\n",
       " 'Fox Atomic',\n",
       " 'Four Luck Banana',\n",
       " 'Green Hat Films',\n",
       " 'Emmitt Productions Limited',\n",
       " 'Sudden Storm Productions',\n",
       " '19 Entertainment',\n",
       " 'Picnic Basket',\n",
       " 'Fortress Films',\n",
       " 'Electric Shepherd Productions',\n",
       " 'Bergman Lustig Productions',\n",
       " 'Merchant Ivory Productions',\n",
       " 'Vocal Yokels',\n",
       " 'Banque Populaire Images 10',\n",
       " 'First Foot Films',\n",
       " 'Ringerike Erste Filmproduktion',\n",
       " 'TF1 Films Production',\n",
       " 'Hungarian Motion Picture Fund',\n",
       " 'Warner Bros. Entertainment France',\n",
       " 'Irish Film Industry',\n",
       " 'Ingenious Media',\n",
       " 'Hamilton-Mehta Productions',\n",
       " 'Goskino Productions',\n",
       " 'Bandai',\n",
       " 'Horizon Pictures (II)',\n",
       " 'Mulholland Pictures BV',\n",
       " 'Lenfilm Studio',\n",
       " '391 Productions',\n",
       " 'Altus Media',\n",
       " 'Aperture Entertainment',\n",
       " 'Monolith Films',\n",
       " 'Les Editions Albert René',\n",
       " 'Rick Lashbrook Films',\n",
       " 'Caracol',\n",
       " 'Independent Digital Entertainment',\n",
       " 'DJ Films',\n",
       " 'Canal+ España',\n",
       " 'ESPN films',\n",
       " 'In The Bag Productions',\n",
       " 'Nanking Military Area Command Of The TV Art Centre',\n",
       " 'Les Films du Losange',\n",
       " 'Mike Zoss Productions',\n",
       " 'Venture Forth',\n",
       " 'Walt Disney Animation Australia',\n",
       " 'The Turman-Morrissey Company',\n",
       " 'China Movie Channel',\n",
       " 'Pretty Pictures',\n",
       " 'Eran Riklis Productions Ltd.',\n",
       " 'Ripken Productions',\n",
       " 'Appian Way',\n",
       " 'AZ Celtic Films',\n",
       " 'Besiktas Kültür Merkezi (BKM)',\n",
       " 'France Television',\n",
       " 'Trans World Entertainment (TWE)',\n",
       " 'Vertice 360',\n",
       " 'Universal TV',\n",
       " 'Transmission Pictures',\n",
       " 'Axon Films',\n",
       " 'The Institute for the Intellectual Development of Children & Young Adults',\n",
       " 'Inphenate',\n",
       " 'Sandia Media',\n",
       " 'Chase Productions',\n",
       " 'Alliance Entertainment',\n",
       " 'Les Productions du Chicon',\n",
       " 'Boies / Schiller Film Group',\n",
       " 'WSB',\n",
       " 'Biograf Jan Svěrák',\n",
       " 'Don Bluth',\n",
       " 'Rhône-Alpes Cinéma',\n",
       " 'Wes Craven Films',\n",
       " 'Groucho III Film Partnership',\n",
       " 'DMC Film',\n",
       " 'Shueisha',\n",
       " 'United Plankton Pictures',\n",
       " 'Loofah Productions',\n",
       " 'Hartbeat Productions',\n",
       " 'Cornelius Productions',\n",
       " 'Brian Grazer/Scott Rudin Productions',\n",
       " 'AM Associates',\n",
       " 'Huahua Media',\n",
       " 'Colombia Pictures',\n",
       " 'Broken Lizard Industries',\n",
       " 'Toast Films',\n",
       " 'Troy Entertainment',\n",
       " 'Samuel Goldwyn Company, The',\n",
       " 'JDI productions',\n",
       " 'Code Productions',\n",
       " 'Screen Gems, Inc.',\n",
       " 'New Visions Pictures',\n",
       " 'Embassy Films',\n",
       " 'Ancine',\n",
       " 'Marty Katz Productions',\n",
       " 'Jean Doumanian Productions',\n",
       " 'Fox Film Corporation',\n",
       " 'Ministerio de Cultura',\n",
       " 'August Entertainment',\n",
       " 'Centre National de la Cinématographie (CNC)',\n",
       " 'CinéCinéma',\n",
       " 'Feijão Filmes',\n",
       " 'Syalis DA',\n",
       " 'Opperman Viner Chrystyn Entertainment',\n",
       " 'Chessman Park Productions',\n",
       " 'Mirae Asset Capital',\n",
       " 'Random Films',\n",
       " 'Def Pictures',\n",
       " 'Strand Releasing',\n",
       " 'Doordarshan',\n",
       " 'Televisión Española TVE',\n",
       " 'Lansdown Films',\n",
       " 'Forge',\n",
       " 'Sedic International',\n",
       " 'Pioneer',\n",
       " 'Doha Film Institute',\n",
       " 'Orion Pictures',\n",
       " 'Sunrise Pictures',\n",
       " 'Bold Films',\n",
       " 'Universal Pictures',\n",
       " 'Ghana National Commission on Culture',\n",
       " 'Star Entertainment',\n",
       " 'The Bryna Company',\n",
       " 'On The Corner Films',\n",
       " 'Hyde Park Entertainment',\n",
       " 'Nimbus Film Productions',\n",
       " 'Casa Kafka Pictures Movie Tax Shelter Empowered by Dexia',\n",
       " '1821 Pictures',\n",
       " '16 Block Productions',\n",
       " 'Blake Edwards Entertainment',\n",
       " 'Firm Films',\n",
       " 'Graveyard Productions',\n",
       " 'Finecut',\n",
       " 'Senator Entertainment Co',\n",
       " 'Road Rebel',\n",
       " 'Zero Fiction Film',\n",
       " 'Kellgate Limited',\n",
       " 'Telewizja Polska\\t(koprodukcja)',\n",
       " 'American Entertainment Investors',\n",
       " 'Banque Populaire Images 11',\n",
       " 'Outov Productions',\n",
       " 'Belstar Productions',\n",
       " 'Studio Swan',\n",
       " 'Twickenham Film Studios',\n",
       " 'Dreamworks Pictures',\n",
       " 'Gambit Pictures',\n",
       " 'Epsilon Motion Pictures',\n",
       " 'Pope Productions',\n",
       " 'Majestic Films International',\n",
       " 'Herrick Entertainment',\n",
       " 'American Werewolf Inc.',\n",
       " 'Zazen Produções',\n",
       " 'ContentFilm International',\n",
       " 'Leverage Entertainment',\n",
       " 'Vision PDG',\n",
       " 'SKA Films',\n",
       " 'Senator Global Productions',\n",
       " 'Finding Cinema',\n",
       " 'Kamisha Corporation',\n",
       " 'Laurel Group',\n",
       " 'Chromosom Filmproduktion',\n",
       " 'ZDF Productions',\n",
       " 'Premise Media Corporation',\n",
       " 'Dark Trick Films',\n",
       " 'Mace Neufeld Productions',\n",
       " 'Cinéforom',\n",
       " 'Stand See',\n",
       " 'SEGA',\n",
       " 'Dalian Wanda Group',\n",
       " 'O2 Filmes',\n",
       " 'Dante Entertainment',\n",
       " 'Canana Films',\n",
       " 'George Street Pictures',\n",
       " 'Arcade Pictures',\n",
       " 'ARK-Film',\n",
       " \"Wong Jing's Workshop\",\n",
       " 'Ferndale Films',\n",
       " 'Daybreak Pictures',\n",
       " 'Burn Later Productions',\n",
       " 'SOVIK Venture Capital',\n",
       " 'Fons Rademakers Produktie',\n",
       " 'Runteam',\n",
       " 'New Horizon Picture Corp.',\n",
       " 'Kriti Productions',\n",
       " 'The Fyzz Facility',\n",
       " 'Tomy',\n",
       " 'Initial (II)',\n",
       " 'Populist Pictures',\n",
       " 'Robert Fleming Leasing Limited',\n",
       " 'Claudie Ossard Productions',\n",
       " 'Nomad Films',\n",
       " '3311 Productions',\n",
       " 'Hobo Pictures India',\n",
       " 'Topkapi Films',\n",
       " 'Eyeworks',\n",
       " 'JEMPSA',\n",
       " 'Fitzwilliam Productions',\n",
       " 'Vertebra Films',\n",
       " 'Kemp Company',\n",
       " 'Casbah Film',\n",
       " 'Babbo Inc.',\n",
       " 'Compass Entertainment',\n",
       " 'Qian Yian International',\n",
       " 'LEGO',\n",
       " 'VIP 4 Medienfonds',\n",
       " 'Initial Pictures',\n",
       " 'Sentinel Pictures',\n",
       " 'Union Investment Partners',\n",
       " 'BSM Studio',\n",
       " 'Great Wight Productions/ Osford Films',\n",
       " 'Cinemalaya Foundation',\n",
       " 'Imperial Filmproduktion',\n",
       " 'Motel Movies',\n",
       " 'British Film Council',\n",
       " 'Two Left Shoes Films',\n",
       " 'Proton Cinema',\n",
       " 'Tessalit Productions',\n",
       " 'Abe Shuji',\n",
       " 'South Australian Film Corporation',\n",
       " 'Image Entertainment',\n",
       " 'Jerkschool Productions',\n",
       " 'Scorpion Film Production',\n",
       " 'Fantastic Films',\n",
       " 'Gran Via',\n",
       " 'Pathe',\n",
       " 'Motel Films',\n",
       " 'Brooklyn Films II',\n",
       " 'Ex-Bo Productions',\n",
       " 'Légende Films (koprodukcja)',\n",
       " 'Bay Films',\n",
       " 'Mr. Smith Productions',\n",
       " 'Virgin Produced',\n",
       " 'Pure Flix Entertainment',\n",
       " 'New Artists Alliance',\n",
       " 'Maruti International',\n",
       " 'Davis Entertainment Classics',\n",
       " 'Open City Films',\n",
       " 'Pandora Pictures',\n",
       " 'Imagi Production',\n",
       " 'Golar Productions',\n",
       " 'Kvinde Films',\n",
       " 'Nimar Studios',\n",
       " 'Forest Park Pictures',\n",
       " 'Great Point Media',\n",
       " 'ARP Sélection',\n",
       " 'Digital Frontier',\n",
       " 'Carolco Pictures',\n",
       " 'Next Entertainment World',\n",
       " 'Space Films',\n",
       " 'Riofilm',\n",
       " 'HorrorFlix',\n",
       " 'Turner Pictures (I)',\n",
       " 'Phoenix Pictures',\n",
       " 'Alborada P.C.',\n",
       " 'New Wave Productions',\n",
       " 'Filmboard Berlin-Brandenburg (FBB)',\n",
       " 'Hombre Productions',\n",
       " 'Rouge international',\n",
       " 'Vishesh Films',\n",
       " 'Dear Film Produzione',\n",
       " 'TF1 International',\n",
       " 'Bedford Falls Productions',\n",
       " 'Luminant Media',\n",
       " 'Polar Productions',\n",
       " 'Emrah Gamsızoğlu',\n",
       " 'Cine Productions',\n",
       " 'Magnolia Films',\n",
       " 'Recorded Pictures Company',\n",
       " 'Misher Films',\n",
       " 'DeBart',\n",
       " 'On the Road',\n",
       " 'Clearwater Holdings Limited',\n",
       " 'Verdi Productions',\n",
       " 'Happy End Filmproductions AB',\n",
       " 'BSF Film',\n",
       " 'Scenario Lane Productions',\n",
       " 'Universal Pictures International Entertainment (UPIE)',\n",
       " 'Indion Entertainment Group',\n",
       " 'Proximus',\n",
       " 'Castle Rock Entertainment',\n",
       " 'Sid & Marty Krofft Pictures',\n",
       " 'Ad Hominem Enterprises',\n",
       " 'Torino Film Lab',\n",
       " 'Zipper Bros Films',\n",
       " 'Blueprint Pictures',\n",
       " 'Indomitable Entertainment',\n",
       " 'Big Fan Productions',\n",
       " 'The Guber-Peters Company',\n",
       " 'Apatow Productions',\n",
       " 'Capitol Films',\n",
       " 'Solar Filmworks',\n",
       " 'Beijing EE-Media Co.',\n",
       " 'Film Consortium',\n",
       " 'Sunn Classic Pictures',\n",
       " 'Vasan Visual Ventures',\n",
       " 'Visual Arts Entertainment',\n",
       " 'Afrodita Audiovisual, A.I.E.',\n",
       " 'Clipsal Films',\n",
       " 'Pan Arts',\n",
       " 'Artemple - Hollywood',\n",
       " 'Canal+ Espana',\n",
       " 'Centropolis Entertainment',\n",
       " 'SCOPE Invest',\n",
       " 'Sahamongkolfilm Co.',\n",
       " 'Winkast Film Productions',\n",
       " '98 MPH Productions',\n",
       " 'Pluperfect',\n",
       " 'Fauna Productions',\n",
       " 'Joseph E. Levine Productions',\n",
       " 'Amusement Park Films',\n",
       " 'Panda Productions Inc.',\n",
       " 'Peter Newman/Interal',\n",
       " 'Krane Entertainment',\n",
       " 'State Street Pictures',\n",
       " 'Zenith Entertainment',\n",
       " 'Brightside Entertainment',\n",
       " 'Calle Cruzada',\n",
       " 'Metronome Productions',\n",
       " 'British Film Company',\n",
       " 'Kuzui Enterprises',\n",
       " 'De Line Pictures',\n",
       " 'Aramid Entertainment Fund',\n",
       " 'Amazon Studios',\n",
       " 'Panfilm',\n",
       " 'Studio Ghibli',\n",
       " 'Reliance Big Pictures',\n",
       " 'A Contracorriente Films',\n",
       " 'Feuer and Martin Production, A',\n",
       " 'Bifrost Pictures',\n",
       " 'Quality Growth International Ltd.',\n",
       " 'Cinema 77 Films',\n",
       " 'A Plus Image 2',\n",
       " 'Fortress Features',\n",
       " 'Universal International Pictures (UI)',\n",
       " 'Sedic',\n",
       " 'Bona International Film Group',\n",
       " 'Irwin Allen Productions',\n",
       " 'Radical Studios',\n",
       " 'Harbor Picture Company',\n",
       " 'SofiTVCiné 3',\n",
       " 'Realitism Films',\n",
       " 'Rakontur',\n",
       " 'SITE Productions',\n",
       " 'ASIG Productions',\n",
       " 'nordmedia Fonds GmbH',\n",
       " 'Ruddy Morgan Productions',\n",
       " 'СТВ',\n",
       " 'Film Capital Europe Funds (FCEF )',\n",
       " 'Microsoft',\n",
       " 'Hoyts Film Partnership',\n",
       " 'Ballpark Productions Partnership',\n",
       " 'Jackson/McHenry Company,The',\n",
       " 'Sony Pictures Imageworks (SPI)',\n",
       " 'Viacom Enterprises',\n",
       " 'McCann-Erickson',\n",
       " 'Pictures in Paradise',\n",
       " 'Nihon Ad Systems (NAS)',\n",
       " 'Ashton Productions',\n",
       " 'An Olive Branch Productions',\n",
       " 'Carolco International N.V.',\n",
       " 'SRG SSR idée suisse',\n",
       " 'Klasky-Csupo',\n",
       " 'Niccol Films',\n",
       " 'France 4',\n",
       " 'Marmot-film',\n",
       " 'BK',\n",
       " 'High Frequency Entertainment',\n",
       " 'ML Film Entertainment International',\n",
       " 'Yellowbeard Associates',\n",
       " 'A-Mark Entertainment',\n",
       " 'Number 9 Films',\n",
       " 'Wind Dancer Films',\n",
       " 'Sneak Preview Entertainment',\n",
       " 'MCL Films S.A.',\n",
       " 'Western Film Productions',\n",
       " 'Hera Productions',\n",
       " 'Kut Productions',\n",
       " 'Boll KG',\n",
       " 'Hachiko',\n",
       " 'Aaron Russo Productions',\n",
       " 'Talisman Productions',\n",
       " 'Casual Friday Productions',\n",
       " 'Blueprint Film',\n",
       " 'Red Lion',\n",
       " 'The Montecito Picture Company',\n",
       " 'Gaylord Films',\n",
       " 'Hit & Run Productions',\n",
       " 'Tag Entertainment',\n",
       " 'France 3 (FR 3)',\n",
       " 'Zininsa Film Production',\n",
       " 'Creative Scotland',\n",
       " 'Caméra One',\n",
       " 'Film Fund FUZZ',\n",
       " '3ality Digital Entertainment',\n",
       " 'World Film Services',\n",
       " 'Clap Filmes',\n",
       " 'Newcomm',\n",
       " 'The Affleck/Middleton Project',\n",
       " 'Nouvelles Éditions de Films (NEF)',\n",
       " 'Gimages',\n",
       " 'thinkfilm',\n",
       " 'Barry Mendel Productions',\n",
       " 'Exclusive Media Group',\n",
       " 'Neunte Babelsberg Film',\n",
       " 'Wadleigh-Maurice',\n",
       " 'Scottish Screen',\n",
       " 'Cinema Verity',\n",
       " 'Monica Beach Media',\n",
       " 'StuntArt.ru',\n",
       " 'Beijing New Picture Film Co.',\n",
       " 'Titti Film',\n",
       " 'Dan Curtis Productions',\n",
       " 'L.A. Films',\n",
       " 'Neufeld Rehme Productions',\n",
       " 'Twentieth Century Fox Film Corporation',\n",
       " 'M7 Filmproduktion',\n",
       " 'Sony Computer Entertainment',\n",
       " 'MACT Productions',\n",
       " 'Epoch Film Co.',\n",
       " 'Hungarian National Film Fund',\n",
       " '4Kids Entertainment',\n",
       " 'Acuarius Films S.A.',\n",
       " 'Riff Raff Film Productions',\n",
       " 'Bellanova Films',\n",
       " 'De Haven Productions',\n",
       " 'Central Cinema Company Film',\n",
       " 'Starbucks Entertainment',\n",
       " 'Ringerike Zweite Filmproduktion',\n",
       " 'Gruskoff/Venture Films',\n",
       " 'Film & Entertainment VIP Medienfonds 4 GmbH & Co. KG (I)',\n",
       " 'Apache Films',\n",
       " 'Hanna-Barbera Productions',\n",
       " 'Pretty Dangerous Films',\n",
       " 'Gaumont',\n",
       " 'ANA Media',\n",
       " 'Reshet Broadcasting',\n",
       " 'Kaitz Productions',\n",
       " 'Ellepi Films',\n",
       " 'LB Productions',\n",
       " 'Akira Committee Company Ltd.',\n",
       " 'Union',\n",
       " 'Mainstream S.A.',\n",
       " 'IDT Entertainment',\n",
       " 'Ruff Nation Films',\n",
       " 'Regent Capital',\n",
       " 'Resident Evil Productions',\n",
       " 'Yukon Film Incentive Program',\n",
       " 'Neal H. Moritz Productions',\n",
       " 'Out of the Blue... Entertainment',\n",
       " 'Shaw Brothers',\n",
       " 'Union Générale Cinématographique',\n",
       " 'Autonomous',\n",
       " 'OLM',\n",
       " 'VH1 Television',\n",
       " 'Indo-British',\n",
       " 'WWE Studios',\n",
       " 'Smokescreen Inc.',\n",
       " 'VBT Productions',\n",
       " 'Netter Productions',\n",
       " 'Dirty Hands Productions',\n",
       " 'Maguire Entertainment',\n",
       " 'Degeto Film',\n",
       " 'Prettybird',\n",
       " 'Revolution Studios',\n",
       " 'Lightmotive',\n",
       " 'DumbDumb',\n",
       " 'Prozesa',\n",
       " 'Polar Entertainment Corporation',\n",
       " 'Milestone Productions',\n",
       " 'Hérodiade',\n",
       " 'HBO Romania',\n",
       " 'A Bigger Boat',\n",
       " 'Red Wagon Entertainment',\n",
       " 'Luna Pictures',\n",
       " 'France Film',\n",
       " 'Hermetof Pictures',\n",
       " 'Anima Vitae',\n",
       " 'Melnitsa Animation Studio',\n",
       " 'Roth-Arnold Productions',\n",
       " 'Twilight Productions',\n",
       " 'Dogfish Pictures',\n",
       " 'Kinostar',\n",
       " 'Kerner Entertainment Company',\n",
       " 'Defender Films',\n",
       " 'Lean-M',\n",
       " 'Dawn Associates',\n",
       " 'Xofa Productions',\n",
       " 'Disruption Entertainment',\n",
       " 'Epidemic Pictures',\n",
       " 'Forecast Pictures',\n",
       " 'KMP Film Invest',\n",
       " 'First Wedding Productions',\n",
       " 'C.R.G. International',\n",
       " 'Aversano Films',\n",
       " 'Collision Entertainment',\n",
       " 'Vaca Films',\n",
       " 'SpotFilms',\n",
       " 'Douglas/Reuther Productions',\n",
       " 'Telegraph Films',\n",
       " 'Shade Pictures',\n",
       " 'Wild Hogs Productions',\n",
       " 'Ruddy Morgan Organization, The',\n",
       " 'Clear Blue Sky Productions',\n",
       " 'Red Turtle',\n",
       " 'Jack Giarraputo Productions',\n",
       " 'CIPI Cinematografica S.A',\n",
       " 'Dylan Sellers Productions',\n",
       " 'Crystal Sky Pictures',\n",
       " 'Penta Pictures',\n",
       " 'C.O. Films',\n",
       " 'Windsor Productions',\n",
       " 'Jaffe-Lansing',\n",
       " 'Delphi II Productions',\n",
       " 'Long Distance Films',\n",
       " 'Dreamz Unlimited',\n",
       " 'Highland Films',\n",
       " 'Benaroya Pictures',\n",
       " 'Magna Global Entertainment',\n",
       " 'TF1',\n",
       " 'Pegaso Producciones',\n",
       " 'Avenue Pictures Productions',\n",
       " 'Gladden Entertainment',\n",
       " 'CineSon Entertainment',\n",
       " 'Blue Haze Entertainment',\n",
       " 'Cobblestone Pictures',\n",
       " 'Abbas Kiarostami Productions',\n",
       " 'Beijing New Picture Film Co. Ltd.',\n",
       " 'Marvista Entertainment',\n",
       " 'Q-Tec',\n",
       " 'Sodium Fox',\n",
       " 'KrautPack Entertainment',\n",
       " 'TV 1000',\n",
       " 'IRE Productions',\n",
       " 'Silverwood Films',\n",
       " 'Mediaset',\n",
       " 'Chockstone Pictures',\n",
       " 'Caramel Film',\n",
       " 'Tollin/Robbins Productions',\n",
       " 'Winston Davis and Associates',\n",
       " 'Deep River Productions',\n",
       " 'Apulia Film Commission',\n",
       " 'Reality Entertainment',\n",
       " 'Mount Film Group',\n",
       " 'Stargate Studios',\n",
       " 'Blake Edwards',\n",
       " 'Ad hoc Studios',\n",
       " 'Province of British Columbia Film Incentive BC',\n",
       " 'Fria Luz Del Dia, A.I.E.',\n",
       " 'Cloudy Productions',\n",
       " 'Abandon Entertainment',\n",
       " 'CED Productions',\n",
       " 'Seagal/Nasso Productions',\n",
       " 'MeniThings LLC',\n",
       " 'Compass International Pictures',\n",
       " 'Hard Eight Pictures',\n",
       " 'Franton Production',\n",
       " 'Granada Film Productions',\n",
       " 'Power',\n",
       " 'Tomboy Films',\n",
       " 'BE TV',\n",
       " 'Carolina Bank',\n",
       " 'Factor RH Producciones',\n",
       " 'Grade A Entertainment',\n",
       " 'Snider Than Thou Productions Inc.',\n",
       " 'Beacon Pictures',\n",
       " 'Promised Land Productions',\n",
       " 'Hong Kong Film Directors Guild',\n",
       " 'Modern People',\n",
       " 'Limelite Studios',\n",
       " 'Smokewood Entertainment',\n",
       " 'Golden Harvest Productions',\n",
       " 'Ketchup Entertainment',\n",
       " 'Grandon Productions',\n",
       " 'Volten',\n",
       " 'CJ Entertainment',\n",
       " 'Bryna Productions',\n",
       " 'Nikolaus Geyrhalter Filmproduktion',\n",
       " 'Alliance Atlantis Communications',\n",
       " 'Jesse Films Inc.',\n",
       " 'Alcon Entertainment',\n",
       " 'Radio Canada Télévision',\n",
       " 'Région Bretagne',\n",
       " 'Fine & Mellow Productions',\n",
       " 'Gordon Bijelonic / Datari Turner Films',\n",
       " 'Cargo Films',\n",
       " 'Monterey Productions',\n",
       " 'Muhan Investment',\n",
       " 'Neue Constantin Film',\n",
       " 'Buffalo Producciones',\n",
       " 'Wescom Barber International',\n",
       " 'P & L',\n",
       " 'Beijing Forbidden City Film Co.',\n",
       " 'Chapter 2',\n",
       " 'HandMade Films',\n",
       " 'Konami Digital Entertainment',\n",
       " ...]"
      ]
     },
     "execution_count": 37,
     "metadata": {},
     "output_type": "execute_result"
    }
   ],
   "source": [
    "production_companies=get_uniques(reves_metadata[\"production_companies\"])\n",
    "print(\"There are %d unique production companies\"%(len(production_companies)))\n",
    "production_companies"
   ]
  },
  {
   "cell_type": "markdown",
   "metadata": {},
   "source": [
    "There are to many production companies for our model. Maybe we should get the most common ones, or the 20% that represent the 80% of the movies. (Around 6K movies). "
   ]
  },
  {
   "cell_type": "code",
   "execution_count": 38,
   "metadata": {
    "scrolled": true
   },
   "outputs": [
    {
     "data": {
      "text/plain": [
       "[('Warner Bros.', 491),\n",
       " ('Universal Pictures', 463),\n",
       " ('Paramount Pictures', 395),\n",
       " ('Twentieth Century Fox Film Corporation', 341),\n",
       " ('Columbia Pictures', 236),\n",
       " ('Metro-Goldwyn-Mayer (MGM)', 207),\n",
       " ('New Line Cinema', 198),\n",
       " ('Touchstone Pictures', 158),\n",
       " ('Walt Disney Pictures', 147),\n",
       " ('Columbia Pictures Corporation', 140)]"
      ]
     },
     "execution_count": 38,
     "metadata": {},
     "output_type": "execute_result"
    }
   ],
   "source": [
    "from collections import Counter\n",
    "companies_wc=[]\n",
    "for element in reves_metadata[\"production_companies\"]:\n",
    "        for company in element:\n",
    "            companies_wc.append(company)\n",
    "Counter(companies_wc).most_common(10)"
   ]
  },
  {
   "cell_type": "code",
   "execution_count": 39,
   "metadata": {},
   "outputs": [],
   "source": [
    "production_company=[]\n",
    "for element in reves_metadata[\"production_companies\"]:\n",
    "    if len(element)>0:\n",
    "        first_company=element[0]\n",
    "        production_company.append(first_company)\n",
    "    else:\n",
    "        first_company=\"\"\n",
    "        production_company.append(first_company)"
   ]
  },
  {
   "cell_type": "code",
   "execution_count": 40,
   "metadata": {
    "scrolled": true
   },
   "outputs": [
    {
     "name": "stderr",
     "output_type": "stream",
     "text": [
      "C:\\Users\\Elsa\\Anaconda3\\lib\\site-packages\\ipykernel_launcher.py:1: SettingWithCopyWarning: \n",
      "A value is trying to be set on a copy of a slice from a DataFrame.\n",
      "Try using .loc[row_indexer,col_indexer] = value instead\n",
      "\n",
      "See the caveats in the documentation: http://pandas.pydata.org/pandas-docs/stable/indexing.html#indexing-view-versus-copy\n",
      "  \"\"\"Entry point for launching an IPython kernel.\n"
     ]
    }
   ],
   "source": [
    "reves_metadata[\"production_company\"]=production_company"
   ]
  },
  {
   "cell_type": "code",
   "execution_count": 41,
   "metadata": {
    "scrolled": true
   },
   "outputs": [
    {
     "data": {
      "text/plain": [
       "0                   Pixar Animation Studios\n",
       "1                          TriStar Pictures\n",
       "3    Twentieth Century Fox Film Corporation\n",
       "4                     Sandollar Productions\n",
       "5                       Regency Enterprises\n",
       "Name: production_company, dtype: object"
      ]
     },
     "execution_count": 41,
     "metadata": {},
     "output_type": "execute_result"
    }
   ],
   "source": [
    "reves_metadata[\"production_company\"].head(5)"
   ]
  },
  {
   "cell_type": "code",
   "execution_count": 53,
   "metadata": {},
   "outputs": [
    {
     "data": {
      "text/plain": [
       "[('', 411),\n",
       " ('Universal Pictures', 401),\n",
       " ('Paramount Pictures', 391),\n",
       " ('Twentieth Century Fox Film Corporation', 291),\n",
       " ('Columbia Pictures', 235),\n",
       " ('New Line Cinema', 187)]"
      ]
     },
     "execution_count": 53,
     "metadata": {},
     "output_type": "execute_result"
    }
   ],
   "source": [
    "company_wc=[]\n",
    "for element in reves_metadata[\"production_company\"]:\n",
    "        company_wc.append(element)\n",
    "Counter(company_wc).most_common(6)"
   ]
  },
  {
   "cell_type": "markdown",
   "metadata": {},
   "source": [
    "#### 7. Production Countries"
   ]
  },
  {
   "cell_type": "code",
   "execution_count": 43,
   "metadata": {
    "scrolled": true
   },
   "outputs": [
    {
     "data": {
      "text/plain": [
       "4242     [{'iso_3166_1': 'US', 'name': 'United States o...\n",
       "35110    [{'iso_3166_1': 'US', 'name': 'United States o...\n",
       "18685    [{'iso_3166_1': 'US', 'name': 'United States o...\n",
       "4705     [{'iso_3166_1': 'US', 'name': 'United States o...\n",
       "6554     [{'iso_3166_1': 'DE', 'name': 'Germany'}, {'is...\n",
       "Name: production_countries, dtype: object"
      ]
     },
     "execution_count": 43,
     "metadata": {},
     "output_type": "execute_result"
    }
   ],
   "source": [
    "reves_metadata[\"production_countries\"].sample(5)"
   ]
  },
  {
   "cell_type": "markdown",
   "metadata": {},
   "source": [
    "Almost same as before"
   ]
  },
  {
   "cell_type": "code",
   "execution_count": 44,
   "metadata": {
    "scrolled": false
   },
   "outputs": [
    {
     "name": "stdout",
     "output_type": "stream",
     "text": [
      "There are 98 unique production countries\n"
     ]
    },
    {
     "name": "stderr",
     "output_type": "stream",
     "text": [
      "C:\\Users\\Elsa\\Anaconda3\\lib\\site-packages\\ipykernel_launcher.py:1: SettingWithCopyWarning: \n",
      "A value is trying to be set on a copy of a slice from a DataFrame.\n",
      "Try using .loc[row_indexer,col_indexer] = value instead\n",
      "\n",
      "See the caveats in the documentation: http://pandas.pydata.org/pandas-docs/stable/indexing.html#indexing-view-versus-copy\n",
      "  \"\"\"Entry point for launching an IPython kernel.\n"
     ]
    },
    {
     "data": {
      "text/plain": [
       "['Brazil',\n",
       " 'Switzerland',\n",
       " 'Tunisia',\n",
       " 'Portugal',\n",
       " 'Kazakhstan',\n",
       " 'Ireland',\n",
       " 'Congo',\n",
       " 'Finland',\n",
       " 'Germany',\n",
       " 'Jordan']"
      ]
     },
     "execution_count": 44,
     "metadata": {},
     "output_type": "execute_result"
    }
   ],
   "source": [
    "reves_metadata[\"production_countries\"]=to_list(reves_metadata[\"production_countries\"])\n",
    "production_countries=get_uniques(reves_metadata[\"production_countries\"])\n",
    "print(\"There are %d unique production countries\"%(len(production_countries)))\n",
    "production_countries[:10]"
   ]
  },
  {
   "cell_type": "code",
   "execution_count": 45,
   "metadata": {},
   "outputs": [
    {
     "data": {
      "text/plain": [
       "[('United States of America', 5623),\n",
       " ('United Kingdom', 917),\n",
       " ('France', 576),\n",
       " ('Germany', 412),\n",
       " ('Canada', 323)]"
      ]
     },
     "execution_count": 45,
     "metadata": {},
     "output_type": "execute_result"
    }
   ],
   "source": [
    "countries_wc=[]\n",
    "for element in reves_metadata[\"production_countries\"]:\n",
    "        for country in element:\n",
    "            countries_wc.append(country)\n",
    "Counter(countries_wc).most_common(5)"
   ]
  },
  {
   "cell_type": "markdown",
   "metadata": {},
   "source": [
    "This doesn't mean that 5 countries represent 7851 movies... We have to make sure that we make the cut leaving at least 1 country per movie. We should assume that the first country listed is the one, and take it as a reference. Then, make the countries list from that."
   ]
  },
  {
   "cell_type": "code",
   "execution_count": 46,
   "metadata": {},
   "outputs": [
    {
     "data": {
      "text/plain": [
       "'United Kingdom'"
      ]
     },
     "execution_count": 46,
     "metadata": {},
     "output_type": "execute_result"
    }
   ],
   "source": [
    "reves_metadata[\"production_countries\"][9][0]"
   ]
  },
  {
   "cell_type": "code",
   "execution_count": 47,
   "metadata": {},
   "outputs": [
    {
     "data": {
      "text/plain": [
       "'United States of America'"
      ]
     },
     "execution_count": 47,
     "metadata": {},
     "output_type": "execute_result"
    }
   ],
   "source": [
    "reves_metadata[\"production_countries\"][0][0]"
   ]
  },
  {
   "cell_type": "code",
   "execution_count": 48,
   "metadata": {
    "scrolled": false
   },
   "outputs": [],
   "source": [
    "production_country=[]\n",
    "for element in reves_metadata[\"production_countries\"]:\n",
    "    if len(element)>0:\n",
    "        first_country=element[0]\n",
    "        production_country.append(first_country)\n",
    "    else:\n",
    "        first_country=\"\"\n",
    "        production_country.append(first_country)"
   ]
  },
  {
   "cell_type": "code",
   "execution_count": 49,
   "metadata": {},
   "outputs": [
    {
     "data": {
      "text/plain": [
       "21103                 [United Kingdom]\n",
       "13072    [Belgium, France, Luxembourg]\n",
       "39286                          [India]\n",
       "15069                      [Australia]\n",
       "41998                [Germany, France]\n",
       "33356       [United States of America]\n",
       "16584                          [Japan]\n",
       "25055       [United States of America]\n",
       "2134        [United States of America]\n",
       "44842       [United States of America]\n",
       "Name: production_countries, dtype: object"
      ]
     },
     "execution_count": 49,
     "metadata": {},
     "output_type": "execute_result"
    }
   ],
   "source": [
    "reves_metadata[\"production_countries\"].sample(10)"
   ]
  },
  {
   "cell_type": "code",
   "execution_count": 50,
   "metadata": {},
   "outputs": [
    {
     "name": "stderr",
     "output_type": "stream",
     "text": [
      "C:\\Users\\Elsa\\Anaconda3\\lib\\site-packages\\ipykernel_launcher.py:1: SettingWithCopyWarning: \n",
      "A value is trying to be set on a copy of a slice from a DataFrame.\n",
      "Try using .loc[row_indexer,col_indexer] = value instead\n",
      "\n",
      "See the caveats in the documentation: http://pandas.pydata.org/pandas-docs/stable/indexing.html#indexing-view-versus-copy\n",
      "  \"\"\"Entry point for launching an IPython kernel.\n"
     ]
    }
   ],
   "source": [
    "reves_metadata[\"production_country\"]=production_country"
   ]
  },
  {
   "cell_type": "code",
   "execution_count": 51,
   "metadata": {},
   "outputs": [
    {
     "data": {
      "text/plain": [
       "0    United States of America\n",
       "1    United States of America\n",
       "3    United States of America\n",
       "4    United States of America\n",
       "5    United States of America\n",
       "Name: production_country, dtype: object"
      ]
     },
     "execution_count": 51,
     "metadata": {},
     "output_type": "execute_result"
    }
   ],
   "source": [
    "reves_metadata[\"production_country\"].head()"
   ]
  },
  {
   "cell_type": "code",
   "execution_count": 52,
   "metadata": {
    "scrolled": false
   },
   "outputs": [
    {
     "data": {
      "text/plain": [
       "[('United States of America', 4497),\n",
       " ('United Kingdom', 548),\n",
       " ('France', 354),\n",
       " ('Canada', 267),\n",
       " ('Germany', 224),\n",
       " ('India', 204)]"
      ]
     },
     "execution_count": 52,
     "metadata": {},
     "output_type": "execute_result"
    }
   ],
   "source": [
    "country_wc=[]\n",
    "for element in reves_metadata[\"production_country\"]:\n",
    "        country_wc.append(element)\n",
    "Counter(country_wc).most_common(6)"
   ]
  },
  {
   "cell_type": "markdown",
   "metadata": {},
   "source": [
    "#### 8. Release Date"
   ]
  },
  {
   "cell_type": "markdown",
   "metadata": {},
   "source": [
    "Release Date can be a very significant variable in our model since we assume that the movies released nearby certain months or times of the year, can reach more revenue more easily. "
   ]
  },
  {
   "cell_type": "code",
   "execution_count": 5,
   "metadata": {
    "scrolled": true
   },
   "outputs": [
    {
     "name": "stdout",
     "output_type": "stream",
     "text": [
      "145      1995-07-21\n",
      "32801    2016-04-15\n",
      "30932    1983-10-19\n",
      "30760    2015-09-04\n",
      "9685     1988-09-02\n",
      "Name: release_date, dtype: object\n",
      "There are 1 null values\n"
     ]
    }
   ],
   "source": [
    "print(reves_metadata[\"release_date\"].sample(5))\n",
    "print(\"There are %d null values\" % (reves_metadata[\"release_date\"].isnull().sum()))"
   ]
  },
  {
   "cell_type": "code",
   "execution_count": 7,
   "metadata": {
    "scrolled": true
   },
   "outputs": [
    {
     "data": {
      "text/plain": [
       "str"
      ]
     },
     "execution_count": 7,
     "metadata": {},
     "output_type": "execute_result"
    }
   ],
   "source": [
    "type(reves_metadata[\"release_date\"][2255])"
   ]
  },
  {
   "cell_type": "markdown",
   "metadata": {},
   "source": [
    "Info is stored in string format, so we should transform that to Date format, in order to be useful. We could also create new columns just storing the year and the month, since the day or the exact date wont be necessary."
   ]
  },
  {
   "cell_type": "code",
   "execution_count": 28,
   "metadata": {},
   "outputs": [],
   "source": [
    "datetime=[]\n",
    "for element in reves_metadata[\"release_date\"]:\n",
    "    if type(element)==str:\n",
    "        date=pd.to_datetime(element, infer_datetime_format=True)\n",
    "        datetime.append(date)\n",
    "    else:\n",
    "        date=element\n",
    "        datetime.append(date)\n",
    "reves_metadata[\"datetime\"]=datetime       "
   ]
  },
  {
   "cell_type": "code",
   "execution_count": 31,
   "metadata": {},
   "outputs": [
    {
     "data": {
      "text/plain": [
       "pandas._libs.tslibs.timestamps.Timestamp"
      ]
     },
     "execution_count": 31,
     "metadata": {},
     "output_type": "execute_result"
    }
   ],
   "source": [
    "type(reves_metadata[\"datetime\"][5])"
   ]
  },
  {
   "cell_type": "code",
   "execution_count": 64,
   "metadata": {},
   "outputs": [
    {
     "data": {
      "text/plain": [
       "0   1995-10-30\n",
       "1   1995-12-15\n",
       "3   1995-12-22\n",
       "4   1995-02-10\n",
       "5   1995-12-15\n",
       "Name: datetime, dtype: datetime64[ns]"
      ]
     },
     "execution_count": 64,
     "metadata": {},
     "output_type": "execute_result"
    }
   ],
   "source": [
    "reves_metadata[\"datetime\"].head()"
   ]
  },
  {
   "cell_type": "markdown",
   "metadata": {},
   "source": [
    "Now we have a valid timestamp field for date"
   ]
  },
  {
   "cell_type": "markdown",
   "metadata": {},
   "source": [
    "#### 9. Runtime"
   ]
  },
  {
   "cell_type": "code",
   "execution_count": 32,
   "metadata": {
    "scrolled": false
   },
   "outputs": [
    {
     "data": {
      "text/plain": [
       "15894     80.0\n",
       "17342    107.0\n",
       "20314     90.0\n",
       "24702    104.0\n",
       "1244      87.0\n",
       "Name: runtime, dtype: float64"
      ]
     },
     "execution_count": 32,
     "metadata": {},
     "output_type": "execute_result"
    }
   ],
   "source": [
    "reves_metadata[\"runtime\"].sample(5)"
   ]
  },
  {
   "cell_type": "code",
   "execution_count": 36,
   "metadata": {
    "scrolled": true
   },
   "outputs": [
    {
     "name": "stdout",
     "output_type": "stream",
     "text": [
      "Maximum runtime is 338 days\n",
      "Minimun runtime is 0 days\n"
     ]
    }
   ],
   "source": [
    "print(\"Maximum runtime is %d days\"%(reves_metadata[\"runtime\"].max()))\n",
    "print(\"Minimun runtime is %d days\"%(reves_metadata[\"runtime\"].min()))"
   ]
  },
  {
   "cell_type": "markdown",
   "metadata": {},
   "source": [
    "Seems like runtime means how many days the movie has been running on cinemas. The min is 0, and that should mean that some movies have not been released. We should check if that's true, because if they have not been released, they shouldn't have revenue. "
   ]
  },
  {
   "cell_type": "code",
   "execution_count": 59,
   "metadata": {},
   "outputs": [
    {
     "name": "stdout",
     "output_type": "stream",
     "text": [
      "There are 21 movies with 0-day runtime\n",
      "21 of them have revenue greater than $0\n"
     ]
    }
   ],
   "source": [
    "not_released=reves_metadata[reves_metadata[\"runtime\"]<=0]\n",
    "print(\"There are %d movies with 0-day runtime\"%(len(not_released)))\n",
    "print(\"%d of them have revenue greater than $0\"%(len(not_released[not_released[\"revenue\"]>0])))"
   ]
  },
  {
   "cell_type": "markdown",
   "metadata": {},
   "source": [
    "Should we drop this movies?"
   ]
  },
  {
   "cell_type": "code",
   "execution_count": 60,
   "metadata": {},
   "outputs": [
    {
     "data": {
      "text/html": [
       "<div>\n",
       "<style scoped>\n",
       "    .dataframe tbody tr th:only-of-type {\n",
       "        vertical-align: middle;\n",
       "    }\n",
       "\n",
       "    .dataframe tbody tr th {\n",
       "        vertical-align: top;\n",
       "    }\n",
       "\n",
       "    .dataframe thead th {\n",
       "        text-align: right;\n",
       "    }\n",
       "</style>\n",
       "<table border=\"1\" class=\"dataframe\">\n",
       "  <thead>\n",
       "    <tr style=\"text-align: right;\">\n",
       "      <th></th>\n",
       "      <th>adult</th>\n",
       "      <th>belongs_to_collection</th>\n",
       "      <th>budget</th>\n",
       "      <th>genres</th>\n",
       "      <th>homepage</th>\n",
       "      <th>id</th>\n",
       "      <th>imdb_id</th>\n",
       "      <th>original_language</th>\n",
       "      <th>original_title</th>\n",
       "      <th>overview</th>\n",
       "      <th>...</th>\n",
       "      <th>revenue</th>\n",
       "      <th>runtime</th>\n",
       "      <th>spoken_languages</th>\n",
       "      <th>status</th>\n",
       "      <th>tagline</th>\n",
       "      <th>title</th>\n",
       "      <th>video</th>\n",
       "      <th>vote_average</th>\n",
       "      <th>vote_count</th>\n",
       "      <th>datetime</th>\n",
       "    </tr>\n",
       "  </thead>\n",
       "  <tbody>\n",
       "    <tr>\n",
       "      <th>28876</th>\n",
       "      <td>False</td>\n",
       "      <td>NaN</td>\n",
       "      <td>0</td>\n",
       "      <td>[]</td>\n",
       "      <td>NaN</td>\n",
       "      <td>94236</td>\n",
       "      <td>tt0108234</td>\n",
       "      <td>en</td>\n",
       "      <td>Street Knight</td>\n",
       "      <td>A former cop returns to challenge a plot to es...</td>\n",
       "      <td>...</td>\n",
       "      <td>841.0</td>\n",
       "      <td>0.0</td>\n",
       "      <td>[{'iso_639_1': 'en', 'name': 'English'}]</td>\n",
       "      <td>Released</td>\n",
       "      <td>NaN</td>\n",
       "      <td>Street Knight</td>\n",
       "      <td>False</td>\n",
       "      <td>7.0</td>\n",
       "      <td>5.0</td>\n",
       "      <td>1993-03-12</td>\n",
       "    </tr>\n",
       "    <tr>\n",
       "      <th>30039</th>\n",
       "      <td>False</td>\n",
       "      <td>NaN</td>\n",
       "      <td>336029</td>\n",
       "      <td>[{'id': 18, 'name': 'Drama'}, {'id': 35, 'name...</td>\n",
       "      <td>NaN</td>\n",
       "      <td>41703</td>\n",
       "      <td>tt1224449</td>\n",
       "      <td>ru</td>\n",
       "      <td>Плюс один</td>\n",
       "      <td>NaN</td>\n",
       "      <td>...</td>\n",
       "      <td>927277.0</td>\n",
       "      <td>0.0</td>\n",
       "      <td>[{'iso_639_1': 'en', 'name': 'English'}, {'iso...</td>\n",
       "      <td>Released</td>\n",
       "      <td>NaN</td>\n",
       "      <td>Plus one</td>\n",
       "      <td>False</td>\n",
       "      <td>4.0</td>\n",
       "      <td>6.0</td>\n",
       "      <td>2008-08-21</td>\n",
       "    </tr>\n",
       "    <tr>\n",
       "      <th>30194</th>\n",
       "      <td>False</td>\n",
       "      <td>{'id': 188197, 'name': 'Cetto La Qualunque - C...</td>\n",
       "      <td>5579750</td>\n",
       "      <td>[{'id': 35, 'name': 'Comedy'}]</td>\n",
       "      <td>NaN</td>\n",
       "      <td>161545</td>\n",
       "      <td>tt2456720</td>\n",
       "      <td>it</td>\n",
       "      <td>Tutto tutto niente niente</td>\n",
       "      <td>NaN</td>\n",
       "      <td>...</td>\n",
       "      <td>8927600.0</td>\n",
       "      <td>0.0</td>\n",
       "      <td>[{'iso_639_1': 'it', 'name': 'Italiano'}]</td>\n",
       "      <td>Released</td>\n",
       "      <td>NaN</td>\n",
       "      <td>Tutto tutto niente niente</td>\n",
       "      <td>False</td>\n",
       "      <td>4.8</td>\n",
       "      <td>54.0</td>\n",
       "      <td>2012-11-30</td>\n",
       "    </tr>\n",
       "    <tr>\n",
       "      <th>31068</th>\n",
       "      <td>False</td>\n",
       "      <td>NaN</td>\n",
       "      <td>2500000</td>\n",
       "      <td>[{'id': 18, 'name': 'Drama'}, {'id': 10769, 'n...</td>\n",
       "      <td>NaN</td>\n",
       "      <td>21905</td>\n",
       "      <td>tt0409527</td>\n",
       "      <td>en</td>\n",
       "      <td>Shabd</td>\n",
       "      <td>Shaukat, a writer suffering from writer's bloc...</td>\n",
       "      <td>...</td>\n",
       "      <td>3100000.0</td>\n",
       "      <td>0.0</td>\n",
       "      <td>[{'iso_639_1': 'hi', 'name': 'हिन्दी'}]</td>\n",
       "      <td>Released</td>\n",
       "      <td>NaN</td>\n",
       "      <td>Shabd</td>\n",
       "      <td>False</td>\n",
       "      <td>5.0</td>\n",
       "      <td>1.0</td>\n",
       "      <td>2005-02-04</td>\n",
       "    </tr>\n",
       "    <tr>\n",
       "      <th>31291</th>\n",
       "      <td>False</td>\n",
       "      <td>NaN</td>\n",
       "      <td>0</td>\n",
       "      <td>[{'id': 18, 'name': 'Drama'}]</td>\n",
       "      <td>NaN</td>\n",
       "      <td>143344</td>\n",
       "      <td>tt1190905</td>\n",
       "      <td>es</td>\n",
       "      <td>El truco del manco</td>\n",
       "      <td>NaN</td>\n",
       "      <td>...</td>\n",
       "      <td>404075.0</td>\n",
       "      <td>0.0</td>\n",
       "      <td>[{'iso_639_1': 'es', 'name': 'Español'}]</td>\n",
       "      <td>Released</td>\n",
       "      <td>NaN</td>\n",
       "      <td>El truco del manco</td>\n",
       "      <td>False</td>\n",
       "      <td>6.3</td>\n",
       "      <td>2.0</td>\n",
       "      <td>2008-11-07</td>\n",
       "    </tr>\n",
       "    <tr>\n",
       "      <th>31518</th>\n",
       "      <td>False</td>\n",
       "      <td>NaN</td>\n",
       "      <td>6843500</td>\n",
       "      <td>[{'id': 35, 'name': 'Comedy'}]</td>\n",
       "      <td>NaN</td>\n",
       "      <td>147868</td>\n",
       "      <td>tt2550838</td>\n",
       "      <td>it</td>\n",
       "      <td>Il peggior Natale della mia vita</td>\n",
       "      <td>NaN</td>\n",
       "      <td>...</td>\n",
       "      <td>10703234.0</td>\n",
       "      <td>0.0</td>\n",
       "      <td>[{'iso_639_1': 'it', 'name': 'Italiano'}]</td>\n",
       "      <td>Released</td>\n",
       "      <td>NaN</td>\n",
       "      <td>The Worst Christmas of My Life</td>\n",
       "      <td>False</td>\n",
       "      <td>5.5</td>\n",
       "      <td>86.0</td>\n",
       "      <td>2012-12-22</td>\n",
       "    </tr>\n",
       "    <tr>\n",
       "      <th>31526</th>\n",
       "      <td>False</td>\n",
       "      <td>NaN</td>\n",
       "      <td>11000000</td>\n",
       "      <td>[{'id': 35, 'name': 'Comedy'}]</td>\n",
       "      <td>NaN</td>\n",
       "      <td>77944</td>\n",
       "      <td>tt2076251</td>\n",
       "      <td>it</td>\n",
       "      <td>La peggior settimana della mia vita</td>\n",
       "      <td>NaN</td>\n",
       "      <td>...</td>\n",
       "      <td>12935800.0</td>\n",
       "      <td>0.0</td>\n",
       "      <td>[{'iso_639_1': 'it', 'name': 'Italiano'}]</td>\n",
       "      <td>Released</td>\n",
       "      <td>NaN</td>\n",
       "      <td>La peggior settimana della mia vita</td>\n",
       "      <td>False</td>\n",
       "      <td>5.9</td>\n",
       "      <td>96.0</td>\n",
       "      <td>2011-10-27</td>\n",
       "    </tr>\n",
       "    <tr>\n",
       "      <th>32684</th>\n",
       "      <td>False</td>\n",
       "      <td>NaN</td>\n",
       "      <td>0</td>\n",
       "      <td>[{'id': 35, 'name': 'Comedy'}]</td>\n",
       "      <td>NaN</td>\n",
       "      <td>217414</td>\n",
       "      <td>tt2604346</td>\n",
       "      <td>es</td>\n",
       "      <td>¿Quién mató a Bambi?</td>\n",
       "      <td>It tells the story of two young friends who mu...</td>\n",
       "      <td>...</td>\n",
       "      <td>850259.0</td>\n",
       "      <td>0.0</td>\n",
       "      <td>[{'iso_639_1': 'es', 'name': 'Español'}]</td>\n",
       "      <td>Released</td>\n",
       "      <td>NaN</td>\n",
       "      <td>¿Quién mató a Bambi?</td>\n",
       "      <td>False</td>\n",
       "      <td>5.7</td>\n",
       "      <td>22.0</td>\n",
       "      <td>2013-11-15</td>\n",
       "    </tr>\n",
       "    <tr>\n",
       "      <th>32958</th>\n",
       "      <td>False</td>\n",
       "      <td>NaN</td>\n",
       "      <td>0</td>\n",
       "      <td>[{'id': 35, 'name': 'Comedy'}]</td>\n",
       "      <td>NaN</td>\n",
       "      <td>315335</td>\n",
       "      <td>tt4216934</td>\n",
       "      <td>de</td>\n",
       "      <td>Frau Müller muss weg!</td>\n",
       "      <td>NaN</td>\n",
       "      <td>...</td>\n",
       "      <td>9127383.0</td>\n",
       "      <td>0.0</td>\n",
       "      <td>[{'iso_639_1': 'de', 'name': 'Deutsch'}]</td>\n",
       "      <td>Released</td>\n",
       "      <td>NaN</td>\n",
       "      <td>Frau Müller muss weg!</td>\n",
       "      <td>False</td>\n",
       "      <td>5.9</td>\n",
       "      <td>25.0</td>\n",
       "      <td>2015-01-15</td>\n",
       "    </tr>\n",
       "    <tr>\n",
       "      <th>33996</th>\n",
       "      <td>False</td>\n",
       "      <td>NaN</td>\n",
       "      <td>0</td>\n",
       "      <td>[{'id': 14, 'name': 'Fantasy'}, {'id': 27, 'na...</td>\n",
       "      <td>NaN</td>\n",
       "      <td>59095</td>\n",
       "      <td>tt0278675</td>\n",
       "      <td>fr</td>\n",
       "      <td>Revelation</td>\n",
       "      <td>Since A.D. 50, a mysterious sacred artifact kn...</td>\n",
       "      <td>...</td>\n",
       "      <td>10000000.0</td>\n",
       "      <td>0.0</td>\n",
       "      <td>[]</td>\n",
       "      <td>Released</td>\n",
       "      <td>NaN</td>\n",
       "      <td>Revelation</td>\n",
       "      <td>False</td>\n",
       "      <td>2.9</td>\n",
       "      <td>9.0</td>\n",
       "      <td>2001-04-12</td>\n",
       "    </tr>\n",
       "    <tr>\n",
       "      <th>34281</th>\n",
       "      <td>False</td>\n",
       "      <td>NaN</td>\n",
       "      <td>380000</td>\n",
       "      <td>[{'id': 35, 'name': 'Comedy'}]</td>\n",
       "      <td>https://en.wikipedia.org/wiki/Shikshanachya_Aa...</td>\n",
       "      <td>114564</td>\n",
       "      <td>tt2321513</td>\n",
       "      <td>en</td>\n",
       "      <td>Shikshanachya Aaicha Gho</td>\n",
       "      <td>Shikshanacha Aaicha Gho is a 2010 Indian Marat...</td>\n",
       "      <td>...</td>\n",
       "      <td>520000.0</td>\n",
       "      <td>0.0</td>\n",
       "      <td>[{'iso_639_1': 'mr', 'name': ''}]</td>\n",
       "      <td>Released</td>\n",
       "      <td>NaN</td>\n",
       "      <td>Shikshanachya Aaicha Gho</td>\n",
       "      <td>False</td>\n",
       "      <td>8.0</td>\n",
       "      <td>1.0</td>\n",
       "      <td>2010-01-15</td>\n",
       "    </tr>\n",
       "    <tr>\n",
       "      <th>34983</th>\n",
       "      <td>False</td>\n",
       "      <td>NaN</td>\n",
       "      <td>0</td>\n",
       "      <td>[{'id': 37, 'name': 'Western'}]</td>\n",
       "      <td>NaN</td>\n",
       "      <td>93708</td>\n",
       "      <td>tt0072785</td>\n",
       "      <td>it</td>\n",
       "      <td>Cipolla Colt</td>\n",
       "      <td>Onion Jack (Franco Nero) has bought a piece of...</td>\n",
       "      <td>...</td>\n",
       "      <td>39598448.0</td>\n",
       "      <td>0.0</td>\n",
       "      <td>[{'iso_639_1': 'en', 'name': 'English'}]</td>\n",
       "      <td>Released</td>\n",
       "      <td>NaN</td>\n",
       "      <td>Cry, Onion!</td>\n",
       "      <td>False</td>\n",
       "      <td>3.8</td>\n",
       "      <td>6.0</td>\n",
       "      <td>1975-08-25</td>\n",
       "    </tr>\n",
       "    <tr>\n",
       "      <th>35025</th>\n",
       "      <td>False</td>\n",
       "      <td>NaN</td>\n",
       "      <td>3800000</td>\n",
       "      <td>[{'id': 80, 'name': 'Crime'}, {'id': 18, 'name...</td>\n",
       "      <td>NaN</td>\n",
       "      <td>285908</td>\n",
       "      <td>tt0191076</td>\n",
       "      <td>fr</td>\n",
       "      <td>Le dernier souffle</td>\n",
       "      <td>NaN</td>\n",
       "      <td>...</td>\n",
       "      <td>559298.0</td>\n",
       "      <td>0.0</td>\n",
       "      <td>[{'iso_639_1': 'fr', 'name': 'Français'}]</td>\n",
       "      <td>Released</td>\n",
       "      <td>NaN</td>\n",
       "      <td>The Last Breath</td>\n",
       "      <td>False</td>\n",
       "      <td>4.0</td>\n",
       "      <td>2.0</td>\n",
       "      <td>1999-03-25</td>\n",
       "    </tr>\n",
       "    <tr>\n",
       "      <th>36640</th>\n",
       "      <td>False</td>\n",
       "      <td>NaN</td>\n",
       "      <td>0</td>\n",
       "      <td>[{'id': 10749, 'name': 'Romance'}, {'id': 18, ...</td>\n",
       "      <td>NaN</td>\n",
       "      <td>362812</td>\n",
       "      <td>tt0447890</td>\n",
       "      <td>en</td>\n",
       "      <td>Chaahat Ek Nasha...</td>\n",
       "      <td>Rashmi lives a wealthy lifestyle in India alon...</td>\n",
       "      <td>...</td>\n",
       "      <td>140.0</td>\n",
       "      <td>0.0</td>\n",
       "      <td>[{'iso_639_1': 'hi', 'name': 'हिन्दी'}]</td>\n",
       "      <td>Released</td>\n",
       "      <td>NaN</td>\n",
       "      <td>Chaahat Ek Nasha...</td>\n",
       "      <td>False</td>\n",
       "      <td>0.0</td>\n",
       "      <td>0.0</td>\n",
       "      <td>2005-02-11</td>\n",
       "    </tr>\n",
       "    <tr>\n",
       "      <th>42645</th>\n",
       "      <td>False</td>\n",
       "      <td>NaN</td>\n",
       "      <td>0</td>\n",
       "      <td>[{'id': 80, 'name': 'Crime'}, {'id': 18, 'name...</td>\n",
       "      <td>http://www.vt4.be/vermist</td>\n",
       "      <td>52623</td>\n",
       "      <td>tt1133617</td>\n",
       "      <td>en</td>\n",
       "      <td>Vermist</td>\n",
       "      <td>Five members of the Missing Persons Task Force...</td>\n",
       "      <td>...</td>\n",
       "      <td>1.0</td>\n",
       "      <td>0.0</td>\n",
       "      <td>[{'iso_639_1': 'nl', 'name': 'Nederlands'}]</td>\n",
       "      <td>Released</td>\n",
       "      <td>NaN</td>\n",
       "      <td>Missing</td>\n",
       "      <td>False</td>\n",
       "      <td>4.3</td>\n",
       "      <td>2.0</td>\n",
       "      <td>2007-01-01</td>\n",
       "    </tr>\n",
       "    <tr>\n",
       "      <th>43993</th>\n",
       "      <td>False</td>\n",
       "      <td>{'id': 106790, 'name': 'Hooked Collection', 'p...</td>\n",
       "      <td>3500000</td>\n",
       "      <td>[{'id': 28, 'name': 'Action'}, {'id': 878, 'na...</td>\n",
       "      <td>NaN</td>\n",
       "      <td>37851</td>\n",
       "      <td>tt1620549</td>\n",
       "      <td>ru</td>\n",
       "      <td>Na Igre 2. Novyy Uroven</td>\n",
       "      <td>The continuation of the adventures of the hero...</td>\n",
       "      <td>...</td>\n",
       "      <td>2294357.0</td>\n",
       "      <td>0.0</td>\n",
       "      <td>[{'iso_639_1': 'ru', 'name': 'Pусский'}]</td>\n",
       "      <td>Released</td>\n",
       "      <td>NaN</td>\n",
       "      <td>Hooked on the Game 2. The Next Level</td>\n",
       "      <td>False</td>\n",
       "      <td>5.1</td>\n",
       "      <td>14.0</td>\n",
       "      <td>2010-04-15</td>\n",
       "    </tr>\n",
       "    <tr>\n",
       "      <th>44103</th>\n",
       "      <td>False</td>\n",
       "      <td>NaN</td>\n",
       "      <td>5000000</td>\n",
       "      <td>[{'id': 28, 'name': 'Action'}, {'id': 10749, '...</td>\n",
       "      <td>NaN</td>\n",
       "      <td>63838</td>\n",
       "      <td>tt0477337</td>\n",
       "      <td>ru</td>\n",
       "      <td>Mechenosets</td>\n",
       "      <td>NaN</td>\n",
       "      <td>...</td>\n",
       "      <td>3919731.0</td>\n",
       "      <td>0.0</td>\n",
       "      <td>[{'iso_639_1': 'ru', 'name': 'Pусский'}]</td>\n",
       "      <td>Released</td>\n",
       "      <td>NaN</td>\n",
       "      <td>Mechenosets</td>\n",
       "      <td>False</td>\n",
       "      <td>5.6</td>\n",
       "      <td>7.0</td>\n",
       "      <td>2006-10-12</td>\n",
       "    </tr>\n",
       "    <tr>\n",
       "      <th>44115</th>\n",
       "      <td>False</td>\n",
       "      <td>NaN</td>\n",
       "      <td>0</td>\n",
       "      <td>[{'id': 18, 'name': 'Drama'}, {'id': 35, 'name...</td>\n",
       "      <td>NaN</td>\n",
       "      <td>197057</td>\n",
       "      <td>tt0768690</td>\n",
       "      <td>ru</td>\n",
       "      <td>А поутру они проснулись</td>\n",
       "      <td>NaN</td>\n",
       "      <td>...</td>\n",
       "      <td>234748.0</td>\n",
       "      <td>0.0</td>\n",
       "      <td>[{'iso_639_1': 'ru', 'name': 'Pусский'}]</td>\n",
       "      <td>Released</td>\n",
       "      <td>NaN</td>\n",
       "      <td>А поутру они проснулись</td>\n",
       "      <td>False</td>\n",
       "      <td>4.5</td>\n",
       "      <td>3.0</td>\n",
       "      <td>2003-12-04</td>\n",
       "    </tr>\n",
       "    <tr>\n",
       "      <th>44152</th>\n",
       "      <td>False</td>\n",
       "      <td>NaN</td>\n",
       "      <td>2500000</td>\n",
       "      <td>[]</td>\n",
       "      <td>NaN</td>\n",
       "      <td>69976</td>\n",
       "      <td>tt1620464</td>\n",
       "      <td>ru</td>\n",
       "      <td>Glukhar v kino</td>\n",
       "      <td>NaN</td>\n",
       "      <td>...</td>\n",
       "      <td>1477030.0</td>\n",
       "      <td>0.0</td>\n",
       "      <td>[{'iso_639_1': 'ru', 'name': 'Pусский'}]</td>\n",
       "      <td>Released</td>\n",
       "      <td>NaN</td>\n",
       "      <td>Glukhar v kino</td>\n",
       "      <td>False</td>\n",
       "      <td>5.9</td>\n",
       "      <td>4.0</td>\n",
       "      <td>2010-05-06</td>\n",
       "    </tr>\n",
       "    <tr>\n",
       "      <th>45063</th>\n",
       "      <td>False</td>\n",
       "      <td>NaN</td>\n",
       "      <td>0</td>\n",
       "      <td>[{'id': 10749, 'name': 'Romance'}]</td>\n",
       "      <td>NaN</td>\n",
       "      <td>290217</td>\n",
       "      <td>tt3956312</td>\n",
       "      <td>en</td>\n",
       "      <td>同桌的妳</td>\n",
       "      <td>In the summer of 1993, timid and shy Zhou Xiao...</td>\n",
       "      <td>...</td>\n",
       "      <td>76000000.0</td>\n",
       "      <td>0.0</td>\n",
       "      <td>[{'iso_639_1': 'zh', 'name': '普通话'}]</td>\n",
       "      <td>Released</td>\n",
       "      <td>NaN</td>\n",
       "      <td>My Old Classmate</td>\n",
       "      <td>False</td>\n",
       "      <td>6.0</td>\n",
       "      <td>4.0</td>\n",
       "      <td>2014-04-25</td>\n",
       "    </tr>\n",
       "    <tr>\n",
       "      <th>45399</th>\n",
       "      <td>False</td>\n",
       "      <td>NaN</td>\n",
       "      <td>750000</td>\n",
       "      <td>[{'id': 80, 'name': 'Crime'}, {'id': 35, 'name...</td>\n",
       "      <td>NaN</td>\n",
       "      <td>280422</td>\n",
       "      <td>tt3805180</td>\n",
       "      <td>ru</td>\n",
       "      <td>Все и сразу</td>\n",
       "      <td>NaN</td>\n",
       "      <td>...</td>\n",
       "      <td>3.0</td>\n",
       "      <td>0.0</td>\n",
       "      <td>[{'iso_639_1': 'ru', 'name': 'Pусский'}]</td>\n",
       "      <td>Released</td>\n",
       "      <td>NaN</td>\n",
       "      <td>All at Once</td>\n",
       "      <td>False</td>\n",
       "      <td>6.0</td>\n",
       "      <td>4.0</td>\n",
       "      <td>2014-06-05</td>\n",
       "    </tr>\n",
       "  </tbody>\n",
       "</table>\n",
       "<p>21 rows × 25 columns</p>\n",
       "</div>"
      ],
      "text/plain": [
       "       adult                              belongs_to_collection    budget  \\\n",
       "28876  False                                                NaN         0   \n",
       "30039  False                                                NaN    336029   \n",
       "30194  False  {'id': 188197, 'name': 'Cetto La Qualunque - C...   5579750   \n",
       "31068  False                                                NaN   2500000   \n",
       "31291  False                                                NaN         0   \n",
       "31518  False                                                NaN   6843500   \n",
       "31526  False                                                NaN  11000000   \n",
       "32684  False                                                NaN         0   \n",
       "32958  False                                                NaN         0   \n",
       "33996  False                                                NaN         0   \n",
       "34281  False                                                NaN    380000   \n",
       "34983  False                                                NaN         0   \n",
       "35025  False                                                NaN   3800000   \n",
       "36640  False                                                NaN         0   \n",
       "42645  False                                                NaN         0   \n",
       "43993  False  {'id': 106790, 'name': 'Hooked Collection', 'p...   3500000   \n",
       "44103  False                                                NaN   5000000   \n",
       "44115  False                                                NaN         0   \n",
       "44152  False                                                NaN   2500000   \n",
       "45063  False                                                NaN         0   \n",
       "45399  False                                                NaN    750000   \n",
       "\n",
       "                                                  genres  \\\n",
       "28876                                                 []   \n",
       "30039  [{'id': 18, 'name': 'Drama'}, {'id': 35, 'name...   \n",
       "30194                     [{'id': 35, 'name': 'Comedy'}]   \n",
       "31068  [{'id': 18, 'name': 'Drama'}, {'id': 10769, 'n...   \n",
       "31291                      [{'id': 18, 'name': 'Drama'}]   \n",
       "31518                     [{'id': 35, 'name': 'Comedy'}]   \n",
       "31526                     [{'id': 35, 'name': 'Comedy'}]   \n",
       "32684                     [{'id': 35, 'name': 'Comedy'}]   \n",
       "32958                     [{'id': 35, 'name': 'Comedy'}]   \n",
       "33996  [{'id': 14, 'name': 'Fantasy'}, {'id': 27, 'na...   \n",
       "34281                     [{'id': 35, 'name': 'Comedy'}]   \n",
       "34983                    [{'id': 37, 'name': 'Western'}]   \n",
       "35025  [{'id': 80, 'name': 'Crime'}, {'id': 18, 'name...   \n",
       "36640  [{'id': 10749, 'name': 'Romance'}, {'id': 18, ...   \n",
       "42645  [{'id': 80, 'name': 'Crime'}, {'id': 18, 'name...   \n",
       "43993  [{'id': 28, 'name': 'Action'}, {'id': 878, 'na...   \n",
       "44103  [{'id': 28, 'name': 'Action'}, {'id': 10749, '...   \n",
       "44115  [{'id': 18, 'name': 'Drama'}, {'id': 35, 'name...   \n",
       "44152                                                 []   \n",
       "45063                 [{'id': 10749, 'name': 'Romance'}]   \n",
       "45399  [{'id': 80, 'name': 'Crime'}, {'id': 35, 'name...   \n",
       "\n",
       "                                                homepage      id    imdb_id  \\\n",
       "28876                                                NaN   94236  tt0108234   \n",
       "30039                                                NaN   41703  tt1224449   \n",
       "30194                                                NaN  161545  tt2456720   \n",
       "31068                                                NaN   21905  tt0409527   \n",
       "31291                                                NaN  143344  tt1190905   \n",
       "31518                                                NaN  147868  tt2550838   \n",
       "31526                                                NaN   77944  tt2076251   \n",
       "32684                                                NaN  217414  tt2604346   \n",
       "32958                                                NaN  315335  tt4216934   \n",
       "33996                                                NaN   59095  tt0278675   \n",
       "34281  https://en.wikipedia.org/wiki/Shikshanachya_Aa...  114564  tt2321513   \n",
       "34983                                                NaN   93708  tt0072785   \n",
       "35025                                                NaN  285908  tt0191076   \n",
       "36640                                                NaN  362812  tt0447890   \n",
       "42645                          http://www.vt4.be/vermist   52623  tt1133617   \n",
       "43993                                                NaN   37851  tt1620549   \n",
       "44103                                                NaN   63838  tt0477337   \n",
       "44115                                                NaN  197057  tt0768690   \n",
       "44152                                                NaN   69976  tt1620464   \n",
       "45063                                                NaN  290217  tt3956312   \n",
       "45399                                                NaN  280422  tt3805180   \n",
       "\n",
       "      original_language                       original_title  \\\n",
       "28876                en                        Street Knight   \n",
       "30039                ru                            Плюс один   \n",
       "30194                it            Tutto tutto niente niente   \n",
       "31068                en                                Shabd   \n",
       "31291                es                   El truco del manco   \n",
       "31518                it     Il peggior Natale della mia vita   \n",
       "31526                it  La peggior settimana della mia vita   \n",
       "32684                es                 ¿Quién mató a Bambi?   \n",
       "32958                de                Frau Müller muss weg!   \n",
       "33996                fr                           Revelation   \n",
       "34281                en             Shikshanachya Aaicha Gho   \n",
       "34983                it                         Cipolla Colt   \n",
       "35025                fr                   Le dernier souffle   \n",
       "36640                en                  Chaahat Ek Nasha...   \n",
       "42645                en                              Vermist   \n",
       "43993                ru              Na Igre 2. Novyy Uroven   \n",
       "44103                ru                          Mechenosets   \n",
       "44115                ru              А поутру они проснулись   \n",
       "44152                ru                       Glukhar v kino   \n",
       "45063                en                                 同桌的妳   \n",
       "45399                ru                          Все и сразу   \n",
       "\n",
       "                                                overview    ...      \\\n",
       "28876  A former cop returns to challenge a plot to es...    ...       \n",
       "30039                                                NaN    ...       \n",
       "30194                                                NaN    ...       \n",
       "31068  Shaukat, a writer suffering from writer's bloc...    ...       \n",
       "31291                                                NaN    ...       \n",
       "31518                                                NaN    ...       \n",
       "31526                                                NaN    ...       \n",
       "32684  It tells the story of two young friends who mu...    ...       \n",
       "32958                                                NaN    ...       \n",
       "33996  Since A.D. 50, a mysterious sacred artifact kn...    ...       \n",
       "34281  Shikshanacha Aaicha Gho is a 2010 Indian Marat...    ...       \n",
       "34983  Onion Jack (Franco Nero) has bought a piece of...    ...       \n",
       "35025                                                NaN    ...       \n",
       "36640  Rashmi lives a wealthy lifestyle in India alon...    ...       \n",
       "42645  Five members of the Missing Persons Task Force...    ...       \n",
       "43993  The continuation of the adventures of the hero...    ...       \n",
       "44103                                                NaN    ...       \n",
       "44115                                                NaN    ...       \n",
       "44152                                                NaN    ...       \n",
       "45063  In the summer of 1993, timid and shy Zhou Xiao...    ...       \n",
       "45399                                                NaN    ...       \n",
       "\n",
       "          revenue runtime                                   spoken_languages  \\\n",
       "28876       841.0     0.0           [{'iso_639_1': 'en', 'name': 'English'}]   \n",
       "30039    927277.0     0.0  [{'iso_639_1': 'en', 'name': 'English'}, {'iso...   \n",
       "30194   8927600.0     0.0          [{'iso_639_1': 'it', 'name': 'Italiano'}]   \n",
       "31068   3100000.0     0.0            [{'iso_639_1': 'hi', 'name': 'हिन्दी'}]   \n",
       "31291    404075.0     0.0           [{'iso_639_1': 'es', 'name': 'Español'}]   \n",
       "31518  10703234.0     0.0          [{'iso_639_1': 'it', 'name': 'Italiano'}]   \n",
       "31526  12935800.0     0.0          [{'iso_639_1': 'it', 'name': 'Italiano'}]   \n",
       "32684    850259.0     0.0           [{'iso_639_1': 'es', 'name': 'Español'}]   \n",
       "32958   9127383.0     0.0           [{'iso_639_1': 'de', 'name': 'Deutsch'}]   \n",
       "33996  10000000.0     0.0                                                 []   \n",
       "34281    520000.0     0.0                  [{'iso_639_1': 'mr', 'name': ''}]   \n",
       "34983  39598448.0     0.0           [{'iso_639_1': 'en', 'name': 'English'}]   \n",
       "35025    559298.0     0.0          [{'iso_639_1': 'fr', 'name': 'Français'}]   \n",
       "36640       140.0     0.0            [{'iso_639_1': 'hi', 'name': 'हिन्दी'}]   \n",
       "42645         1.0     0.0        [{'iso_639_1': 'nl', 'name': 'Nederlands'}]   \n",
       "43993   2294357.0     0.0           [{'iso_639_1': 'ru', 'name': 'Pусский'}]   \n",
       "44103   3919731.0     0.0           [{'iso_639_1': 'ru', 'name': 'Pусский'}]   \n",
       "44115    234748.0     0.0           [{'iso_639_1': 'ru', 'name': 'Pусский'}]   \n",
       "44152   1477030.0     0.0           [{'iso_639_1': 'ru', 'name': 'Pусский'}]   \n",
       "45063  76000000.0     0.0               [{'iso_639_1': 'zh', 'name': '普通话'}]   \n",
       "45399         3.0     0.0           [{'iso_639_1': 'ru', 'name': 'Pусский'}]   \n",
       "\n",
       "         status tagline                                 title  video  \\\n",
       "28876  Released     NaN                         Street Knight  False   \n",
       "30039  Released     NaN                              Plus one  False   \n",
       "30194  Released     NaN             Tutto tutto niente niente  False   \n",
       "31068  Released     NaN                                 Shabd  False   \n",
       "31291  Released     NaN                    El truco del manco  False   \n",
       "31518  Released     NaN        The Worst Christmas of My Life  False   \n",
       "31526  Released     NaN   La peggior settimana della mia vita  False   \n",
       "32684  Released     NaN                  ¿Quién mató a Bambi?  False   \n",
       "32958  Released     NaN                 Frau Müller muss weg!  False   \n",
       "33996  Released     NaN                            Revelation  False   \n",
       "34281  Released     NaN              Shikshanachya Aaicha Gho  False   \n",
       "34983  Released     NaN                           Cry, Onion!  False   \n",
       "35025  Released     NaN                       The Last Breath  False   \n",
       "36640  Released     NaN                   Chaahat Ek Nasha...  False   \n",
       "42645  Released     NaN                               Missing  False   \n",
       "43993  Released     NaN  Hooked on the Game 2. The Next Level  False   \n",
       "44103  Released     NaN                           Mechenosets  False   \n",
       "44115  Released     NaN               А поутру они проснулись  False   \n",
       "44152  Released     NaN                        Glukhar v kino  False   \n",
       "45063  Released     NaN                      My Old Classmate  False   \n",
       "45399  Released     NaN                           All at Once  False   \n",
       "\n",
       "      vote_average vote_count   datetime  \n",
       "28876          7.0        5.0 1993-03-12  \n",
       "30039          4.0        6.0 2008-08-21  \n",
       "30194          4.8       54.0 2012-11-30  \n",
       "31068          5.0        1.0 2005-02-04  \n",
       "31291          6.3        2.0 2008-11-07  \n",
       "31518          5.5       86.0 2012-12-22  \n",
       "31526          5.9       96.0 2011-10-27  \n",
       "32684          5.7       22.0 2013-11-15  \n",
       "32958          5.9       25.0 2015-01-15  \n",
       "33996          2.9        9.0 2001-04-12  \n",
       "34281          8.0        1.0 2010-01-15  \n",
       "34983          3.8        6.0 1975-08-25  \n",
       "35025          4.0        2.0 1999-03-25  \n",
       "36640          0.0        0.0 2005-02-11  \n",
       "42645          4.3        2.0 2007-01-01  \n",
       "43993          5.1       14.0 2010-04-15  \n",
       "44103          5.6        7.0 2006-10-12  \n",
       "44115          4.5        3.0 2003-12-04  \n",
       "44152          5.9        4.0 2010-05-06  \n",
       "45063          6.0        4.0 2014-04-25  \n",
       "45399          6.0        4.0 2014-06-05  \n",
       "\n",
       "[21 rows x 25 columns]"
      ]
     },
     "execution_count": 60,
     "metadata": {},
     "output_type": "execute_result"
    }
   ],
   "source": [
    "not_released[not_released[\"revenue\"]>0]"
   ]
  },
  {
   "cell_type": "markdown",
   "metadata": {},
   "source": [
    "#### 10. Title"
   ]
  },
  {
   "cell_type": "code",
   "execution_count": 63,
   "metadata": {},
   "outputs": [
    {
     "data": {
      "text/plain": [
       "3744     The Naked Gun: From the Files of Police Squad!\n",
       "35100                                         Valentino\n",
       "6437                                   American Wedding\n",
       "15735                                           Machete\n",
       "43999                                Hooked on the Game\n",
       "40261                                     Wabash Avenue\n",
       "29337                            Paul Blart: Mall Cop 2\n",
       "16911               Diary of a Wimpy Kid: Rodrick Rules\n",
       "11777                                     The Invisible\n",
       "26567                        Captain America: Civil War\n",
       "Name: title, dtype: object"
      ]
     },
     "execution_count": 63,
     "metadata": {},
     "output_type": "execute_result"
    }
   ],
   "source": [
    "reves_metadata[\"title\"].sample(10)"
   ]
  },
  {
   "cell_type": "markdown",
   "metadata": {
    "collapsed": true
   },
   "source": [
    "Title data seems to be ok!"
   ]
  },
  {
   "cell_type": "markdown",
   "metadata": {},
   "source": [
    "#### 11. Redefining our final DataFrame"
   ]
  },
  {
   "cell_type": "markdown",
   "metadata": {},
   "source": [
    "Now that we have explored the data, now we have to clean our DataSet and prepare a final DataFrame just with the info and the transformed columns that we need to create our model. We should drop the columns that aren't valuable, and make new dummie columns."
   ]
  },
  {
   "cell_type": "code",
   "execution_count": 66,
   "metadata": {
    "scrolled": true
   },
   "outputs": [
    {
     "data": {
      "text/plain": [
       "(7408, 25)"
      ]
     },
     "execution_count": 66,
     "metadata": {},
     "output_type": "execute_result"
    }
   ],
   "source": [
    "reves_metadata.shape"
   ]
  },
  {
   "cell_type": "code",
   "execution_count": 67,
   "metadata": {},
   "outputs": [
    {
     "data": {
      "text/plain": [
       "Index(['adult', 'belongs_to_collection', 'budget', 'genres', 'homepage', 'id',\n",
       "       'imdb_id', 'original_language', 'original_title', 'overview',\n",
       "       'popularity', 'poster_path', 'production_companies',\n",
       "       'production_countries', 'release_date', 'revenue', 'runtime',\n",
       "       'spoken_languages', 'status', 'tagline', 'title', 'video',\n",
       "       'vote_average', 'vote_count', 'datetime'],\n",
       "      dtype='object')"
      ]
     },
     "execution_count": 67,
     "metadata": {},
     "output_type": "execute_result"
    }
   ],
   "source": [
    "reves_metadata.columns"
   ]
  },
  {
   "cell_type": "markdown",
   "metadata": {},
   "source": [
    "After all the transformations, we have a new DataFrame with 7408 rows and 25 columns."
   ]
  },
  {
   "cell_type": "markdown",
   "metadata": {},
   "source": [
    "One group of variables that we need for each movie id are those related to the genres. We need to create a new column for each of the 20 genres, and use 0 or 1 values to show if that movie has that genre associated"
   ]
  },
  {
   "cell_type": "code",
   "execution_count": null,
   "metadata": {},
   "outputs": [],
   "source": []
  }
 ],
 "metadata": {
  "kernelspec": {
   "display_name": "Python 3",
   "language": "python",
   "name": "python3"
  },
  "language_info": {
   "codemirror_mode": {
    "name": "ipython",
    "version": 3
   },
   "file_extension": ".py",
   "mimetype": "text/x-python",
   "name": "python",
   "nbconvert_exporter": "python",
   "pygments_lexer": "ipython3",
   "version": "3.6.5"
  }
 },
 "nbformat": 4,
 "nbformat_minor": 2
}
