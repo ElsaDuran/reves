{
 "cells": [
  {
   "cell_type": "markdown",
   "metadata": {},
   "source": [
    "# Getting familiar with Movies_Metadata File"
   ]
  },
  {
   "cell_type": "markdown",
   "metadata": {},
   "source": [
    "Reload dataset"
   ]
  },
  {
   "cell_type": "code",
   "execution_count": 275,
   "metadata": {},
   "outputs": [
    {
     "name": "stdout",
     "output_type": "stream",
     "text": [
      "(7408, 24)\n",
      "Index(['adult', 'belongs_to_collection', 'budget', 'genres', 'homepage', 'id',\n",
      "       'imdb_id', 'original_language', 'original_title', 'overview',\n",
      "       'popularity', 'poster_path', 'production_companies',\n",
      "       'production_countries', 'release_date', 'revenue', 'runtime',\n",
      "       'spoken_languages', 'status', 'tagline', 'title', 'video',\n",
      "       'vote_average', 'vote_count'],\n",
      "      dtype='object')\n"
     ]
    }
   ],
   "source": [
    "path=\"C:/Users/Elsa/OneDrive/master/03_reve/data/\"\n",
    "metadata_file=\"movies_metadata.csv\"\n",
    "metadata=pd.read_csv(path+metadata_file,low_memory=False)\n",
    "reves_metadata=metadata[metadata[\"revenue\"]>0]\n",
    "print(reves_metadata.shape)\n",
    "print(reves_metadata.columns)"
   ]
  },
  {
   "cell_type": "code",
   "execution_count": null,
   "metadata": {},
   "outputs": [],
   "source": []
  },
  {
   "cell_type": "code",
   "execution_count": null,
   "metadata": {},
   "outputs": [],
   "source": []
  },
  {
   "cell_type": "markdown",
   "metadata": {},
   "source": [
    "#### Loading libraries and data"
   ]
  },
  {
   "cell_type": "code",
   "execution_count": 1,
   "metadata": {},
   "outputs": [],
   "source": [
    "import pandas as pd\n",
    "import numpy as np\n",
    "import matplotlib as plt"
   ]
  },
  {
   "cell_type": "code",
   "execution_count": 2,
   "metadata": {},
   "outputs": [],
   "source": [
    "#Set the path to the data files\n",
    "path=\"C:/Users/Elsa/OneDrive/master/03_reve/data/\"\n",
    "metadata_file=\"movies_metadata.csv\""
   ]
  },
  {
   "cell_type": "code",
   "execution_count": 3,
   "metadata": {},
   "outputs": [],
   "source": [
    "metadata=pd.read_csv(path+metadata_file,low_memory=False)\n",
    "#The reason you get this low_memory warning is because guessing dtypes for each column is very memory demanding. \n",
    "#Pandas tries to determine what dtype to set by analyzing the data in each column"
   ]
  },
  {
   "cell_type": "markdown",
   "metadata": {},
   "source": [
    "#### Analyzing what we have"
   ]
  },
  {
   "cell_type": "code",
   "execution_count": 4,
   "metadata": {
    "scrolled": true
   },
   "outputs": [
    {
     "name": "stdout",
     "output_type": "stream",
     "text": [
      "<class 'pandas.core.frame.DataFrame'>\n",
      "(45466, 24)\n",
      "Index(['adult', 'belongs_to_collection', 'budget', 'genres', 'homepage', 'id',\n",
      "       'imdb_id', 'original_language', 'original_title', 'overview',\n",
      "       'popularity', 'poster_path', 'production_companies',\n",
      "       'production_countries', 'release_date', 'revenue', 'runtime',\n",
      "       'spoken_languages', 'status', 'tagline', 'title', 'video',\n",
      "       'vote_average', 'vote_count'],\n",
      "      dtype='object')\n"
     ]
    }
   ],
   "source": [
    "print(type(metadata))\n",
    "print(metadata.shape)\n",
    "print(metadata.columns)"
   ]
  },
  {
   "cell_type": "markdown",
   "metadata": {},
   "source": [
    "We have a 45466 row DataFrame, with 24 columns or variables. At first sight, we are interested in the following columns\n",
    "- Id\n",
    "- Belongs to collection\n",
    "- Budget\n",
    "- Genres\n",
    "- Popularity\n",
    "- Production companies\n",
    "- Production countries\n",
    "- Release date\n",
    "- **Revenue**\n",
    "- Runtime\n",
    "- Title\n"
   ]
  },
  {
   "cell_type": "code",
   "execution_count": 5,
   "metadata": {},
   "outputs": [
    {
     "name": "stdout",
     "output_type": "stream",
     "text": [
      "<class 'pandas.core.frame.DataFrame'>\n",
      "RangeIndex: 45466 entries, 0 to 45465\n",
      "Data columns (total 24 columns):\n",
      "adult                    45466 non-null object\n",
      "belongs_to_collection    4494 non-null object\n",
      "budget                   45466 non-null object\n",
      "genres                   45466 non-null object\n",
      "homepage                 7782 non-null object\n",
      "id                       45466 non-null object\n",
      "imdb_id                  45449 non-null object\n",
      "original_language        45455 non-null object\n",
      "original_title           45466 non-null object\n",
      "overview                 44512 non-null object\n",
      "popularity               45461 non-null object\n",
      "poster_path              45080 non-null object\n",
      "production_companies     45463 non-null object\n",
      "production_countries     45463 non-null object\n",
      "release_date             45379 non-null object\n",
      "revenue                  45460 non-null float64\n",
      "runtime                  45203 non-null float64\n",
      "spoken_languages         45460 non-null object\n",
      "status                   45379 non-null object\n",
      "tagline                  20412 non-null object\n",
      "title                    45460 non-null object\n",
      "video                    45460 non-null object\n",
      "vote_average             45460 non-null float64\n",
      "vote_count               45460 non-null float64\n",
      "dtypes: float64(4), object(20)\n",
      "memory usage: 8.3+ MB\n"
     ]
    }
   ],
   "source": [
    "metadata.info()"
   ]
  },
  {
   "cell_type": "code",
   "execution_count": 6,
   "metadata": {},
   "outputs": [
    {
     "data": {
      "text/plain": [
       "adult                        0\n",
       "belongs_to_collection    40972\n",
       "budget                       0\n",
       "genres                       0\n",
       "homepage                 37684\n",
       "id                           0\n",
       "imdb_id                     17\n",
       "original_language           11\n",
       "original_title               0\n",
       "overview                   954\n",
       "popularity                   5\n",
       "poster_path                386\n",
       "production_companies         3\n",
       "production_countries         3\n",
       "release_date                87\n",
       "revenue                      6\n",
       "runtime                    263\n",
       "spoken_languages             6\n",
       "status                      87\n",
       "tagline                  25054\n",
       "title                        6\n",
       "video                        6\n",
       "vote_average                 6\n",
       "vote_count                   6\n",
       "dtype: int64"
      ]
     },
     "execution_count": 6,
     "metadata": {},
     "output_type": "execute_result"
    }
   ],
   "source": [
    "metadata.isnull().sum()"
   ]
  },
  {
   "cell_type": "code",
   "execution_count": 7,
   "metadata": {
    "scrolled": true
   },
   "outputs": [],
   "source": [
    "#print (metadata[pd.to_numeric(metadata['id'], errors='coerce').isnull()])"
   ]
  },
  {
   "cell_type": "markdown",
   "metadata": {},
   "source": [
    "Apparently, seems like there are no null, but let's take a deeper look at each column"
   ]
  },
  {
   "cell_type": "code",
   "execution_count": 8,
   "metadata": {
    "scrolled": true
   },
   "outputs": [
    {
     "data": {
      "text/plain": [
       "adult                     object\n",
       "belongs_to_collection     object\n",
       "budget                    object\n",
       "genres                    object\n",
       "homepage                  object\n",
       "id                        object\n",
       "imdb_id                   object\n",
       "original_language         object\n",
       "original_title            object\n",
       "overview                  object\n",
       "popularity                object\n",
       "poster_path               object\n",
       "production_companies      object\n",
       "production_countries      object\n",
       "release_date              object\n",
       "revenue                  float64\n",
       "runtime                  float64\n",
       "spoken_languages          object\n",
       "status                    object\n",
       "tagline                   object\n",
       "title                     object\n",
       "video                     object\n",
       "vote_average             float64\n",
       "vote_count               float64\n",
       "dtype: object"
      ]
     },
     "execution_count": 8,
     "metadata": {},
     "output_type": "execute_result"
    }
   ],
   "source": [
    "metadata[metadata.columns].dtypes"
   ]
  },
  {
   "cell_type": "markdown",
   "metadata": {},
   "source": [
    "- Budget should be numeric\n",
    "- Belongs_to_collection should be bool\n",
    "- Id should be numeric"
   ]
  },
  {
   "cell_type": "markdown",
   "metadata": {},
   "source": [
    "#### 0. Id"
   ]
  },
  {
   "cell_type": "markdown",
   "metadata": {},
   "source": [
    "This will be the Key to join the different dataframes analyzed in this project. As we have established before, there are no missing values for this key-column, but type is wrong because it shouldn't be object but numeric. "
   ]
  },
  {
   "cell_type": "code",
   "execution_count": 9,
   "metadata": {},
   "outputs": [],
   "source": [
    "metadata[\"id\"] =pd.to_numeric(metadata['id'], errors='coerce',downcast=\"integer\")"
   ]
  },
  {
   "cell_type": "code",
   "execution_count": 10,
   "metadata": {
    "scrolled": true
   },
   "outputs": [
    {
     "data": {
      "text/plain": [
       "dtype('float64')"
      ]
     },
     "execution_count": 10,
     "metadata": {},
     "output_type": "execute_result"
    }
   ],
   "source": [
    "metadata[\"id\"].dtype"
   ]
  },
  {
   "cell_type": "markdown",
   "metadata": {},
   "source": [
    "#### 1. Revenue"
   ]
  },
  {
   "cell_type": "code",
   "execution_count": 11,
   "metadata": {
    "scrolled": false
   },
   "outputs": [
    {
     "data": {
      "text/plain": [
       "count    4.546000e+04\n",
       "mean     1.120935e+07\n",
       "std      6.433225e+07\n",
       "min      0.000000e+00\n",
       "25%      0.000000e+00\n",
       "50%      0.000000e+00\n",
       "75%      0.000000e+00\n",
       "max      2.787965e+09\n",
       "Name: revenue, dtype: float64"
      ]
     },
     "execution_count": 11,
     "metadata": {},
     "output_type": "execute_result"
    }
   ],
   "source": [
    "metadata[\"revenue\"].describe()"
   ]
  },
  {
   "cell_type": "code",
   "execution_count": 12,
   "metadata": {},
   "outputs": [
    {
     "data": {
      "text/plain": [
       "6"
      ]
     },
     "execution_count": 12,
     "metadata": {},
     "output_type": "execute_result"
    }
   ],
   "source": [
    "metadata[\"revenue\"].isnull().sum()"
   ]
  },
  {
   "cell_type": "markdown",
   "metadata": {},
   "source": [
    "The whole ponint to our model is being able to predict a movie revenue, so, this column is essential for this project. That's why the first thing we should do is find out how many movies do we have that actually have a registered value for the revenue. If this value is null, we will have to drop those rows.\n",
    "\n",
    "As we found out in the previous cell, and also checked at metadata's stats, there are 6 null values in Revenue. Furthermore, we ought to check if we have values worth $0 revenue, because they'd be like null for us. "
   ]
  },
  {
   "cell_type": "code",
   "execution_count": 13,
   "metadata": {},
   "outputs": [
    {
     "data": {
      "text/plain": [
       "(7408, 24)"
      ]
     },
     "execution_count": 13,
     "metadata": {},
     "output_type": "execute_result"
    }
   ],
   "source": [
    "metadata[metadata[\"revenue\"]>0].shape"
   ]
  },
  {
   "cell_type": "markdown",
   "metadata": {},
   "source": [
    "Out of 45466 movies, there are only 7408 rows with revenue metadata. We are going to create a new dataframe containing only the movies with revenue information, since it's essencial for our model. From now on, we would be using this new dataframe named \"reves_metadata\"."
   ]
  },
  {
   "cell_type": "code",
   "execution_count": 14,
   "metadata": {},
   "outputs": [],
   "source": [
    "reves_metadata=metadata[metadata[\"revenue\"]>0]"
   ]
  },
  {
   "cell_type": "code",
   "execution_count": 15,
   "metadata": {
    "scrolled": true
   },
   "outputs": [
    {
     "name": "stdout",
     "output_type": "stream",
     "text": [
      "(7408, 24)\n",
      "Index(['adult', 'belongs_to_collection', 'budget', 'genres', 'homepage', 'id',\n",
      "       'imdb_id', 'original_language', 'original_title', 'overview',\n",
      "       'popularity', 'poster_path', 'production_companies',\n",
      "       'production_countries', 'release_date', 'revenue', 'runtime',\n",
      "       'spoken_languages', 'status', 'tagline', 'title', 'video',\n",
      "       'vote_average', 'vote_count'],\n",
      "      dtype='object')\n"
     ]
    }
   ],
   "source": [
    "print(reves_metadata.shape)\n",
    "print(reves_metadata.columns)"
   ]
  },
  {
   "cell_type": "markdown",
   "metadata": {},
   "source": [
    "The new file has 7408 rows with the same 24 columns"
   ]
  },
  {
   "cell_type": "code",
   "execution_count": 16,
   "metadata": {},
   "outputs": [
    {
     "name": "stdout",
     "output_type": "stream",
     "text": [
      "count    7.408000e+03\n",
      "mean     6.878739e+07\n",
      "std      1.464203e+08\n",
      "min      1.000000e+00\n",
      "25%      2.400000e+06\n",
      "50%      1.682272e+07\n",
      "75%      6.722707e+07\n",
      "max      2.787965e+09\n",
      "Name: revenue, dtype: float64\n",
      "-----\n",
      "There are 0 null values in revenue column in this new dataframe\n"
     ]
    }
   ],
   "source": [
    "print(reves_metadata[\"revenue\"].describe())\n",
    "print(\"-----\")\n",
    "print(\"There are %d null values in revenue column in this new dataframe\" % (reves_metadata[\"revenue\"].isnull().sum()))"
   ]
  },
  {
   "cell_type": "markdown",
   "metadata": {},
   "source": [
    "Now let's check some random values. They seem like reasonable numbers for a movie revenue, don't they?"
   ]
  },
  {
   "cell_type": "code",
   "execution_count": 17,
   "metadata": {
    "scrolled": true
   },
   "outputs": [
    {
     "data": {
      "text/plain": [
       "10760     17496992.0\n",
       "41049      4073489.0\n",
       "38222         7636.0\n",
       "39920    125729635.0\n",
       "38189     14397593.0\n",
       "13122     28814580.0\n",
       "3101      29381956.0\n",
       "43057     26800152.0\n",
       "6628      10000000.0\n",
       "3476       1568749.0\n",
       "Name: revenue, dtype: float64"
      ]
     },
     "execution_count": 17,
     "metadata": {},
     "output_type": "execute_result"
    }
   ],
   "source": [
    "reves_metadata[\"revenue\"].sample(10)"
   ]
  },
  {
   "cell_type": "markdown",
   "metadata": {},
   "source": [
    "#### 2. Belongs to Collection"
   ]
  },
  {
   "cell_type": "code",
   "execution_count": 46,
   "metadata": {
    "scrolled": true
   },
   "outputs": [
    {
     "data": {
      "text/plain": [
       "0     {'id': 10194, 'name': 'Toy Story Collection', ...\n",
       "1                                                   NaN\n",
       "3                                                   NaN\n",
       "4     {'id': 96871, 'name': 'Father of the Bride Col...\n",
       "5                                                   NaN\n",
       "8                                                   NaN\n",
       "9     {'id': 645, 'name': 'James Bond Collection', '...\n",
       "10                                                  NaN\n",
       "12    {'id': 117693, 'name': 'Balto Collection', 'po...\n",
       "13                                                  NaN\n",
       "Name: belongs_to_collection, dtype: object"
      ]
     },
     "execution_count": 46,
     "metadata": {},
     "output_type": "execute_result"
    }
   ],
   "source": [
    "reves_metadata[\"belongs_to_collection\"].head(10)"
   ]
  },
  {
   "cell_type": "markdown",
   "metadata": {},
   "source": [
    "It seems that this column contains 2 different types of values: \n",
    "\n",
    "- If, indeed, the movie belongs to a series or a collection, the row contains a dict with the Id and the Name of that collection. \n",
    "- Otherwise, if the movie does not belong to a collection, the value is NaN. \n",
    "\n",
    "For our model, the valuable information is to know whether a movie belongs to a collection or not, because our assumption is that if it does, the expected revenue could be higher. \n",
    "\n",
    "Values different from NaN mean that they actually belong to a collection, so this could be simplified if translated into a dummie column where 0 means \"Doesn't belong to collection\" and 1 \"Does belong to a collection\". \n",
    "\n",
    "We will also create a  new column named \"Collection info\" with the id of the collection, in order to use it in the future if necessary. "
   ]
  },
  {
   "cell_type": "code",
   "execution_count": 47,
   "metadata": {
    "scrolled": true
   },
   "outputs": [
    {
     "data": {
      "text/plain": [
       "str"
      ]
     },
     "execution_count": 47,
     "metadata": {},
     "output_type": "execute_result"
    }
   ],
   "source": [
    "type(reves_metadata[\"belongs_to_collection\"][0])"
   ]
  },
  {
   "cell_type": "markdown",
   "metadata": {},
   "source": [
    "reves_metadata[\"belongs_to_collection\"]=reves_metadata[\"belongs_to_collection\"].replace(np.nan,\"0\")\n",
    "reves_metadata[\"belongs_to_collection\"].head(5)"
   ]
  },
  {
   "cell_type": "code",
   "execution_count": 48,
   "metadata": {},
   "outputs": [
    {
     "data": {
      "text/plain": [
       "\"{'id': 10194, 'name': 'Toy Story Collection', 'poster_path': '/7G9915LfUQ2lVfwMEEhDsn3kT4B.jpg', 'backdrop_path': '/9FBwqcd9IRruEDUrTdcaafOMKUq.jpg'}\""
      ]
     },
     "execution_count": 48,
     "metadata": {},
     "output_type": "execute_result"
    }
   ],
   "source": [
    "reves_metadata[\"belongs_to_collection\"][0]"
   ]
  },
  {
   "cell_type": "code",
   "execution_count": 49,
   "metadata": {},
   "outputs": [
    {
     "data": {
      "text/plain": [
       "str"
      ]
     },
     "execution_count": 49,
     "metadata": {},
     "output_type": "execute_result"
    }
   ],
   "source": [
    "type(reves_metadata[\"belongs_to_collection\"][0])"
   ]
  },
  {
   "cell_type": "code",
   "execution_count": 50,
   "metadata": {},
   "outputs": [
    {
     "data": {
      "text/plain": [
       "nan"
      ]
     },
     "execution_count": 50,
     "metadata": {},
     "output_type": "execute_result"
    }
   ],
   "source": [
    "reves_metadata[\"belongs_to_collection\"][1]"
   ]
  },
  {
   "cell_type": "code",
   "execution_count": 51,
   "metadata": {},
   "outputs": [
    {
     "data": {
      "text/plain": [
       "float"
      ]
     },
     "execution_count": 51,
     "metadata": {},
     "output_type": "execute_result"
    }
   ],
   "source": [
    "type(reves_metadata[\"belongs_to_collection\"][1])"
   ]
  },
  {
   "cell_type": "code",
   "execution_count": null,
   "metadata": {},
   "outputs": [],
   "source": []
  },
  {
   "cell_type": "code",
   "execution_count": null,
   "metadata": {},
   "outputs": [],
   "source": []
  },
  {
   "cell_type": "code",
   "execution_count": null,
   "metadata": {},
   "outputs": [],
   "source": []
  },
  {
   "cell_type": "code",
   "execution_count": 58,
   "metadata": {},
   "outputs": [],
   "source": [
    "for element in reves_metadata[\"belongs_to_collection\"]:\n",
    "    if type(element) == float:\n",
    "        element==\"0\"\n",
    "    elif type(element)== str:\n",
    "        element==\"1\"\n",
    "        #reves_metadata[\"belongs_to_collection\"][element].replace(element,\"1\")"
   ]
  },
  {
   "cell_type": "code",
   "execution_count": 59,
   "metadata": {},
   "outputs": [
    {
     "data": {
      "text/plain": [
       "0    {'id': 10194, 'name': 'Toy Story Collection', ...\n",
       "1                                                  NaN\n",
       "3                                                  NaN\n",
       "4    {'id': 96871, 'name': 'Father of the Bride Col...\n",
       "5                                                  NaN\n",
       "Name: belongs_to_collection, dtype: object"
      ]
     },
     "execution_count": 59,
     "metadata": {},
     "output_type": "execute_result"
    }
   ],
   "source": [
    "reves_metadata[\"belongs_to_collection\"].head(5)"
   ]
  },
  {
   "cell_type": "code",
   "execution_count": 30,
   "metadata": {},
   "outputs": [
    {
     "data": {
      "text/plain": [
       "float"
      ]
     },
     "execution_count": 30,
     "metadata": {},
     "output_type": "execute_result"
    }
   ],
   "source": [
    "type(reves_metadata[\"belongs_to_collection\"][1])"
   ]
  },
  {
   "cell_type": "markdown",
   "metadata": {},
   "source": [
    "We have different type of data in this Pandas Series:\n",
    "- Dict values --> str\n",
    "- NaN values --> float"
   ]
  },
  {
   "cell_type": "code",
   "execution_count": 15,
   "metadata": {
    "scrolled": false
   },
   "outputs": [
    {
     "name": "stderr",
     "output_type": "stream",
     "text": [
      "C:\\Users\\elsad\\Anaconda3\\lib\\site-packages\\ipykernel_launcher.py:1: SettingWithCopyWarning: \n",
      "A value is trying to be set on a copy of a slice from a DataFrame.\n",
      "Try using .loc[row_indexer,col_indexer] = value instead\n",
      "\n",
      "See the caveats in the documentation: http://pandas.pydata.org/pandas-docs/stable/indexing.html#indexing-view-versus-copy\n",
      "  \"\"\"Entry point for launching an IPython kernel.\n"
     ]
    }
   ],
   "source": [
    "reves_metadata[\"collection\"]=reves_metadata[\"belongs_to_collection\"].copy()"
   ]
  },
  {
   "cell_type": "code",
   "execution_count": 28,
   "metadata": {},
   "outputs": [
    {
     "data": {
      "text/plain": [
       "nan"
      ]
     },
     "execution_count": 28,
     "metadata": {},
     "output_type": "execute_result"
    }
   ],
   "source": [
    "reves_metadata[\"belongs_to_collection\"][1]"
   ]
  },
  {
   "cell_type": "code",
   "execution_count": null,
   "metadata": {
    "scrolled": true
   },
   "outputs": [
    {
     "name": "stderr",
     "output_type": "stream",
     "text": [
      "C:\\Users\\elsad\\Anaconda3\\lib\\site-packages\\ipykernel_launcher.py:2: SettingWithCopyWarning: \n",
      "A value is trying to be set on a copy of a slice from a DataFrame\n",
      "\n",
      "See the caveats in the documentation: http://pandas.pydata.org/pandas-docs/stable/indexing.html#indexing-view-versus-copy\n",
      "  \n",
      "C:\\Users\\elsad\\Anaconda3\\lib\\site-packages\\IPython\\core\\interactiveshell.py:2862: SettingWithCopyWarning: \n",
      "A value is trying to be set on a copy of a slice from a DataFrame\n",
      "\n",
      "See the caveats in the documentation: http://pandas.pydata.org/pandas-docs/stable/indexing.html#indexing-view-versus-copy\n",
      "  exec(code_obj, self.user_global_ns, self.user_ns)\n"
     ]
    },
    {
     "name": "stdout",
     "output_type": "stream",
     "text": [
      "1\n",
      "0\n",
      "0\n",
      "1\n",
      "0\n",
      "0\n",
      "1\n",
      "0\n",
      "1\n",
      "0\n",
      "0\n",
      "0\n",
      "0\n",
      "0\n",
      "1\n",
      "0\n",
      "1\n",
      "0\n",
      "0\n",
      "0\n",
      "0\n",
      "0\n",
      "0\n",
      "1\n",
      "0\n",
      "0\n",
      "1\n",
      "0\n",
      "0\n",
      "0\n",
      "1\n",
      "0\n",
      "0\n",
      "0\n",
      "0\n",
      "1\n",
      "1\n",
      "1\n",
      "0\n",
      "0\n",
      "0\n",
      "0\n",
      "1\n",
      "0\n",
      "0\n",
      "0\n",
      "0\n",
      "0\n",
      "0\n",
      "0\n",
      "0\n",
      "0\n",
      "0\n",
      "1\n",
      "0\n",
      "0\n",
      "0\n",
      "0\n",
      "0\n",
      "0\n",
      "0\n",
      "0\n",
      "0\n",
      "0\n",
      "1\n",
      "0\n",
      "0\n",
      "0\n",
      "1\n",
      "1\n",
      "0\n",
      "1\n",
      "0\n",
      "0\n",
      "0\n",
      "0\n",
      "1\n",
      "0\n",
      "1\n",
      "0\n",
      "0\n",
      "0\n",
      "0\n",
      "0\n",
      "0\n",
      "0\n",
      "0\n",
      "0\n",
      "1\n",
      "0\n",
      "1\n",
      "0\n",
      "0\n",
      "1\n",
      "0\n",
      "1\n",
      "1\n",
      "0\n",
      "1\n",
      "0\n",
      "0\n",
      "0\n",
      "0\n",
      "0\n",
      "1\n",
      "0\n",
      "0\n",
      "1\n",
      "0\n",
      "1\n",
      "0\n",
      "0\n",
      "1\n",
      "0\n",
      "0\n",
      "1\n",
      "0\n",
      "0\n",
      "0\n",
      "1\n",
      "0\n",
      "0\n",
      "0\n",
      "0\n",
      "0\n",
      "0\n",
      "1\n",
      "0\n",
      "0\n",
      "1\n",
      "0\n",
      "0\n",
      "0\n",
      "0\n",
      "0\n",
      "0\n",
      "0\n",
      "0\n",
      "0\n",
      "0\n",
      "1\n",
      "0\n",
      "0\n",
      "0\n",
      "0\n",
      "0\n",
      "0\n",
      "0\n",
      "0\n",
      "0\n",
      "0\n",
      "1\n",
      "0\n",
      "0\n",
      "1\n",
      "0\n",
      "0\n",
      "0\n",
      "1\n",
      "0\n",
      "0\n",
      "0\n",
      "0\n",
      "0\n",
      "0\n",
      "0\n",
      "1\n",
      "0\n",
      "0\n",
      "1\n",
      "0\n",
      "1\n",
      "0\n",
      "1\n",
      "0\n",
      "0\n",
      "0\n",
      "0\n",
      "0\n",
      "0\n",
      "1\n",
      "0\n",
      "1\n",
      "1\n",
      "1\n",
      "0\n",
      "0\n",
      "1\n",
      "1\n",
      "0\n",
      "0\n",
      "0\n",
      "0\n",
      "0\n",
      "0\n",
      "1\n",
      "1\n",
      "0\n",
      "1\n",
      "0\n",
      "0\n",
      "0\n",
      "1\n",
      "0\n",
      "0\n",
      "0\n",
      "0\n",
      "0\n",
      "0\n",
      "0\n",
      "0\n",
      "0\n",
      "0\n",
      "0\n",
      "0\n",
      "0\n",
      "0\n",
      "0\n",
      "0\n",
      "0\n",
      "1\n",
      "1\n",
      "0\n",
      "0\n",
      "0\n",
      "1\n",
      "1\n",
      "0\n",
      "0\n",
      "0\n",
      "0\n",
      "0\n",
      "1\n",
      "0\n",
      "0\n",
      "0\n",
      "0\n",
      "0\n",
      "0\n",
      "0\n",
      "0\n",
      "0\n",
      "0\n",
      "1\n",
      "0\n",
      "0\n",
      "0\n",
      "0\n",
      "0\n",
      "0\n",
      "0\n",
      "0\n",
      "0\n",
      "0\n",
      "0\n",
      "1\n",
      "0\n",
      "0\n",
      "0\n",
      "0\n",
      "0\n",
      "0\n",
      "0\n",
      "1\n",
      "0\n",
      "0\n",
      "0\n",
      "0\n",
      "1\n",
      "0\n",
      "0\n",
      "0\n",
      "0\n",
      "0\n",
      "0\n",
      "0\n",
      "0\n",
      "0\n",
      "0\n",
      "0\n",
      "0\n",
      "0\n",
      "1\n",
      "0\n",
      "1\n",
      "1\n",
      "0\n",
      "1\n",
      "1\n",
      "0\n",
      "1\n",
      "0\n",
      "0\n",
      "0\n",
      "0\n",
      "1\n",
      "0\n",
      "1\n",
      "1\n",
      "0\n",
      "0\n",
      "0\n",
      "1\n",
      "0\n",
      "0\n",
      "0\n",
      "0\n",
      "1\n",
      "1\n",
      "0\n",
      "0\n",
      "1\n",
      "1\n",
      "1\n",
      "0\n",
      "0\n",
      "0\n",
      "0\n",
      "0\n",
      "0\n",
      "0\n",
      "0\n",
      "0\n",
      "0\n",
      "0\n",
      "0\n",
      "0\n",
      "0\n",
      "1\n",
      "1\n",
      "0\n",
      "0\n",
      "0\n",
      "0\n",
      "0\n",
      "1\n",
      "1\n",
      "0\n",
      "1\n",
      "0\n",
      "0\n",
      "0\n",
      "1\n",
      "0\n",
      "0\n",
      "0\n",
      "0\n",
      "0\n",
      "0\n",
      "0\n",
      "0\n",
      "0\n",
      "0\n",
      "0\n",
      "0\n",
      "0\n",
      "0\n",
      "0\n",
      "0\n",
      "0\n",
      "1\n",
      "1\n",
      "0\n",
      "1\n",
      "0\n",
      "0\n",
      "0\n",
      "1\n",
      "1\n",
      "0\n",
      "0\n",
      "0\n",
      "0\n",
      "0\n",
      "1\n",
      "0\n",
      "0\n",
      "0\n",
      "0\n",
      "0\n",
      "0\n",
      "0\n",
      "0\n",
      "0\n",
      "0\n",
      "0\n",
      "0\n",
      "0\n",
      "0\n",
      "0\n",
      "0\n",
      "0\n",
      "0\n",
      "0\n",
      "1\n",
      "0\n",
      "0\n",
      "0\n",
      "0\n",
      "0\n",
      "0\n",
      "0\n",
      "0\n",
      "0\n",
      "0\n",
      "0\n",
      "0\n",
      "1\n",
      "0\n",
      "0\n",
      "0\n",
      "1\n",
      "0\n",
      "0\n",
      "0\n",
      "0\n",
      "0\n",
      "0\n",
      "0\n",
      "0\n",
      "0\n",
      "0\n",
      "0\n",
      "0\n",
      "0\n",
      "1\n",
      "0\n",
      "1\n",
      "0\n",
      "0\n",
      "0\n",
      "1\n",
      "0\n",
      "0\n",
      "0\n",
      "0\n",
      "0\n",
      "0\n",
      "1\n",
      "0\n",
      "1\n",
      "1\n",
      "0\n",
      "0\n",
      "0\n",
      "0\n",
      "0\n",
      "0\n",
      "0\n",
      "0\n",
      "0\n",
      "0\n",
      "0\n",
      "0\n",
      "0\n",
      "0\n",
      "0\n",
      "0\n",
      "0\n",
      "0\n",
      "0\n",
      "0\n",
      "0\n",
      "0\n",
      "1\n",
      "0\n",
      "0\n",
      "1\n",
      "1\n",
      "0\n",
      "0\n",
      "0\n",
      "0\n",
      "0\n",
      "0\n",
      "0\n",
      "0\n",
      "0\n",
      "0\n",
      "0\n",
      "0\n",
      "1\n",
      "0\n",
      "0\n",
      "0\n",
      "1\n",
      "1\n",
      "0\n",
      "0\n",
      "0\n",
      "0\n",
      "0\n",
      "0\n",
      "0\n",
      "0\n",
      "0\n",
      "0\n",
      "0\n",
      "0\n",
      "0\n",
      "0\n",
      "0\n",
      "0\n",
      "0\n",
      "0\n",
      "1\n",
      "1\n",
      "0\n",
      "1\n",
      "1\n",
      "1\n",
      "0\n",
      "0\n",
      "0\n",
      "0\n",
      "0\n",
      "0\n",
      "1\n",
      "0\n",
      "0\n",
      "0\n",
      "1\n",
      "0\n",
      "1\n",
      "1\n",
      "1\n",
      "0\n",
      "0\n",
      "0\n",
      "0\n",
      "0\n",
      "0\n",
      "1\n",
      "1\n",
      "0\n",
      "0\n",
      "0\n",
      "0\n",
      "0\n",
      "0\n",
      "0\n",
      "0\n",
      "0\n",
      "1\n",
      "0\n",
      "0\n",
      "0\n",
      "0\n",
      "1\n",
      "0\n",
      "0\n",
      "0\n",
      "0\n",
      "0\n",
      "0\n",
      "1\n",
      "0\n",
      "0\n",
      "0\n",
      "1\n",
      "0\n",
      "0\n",
      "0\n",
      "0\n",
      "1\n",
      "0\n",
      "0\n",
      "0\n",
      "0\n",
      "1\n",
      "0\n",
      "1\n",
      "0\n",
      "0\n",
      "0\n",
      "0\n",
      "0\n",
      "0\n",
      "0\n",
      "0\n",
      "0\n",
      "0\n",
      "0\n",
      "0\n",
      "1\n",
      "0\n",
      "1\n",
      "1\n",
      "1\n",
      "0\n",
      "0\n",
      "0\n",
      "1\n",
      "0\n",
      "1\n",
      "1\n",
      "1\n",
      "1\n",
      "0\n",
      "1\n",
      "0\n",
      "1\n",
      "0\n",
      "0\n",
      "1\n",
      "1\n",
      "1\n",
      "1\n",
      "1\n",
      "1\n",
      "1\n",
      "1\n",
      "1\n",
      "1\n",
      "1\n",
      "1\n",
      "0\n",
      "1\n",
      "1\n",
      "1\n",
      "1\n",
      "0\n",
      "0\n",
      "0\n",
      "0\n",
      "0\n",
      "0\n",
      "1\n",
      "0\n",
      "0\n",
      "0\n",
      "0\n",
      "0\n",
      "0\n",
      "1\n",
      "1\n",
      "0\n",
      "0\n",
      "0\n",
      "0\n",
      "0\n",
      "1\n",
      "0\n",
      "0\n",
      "0\n",
      "0\n",
      "1\n",
      "0\n",
      "0\n",
      "0\n",
      "0\n",
      "0\n",
      "0\n",
      "0\n",
      "1\n",
      "0\n",
      "0\n",
      "0\n",
      "0\n",
      "0\n",
      "1\n",
      "0\n",
      "0\n",
      "1\n",
      "0\n",
      "0\n",
      "0\n",
      "1\n",
      "0\n",
      "0\n",
      "1\n",
      "0\n",
      "0\n",
      "0\n",
      "0\n",
      "1\n",
      "0\n",
      "1\n",
      "0\n",
      "0\n",
      "1\n",
      "0\n",
      "0\n",
      "0\n",
      "0\n",
      "1\n",
      "0\n",
      "0\n",
      "0\n",
      "1\n",
      "0\n",
      "0\n",
      "0\n",
      "1\n",
      "0\n",
      "0\n",
      "0\n",
      "1\n",
      "0\n",
      "0\n",
      "1\n",
      "0\n",
      "0\n",
      "0\n",
      "1\n",
      "1\n",
      "0\n",
      "0\n",
      "0\n",
      "0\n",
      "0\n",
      "0\n",
      "0\n",
      "0\n",
      "1\n",
      "0\n",
      "0\n",
      "0\n",
      "0\n",
      "0\n",
      "0\n",
      "0\n",
      "0\n",
      "0\n",
      "0\n",
      "0\n",
      "1\n",
      "0\n",
      "0\n",
      "0\n",
      "0\n",
      "0\n",
      "1\n",
      "0\n",
      "0\n",
      "1\n",
      "0\n",
      "0\n",
      "0\n",
      "0\n",
      "0\n",
      "1\n",
      "0\n",
      "0\n",
      "0\n",
      "0\n",
      "0\n",
      "1\n",
      "0\n",
      "0\n",
      "1\n",
      "0\n",
      "0\n",
      "1\n",
      "1\n",
      "0\n",
      "0\n",
      "0\n",
      "0\n",
      "0\n",
      "0\n",
      "0\n",
      "0\n",
      "0\n",
      "0\n",
      "0\n",
      "0\n",
      "0\n",
      "0\n",
      "0\n",
      "0\n",
      "0\n",
      "0\n",
      "0\n",
      "1\n",
      "0\n",
      "0\n",
      "0\n",
      "0\n",
      "1\n",
      "0\n",
      "0\n",
      "1\n",
      "0\n",
      "0\n",
      "0\n",
      "0\n",
      "0\n",
      "0\n",
      "0\n",
      "0\n",
      "0\n",
      "0\n",
      "0\n",
      "0\n",
      "0\n",
      "0\n",
      "0\n",
      "0\n",
      "1\n",
      "1\n",
      "0\n",
      "0\n",
      "0\n",
      "0\n",
      "0\n",
      "0\n",
      "0\n",
      "0\n",
      "0\n",
      "0\n",
      "0\n",
      "0\n",
      "0\n",
      "0\n",
      "0\n",
      "0\n",
      "0\n",
      "1\n",
      "1\n",
      "1\n",
      "1\n",
      "0\n",
      "0\n",
      "0\n",
      "1\n",
      "0\n",
      "0\n",
      "0\n",
      "0\n",
      "0\n",
      "0\n",
      "0\n",
      "0\n",
      "0\n",
      "0\n",
      "0\n",
      "0\n",
      "0\n",
      "0\n",
      "0\n",
      "0\n",
      "0\n",
      "0\n",
      "0\n",
      "0\n",
      "0\n",
      "0\n",
      "0\n",
      "0\n",
      "1\n",
      "1\n",
      "0\n",
      "0\n",
      "0\n",
      "0\n",
      "0\n",
      "0\n",
      "0\n",
      "0\n",
      "0\n",
      "1\n",
      "1\n",
      "1\n",
      "1\n",
      "1\n",
      "1\n",
      "1\n",
      "1\n",
      "1\n",
      "1\n",
      "1\n",
      "1\n",
      "1\n",
      "1\n",
      "1\n",
      "1\n",
      "1\n",
      "1\n",
      "1\n",
      "1\n",
      "1\n",
      "1\n",
      "1\n",
      "1\n",
      "1\n",
      "1\n",
      "1\n",
      "1\n",
      "1\n",
      "1\n",
      "1\n",
      "1\n",
      "1\n",
      "1\n",
      "0\n",
      "1\n",
      "0\n",
      "0\n",
      "1\n",
      "1\n",
      "1\n",
      "1\n",
      "0\n",
      "0\n",
      "0\n",
      "0\n",
      "1\n",
      "0\n",
      "0\n",
      "0\n",
      "0\n",
      "0\n",
      "0\n",
      "0\n",
      "0\n",
      "0\n",
      "1\n",
      "0\n",
      "0\n",
      "0\n",
      "0\n",
      "1\n",
      "1\n",
      "0\n",
      "0\n",
      "0\n",
      "0\n",
      "0\n",
      "0\n",
      "0\n",
      "0\n",
      "0\n",
      "0\n",
      "1\n",
      "1\n",
      "1\n",
      "1\n",
      "1\n",
      "1\n",
      "1\n",
      "1\n",
      "1\n",
      "1\n",
      "0\n",
      "0\n",
      "0\n",
      "0\n",
      "1\n",
      "0\n",
      "1\n",
      "0\n",
      "1\n",
      "0\n",
      "0\n",
      "0\n",
      "0\n",
      "1\n",
      "1\n",
      "0\n",
      "0\n",
      "0\n",
      "1\n",
      "1\n",
      "1\n",
      "0\n",
      "0\n",
      "0\n",
      "0\n",
      "0\n",
      "0\n",
      "0\n",
      "0\n",
      "0\n",
      "1\n",
      "0\n",
      "1\n",
      "1\n",
      "0\n",
      "0\n",
      "0\n",
      "0\n",
      "1\n",
      "1\n",
      "1\n",
      "0\n",
      "0\n",
      "1\n",
      "1\n",
      "1\n",
      "0\n",
      "1\n",
      "0\n",
      "0\n",
      "0\n",
      "0\n",
      "0\n",
      "0\n",
      "0\n",
      "0\n",
      "0\n",
      "0\n",
      "0\n",
      "0\n",
      "0\n",
      "0\n",
      "0\n",
      "0\n",
      "0\n",
      "0\n",
      "0\n",
      "1\n",
      "0\n",
      "0\n",
      "0\n",
      "0\n",
      "0\n",
      "0\n",
      "0\n",
      "0\n",
      "0\n",
      "0\n",
      "0\n",
      "0\n",
      "0\n",
      "0\n",
      "0\n",
      "0\n",
      "0\n",
      "1\n",
      "0\n",
      "0\n",
      "0\n",
      "1\n",
      "0\n",
      "0\n",
      "0\n",
      "1\n",
      "0\n",
      "0\n",
      "0\n",
      "0\n",
      "0\n",
      "0\n",
      "0\n",
      "0\n",
      "0\n",
      "0\n",
      "1\n",
      "0\n",
      "0\n",
      "1\n",
      "0\n",
      "0\n",
      "0\n",
      "0\n",
      "0\n",
      "0\n",
      "0\n",
      "0\n",
      "0\n",
      "0\n",
      "1\n",
      "0\n",
      "1\n",
      "0\n",
      "0\n",
      "0\n",
      "0\n",
      "0\n",
      "0\n",
      "0\n",
      "1\n",
      "0\n",
      "0\n",
      "0\n",
      "1\n",
      "1\n",
      "1\n",
      "1\n",
      "0\n",
      "0\n",
      "1\n",
      "1\n",
      "1\n",
      "0\n",
      "0\n",
      "1\n",
      "1\n",
      "1\n",
      "1\n",
      "1\n",
      "1\n",
      "1\n",
      "1\n",
      "0\n",
      "0\n",
      "0\n",
      "0\n",
      "1\n",
      "0\n",
      "0\n",
      "0\n",
      "0\n",
      "0\n",
      "1\n",
      "1\n",
      "1\n",
      "1\n",
      "1\n",
      "1\n",
      "1\n",
      "1\n",
      "1\n",
      "1\n",
      "1\n",
      "0\n",
      "0\n",
      "0\n",
      "1\n",
      "1\n",
      "1\n",
      "1\n",
      "0\n",
      "0\n",
      "0\n",
      "0\n",
      "0\n",
      "0\n",
      "0\n",
      "0\n",
      "0\n",
      "0\n",
      "0\n",
      "0\n",
      "1\n",
      "1\n",
      "1\n",
      "0\n",
      "1\n",
      "1\n",
      "1\n",
      "1\n",
      "0\n",
      "0\n",
      "0\n",
      "0\n",
      "0\n",
      "0\n",
      "1\n",
      "1\n",
      "1\n",
      "0\n",
      "0\n",
      "0\n",
      "0\n",
      "0\n",
      "0\n",
      "0\n",
      "0\n",
      "0\n",
      "0\n",
      "0\n",
      "0\n",
      "0\n",
      "0\n",
      "0\n",
      "1\n",
      "0\n",
      "1\n",
      "1\n",
      "1\n",
      "0\n",
      "0\n",
      "1\n",
      "1\n",
      "1\n",
      "0\n",
      "0\n",
      "1\n",
      "1\n",
      "1\n",
      "1\n",
      "1\n",
      "0\n",
      "1\n",
      "1\n",
      "0\n",
      "1\n",
      "0\n",
      "0\n",
      "1\n",
      "0\n",
      "0\n",
      "0\n",
      "0\n",
      "0\n",
      "0\n",
      "0\n",
      "1\n",
      "0\n",
      "0\n",
      "0\n",
      "0\n",
      "0\n",
      "0\n",
      "0\n",
      "0\n",
      "0\n",
      "0\n",
      "0\n",
      "0\n",
      "0\n",
      "0\n",
      "0\n",
      "0\n",
      "0\n",
      "0\n",
      "0\n",
      "0\n",
      "0\n",
      "0\n",
      "1\n",
      "0\n",
      "0\n",
      "0\n",
      "1\n",
      "1\n",
      "1\n",
      "1\n",
      "1\n",
      "1\n",
      "1\n",
      "1\n",
      "0\n",
      "0\n",
      "0\n",
      "0\n",
      "0\n",
      "0\n",
      "1\n",
      "0\n",
      "1\n",
      "0\n",
      "0\n",
      "0\n",
      "0\n",
      "0\n",
      "0\n",
      "0\n",
      "0\n",
      "1\n",
      "1\n",
      "1\n",
      "0\n",
      "1\n",
      "0\n",
      "1\n",
      "1\n",
      "0\n",
      "0\n",
      "0\n",
      "0\n",
      "0\n",
      "0\n",
      "0\n",
      "0\n",
      "0\n",
      "0\n",
      "0\n",
      "0\n",
      "0\n",
      "0\n",
      "0\n",
      "0\n",
      "0\n",
      "0\n",
      "0\n",
      "0\n",
      "0\n",
      "0\n",
      "0\n",
      "0\n",
      "0\n",
      "0\n",
      "0\n",
      "0\n",
      "0\n",
      "0\n",
      "0\n",
      "0\n",
      "0\n",
      "1\n",
      "1\n",
      "1\n",
      "1\n",
      "0\n",
      "1\n",
      "1\n",
      "0\n",
      "0\n",
      "1\n",
      "0\n",
      "1\n",
      "0\n",
      "0\n",
      "0\n",
      "0\n",
      "0\n",
      "0\n",
      "0\n",
      "0\n",
      "0\n",
      "1\n",
      "0\n",
      "0\n",
      "0\n",
      "0\n",
      "0\n",
      "0\n",
      "0\n",
      "0\n",
      "0\n",
      "0\n",
      "1\n",
      "1\n",
      "0\n",
      "0\n",
      "0\n",
      "0\n",
      "0\n",
      "0\n",
      "0\n",
      "0\n",
      "0\n",
      "0\n",
      "0\n",
      "0\n",
      "0\n",
      "1\n",
      "1\n",
      "1\n",
      "0\n",
      "0\n",
      "0\n",
      "0\n",
      "0\n",
      "0\n",
      "0\n",
      "0\n",
      "0\n",
      "0\n",
      "0\n",
      "0\n",
      "0\n",
      "0\n",
      "1\n",
      "1\n",
      "1\n",
      "1\n",
      "1\n",
      "1\n",
      "0\n",
      "1\n",
      "0\n",
      "0\n",
      "0\n",
      "0\n",
      "0\n",
      "1\n",
      "0\n",
      "0\n",
      "0\n",
      "1\n",
      "1\n",
      "0\n",
      "0\n",
      "0\n",
      "1\n",
      "1\n",
      "0\n",
      "1\n",
      "1\n",
      "1\n",
      "1\n",
      "1\n",
      "0\n",
      "0\n",
      "0\n",
      "0\n",
      "0\n",
      "0\n",
      "0\n",
      "0\n",
      "0\n",
      "1\n",
      "1\n",
      "1\n",
      "0\n",
      "0\n",
      "0\n",
      "0\n",
      "0\n",
      "0\n",
      "0\n",
      "0\n",
      "0\n",
      "0\n",
      "0\n",
      "0\n",
      "0\n",
      "0\n",
      "0\n",
      "0\n",
      "1\n",
      "0\n",
      "0\n",
      "0\n",
      "0\n",
      "0\n",
      "0\n",
      "0\n",
      "1\n",
      "0\n",
      "0\n",
      "0\n",
      "0\n",
      "0\n",
      "0\n",
      "0\n",
      "0\n",
      "0\n",
      "0\n",
      "0\n",
      "0\n",
      "0\n",
      "0\n",
      "0\n",
      "1\n",
      "0\n",
      "0\n",
      "0\n",
      "0\n",
      "0\n",
      "0\n",
      "0\n",
      "1\n",
      "1\n",
      "0\n",
      "0\n",
      "1\n",
      "0\n",
      "1\n",
      "1\n",
      "0\n",
      "0\n",
      "0\n",
      "0\n",
      "0\n",
      "0\n",
      "0\n",
      "0\n",
      "1\n",
      "0\n",
      "0\n",
      "0\n",
      "0\n",
      "0\n",
      "0\n",
      "0\n",
      "0\n",
      "0\n",
      "0\n",
      "0\n",
      "0\n",
      "1\n",
      "0\n",
      "0\n",
      "0\n",
      "0\n",
      "0\n",
      "0\n",
      "0\n",
      "0\n",
      "1\n",
      "1\n",
      "0\n",
      "0\n",
      "0\n",
      "1\n",
      "1\n",
      "0\n",
      "1\n",
      "0\n",
      "0\n",
      "0\n",
      "0\n",
      "0\n",
      "0\n",
      "0\n",
      "0\n",
      "1\n",
      "0\n",
      "0\n",
      "1\n",
      "0\n",
      "0\n",
      "1\n",
      "1\n",
      "1\n",
      "0\n",
      "0\n",
      "0\n",
      "0\n",
      "0\n",
      "0\n",
      "1\n",
      "1\n",
      "0\n",
      "0\n",
      "0\n",
      "0\n",
      "0\n",
      "0\n",
      "0\n",
      "0\n",
      "0\n",
      "0\n",
      "0\n",
      "0\n",
      "0\n",
      "0\n",
      "0\n",
      "0\n",
      "0\n",
      "0\n",
      "1\n",
      "0\n",
      "0\n",
      "0\n",
      "0\n",
      "0\n",
      "1\n",
      "0\n",
      "0\n",
      "0\n",
      "1\n",
      "0\n",
      "0\n",
      "0\n",
      "0\n",
      "0\n",
      "0\n",
      "0\n",
      "0\n",
      "1\n",
      "1\n",
      "1"
     ]
    }
   ],
   "source": [
    "for index,value in reves_metadata[\"belongs_to_collection\"].items():\n",
    "    reves_metadata[\"belongs_to_collection\"][index]=value\n",
    "    if type (value) == str:\n",
    "        value=1\n",
    "        print(value)\n",
    "    else:\n",
    "        value=0\n",
    "        print(value)\n",
    "    "
   ]
  },
  {
   "cell_type": "code",
   "execution_count": 37,
   "metadata": {
    "scrolled": false
   },
   "outputs": [
    {
     "data": {
      "text/plain": [
       "0    {'id': 10194, 'name': 'Toy Story Collection', ...\n",
       "1                                                    0\n",
       "3                                                    0\n",
       "4    {'id': 96871, 'name': 'Father of the Bride Col...\n",
       "5                                                    0\n",
       "Name: belongs_to_collection, dtype: object"
      ]
     },
     "execution_count": 37,
     "metadata": {},
     "output_type": "execute_result"
    }
   ],
   "source": [
    "reves_metadata[\"belongs_to_collection\"].head()"
   ]
  },
  {
   "cell_type": "code",
   "execution_count": null,
   "metadata": {
    "collapsed": true
   },
   "outputs": [],
   "source": [
    "#hint! Use replace(what,with)"
   ]
  },
  {
   "cell_type": "markdown",
   "metadata": {},
   "source": [
    "#### 3. Budget"
   ]
  },
  {
   "cell_type": "markdown",
   "metadata": {},
   "source": [
    "First, basic data exploring"
   ]
  },
  {
   "cell_type": "code",
   "execution_count": 18,
   "metadata": {},
   "outputs": [
    {
     "data": {
      "text/plain": [
       "0    30000000\n",
       "1    65000000\n",
       "3    16000000\n",
       "4           0\n",
       "5    60000000\n",
       "Name: budget, dtype: object"
      ]
     },
     "execution_count": 18,
     "metadata": {},
     "output_type": "execute_result"
    }
   ],
   "source": [
    "reves_metadata[\"budget\"].head()"
   ]
  },
  {
   "cell_type": "code",
   "execution_count": 19,
   "metadata": {
    "scrolled": true
   },
   "outputs": [
    {
     "data": {
      "text/plain": [
       "count     7408\n",
       "unique     705\n",
       "top          0\n",
       "freq      2027\n",
       "Name: budget, dtype: object"
      ]
     },
     "execution_count": 19,
     "metadata": {},
     "output_type": "execute_result"
    }
   ],
   "source": [
    "reves_metadata[\"budget\"].describe()"
   ]
  },
  {
   "cell_type": "markdown",
   "metadata": {},
   "source": [
    "Surprise! Seems like values are not numeric! We should fix that."
   ]
  },
  {
   "cell_type": "code",
   "execution_count": 20,
   "metadata": {
    "scrolled": true
   },
   "outputs": [
    {
     "name": "stderr",
     "output_type": "stream",
     "text": [
      "C:\\Users\\Elsa\\Anaconda3\\lib\\site-packages\\ipykernel_launcher.py:1: SettingWithCopyWarning: \n",
      "A value is trying to be set on a copy of a slice from a DataFrame.\n",
      "Try using .loc[row_indexer,col_indexer] = value instead\n",
      "\n",
      "See the caveats in the documentation: http://pandas.pydata.org/pandas-docs/stable/indexing.html#indexing-view-versus-copy\n",
      "  \"\"\"Entry point for launching an IPython kernel.\n",
      "C:\\Users\\Elsa\\Anaconda3\\lib\\site-packages\\ipykernel_launcher.py:2: SettingWithCopyWarning: \n",
      "A value is trying to be set on a copy of a slice from a DataFrame.\n",
      "Try using .loc[row_indexer,col_indexer] = value instead\n",
      "\n",
      "See the caveats in the documentation: http://pandas.pydata.org/pandas-docs/stable/indexing.html#indexing-view-versus-copy\n",
      "  \n"
     ]
    }
   ],
   "source": [
    "reves_metadata[\"budget\"]=pd.to_numeric(reves_metadata[\"budget\"], errors=\"coerce\")\n",
    "reves_metadata[\"budget\"]=reves_metadata[\"budget\"].replace(0,np.nan)"
   ]
  },
  {
   "cell_type": "code",
   "execution_count": 21,
   "metadata": {},
   "outputs": [
    {
     "data": {
      "text/plain": [
       "dtype('float64')"
      ]
     },
     "execution_count": 21,
     "metadata": {},
     "output_type": "execute_result"
    }
   ],
   "source": [
    "reves_metadata[\"budget\"].dtype"
   ]
  },
  {
   "cell_type": "markdown",
   "metadata": {},
   "source": [
    "Now we have to analyze, out of the 7408, how many movies contain budget information in order to determine if we can use this variable in our model. As it happened with \"Revenue\" seems like we have not nulls, but we have false positives, since a 0 budget is null for us and a perfectly \"not null\" value for Python. This column should be numeric and $0 budget should be Nan."
   ]
  },
  {
   "cell_type": "code",
   "execution_count": 22,
   "metadata": {},
   "outputs": [
    {
     "data": {
      "text/plain": [
       "5381"
      ]
     },
     "execution_count": 22,
     "metadata": {},
     "output_type": "execute_result"
    }
   ],
   "source": [
    "reves_metadata[reves_metadata[\"budget\"]>0][\"budget\"].count()"
   ]
  },
  {
   "cell_type": "code",
   "execution_count": 23,
   "metadata": {},
   "outputs": [
    {
     "data": {
      "text/plain": [
       "28533    38000000.0\n",
       "4686     28000000.0\n",
       "1713      1000000.0\n",
       "4381     24000000.0\n",
       "730      25000000.0\n",
       "Name: budget, dtype: float64"
      ]
     },
     "execution_count": 23,
     "metadata": {},
     "output_type": "execute_result"
    }
   ],
   "source": [
    "reves_metadata[\"budget\"].sample(5)"
   ]
  },
  {
   "cell_type": "markdown",
   "metadata": {
    "collapsed": true
   },
   "source": [
    "Out of 7404 movies, 5381 have a positive value for budget. Is that enough data for our model?\n",
    "Also, taking a deeper look at the values, seems that most of them are exact and round amounts, and they don't seem very accurate. Should we use this data in our model?"
   ]
  },
  {
   "cell_type": "markdown",
   "metadata": {},
   "source": [
    "#### 4. Genres"
   ]
  },
  {
   "cell_type": "code",
   "execution_count": 24,
   "metadata": {
    "scrolled": true
   },
   "outputs": [
    {
     "data": {
      "text/plain": [
       "14822    [{'id': 35, 'name': 'Comedy'}, {'id': 10749, '...\n",
       "2182                        [{'id': 35, 'name': 'Comedy'}]\n",
       "3310     [{'id': 28, 'name': 'Action'}, {'id': 80, 'nam...\n",
       "1858     [{'id': 12, 'name': 'Adventure'}, {'id': 10751...\n",
       "3209                   [{'id': 99, 'name': 'Documentary'}]\n",
       "Name: genres, dtype: object"
      ]
     },
     "execution_count": 24,
     "metadata": {},
     "output_type": "execute_result"
    }
   ],
   "source": [
    "reves_metadata[\"genres\"].sample(5)"
   ]
  },
  {
   "cell_type": "code",
   "execution_count": 25,
   "metadata": {},
   "outputs": [
    {
     "name": "stdout",
     "output_type": "stream",
     "text": [
      "[{'id': 16, 'name': 'Animation'}, {'id': 35, 'name': 'Comedy'}, {'id': 10751, 'name': 'Family'}]\n",
      "[{'id': 12, 'name': 'Adventure'}, {'id': 14, 'name': 'Fantasy'}, {'id': 10751, 'name': 'Family'}]\n",
      "[{'id': 10749, 'name': 'Romance'}, {'id': 16, 'name': 'Animation'}, {'id': 10751, 'name': 'Family'}, {'id': 35, 'name': 'Comedy'}, {'id': 12, 'name': 'Adventure'}]\n"
     ]
    }
   ],
   "source": [
    "print(reves_metadata[\"genres\"][0])\n",
    "print(reves_metadata[\"genres\"][1])\n",
    "print(reves_metadata[\"genres\"][235])"
   ]
  },
  {
   "cell_type": "markdown",
   "metadata": {},
   "source": [
    "Seems that in this column, we can find a list of dicts that indicate the different movie genres associated to each movie. As we can see, there are many different generes associated to each movie, but not always the same ammount of them. First of all, we should find out how many different genres we've got, in order to decide what to do and how to use this information. \n",
    "\n",
    "Basic questions we should ask ourselves about the column \"Genres\":\n",
    "- Should we create dummie variables with all the genres? \n",
    "- What's the maxium numbers of genres per movie we want to use in our model \n",
    "- ...\n",
    "- Maybe we shoul just keep the id_genre info, and save the dict of (index,genre) outside the main dataframe, just for querys.\n"
   ]
  },
  {
   "cell_type": "markdown",
   "metadata": {},
   "source": [
    "First, let's find out how many different genres we have got, and what's the maximum number of genres any of the movies has"
   ]
  },
  {
   "cell_type": "code",
   "execution_count": 26,
   "metadata": {},
   "outputs": [],
   "source": [
    "#We will create a function as we will use it later with some other columns\n",
    "def to_list (column):\n",
    "    from ast import literal_eval\n",
    "    new_column= column.fillna('[]').apply(literal_eval).apply(lambda x: [i['name'] for i in x] if isinstance(x, list) else [])\n",
    "    return new_column"
   ]
  },
  {
   "cell_type": "code",
   "execution_count": 27,
   "metadata": {},
   "outputs": [
    {
     "name": "stderr",
     "output_type": "stream",
     "text": [
      "C:\\Users\\Elsa\\Anaconda3\\lib\\site-packages\\ipykernel_launcher.py:1: SettingWithCopyWarning: \n",
      "A value is trying to be set on a copy of a slice from a DataFrame.\n",
      "Try using .loc[row_indexer,col_indexer] = value instead\n",
      "\n",
      "See the caveats in the documentation: http://pandas.pydata.org/pandas-docs/stable/indexing.html#indexing-view-versus-copy\n",
      "  \"\"\"Entry point for launching an IPython kernel.\n"
     ]
    }
   ],
   "source": [
    "reves_metadata[\"genres\"]=to_list(reves_metadata[\"genres\"])"
   ]
  },
  {
   "cell_type": "code",
   "execution_count": 257,
   "metadata": {
    "scrolled": true
   },
   "outputs": [
    {
     "data": {
      "text/plain": [
       "0          [Animation, Comedy, Family]\n",
       "1         [Adventure, Fantasy, Family]\n",
       "3             [Comedy, Drama, Romance]\n",
       "4                             [Comedy]\n",
       "5     [Action, Crime, Drama, Thriller]\n",
       "8        [Action, Adventure, Thriller]\n",
       "9        [Adventure, Action, Thriller]\n",
       "10            [Comedy, Drama, Romance]\n",
       "12      [Family, Animation, Adventure]\n",
       "13                    [History, Drama]\n",
       "Name: genres, dtype: object"
      ]
     },
     "execution_count": 257,
     "metadata": {},
     "output_type": "execute_result"
    }
   ],
   "source": [
    "reves_metadata[\"genres\"].head(10)"
   ]
  },
  {
   "cell_type": "code",
   "execution_count": 28,
   "metadata": {},
   "outputs": [
    {
     "name": "stdout",
     "output_type": "stream",
     "text": [
      "There are a max of 8 genres per movie\n"
     ]
    }
   ],
   "source": [
    "genres_lenghts=[]\n",
    "for line in reves_metadata[\"genres\"]:\n",
    "    lenght=len(line)\n",
    "    genres_lenghts.append(lenght)\n",
    "print(\"There are a max of %d genres per movie\"%(max(genres_lenghts)))"
   ]
  },
  {
   "cell_type": "markdown",
   "metadata": {},
   "source": [
    "How many genres per movie are we using for out model?"
   ]
  },
  {
   "cell_type": "code",
   "execution_count": 29,
   "metadata": {
    "scrolled": true
   },
   "outputs": [
    {
     "data": {
      "text/plain": [
       "2.4966252699784017"
      ]
     },
     "execution_count": 29,
     "metadata": {},
     "output_type": "execute_result"
    }
   ],
   "source": [
    "np.mean(genres_lenghts)"
   ]
  },
  {
   "cell_type": "markdown",
   "metadata": {},
   "source": [
    "Maybe we should set up the maximux on 3. It's a reasonable number of categories for a variable. In case we do that, we would be assuming that the first 3 genres mentioned in this column would be the most reliable, and the ones that best describe the movie's storyline."
   ]
  },
  {
   "cell_type": "markdown",
   "metadata": {},
   "source": [
    "Let's see how many genres we've got just in case we want to create dummie coluns for each of them.  "
   ]
  },
  {
   "cell_type": "code",
   "execution_count": 30,
   "metadata": {},
   "outputs": [],
   "source": [
    "#We will create a function as we are going to do the same process with Production Companies and Production Countries.\n",
    "\n",
    "def get_uniques(sequence):\n",
    "    #from ast import literal_eval\n",
    "    #sequence=sequence.fillna('[]').apply(literal_eval).apply(lambda x: [i['name'] for i in x] if isinstance(x, list) else [])\n",
    "    counter=[]\n",
    "    for line in sequence:\n",
    "        counter.append(line)\n",
    "        flat_list=[item for sublist in sequence for item in sublist]\n",
    "        for sublist in sequence:\n",
    "            for item in sublist:\n",
    "                flat_list.append(item)\n",
    "        counter=list(set(flat_list))\n",
    "        \n",
    "        return counter"
   ]
  },
  {
   "cell_type": "code",
   "execution_count": 261,
   "metadata": {
    "scrolled": true
   },
   "outputs": [
    {
     "name": "stdout",
     "output_type": "stream",
     "text": [
      "There are 20 unique genres\n"
     ]
    },
    {
     "data": {
      "text/plain": [
       "['Documentary',\n",
       " 'History',\n",
       " 'Comedy',\n",
       " 'Music',\n",
       " 'Western',\n",
       " 'Drama',\n",
       " 'Romance',\n",
       " 'TV Movie',\n",
       " 'Adventure',\n",
       " 'Animation',\n",
       " 'Science Fiction',\n",
       " 'Family',\n",
       " 'Horror',\n",
       " 'Crime',\n",
       " 'War',\n",
       " 'Thriller',\n",
       " 'Action',\n",
       " 'Mystery',\n",
       " 'Foreign',\n",
       " 'Fantasy']"
      ]
     },
     "execution_count": 261,
     "metadata": {},
     "output_type": "execute_result"
    }
   ],
   "source": [
    "genres=get_uniques(reves_metadata[\"genres\"])\n",
    "print(\"There are %d unique genres\"%(len(genres)))\n",
    "genres"
   ]
  },
  {
   "cell_type": "code",
   "execution_count": null,
   "metadata": {
    "collapsed": true
   },
   "outputs": [],
   "source": [
    "#we should do a barplot with the most common genres."
   ]
  },
  {
   "cell_type": "markdown",
   "metadata": {},
   "source": [
    "#### 5. Popularity"
   ]
  },
  {
   "cell_type": "code",
   "execution_count": null,
   "metadata": {
    "collapsed": true,
    "scrolled": true
   },
   "outputs": [],
   "source": [
    "reves_metadata[\"popularity\"].describe()"
   ]
  },
  {
   "cell_type": "code",
   "execution_count": null,
   "metadata": {
    "collapsed": true
   },
   "outputs": [],
   "source": [
    "reves_metadata[\"popularity\"].sample(5)"
   ]
  },
  {
   "cell_type": "markdown",
   "metadata": {},
   "source": [
    "#### 6. Production Companies"
   ]
  },
  {
   "cell_type": "code",
   "execution_count": 31,
   "metadata": {
    "scrolled": false
   },
   "outputs": [
    {
     "data": {
      "text/plain": [
       "0       [{'name': 'Pixar Animation Studios', 'id': 3}]\n",
       "1    [{'name': 'TriStar Pictures', 'id': 559}, {'na...\n",
       "3    [{'name': 'Twentieth Century Fox Film Corporat...\n",
       "4    [{'name': 'Sandollar Productions', 'id': 5842}...\n",
       "5    [{'name': 'Regency Enterprises', 'id': 508}, {...\n",
       "Name: production_companies, dtype: object"
      ]
     },
     "execution_count": 31,
     "metadata": {},
     "output_type": "execute_result"
    }
   ],
   "source": [
    "reves_metadata[\"production_companies\"].head(5)"
   ]
  },
  {
   "cell_type": "markdown",
   "metadata": {},
   "source": [
    "Same as it happened with genres. Contains a list of dicts."
   ]
  },
  {
   "cell_type": "code",
   "execution_count": 32,
   "metadata": {},
   "outputs": [
    {
     "name": "stderr",
     "output_type": "stream",
     "text": [
      "C:\\Users\\Elsa\\Anaconda3\\lib\\site-packages\\ipykernel_launcher.py:1: SettingWithCopyWarning: \n",
      "A value is trying to be set on a copy of a slice from a DataFrame.\n",
      "Try using .loc[row_indexer,col_indexer] = value instead\n",
      "\n",
      "See the caveats in the documentation: http://pandas.pydata.org/pandas-docs/stable/indexing.html#indexing-view-versus-copy\n",
      "  \"\"\"Entry point for launching an IPython kernel.\n"
     ]
    }
   ],
   "source": [
    "reves_metadata[\"production_companies\"]=to_list(reves_metadata[\"production_companies\"])"
   ]
  },
  {
   "cell_type": "code",
   "execution_count": 264,
   "metadata": {},
   "outputs": [
    {
     "data": {
      "text/plain": [
       "0                            [Pixar Animation Studios]\n",
       "1    [TriStar Pictures, Teitler Film, Interscope Co...\n",
       "3             [Twentieth Century Fox Film Corporation]\n",
       "4         [Sandollar Productions, Touchstone Pictures]\n",
       "5    [Regency Enterprises, Forward Pass, Warner Bros.]\n",
       "Name: production_companies, dtype: object"
      ]
     },
     "execution_count": 264,
     "metadata": {},
     "output_type": "execute_result"
    }
   ],
   "source": [
    "reves_metadata[\"production_companies\"].head(5)"
   ]
  },
  {
   "cell_type": "code",
   "execution_count": 33,
   "metadata": {},
   "outputs": [
    {
     "name": "stdout",
     "output_type": "stream",
     "text": [
      "There are 7091 unique production companies\n"
     ]
    },
    {
     "data": {
      "text/plain": [
       "['Echo Lake Productions',\n",
       " 'Stonebridge Entertainment',\n",
       " 'JEMPSA',\n",
       " 'Minerva Productions',\n",
       " 'Harold Greenberg Fund',\n",
       " 'BigBen Films',\n",
       " '360 Pictures',\n",
       " 'TMC',\n",
       " 'Fuqua Films',\n",
       " 'Origen Producciones Cinematograficas S.A.',\n",
       " 'Hart-Sharp Entertainment',\n",
       " 'Tiger Productions',\n",
       " '2T Produzione Film',\n",
       " 'Canal+ Droits Audiovisuels',\n",
       " 'Red Granite Pictures',\n",
       " 'Morgan Creek Productions',\n",
       " 'Cruel Productions',\n",
       " 'Down Productions',\n",
       " 'Barry & Enright Productions',\n",
       " 'Pygmalion Production',\n",
       " 'Bewitched',\n",
       " 'Lip Sync Post',\n",
       " 'Oceana Media Finance',\n",
       " 'Revolver Film',\n",
       " 'El Deseo',\n",
       " 'Legend Production Company',\n",
       " 'Programme MEDIA de la Communauté Européenne',\n",
       " 'Radius-TWC',\n",
       " 'Archer Gray',\n",
       " 'Commission du Film Île-de-France',\n",
       " 'Semtex Films',\n",
       " 'World Wrestling Entertainment (WWE)',\n",
       " 'Fugitive Studios',\n",
       " 'Justin Pictures',\n",
       " 'Lama Productions',\n",
       " 'Winchester Films',\n",
       " 'Ministry of Propaganda Films',\n",
       " 'The Mirisch Production Company',\n",
       " 'Constantin Film Produktion',\n",
       " 'Polaris Film Productions & Finance',\n",
       " 'Pull Down Your Pants Pictures',\n",
       " 'Panorama Film A/S',\n",
       " 'Embargo Films',\n",
       " 'Head On Productions',\n",
       " 'Levantine Films',\n",
       " 'Filmboard Berlin-Brandenburg (FBB)',\n",
       " 'Bridget Johnson Films',\n",
       " 'Mediaworks',\n",
       " 'Les Films Corona',\n",
       " 'Radical Media',\n",
       " 'People Pictures',\n",
       " 'Studio Image',\n",
       " 'Television Broadcasts Limited (TVB)',\n",
       " 'Price',\n",
       " 'TheManipulators',\n",
       " 'Baltimore Pictures',\n",
       " 'Bazelevs Production',\n",
       " 'Aleor Films',\n",
       " 'Noble Nomad Pictures',\n",
       " 'Fono Roma',\n",
       " 'Franton Production',\n",
       " 'Movistar+',\n",
       " 'Panorama Media',\n",
       " 'American Entertainment Partners L.P.',\n",
       " 'Hofflund/Polone',\n",
       " \"Fonds Eurimages du Conseil de l'Europe\",\n",
       " 'Pacific Northwest Pictures',\n",
       " 'Lumière Pictures',\n",
       " 'Yuma',\n",
       " 'Starcrossed Films',\n",
       " 'Hartbeat Productions',\n",
       " 'Crystal City Entertainment',\n",
       " 'AR Films',\n",
       " 'Meespierson Film CV',\n",
       " 'A Contracorriente Films',\n",
       " 'BR Group',\n",
       " 'Walter Shenson Films',\n",
       " 'Sunset Gower Studios',\n",
       " 'Kerner Entertainment Company',\n",
       " 'Farrell/Minoff',\n",
       " 'Schiwago Film',\n",
       " 'Surefire Entertainment Capital',\n",
       " 'IRE Productions',\n",
       " 'Arches Films',\n",
       " 'Perfect Storm Entertainment',\n",
       " 'Brooklyn Films II',\n",
       " 'Magnolia Pictures',\n",
       " 'Newman/Tooley Films',\n",
       " 'Baby Cow Films',\n",
       " '21st Century Film Corporation',\n",
       " 'Flyboys Films',\n",
       " 'Komplizen Film',\n",
       " 'Phantom Films',\n",
       " 'Roc-a-fella Films',\n",
       " 'ABS-CBN Film Productions',\n",
       " 'Belvision',\n",
       " 'George Stevens Productions',\n",
       " 'Nederlandse Programma Stichting (NPS)',\n",
       " 'AM Associates',\n",
       " 'Kopelson Entertainment',\n",
       " 'Entertainment Motion Pictures',\n",
       " 'Katalyst Films',\n",
       " 'Raffaella De Laurentiis Productions',\n",
       " 'Brownstone Productions',\n",
       " 'Zak Productions',\n",
       " 'Motion Picture JOTA Produktions',\n",
       " 'Lucamar Productions',\n",
       " 'Hypnopolis',\n",
       " 'Aashirvad Cinemas',\n",
       " 'ATO Pictures',\n",
       " 'Smokehouse Pictures',\n",
       " 'Thin Man Films',\n",
       " 'Groundswell Productions',\n",
       " 'Yer Dead Productions',\n",
       " 'Televisió de Catalunya TV3',\n",
       " 'Libra Films',\n",
       " 'Studio Babelsberg',\n",
       " 'Columbia TriStar Filmes do Brasil',\n",
       " 'Signal Film Group',\n",
       " 'Ferndale Films',\n",
       " \"Is or Isn't Entertainment\",\n",
       " 'Kaleidoscope Entertainment',\n",
       " 'Pioneer',\n",
       " 'Jhamu Sughand Productions',\n",
       " 'Filmplan',\n",
       " 'Domino 17521',\n",
       " 'Protagonist Pictures',\n",
       " 'Filmkameratene A/S',\n",
       " 'Republic Pictures',\n",
       " 'ITS Capital',\n",
       " 'Alliance Cinema',\n",
       " 'Cent Productions Inc.',\n",
       " 'Internationale Filmproduktion',\n",
       " 'Balaji Motion Pictures',\n",
       " 'South Pacific Pictures',\n",
       " 'Cinema Four',\n",
       " 'Aurora',\n",
       " 'Sony Pictures Animation',\n",
       " 'Trio International',\n",
       " 'LJ Film',\n",
       " 'Union',\n",
       " 'APJAC Productions',\n",
       " 'Emmitt Productions Limited',\n",
       " 'Polyc International BV',\n",
       " 'Le Grisbi Productions',\n",
       " 'Arte / Cofinova 12',\n",
       " 'Victor Musical Industries',\n",
       " 'Rampage Entertainment',\n",
       " 'Cinémage 10',\n",
       " 'Gilbert Films',\n",
       " 'American Zoetrope',\n",
       " 'Martinelli Films',\n",
       " 'Zentropa International Köln',\n",
       " 'Home Box Office',\n",
       " 'Creado Film',\n",
       " 'British Columbia Film',\n",
       " 'Vegetarian Films',\n",
       " 'Entertainment',\n",
       " 'Zweites Deutsches Fernsehen (ZDF)',\n",
       " 'Santa Frost Productions',\n",
       " 'Bungalow 78 Productions',\n",
       " 'Bande a Part Films',\n",
       " 'Glitter Productions',\n",
       " 'IFI Producción S.A.',\n",
       " 'Black Hangar Studios',\n",
       " 'Planet Productions',\n",
       " 'Jaguar Films',\n",
       " 'Majestic Films',\n",
       " 'Mondofin B.V.',\n",
       " 'Besiktas Kültür Merkezi (BKM)',\n",
       " 'Telefilm Canada',\n",
       " 'Pathé',\n",
       " 'Zespól Filmowy \"Tor\"',\n",
       " 'Palatine Étoile 10',\n",
       " 'Cabin Creek Films',\n",
       " 'Walt Disney Television Animation',\n",
       " 'Neverland Films',\n",
       " 'Fantasy Films',\n",
       " 'Les Films Ariane',\n",
       " 'Finnish Film Foundation',\n",
       " 'Golar Productions',\n",
       " 'Spitfire Pictures',\n",
       " 'icon',\n",
       " 'Orange Cinéma Séries',\n",
       " 'Centre Régional des Ressources Audiovisuelles (CRRAV)',\n",
       " 'Skylark Productions',\n",
       " 'Boss Media',\n",
       " 'Jon Kilik',\n",
       " 'Albacore Productions Inc.',\n",
       " 'R.S. Entertainment',\n",
       " 'Hiett Designs of Las Vegas',\n",
       " 'Lightyear Entertainment',\n",
       " 'Chrysler Corporation',\n",
       " 'Soul Mining Production',\n",
       " 'Cannon Group',\n",
       " 'Q&Q Medien GmbH',\n",
       " 'Hoya Productions',\n",
       " 'SF Norge A/S',\n",
       " 'Tohokushinsha Film Corporation',\n",
       " 'Wave Pictures',\n",
       " 'Millennium Films',\n",
       " 'Solares Fondazione delle arti',\n",
       " 'Philipp Filmproduction',\n",
       " 'David L. Wolper Productions',\n",
       " 'Section Eight',\n",
       " 'Dundee Entertainment',\n",
       " 'Fox International Productions',\n",
       " 'Mann/Roth Productions',\n",
       " 'Gerber Pictures',\n",
       " 'Neo Art & Logic',\n",
       " 'Xingu Films',\n",
       " 'Twentieth Century Fox Animation',\n",
       " 'Capitol Films',\n",
       " 'The Weinstein Company',\n",
       " 'Evergreen Films',\n",
       " 'Twin Bros. Productions',\n",
       " 'Film Art Media',\n",
       " 'Plural - Jempsa',\n",
       " 'Hyde Park Films',\n",
       " 'Hernández y Fernández Producciones Cinematográficas',\n",
       " 'Hobo Pictures India',\n",
       " 'Alborada P.C.',\n",
       " 'Creavidi',\n",
       " 'Wild Ocean Films',\n",
       " 'Verona Produzione',\n",
       " 'Les Films de la Pléiade',\n",
       " 'Weying Galaxy Entertainment',\n",
       " '3 in the Box',\n",
       " 'Wonder works studios entertainment group',\n",
       " 'Scamp Film and Theatre Ltd.',\n",
       " 'Rajkumar Theatres',\n",
       " 'Momentum Pictures',\n",
       " 'Globo filmes',\n",
       " 'Hydraulx',\n",
       " 'Medien 5 Filmproduktion',\n",
       " 'Mediastream Vierte Film GmbH & Co. Vermarktungs KG',\n",
       " 'Apostle Productions',\n",
       " 'Village-A.M. Partnership',\n",
       " 'International Film Trust',\n",
       " 'Mirage Entertainment',\n",
       " 'Tomboy Films',\n",
       " 'Fontana Productions',\n",
       " 'Le Tax Shelter du Gouvernement Fédéral de Belgique',\n",
       " 'New Regency Pictures',\n",
       " 'Caravan Pictures',\n",
       " 'Non-Stop Productions',\n",
       " 'Artistry Limited',\n",
       " 'Ulysses',\n",
       " 'True Crime Australia',\n",
       " 'New Amsterdam Entertainment',\n",
       " 'Samsara Films',\n",
       " 'Hit the Ground Running Films',\n",
       " 'Yorktown Productions',\n",
       " 'Samsa Film',\n",
       " 'Film Afrika Worldwide',\n",
       " 'RKO',\n",
       " 'Pacific Film and Television Commission',\n",
       " 'Canal Plus',\n",
       " 'Key Creatives',\n",
       " 'FilmHaven Entertainment',\n",
       " 'Mm...Buttered Panini Productions',\n",
       " 'Houston King Productions',\n",
       " \"Quat'sous Films\",\n",
       " 'Bill/Phillips',\n",
       " 'UGC Images',\n",
       " 'Ultra Films',\n",
       " 'Wicked Films',\n",
       " 'Dragonfly Entertainment',\n",
       " 'Barclays Mercantile Industrial Finance',\n",
       " 'World Productions',\n",
       " 'Broadway Video',\n",
       " 'Brightlight Pictures',\n",
       " 'Treasure Company',\n",
       " 'Sonet Film AB',\n",
       " 'Pauly Jr. Pictures',\n",
       " 'Toei Company',\n",
       " 'Munich Film Partners & Company (MFP) MI2 Productions',\n",
       " 'Danish Filminstitute',\n",
       " 'Eastern Sunrise Films',\n",
       " 'Campfire',\n",
       " 'Cine Mosaic',\n",
       " 'The Mount Company',\n",
       " 'EOS Entertainment',\n",
       " 'S & L Films',\n",
       " 'Star Partners',\n",
       " 'Walt Disney Company',\n",
       " 'Jolie Pas',\n",
       " 'Irish Dreamtime',\n",
       " 'Granada Film Productions',\n",
       " 'Di Bonaventura Picture',\n",
       " 'Government of West Bengal',\n",
       " 'ImageMovers',\n",
       " 'BKM',\n",
       " 'New Upstairs Productions',\n",
       " 'Serendipity Productions',\n",
       " 'Swift Productions',\n",
       " 'First Look International',\n",
       " 'Brick Dust Productions LLC',\n",
       " 'Fort Films',\n",
       " 'Stable Way Entertainment',\n",
       " 'Dreamworks Pictures',\n",
       " 'Splendid Productions',\n",
       " 'Overbrook Films',\n",
       " 'Ixtlan Productions',\n",
       " 'Kinokompaniya \"Tsar\"',\n",
       " 'Babylon',\n",
       " 'Nippon Herald Films',\n",
       " 'Circle Films',\n",
       " 'Bergman Lustig Productions',\n",
       " 'Фокс',\n",
       " 'Michael Mann Productions',\n",
       " 'American International Pictures (AIP)',\n",
       " 'Das Films',\n",
       " 'Dom Film GmbH',\n",
       " 'Havana Nights LLC',\n",
       " 'Indo-British',\n",
       " 'Instituto Nacional de Cine y Artes Audiovisuales (INCAA)',\n",
       " 'Golan-Globus Productions',\n",
       " 'Company Films',\n",
       " 'Red Light Films',\n",
       " 'Laurel Productions',\n",
       " 'Runaway Fridge Productions',\n",
       " 'Nancy Tenenbaum Films',\n",
       " 'Finanzia San Marco',\n",
       " 'Genre Films',\n",
       " 'Mirisch Films',\n",
       " 'Loki Films',\n",
       " 'The Samuel Goldwyn Company',\n",
       " 'Film Export A.G.',\n",
       " 'Lunaris Film',\n",
       " 'Harris Company',\n",
       " 'Наше Кино',\n",
       " 'Jerry Bruckheimer Films',\n",
       " 'The Badham-Cohen Group',\n",
       " 'Darlow Smithson Productions',\n",
       " 'Radio Télévision Suisse (RTS)',\n",
       " 'naked eye filmproduction GmbH & Co. KG',\n",
       " 'Kairos',\n",
       " 'Trilogy Entertainment Group',\n",
       " 'Radiant Film GmbH',\n",
       " 'The Catalina Production Group',\n",
       " 'Feigco Entertainment',\n",
       " 'Elevation Pictures',\n",
       " 'Algonquin',\n",
       " '16 Block Productions',\n",
       " 'TAT Communications Company',\n",
       " '21st Century 3D',\n",
       " 'Sighvatsson Films',\n",
       " 'Région Aquitaine',\n",
       " 'Allegiance Theater',\n",
       " 'Scorpion Film Production',\n",
       " 'Emergency Exit Pictures',\n",
       " 'Castel Film Studio',\n",
       " 'Wunderbar Films',\n",
       " 'barefoot films',\n",
       " 'The Ladd Company',\n",
       " 'Blacklab Entertainment',\n",
       " 'Filmwave Pictures',\n",
       " 'Heritage Films',\n",
       " 'Catalan Film and Television',\n",
       " 'Distressed Films',\n",
       " 'Andale Pictures',\n",
       " 'Independent Films',\n",
       " 'Full Crew/Say Yea',\n",
       " 'Producers Sales Organization',\n",
       " 'Flashpoint Entertainment',\n",
       " 'Rumble Entertainment',\n",
       " 'Cine Location Services',\n",
       " 'Evergreen MD',\n",
       " 'K&S Films',\n",
       " 'Matanza Cine',\n",
       " 'Alfama Films',\n",
       " 'Easy Company',\n",
       " 'Sandia Media',\n",
       " 'Broad Green Pictures',\n",
       " 'Maple Cage Productions',\n",
       " 'Merlina Entertainment',\n",
       " 'Electric City Entertainment',\n",
       " 'Disney Channel',\n",
       " 'Viking Films',\n",
       " 'PolyGram Filmed Entertainment',\n",
       " 'Darkwoods Productions',\n",
       " 'Corner Work',\n",
       " 'MID Foundation',\n",
       " 'Channel 4 Television',\n",
       " 'Région Hauts-de-France',\n",
       " 'BK',\n",
       " 'Southeast Asia Film Location Services Sdn. Bhd.',\n",
       " 'Bill Kenwright Films',\n",
       " 'Bandeira Entertainment',\n",
       " 'Procinvest Sas',\n",
       " 'Trent Othick Productions',\n",
       " 'Wind Dancer Films',\n",
       " 'Cinema Verity',\n",
       " 'Dor Film Produktionsgesellschaft GmbH',\n",
       " 'BNDES',\n",
       " 'DNA Films',\n",
       " 'Cowtown Cinema Ventures',\n",
       " 'State Street Pictures',\n",
       " '19 Entertainment',\n",
       " 'King Video Productions',\n",
       " 'Telefónica Producciones',\n",
       " 'ZDF/Arte',\n",
       " 'Lynch Siderow Productions',\n",
       " 'Dimension Films',\n",
       " 'Cappa Defina Productions',\n",
       " 'Timnick Films',\n",
       " 'Millar Gough Ink',\n",
       " 'Prime Focus',\n",
       " 'Spier Films',\n",
       " 'Splash Entertainment',\n",
       " 'Sommers Company, The',\n",
       " 'Ambush Entertainment',\n",
       " 'VIP Medienfonds 4',\n",
       " 'Jiangsu Broadcasting System',\n",
       " 'FGM Entertainment',\n",
       " 'Broomstick Entertainment',\n",
       " 'Panda Productions Inc.',\n",
       " 'The Princess Bride Ltd.',\n",
       " 'EMI Films Ltd.',\n",
       " 'Cecchi Gori Pictures',\n",
       " 'Fish Productions',\n",
       " 'Bagman (2009)',\n",
       " 'Vasan Visual Ventures',\n",
       " 'Magic Picture',\n",
       " 'Lonely Film Productions GmbH & Co. KG.',\n",
       " 'Funny or Die',\n",
       " 'HBO/Cinemax Documentary',\n",
       " 'Envision Entertainment',\n",
       " 'Joseph M. Schenck Enterprises',\n",
       " 'Casablanca Filmworks',\n",
       " 'Dragon Pictures',\n",
       " 'Кинокомпания «Lunapark»',\n",
       " 'Midwinter Productions Inc.',\n",
       " 'Darkside Movie',\n",
       " 'Access Motion Pictures',\n",
       " 'Winking Productions',\n",
       " 'Tom Ward Enterprises',\n",
       " 'Team Downey',\n",
       " 'Caracol',\n",
       " 'White Lair',\n",
       " 'Eyeworks',\n",
       " 'Chrysalis Films',\n",
       " 'Racing Pictures',\n",
       " 'Riot of Color',\n",
       " 'QI Quality International GmbH & Co. KG',\n",
       " 'Chime Films',\n",
       " 'Lunar Films',\n",
       " 'Loofah Productions',\n",
       " 'Mifilifilms',\n",
       " 'Horseshoe Bay Productions',\n",
       " 'Snoopadelic Films Inc.',\n",
       " 'Ars Nova',\n",
       " 'Icon Productions',\n",
       " 'UTV Motion Pictures',\n",
       " 'Colour Yellow Pictures',\n",
       " 'Solofilm',\n",
       " 'Morag Loves Company',\n",
       " \"Centre du Cinéma et de l'Audiovisuel de la Fédération Wallonie-Bruxelles\",\n",
       " 'Strike Entertainment',\n",
       " 'Outlaw Productions (I)',\n",
       " 'Police Academy Productions',\n",
       " 'Red Giant Movies',\n",
       " 'Angel films',\n",
       " 'We Pictures',\n",
       " 'Lemodeln Model & Talent Agency',\n",
       " 'Zentropa International Norway',\n",
       " 'British Film Council',\n",
       " 'Cherry Alley Productions',\n",
       " 'Cinémage 5',\n",
       " \"The Australian Children's Television Foundation\",\n",
       " 'HDNet Films',\n",
       " 'Evenstar Films',\n",
       " 'Prone Gunman A.I.E.',\n",
       " 'Red Hawk Entertainment',\n",
       " 'Oldgarth Media',\n",
       " 'Quest',\n",
       " 'Strange Matter Films',\n",
       " 'Falco',\n",
       " 'Proposal Productions',\n",
       " 'Rhythm and Hues',\n",
       " 'Atípica Films',\n",
       " 'Fries Entertainment',\n",
       " 'Procirep',\n",
       " 'Remstar Productions',\n",
       " 'Irish Film Industry',\n",
       " 'Clavius Base',\n",
       " 'Star Thrower Entertainment',\n",
       " 'Patriot Pictures',\n",
       " 'Zadan / Meron Productions',\n",
       " 'Sneak Preview Productions',\n",
       " 'United Seven Creations',\n",
       " 'Canal+ Polska',\n",
       " 'Castleberg Productions',\n",
       " 'Soficinéma 9',\n",
       " 'Isle of Man Film',\n",
       " 'Cheetah Vision',\n",
       " 'Pinewood Pictures',\n",
       " 'London-Cannon Films',\n",
       " 'RTE',\n",
       " 'Triumph',\n",
       " 'Mitsubishi Shoji',\n",
       " 'Opus Film',\n",
       " 'Big Screen Productions',\n",
       " 'Rocking Chair Productions',\n",
       " 'History films',\n",
       " 'IM Filmproduktion',\n",
       " 'Don Simpson/Jerry Bruckheimer Films',\n",
       " 'Memento Films Distribution',\n",
       " 'Europa Corp',\n",
       " 'Irwin Allen Productions',\n",
       " 'B.D.S. Productions Inc.',\n",
       " 'South Street Films',\n",
       " 'BV McCann-Erickson',\n",
       " 'Green Hat Films',\n",
       " 'Fugitive Features',\n",
       " 'SEGA',\n",
       " 'MCA  Theatricals',\n",
       " 'Eurasia Film Production',\n",
       " 'Eagle Beach Productions',\n",
       " 'QED International',\n",
       " 'Versus Entertainment',\n",
       " 'Ledge Productions',\n",
       " 'Roger Birnbaum Productions',\n",
       " 'Prima TV',\n",
       " 'Homerun Productions',\n",
       " 'HorrorFlix',\n",
       " 'Artfire Films',\n",
       " 'Département des Pyrénées-Atlantiques',\n",
       " 'Silver Reel',\n",
       " 'Tomy',\n",
       " 'Scranton/Lacy Films',\n",
       " 'Film Department, The',\n",
       " \"Chesterfield Writer's Film Project\",\n",
       " 'Russian Roulette Ltd.',\n",
       " 'Q Productions',\n",
       " 'Morbido Films',\n",
       " 'GNDHDDT',\n",
       " 'Image Ten',\n",
       " 'Bandito Brothers',\n",
       " 'Les Films des Tournelles',\n",
       " 'Banana-Moon Sky Films',\n",
       " 'Archery Pictures',\n",
       " 'TC Productions',\n",
       " 'Bron Creative',\n",
       " 'Rus-Media',\n",
       " 'MK2 Production',\n",
       " 'Pure Flix Productions',\n",
       " 'Fandango',\n",
       " 'warner bross Turkey',\n",
       " 'Motion Picture Corporation of America (MPCA)',\n",
       " 'Aggregate Films',\n",
       " 'Woodfall Film Productions',\n",
       " 'Toma 78',\n",
       " 'Three-Seven Entertainment',\n",
       " 'Zed Filmworks',\n",
       " 'Apollo Pictures',\n",
       " 'Addis Wechsler Pictures',\n",
       " 'Milestone Entertainment',\n",
       " 'Ozla Pictures',\n",
       " 'Prima Linéa Productions',\n",
       " 'Walt Disney Feature Animation',\n",
       " 'Warner Bros. Animation',\n",
       " 'Zip Films',\n",
       " 'Lennox House Films',\n",
       " 'Off Color Films',\n",
       " 'Magnet Media Group',\n",
       " 'Provenance Pictures',\n",
       " 'Vengeance Productions Pty. Ltd.',\n",
       " 'Liberty Films UK',\n",
       " 'Screen Australia',\n",
       " 'France Television',\n",
       " 'Foxstar',\n",
       " 'BBC Earth MD (WWD)',\n",
       " 'A&B Producoes',\n",
       " 'Square USA',\n",
       " 'Fogbound Productions',\n",
       " 'eOne Entertainment',\n",
       " 'P & L',\n",
       " 'Cyrkfilms',\n",
       " 'Melusine Productions',\n",
       " 'Инвада фильм',\n",
       " 'Hacienda Productions',\n",
       " 'Guión Producciones Cinematográficas',\n",
       " 'Moho Film',\n",
       " 'Motion Picture THETA Produktionsgesellschaft',\n",
       " 'The Production Company',\n",
       " 'Speak Productions',\n",
       " 'First Generation Films',\n",
       " 'Ebeling Group',\n",
       " 'Florin Productions',\n",
       " 'Fida Film',\n",
       " 'Gamechanger Films',\n",
       " 'Show Dog Productions',\n",
       " 'Jouer Limited',\n",
       " 'Lieutenant Productions',\n",
       " 'LGM Productions',\n",
       " 'Beverly Detroit',\n",
       " 'Partnership Pictures',\n",
       " \"Eric's Boy\",\n",
       " 'Wild Bunch',\n",
       " 'Alan Jay Lerner Productions',\n",
       " 'Caneo Films',\n",
       " 'Hexagon Pictures',\n",
       " 'Fox Family Films',\n",
       " 'Hazazah Film',\n",
       " 'Media Rights Capital (MRC)',\n",
       " 'Stone Productions',\n",
       " 'King World Entertainment',\n",
       " 'Winkler Films',\n",
       " 'Amusement Park Films',\n",
       " 'Roastbeef Productions',\n",
       " 'Harbour Pictures',\n",
       " 'Babylon Films Limited',\n",
       " 'FIT Productions',\n",
       " 'British Broadcasting Corporation (BBC)',\n",
       " 'Lucille Ball Productions',\n",
       " 'Nephilim Producciones',\n",
       " 'Rio Dulce',\n",
       " 'Orsay Films',\n",
       " 'Colombia Pictures',\n",
       " 'Iyara Films',\n",
       " 'Melampo Cinematografica',\n",
       " 'Delux Productions',\n",
       " 'Picture Perfect Corporation',\n",
       " 'Unbroken Pictures',\n",
       " 'Unanimous Pictures',\n",
       " 'Bess Movie',\n",
       " 'Star Cinema Productions',\n",
       " 'Paper Clip Productions',\n",
       " 'MMC Studios',\n",
       " 'Sunset Productions',\n",
       " 'Sofica UGC 1',\n",
       " 'Toast Films',\n",
       " 'South Australian Film Corporation',\n",
       " 'Newman-Foreman Productions',\n",
       " 'Kevin Messick Productions',\n",
       " 'Blueprint Film',\n",
       " 'Top Line Production',\n",
       " 'Bakshi Productions',\n",
       " 'abramoff Production',\n",
       " 'Camp Grey',\n",
       " 'Runteam Ltd.',\n",
       " 'Film Väst',\n",
       " 'Commission du Film France',\n",
       " 'BIM Distribuzione',\n",
       " 'Highland Film Group (HFG)',\n",
       " 'Lamb Bear Entertainment',\n",
       " 'Lynda Obst Productions',\n",
       " 'RKO Radio Pictures',\n",
       " 'BBS Productions',\n",
       " 'Next Entertainment World',\n",
       " 'Chic Films',\n",
       " \"Films de L'Alma\",\n",
       " 'Jasmine Productions Inc.',\n",
       " 'Legion Entertainment',\n",
       " 'Maysville Pictures',\n",
       " 'Nazira',\n",
       " 'Hat and Cat Productions',\n",
       " 'Aegis Film Fund',\n",
       " 'Palatine Étoile 12',\n",
       " 'New Artists Alliance',\n",
       " 'Shueisha',\n",
       " 'Deutscher Filmförderfonds (DFFF)',\n",
       " 'Bhansali Films',\n",
       " 'KOH',\n",
       " 'Emmett/Furla Films',\n",
       " 'Mad Max Films',\n",
       " 'Atlantic Entertainment Group',\n",
       " 'Bavaria Film International',\n",
       " 'United Plankton Pictures',\n",
       " 'Palatine Étoile 9',\n",
       " 'UK Film & TV Production Company',\n",
       " 'Celluloid Dreams',\n",
       " 'Dimension Films (US version)',\n",
       " 'Starstream Entertainment',\n",
       " 'Daiei Studios',\n",
       " 'Appaloosa Films',\n",
       " 'Rishon Films',\n",
       " 'Herold Productions',\n",
       " 'Katzka-Loeb',\n",
       " 'Caramel Films',\n",
       " 'Altitude Film Entertainment',\n",
       " 'Banque Populaire Images 11',\n",
       " 'Mythic International Entertainment',\n",
       " 'Maloof Motion Pictures',\n",
       " 'Mainframe Entertainment',\n",
       " 'Movie Central',\n",
       " 'Chambara Pictures',\n",
       " 'SLB Films Pvt. Ltd.',\n",
       " 'Neue Road Movies',\n",
       " 'Silver Films',\n",
       " 'TIK Films',\n",
       " 'Cinezeta',\n",
       " 'Kojo Pictures',\n",
       " 'Management 360',\n",
       " 'Bavaria Studios',\n",
       " 'Pit Bull Productions',\n",
       " 'Supermarché',\n",
       " 'Geoffrey Productions',\n",
       " 'Kudos Pictures',\n",
       " 'Vertical Entertainment',\n",
       " 'United Pictures',\n",
       " 'Poo Poo Pictures',\n",
       " 'LBI Entertainment',\n",
       " 'Hubert Bals Fund of the Rotterdam Festival, The',\n",
       " 'Latitude Media',\n",
       " 'Tezuka Productions',\n",
       " 'Tiger Moth Productions',\n",
       " 'Mutant Enemy Productions',\n",
       " 'Maiden Voyage Pictures',\n",
       " 'Goldmann Pictures',\n",
       " 'Consejo Nacional para la Cultura y las Artes (CONACULTA)',\n",
       " 'Jon Shestack Productions',\n",
       " 'A Band Apart',\n",
       " 'Film Development Fund',\n",
       " 'Myriad Pictures',\n",
       " 'Bórd Scannán na hÉireann',\n",
       " 'Investors In Industry PLC',\n",
       " 'WR Universal Group',\n",
       " 'Red Mullet Productions',\n",
       " 'J D Productions',\n",
       " 'Easy There Tiger Productions',\n",
       " 'Kross Pictures',\n",
       " 'Australian Film Commission',\n",
       " 'Anonymous Content',\n",
       " 'LEGO',\n",
       " 'Pulse Films',\n",
       " 'Solid Entertainment',\n",
       " 'Todman, Simon, LeMasters Productions',\n",
       " 'Conquistador Entertainment',\n",
       " 'Les Films du Carrosse',\n",
       " 'Section Eight Productions',\n",
       " 'Antidote Films',\n",
       " 'Haddock Films S.R.L.',\n",
       " 'Taurus Films',\n",
       " 'Pelican Productions LLC',\n",
       " 'Bergman Lustig productions',\n",
       " 'Starburns Industries',\n",
       " 'Brat Na Pont Productions',\n",
       " 'Calimari Productions',\n",
       " 'Paramount Pictures Corporation',\n",
       " 'Bece Canada Productions',\n",
       " 'Bad Aaas Cinema',\n",
       " 'Castafiore Films',\n",
       " 'Les films du Worso',\n",
       " 'Phi Group',\n",
       " 'XYZ Films',\n",
       " 'Metal Productions Inc.',\n",
       " 'Marquis',\n",
       " 'TSBD Canada Productions',\n",
       " 'Wildgaze Films',\n",
       " 'Paradigm Hyde Films',\n",
       " 'Douglas Fairbanks Pictures',\n",
       " 'Reino del Cielo',\n",
       " 'Stellar Megamedia',\n",
       " 'Barry Mendel Productions',\n",
       " 'Krane Entertainment',\n",
       " 'Adam Schroeder Productions',\n",
       " 'DC Entertainment',\n",
       " 'Triptych Pictures',\n",
       " 'Bill Graham Films',\n",
       " 'Lightmotive',\n",
       " 'Emotion Pictures',\n",
       " 'Bloody Disgusting',\n",
       " 'Pastel',\n",
       " 'Memfis Film',\n",
       " 'Флагман-Трейд',\n",
       " 'Nord-Ouest Films',\n",
       " 'Goldsmith-Thomas Productions',\n",
       " 'Kinberg Genre',\n",
       " 'PalmStar Media',\n",
       " 'Osiris Films',\n",
       " 'Momentum Films',\n",
       " 'Kasbah-Film Tanger',\n",
       " 'Christel Films',\n",
       " 'Level 1 Entertainment',\n",
       " 'Mercury',\n",
       " 'Studio Filmowe Zebra',\n",
       " 'Cinémage 4',\n",
       " 'SpectreVision',\n",
       " 'Gone North Productions',\n",
       " 'Scott Free Productions',\n",
       " 'Crossroads Films',\n",
       " 'Michael Obel Productions',\n",
       " 'Line Research',\n",
       " 'Cinematic',\n",
       " 'Sunswept Entertainment',\n",
       " 'Process Productions',\n",
       " 'Andrea Sperling Productions',\n",
       " 'The Film Department',\n",
       " 'Gordon Bijelonic / Datari Turner Films',\n",
       " 'Irish Film Board',\n",
       " 'WeWork Studios',\n",
       " 'Eros International',\n",
       " 'Epsilon Motion Pictures',\n",
       " 'Tripod Entertainment',\n",
       " 'Bird and a Bear Entertainment',\n",
       " 'Zupnik-Curtis Enterprises',\n",
       " 'Anhui Broadcasting Corp.',\n",
       " 'Scout Productions',\n",
       " 'Movie Central Network',\n",
       " 'Ananya Films',\n",
       " 'Troika Pictures',\n",
       " 'Fox Atomic',\n",
       " 'Lynn Shelton',\n",
       " 'Super Cool ManChu',\n",
       " 'Dorset Productions',\n",
       " 'Surreel',\n",
       " 'Visionbox Pictures',\n",
       " 'Kyoto Animation',\n",
       " 'Rekall Productions',\n",
       " 'CN4 Productions',\n",
       " 'Sampek Productions',\n",
       " 'Pikachu Project',\n",
       " 'Italo/Judeo Productions',\n",
       " 'Forensic Films',\n",
       " 'Robert Fleming Leasing Limited',\n",
       " 'A Grand Elephant',\n",
       " 'Newmarket Films',\n",
       " 'Possessed Pictures',\n",
       " 'B.R.C. Produzione S.r.l.',\n",
       " 'Las Producciones del Escorpion',\n",
       " 'Birdsong Pictures',\n",
       " 'bob industries',\n",
       " 'Mindfire Entertainment',\n",
       " 'Trollhättan Film AB',\n",
       " 'Kramer & Sigman Films',\n",
       " 'Braveworld Productions',\n",
       " '2DUX²',\n",
       " 'Atlantic Pictures',\n",
       " '4 Kids Entertainment',\n",
       " 'Alchemy Filmworks',\n",
       " 'VN Productions',\n",
       " 'Vivendi',\n",
       " 'Ankor-Film',\n",
       " 'Good Universe',\n",
       " 'Troublemaker Studios',\n",
       " 'Penguin Books',\n",
       " 'Global Entertainment Group',\n",
       " 'Mythology Entertainment (II)',\n",
       " 'Sputnik Oy',\n",
       " 'Backup Media',\n",
       " 'Creative England',\n",
       " 'Film Plan Financing Number 1',\n",
       " 'Qatsi Productions',\n",
       " 'Ciclic - Région Centre',\n",
       " 'Polartec',\n",
       " 'International Film Corporation',\n",
       " 'Fuller Films',\n",
       " 'Clarius Entertainment',\n",
       " 'Valkyrie Films',\n",
       " 'Sierra Pictures',\n",
       " 'Synchronistic Pictures',\n",
       " 'Eurasia Investments',\n",
       " 'France 3 (FR 3)',\n",
       " 'Coproduction Office',\n",
       " 'Jurow-Shepherd',\n",
       " 'Mirage',\n",
       " 'Leucadia Film Corporation',\n",
       " 'Micro Fusion 2003-2',\n",
       " 'A-Team',\n",
       " 'Indie Sales Company',\n",
       " 'China Film Group',\n",
       " 'Nu Image Entertainment GmbH',\n",
       " 'TBA Film',\n",
       " 'Huayi Brothers Pictures',\n",
       " 'Maven Pictures',\n",
       " '1000 Volt',\n",
       " 'Trailblazer Films',\n",
       " 'Smokewood Entertainment Group',\n",
       " 'Eon Productions',\n",
       " 'Forecast Pictures',\n",
       " 'Showbox/Mediaplex',\n",
       " 'Antietam Filmworks',\n",
       " 'Applause Entertainment Ltd.',\n",
       " 'Sixteen Films',\n",
       " 'Shaft',\n",
       " 'Land Films Inc.',\n",
       " 'Tenth Planet Productions',\n",
       " 'Aperture Entertainment',\n",
       " 'Reversal Films Inc.',\n",
       " 'Waterland Film & TV',\n",
       " 'Province of British Columbia Film Incentive BC',\n",
       " 'Cofinova 6',\n",
       " 'The Yomiuri Shimbun',\n",
       " 'The Alamo Company',\n",
       " 'Fiction Films',\n",
       " 'Quality Growth International Ltd.',\n",
       " 'Compagnia Cinematografica Champion',\n",
       " 'Midlife Crisis Productions',\n",
       " 'Delphi Medien',\n",
       " 'South Pacific Enterprises',\n",
       " 'Solofilms',\n",
       " 'Entertainment One',\n",
       " 'Katira Productions GmbH & Co. KG',\n",
       " 'Alliance Communications Corporation',\n",
       " 'Paramount Classics',\n",
       " 'Number 13',\n",
       " 'Tightrope Pictures',\n",
       " 'Ink Connection',\n",
       " 'Raza Studio',\n",
       " 'Alberta Film Entertainment',\n",
       " 'Saraswati Entertainment Creations Limited',\n",
       " 'Shutt/Jones Productions',\n",
       " 'Andalasia Productions',\n",
       " 'Bauer Martinez Studios',\n",
       " 'France 2 (FR2)',\n",
       " 'Chongoing Film Group',\n",
       " 'Lone Runner Entertainment',\n",
       " 'On Entertainment',\n",
       " 'Abu Dhabi Film Commission',\n",
       " 'Ingo Preminger Productions',\n",
       " 'Crying Box Productions',\n",
       " 'Instinctive Film',\n",
       " 'Seasonal Film Corporation',\n",
       " 'Burrundi Productions',\n",
       " 'Art Pictures Group',\n",
       " 'Harpo Films',\n",
       " 'Robert Stigwood Organization (RSO)',\n",
       " 'Sociedad General de Cine (SOGECINE) S.A.',\n",
       " 'Tempesta Films',\n",
       " 'Parts and Labor',\n",
       " 'DFI',\n",
       " 'Universal TV',\n",
       " 'Outpost Studios',\n",
       " 'Oriental Light and Magic Team Koitabashi',\n",
       " 'RV Camping Productions Ltd.',\n",
       " 'Same Player',\n",
       " 'Compact Yellowbill',\n",
       " 'Mike Zoss Productions',\n",
       " 'Hwy61',\n",
       " 'Montoro Productions Ltd.',\n",
       " 'Prelude Pictures',\n",
       " 'Crystal Sky Pictures',\n",
       " 'Smokewood Entertainment',\n",
       " 'Bedford Falls Productions',\n",
       " 'GG Filmz',\n",
       " 'Filmförderung Hamburg',\n",
       " 'Lord Miller',\n",
       " 'Furry Vengeance Productions',\n",
       " 'Cobalt Media Group',\n",
       " 'Corus',\n",
       " 'Ross Hunter Productions Inc.',\n",
       " 'GHS Productions KG',\n",
       " 'Blinder Films',\n",
       " 'Hands-on Producers',\n",
       " 'MC Producciones',\n",
       " 'Shochiku-Fuji Company',\n",
       " 'Contemporary Films',\n",
       " 'Branded Entertainment/Batfilm Productions',\n",
       " 'Earthship Productions',\n",
       " 'Reperage & Vanguard Films',\n",
       " 'Salamander Pictures',\n",
       " 'Burns Family Studios',\n",
       " 'Famous Films (II)',\n",
       " 'Silver Bullet Productions (II)',\n",
       " 'Eureka Pictures',\n",
       " 'Imagenation Abu Dhabi FZ',\n",
       " 'Barbarian Films',\n",
       " 'Lleju Productions',\n",
       " 'Greenfox',\n",
       " 'Santa Fe Institute for Regional Education',\n",
       " 'SuperMega',\n",
       " 'Zephyr Films',\n",
       " 'Mandarin Film',\n",
       " 'Yasahi-Mation Productions',\n",
       " 'R & R Films',\n",
       " 'Chuck Productions',\n",
       " 'Eden Wurmfeld Films',\n",
       " 'Colorado Film Production',\n",
       " 'Nora Ephron Productions',\n",
       " 'Double Play',\n",
       " 'Don Carmody Productions',\n",
       " 'Simon Reeves Landsburg Productions',\n",
       " 'IM Global',\n",
       " 'Siam Movies',\n",
       " 'McMurdo (Canada) Productions',\n",
       " 'PVR Cinemas',\n",
       " 'Left Bank Pictures',\n",
       " 'Agent Two',\n",
       " 'Q&Q Medien',\n",
       " 'Red Rover International',\n",
       " 'Sidney Kimmel Entertainment',\n",
       " 'Budding Grove',\n",
       " 'Safehouse Pictures',\n",
       " 'Kabir Khan Films',\n",
       " 'Tiberius Film Productions',\n",
       " 'Dor Film-West Produktionsgesellschaft',\n",
       " '98 MPH Productions',\n",
       " 'Degeto Film',\n",
       " 'Renfield Productions',\n",
       " 'Prime Focus Ltd.',\n",
       " 'Round Films',\n",
       " 'Horsethief Pictures',\n",
       " 'Outlaw Sinema',\n",
       " 'Tree Top Films Inc.',\n",
       " 'Overture Films',\n",
       " 'Chuan Production Film Studio',\n",
       " 'Sri Sathya Sai Movies',\n",
       " ...]"
      ]
     },
     "execution_count": 33,
     "metadata": {},
     "output_type": "execute_result"
    }
   ],
   "source": [
    "production_companies=get_uniques(reves_metadata[\"production_companies\"])\n",
    "print(\"There are %d unique production companies\"%(len(production_companies)))\n",
    "production_companies"
   ]
  },
  {
   "cell_type": "markdown",
   "metadata": {},
   "source": [
    "There are to many production companies for our model. Maybe we should get the most common ones, or the 20% that represent the 80% of the movies. (Around 6K movies). "
   ]
  },
  {
   "cell_type": "code",
   "execution_count": 34,
   "metadata": {},
   "outputs": [
    {
     "data": {
      "text/plain": [
       "[('Warner Bros.', 491),\n",
       " ('Universal Pictures', 463),\n",
       " ('Paramount Pictures', 395),\n",
       " ('Twentieth Century Fox Film Corporation', 341),\n",
       " ('Columbia Pictures', 236),\n",
       " ('Metro-Goldwyn-Mayer (MGM)', 207),\n",
       " ('New Line Cinema', 198),\n",
       " ('Touchstone Pictures', 158),\n",
       " ('Walt Disney Pictures', 147),\n",
       " ('Columbia Pictures Corporation', 140)]"
      ]
     },
     "execution_count": 34,
     "metadata": {},
     "output_type": "execute_result"
    }
   ],
   "source": [
    "from collections import Counter\n",
    "companies_wc=[]\n",
    "for element in reves_metadata[\"production_companies\"]:\n",
    "        for company in element:\n",
    "            companies_wc.append(company)\n",
    "Counter(companies_wc).most_common(10)"
   ]
  },
  {
   "cell_type": "code",
   "execution_count": 44,
   "metadata": {},
   "outputs": [],
   "source": [
    "production_company=[]\n",
    "for element in reves_metadata[\"production_companies\"]:\n",
    "    if len(element)>0:\n",
    "        first_company=element[0]\n",
    "        production_company.append(first_company)\n",
    "    else:\n",
    "        first_company=\"\"\n",
    "        production_company.append(first_company)"
   ]
  },
  {
   "cell_type": "code",
   "execution_count": 45,
   "metadata": {
    "scrolled": true
   },
   "outputs": [
    {
     "name": "stderr",
     "output_type": "stream",
     "text": [
      "C:\\Users\\Elsa\\Anaconda3\\lib\\site-packages\\ipykernel_launcher.py:1: SettingWithCopyWarning: \n",
      "A value is trying to be set on a copy of a slice from a DataFrame.\n",
      "Try using .loc[row_indexer,col_indexer] = value instead\n",
      "\n",
      "See the caveats in the documentation: http://pandas.pydata.org/pandas-docs/stable/indexing.html#indexing-view-versus-copy\n",
      "  \"\"\"Entry point for launching an IPython kernel.\n"
     ]
    }
   ],
   "source": [
    "reves_metadata[\"production_company\"]=production_company"
   ]
  },
  {
   "cell_type": "code",
   "execution_count": 46,
   "metadata": {
    "scrolled": true
   },
   "outputs": [
    {
     "data": {
      "text/plain": [
       "0                   Pixar Animation Studios\n",
       "1                          TriStar Pictures\n",
       "3    Twentieth Century Fox Film Corporation\n",
       "4                     Sandollar Productions\n",
       "5                       Regency Enterprises\n",
       "Name: production_company, dtype: object"
      ]
     },
     "execution_count": 46,
     "metadata": {},
     "output_type": "execute_result"
    }
   ],
   "source": [
    "reves_metadata[\"production_company\"].head(5)"
   ]
  },
  {
   "cell_type": "code",
   "execution_count": 47,
   "metadata": {},
   "outputs": [
    {
     "data": {
      "text/plain": [
       "[('', 411),\n",
       " ('Universal Pictures', 401),\n",
       " ('Paramount Pictures', 391),\n",
       " ('Twentieth Century Fox Film Corporation', 291),\n",
       " ('Columbia Pictures', 235),\n",
       " ('New Line Cinema', 187)]"
      ]
     },
     "execution_count": 47,
     "metadata": {},
     "output_type": "execute_result"
    }
   ],
   "source": [
    "company_wc=[]\n",
    "for element in reves_metadata[\"production_company\"]:\n",
    "        company_wc.append(element)\n",
    "Counter(company_wc).most_common(6)"
   ]
  },
  {
   "cell_type": "markdown",
   "metadata": {},
   "source": [
    "#### 7. Production Countries"
   ]
  },
  {
   "cell_type": "code",
   "execution_count": 35,
   "metadata": {
    "scrolled": false
   },
   "outputs": [
    {
     "data": {
      "text/plain": [
       "5654     [{'iso_3166_1': 'US', 'name': 'United States o...\n",
       "4205     [{'iso_3166_1': 'US', 'name': 'United States o...\n",
       "36893    [{'iso_3166_1': 'DE', 'name': 'Germany'}, {'is...\n",
       "10398    [{'iso_3166_1': 'US', 'name': 'United States o...\n",
       "15898    [{'iso_3166_1': 'US', 'name': 'United States o...\n",
       "Name: production_countries, dtype: object"
      ]
     },
     "execution_count": 35,
     "metadata": {},
     "output_type": "execute_result"
    }
   ],
   "source": [
    "reves_metadata[\"production_countries\"].sample(5)"
   ]
  },
  {
   "cell_type": "markdown",
   "metadata": {},
   "source": [
    "Almost same as before"
   ]
  },
  {
   "cell_type": "code",
   "execution_count": 36,
   "metadata": {
    "scrolled": false
   },
   "outputs": [
    {
     "name": "stdout",
     "output_type": "stream",
     "text": [
      "There are 98 unique production countries\n"
     ]
    },
    {
     "name": "stderr",
     "output_type": "stream",
     "text": [
      "C:\\Users\\Elsa\\Anaconda3\\lib\\site-packages\\ipykernel_launcher.py:1: SettingWithCopyWarning: \n",
      "A value is trying to be set on a copy of a slice from a DataFrame.\n",
      "Try using .loc[row_indexer,col_indexer] = value instead\n",
      "\n",
      "See the caveats in the documentation: http://pandas.pydata.org/pandas-docs/stable/indexing.html#indexing-view-versus-copy\n",
      "  \"\"\"Entry point for launching an IPython kernel.\n"
     ]
    },
    {
     "data": {
      "text/plain": [
       "['Japan',\n",
       " 'Slovenia',\n",
       " 'Paraguay',\n",
       " 'Tunisia',\n",
       " 'Burkina Faso',\n",
       " 'Macedonia',\n",
       " 'Serbia',\n",
       " 'Serbia and Montenegro',\n",
       " 'Bahamas',\n",
       " 'Saudi Arabia']"
      ]
     },
     "execution_count": 36,
     "metadata": {},
     "output_type": "execute_result"
    }
   ],
   "source": [
    "reves_metadata[\"production_countries\"]=to_list(reves_metadata[\"production_countries\"])\n",
    "production_countries=get_uniques(reves_metadata[\"production_countries\"])\n",
    "print(\"There are %d unique production countries\"%(len(production_countries)))\n",
    "production_countries[:10]"
   ]
  },
  {
   "cell_type": "code",
   "execution_count": 37,
   "metadata": {},
   "outputs": [
    {
     "data": {
      "text/plain": [
       "[('United States of America', 5623),\n",
       " ('United Kingdom', 917),\n",
       " ('France', 576),\n",
       " ('Germany', 412),\n",
       " ('Canada', 323)]"
      ]
     },
     "execution_count": 37,
     "metadata": {},
     "output_type": "execute_result"
    }
   ],
   "source": [
    "countries_wc=[]\n",
    "for element in reves_metadata[\"production_countries\"]:\n",
    "        for country in element:\n",
    "            countries_wc.append(country)\n",
    "Counter(countries_wc).most_common(5)"
   ]
  },
  {
   "cell_type": "markdown",
   "metadata": {},
   "source": [
    "This doesn't mean that 5 countries represent 7851 movies... We have to make sure that we make the cut leaving at least 1 country per movie. We should assume that the first country listed is the one, and take it as a reference. Then, make the countries list from that."
   ]
  },
  {
   "cell_type": "code",
   "execution_count": 38,
   "metadata": {},
   "outputs": [
    {
     "data": {
      "text/plain": [
       "'United Kingdom'"
      ]
     },
     "execution_count": 38,
     "metadata": {},
     "output_type": "execute_result"
    }
   ],
   "source": [
    "reves_metadata[\"production_countries\"][9][0]"
   ]
  },
  {
   "cell_type": "code",
   "execution_count": 39,
   "metadata": {},
   "outputs": [
    {
     "data": {
      "text/plain": [
       "'United States of America'"
      ]
     },
     "execution_count": 39,
     "metadata": {},
     "output_type": "execute_result"
    }
   ],
   "source": [
    "reves_metadata[\"production_countries\"][0][0]"
   ]
  },
  {
   "cell_type": "code",
   "execution_count": 40,
   "metadata": {
    "scrolled": false
   },
   "outputs": [],
   "source": [
    "production_country=[]\n",
    "for element in reves_metadata[\"production_countries\"]:\n",
    "    if len(element)>0:\n",
    "        first_country=element[0]\n",
    "        production_country.append(first_country)\n",
    "    else:\n",
    "        first_country=\"\"\n",
    "        production_country.append(first_country)"
   ]
  },
  {
   "cell_type": "code",
   "execution_count": 355,
   "metadata": {},
   "outputs": [
    {
     "data": {
      "text/plain": [
       "21256                       [India]\n",
       "1429     [United States of America]\n",
       "4440     [United States of America]\n",
       "6433     [United States of America]\n",
       "5549                       [Russia]\n",
       "24140    [United States of America]\n",
       "43009    [United States of America]\n",
       "1220     [United States of America]\n",
       "24343                 [New Zealand]\n",
       "10991    [United States of America]\n",
       "Name: production_countries, dtype: object"
      ]
     },
     "execution_count": 355,
     "metadata": {},
     "output_type": "execute_result"
    }
   ],
   "source": [
    "reves_metadata[\"production_countries\"].sample(10)"
   ]
  },
  {
   "cell_type": "code",
   "execution_count": 41,
   "metadata": {},
   "outputs": [
    {
     "name": "stderr",
     "output_type": "stream",
     "text": [
      "C:\\Users\\Elsa\\Anaconda3\\lib\\site-packages\\ipykernel_launcher.py:1: SettingWithCopyWarning: \n",
      "A value is trying to be set on a copy of a slice from a DataFrame.\n",
      "Try using .loc[row_indexer,col_indexer] = value instead\n",
      "\n",
      "See the caveats in the documentation: http://pandas.pydata.org/pandas-docs/stable/indexing.html#indexing-view-versus-copy\n",
      "  \"\"\"Entry point for launching an IPython kernel.\n"
     ]
    }
   ],
   "source": [
    "reves_metadata[\"production_country\"]=production_country"
   ]
  },
  {
   "cell_type": "code",
   "execution_count": 42,
   "metadata": {},
   "outputs": [
    {
     "data": {
      "text/plain": [
       "0    United States of America\n",
       "1    United States of America\n",
       "3    United States of America\n",
       "4    United States of America\n",
       "5    United States of America\n",
       "Name: production_country, dtype: object"
      ]
     },
     "execution_count": 42,
     "metadata": {},
     "output_type": "execute_result"
    }
   ],
   "source": [
    "reves_metadata[\"production_country\"].head()"
   ]
  },
  {
   "cell_type": "code",
   "execution_count": 43,
   "metadata": {
    "scrolled": true
   },
   "outputs": [
    {
     "data": {
      "text/plain": [
       "[('United States of America', 4497),\n",
       " ('United Kingdom', 548),\n",
       " ('France', 354),\n",
       " ('Canada', 267),\n",
       " ('Germany', 224),\n",
       " ('India', 204)]"
      ]
     },
     "execution_count": 43,
     "metadata": {},
     "output_type": "execute_result"
    }
   ],
   "source": [
    "country_wc=[]\n",
    "for element in reves_metadata[\"production_country\"]:\n",
    "        country_wc.append(element)\n",
    "Counter(country_wc).most_common(6)"
   ]
  },
  {
   "cell_type": "markdown",
   "metadata": {},
   "source": [
    "#### 8. Release Date"
   ]
  },
  {
   "cell_type": "markdown",
   "metadata": {},
   "source": [
    "Release Date can be a very significant variable in our model since we assume that the movies released nearby certain months or times of the year, can reach more revenue more easily. "
   ]
  },
  {
   "cell_type": "code",
   "execution_count": null,
   "metadata": {
    "collapsed": true,
    "scrolled": true
   },
   "outputs": [],
   "source": [
    "print(reves_metadata[\"release_date\"].sample(5))\n",
    "print(\"There are %d null values\" % (reves_metadata[\"release_date\"].isnull().sum()))"
   ]
  },
  {
   "cell_type": "code",
   "execution_count": null,
   "metadata": {
    "collapsed": true
   },
   "outputs": [],
   "source": [
    "reves_metadata[\"release_date\"][35207][8:11]"
   ]
  },
  {
   "cell_type": "code",
   "execution_count": null,
   "metadata": {
    "collapsed": true,
    "scrolled": true
   },
   "outputs": [],
   "source": [
    "type(reves_metadata[\"release_date\"][2255])"
   ]
  },
  {
   "cell_type": "markdown",
   "metadata": {},
   "source": [
    "Info is stored in string format, so we should transform that to Date format, in order to be useful. "
   ]
  },
  {
   "cell_type": "markdown",
   "metadata": {},
   "source": [
    "We can also create new columns just storing the year and the month, since the day or the exact date wont be necessary"
   ]
  },
  {
   "cell_type": "code",
   "execution_count": null,
   "metadata": {
    "collapsed": true
   },
   "outputs": [],
   "source": [
    "reves_metadata[\"release_date\"]=reves_metadata[\"release_date\"].apply(lambda x: str(x).replace(\"-\",\"/\"))\n",
    "reves_metadata[\"release_date\"]=reves_metadata[\"release_date\"].apply(lambda x: pd.to_datetime(x, infer_datetime_format=True))"
   ]
  },
  {
   "cell_type": "code",
   "execution_count": null,
   "metadata": {
    "collapsed": true
   },
   "outputs": [],
   "source": [
    "from datetime import datetime\n",
    "#for line in reves_metadata:\n",
    "    #str(reves_metadata[\"release_date\"])\n",
    "    #reves_metadata[\"release_date\"].replace(\"-\",\"/\")\n",
    "reves_metadata[\"release_date\"]=reves_metadata[\"release_date\"].apply(lambda x: datetime.strptime(x, '%Y-%m-%d'))"
   ]
  },
  {
   "cell_type": "code",
   "execution_count": null,
   "metadata": {
    "collapsed": true
   },
   "outputs": [],
   "source": [
    "reves_metadata[\"release_year\"]=reves_metadata[\"release date\"][0:3]\n",
    "reves_metadata[\"release_month\"]=\"\"\n",
    "reves_metadata[\"release_day\"]=\"\"\n",
    "def split_to_date(x):\n",
    "    year=x[0:3]\n",
    "    month=x[5:7]\n",
    "    day=x[8:11]"
   ]
  },
  {
   "cell_type": "markdown",
   "metadata": {},
   "source": [
    "#### 9. Runtime"
   ]
  },
  {
   "cell_type": "code",
   "execution_count": null,
   "metadata": {
    "collapsed": true,
    "scrolled": false
   },
   "outputs": [],
   "source": [
    "reves_metadata[\"runtime\"].sample(5)"
   ]
  },
  {
   "cell_type": "code",
   "execution_count": null,
   "metadata": {
    "collapsed": true
   },
   "outputs": [],
   "source": [
    "reves_metadata[\"runtime\"].describe()"
   ]
  },
  {
   "cell_type": "markdown",
   "metadata": {},
   "source": [
    "Seems like runtime means how many days the movie has been running on cinemas. The min is 0, and that should mean that some movies have not been released. We should check if that's true, because if they have not been released, they shouldn't have revenue. "
   ]
  },
  {
   "cell_type": "markdown",
   "metadata": {},
   "source": [
    "#### 10. Title"
   ]
  },
  {
   "cell_type": "code",
   "execution_count": null,
   "metadata": {
    "collapsed": true
   },
   "outputs": [],
   "source": []
  },
  {
   "cell_type": "code",
   "execution_count": null,
   "metadata": {
    "collapsed": true
   },
   "outputs": [],
   "source": []
  }
 ],
 "metadata": {
  "kernelspec": {
   "display_name": "Python 3",
   "language": "python",
   "name": "python3"
  },
  "language_info": {
   "codemirror_mode": {
    "name": "ipython",
    "version": 3
   },
   "file_extension": ".py",
   "mimetype": "text/x-python",
   "name": "python",
   "nbconvert_exporter": "python",
   "pygments_lexer": "ipython3",
   "version": "3.6.5"
  }
 },
 "nbformat": 4,
 "nbformat_minor": 2
}
