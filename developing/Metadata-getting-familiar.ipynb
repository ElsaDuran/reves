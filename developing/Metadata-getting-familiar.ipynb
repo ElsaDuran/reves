{
 "cells": [
  {
   "cell_type": "markdown",
   "metadata": {},
   "source": [
    "# Getting familiar with Movies_Metadata File"
   ]
  },
  {
   "cell_type": "markdown",
   "metadata": {},
   "source": [
    "Reload dataset"
   ]
  },
  {
   "cell_type": "code",
   "execution_count": 4,
   "metadata": {},
   "outputs": [
    {
     "name": "stdout",
     "output_type": "stream",
     "text": [
      "(7408, 24)\n",
      "Index(['adult', 'belongs_to_collection', 'budget', 'genres', 'homepage', 'id',\n",
      "       'imdb_id', 'original_language', 'original_title', 'overview',\n",
      "       'popularity', 'poster_path', 'production_companies',\n",
      "       'production_countries', 'release_date', 'revenue', 'runtime',\n",
      "       'spoken_languages', 'status', 'tagline', 'title', 'video',\n",
      "       'vote_average', 'vote_count'],\n",
      "      dtype='object')\n"
     ]
    }
   ],
   "source": [
    "path=\"C:/Users/Elsa/OneDrive/master/03_reve/data/\"\n",
    "metadata_file=\"movies_metadata.csv\"\n",
    "metadata=pd.read_csv(path+metadata_file,low_memory=False)\n",
    "reves_metadata=metadata[metadata[\"revenue\"]>0]\n",
    "print(reves_metadata.shape)\n",
    "print(reves_metadata.columns)"
   ]
  },
  {
   "cell_type": "code",
   "execution_count": null,
   "metadata": {},
   "outputs": [],
   "source": []
  },
  {
   "cell_type": "code",
   "execution_count": null,
   "metadata": {},
   "outputs": [],
   "source": []
  },
  {
   "cell_type": "markdown",
   "metadata": {},
   "source": [
    "#### Loading libraries and data"
   ]
  },
  {
   "cell_type": "code",
   "execution_count": 309,
   "metadata": {},
   "outputs": [],
   "source": [
    "import pandas as pd\n",
    "import numpy as np\n",
    "import matplotlib.pyplot as plt\n",
    "from collections import Counter\n",
    "%matplotlib inline\n",
    "plt.style.use('ggplot')"
   ]
  },
  {
   "cell_type": "code",
   "execution_count": 310,
   "metadata": {},
   "outputs": [],
   "source": [
    "#Set the path to the data files\n",
    "path=\"C:/Users/Elsa/OneDrive/master/03_reve/data/\"\n",
    "metadata_file=\"movies_metadata.csv\""
   ]
  },
  {
   "cell_type": "code",
   "execution_count": 311,
   "metadata": {},
   "outputs": [],
   "source": [
    "metadata=pd.read_csv(path+metadata_file,low_memory=False)\n",
    "#The reason you get this low_memory warning is because guessing dtypes for each column is very memory demanding. \n",
    "#Pandas tries to determine what dtype to set by analyzing the data in each column"
   ]
  },
  {
   "cell_type": "markdown",
   "metadata": {},
   "source": [
    "#### Analyzing what we have"
   ]
  },
  {
   "cell_type": "code",
   "execution_count": 312,
   "metadata": {
    "scrolled": false
   },
   "outputs": [
    {
     "name": "stdout",
     "output_type": "stream",
     "text": [
      "<class 'pandas.core.frame.DataFrame'>\n",
      "(45466, 24)\n",
      "Index(['adult', 'belongs_to_collection', 'budget', 'genres', 'homepage', 'id',\n",
      "       'imdb_id', 'original_language', 'original_title', 'overview',\n",
      "       'popularity', 'poster_path', 'production_companies',\n",
      "       'production_countries', 'release_date', 'revenue', 'runtime',\n",
      "       'spoken_languages', 'status', 'tagline', 'title', 'video',\n",
      "       'vote_average', 'vote_count'],\n",
      "      dtype='object')\n"
     ]
    }
   ],
   "source": [
    "print(type(metadata))\n",
    "print(metadata.shape)\n",
    "print(metadata.columns)"
   ]
  },
  {
   "cell_type": "markdown",
   "metadata": {},
   "source": [
    "We have a 45466 row DataFrame, with 24 columns or variables. At first sight, we are interested in the following columns\n",
    "- Id\n",
    "- Belongs to collection\n",
    "- Budget\n",
    "- Genres\n",
    "- Popularity\n",
    "- Production companies\n",
    "- Production countries\n",
    "- Release date\n",
    "- **Revenue**\n",
    "- Runtime\n",
    "- Title\n"
   ]
  },
  {
   "cell_type": "code",
   "execution_count": 313,
   "metadata": {},
   "outputs": [
    {
     "name": "stdout",
     "output_type": "stream",
     "text": [
      "<class 'pandas.core.frame.DataFrame'>\n",
      "RangeIndex: 45466 entries, 0 to 45465\n",
      "Data columns (total 24 columns):\n",
      "adult                    45466 non-null object\n",
      "belongs_to_collection    4494 non-null object\n",
      "budget                   45466 non-null object\n",
      "genres                   45466 non-null object\n",
      "homepage                 7782 non-null object\n",
      "id                       45466 non-null object\n",
      "imdb_id                  45449 non-null object\n",
      "original_language        45455 non-null object\n",
      "original_title           45466 non-null object\n",
      "overview                 44512 non-null object\n",
      "popularity               45461 non-null object\n",
      "poster_path              45080 non-null object\n",
      "production_companies     45463 non-null object\n",
      "production_countries     45463 non-null object\n",
      "release_date             45379 non-null object\n",
      "revenue                  45460 non-null float64\n",
      "runtime                  45203 non-null float64\n",
      "spoken_languages         45460 non-null object\n",
      "status                   45379 non-null object\n",
      "tagline                  20412 non-null object\n",
      "title                    45460 non-null object\n",
      "video                    45460 non-null object\n",
      "vote_average             45460 non-null float64\n",
      "vote_count               45460 non-null float64\n",
      "dtypes: float64(4), object(20)\n",
      "memory usage: 8.3+ MB\n"
     ]
    }
   ],
   "source": [
    "metadata.info()"
   ]
  },
  {
   "cell_type": "code",
   "execution_count": 314,
   "metadata": {},
   "outputs": [
    {
     "data": {
      "text/plain": [
       "adult                        0\n",
       "belongs_to_collection    40972\n",
       "budget                       0\n",
       "genres                       0\n",
       "homepage                 37684\n",
       "id                           0\n",
       "imdb_id                     17\n",
       "original_language           11\n",
       "original_title               0\n",
       "overview                   954\n",
       "popularity                   5\n",
       "poster_path                386\n",
       "production_companies         3\n",
       "production_countries         3\n",
       "release_date                87\n",
       "revenue                      6\n",
       "runtime                    263\n",
       "spoken_languages             6\n",
       "status                      87\n",
       "tagline                  25054\n",
       "title                        6\n",
       "video                        6\n",
       "vote_average                 6\n",
       "vote_count                   6\n",
       "dtype: int64"
      ]
     },
     "execution_count": 314,
     "metadata": {},
     "output_type": "execute_result"
    }
   ],
   "source": [
    "metadata.isnull().sum()"
   ]
  },
  {
   "cell_type": "code",
   "execution_count": 315,
   "metadata": {
    "scrolled": true
   },
   "outputs": [],
   "source": [
    "#print (metadata[pd.to_numeric(metadata['id'], errors='coerce').isnull()])"
   ]
  },
  {
   "cell_type": "markdown",
   "metadata": {},
   "source": [
    "Apparently, seems like there are no null, but let's take a deeper look at each column"
   ]
  },
  {
   "cell_type": "code",
   "execution_count": 316,
   "metadata": {
    "scrolled": true
   },
   "outputs": [
    {
     "data": {
      "text/plain": [
       "adult                     object\n",
       "belongs_to_collection     object\n",
       "budget                    object\n",
       "genres                    object\n",
       "homepage                  object\n",
       "id                        object\n",
       "imdb_id                   object\n",
       "original_language         object\n",
       "original_title            object\n",
       "overview                  object\n",
       "popularity                object\n",
       "poster_path               object\n",
       "production_companies      object\n",
       "production_countries      object\n",
       "release_date              object\n",
       "revenue                  float64\n",
       "runtime                  float64\n",
       "spoken_languages          object\n",
       "status                    object\n",
       "tagline                   object\n",
       "title                     object\n",
       "video                     object\n",
       "vote_average             float64\n",
       "vote_count               float64\n",
       "dtype: object"
      ]
     },
     "execution_count": 316,
     "metadata": {},
     "output_type": "execute_result"
    }
   ],
   "source": [
    "metadata[metadata.columns].dtypes"
   ]
  },
  {
   "cell_type": "markdown",
   "metadata": {},
   "source": [
    "- Budget should be numeric\n",
    "- Belongs_to_collection should be bool\n",
    "- Id should be numeric"
   ]
  },
  {
   "cell_type": "markdown",
   "metadata": {},
   "source": [
    "#### 0. Drop irrelevant info"
   ]
  },
  {
   "cell_type": "markdown",
   "metadata": {},
   "source": [
    "Before continue analyzing, we should take a quick glance at the \"apparently irrelevant\" columns to decide if we drop them. This is not big data, but it could help with processing time.\n",
    "    - Overview\n",
    "    - Poster path\n",
    "    - Tagline\n",
    "    - Homepage\n",
    "    - Original Title (won't affect the model)\n",
    "    - Original language\n",
    "    - Spoken languages\n",
    "    -Video"
   ]
  },
  {
   "cell_type": "code",
   "execution_count": 317,
   "metadata": {
    "scrolled": true
   },
   "outputs": [
    {
     "data": {
      "text/plain": [
       "0    Led by Woody, Andy's toys live happily in his ...\n",
       "1    When siblings Judy and Peter discover an encha...\n",
       "2    A family wedding reignites the ancient feud be...\n",
       "Name: overview, dtype: object"
      ]
     },
     "execution_count": 317,
     "metadata": {},
     "output_type": "execute_result"
    }
   ],
   "source": [
    "metadata[\"overview\"].head(3)"
   ]
  },
  {
   "cell_type": "code",
   "execution_count": 318,
   "metadata": {},
   "outputs": [
    {
     "data": {
      "text/plain": [
       "\"Led by Woody, Andy's toys live happily in his room until Andy's birthday brings Buzz Lightyear onto the scene. Afraid of losing his place in Andy's heart, Woody plots against Buzz. But when circumstances separate Buzz and Woody from their owner, the duo eventually learns to put aside their differences.\""
      ]
     },
     "execution_count": 318,
     "metadata": {},
     "output_type": "execute_result"
    }
   ],
   "source": [
    "metadata[\"overview\"][0]"
   ]
  },
  {
   "cell_type": "markdown",
   "metadata": {},
   "source": [
    "It could be cool to analyze via NLP, but there's not enough info and not all movies have an overview"
   ]
  },
  {
   "cell_type": "code",
   "execution_count": 319,
   "metadata": {
    "scrolled": false
   },
   "outputs": [
    {
     "data": {
      "text/plain": [
       "0    /rhIRbceoE9lR4veEXuwCC2wARtG.jpg\n",
       "1    /vzmL6fP7aPKNKPRTFnZmiUfciyV.jpg\n",
       "2    /6ksm1sjKMFLbO7UY2i6G1ju9SML.jpg\n",
       "Name: poster_path, dtype: object"
      ]
     },
     "execution_count": 319,
     "metadata": {},
     "output_type": "execute_result"
    }
   ],
   "source": [
    "metadata[\"poster_path\"].head(3)"
   ]
  },
  {
   "cell_type": "code",
   "execution_count": 320,
   "metadata": {
    "scrolled": true
   },
   "outputs": [
    {
     "data": {
      "text/plain": [
       "0                                                  NaN\n",
       "1            Roll the dice and unleash the excitement!\n",
       "2    Still Yelling. Still Fighting. Still Ready for...\n",
       "Name: tagline, dtype: object"
      ]
     },
     "execution_count": 320,
     "metadata": {},
     "output_type": "execute_result"
    }
   ],
   "source": [
    "metadata[\"tagline\"].head(3)"
   ]
  },
  {
   "cell_type": "code",
   "execution_count": 321,
   "metadata": {},
   "outputs": [
    {
     "data": {
      "text/plain": [
       "0    http://toystory.disney.com/toy-story\n",
       "1                                     NaN\n",
       "2                                     NaN\n",
       "Name: homepage, dtype: object"
      ]
     },
     "execution_count": 321,
     "metadata": {},
     "output_type": "execute_result"
    }
   ],
   "source": [
    "metadata[\"homepage\"].head(3)"
   ]
  },
  {
   "cell_type": "code",
   "execution_count": 322,
   "metadata": {},
   "outputs": [
    {
     "data": {
      "text/plain": [
       "0           Toy Story\n",
       "1             Jumanji\n",
       "2    Grumpier Old Men\n",
       "Name: original_title, dtype: object"
      ]
     },
     "execution_count": 322,
     "metadata": {},
     "output_type": "execute_result"
    }
   ],
   "source": [
    "metadata[\"original_title\"].head(3)"
   ]
  },
  {
   "cell_type": "code",
   "execution_count": 323,
   "metadata": {
    "scrolled": true
   },
   "outputs": [
    {
     "data": {
      "text/plain": [
       "0    en\n",
       "1    en\n",
       "2    en\n",
       "Name: original_language, dtype: object"
      ]
     },
     "execution_count": 323,
     "metadata": {},
     "output_type": "execute_result"
    }
   ],
   "source": [
    "metadata[\"original_language\"].head(3)"
   ]
  },
  {
   "cell_type": "code",
   "execution_count": 324,
   "metadata": {
    "scrolled": true
   },
   "outputs": [
    {
     "data": {
      "text/plain": [
       "0             [{'iso_639_1': 'en', 'name': 'English'}]\n",
       "1    [{'iso_639_1': 'en', 'name': 'English'}, {'iso...\n",
       "2             [{'iso_639_1': 'en', 'name': 'English'}]\n",
       "Name: spoken_languages, dtype: object"
      ]
     },
     "execution_count": 324,
     "metadata": {},
     "output_type": "execute_result"
    }
   ],
   "source": [
    "metadata[\"spoken_languages\"].head(3)"
   ]
  },
  {
   "cell_type": "code",
   "execution_count": 325,
   "metadata": {},
   "outputs": [
    {
     "data": {
      "text/plain": [
       "32171    False\n",
       "2988     False\n",
       "9157     False\n",
       "Name: video, dtype: object"
      ]
     },
     "execution_count": 325,
     "metadata": {},
     "output_type": "execute_result"
    }
   ],
   "source": [
    "metadata[\"video\"].sample(3)"
   ]
  },
  {
   "cell_type": "code",
   "execution_count": 326,
   "metadata": {},
   "outputs": [],
   "source": [
    "metadata=metadata.drop([\"overview\",\"poster_path\",\"tagline\",\"homepage\",\"original_title\",\"original_language\",\"spoken_languages\",\"video\"],axis=1)"
   ]
  },
  {
   "cell_type": "markdown",
   "metadata": {},
   "source": [
    "#### 0. Id"
   ]
  },
  {
   "cell_type": "markdown",
   "metadata": {},
   "source": [
    "This will be the Key to join the different dataframes analyzed in this project. As we have established before, there are no missing values for this key-column, but type is wrong because it shouldn't be object but numeric. "
   ]
  },
  {
   "cell_type": "code",
   "execution_count": 327,
   "metadata": {},
   "outputs": [],
   "source": [
    "metadata[\"id\"] =pd.to_numeric(metadata['id'], errors='coerce',downcast=\"integer\")"
   ]
  },
  {
   "cell_type": "code",
   "execution_count": 328,
   "metadata": {
    "scrolled": true
   },
   "outputs": [
    {
     "data": {
      "text/plain": [
       "dtype('float64')"
      ]
     },
     "execution_count": 328,
     "metadata": {},
     "output_type": "execute_result"
    }
   ],
   "source": [
    "metadata[\"id\"].dtype"
   ]
  },
  {
   "cell_type": "markdown",
   "metadata": {},
   "source": [
    "#### 1. Revenue"
   ]
  },
  {
   "cell_type": "code",
   "execution_count": 329,
   "metadata": {
    "scrolled": false
   },
   "outputs": [
    {
     "data": {
      "text/plain": [
       "count    4.546000e+04\n",
       "mean     1.120935e+07\n",
       "std      6.433225e+07\n",
       "min      0.000000e+00\n",
       "25%      0.000000e+00\n",
       "50%      0.000000e+00\n",
       "75%      0.000000e+00\n",
       "max      2.787965e+09\n",
       "Name: revenue, dtype: float64"
      ]
     },
     "execution_count": 329,
     "metadata": {},
     "output_type": "execute_result"
    }
   ],
   "source": [
    "metadata[\"revenue\"].describe()"
   ]
  },
  {
   "cell_type": "code",
   "execution_count": 330,
   "metadata": {},
   "outputs": [
    {
     "data": {
      "text/plain": [
       "6"
      ]
     },
     "execution_count": 330,
     "metadata": {},
     "output_type": "execute_result"
    }
   ],
   "source": [
    "metadata[\"revenue\"].isnull().sum()"
   ]
  },
  {
   "cell_type": "markdown",
   "metadata": {},
   "source": [
    "First thing is first! The whole ponint to our model is being able to predict a movie revenue, so, this column is essential for this project. That's why the first thing we should do is find out how many movies do we have that actually have a registered value for the revenue. If this value is null, we will have to drop those rows.\n",
    "\n",
    "As we found out in the previous cell, and also checked at metadata's stats, there are 6 null values in Revenue. Furthermore, we ought to check if we have values worth $0 revenue, because they'd be like null for us. "
   ]
  },
  {
   "cell_type": "code",
   "execution_count": 331,
   "metadata": {},
   "outputs": [
    {
     "data": {
      "text/plain": [
       "(7408, 16)"
      ]
     },
     "execution_count": 331,
     "metadata": {},
     "output_type": "execute_result"
    }
   ],
   "source": [
    "metadata[metadata[\"revenue\"]>0].shape"
   ]
  },
  {
   "cell_type": "markdown",
   "metadata": {},
   "source": [
    "Out of 45466 movies, there are only 7408 rows with revenue metadata. We are going to create a new dataframe containing only the movies with revenue information, since it's essencial for our model. From now on, we would be using this new dataframe named \"reves_metadata\"."
   ]
  },
  {
   "cell_type": "code",
   "execution_count": 332,
   "metadata": {},
   "outputs": [],
   "source": [
    "reves_metadata=metadata[metadata[\"revenue\"]>0]"
   ]
  },
  {
   "cell_type": "code",
   "execution_count": 333,
   "metadata": {
    "scrolled": true
   },
   "outputs": [
    {
     "name": "stdout",
     "output_type": "stream",
     "text": [
      "(7408, 16)\n",
      "Index(['adult', 'belongs_to_collection', 'budget', 'genres', 'id', 'imdb_id',\n",
      "       'popularity', 'production_companies', 'production_countries',\n",
      "       'release_date', 'revenue', 'runtime', 'status', 'title', 'vote_average',\n",
      "       'vote_count'],\n",
      "      dtype='object')\n"
     ]
    }
   ],
   "source": [
    "print(reves_metadata.shape)\n",
    "print(reves_metadata.columns)"
   ]
  },
  {
   "cell_type": "markdown",
   "metadata": {},
   "source": [
    "The new file has 7408 rows with the same 18 columns"
   ]
  },
  {
   "cell_type": "code",
   "execution_count": 334,
   "metadata": {},
   "outputs": [
    {
     "name": "stdout",
     "output_type": "stream",
     "text": [
      "count    7.408000e+03\n",
      "mean     6.878739e+07\n",
      "std      1.464203e+08\n",
      "min      1.000000e+00\n",
      "25%      2.400000e+06\n",
      "50%      1.682272e+07\n",
      "75%      6.722707e+07\n",
      "max      2.787965e+09\n",
      "Name: revenue, dtype: float64\n",
      "-----\n",
      "There are 0 null values in revenue column in this new dataframe\n"
     ]
    }
   ],
   "source": [
    "print(reves_metadata[\"revenue\"].describe())\n",
    "print(\"-----\")\n",
    "print(\"There are %d null values in revenue column in this new dataframe\" % (reves_metadata[\"revenue\"].isnull().sum()))"
   ]
  },
  {
   "cell_type": "markdown",
   "metadata": {},
   "source": [
    "Now let's check some random values. They seem like reasonable numbers for a movie revenue, don't they?"
   ]
  },
  {
   "cell_type": "code",
   "execution_count": 335,
   "metadata": {
    "scrolled": true
   },
   "outputs": [
    {
     "data": {
      "text/plain": [
       "8127       3109904.0\n",
       "32908       454516.0\n",
       "39698     13000000.0\n",
       "1552      16000000.0\n",
       "6796     212011111.0\n",
       "19527         4534.0\n",
       "28214      4250507.0\n",
       "13001     17869048.0\n",
       "2602     215394738.0\n",
       "1972     222300000.0\n",
       "Name: revenue, dtype: float64"
      ]
     },
     "execution_count": 335,
     "metadata": {},
     "output_type": "execute_result"
    }
   ],
   "source": [
    "reves_metadata[\"revenue\"].sample(10)"
   ]
  },
  {
   "cell_type": "markdown",
   "metadata": {},
   "source": [
    "#### 2. Belongs to Collection"
   ]
  },
  {
   "cell_type": "code",
   "execution_count": 336,
   "metadata": {
    "scrolled": true
   },
   "outputs": [
    {
     "data": {
      "text/plain": [
       "0     {'id': 10194, 'name': 'Toy Story Collection', ...\n",
       "1                                                   NaN\n",
       "3                                                   NaN\n",
       "4     {'id': 96871, 'name': 'Father of the Bride Col...\n",
       "5                                                   NaN\n",
       "8                                                   NaN\n",
       "9     {'id': 645, 'name': 'James Bond Collection', '...\n",
       "10                                                  NaN\n",
       "12    {'id': 117693, 'name': 'Balto Collection', 'po...\n",
       "13                                                  NaN\n",
       "Name: belongs_to_collection, dtype: object"
      ]
     },
     "execution_count": 336,
     "metadata": {},
     "output_type": "execute_result"
    }
   ],
   "source": [
    "reves_metadata[\"belongs_to_collection\"].head(10)"
   ]
  },
  {
   "cell_type": "code",
   "execution_count": 337,
   "metadata": {
    "scrolled": true
   },
   "outputs": [
    {
     "name": "stdout",
     "output_type": "stream",
     "text": [
      "{'id': 10194, 'name': 'Toy Story Collection', 'poster_path': '/7G9915LfUQ2lVfwMEEhDsn3kT4B.jpg', 'backdrop_path': '/9FBwqcd9IRruEDUrTdcaafOMKUq.jpg'}\n",
      "Type for dicts elements is <class 'str'>\n"
     ]
    }
   ],
   "source": [
    "print(reves_metadata[\"belongs_to_collection\"][0])\n",
    "print (\"Type for dicts elements is %s\"%(type(reves_metadata[\"belongs_to_collection\"][0])))"
   ]
  },
  {
   "cell_type": "code",
   "execution_count": 338,
   "metadata": {},
   "outputs": [
    {
     "name": "stdout",
     "output_type": "stream",
     "text": [
      "nan\n",
      "Type for NaN elements is <class 'float'>\n"
     ]
    }
   ],
   "source": [
    "print(reves_metadata[\"belongs_to_collection\"][1])\n",
    "print (\"Type for NaN elements is %s\"%(type(reves_metadata[\"belongs_to_collection\"][1])))"
   ]
  },
  {
   "cell_type": "markdown",
   "metadata": {},
   "source": [
    "It seems that this column contains 2 different types of values: \n",
    "\n",
    "- If, indeed, the movie belongs to a series or a collection, the row contains a dict with the Id and the Name of that collection. \n",
    "- Otherwise, if the movie does not belong to a collection, the value is NaN. \n",
    "\n",
    "For our model, the valuable information is to know whether a movie belongs to a collection or not, because our assumption is that if it does, the expected revenue could be higher. \n",
    "\n",
    "Values different from NaN mean that they actually belong to a collection, so this could be simplified if translated into a dummie column where 0 means \"Doesn't belong to collection\" and 1 \"Does belong to a collection\". \n",
    "\n",
    "We will also create a  new column named \"collection_info\" with the id of the collection, in order to use it in the future if necessary. "
   ]
  },
  {
   "cell_type": "code",
   "execution_count": 339,
   "metadata": {
    "scrolled": true
   },
   "outputs": [
    {
     "name": "stderr",
     "output_type": "stream",
     "text": [
      "C:\\Users\\Elsa\\Anaconda3\\lib\\site-packages\\ipykernel_launcher.py:1: SettingWithCopyWarning: \n",
      "A value is trying to be set on a copy of a slice from a DataFrame.\n",
      "Try using .loc[row_indexer,col_indexer] = value instead\n",
      "\n",
      "See the caveats in the documentation: http://pandas.pydata.org/pandas-docs/stable/indexing.html#indexing-view-versus-copy\n",
      "  \"\"\"Entry point for launching an IPython kernel.\n"
     ]
    }
   ],
   "source": [
    "reves_metadata[\"collection_info\"]=reves_metadata[\"belongs_to_collection\"].copy()"
   ]
  },
  {
   "cell_type": "code",
   "execution_count": 340,
   "metadata": {},
   "outputs": [],
   "source": [
    "belongs_to_collection=[]\n",
    "for element in reves_metadata[\"belongs_to_collection\"]:\n",
    "    if type(element)==str:\n",
    "        belongs_to_collection.append(1)\n",
    "    else:\n",
    "        belongs_to_collection.append(0)"
   ]
  },
  {
   "cell_type": "code",
   "execution_count": 341,
   "metadata": {
    "scrolled": true
   },
   "outputs": [
    {
     "name": "stderr",
     "output_type": "stream",
     "text": [
      "C:\\Users\\Elsa\\Anaconda3\\lib\\site-packages\\ipykernel_launcher.py:1: SettingWithCopyWarning: \n",
      "A value is trying to be set on a copy of a slice from a DataFrame.\n",
      "Try using .loc[row_indexer,col_indexer] = value instead\n",
      "\n",
      "See the caveats in the documentation: http://pandas.pydata.org/pandas-docs/stable/indexing.html#indexing-view-versus-copy\n",
      "  \"\"\"Entry point for launching an IPython kernel.\n"
     ]
    }
   ],
   "source": [
    "reves_metadata[\"belongs_to_collection\"]=belongs_to_collection"
   ]
  },
  {
   "cell_type": "code",
   "execution_count": 342,
   "metadata": {
    "scrolled": false
   },
   "outputs": [
    {
     "data": {
      "text/plain": [
       "0    1\n",
       "1    0\n",
       "3    0\n",
       "4    1\n",
       "5    0\n",
       "Name: belongs_to_collection, dtype: int64"
      ]
     },
     "execution_count": 342,
     "metadata": {},
     "output_type": "execute_result"
    }
   ],
   "source": [
    "reves_metadata[\"belongs_to_collection\"].head()"
   ]
  },
  {
   "cell_type": "code",
   "execution_count": 343,
   "metadata": {},
   "outputs": [
    {
     "name": "stdout",
     "output_type": "stream",
     "text": [
      "There are 1483 movies that DO belong to a collection\n",
      "There are 5925 movies that DON'T belong to any collection\n"
     ]
    }
   ],
   "source": [
    "print(\"There are %d movies that DO belong to a collection\"%(reves_metadata[\"belongs_to_collection\"]==1).sum())\n",
    "print(\"There are %d movies that DON'T belong to any collection\"%(reves_metadata[\"belongs_to_collection\"]==0).sum())"
   ]
  },
  {
   "cell_type": "markdown",
   "metadata": {},
   "source": [
    "#### 3. Budget"
   ]
  },
  {
   "cell_type": "markdown",
   "metadata": {},
   "source": [
    "First, basic data exploring"
   ]
  },
  {
   "cell_type": "code",
   "execution_count": 344,
   "metadata": {},
   "outputs": [
    {
     "data": {
      "text/plain": [
       "0    30000000\n",
       "1    65000000\n",
       "3    16000000\n",
       "4           0\n",
       "5    60000000\n",
       "Name: budget, dtype: object"
      ]
     },
     "execution_count": 344,
     "metadata": {},
     "output_type": "execute_result"
    }
   ],
   "source": [
    "reves_metadata[\"budget\"].head()"
   ]
  },
  {
   "cell_type": "code",
   "execution_count": 345,
   "metadata": {
    "scrolled": true
   },
   "outputs": [
    {
     "data": {
      "text/plain": [
       "count     7408\n",
       "unique     705\n",
       "top          0\n",
       "freq      2027\n",
       "Name: budget, dtype: object"
      ]
     },
     "execution_count": 345,
     "metadata": {},
     "output_type": "execute_result"
    }
   ],
   "source": [
    "reves_metadata[\"budget\"].describe()"
   ]
  },
  {
   "cell_type": "markdown",
   "metadata": {},
   "source": [
    "Surprise! Seems like values are not numeric! We should fix that."
   ]
  },
  {
   "cell_type": "code",
   "execution_count": 346,
   "metadata": {
    "scrolled": true
   },
   "outputs": [
    {
     "name": "stderr",
     "output_type": "stream",
     "text": [
      "C:\\Users\\Elsa\\Anaconda3\\lib\\site-packages\\ipykernel_launcher.py:1: SettingWithCopyWarning: \n",
      "A value is trying to be set on a copy of a slice from a DataFrame.\n",
      "Try using .loc[row_indexer,col_indexer] = value instead\n",
      "\n",
      "See the caveats in the documentation: http://pandas.pydata.org/pandas-docs/stable/indexing.html#indexing-view-versus-copy\n",
      "  \"\"\"Entry point for launching an IPython kernel.\n",
      "C:\\Users\\Elsa\\Anaconda3\\lib\\site-packages\\ipykernel_launcher.py:2: SettingWithCopyWarning: \n",
      "A value is trying to be set on a copy of a slice from a DataFrame.\n",
      "Try using .loc[row_indexer,col_indexer] = value instead\n",
      "\n",
      "See the caveats in the documentation: http://pandas.pydata.org/pandas-docs/stable/indexing.html#indexing-view-versus-copy\n",
      "  \n"
     ]
    }
   ],
   "source": [
    "reves_metadata[\"budget\"]=pd.to_numeric(reves_metadata[\"budget\"], errors=\"coerce\")\n",
    "reves_metadata[\"budget\"]=reves_metadata[\"budget\"].replace(0,np.nan)"
   ]
  },
  {
   "cell_type": "code",
   "execution_count": 347,
   "metadata": {},
   "outputs": [
    {
     "data": {
      "text/plain": [
       "dtype('float64')"
      ]
     },
     "execution_count": 347,
     "metadata": {},
     "output_type": "execute_result"
    }
   ],
   "source": [
    "reves_metadata[\"budget\"].dtype"
   ]
  },
  {
   "cell_type": "markdown",
   "metadata": {},
   "source": [
    "Now we have to analyze, out of the 7408, how many movies contain budget information in order to determine if we can use this variable in our model. As it happened with \"Revenue\" seems like we have not nulls, but we have false positives, since a 0 budget is null for us and a perfectly \"not null\" value for Python. This column should be numeric and $0 budget should be Nan."
   ]
  },
  {
   "cell_type": "code",
   "execution_count": 348,
   "metadata": {},
   "outputs": [
    {
     "data": {
      "text/plain": [
       "5381"
      ]
     },
     "execution_count": 348,
     "metadata": {},
     "output_type": "execute_result"
    }
   ],
   "source": [
    "reves_metadata[reves_metadata[\"budget\"]>0][\"budget\"].count()"
   ]
  },
  {
   "cell_type": "code",
   "execution_count": 349,
   "metadata": {},
   "outputs": [
    {
     "data": {
      "text/plain": [
       "2491     66000000.0\n",
       "2358            NaN\n",
       "30134    65000000.0\n",
       "6660            NaN\n",
       "3890     13000000.0\n",
       "Name: budget, dtype: float64"
      ]
     },
     "execution_count": 349,
     "metadata": {},
     "output_type": "execute_result"
    }
   ],
   "source": [
    "reves_metadata[\"budget\"].sample(5)"
   ]
  },
  {
   "cell_type": "markdown",
   "metadata": {
    "collapsed": true
   },
   "source": [
    "Out of 7404 movies, 5381 have a valid value for budget. Is that enough data for our model?\n",
    "Also, taking a deeper look at the values, seems that most of them are exact and round amounts, and they don't seem very accurate. Should we use this data in our model?"
   ]
  },
  {
   "cell_type": "markdown",
   "metadata": {},
   "source": [
    "#### 4. Genres"
   ]
  },
  {
   "cell_type": "code",
   "execution_count": 350,
   "metadata": {
    "scrolled": true
   },
   "outputs": [
    {
     "data": {
      "text/plain": [
       "45250    [{'id': 28, 'name': 'Action'}, {'id': 35, 'nam...\n",
       "1683     [{'id': 10749, 'name': 'Romance'}, {'id': 35, ...\n",
       "12092    [{'id': 18, 'name': 'Drama'}, {'id': 80, 'name...\n",
       "11301    [{'id': 18, 'name': 'Drama'}, {'id': 53, 'name...\n",
       "2599     [{'id': 35, 'name': 'Comedy'}, {'id': 18, 'nam...\n",
       "Name: genres, dtype: object"
      ]
     },
     "execution_count": 350,
     "metadata": {},
     "output_type": "execute_result"
    }
   ],
   "source": [
    "reves_metadata[\"genres\"].sample(5)"
   ]
  },
  {
   "cell_type": "code",
   "execution_count": 351,
   "metadata": {},
   "outputs": [
    {
     "name": "stdout",
     "output_type": "stream",
     "text": [
      "[{'id': 16, 'name': 'Animation'}, {'id': 35, 'name': 'Comedy'}, {'id': 10751, 'name': 'Family'}]\n",
      "[{'id': 12, 'name': 'Adventure'}, {'id': 14, 'name': 'Fantasy'}, {'id': 10751, 'name': 'Family'}]\n",
      "[{'id': 10749, 'name': 'Romance'}, {'id': 16, 'name': 'Animation'}, {'id': 10751, 'name': 'Family'}, {'id': 35, 'name': 'Comedy'}, {'id': 12, 'name': 'Adventure'}]\n"
     ]
    }
   ],
   "source": [
    "print(reves_metadata[\"genres\"][0])\n",
    "print(reves_metadata[\"genres\"][1])\n",
    "print(reves_metadata[\"genres\"][235])"
   ]
  },
  {
   "cell_type": "markdown",
   "metadata": {},
   "source": [
    "Seems that in this column, we can find a list of dicts that indicate the different movie genres associated to each movie. As we can see, there are many different generes associated to each movie, but not always the same ammount of them. First of all, we should find out how many different genres we've got, in order to decide what to do and how to use this information. \n",
    "\n",
    "Basic questions we should ask ourselves about the column \"Genres\":\n",
    "- Should we create dummie variables with all the genres? \n",
    "- What's the maxium numbers of genres per movie we want to use in our model \n",
    "- ...\n",
    "- Maybe we shoul just keep the id_genre info, and save the dict of (index,genre) outside the main dataframe, just for querys.\n"
   ]
  },
  {
   "cell_type": "markdown",
   "metadata": {},
   "source": [
    "First, let's find out how many different genres we have got, and what's the maximum number of genres any of the movies has"
   ]
  },
  {
   "cell_type": "code",
   "execution_count": 352,
   "metadata": {},
   "outputs": [],
   "source": [
    "#We will create a function as we will use it later with some other columns\n",
    "def to_list (column):\n",
    "    from ast import literal_eval\n",
    "    new_column= column.fillna('[]').apply(literal_eval).apply(lambda x: [i['name'] for i in x] if isinstance(x, list) else [])\n",
    "    return new_column"
   ]
  },
  {
   "cell_type": "code",
   "execution_count": 353,
   "metadata": {},
   "outputs": [
    {
     "name": "stderr",
     "output_type": "stream",
     "text": [
      "C:\\Users\\Elsa\\Anaconda3\\lib\\site-packages\\ipykernel_launcher.py:1: SettingWithCopyWarning: \n",
      "A value is trying to be set on a copy of a slice from a DataFrame.\n",
      "Try using .loc[row_indexer,col_indexer] = value instead\n",
      "\n",
      "See the caveats in the documentation: http://pandas.pydata.org/pandas-docs/stable/indexing.html#indexing-view-versus-copy\n",
      "  \"\"\"Entry point for launching an IPython kernel.\n"
     ]
    }
   ],
   "source": [
    "reves_metadata[\"genres\"]=to_list(reves_metadata[\"genres\"])"
   ]
  },
  {
   "cell_type": "code",
   "execution_count": 354,
   "metadata": {
    "scrolled": true
   },
   "outputs": [
    {
     "data": {
      "text/plain": [
       "0          [Animation, Comedy, Family]\n",
       "1         [Adventure, Fantasy, Family]\n",
       "3             [Comedy, Drama, Romance]\n",
       "4                             [Comedy]\n",
       "5     [Action, Crime, Drama, Thriller]\n",
       "8        [Action, Adventure, Thriller]\n",
       "9        [Adventure, Action, Thriller]\n",
       "10            [Comedy, Drama, Romance]\n",
       "12      [Family, Animation, Adventure]\n",
       "13                    [History, Drama]\n",
       "Name: genres, dtype: object"
      ]
     },
     "execution_count": 354,
     "metadata": {},
     "output_type": "execute_result"
    }
   ],
   "source": [
    "reves_metadata[\"genres\"].head(10)"
   ]
  },
  {
   "cell_type": "code",
   "execution_count": 355,
   "metadata": {},
   "outputs": [
    {
     "name": "stdout",
     "output_type": "stream",
     "text": [
      "There are a max of 8 genres per movie\n"
     ]
    }
   ],
   "source": [
    "genres_lenghts=[]\n",
    "for line in reves_metadata[\"genres\"]:\n",
    "    lenght=len(line)\n",
    "    genres_lenghts.append(lenght)\n",
    "print(\"There are a max of %d genres per movie\"%(max(genres_lenghts)))"
   ]
  },
  {
   "cell_type": "markdown",
   "metadata": {},
   "source": [
    "How many genres per movie are we using for out model?"
   ]
  },
  {
   "cell_type": "code",
   "execution_count": 356,
   "metadata": {
    "scrolled": true
   },
   "outputs": [
    {
     "data": {
      "text/plain": [
       "2.4966252699784017"
      ]
     },
     "execution_count": 356,
     "metadata": {},
     "output_type": "execute_result"
    }
   ],
   "source": [
    "np.mean(genres_lenghts)"
   ]
  },
  {
   "cell_type": "markdown",
   "metadata": {},
   "source": [
    "Maybe we should set up the maximux on 3. It's a reasonable number of categories for a variable. In case we do that, we would be assuming that the first 3 genres mentioned in this column would be the most reliable, and the ones that best describe the movie's storyline."
   ]
  },
  {
   "cell_type": "markdown",
   "metadata": {},
   "source": [
    "Let's see how many genres we've got just in case we want to create dummie columns for each of them.  "
   ]
  },
  {
   "cell_type": "code",
   "execution_count": 357,
   "metadata": {},
   "outputs": [],
   "source": [
    "#We will create a function as we are going to do the same process with Production Companies and Production Countries.\n",
    "\n",
    "def get_uniques(sequence):\n",
    "    #from ast import literal_eval\n",
    "    #sequence=sequence.fillna('[]').apply(literal_eval).apply(lambda x: [i['name'] for i in x] if isinstance(x, list) else [])\n",
    "    counter=[]\n",
    "    for line in sequence:\n",
    "        counter.append(line)\n",
    "        flat_list=[item for sublist in sequence for item in sublist]\n",
    "        for sublist in sequence:\n",
    "            for item in sublist:\n",
    "                flat_list.append(item)\n",
    "        counter=list(set(flat_list))\n",
    "        \n",
    "        return counter"
   ]
  },
  {
   "cell_type": "code",
   "execution_count": 358,
   "metadata": {
    "scrolled": true
   },
   "outputs": [
    {
     "name": "stdout",
     "output_type": "stream",
     "text": [
      "There are 20 unique genres\n"
     ]
    },
    {
     "data": {
      "text/plain": [
       "['Fantasy',\n",
       " 'Family',\n",
       " 'Action',\n",
       " 'TV Movie',\n",
       " 'Horror',\n",
       " 'Drama',\n",
       " 'Thriller',\n",
       " 'History',\n",
       " 'Mystery',\n",
       " 'Music',\n",
       " 'Adventure',\n",
       " 'Crime',\n",
       " 'Comedy',\n",
       " 'Science Fiction',\n",
       " 'Foreign',\n",
       " 'War',\n",
       " 'Documentary',\n",
       " 'Animation',\n",
       " 'Western',\n",
       " 'Romance']"
      ]
     },
     "execution_count": 358,
     "metadata": {},
     "output_type": "execute_result"
    }
   ],
   "source": [
    "genres=get_uniques(reves_metadata[\"genres\"])\n",
    "print(\"There are %d unique genres\"%(len(genres)))\n",
    "genres"
   ]
  },
  {
   "cell_type": "code",
   "execution_count": 359,
   "metadata": {},
   "outputs": [],
   "source": [
    "#we should do a barplot with the most common genres."
   ]
  },
  {
   "cell_type": "code",
   "execution_count": 360,
   "metadata": {},
   "outputs": [
    {
     "data": {
      "text/plain": [
       "0                              [Animation, Comedy, Family]\n",
       "1                             [Adventure, Fantasy, Family]\n",
       "3                                 [Comedy, Drama, Romance]\n",
       "4                                                 [Comedy]\n",
       "5                         [Action, Crime, Drama, Thriller]\n",
       "8                            [Action, Adventure, Thriller]\n",
       "9                            [Adventure, Action, Thriller]\n",
       "10                                [Comedy, Drama, Romance]\n",
       "12                          [Family, Animation, Adventure]\n",
       "13                                        [History, Drama]\n",
       "14                                     [Action, Adventure]\n",
       "15                                          [Drama, Crime]\n",
       "16                                        [Drama, Romance]\n",
       "17                                         [Crime, Comedy]\n",
       "18                              [Crime, Comedy, Adventure]\n",
       "19                                 [Action, Comedy, Crime]\n",
       "20                               [Comedy, Thriller, Crime]\n",
       "22                    [Action, Adventure, Crime, Thriller]\n",
       "24                                        [Drama, Romance]\n",
       "26                                 [Comedy, Drama, Family]\n",
       "28                   [Fantasy, Science Fiction, Adventure]\n",
       "30                                          [Drama, Crime]\n",
       "31                    [Science Fiction, Thriller, Mystery]\n",
       "33                        [Fantasy, Drama, Comedy, Family]\n",
       "35                                                 [Drama]\n",
       "39                                                 [Drama]\n",
       "43                                       [Action, Fantasy]\n",
       "44                      [Fantasy, Drama, Comedy, Thriller]\n",
       "45                                        [Drama, Romance]\n",
       "46                              [Crime, Mystery, Thriller]\n",
       "                               ...                        \n",
       "44791                              [Action, Drama, Comedy]\n",
       "44812                               [Adventure, Animation]\n",
       "44818                                        [Documentary]\n",
       "44821      [Adventure, Fantasy, Animation, Action, Family]\n",
       "44826    [Adventure, Fantasy, Animation, Science Fictio...\n",
       "44842       [Action, Science Fiction, Thriller, Adventure]\n",
       "44844                                             [Comedy]\n",
       "44848                                      [Comedy, Drama]\n",
       "44850                                             [Comedy]\n",
       "44856                                    [Comedy, Romance]\n",
       "44888                                              [Drama]\n",
       "44904                             [Drama, Thriller, Crime]\n",
       "44947                                       [Crime, Drama]\n",
       "44956                                    [Drama, Thriller]\n",
       "44970                                    [Comedy, Romance]\n",
       "45014    [Action, Western, Science Fiction, Fantasy, Ho...\n",
       "45063                                            [Romance]\n",
       "45093                                              [Drama]\n",
       "45139                          [Comedy, Family, Animation]\n",
       "45167                   [Action, Crime, Mystery, Thriller]\n",
       "45238               [Adventure, Animation, Comedy, Family]\n",
       "45248                                             [Action]\n",
       "45250                              [Action, Comedy, Drama]\n",
       "45265                                      [Comedy, Drama]\n",
       "45381                          [Horror, Thriller, Mystery]\n",
       "45399                                      [Crime, Comedy]\n",
       "45401                            [Drama, History, Mystery]\n",
       "45409                                      [Comedy, Drama]\n",
       "45412                                     [Romance, Drama]\n",
       "45422                     [Action, Comedy, Crime, Foreign]\n",
       "Name: genres, Length: 7408, dtype: object"
      ]
     },
     "execution_count": 360,
     "metadata": {},
     "output_type": "execute_result"
    }
   ],
   "source": [
    "reves_metadata[\"genres\"]"
   ]
  },
  {
   "cell_type": "code",
   "execution_count": 361,
   "metadata": {
    "scrolled": true
   },
   "outputs": [
    {
     "data": {
      "text/plain": [
       "[('Drama', 3683),\n",
       " ('Comedy', 2607),\n",
       " ('Thriller', 1872),\n",
       " ('Action', 1736),\n",
       " ('Romance', 1437),\n",
       " ('Adventure', 1120),\n",
       " ('Crime', 1086),\n",
       " ('Science Fiction', 747),\n",
       " ('Horror', 735),\n",
       " ('Family', 678),\n",
       " ('Fantasy', 630),\n",
       " ('Mystery', 550),\n",
       " ('Animation', 385),\n",
       " ('History', 295),\n",
       " ('Music', 267),\n",
       " ('War', 244),\n",
       " ('Documentary', 221),\n",
       " ('Western', 117),\n",
       " ('Foreign', 84),\n",
       " ('TV Movie', 1)]"
      ]
     },
     "execution_count": 361,
     "metadata": {},
     "output_type": "execute_result"
    }
   ],
   "source": [
    "genres_wc=[]\n",
    "for element in reves_metadata[\"genres\"]:\n",
    "        for genre in element:\n",
    "            genres_wc.append(genre)\n",
    "genres_wc=Counter(genres_wc).most_common(20)\n",
    "genres_wc"
   ]
  },
  {
   "cell_type": "code",
   "execution_count": 362,
   "metadata": {},
   "outputs": [
    {
     "data": {
      "image/png": "[encoded data removed]",
      "text/plain": [
       "<Figure size 432x288 with 1 Axes>"
      ]
     },
     "metadata": {},
     "output_type": "display_data"
    }
   ],
   "source": [
    "x=[]\n",
    "y=[]\n",
    "for genre in genres_wc:\n",
    "    x.append(genre[0])\n",
    "    y.append(genre[1])\n",
    "    \n",
    "fig, ax = plt.subplots()\n",
    "ax.barh(x, y, color='blue')\n",
    "ax.invert_yaxis()\n",
    "ax.set_title('Movies per genre')\n",
    "plt.show()"
   ]
  },
  {
   "cell_type": "markdown",
   "metadata": {},
   "source": [
    "#### 5. Popularity"
   ]
  },
  {
   "cell_type": "code",
   "execution_count": 363,
   "metadata": {
    "scrolled": true
   },
   "outputs": [
    {
     "data": {
      "text/plain": [
       "count         7408\n",
       "unique        7401\n",
       "top       9.091288\n",
       "freq             2\n",
       "Name: popularity, dtype: object"
      ]
     },
     "execution_count": 363,
     "metadata": {},
     "output_type": "execute_result"
    }
   ],
   "source": [
    "reves_metadata[\"popularity\"].describe()"
   ]
  },
  {
   "cell_type": "code",
   "execution_count": 364,
   "metadata": {
    "scrolled": false
   },
   "outputs": [
    {
     "data": {
      "text/plain": [
       "15873    1.280455\n",
       "3043     9.091636\n",
       "17421    1.932489\n",
       "8293     0.680407\n",
       "4858      7.74579\n",
       "Name: popularity, dtype: object"
      ]
     },
     "execution_count": 364,
     "metadata": {},
     "output_type": "execute_result"
    }
   ],
   "source": [
    "reves_metadata[\"popularity\"].sample(5)"
   ]
  },
  {
   "cell_type": "code",
   "execution_count": 365,
   "metadata": {
    "scrolled": true
   },
   "outputs": [
    {
     "name": "stdout",
     "output_type": "stream",
     "text": [
      "96.272374\n",
      "0.000308\n"
     ]
    }
   ],
   "source": [
    "print(reves_metadata[\"popularity\"].max())\n",
    "print(reves_metadata[\"popularity\"].min())"
   ]
  },
  {
   "cell_type": "markdown",
   "metadata": {},
   "source": [
    "For what we can infer from data, popularity could be kind of a rating, but we don't actually know what it means nor how the data was collected. We should't use this info as a variable in our model since we can't explain how \"this number\" affects to the prediction. "
   ]
  },
  {
   "cell_type": "code",
   "execution_count": 366,
   "metadata": {},
   "outputs": [],
   "source": [
    "reves_metadata=reves_metadata.drop(\"popularity\",axis=1)"
   ]
  },
  {
   "cell_type": "markdown",
   "metadata": {},
   "source": [
    "#### 6. Production Companies"
   ]
  },
  {
   "cell_type": "code",
   "execution_count": 367,
   "metadata": {
    "scrolled": true
   },
   "outputs": [
    {
     "data": {
      "text/plain": [
       "0       [{'name': 'Pixar Animation Studios', 'id': 3}]\n",
       "1    [{'name': 'TriStar Pictures', 'id': 559}, {'na...\n",
       "3    [{'name': 'Twentieth Century Fox Film Corporat...\n",
       "4    [{'name': 'Sandollar Productions', 'id': 5842}...\n",
       "5    [{'name': 'Regency Enterprises', 'id': 508}, {...\n",
       "Name: production_companies, dtype: object"
      ]
     },
     "execution_count": 367,
     "metadata": {},
     "output_type": "execute_result"
    }
   ],
   "source": [
    "reves_metadata[\"production_companies\"].head(5)"
   ]
  },
  {
   "cell_type": "markdown",
   "metadata": {},
   "source": [
    "Same as it happened with genres. Contains a list of dicts."
   ]
  },
  {
   "cell_type": "code",
   "execution_count": 368,
   "metadata": {},
   "outputs": [],
   "source": [
    "reves_metadata[\"production_companies\"]=to_list(reves_metadata[\"production_companies\"])"
   ]
  },
  {
   "cell_type": "code",
   "execution_count": 369,
   "metadata": {},
   "outputs": [
    {
     "data": {
      "text/plain": [
       "0                            [Pixar Animation Studios]\n",
       "1    [TriStar Pictures, Teitler Film, Interscope Co...\n",
       "3             [Twentieth Century Fox Film Corporation]\n",
       "4         [Sandollar Productions, Touchstone Pictures]\n",
       "5    [Regency Enterprises, Forward Pass, Warner Bros.]\n",
       "Name: production_companies, dtype: object"
      ]
     },
     "execution_count": 369,
     "metadata": {},
     "output_type": "execute_result"
    }
   ],
   "source": [
    "reves_metadata[\"production_companies\"].head(5)"
   ]
  },
  {
   "cell_type": "code",
   "execution_count": 370,
   "metadata": {},
   "outputs": [
    {
     "name": "stdout",
     "output_type": "stream",
     "text": [
      "There are 7091 unique production companies\n"
     ]
    },
    {
     "data": {
      "text/plain": [
       "['Euskal Irrati Telebisa (EITB)',\n",
       " 'U-Film Malta',\n",
       " 'Ega Medios Audiovisuales',\n",
       " 'IMF Internationale Medien und Film GmbH & Co. 3. Produktions KG',\n",
       " 'McMurdo (Canada) Productions',\n",
       " 'Unisol 3 Distribution',\n",
       " 'Nancy Tenenbaum Films',\n",
       " 'Paradise City',\n",
       " 'Inflammable Films',\n",
       " 'Centre National de la Cinématographie',\n",
       " 'WDR',\n",
       " 'Novo Arturo Films',\n",
       " 'Cecchi Gori Group',\n",
       " 'SLM Production Group',\n",
       " 'Gladden Entertainment',\n",
       " 'Forum Films',\n",
       " 'Swargachitra',\n",
       " 'Ariane Mararía Films',\n",
       " 'Keep Your Head',\n",
       " 'First Thought Films',\n",
       " 'Vertigo Productions',\n",
       " 'Jonathan Krane Group',\n",
       " 'Senator Entertainment Co',\n",
       " 'Rolling Film Entertainment',\n",
       " 'Danish Film Institute',\n",
       " 'Seagal/Nasso Productions',\n",
       " 'Sunley Productions Ltd.',\n",
       " 'Alpha Productions',\n",
       " 'Imaginarium Entertainment Group',\n",
       " 'Head Gear Films',\n",
       " 'Kadokawa Pictures',\n",
       " 'ScreenWest',\n",
       " 'Metrol Technology',\n",
       " 'S & L Films',\n",
       " 'Concord Productions Inc.',\n",
       " 'Scamp Film and Theatre Ltd.',\n",
       " 'Muskat Filmed Properties',\n",
       " 'Embassy Pictures Corporation',\n",
       " 'Batjac Productions',\n",
       " 'Alpha Pictures',\n",
       " 'Chernin Entertainment',\n",
       " 'Single Cell Pictures',\n",
       " 'DiNovi Pictures',\n",
       " 'Cube Vision',\n",
       " 'Taewon Entertainment',\n",
       " 'Bergsten Music',\n",
       " 'Studio Babelsberg StudioBabelsberg Motion Pictures',\n",
       " 'BKM',\n",
       " 'Material Pictures',\n",
       " 'Headline Pictures',\n",
       " 'Overture Films',\n",
       " 'Yannix Technology Corporation',\n",
       " 'Casey Productions',\n",
       " 'Maruti International',\n",
       " 'Colgems Productions Ltd.',\n",
       " 'Lipsync Productions',\n",
       " 'Dogfish Pictures',\n",
       " 'Biograf Jan Svěrák',\n",
       " \"Fonds Eurimages du Conseil de l'Europe\",\n",
       " 'Dune Films',\n",
       " 'Sky Pictures',\n",
       " 'K/O Camera Toys',\n",
       " 'BBC',\n",
       " 'Filmförderung Hamburg',\n",
       " 'Everest Entertainment',\n",
       " 'Katharina',\n",
       " 'Monarch Pictures',\n",
       " 'Warner Bros. Pictures de España',\n",
       " 'Edition Video',\n",
       " 'Sierra Pictures',\n",
       " 'Magnolia Pictures',\n",
       " 'Fairview Entertainment',\n",
       " 'Motlys',\n",
       " 'Arka Media Works',\n",
       " 'Paris Film',\n",
       " 'Ahimsa Films',\n",
       " 'Dog Eat Dog Productions Inc.',\n",
       " 'Hal Roach Studios',\n",
       " 'Media Transactions',\n",
       " 'Highland Films',\n",
       " '3 Days in Vegas',\n",
       " 'Wes Craven Films',\n",
       " 'Medusa Film',\n",
       " 'Deerjen Films',\n",
       " 'ORF Film/Fernseh-Abkommen',\n",
       " 'Delphi Productions',\n",
       " 'VBT Productions',\n",
       " 'Beijing Forbidden City Film Co.',\n",
       " \"O'Connor Brothers\",\n",
       " 'Peter V. Miller Investment Corp.',\n",
       " \"United Performers' Studio\",\n",
       " 'Warner Bros. Entertainment',\n",
       " 'Lama Films',\n",
       " 'Magnolia Mae Films',\n",
       " 'Origin8 Media',\n",
       " 'Organización Santo Domingo',\n",
       " 'Perfect World (Beijing) Pictures Co.',\n",
       " 'Cappa Defina Productions',\n",
       " 'Pledge Productions',\n",
       " 'Katira Productions GmbH & Co. KG',\n",
       " 'Lighthouse Pictures',\n",
       " 'Duo Art Productions',\n",
       " 'ARD Degeto Film',\n",
       " 'SPAD Films',\n",
       " 'Micro scope',\n",
       " 'Arts Council of Great Britain',\n",
       " 'Bess Movie',\n",
       " 'Screen Queensland',\n",
       " 'Horizon Pictures (II)',\n",
       " 'Orion Pictures',\n",
       " 'Nick Wechsler Productions',\n",
       " 'New Amsterdam Entertainment',\n",
       " 'Informant Europe SPRL',\n",
       " 'Fria Luz Del Dia, A.I.E.',\n",
       " 'Samson Films',\n",
       " 'NDF International',\n",
       " 'Escape Artists',\n",
       " 'Goldstein Films',\n",
       " 'Steve White Entertainment',\n",
       " 'Reliance Big Pictures',\n",
       " 'Bad Aaas Cinema',\n",
       " 'Blueprint Pictures',\n",
       " 'Cloud Nine Movies',\n",
       " 'Columbia Films',\n",
       " 'VCL Communications',\n",
       " 'WarpX',\n",
       " 'HH Sheikha Salama bint Hamdan Al Nahyan',\n",
       " 'Molinare Investment',\n",
       " 'Fünfte Babelsberg Film',\n",
       " 'Younggu-Art Movies',\n",
       " 'TigerTiger Productions',\n",
       " 'Frank Yablans Presentations',\n",
       " 'Sid & Marty Krofft Pictures',\n",
       " 'Vertigo Films',\n",
       " 'Saban Films',\n",
       " 'barefoot films',\n",
       " 'Miracle Mile Productions Inc.',\n",
       " 'City on a Hill Productions',\n",
       " 'Sisifo Films AIE',\n",
       " 'Laura Films',\n",
       " 'Destination Films',\n",
       " 'Lost Highway Productions',\n",
       " 'Script Associés',\n",
       " 'London Boulevard',\n",
       " 'Colomby/Keaton Productions',\n",
       " '2S Films',\n",
       " 'Katalyst Films',\n",
       " 'Ministerio de Cultura',\n",
       " '2 Loop Films',\n",
       " 'Tatfilm',\n",
       " \"Po' Boy Productions\",\n",
       " 'Really Useful Films',\n",
       " 'Waverly Films',\n",
       " 'Applause Bhansali Productions',\n",
       " 'Legendary Pictures',\n",
       " 'Media Films',\n",
       " 'ShadowMachine Films',\n",
       " 'Rafter H Entertainment',\n",
       " 'TENCENT PICTURES',\n",
       " 'Chuck Productions',\n",
       " 'Mollywood',\n",
       " 'ARY Films',\n",
       " 'ITS Capital',\n",
       " 'InterAL',\n",
       " 'Cherry Alley Productions',\n",
       " 'Filmirage',\n",
       " 'Dark Castle Entertainment',\n",
       " 'Serendipity Productions',\n",
       " 'New Deal Productions',\n",
       " 'Zhang Yimou Studio',\n",
       " 'Akil Production Company',\n",
       " 'Morbido Films',\n",
       " '403 Productions',\n",
       " 'Kurier',\n",
       " 'Company Films',\n",
       " 'Family of the Year Productions',\n",
       " 'Retro-juice Productions',\n",
       " 'Provident Films',\n",
       " 'Twentieth Century Fox Animation',\n",
       " 'Telefónica Studios',\n",
       " 'Canana Films',\n",
       " 'Mirisch Films',\n",
       " 'Matten Productions',\n",
       " 'Constantin Film Produktion',\n",
       " 'Amen Ra Films',\n",
       " 'Applause Pictures',\n",
       " 'Bad Cop Bad Cop Film Productions',\n",
       " 'HandMade Films',\n",
       " 'Odd Lot Entertainment',\n",
       " 'Jim Henson Productions',\n",
       " 'Dream Factory Group',\n",
       " 'Image Engine Design',\n",
       " 'Apipoulaï',\n",
       " 'Matila Röhr Productions (MRP)',\n",
       " 'New Holland Pictures',\n",
       " 'Propeler',\n",
       " 'Apotheosis Media Group',\n",
       " 'Visualizer Film Company',\n",
       " 'Dimension Films',\n",
       " 'Shaft Productions Ltd.',\n",
       " 'Imaginary Forces',\n",
       " 'TV Tokyo',\n",
       " 'Indéfilms 2',\n",
       " 'Ultra Muchos Productions',\n",
       " 'CAMERON MACKINTOSH',\n",
       " 'Starburns Industries',\n",
       " 'Constellation Productions',\n",
       " 'Ghana National Commission on Culture',\n",
       " 'FR3 Films Production',\n",
       " 'Fearon Entertainment',\n",
       " 'Little Bird',\n",
       " 'Russian Ministry of Culture',\n",
       " 'Total Entertainment',\n",
       " 'Isabella Films B.V.',\n",
       " 'Yuk Films',\n",
       " 'Douglas/Reuther Productions',\n",
       " 'Magellan Pictures',\n",
       " 'Nemperor',\n",
       " 'Bueprint Pictures',\n",
       " 'Alliance Films',\n",
       " 'Seven Hills Pictures',\n",
       " 'Pontchartrain Productions',\n",
       " 'Liddell Entertainment',\n",
       " 'IndieProd Company Productions',\n",
       " 'Microsoft',\n",
       " 'Kim Ki-Duk Film',\n",
       " 'Samaha Productions',\n",
       " 'Huayi Brothers Media Corporation',\n",
       " 'Quebec Film and Television Tax Credit',\n",
       " 'Kim and Jim Productions',\n",
       " 'SRG SSR idée suisse',\n",
       " 'Millimeter Films',\n",
       " 'MC Productions',\n",
       " 'Liberty Pictures (II)',\n",
       " 'Jet Tone Production',\n",
       " 'Granada Television',\n",
       " 'Through Films',\n",
       " 'Thunder Road Pictures',\n",
       " 'Brown Sauce Film Productions',\n",
       " 'Country Music Television (CMT)',\n",
       " 'Shanghai Hoongman Technology Co.',\n",
       " 'Phase 1 Productions',\n",
       " 'Bregman/Baer Productions',\n",
       " 'Avery Pix',\n",
       " 'Management 360',\n",
       " 'Voltage Films',\n",
       " \"That's Nice Films\",\n",
       " 'Inferno Entertainment',\n",
       " 'Atlantic Entertainment Group',\n",
       " 'Perfume Films',\n",
       " 'Legendary East',\n",
       " 'A.F. Cinema e Vídeo',\n",
       " 'Aldamisa Entertainment',\n",
       " 'Signature Entertainment',\n",
       " 'Principato-Young Entertainment',\n",
       " 'Televiziunea Romana (TVR1)',\n",
       " 'Waterstone Entertainment',\n",
       " 'Haut et Court',\n",
       " 'Fiction Films',\n",
       " 'Omega Project',\n",
       " 'Mestiere Cinema',\n",
       " 'Sweet William Productions',\n",
       " 'Sovik Global Contents Fund',\n",
       " 'Post No Bills Films',\n",
       " 'Tangled Web Productions',\n",
       " 'Akson Studio',\n",
       " 'In A World',\n",
       " 'Bauer Martinez Studios',\n",
       " 'John Woo Film Production',\n",
       " 'Incorporated Television Company (ITC)',\n",
       " 'Cambridge Productions',\n",
       " 'Pan Européenne Productions',\n",
       " 'Deux Chevaux Films',\n",
       " 'Mile High Productions',\n",
       " 'TriStar Television',\n",
       " 'Tapioca Films',\n",
       " 'Belladonna Productions',\n",
       " 'Art Pictures Group',\n",
       " 'La Trini',\n",
       " 'thinkfilm',\n",
       " 'Lynch Siderow Productions',\n",
       " 'Slasher Films',\n",
       " 'Inland Empire Productions',\n",
       " 'Diligence Films',\n",
       " 'Tele+',\n",
       " 'Razor Film Produktion',\n",
       " 'Quantum Entertainment',\n",
       " 'Cinema One',\n",
       " 'Comptom Investments',\n",
       " 'Thunderbox Films',\n",
       " 'Qartuli Pilmi',\n",
       " 'Freedom Media',\n",
       " 'Haile Addis Pictures',\n",
       " 'Periscop Film',\n",
       " 'Chickie The Cop Production',\n",
       " 'Mango Farms',\n",
       " 'Parallel Film Productions',\n",
       " 'Theta Films',\n",
       " 'Esperanto Filmoj',\n",
       " 'Spelling Entertainment',\n",
       " 'Destro Films',\n",
       " 'Offspring Entertainment',\n",
       " 'New Visions Pictures',\n",
       " 'Independent Pictures (II)',\n",
       " 'Liaison Films',\n",
       " 'The Australian Film Commission',\n",
       " 'Filmayer',\n",
       " 'The Montecito Picture Company',\n",
       " 'Solar Productions',\n",
       " 'Lumiere',\n",
       " 'Screen East',\n",
       " 'Wescom Barber International',\n",
       " 'Red Chillies Entertainment',\n",
       " 'Tohokushinsha Film',\n",
       " 'Stanley Kramer Productions',\n",
       " 'Sailor Bear',\n",
       " 'Abbolita Productions',\n",
       " 'Evansgideon/Lazar',\n",
       " 'Snider Than Thou Productions Inc.',\n",
       " 'Police Academy Productions',\n",
       " 'Haven Entertainment',\n",
       " 'Televisió de Catalunya TV3',\n",
       " 'ApolloProMovie',\n",
       " 'Studio Box',\n",
       " 'Wild Things Productions',\n",
       " 'Fridthjof Film',\n",
       " 'Prospero Pictures',\n",
       " 'Green Film Company',\n",
       " 'National Geographic Entertainment',\n",
       " 'Arad Productions',\n",
       " 'Abyssa Films',\n",
       " 'Pandemonium Productions',\n",
       " 'Northern Lights Entertainment',\n",
       " 'Trinity Race',\n",
       " 'Alicia Produce S L',\n",
       " 'Laurentic Film Productions',\n",
       " 'Grand Army Entertainment',\n",
       " 'Neon',\n",
       " 'Toy Fight Productions',\n",
       " 'Little Wave Productions',\n",
       " 'EFVE',\n",
       " 'Allspark Pictures',\n",
       " 'Key Creatives',\n",
       " 'Tatiale Films',\n",
       " 'Laura Ziskin Productions',\n",
       " 'Curse Productions',\n",
       " 'Kasbah-Film Tanger',\n",
       " 'Blood Money Partners LP',\n",
       " 'Cobalt Media Group',\n",
       " 'Due West',\n",
       " 'Earth Girls',\n",
       " 'Marvel Animation',\n",
       " 'Fons Rademakers Produktie',\n",
       " 'Amazon Studios',\n",
       " 'Rodriguez International Pictures',\n",
       " 'Jerome Hellman Productions',\n",
       " 'Cineclick Asia',\n",
       " 'Alan Young Pictures',\n",
       " 'International Pictures Two',\n",
       " 'Zazen Produções',\n",
       " 'Fine Line Features',\n",
       " 'Troika Pictures',\n",
       " 'Cronos Entertainment AIE',\n",
       " 'Exception Wild Bunch',\n",
       " 'Dangerous Method Film AG',\n",
       " 'Ministry of Film, The',\n",
       " 'Case 39 Productions',\n",
       " 'Sorcerer Productions',\n",
       " 'Alan Jay Lerner Productions',\n",
       " 'Star Cinema Productions',\n",
       " 'Aviator Films',\n",
       " 'Artists Public Domain',\n",
       " 'Steel Mill Pictures',\n",
       " \"Donners' Company\",\n",
       " 'Metal Productions Inc.',\n",
       " 'Renaissance Pictures',\n",
       " 'Harbor Picture Company',\n",
       " 'Revolution Studios',\n",
       " 'venezia 64',\n",
       " 'New Breed Productions',\n",
       " 'Gruskoff/Venture Films',\n",
       " 'Film Capital Europe Funds (FCEF )',\n",
       " 'Mars Films',\n",
       " 'Sidney Kimmel Entertainment',\n",
       " '40 Acres & A Mule Filmworks',\n",
       " 'Gerard Butler Alan Siegel Entertainment',\n",
       " 'GEM Global Entertainment Magyar',\n",
       " 'SOIXAN7E QUIN5E',\n",
       " 'Parlay Films',\n",
       " 'Cosmic Pictures',\n",
       " 'Canal+ Droits Audiovisuels',\n",
       " 'Point Blank Productions',\n",
       " 'KISS Nation',\n",
       " 'Stereo D',\n",
       " 'Ulrich Seidl Film Produktion GmbH',\n",
       " 'Rainforest Films',\n",
       " 'Road Movies Filmproduktion GmbH',\n",
       " 'Mann Made Films',\n",
       " 'LB Productions',\n",
       " 'Aaron Spelling Productions',\n",
       " 'Coldstream Films',\n",
       " 'Beijing New Picture Film Co.',\n",
       " 'Half Circle',\n",
       " 'Maraci/Edelstein Films',\n",
       " 'Speedie Distribution',\n",
       " 'Tohokushinsha Film Corporation',\n",
       " 'Celador Films',\n",
       " 'The Film Consortium',\n",
       " 'Sean Daniel Company',\n",
       " 'Media Rights Capital (MRC)',\n",
       " 'Vasan Visual Ventures',\n",
       " 'Rovio Animation',\n",
       " 'NBC Universal Global Networks',\n",
       " 'Revolution Films',\n",
       " 'Mark Johnson Productions',\n",
       " 'Greenlit Rights',\n",
       " 'Universal Pictures Corporation',\n",
       " 'Blue Haze Entertainment',\n",
       " 'Sherwood Productions',\n",
       " 'Vaca Films',\n",
       " 'Pearl Street Films',\n",
       " 'Digging to China LLC',\n",
       " 'Media Asia Film',\n",
       " 'The Criterion Collection',\n",
       " 'Scope Pictures',\n",
       " 'Nicolas Entertainment',\n",
       " 'Schine-Moore Productions',\n",
       " 'Barbarian Films',\n",
       " 'Eyetronics',\n",
       " 'Film Direction',\n",
       " 'Bagman (2009)',\n",
       " 'The Collective',\n",
       " 'Sea Breeze Productions Inc.',\n",
       " 'Polygram Pictures',\n",
       " 'Roxbury',\n",
       " 'Grupo Rodar',\n",
       " 'Panorama Film A/S',\n",
       " 'Lone Wolf',\n",
       " 'Mosaic Media Group',\n",
       " 'Colossal Entertainment',\n",
       " 'TF1 International',\n",
       " 'Super Cassettes Industries Limited (T-Series)',\n",
       " 'France Télévisions Distribution',\n",
       " 'Walden Media',\n",
       " 'Blind Spot Pictures Oy',\n",
       " 'Nozon',\n",
       " 'Elle Driver',\n",
       " 'La Belle Allee Productions',\n",
       " 'Eracme Entertainment',\n",
       " 'Zhejiang Films & TV(Group) Company Ltd.',\n",
       " 'Brideshead Films',\n",
       " 'Hoody Boy Productions',\n",
       " 'Strongman',\n",
       " 'Solomon/Hackett Productions',\n",
       " 'Independent Film Group',\n",
       " 'Challenge Film Corporation',\n",
       " 'Ghost VFX',\n",
       " 'Victoires Productions',\n",
       " 'Unitel Classics',\n",
       " 'Cinealpha KG',\n",
       " 'Cyclops Vision',\n",
       " 'Eve Productions',\n",
       " 'Odeon Films',\n",
       " 'Timothy Burrill Productions',\n",
       " 'Aja / Levasseur Productions',\n",
       " 'Visual Arts Entertainment',\n",
       " 'Brian Grazer/Scott Rudin Productions',\n",
       " 'Autonomous',\n",
       " 'Sunday Productions',\n",
       " 'Cofimage 5',\n",
       " 'Yash Raj Films',\n",
       " 'Inside Track 3',\n",
       " 'Viking Films',\n",
       " 'Division Films',\n",
       " 'Cinema West Films',\n",
       " 'LG',\n",
       " 'Кинокомпания «Lunapark»',\n",
       " 'ImageMovers',\n",
       " 'Phoenix Film Poland',\n",
       " 'Rogue',\n",
       " 'Digital Image Associates',\n",
       " 'Millar Gough Ink',\n",
       " 'Fidélité Films',\n",
       " 'The Fyzz Facility',\n",
       " 'Handistom Investment',\n",
       " 'Departure Entertainment',\n",
       " 'TBB',\n",
       " 'Nordisk Film',\n",
       " 'Mersham Productions',\n",
       " 'Sechzehnte Babelsberg Film',\n",
       " 'U.K. Tax Credit',\n",
       " 'Continental Entertainment Group (CEG)',\n",
       " 'Rogue Marble',\n",
       " 'Five Star Institute',\n",
       " 'Filmline International',\n",
       " 'Hutch Parker Entertainment',\n",
       " 'Surefire Entertainment Capital',\n",
       " 'Team Film AB',\n",
       " 'Hand Made Films',\n",
       " 'Insight Film Releasing',\n",
       " 'SVT Drama',\n",
       " 'Cine Bazar',\n",
       " 'Houston King Productions',\n",
       " 'One Media',\n",
       " 'Anton Capital Entertainment (ACE)',\n",
       " 'Jurow-Shepherd',\n",
       " 'American Empirical Pictures',\n",
       " 'Perdido Productions',\n",
       " 'Momentum Films',\n",
       " 'Snoopadelic Films Inc.',\n",
       " 'Schramm Film Koerner & Weber',\n",
       " 'HorsePower Entertainment',\n",
       " 'Elixir Films',\n",
       " 'Corner Work',\n",
       " 'Marvel Productions',\n",
       " 'TLA Releasing',\n",
       " 'Underground',\n",
       " 'Neue Constantin Film',\n",
       " 'Euro-Images',\n",
       " 'Agencja Produkcji Filmowej',\n",
       " 'Loud Films',\n",
       " 'Studio Khara',\n",
       " 'Head On Productions',\n",
       " '1000 Volt',\n",
       " 'Cinétéléfilms',\n",
       " 'Icelandic Film',\n",
       " 'Buena Vista International Film Production France',\n",
       " 'Ubu Productions',\n",
       " 'Disruption Entertainment',\n",
       " 'Zentropa International',\n",
       " 'Focus Features',\n",
       " 'Samuels Media',\n",
       " 'Timnick Films',\n",
       " 'Ledge Productions',\n",
       " 'Steve Krantz Productions',\n",
       " 'Andale Pictures',\n",
       " 'United King Films',\n",
       " 'Blood Relations Co.',\n",
       " 'Leverage Management',\n",
       " 'Crew Neck Productions',\n",
       " 'Balcor Film Investors',\n",
       " 'Ciné+',\n",
       " 'Untouchable Films',\n",
       " 'Florentine Films',\n",
       " 'Desertlands Entertainment',\n",
       " 'Louverture Films',\n",
       " 'Round Films',\n",
       " 'Abbas Kiarostami Productions',\n",
       " 'Jeff Rice Films',\n",
       " 'Scout Productions',\n",
       " 'The Movie Network (TMN)',\n",
       " 'Canal Plus Group',\n",
       " 'Bryna Productions',\n",
       " 'Real Dakota',\n",
       " 'EDI',\n",
       " 'AVCO Embassy Pictures',\n",
       " 'Vrijzinnig Protestantse Radio Omroep (VPRO)',\n",
       " 'Battletruck Films Ltd.',\n",
       " 'Crossbow Productions',\n",
       " 'Capella',\n",
       " 'Synchronistic Pictures',\n",
       " 'The Javelina Film Company',\n",
       " 'Cannon Entertainment',\n",
       " 'Magic Picture',\n",
       " 'Sahara One Entertainment',\n",
       " 'Bleiberg Entertainment',\n",
       " 'Whitewater Films',\n",
       " 'Himenóptero',\n",
       " 'United Artists',\n",
       " '33andOut Productions',\n",
       " 'World Film Services',\n",
       " 'Polar Entertainment Corporation',\n",
       " 'The Zanuck Company',\n",
       " 'Rossen Films',\n",
       " 'Pathé Entertainment',\n",
       " 'Epidemic Pictures',\n",
       " 'Klasky-Csupo',\n",
       " 'Mandarin Films Distribution Co.',\n",
       " \"Centre du Cinéma et de l'Audiovisuel de la Fédération Wallonie-Bruxelles\",\n",
       " 'Sundial Pictures',\n",
       " 'Tatira-Hiller Productions',\n",
       " 'Zehnte Babelsberg',\n",
       " 'Castel Film Studio',\n",
       " 'Good Night Productions',\n",
       " 'The Princess Bride Ltd.',\n",
       " 'Alla Prima Productions',\n",
       " 'Naked City Films',\n",
       " 'Simon Fields Productions',\n",
       " 'Topkick Productions',\n",
       " 'WARNER BROS DIGITAL DISTRIBUTION',\n",
       " 'Isle of Man Film',\n",
       " 'Pathé Pictures International',\n",
       " 'Green Communications',\n",
       " 'TMS',\n",
       " 'Chartoff Winkler Productions',\n",
       " 'Rome Paris Films',\n",
       " 'Demi-Monde Productions',\n",
       " 'KDDI Corporation',\n",
       " 'Bifrost Pictures',\n",
       " 'Angoa-Agicoa',\n",
       " 'Banques Populaire Image 7',\n",
       " 'UW3 Film Productions',\n",
       " 'Solofilm',\n",
       " 'Roastbeef Productions',\n",
       " 'Mindhunters Productie BV',\n",
       " 'De Laurentiis',\n",
       " 'Feijão Filmes',\n",
       " 'Sidéral Productions',\n",
       " 'Ferndale Films',\n",
       " 'Bazelevs Production',\n",
       " 'Talking Heads',\n",
       " 'Kouf/Bigelow Productions',\n",
       " 'Market Street Productions',\n",
       " 'BBC Earth MD (WWD)',\n",
       " 'Troy Entertainment',\n",
       " 'Chime Films',\n",
       " 'Antoinine Green Bridge',\n",
       " 'Perfect Game, The',\n",
       " 'IDG China Media',\n",
       " 'Sociedad General de Televisión (Sogetel)',\n",
       " 'Bokomotiv Freddy Olsson Filmproduktion',\n",
       " 'Polsky Films',\n",
       " 'Indion Entertainment Group',\n",
       " 'Universal International Pictures (UI)',\n",
       " 'Popaganda Films',\n",
       " 'Stone Circle Pictures',\n",
       " 'Industry Entertainment',\n",
       " 'Heyday Films',\n",
       " 'Blue Sea Productions',\n",
       " 'AdScott Pictures',\n",
       " 'Laguna Entertainment',\n",
       " 'Front Street Productions',\n",
       " 'Henson Associates (HA)',\n",
       " 'Infinitum Nihil',\n",
       " 'cechi gori group',\n",
       " 'Goatworks Films',\n",
       " 'Loterie Suisse Romande',\n",
       " 'Columbia Pictures',\n",
       " 'CinePostproduction',\n",
       " 'Santa Fe International',\n",
       " 'Ananya Films',\n",
       " 'Cowboy Films',\n",
       " 'Intuition Films',\n",
       " 'Furst Films',\n",
       " 'Nomad Films',\n",
       " 'Colombia Pictures',\n",
       " 'Hwy61',\n",
       " 'Victoria Filmproduktion',\n",
       " 'Black Bear Pictures',\n",
       " 'Primetime Pictures',\n",
       " 'Vertigo',\n",
       " 'First Light Production',\n",
       " 'P & L',\n",
       " 'France 3 (FR 3)',\n",
       " 'Gabriel Polsky Productions',\n",
       " 'Belgacom',\n",
       " 'Birnbaum/Barber',\n",
       " 'Lorimar Motion Pictures',\n",
       " 'Achab Film',\n",
       " 'City Film',\n",
       " 'Art Pictures Studio',\n",
       " 'Dorset Productions',\n",
       " 'InDigEnt (Independent Digital Entertainment)',\n",
       " 'The Affleck/Middleton Project',\n",
       " 'Disney Channel',\n",
       " 'Filmsmith Productions',\n",
       " 'Abe Shuji',\n",
       " 'What Else? B.V',\n",
       " 'Pierre David',\n",
       " 'Namco',\n",
       " 'Nine Yards Two Productions',\n",
       " 'Mayhem Pictures',\n",
       " 'Film Council',\n",
       " 'Perdido Prod.',\n",
       " 'RV Camping Productions Ltd.',\n",
       " 'Studio Ortodoks',\n",
       " 'Hands-on Producers',\n",
       " 'Producers Sales Organization',\n",
       " 'Distant Horizons',\n",
       " 'Scary Stuff',\n",
       " 'ChubbCo Film',\n",
       " 'DOS',\n",
       " 'Pariah',\n",
       " 'Whizbang Films',\n",
       " 'KOH',\n",
       " \"O' Salvation\",\n",
       " 'Votiv Films',\n",
       " 'Three-Seven Entertainment',\n",
       " 'BDE Entertainment',\n",
       " 'Jhamu Sughand Productions',\n",
       " 'Don Carmody Productions',\n",
       " 'Cinemasia',\n",
       " 'Fifty First Films',\n",
       " 'Phantom Films',\n",
       " 'Aurora Productions',\n",
       " 'WV Films LLC',\n",
       " 'American Werewolf Inc.',\n",
       " 'Cecchi Gori Group Tiger Cinematografica',\n",
       " 'Compass International Pictures',\n",
       " 'Delphi II Productions',\n",
       " 'UGC DA International',\n",
       " 'Gato Negro Films',\n",
       " 'Embassy Films',\n",
       " 'Panda Productions Inc.',\n",
       " 'Getaway Films',\n",
       " 'Paul Thiltges Distributions',\n",
       " 'Ruby Films',\n",
       " 'Avalon Pictures',\n",
       " 'Karz Entertainment',\n",
       " 'Universe Entertainment',\n",
       " 'Pixomondo',\n",
       " 'Sombrero Films',\n",
       " 'Polygon Entertainment',\n",
       " 'Doosabu Film',\n",
       " 'Apatow Productions',\n",
       " 'Senator Global Productions',\n",
       " 'Amuse Soft Entertainment',\n",
       " 'Lenfilm Studio',\n",
       " 'Just Friends Productions',\n",
       " 'Wicked Films',\n",
       " 'Irish Dreamtime',\n",
       " 'Eskwad',\n",
       " 'Media Factory',\n",
       " 'Cheongeoram',\n",
       " 'Hal Lieberman Company',\n",
       " 'Apaches Entertainment',\n",
       " \"Les Aventuriers de l'Image\",\n",
       " 'Sidestreet Entertainment',\n",
       " 'Evzen Kolar Productions',\n",
       " 'Rome Film Commission',\n",
       " 'Mission Films',\n",
       " 'Artist International Management',\n",
       " 'Thinkfilm',\n",
       " 'PVP Cinema',\n",
       " 'Broadway Video',\n",
       " 'DoRo Fiction Film',\n",
       " 'Warner Bros. Interactive Entertainment',\n",
       " 'Tezuka Productions',\n",
       " 'Clipsal Films',\n",
       " 'Fida cinematografica',\n",
       " 'American Film Institute (AFI)',\n",
       " 'OG Project',\n",
       " 'Follow Through Productions',\n",
       " 'Studio Canal',\n",
       " 'Egg Films',\n",
       " 'Hit & Run Productions',\n",
       " 'NALA Films',\n",
       " 'Nu Boyana Film Studios',\n",
       " 'On the Road',\n",
       " 'Embankment Films',\n",
       " 'Reperage',\n",
       " 'Zip Films',\n",
       " 'Act III',\n",
       " 'Windy Hill Pictures',\n",
       " 'Gran Via Productions',\n",
       " 'Vinod Chopra Films',\n",
       " 'Warren Miller Entertainment',\n",
       " 'Milagro Films',\n",
       " 'Westdeutscher Rundfunk (WDR)',\n",
       " 'Summer Knowledge LLC',\n",
       " 'South Pacific Enterprises',\n",
       " 'Junction Entertainment',\n",
       " 'Winkler Films',\n",
       " 'Columbia Pictures Corporation',\n",
       " 'Toei Company',\n",
       " 'Quickfire Films',\n",
       " 'The Film Works',\n",
       " 'Aspen Productions',\n",
       " 'Hemisphere Media Capital',\n",
       " 'Trilogy Entertainment Group',\n",
       " 'Prospekt',\n",
       " 'Gainsborough Pictures',\n",
       " 'Lailaps Pictures',\n",
       " 'Sicilia Film Commission',\n",
       " 'Silver Bullet Productions (II)',\n",
       " 'Platige Image (koprodukcja)',\n",
       " 'Lorimar Film Entertainment',\n",
       " 'Star Overseas',\n",
       " 'Фокс',\n",
       " 'Parafrance Films',\n",
       " 'Full On Studios',\n",
       " 'Vita-Ray Dutch Productions (III)',\n",
       " 'Roy Export Company Establishment',\n",
       " 'Film Cellar',\n",
       " 'uFund',\n",
       " 'Internationale Filmproduktion Stella-del-Sud Second',\n",
       " 'Warp Films',\n",
       " 'Channel 4 Television',\n",
       " 'Talandracas',\n",
       " 'City of Lodz',\n",
       " 'Hera Productions',\n",
       " 'Boxing Cat Films',\n",
       " 'Animal Logic',\n",
       " 'The Yomiuri Shimbun',\n",
       " 'Solid Entertainment',\n",
       " 'Reserve Room',\n",
       " 'Jax Media',\n",
       " \"Wong Jing's Workshop\",\n",
       " 'KMP Film Invest',\n",
       " 'Franton Production',\n",
       " 'Nu Image Films',\n",
       " 'Cowtown Cinema Ventures',\n",
       " 'Augustus Film',\n",
       " 'Industrial Development Corporation of South Africa',\n",
       " 'Got Films',\n",
       " 'Ambience Entertainment',\n",
       " 'M6',\n",
       " 'Cinemarque Entertainment BV',\n",
       " 'Famous Players Ltd',\n",
       " 'Seven Pictures',\n",
       " 'Jinks/Cohen Company',\n",
       " 'U-Drive Productions',\n",
       " 'Pelican Productions LLC',\n",
       " 'ME2 Productions',\n",
       " 'Molinare Studios',\n",
       " 'Practical Pictures',\n",
       " 'Monarchy Enterprises B.V.',\n",
       " 'Quinta Communications',\n",
       " 'Shelter Productions',\n",
       " 'Canon Productions',\n",
       " 'Lucky Red',\n",
       " 'Fu Works',\n",
       " 'RoC Works Co.',\n",
       " 'Daniel Fried Productions',\n",
       " 'Foxstar',\n",
       " 'Mirabelle Pictures',\n",
       " 'Traveling Picture Show Company (TPSC)',\n",
       " 'VideoFilmes',\n",
       " 'Daiei Motion Picture Company',\n",
       " 'A-Mark Entertainment',\n",
       " 'Teen Life Productions',\n",
       " 'Walt Disney',\n",
       " 'JDI productions',\n",
       " 'Imagi Production',\n",
       " 'Renfield Productions',\n",
       " 'Nepenthe Productions',\n",
       " 'Zeta Zinema',\n",
       " 'Weimaraner Republic Pictures',\n",
       " 'Starstream Entertainment',\n",
       " 'Golar Productions',\n",
       " 'Boss Media',\n",
       " 'Echo Films',\n",
       " 'Ascension Pictures',\n",
       " 'Human Worldwide',\n",
       " 'FilmNation Entertainment',\n",
       " 'The Organization',\n",
       " 'Lee Daniels Entertainment',\n",
       " 'Universal Pictures International (UPI)',\n",
       " 'Silver Reel',\n",
       " 'Hecht-Lancaster Productions',\n",
       " 'Filmpartners',\n",
       " 'France 3 Cinema',\n",
       " 'Extension 765',\n",
       " '1019 Entertainment',\n",
       " 'Global Pictures',\n",
       " 'Firsttake Entertainment',\n",
       " 'Blum Hanson Allen Films',\n",
       " 'Fonds National de Soutien à la Production Audiovisuelle du Luxembourg',\n",
       " 'FullDawa Films',\n",
       " 'Twin Bros. Productions',\n",
       " 'Insight Film Studios',\n",
       " 'Fragile Films',\n",
       " 'GGR',\n",
       " 'Charenton Productions Limited',\n",
       " 'Wintergreen Productions',\n",
       " 'Insurgent Media',\n",
       " \"Hawk's Nest Productions\",\n",
       " 'Adam Schroeder Productions',\n",
       " 'Abandon Pictures',\n",
       " 'Akira Committee Company Ltd.',\n",
       " 'Oceana Media Finance',\n",
       " 'Alliance Communications Corporation',\n",
       " 'Les Films de la Pléiade',\n",
       " 'Internationale Filmproduktion Blackswan',\n",
       " 'Heyday films',\n",
       " 'Manhattan Project',\n",
       " 'Blumhouse',\n",
       " 'Sneaky Shark',\n",
       " 'Right of Way Films',\n",
       " 'Lolafilms',\n",
       " 'Zephyr Films',\n",
       " 'Rex Media',\n",
       " 'StuntArt.ru',\n",
       " 'Phantom Four Films',\n",
       " 'Montecito Picture Company, The',\n",
       " 'Stolen Car Productions',\n",
       " 'Warner Brothers/Seven Arts',\n",
       " 'Algonquin Productions Limited',\n",
       " 'Vegetarian Films',\n",
       " 'Gold Star Films',\n",
       " 'Insomnia Entertainment',\n",
       " 'Waadi Animations',\n",
       " 'Open Road Films (II)',\n",
       " 'Santa Frost Productions',\n",
       " 'Sea Side Films Florida Inc.',\n",
       " 'De Line Pictures',\n",
       " 'Golden Way Films Ltd.',\n",
       " 'ABC Pictures',\n",
       " 'Filmi Doomireew',\n",
       " 'Hallway Pictures',\n",
       " 'Kinostar',\n",
       " 'Keith Barish Productions',\n",
       " 'Alan Greenspan Productions',\n",
       " 'AM Associates',\n",
       " 'Red Box Films',\n",
       " 'C-Films AG',\n",
       " 'Admire Productions Ltd.',\n",
       " 'Graveyard Productions',\n",
       " 'Estudios Picasso',\n",
       " 'Sandia Media',\n",
       " 'Babelsberg Film',\n",
       " 'Rai Cinema',\n",
       " 'Filmgate Films',\n",
       " 'Topcraft',\n",
       " 'Creative Visions Productions',\n",
       " 'Mad Dog Productions',\n",
       " 'Pellikola',\n",
       " 'Remark Films',\n",
       " 'Chartoff Productions',\n",
       " 'Zhi Media',\n",
       " 'Oldgarth Media',\n",
       " 'Yucaipa Films',\n",
       " 'Ozla Pictures',\n",
       " 'Niccol Films',\n",
       " 'LStar Capital',\n",
       " 'Luminant Media',\n",
       " 'Studio Green',\n",
       " 'Investec Merchant Bank',\n",
       " 'Roven Productions',\n",
       " 'Lord Miller',\n",
       " 'Off Hollywood Pictures',\n",
       " 'Dubai Entertainment and Media Organization',\n",
       " 'Moving Picture Company (MPC)',\n",
       " 'Parnassus Productions',\n",
       " 'Herald Ace',\n",
       " 'Odin',\n",
       " 'Taleswapper',\n",
       " 'Slate Films',\n",
       " 'Cinergi Pictures Entertainment',\n",
       " \"Cooper's Town Productions\",\n",
       " 'Pendle Mountain Productions',\n",
       " 'Kaap Holland Film',\n",
       " 'Dillinger Productions',\n",
       " 'Canadian Heritage',\n",
       " 'Gatlin',\n",
       " 'Rai 1',\n",
       " 'Rising Sun Films',\n",
       " 'SharpSword Films',\n",
       " 'Indelible Productions',\n",
       " 'Universum Film (UFA)',\n",
       " 'Studio Image 4',\n",
       " 'Newmarket Films',\n",
       " '20th Century Fox Television',\n",
       " 'Tiny Giant Entertainment',\n",
       " 'Fabrica',\n",
       " 'HireWorks',\n",
       " \"Film Commission Regione Valle d'Aosta\",\n",
       " 'Saturn Films',\n",
       " 'White Hot Productions',\n",
       " 'Magna Films',\n",
       " 'Magna Theatre Corporation',\n",
       " 'Sofica Sofinergie 5',\n",
       " 'Atchity Entertainment International (AEI)',\n",
       " 'Nikolaus Geyrhalter Filmproduktion',\n",
       " 'Silverbell Films',\n",
       " 'DRO Entertainment',\n",
       " 'Maybe Movies',\n",
       " 'Aaron Russo Productions',\n",
       " 'Compagnie Industrielle et Commerciale Cinématographique (CICC)',\n",
       " 'Headforce Ltd.',\n",
       " 'Xstream Pictures',\n",
       " 'R & R Films',\n",
       " 'IM Global',\n",
       " 'Di Bonaventura Picture',\n",
       " 'Animus Films',\n",
       " 'Omnilab Media',\n",
       " 'Manhattan Pictures International',\n",
       " 'Applause Entertainment Ltd.',\n",
       " 'Spring Films',\n",
       " \"The Australian Children's Television Foundation\",\n",
       " 'Cruise-Wagner Productions',\n",
       " 'Le Pacte',\n",
       " 'Castafiore Films',\n",
       " 'Palomar Pictures',\n",
       " 'American Work',\n",
       " 'Gail Katz Productions',\n",
       " 'Chris Lee Productions',\n",
       " 'Burg/Koules Productions',\n",
       " 'Tigers Den Studios',\n",
       " 'The Post Republic',\n",
       " 'S.O.A.F. Productions',\n",
       " 'Pegasus Film Partners',\n",
       " 'Fewlas Entertainment',\n",
       " 'Red Hawk Entertainment',\n",
       " 'Valkyrie Films',\n",
       " 'SBS Independent',\n",
       " 'Lucille Ball Productions',\n",
       " 'International Cinema',\n",
       " 'Aurora Productions LLC',\n",
       " 'Pheasantry Films',\n",
       " ...]"
      ]
     },
     "execution_count": 370,
     "metadata": {},
     "output_type": "execute_result"
    }
   ],
   "source": [
    "production_companies=get_uniques(reves_metadata[\"production_companies\"])\n",
    "print(\"There are %d unique production companies\"%(len(production_companies)))\n",
    "production_companies"
   ]
  },
  {
   "cell_type": "markdown",
   "metadata": {},
   "source": [
    "There are 7091 unique production companies, way too many production companies for our model. Maybe we should get the most common ones, or the 20% that represent the 80% of the movies. (Around 6K movies). "
   ]
  },
  {
   "cell_type": "markdown",
   "metadata": {},
   "source": [
    "Let's analyze the most common Production Companies"
   ]
  },
  {
   "cell_type": "code",
   "execution_count": 371,
   "metadata": {
    "scrolled": false
   },
   "outputs": [
    {
     "data": {
      "text/plain": [
       "[('Warner Bros.', 491),\n",
       " ('Universal Pictures', 463),\n",
       " ('Paramount Pictures', 395),\n",
       " ('Twentieth Century Fox Film Corporation', 341),\n",
       " ('Columbia Pictures', 236),\n",
       " ('Metro-Goldwyn-Mayer (MGM)', 207),\n",
       " ('New Line Cinema', 198),\n",
       " ('Touchstone Pictures', 158),\n",
       " ('Walt Disney Pictures', 147),\n",
       " ('Columbia Pictures Corporation', 140)]"
      ]
     },
     "execution_count": 371,
     "metadata": {},
     "output_type": "execute_result"
    }
   ],
   "source": [
    "from collections import Counter\n",
    "companies_wc=[]\n",
    "for element in reves_metadata[\"production_companies\"]:\n",
    "        for company in element:\n",
    "            companies_wc.append(company)\n",
    "Counter(companies_wc).most_common(10)"
   ]
  },
  {
   "cell_type": "code",
   "execution_count": null,
   "metadata": {},
   "outputs": [],
   "source": []
  },
  {
   "cell_type": "code",
   "execution_count": null,
   "metadata": {},
   "outputs": [],
   "source": []
  },
  {
   "cell_type": "markdown",
   "metadata": {},
   "source": [
    "We cant't just take the most common ones, since there will be movies without any value for \"production company\". We have to make sure that we leave, at least, one production company for every movie."
   ]
  },
  {
   "cell_type": "code",
   "execution_count": 372,
   "metadata": {},
   "outputs": [],
   "source": [
    "production_company=[]\n",
    "for element in reves_metadata[\"production_companies\"]:\n",
    "    if len(element)>0:\n",
    "        first_company=element[0]\n",
    "        production_company.append(first_company)\n",
    "    else:\n",
    "        first_company=\"\"\n",
    "        production_company.append(first_company)"
   ]
  },
  {
   "cell_type": "code",
   "execution_count": 373,
   "metadata": {
    "scrolled": true
   },
   "outputs": [],
   "source": [
    "reves_metadata[\"production_company\"]=production_company"
   ]
  },
  {
   "cell_type": "code",
   "execution_count": 374,
   "metadata": {
    "scrolled": true
   },
   "outputs": [
    {
     "data": {
      "text/plain": [
       "0                   Pixar Animation Studios\n",
       "1                          TriStar Pictures\n",
       "3    Twentieth Century Fox Film Corporation\n",
       "4                     Sandollar Productions\n",
       "5                       Regency Enterprises\n",
       "Name: production_company, dtype: object"
      ]
     },
     "execution_count": 374,
     "metadata": {},
     "output_type": "execute_result"
    }
   ],
   "source": [
    "reves_metadata[\"production_company\"].head(5)"
   ]
  },
  {
   "cell_type": "code",
   "execution_count": 375,
   "metadata": {
    "scrolled": true
   },
   "outputs": [
    {
     "data": {
      "text/plain": [
       "[('', 411),\n",
       " ('Universal Pictures', 401),\n",
       " ('Paramount Pictures', 391),\n",
       " ('Twentieth Century Fox Film Corporation', 291),\n",
       " ('Columbia Pictures', 235),\n",
       " ('New Line Cinema', 187)]"
      ]
     },
     "execution_count": 375,
     "metadata": {},
     "output_type": "execute_result"
    }
   ],
   "source": [
    "company_wc=[]\n",
    "for element in reves_metadata[\"production_company\"]:\n",
    "        company_wc.append(element)\n",
    "Counter(company_wc).most_common(6)"
   ]
  },
  {
   "cell_type": "code",
   "execution_count": 376,
   "metadata": {},
   "outputs": [
    {
     "name": "stdout",
     "output_type": "stream",
     "text": [
      "There are a max of 26 production companies per movie\n",
      "The mean number of production companies per movie is 2.747300\n"
     ]
    }
   ],
   "source": [
    "production_companies_lenghts=[]\n",
    "for line in reves_metadata[\"production_companies\"]:\n",
    "    lenght=len(line)\n",
    "    production_companies_lenghts.append(lenght)\n",
    "print(\"There are a max of %d production companies per movie\"%(max(production_companies_lenghts)))\n",
    "print(\"The mean number of production companies per movie is %f\"%(np.mean(production_companies_lenghts)))"
   ]
  },
  {
   "cell_type": "code",
   "execution_count": 377,
   "metadata": {},
   "outputs": [
    {
     "data": {
      "text/plain": [
       "DescribeResult(nobs=7408, minmax=(0, 26), mean=2.7473002159827216, variance=4.780470636468158, skewness=2.31220766179745, kurtosis=10.933701520890173)"
      ]
     },
     "execution_count": 377,
     "metadata": {},
     "output_type": "execute_result"
    }
   ],
   "source": [
    "from scipy import stats\n",
    "stats.describe(production_companies_lenghts)"
   ]
  },
  {
   "cell_type": "markdown",
   "metadata": {},
   "source": [
    "#### 7. Production Countries"
   ]
  },
  {
   "cell_type": "code",
   "execution_count": 378,
   "metadata": {
    "scrolled": true
   },
   "outputs": [
    {
     "data": {
      "text/plain": [
       "1679     [{'iso_3166_1': 'IT', 'name': 'Italy'}, {'iso_...\n",
       "24982     [{'iso_3166_1': 'GB', 'name': 'United Kingdom'}]\n",
       "16725    [{'iso_3166_1': 'AT', 'name': 'Austria'}, {'is...\n",
       "15357    [{'iso_3166_1': 'US', 'name': 'United States o...\n",
       "6020     [{'iso_3166_1': 'AU', 'name': 'Australia'}, {'...\n",
       "Name: production_countries, dtype: object"
      ]
     },
     "execution_count": 378,
     "metadata": {},
     "output_type": "execute_result"
    }
   ],
   "source": [
    "reves_metadata[\"production_countries\"].sample(5)"
   ]
  },
  {
   "cell_type": "markdown",
   "metadata": {},
   "source": [
    "Almost same as before"
   ]
  },
  {
   "cell_type": "code",
   "execution_count": 379,
   "metadata": {
    "scrolled": false
   },
   "outputs": [
    {
     "name": "stdout",
     "output_type": "stream",
     "text": [
      "There are 98 unique production countries\n"
     ]
    },
    {
     "data": {
      "text/plain": [
       "['Pakistan',\n",
       " 'Mali',\n",
       " 'Angola',\n",
       " 'Venezuela',\n",
       " 'Jordan',\n",
       " 'Thailand',\n",
       " 'Qatar',\n",
       " 'Palestinian Territory',\n",
       " 'Uruguay',\n",
       " 'Morocco']"
      ]
     },
     "execution_count": 379,
     "metadata": {},
     "output_type": "execute_result"
    }
   ],
   "source": [
    "reves_metadata[\"production_countries\"]=to_list(reves_metadata[\"production_countries\"])\n",
    "production_countries=get_uniques(reves_metadata[\"production_countries\"])\n",
    "print(\"There are %d unique production countries\"%(len(production_countries)))\n",
    "production_countries[:10]"
   ]
  },
  {
   "cell_type": "code",
   "execution_count": 380,
   "metadata": {},
   "outputs": [
    {
     "data": {
      "text/plain": [
       "[('United States of America', 5623),\n",
       " ('United Kingdom', 917),\n",
       " ('France', 576),\n",
       " ('Germany', 412),\n",
       " ('Canada', 323)]"
      ]
     },
     "execution_count": 380,
     "metadata": {},
     "output_type": "execute_result"
    }
   ],
   "source": [
    "countries_wc=[]\n",
    "for element in reves_metadata[\"production_countries\"]:\n",
    "        for country in element:\n",
    "            countries_wc.append(country)\n",
    "Counter(countries_wc).most_common(5)"
   ]
  },
  {
   "cell_type": "markdown",
   "metadata": {},
   "source": [
    "This doesn't mean that 5 countries represent 7851 movies... We have to make sure that we make the cut leaving at least 1 country per movie. We should assume that the first country listed is the one, and take it as a reference. Then, make the countries list from that."
   ]
  },
  {
   "cell_type": "code",
   "execution_count": 381,
   "metadata": {},
   "outputs": [
    {
     "data": {
      "text/plain": [
       "'United Kingdom'"
      ]
     },
     "execution_count": 381,
     "metadata": {},
     "output_type": "execute_result"
    }
   ],
   "source": [
    "reves_metadata[\"production_countries\"][9][0]"
   ]
  },
  {
   "cell_type": "code",
   "execution_count": 382,
   "metadata": {},
   "outputs": [
    {
     "data": {
      "text/plain": [
       "'United States of America'"
      ]
     },
     "execution_count": 382,
     "metadata": {},
     "output_type": "execute_result"
    }
   ],
   "source": [
    "reves_metadata[\"production_countries\"][0][0]"
   ]
  },
  {
   "cell_type": "code",
   "execution_count": 383,
   "metadata": {
    "scrolled": false
   },
   "outputs": [],
   "source": [
    "production_country=[]\n",
    "for element in reves_metadata[\"production_countries\"]:\n",
    "    if len(element)>0:\n",
    "        first_country=element[0]\n",
    "        production_country.append(first_country)\n",
    "    else:\n",
    "        first_country=\"\"\n",
    "        production_country.append(first_country)"
   ]
  },
  {
   "cell_type": "code",
   "execution_count": 384,
   "metadata": {},
   "outputs": [
    {
     "data": {
      "text/plain": [
       "12518                             [France, Tunisia]\n",
       "36893        [Germany, Netherlands, United Kingdom]\n",
       "65                       [United States of America]\n",
       "1030                     [United States of America]\n",
       "6361                     [United States of America]\n",
       "6378                     [United States of America]\n",
       "1258                     [United States of America]\n",
       "29625                    [United States of America]\n",
       "12467                    [United States of America]\n",
       "10554    [United Kingdom, United States of America]\n",
       "Name: production_countries, dtype: object"
      ]
     },
     "execution_count": 384,
     "metadata": {},
     "output_type": "execute_result"
    }
   ],
   "source": [
    "reves_metadata[\"production_countries\"].sample(10)"
   ]
  },
  {
   "cell_type": "code",
   "execution_count": 385,
   "metadata": {},
   "outputs": [],
   "source": [
    "reves_metadata[\"production_country\"]=production_country"
   ]
  },
  {
   "cell_type": "code",
   "execution_count": 386,
   "metadata": {},
   "outputs": [
    {
     "data": {
      "text/plain": [
       "0    United States of America\n",
       "1    United States of America\n",
       "3    United States of America\n",
       "4    United States of America\n",
       "5    United States of America\n",
       "Name: production_country, dtype: object"
      ]
     },
     "execution_count": 386,
     "metadata": {},
     "output_type": "execute_result"
    }
   ],
   "source": [
    "reves_metadata[\"production_country\"].head()"
   ]
  },
  {
   "cell_type": "code",
   "execution_count": 387,
   "metadata": {
    "scrolled": false
   },
   "outputs": [
    {
     "data": {
      "text/plain": [
       "[('United States of America', 4497),\n",
       " ('United Kingdom', 548),\n",
       " ('France', 354),\n",
       " ('Canada', 267),\n",
       " ('Germany', 224),\n",
       " ('India', 204)]"
      ]
     },
     "execution_count": 387,
     "metadata": {},
     "output_type": "execute_result"
    }
   ],
   "source": [
    "country_wc=[]\n",
    "for element in reves_metadata[\"production_country\"]:\n",
    "        country_wc.append(element)\n",
    "Counter(country_wc).most_common(6)"
   ]
  },
  {
   "cell_type": "markdown",
   "metadata": {},
   "source": [
    "#### 8. Release Date"
   ]
  },
  {
   "cell_type": "markdown",
   "metadata": {},
   "source": [
    "Release Date can be a very significant variable in our model since we assume that the movies released nearby certain months or times of the year, can reach more revenue more easily. "
   ]
  },
  {
   "cell_type": "code",
   "execution_count": 388,
   "metadata": {
    "scrolled": true
   },
   "outputs": [
    {
     "name": "stdout",
     "output_type": "stream",
     "text": [
      "198      1995-10-27\n",
      "19956    2011-07-03\n",
      "30942    2015-10-09\n",
      "24139    2014-09-19\n",
      "41669    1987-04-09\n",
      "Name: release_date, dtype: object\n",
      "There are 1 null values\n"
     ]
    }
   ],
   "source": [
    "print(reves_metadata[\"release_date\"].sample(5))\n",
    "print(\"There are %d null values\" % (reves_metadata[\"release_date\"].isnull().sum()))"
   ]
  },
  {
   "cell_type": "code",
   "execution_count": 389,
   "metadata": {
    "scrolled": true
   },
   "outputs": [
    {
     "data": {
      "text/plain": [
       "str"
      ]
     },
     "execution_count": 389,
     "metadata": {},
     "output_type": "execute_result"
    }
   ],
   "source": [
    "type(reves_metadata[\"release_date\"][2255])"
   ]
  },
  {
   "cell_type": "markdown",
   "metadata": {},
   "source": [
    "Info is stored in string format, so we should transform that to Date format, in order to be useful. We could also create new columns just storing the year and the month, since the day or the exact date wont be necessary."
   ]
  },
  {
   "cell_type": "code",
   "execution_count": 390,
   "metadata": {},
   "outputs": [],
   "source": [
    "datetime=[]\n",
    "for element in reves_metadata[\"release_date\"]:\n",
    "    if type(element)==str:\n",
    "        date=pd.to_datetime(element, infer_datetime_format=True)\n",
    "        datetime.append(date)\n",
    "    else:\n",
    "        date=element\n",
    "        datetime.append(date)\n",
    "reves_metadata[\"datetime\"]=datetime       "
   ]
  },
  {
   "cell_type": "code",
   "execution_count": 391,
   "metadata": {},
   "outputs": [
    {
     "data": {
      "text/plain": [
       "pandas._libs.tslibs.timestamps.Timestamp"
      ]
     },
     "execution_count": 391,
     "metadata": {},
     "output_type": "execute_result"
    }
   ],
   "source": [
    "type(reves_metadata[\"datetime\"][5])"
   ]
  },
  {
   "cell_type": "code",
   "execution_count": 392,
   "metadata": {},
   "outputs": [
    {
     "data": {
      "text/plain": [
       "0   1995-10-30\n",
       "1   1995-12-15\n",
       "3   1995-12-22\n",
       "4   1995-02-10\n",
       "5   1995-12-15\n",
       "Name: datetime, dtype: datetime64[ns]"
      ]
     },
     "execution_count": 392,
     "metadata": {},
     "output_type": "execute_result"
    }
   ],
   "source": [
    "reves_metadata[\"datetime\"].head()"
   ]
  },
  {
   "cell_type": "markdown",
   "metadata": {},
   "source": [
    "Now we have a valid timestamp field for date"
   ]
  },
  {
   "cell_type": "markdown",
   "metadata": {},
   "source": [
    "#### 9. Runtime"
   ]
  },
  {
   "cell_type": "code",
   "execution_count": 393,
   "metadata": {
    "scrolled": false
   },
   "outputs": [
    {
     "data": {
      "text/plain": [
       "7170     121.0\n",
       "3830      84.0\n",
       "1635     120.0\n",
       "10014    112.0\n",
       "9170      87.0\n",
       "Name: runtime, dtype: float64"
      ]
     },
     "execution_count": 393,
     "metadata": {},
     "output_type": "execute_result"
    }
   ],
   "source": [
    "reves_metadata[\"runtime\"].sample(5)"
   ]
  },
  {
   "cell_type": "code",
   "execution_count": 394,
   "metadata": {
    "scrolled": true
   },
   "outputs": [
    {
     "name": "stdout",
     "output_type": "stream",
     "text": [
      "Maximum runtime is 338 days\n",
      "Minimun runtime is 0 days\n"
     ]
    }
   ],
   "source": [
    "print(\"Maximum runtime is %d days\"%(reves_metadata[\"runtime\"].max()))\n",
    "print(\"Minimun runtime is %d days\"%(reves_metadata[\"runtime\"].min()))"
   ]
  },
  {
   "cell_type": "markdown",
   "metadata": {},
   "source": [
    "Seems like runtime means how many days the movie has been running on cinemas. The min is 0, and that should mean that some movies have not been released. We should check if that's true, because if they have not been released, they shouldn't have revenue. "
   ]
  },
  {
   "cell_type": "code",
   "execution_count": 395,
   "metadata": {},
   "outputs": [
    {
     "name": "stdout",
     "output_type": "stream",
     "text": [
      "There are 21 movies with 0-day runtime\n",
      "21 of them have revenue greater than $0\n"
     ]
    }
   ],
   "source": [
    "not_released=reves_metadata[reves_metadata[\"runtime\"]<=0]\n",
    "print(\"There are %d movies with 0-day runtime\"%(len(not_released)))\n",
    "print(\"%d of them have revenue greater than $0\"%(len(not_released[not_released[\"revenue\"]>0])))"
   ]
  },
  {
   "cell_type": "markdown",
   "metadata": {},
   "source": [
    "Should we drop this movies?"
   ]
  },
  {
   "cell_type": "code",
   "execution_count": 396,
   "metadata": {},
   "outputs": [
    {
     "data": {
      "text/html": [
       "<div>\n",
       "<style scoped>\n",
       "    .dataframe tbody tr th:only-of-type {\n",
       "        vertical-align: middle;\n",
       "    }\n",
       "\n",
       "    .dataframe tbody tr th {\n",
       "        vertical-align: top;\n",
       "    }\n",
       "\n",
       "    .dataframe thead th {\n",
       "        text-align: right;\n",
       "    }\n",
       "</style>\n",
       "<table border=\"1\" class=\"dataframe\">\n",
       "  <thead>\n",
       "    <tr style=\"text-align: right;\">\n",
       "      <th></th>\n",
       "      <th>adult</th>\n",
       "      <th>belongs_to_collection</th>\n",
       "      <th>budget</th>\n",
       "      <th>genres</th>\n",
       "      <th>id</th>\n",
       "      <th>imdb_id</th>\n",
       "      <th>production_companies</th>\n",
       "      <th>production_countries</th>\n",
       "      <th>release_date</th>\n",
       "      <th>revenue</th>\n",
       "      <th>runtime</th>\n",
       "      <th>status</th>\n",
       "      <th>title</th>\n",
       "      <th>vote_average</th>\n",
       "      <th>vote_count</th>\n",
       "      <th>collection_info</th>\n",
       "      <th>production_company</th>\n",
       "      <th>production_country</th>\n",
       "      <th>datetime</th>\n",
       "    </tr>\n",
       "  </thead>\n",
       "  <tbody>\n",
       "    <tr>\n",
       "      <th>28876</th>\n",
       "      <td>False</td>\n",
       "      <td>0</td>\n",
       "      <td>NaN</td>\n",
       "      <td>[]</td>\n",
       "      <td>94236.0</td>\n",
       "      <td>tt0108234</td>\n",
       "      <td>[]</td>\n",
       "      <td>[]</td>\n",
       "      <td>1993-03-12</td>\n",
       "      <td>841.0</td>\n",
       "      <td>0.0</td>\n",
       "      <td>Released</td>\n",
       "      <td>Street Knight</td>\n",
       "      <td>7.0</td>\n",
       "      <td>5.0</td>\n",
       "      <td>NaN</td>\n",
       "      <td></td>\n",
       "      <td></td>\n",
       "      <td>1993-03-12</td>\n",
       "    </tr>\n",
       "    <tr>\n",
       "      <th>30039</th>\n",
       "      <td>False</td>\n",
       "      <td>0</td>\n",
       "      <td>336029.0</td>\n",
       "      <td>[Drama, Comedy]</td>\n",
       "      <td>41703.0</td>\n",
       "      <td>tt1224449</td>\n",
       "      <td>[]</td>\n",
       "      <td>[]</td>\n",
       "      <td>2008-08-21</td>\n",
       "      <td>927277.0</td>\n",
       "      <td>0.0</td>\n",
       "      <td>Released</td>\n",
       "      <td>Plus one</td>\n",
       "      <td>4.0</td>\n",
       "      <td>6.0</td>\n",
       "      <td>NaN</td>\n",
       "      <td></td>\n",
       "      <td></td>\n",
       "      <td>2008-08-21</td>\n",
       "    </tr>\n",
       "    <tr>\n",
       "      <th>30194</th>\n",
       "      <td>False</td>\n",
       "      <td>1</td>\n",
       "      <td>5579750.0</td>\n",
       "      <td>[Comedy]</td>\n",
       "      <td>161545.0</td>\n",
       "      <td>tt2456720</td>\n",
       "      <td>[Fandango, Rai Cinema]</td>\n",
       "      <td>[Italy]</td>\n",
       "      <td>2012-11-30</td>\n",
       "      <td>8927600.0</td>\n",
       "      <td>0.0</td>\n",
       "      <td>Released</td>\n",
       "      <td>Tutto tutto niente niente</td>\n",
       "      <td>4.8</td>\n",
       "      <td>54.0</td>\n",
       "      <td>{'id': 188197, 'name': 'Cetto La Qualunque - C...</td>\n",
       "      <td>Fandango</td>\n",
       "      <td>Italy</td>\n",
       "      <td>2012-11-30</td>\n",
       "    </tr>\n",
       "    <tr>\n",
       "      <th>31068</th>\n",
       "      <td>False</td>\n",
       "      <td>0</td>\n",
       "      <td>2500000.0</td>\n",
       "      <td>[Drama, Foreign, Romance]</td>\n",
       "      <td>21905.0</td>\n",
       "      <td>tt0409527</td>\n",
       "      <td>[]</td>\n",
       "      <td>[India]</td>\n",
       "      <td>2005-02-04</td>\n",
       "      <td>3100000.0</td>\n",
       "      <td>0.0</td>\n",
       "      <td>Released</td>\n",
       "      <td>Shabd</td>\n",
       "      <td>5.0</td>\n",
       "      <td>1.0</td>\n",
       "      <td>NaN</td>\n",
       "      <td></td>\n",
       "      <td>India</td>\n",
       "      <td>2005-02-04</td>\n",
       "    </tr>\n",
       "    <tr>\n",
       "      <th>31291</th>\n",
       "      <td>False</td>\n",
       "      <td>0</td>\n",
       "      <td>NaN</td>\n",
       "      <td>[Drama]</td>\n",
       "      <td>143344.0</td>\n",
       "      <td>tt1190905</td>\n",
       "      <td>[Televisión Española (TVE), Instituto de la Ci...</td>\n",
       "      <td>[Spain]</td>\n",
       "      <td>2008-11-07</td>\n",
       "      <td>404075.0</td>\n",
       "      <td>0.0</td>\n",
       "      <td>Released</td>\n",
       "      <td>El truco del manco</td>\n",
       "      <td>6.3</td>\n",
       "      <td>2.0</td>\n",
       "      <td>NaN</td>\n",
       "      <td>Televisión Española (TVE)</td>\n",
       "      <td>Spain</td>\n",
       "      <td>2008-11-07</td>\n",
       "    </tr>\n",
       "    <tr>\n",
       "      <th>31518</th>\n",
       "      <td>False</td>\n",
       "      <td>0</td>\n",
       "      <td>6843500.0</td>\n",
       "      <td>[Comedy]</td>\n",
       "      <td>147868.0</td>\n",
       "      <td>tt2550838</td>\n",
       "      <td>[Colorado Film Production]</td>\n",
       "      <td>[Italy]</td>\n",
       "      <td>2012-12-22</td>\n",
       "      <td>10703234.0</td>\n",
       "      <td>0.0</td>\n",
       "      <td>Released</td>\n",
       "      <td>The Worst Christmas of My Life</td>\n",
       "      <td>5.5</td>\n",
       "      <td>86.0</td>\n",
       "      <td>NaN</td>\n",
       "      <td>Colorado Film Production</td>\n",
       "      <td>Italy</td>\n",
       "      <td>2012-12-22</td>\n",
       "    </tr>\n",
       "    <tr>\n",
       "      <th>31526</th>\n",
       "      <td>False</td>\n",
       "      <td>0</td>\n",
       "      <td>11000000.0</td>\n",
       "      <td>[Comedy]</td>\n",
       "      <td>77944.0</td>\n",
       "      <td>tt2076251</td>\n",
       "      <td>[Colorado Film Production, Film Commission Reg...</td>\n",
       "      <td>[Italy]</td>\n",
       "      <td>2011-10-27</td>\n",
       "      <td>12935800.0</td>\n",
       "      <td>0.0</td>\n",
       "      <td>Released</td>\n",
       "      <td>La peggior settimana della mia vita</td>\n",
       "      <td>5.9</td>\n",
       "      <td>96.0</td>\n",
       "      <td>NaN</td>\n",
       "      <td>Colorado Film Production</td>\n",
       "      <td>Italy</td>\n",
       "      <td>2011-10-27</td>\n",
       "    </tr>\n",
       "    <tr>\n",
       "      <th>32684</th>\n",
       "      <td>False</td>\n",
       "      <td>0</td>\n",
       "      <td>NaN</td>\n",
       "      <td>[Comedy]</td>\n",
       "      <td>217414.0</td>\n",
       "      <td>tt2604346</td>\n",
       "      <td>[Televisión Española (TVE), AXN, Televisió de ...</td>\n",
       "      <td>[Spain]</td>\n",
       "      <td>2013-11-15</td>\n",
       "      <td>850259.0</td>\n",
       "      <td>0.0</td>\n",
       "      <td>Released</td>\n",
       "      <td>¿Quién mató a Bambi?</td>\n",
       "      <td>5.7</td>\n",
       "      <td>22.0</td>\n",
       "      <td>NaN</td>\n",
       "      <td>Televisión Española (TVE)</td>\n",
       "      <td>Spain</td>\n",
       "      <td>2013-11-15</td>\n",
       "    </tr>\n",
       "    <tr>\n",
       "      <th>32958</th>\n",
       "      <td>False</td>\n",
       "      <td>0</td>\n",
       "      <td>NaN</td>\n",
       "      <td>[Comedy]</td>\n",
       "      <td>315335.0</td>\n",
       "      <td>tt4216934</td>\n",
       "      <td>[Little Shark Entertainment GmbH, Seven Pictur...</td>\n",
       "      <td>[Germany]</td>\n",
       "      <td>2015-01-15</td>\n",
       "      <td>9127383.0</td>\n",
       "      <td>0.0</td>\n",
       "      <td>Released</td>\n",
       "      <td>Frau Müller muss weg!</td>\n",
       "      <td>5.9</td>\n",
       "      <td>25.0</td>\n",
       "      <td>NaN</td>\n",
       "      <td>Little Shark Entertainment GmbH</td>\n",
       "      <td>Germany</td>\n",
       "      <td>2015-01-15</td>\n",
       "    </tr>\n",
       "    <tr>\n",
       "      <th>33996</th>\n",
       "      <td>False</td>\n",
       "      <td>0</td>\n",
       "      <td>NaN</td>\n",
       "      <td>[Fantasy, Horror, Science Fiction, Foreign]</td>\n",
       "      <td>59095.0</td>\n",
       "      <td>tt0278675</td>\n",
       "      <td>[Romulus Films, Cyclops Vision, Miracle Commun...</td>\n",
       "      <td>[United Kingdom]</td>\n",
       "      <td>2001-04-12</td>\n",
       "      <td>10000000.0</td>\n",
       "      <td>0.0</td>\n",
       "      <td>Released</td>\n",
       "      <td>Revelation</td>\n",
       "      <td>2.9</td>\n",
       "      <td>9.0</td>\n",
       "      <td>NaN</td>\n",
       "      <td>Romulus Films</td>\n",
       "      <td>United Kingdom</td>\n",
       "      <td>2001-04-12</td>\n",
       "    </tr>\n",
       "    <tr>\n",
       "      <th>34281</th>\n",
       "      <td>False</td>\n",
       "      <td>0</td>\n",
       "      <td>380000.0</td>\n",
       "      <td>[Comedy]</td>\n",
       "      <td>114564.0</td>\n",
       "      <td>tt2321513</td>\n",
       "      <td>[]</td>\n",
       "      <td>[India]</td>\n",
       "      <td>2010-01-15</td>\n",
       "      <td>520000.0</td>\n",
       "      <td>0.0</td>\n",
       "      <td>Released</td>\n",
       "      <td>Shikshanachya Aaicha Gho</td>\n",
       "      <td>8.0</td>\n",
       "      <td>1.0</td>\n",
       "      <td>NaN</td>\n",
       "      <td></td>\n",
       "      <td>India</td>\n",
       "      <td>2010-01-15</td>\n",
       "    </tr>\n",
       "    <tr>\n",
       "      <th>34983</th>\n",
       "      <td>False</td>\n",
       "      <td>0</td>\n",
       "      <td>NaN</td>\n",
       "      <td>[Western]</td>\n",
       "      <td>93708.0</td>\n",
       "      <td>tt0072785</td>\n",
       "      <td>[Compagnia Cinematografica Champion, CIPI Cine...</td>\n",
       "      <td>[Italy, Spain, Germany]</td>\n",
       "      <td>1975-08-25</td>\n",
       "      <td>39598448.0</td>\n",
       "      <td>0.0</td>\n",
       "      <td>Released</td>\n",
       "      <td>Cry, Onion!</td>\n",
       "      <td>3.8</td>\n",
       "      <td>6.0</td>\n",
       "      <td>NaN</td>\n",
       "      <td>Compagnia Cinematografica Champion</td>\n",
       "      <td>Italy</td>\n",
       "      <td>1975-08-25</td>\n",
       "    </tr>\n",
       "    <tr>\n",
       "      <th>35025</th>\n",
       "      <td>False</td>\n",
       "      <td>0</td>\n",
       "      <td>3800000.0</td>\n",
       "      <td>[Crime, Drama]</td>\n",
       "      <td>285908.0</td>\n",
       "      <td>tt0191076</td>\n",
       "      <td>[Lions Gate Films]</td>\n",
       "      <td>[Canada]</td>\n",
       "      <td>1999-03-25</td>\n",
       "      <td>559298.0</td>\n",
       "      <td>0.0</td>\n",
       "      <td>Released</td>\n",
       "      <td>The Last Breath</td>\n",
       "      <td>4.0</td>\n",
       "      <td>2.0</td>\n",
       "      <td>NaN</td>\n",
       "      <td>Lions Gate Films</td>\n",
       "      <td>Canada</td>\n",
       "      <td>1999-03-25</td>\n",
       "    </tr>\n",
       "    <tr>\n",
       "      <th>36640</th>\n",
       "      <td>False</td>\n",
       "      <td>0</td>\n",
       "      <td>NaN</td>\n",
       "      <td>[Romance, Drama]</td>\n",
       "      <td>362812.0</td>\n",
       "      <td>tt0447890</td>\n",
       "      <td>[]</td>\n",
       "      <td>[India]</td>\n",
       "      <td>2005-02-11</td>\n",
       "      <td>140.0</td>\n",
       "      <td>0.0</td>\n",
       "      <td>Released</td>\n",
       "      <td>Chaahat Ek Nasha...</td>\n",
       "      <td>0.0</td>\n",
       "      <td>0.0</td>\n",
       "      <td>NaN</td>\n",
       "      <td></td>\n",
       "      <td>India</td>\n",
       "      <td>2005-02-11</td>\n",
       "    </tr>\n",
       "    <tr>\n",
       "      <th>42645</th>\n",
       "      <td>False</td>\n",
       "      <td>0</td>\n",
       "      <td>NaN</td>\n",
       "      <td>[Crime, Drama, Thriller]</td>\n",
       "      <td>52623.0</td>\n",
       "      <td>tt1133617</td>\n",
       "      <td>[]</td>\n",
       "      <td>[Belgium]</td>\n",
       "      <td>2007-01-01</td>\n",
       "      <td>1.0</td>\n",
       "      <td>0.0</td>\n",
       "      <td>Released</td>\n",
       "      <td>Missing</td>\n",
       "      <td>4.3</td>\n",
       "      <td>2.0</td>\n",
       "      <td>NaN</td>\n",
       "      <td></td>\n",
       "      <td>Belgium</td>\n",
       "      <td>2007-01-01</td>\n",
       "    </tr>\n",
       "    <tr>\n",
       "      <th>43993</th>\n",
       "      <td>False</td>\n",
       "      <td>1</td>\n",
       "      <td>3500000.0</td>\n",
       "      <td>[Action, Science Fiction]</td>\n",
       "      <td>37851.0</td>\n",
       "      <td>tt1620549</td>\n",
       "      <td>[]</td>\n",
       "      <td>[Russia]</td>\n",
       "      <td>2010-04-15</td>\n",
       "      <td>2294357.0</td>\n",
       "      <td>0.0</td>\n",
       "      <td>Released</td>\n",
       "      <td>Hooked on the Game 2. The Next Level</td>\n",
       "      <td>5.1</td>\n",
       "      <td>14.0</td>\n",
       "      <td>{'id': 106790, 'name': 'Hooked Collection', 'p...</td>\n",
       "      <td></td>\n",
       "      <td>Russia</td>\n",
       "      <td>2010-04-15</td>\n",
       "    </tr>\n",
       "    <tr>\n",
       "      <th>44103</th>\n",
       "      <td>False</td>\n",
       "      <td>0</td>\n",
       "      <td>5000000.0</td>\n",
       "      <td>[Action, Romance, Thriller, Science Fiction]</td>\n",
       "      <td>63838.0</td>\n",
       "      <td>tt0477337</td>\n",
       "      <td>[Kinokompaniya CTB]</td>\n",
       "      <td>[Russia]</td>\n",
       "      <td>2006-10-12</td>\n",
       "      <td>3919731.0</td>\n",
       "      <td>0.0</td>\n",
       "      <td>Released</td>\n",
       "      <td>Mechenosets</td>\n",
       "      <td>5.6</td>\n",
       "      <td>7.0</td>\n",
       "      <td>NaN</td>\n",
       "      <td>Kinokompaniya CTB</td>\n",
       "      <td>Russia</td>\n",
       "      <td>2006-10-12</td>\n",
       "    </tr>\n",
       "    <tr>\n",
       "      <th>44115</th>\n",
       "      <td>False</td>\n",
       "      <td>0</td>\n",
       "      <td>NaN</td>\n",
       "      <td>[Drama, Comedy]</td>\n",
       "      <td>197057.0</td>\n",
       "      <td>tt0768690</td>\n",
       "      <td>[Роскинопрокат, Флагман-Трейд]</td>\n",
       "      <td>[Russia]</td>\n",
       "      <td>2003-12-04</td>\n",
       "      <td>234748.0</td>\n",
       "      <td>0.0</td>\n",
       "      <td>Released</td>\n",
       "      <td>А поутру они проснулись</td>\n",
       "      <td>4.5</td>\n",
       "      <td>3.0</td>\n",
       "      <td>NaN</td>\n",
       "      <td>Роскинопрокат</td>\n",
       "      <td>Russia</td>\n",
       "      <td>2003-12-04</td>\n",
       "    </tr>\n",
       "    <tr>\n",
       "      <th>44152</th>\n",
       "      <td>False</td>\n",
       "      <td>0</td>\n",
       "      <td>2500000.0</td>\n",
       "      <td>[]</td>\n",
       "      <td>69976.0</td>\n",
       "      <td>tt1620464</td>\n",
       "      <td>[]</td>\n",
       "      <td>[Russia]</td>\n",
       "      <td>2010-05-06</td>\n",
       "      <td>1477030.0</td>\n",
       "      <td>0.0</td>\n",
       "      <td>Released</td>\n",
       "      <td>Glukhar v kino</td>\n",
       "      <td>5.9</td>\n",
       "      <td>4.0</td>\n",
       "      <td>NaN</td>\n",
       "      <td></td>\n",
       "      <td>Russia</td>\n",
       "      <td>2010-05-06</td>\n",
       "    </tr>\n",
       "    <tr>\n",
       "      <th>45063</th>\n",
       "      <td>False</td>\n",
       "      <td>0</td>\n",
       "      <td>NaN</td>\n",
       "      <td>[Romance]</td>\n",
       "      <td>290217.0</td>\n",
       "      <td>tt3956312</td>\n",
       "      <td>[Enlight Pictures]</td>\n",
       "      <td>[China]</td>\n",
       "      <td>2014-04-25</td>\n",
       "      <td>76000000.0</td>\n",
       "      <td>0.0</td>\n",
       "      <td>Released</td>\n",
       "      <td>My Old Classmate</td>\n",
       "      <td>6.0</td>\n",
       "      <td>4.0</td>\n",
       "      <td>NaN</td>\n",
       "      <td>Enlight Pictures</td>\n",
       "      <td>China</td>\n",
       "      <td>2014-04-25</td>\n",
       "    </tr>\n",
       "    <tr>\n",
       "      <th>45399</th>\n",
       "      <td>False</td>\n",
       "      <td>0</td>\n",
       "      <td>750000.0</td>\n",
       "      <td>[Crime, Comedy]</td>\n",
       "      <td>280422.0</td>\n",
       "      <td>tt3805180</td>\n",
       "      <td>[Кинокомпания «Lunapark», Инвада фильм]</td>\n",
       "      <td>[Russia]</td>\n",
       "      <td>2014-06-05</td>\n",
       "      <td>3.0</td>\n",
       "      <td>0.0</td>\n",
       "      <td>Released</td>\n",
       "      <td>All at Once</td>\n",
       "      <td>6.0</td>\n",
       "      <td>4.0</td>\n",
       "      <td>NaN</td>\n",
       "      <td>Кинокомпания «Lunapark»</td>\n",
       "      <td>Russia</td>\n",
       "      <td>2014-06-05</td>\n",
       "    </tr>\n",
       "  </tbody>\n",
       "</table>\n",
       "</div>"
      ],
      "text/plain": [
       "       adult  belongs_to_collection      budget  \\\n",
       "28876  False                      0         NaN   \n",
       "30039  False                      0    336029.0   \n",
       "30194  False                      1   5579750.0   \n",
       "31068  False                      0   2500000.0   \n",
       "31291  False                      0         NaN   \n",
       "31518  False                      0   6843500.0   \n",
       "31526  False                      0  11000000.0   \n",
       "32684  False                      0         NaN   \n",
       "32958  False                      0         NaN   \n",
       "33996  False                      0         NaN   \n",
       "34281  False                      0    380000.0   \n",
       "34983  False                      0         NaN   \n",
       "35025  False                      0   3800000.0   \n",
       "36640  False                      0         NaN   \n",
       "42645  False                      0         NaN   \n",
       "43993  False                      1   3500000.0   \n",
       "44103  False                      0   5000000.0   \n",
       "44115  False                      0         NaN   \n",
       "44152  False                      0   2500000.0   \n",
       "45063  False                      0         NaN   \n",
       "45399  False                      0    750000.0   \n",
       "\n",
       "                                             genres        id    imdb_id  \\\n",
       "28876                                            []   94236.0  tt0108234   \n",
       "30039                               [Drama, Comedy]   41703.0  tt1224449   \n",
       "30194                                      [Comedy]  161545.0  tt2456720   \n",
       "31068                     [Drama, Foreign, Romance]   21905.0  tt0409527   \n",
       "31291                                       [Drama]  143344.0  tt1190905   \n",
       "31518                                      [Comedy]  147868.0  tt2550838   \n",
       "31526                                      [Comedy]   77944.0  tt2076251   \n",
       "32684                                      [Comedy]  217414.0  tt2604346   \n",
       "32958                                      [Comedy]  315335.0  tt4216934   \n",
       "33996   [Fantasy, Horror, Science Fiction, Foreign]   59095.0  tt0278675   \n",
       "34281                                      [Comedy]  114564.0  tt2321513   \n",
       "34983                                     [Western]   93708.0  tt0072785   \n",
       "35025                                [Crime, Drama]  285908.0  tt0191076   \n",
       "36640                              [Romance, Drama]  362812.0  tt0447890   \n",
       "42645                      [Crime, Drama, Thriller]   52623.0  tt1133617   \n",
       "43993                     [Action, Science Fiction]   37851.0  tt1620549   \n",
       "44103  [Action, Romance, Thriller, Science Fiction]   63838.0  tt0477337   \n",
       "44115                               [Drama, Comedy]  197057.0  tt0768690   \n",
       "44152                                            []   69976.0  tt1620464   \n",
       "45063                                     [Romance]  290217.0  tt3956312   \n",
       "45399                               [Crime, Comedy]  280422.0  tt3805180   \n",
       "\n",
       "                                    production_companies  \\\n",
       "28876                                                 []   \n",
       "30039                                                 []   \n",
       "30194                             [Fandango, Rai Cinema]   \n",
       "31068                                                 []   \n",
       "31291  [Televisión Española (TVE), Instituto de la Ci...   \n",
       "31518                         [Colorado Film Production]   \n",
       "31526  [Colorado Film Production, Film Commission Reg...   \n",
       "32684  [Televisión Española (TVE), AXN, Televisió de ...   \n",
       "32958  [Little Shark Entertainment GmbH, Seven Pictur...   \n",
       "33996  [Romulus Films, Cyclops Vision, Miracle Commun...   \n",
       "34281                                                 []   \n",
       "34983  [Compagnia Cinematografica Champion, CIPI Cine...   \n",
       "35025                                 [Lions Gate Films]   \n",
       "36640                                                 []   \n",
       "42645                                                 []   \n",
       "43993                                                 []   \n",
       "44103                                [Kinokompaniya CTB]   \n",
       "44115                     [Роскинопрокат, Флагман-Трейд]   \n",
       "44152                                                 []   \n",
       "45063                                 [Enlight Pictures]   \n",
       "45399            [Кинокомпания «Lunapark», Инвада фильм]   \n",
       "\n",
       "          production_countries release_date     revenue  runtime    status  \\\n",
       "28876                       []   1993-03-12       841.0      0.0  Released   \n",
       "30039                       []   2008-08-21    927277.0      0.0  Released   \n",
       "30194                  [Italy]   2012-11-30   8927600.0      0.0  Released   \n",
       "31068                  [India]   2005-02-04   3100000.0      0.0  Released   \n",
       "31291                  [Spain]   2008-11-07    404075.0      0.0  Released   \n",
       "31518                  [Italy]   2012-12-22  10703234.0      0.0  Released   \n",
       "31526                  [Italy]   2011-10-27  12935800.0      0.0  Released   \n",
       "32684                  [Spain]   2013-11-15    850259.0      0.0  Released   \n",
       "32958                [Germany]   2015-01-15   9127383.0      0.0  Released   \n",
       "33996         [United Kingdom]   2001-04-12  10000000.0      0.0  Released   \n",
       "34281                  [India]   2010-01-15    520000.0      0.0  Released   \n",
       "34983  [Italy, Spain, Germany]   1975-08-25  39598448.0      0.0  Released   \n",
       "35025                 [Canada]   1999-03-25    559298.0      0.0  Released   \n",
       "36640                  [India]   2005-02-11       140.0      0.0  Released   \n",
       "42645                [Belgium]   2007-01-01         1.0      0.0  Released   \n",
       "43993                 [Russia]   2010-04-15   2294357.0      0.0  Released   \n",
       "44103                 [Russia]   2006-10-12   3919731.0      0.0  Released   \n",
       "44115                 [Russia]   2003-12-04    234748.0      0.0  Released   \n",
       "44152                 [Russia]   2010-05-06   1477030.0      0.0  Released   \n",
       "45063                  [China]   2014-04-25  76000000.0      0.0  Released   \n",
       "45399                 [Russia]   2014-06-05         3.0      0.0  Released   \n",
       "\n",
       "                                      title  vote_average  vote_count  \\\n",
       "28876                         Street Knight           7.0         5.0   \n",
       "30039                              Plus one           4.0         6.0   \n",
       "30194             Tutto tutto niente niente           4.8        54.0   \n",
       "31068                                 Shabd           5.0         1.0   \n",
       "31291                    El truco del manco           6.3         2.0   \n",
       "31518        The Worst Christmas of My Life           5.5        86.0   \n",
       "31526   La peggior settimana della mia vita           5.9        96.0   \n",
       "32684                  ¿Quién mató a Bambi?           5.7        22.0   \n",
       "32958                 Frau Müller muss weg!           5.9        25.0   \n",
       "33996                            Revelation           2.9         9.0   \n",
       "34281              Shikshanachya Aaicha Gho           8.0         1.0   \n",
       "34983                           Cry, Onion!           3.8         6.0   \n",
       "35025                       The Last Breath           4.0         2.0   \n",
       "36640                   Chaahat Ek Nasha...           0.0         0.0   \n",
       "42645                               Missing           4.3         2.0   \n",
       "43993  Hooked on the Game 2. The Next Level           5.1        14.0   \n",
       "44103                           Mechenosets           5.6         7.0   \n",
       "44115               А поутру они проснулись           4.5         3.0   \n",
       "44152                        Glukhar v kino           5.9         4.0   \n",
       "45063                      My Old Classmate           6.0         4.0   \n",
       "45399                           All at Once           6.0         4.0   \n",
       "\n",
       "                                         collection_info  \\\n",
       "28876                                                NaN   \n",
       "30039                                                NaN   \n",
       "30194  {'id': 188197, 'name': 'Cetto La Qualunque - C...   \n",
       "31068                                                NaN   \n",
       "31291                                                NaN   \n",
       "31518                                                NaN   \n",
       "31526                                                NaN   \n",
       "32684                                                NaN   \n",
       "32958                                                NaN   \n",
       "33996                                                NaN   \n",
       "34281                                                NaN   \n",
       "34983                                                NaN   \n",
       "35025                                                NaN   \n",
       "36640                                                NaN   \n",
       "42645                                                NaN   \n",
       "43993  {'id': 106790, 'name': 'Hooked Collection', 'p...   \n",
       "44103                                                NaN   \n",
       "44115                                                NaN   \n",
       "44152                                                NaN   \n",
       "45063                                                NaN   \n",
       "45399                                                NaN   \n",
       "\n",
       "                       production_company production_country   datetime  \n",
       "28876                                                        1993-03-12  \n",
       "30039                                                        2008-08-21  \n",
       "30194                            Fandango              Italy 2012-11-30  \n",
       "31068                                                  India 2005-02-04  \n",
       "31291           Televisión Española (TVE)              Spain 2008-11-07  \n",
       "31518            Colorado Film Production              Italy 2012-12-22  \n",
       "31526            Colorado Film Production              Italy 2011-10-27  \n",
       "32684           Televisión Española (TVE)              Spain 2013-11-15  \n",
       "32958     Little Shark Entertainment GmbH            Germany 2015-01-15  \n",
       "33996                       Romulus Films     United Kingdom 2001-04-12  \n",
       "34281                                                  India 2010-01-15  \n",
       "34983  Compagnia Cinematografica Champion              Italy 1975-08-25  \n",
       "35025                    Lions Gate Films             Canada 1999-03-25  \n",
       "36640                                                  India 2005-02-11  \n",
       "42645                                                Belgium 2007-01-01  \n",
       "43993                                                 Russia 2010-04-15  \n",
       "44103                   Kinokompaniya CTB             Russia 2006-10-12  \n",
       "44115                       Роскинопрокат             Russia 2003-12-04  \n",
       "44152                                                 Russia 2010-05-06  \n",
       "45063                    Enlight Pictures              China 2014-04-25  \n",
       "45399             Кинокомпания «Lunapark»             Russia 2014-06-05  "
      ]
     },
     "execution_count": 396,
     "metadata": {},
     "output_type": "execute_result"
    }
   ],
   "source": [
    "not_released[not_released[\"revenue\"]>0]"
   ]
  },
  {
   "cell_type": "markdown",
   "metadata": {},
   "source": [
    "#### 10. Title"
   ]
  },
  {
   "cell_type": "code",
   "execution_count": 397,
   "metadata": {},
   "outputs": [
    {
     "data": {
      "text/plain": [
       "6714                                School of Rock\n",
       "10535                       Get Rich or Die Tryin'\n",
       "11845                             Ocean's Thirteen\n",
       "12584            Expelled: No Intelligence Allowed\n",
       "4935                        The Mothman Prophecies\n",
       "6106                                Salaam Bombay!\n",
       "5898                                Secret Admirer\n",
       "27459    El asombroso mundo de Borjamari y Pocholo\n",
       "2509                                      Trippin'\n",
       "4344                                    Bad Dreams\n",
       "Name: title, dtype: object"
      ]
     },
     "execution_count": 397,
     "metadata": {},
     "output_type": "execute_result"
    }
   ],
   "source": [
    "reves_metadata[\"title\"].sample(10)"
   ]
  },
  {
   "cell_type": "markdown",
   "metadata": {
    "collapsed": true
   },
   "source": [
    "Title data seems to be ok!"
   ]
  },
  {
   "cell_type": "markdown",
   "metadata": {},
   "source": [
    "#### 11. Adult"
   ]
  },
  {
   "cell_type": "code",
   "execution_count": 398,
   "metadata": {
    "scrolled": true
   },
   "outputs": [
    {
     "data": {
      "text/html": [
       "<div>\n",
       "<style scoped>\n",
       "    .dataframe tbody tr th:only-of-type {\n",
       "        vertical-align: middle;\n",
       "    }\n",
       "\n",
       "    .dataframe tbody tr th {\n",
       "        vertical-align: top;\n",
       "    }\n",
       "\n",
       "    .dataframe thead th {\n",
       "        text-align: right;\n",
       "    }\n",
       "</style>\n",
       "<table border=\"1\" class=\"dataframe\">\n",
       "  <thead>\n",
       "    <tr style=\"text-align: right;\">\n",
       "      <th></th>\n",
       "      <th>belongs_to_collection</th>\n",
       "      <th>budget</th>\n",
       "      <th>genres</th>\n",
       "      <th>id</th>\n",
       "      <th>imdb_id</th>\n",
       "      <th>production_companies</th>\n",
       "      <th>production_countries</th>\n",
       "      <th>release_date</th>\n",
       "      <th>revenue</th>\n",
       "      <th>runtime</th>\n",
       "      <th>status</th>\n",
       "      <th>title</th>\n",
       "      <th>vote_average</th>\n",
       "      <th>vote_count</th>\n",
       "      <th>collection_info</th>\n",
       "      <th>production_company</th>\n",
       "      <th>production_country</th>\n",
       "      <th>datetime</th>\n",
       "    </tr>\n",
       "    <tr>\n",
       "      <th>adult</th>\n",
       "      <th></th>\n",
       "      <th></th>\n",
       "      <th></th>\n",
       "      <th></th>\n",
       "      <th></th>\n",
       "      <th></th>\n",
       "      <th></th>\n",
       "      <th></th>\n",
       "      <th></th>\n",
       "      <th></th>\n",
       "      <th></th>\n",
       "      <th></th>\n",
       "      <th></th>\n",
       "      <th></th>\n",
       "      <th></th>\n",
       "      <th></th>\n",
       "      <th></th>\n",
       "      <th></th>\n",
       "    </tr>\n",
       "  </thead>\n",
       "  <tbody>\n",
       "    <tr>\n",
       "      <th>False</th>\n",
       "      <td>7408</td>\n",
       "      <td>5381</td>\n",
       "      <td>7408</td>\n",
       "      <td>7408</td>\n",
       "      <td>7408</td>\n",
       "      <td>7408</td>\n",
       "      <td>7408</td>\n",
       "      <td>7407</td>\n",
       "      <td>7408</td>\n",
       "      <td>7402</td>\n",
       "      <td>7406</td>\n",
       "      <td>7408</td>\n",
       "      <td>7408</td>\n",
       "      <td>7408</td>\n",
       "      <td>1483</td>\n",
       "      <td>7408</td>\n",
       "      <td>7408</td>\n",
       "      <td>7407</td>\n",
       "    </tr>\n",
       "  </tbody>\n",
       "</table>\n",
       "</div>"
      ],
      "text/plain": [
       "       belongs_to_collection  budget  genres    id  imdb_id  \\\n",
       "adult                                                         \n",
       "False                   7408    5381    7408  7408     7408   \n",
       "\n",
       "       production_companies  production_countries  release_date  revenue  \\\n",
       "adult                                                                      \n",
       "False                  7408                  7408          7407     7408   \n",
       "\n",
       "       runtime  status  title  vote_average  vote_count  collection_info  \\\n",
       "adult                                                                      \n",
       "False     7402    7406   7408          7408        7408             1483   \n",
       "\n",
       "       production_company  production_country  datetime  \n",
       "adult                                                    \n",
       "False                7408                7408      7407  "
      ]
     },
     "execution_count": 398,
     "metadata": {},
     "output_type": "execute_result"
    }
   ],
   "source": [
    "reves_metadata.groupby(\"adult\").count()"
   ]
  },
  {
   "cell_type": "markdown",
   "metadata": {},
   "source": [
    "Adult doesn't have True values for the movies in the revenue-filtered dataframe, so this column won't be necessary for out model. We can drop it."
   ]
  },
  {
   "cell_type": "code",
   "execution_count": 399,
   "metadata": {},
   "outputs": [],
   "source": [
    "reves_metadata=reves_metadata.drop(\"adult\",axis=1)"
   ]
  },
  {
   "cell_type": "markdown",
   "metadata": {},
   "source": [
    "#### 12. Status"
   ]
  },
  {
   "cell_type": "code",
   "execution_count": 400,
   "metadata": {
    "scrolled": true
   },
   "outputs": [
    {
     "data": {
      "text/html": [
       "<div>\n",
       "<style scoped>\n",
       "    .dataframe tbody tr th:only-of-type {\n",
       "        vertical-align: middle;\n",
       "    }\n",
       "\n",
       "    .dataframe tbody tr th {\n",
       "        vertical-align: top;\n",
       "    }\n",
       "\n",
       "    .dataframe thead th {\n",
       "        text-align: right;\n",
       "    }\n",
       "</style>\n",
       "<table border=\"1\" class=\"dataframe\">\n",
       "  <thead>\n",
       "    <tr style=\"text-align: right;\">\n",
       "      <th></th>\n",
       "      <th>belongs_to_collection</th>\n",
       "      <th>budget</th>\n",
       "      <th>genres</th>\n",
       "      <th>id</th>\n",
       "      <th>imdb_id</th>\n",
       "      <th>production_companies</th>\n",
       "      <th>production_countries</th>\n",
       "      <th>release_date</th>\n",
       "      <th>revenue</th>\n",
       "      <th>runtime</th>\n",
       "      <th>title</th>\n",
       "      <th>vote_average</th>\n",
       "      <th>vote_count</th>\n",
       "      <th>collection_info</th>\n",
       "      <th>production_company</th>\n",
       "      <th>production_country</th>\n",
       "      <th>datetime</th>\n",
       "    </tr>\n",
       "    <tr>\n",
       "      <th>status</th>\n",
       "      <th></th>\n",
       "      <th></th>\n",
       "      <th></th>\n",
       "      <th></th>\n",
       "      <th></th>\n",
       "      <th></th>\n",
       "      <th></th>\n",
       "      <th></th>\n",
       "      <th></th>\n",
       "      <th></th>\n",
       "      <th></th>\n",
       "      <th></th>\n",
       "      <th></th>\n",
       "      <th></th>\n",
       "      <th></th>\n",
       "      <th></th>\n",
       "      <th></th>\n",
       "    </tr>\n",
       "  </thead>\n",
       "  <tbody>\n",
       "    <tr>\n",
       "      <th>Post Production</th>\n",
       "      <td>5</td>\n",
       "      <td>2</td>\n",
       "      <td>5</td>\n",
       "      <td>5</td>\n",
       "      <td>5</td>\n",
       "      <td>5</td>\n",
       "      <td>5</td>\n",
       "      <td>5</td>\n",
       "      <td>5</td>\n",
       "      <td>5</td>\n",
       "      <td>5</td>\n",
       "      <td>5</td>\n",
       "      <td>5</td>\n",
       "      <td>0</td>\n",
       "      <td>5</td>\n",
       "      <td>5</td>\n",
       "      <td>5</td>\n",
       "    </tr>\n",
       "    <tr>\n",
       "      <th>Released</th>\n",
       "      <td>7395</td>\n",
       "      <td>5377</td>\n",
       "      <td>7395</td>\n",
       "      <td>7395</td>\n",
       "      <td>7395</td>\n",
       "      <td>7395</td>\n",
       "      <td>7395</td>\n",
       "      <td>7395</td>\n",
       "      <td>7395</td>\n",
       "      <td>7389</td>\n",
       "      <td>7395</td>\n",
       "      <td>7395</td>\n",
       "      <td>7395</td>\n",
       "      <td>1481</td>\n",
       "      <td>7395</td>\n",
       "      <td>7395</td>\n",
       "      <td>7395</td>\n",
       "    </tr>\n",
       "    <tr>\n",
       "      <th>Rumored</th>\n",
       "      <td>6</td>\n",
       "      <td>2</td>\n",
       "      <td>6</td>\n",
       "      <td>6</td>\n",
       "      <td>6</td>\n",
       "      <td>6</td>\n",
       "      <td>6</td>\n",
       "      <td>6</td>\n",
       "      <td>6</td>\n",
       "      <td>6</td>\n",
       "      <td>6</td>\n",
       "      <td>6</td>\n",
       "      <td>6</td>\n",
       "      <td>2</td>\n",
       "      <td>6</td>\n",
       "      <td>6</td>\n",
       "      <td>6</td>\n",
       "    </tr>\n",
       "  </tbody>\n",
       "</table>\n",
       "</div>"
      ],
      "text/plain": [
       "                 belongs_to_collection  budget  genres    id  imdb_id  \\\n",
       "status                                                                  \n",
       "Post Production                      5       2       5     5        5   \n",
       "Released                          7395    5377    7395  7395     7395   \n",
       "Rumored                              6       2       6     6        6   \n",
       "\n",
       "                 production_companies  production_countries  release_date  \\\n",
       "status                                                                      \n",
       "Post Production                     5                     5             5   \n",
       "Released                         7395                  7395          7395   \n",
       "Rumored                             6                     6             6   \n",
       "\n",
       "                 revenue  runtime  title  vote_average  vote_count  \\\n",
       "status                                                               \n",
       "Post Production        5        5      5             5           5   \n",
       "Released            7395     7389   7395          7395        7395   \n",
       "Rumored                6        6      6             6           6   \n",
       "\n",
       "                 collection_info  production_company  production_country  \\\n",
       "status                                                                     \n",
       "Post Production                0                   5                   5   \n",
       "Released                    1481                7395                7395   \n",
       "Rumored                        2                   6                   6   \n",
       "\n",
       "                 datetime  \n",
       "status                     \n",
       "Post Production         5  \n",
       "Released             7395  \n",
       "Rumored                 6  "
      ]
     },
     "execution_count": 400,
     "metadata": {},
     "output_type": "execute_result"
    }
   ],
   "source": [
    "reves_metadata.groupby(\"status\").count()"
   ]
  },
  {
   "cell_type": "code",
   "execution_count": 401,
   "metadata": {
    "scrolled": true
   },
   "outputs": [
    {
     "name": "stdout",
     "output_type": "stream",
     "text": [
      "Post Production\n",
      "99.0\n"
     ]
    }
   ],
   "source": [
    "print(reves_metadata[\"status\"][44904])\n",
    "print(reves_metadata[\"runtime\"][44904])"
   ]
  },
  {
   "cell_type": "markdown",
   "metadata": {},
   "source": [
    "!= from Released doesn't mean 0-day runtime"
   ]
  },
  {
   "cell_type": "markdown",
   "metadata": {},
   "source": [
    "#### 12. Redefining our final DataFrame"
   ]
  },
  {
   "cell_type": "markdown",
   "metadata": {},
   "source": [
    "Now that we have explored the data, now we have to clean our DataSet and prepare a final DataFrame just with the info and the transformed columns that we need to create our model. We should drop the columns that aren't valuable, and make new dummie columns."
   ]
  },
  {
   "cell_type": "code",
   "execution_count": 402,
   "metadata": {
    "scrolled": true
   },
   "outputs": [
    {
     "data": {
      "text/plain": [
       "(7408, 18)"
      ]
     },
     "execution_count": 402,
     "metadata": {},
     "output_type": "execute_result"
    }
   ],
   "source": [
    "reves_metadata.shape"
   ]
  },
  {
   "cell_type": "code",
   "execution_count": 403,
   "metadata": {
    "scrolled": true
   },
   "outputs": [
    {
     "data": {
      "text/plain": [
       "Index(['belongs_to_collection', 'budget', 'genres', 'id', 'imdb_id',\n",
       "       'production_companies', 'production_countries', 'release_date',\n",
       "       'revenue', 'runtime', 'status', 'title', 'vote_average', 'vote_count',\n",
       "       'collection_info', 'production_company', 'production_country',\n",
       "       'datetime'],\n",
       "      dtype='object')"
      ]
     },
     "execution_count": 403,
     "metadata": {},
     "output_type": "execute_result"
    }
   ],
   "source": [
    "reves_metadata.columns"
   ]
  },
  {
   "cell_type": "code",
   "execution_count": 404,
   "metadata": {
    "scrolled": true
   },
   "outputs": [
    {
     "data": {
      "text/html": [
       "<div>\n",
       "<style scoped>\n",
       "    .dataframe tbody tr th:only-of-type {\n",
       "        vertical-align: middle;\n",
       "    }\n",
       "\n",
       "    .dataframe tbody tr th {\n",
       "        vertical-align: top;\n",
       "    }\n",
       "\n",
       "    .dataframe thead th {\n",
       "        text-align: right;\n",
       "    }\n",
       "</style>\n",
       "<table border=\"1\" class=\"dataframe\">\n",
       "  <thead>\n",
       "    <tr style=\"text-align: right;\">\n",
       "      <th></th>\n",
       "      <th>belongs_to_collection</th>\n",
       "      <th>budget</th>\n",
       "      <th>genres</th>\n",
       "      <th>id</th>\n",
       "      <th>imdb_id</th>\n",
       "      <th>production_companies</th>\n",
       "      <th>production_countries</th>\n",
       "      <th>release_date</th>\n",
       "      <th>revenue</th>\n",
       "      <th>runtime</th>\n",
       "      <th>status</th>\n",
       "      <th>title</th>\n",
       "      <th>vote_average</th>\n",
       "      <th>vote_count</th>\n",
       "      <th>collection_info</th>\n",
       "      <th>production_company</th>\n",
       "      <th>production_country</th>\n",
       "      <th>datetime</th>\n",
       "    </tr>\n",
       "  </thead>\n",
       "  <tbody>\n",
       "    <tr>\n",
       "      <th>0</th>\n",
       "      <td>1</td>\n",
       "      <td>30000000.0</td>\n",
       "      <td>[Animation, Comedy, Family]</td>\n",
       "      <td>862.0</td>\n",
       "      <td>tt0114709</td>\n",
       "      <td>[Pixar Animation Studios]</td>\n",
       "      <td>[United States of America]</td>\n",
       "      <td>1995-10-30</td>\n",
       "      <td>373554033.0</td>\n",
       "      <td>81.0</td>\n",
       "      <td>Released</td>\n",
       "      <td>Toy Story</td>\n",
       "      <td>7.7</td>\n",
       "      <td>5415.0</td>\n",
       "      <td>{'id': 10194, 'name': 'Toy Story Collection', ...</td>\n",
       "      <td>Pixar Animation Studios</td>\n",
       "      <td>United States of America</td>\n",
       "      <td>1995-10-30</td>\n",
       "    </tr>\n",
       "    <tr>\n",
       "      <th>1</th>\n",
       "      <td>0</td>\n",
       "      <td>65000000.0</td>\n",
       "      <td>[Adventure, Fantasy, Family]</td>\n",
       "      <td>8844.0</td>\n",
       "      <td>tt0113497</td>\n",
       "      <td>[TriStar Pictures, Teitler Film, Interscope Co...</td>\n",
       "      <td>[United States of America]</td>\n",
       "      <td>1995-12-15</td>\n",
       "      <td>262797249.0</td>\n",
       "      <td>104.0</td>\n",
       "      <td>Released</td>\n",
       "      <td>Jumanji</td>\n",
       "      <td>6.9</td>\n",
       "      <td>2413.0</td>\n",
       "      <td>NaN</td>\n",
       "      <td>TriStar Pictures</td>\n",
       "      <td>United States of America</td>\n",
       "      <td>1995-12-15</td>\n",
       "    </tr>\n",
       "    <tr>\n",
       "      <th>3</th>\n",
       "      <td>0</td>\n",
       "      <td>16000000.0</td>\n",
       "      <td>[Comedy, Drama, Romance]</td>\n",
       "      <td>31357.0</td>\n",
       "      <td>tt0114885</td>\n",
       "      <td>[Twentieth Century Fox Film Corporation]</td>\n",
       "      <td>[United States of America]</td>\n",
       "      <td>1995-12-22</td>\n",
       "      <td>81452156.0</td>\n",
       "      <td>127.0</td>\n",
       "      <td>Released</td>\n",
       "      <td>Waiting to Exhale</td>\n",
       "      <td>6.1</td>\n",
       "      <td>34.0</td>\n",
       "      <td>NaN</td>\n",
       "      <td>Twentieth Century Fox Film Corporation</td>\n",
       "      <td>United States of America</td>\n",
       "      <td>1995-12-22</td>\n",
       "    </tr>\n",
       "    <tr>\n",
       "      <th>4</th>\n",
       "      <td>1</td>\n",
       "      <td>NaN</td>\n",
       "      <td>[Comedy]</td>\n",
       "      <td>11862.0</td>\n",
       "      <td>tt0113041</td>\n",
       "      <td>[Sandollar Productions, Touchstone Pictures]</td>\n",
       "      <td>[United States of America]</td>\n",
       "      <td>1995-02-10</td>\n",
       "      <td>76578911.0</td>\n",
       "      <td>106.0</td>\n",
       "      <td>Released</td>\n",
       "      <td>Father of the Bride Part II</td>\n",
       "      <td>5.7</td>\n",
       "      <td>173.0</td>\n",
       "      <td>{'id': 96871, 'name': 'Father of the Bride Col...</td>\n",
       "      <td>Sandollar Productions</td>\n",
       "      <td>United States of America</td>\n",
       "      <td>1995-02-10</td>\n",
       "    </tr>\n",
       "    <tr>\n",
       "      <th>5</th>\n",
       "      <td>0</td>\n",
       "      <td>60000000.0</td>\n",
       "      <td>[Action, Crime, Drama, Thriller]</td>\n",
       "      <td>949.0</td>\n",
       "      <td>tt0113277</td>\n",
       "      <td>[Regency Enterprises, Forward Pass, Warner Bros.]</td>\n",
       "      <td>[United States of America]</td>\n",
       "      <td>1995-12-15</td>\n",
       "      <td>187436818.0</td>\n",
       "      <td>170.0</td>\n",
       "      <td>Released</td>\n",
       "      <td>Heat</td>\n",
       "      <td>7.7</td>\n",
       "      <td>1886.0</td>\n",
       "      <td>NaN</td>\n",
       "      <td>Regency Enterprises</td>\n",
       "      <td>United States of America</td>\n",
       "      <td>1995-12-15</td>\n",
       "    </tr>\n",
       "  </tbody>\n",
       "</table>\n",
       "</div>"
      ],
      "text/plain": [
       "   belongs_to_collection      budget                            genres  \\\n",
       "0                      1  30000000.0       [Animation, Comedy, Family]   \n",
       "1                      0  65000000.0      [Adventure, Fantasy, Family]   \n",
       "3                      0  16000000.0          [Comedy, Drama, Romance]   \n",
       "4                      1         NaN                          [Comedy]   \n",
       "5                      0  60000000.0  [Action, Crime, Drama, Thriller]   \n",
       "\n",
       "        id    imdb_id                               production_companies  \\\n",
       "0    862.0  tt0114709                          [Pixar Animation Studios]   \n",
       "1   8844.0  tt0113497  [TriStar Pictures, Teitler Film, Interscope Co...   \n",
       "3  31357.0  tt0114885           [Twentieth Century Fox Film Corporation]   \n",
       "4  11862.0  tt0113041       [Sandollar Productions, Touchstone Pictures]   \n",
       "5    949.0  tt0113277  [Regency Enterprises, Forward Pass, Warner Bros.]   \n",
       "\n",
       "         production_countries release_date      revenue  runtime    status  \\\n",
       "0  [United States of America]   1995-10-30  373554033.0     81.0  Released   \n",
       "1  [United States of America]   1995-12-15  262797249.0    104.0  Released   \n",
       "3  [United States of America]   1995-12-22   81452156.0    127.0  Released   \n",
       "4  [United States of America]   1995-02-10   76578911.0    106.0  Released   \n",
       "5  [United States of America]   1995-12-15  187436818.0    170.0  Released   \n",
       "\n",
       "                         title  vote_average  vote_count  \\\n",
       "0                    Toy Story           7.7      5415.0   \n",
       "1                      Jumanji           6.9      2413.0   \n",
       "3            Waiting to Exhale           6.1        34.0   \n",
       "4  Father of the Bride Part II           5.7       173.0   \n",
       "5                         Heat           7.7      1886.0   \n",
       "\n",
       "                                     collection_info  \\\n",
       "0  {'id': 10194, 'name': 'Toy Story Collection', ...   \n",
       "1                                                NaN   \n",
       "3                                                NaN   \n",
       "4  {'id': 96871, 'name': 'Father of the Bride Col...   \n",
       "5                                                NaN   \n",
       "\n",
       "                       production_company        production_country   datetime  \n",
       "0                 Pixar Animation Studios  United States of America 1995-10-30  \n",
       "1                        TriStar Pictures  United States of America 1995-12-15  \n",
       "3  Twentieth Century Fox Film Corporation  United States of America 1995-12-22  \n",
       "4                   Sandollar Productions  United States of America 1995-02-10  \n",
       "5                     Regency Enterprises  United States of America 1995-12-15  "
      ]
     },
     "execution_count": 404,
     "metadata": {},
     "output_type": "execute_result"
    }
   ],
   "source": [
    "reves_metadata.head(5)"
   ]
  },
  {
   "cell_type": "markdown",
   "metadata": {},
   "source": [
    "Still have to drop some columns, not longer usefull. We will do it in our final DataFrame so we still have this info (just in case) in reves_metadata"
   ]
  },
  {
   "cell_type": "code",
   "execution_count": 405,
   "metadata": {},
   "outputs": [],
   "source": [
    "final_reves_metadata=reves_metadata.drop([\"production_companies\",\"production_countries\",\"collection_info\",\"imdb_id\"],axis=1)"
   ]
  },
  {
   "cell_type": "code",
   "execution_count": 410,
   "metadata": {},
   "outputs": [
    {
     "name": "stdout",
     "output_type": "stream",
     "text": [
      "(7408, 14)\n",
      "Index(['belongs_to_collection', 'budget', 'genres', 'id', 'release_date',\n",
      "       'revenue', 'runtime', 'status', 'title', 'vote_average', 'vote_count',\n",
      "       'production_company', 'production_country', 'datetime'],\n",
      "      dtype='object')\n"
     ]
    }
   ],
   "source": [
    "print(final_reves_metadata.shape)\n",
    "print(final_reves_metadata.columns)"
   ]
  },
  {
   "cell_type": "markdown",
   "metadata": {},
   "source": [
    "After all the transformations, we have a new DataFrame with 7408 rows and 14 columns."
   ]
  },
  {
   "cell_type": "code",
   "execution_count": 411,
   "metadata": {},
   "outputs": [
    {
     "data": {
      "text/html": [
       "<div>\n",
       "<style scoped>\n",
       "    .dataframe tbody tr th:only-of-type {\n",
       "        vertical-align: middle;\n",
       "    }\n",
       "\n",
       "    .dataframe tbody tr th {\n",
       "        vertical-align: top;\n",
       "    }\n",
       "\n",
       "    .dataframe thead th {\n",
       "        text-align: right;\n",
       "    }\n",
       "</style>\n",
       "<table border=\"1\" class=\"dataframe\">\n",
       "  <thead>\n",
       "    <tr style=\"text-align: right;\">\n",
       "      <th></th>\n",
       "      <th>belongs_to_collection</th>\n",
       "      <th>budget</th>\n",
       "      <th>genres</th>\n",
       "      <th>id</th>\n",
       "      <th>release_date</th>\n",
       "      <th>revenue</th>\n",
       "      <th>runtime</th>\n",
       "      <th>status</th>\n",
       "      <th>title</th>\n",
       "      <th>vote_average</th>\n",
       "      <th>vote_count</th>\n",
       "      <th>production_company</th>\n",
       "      <th>production_country</th>\n",
       "      <th>datetime</th>\n",
       "    </tr>\n",
       "  </thead>\n",
       "  <tbody>\n",
       "    <tr>\n",
       "      <th>0</th>\n",
       "      <td>1</td>\n",
       "      <td>30000000.0</td>\n",
       "      <td>[Animation, Comedy, Family]</td>\n",
       "      <td>862.0</td>\n",
       "      <td>1995-10-30</td>\n",
       "      <td>373554033.0</td>\n",
       "      <td>81.0</td>\n",
       "      <td>Released</td>\n",
       "      <td>Toy Story</td>\n",
       "      <td>7.7</td>\n",
       "      <td>5415.0</td>\n",
       "      <td>Pixar Animation Studios</td>\n",
       "      <td>United States of America</td>\n",
       "      <td>1995-10-30</td>\n",
       "    </tr>\n",
       "    <tr>\n",
       "      <th>1</th>\n",
       "      <td>0</td>\n",
       "      <td>65000000.0</td>\n",
       "      <td>[Adventure, Fantasy, Family]</td>\n",
       "      <td>8844.0</td>\n",
       "      <td>1995-12-15</td>\n",
       "      <td>262797249.0</td>\n",
       "      <td>104.0</td>\n",
       "      <td>Released</td>\n",
       "      <td>Jumanji</td>\n",
       "      <td>6.9</td>\n",
       "      <td>2413.0</td>\n",
       "      <td>TriStar Pictures</td>\n",
       "      <td>United States of America</td>\n",
       "      <td>1995-12-15</td>\n",
       "    </tr>\n",
       "    <tr>\n",
       "      <th>3</th>\n",
       "      <td>0</td>\n",
       "      <td>16000000.0</td>\n",
       "      <td>[Comedy, Drama, Romance]</td>\n",
       "      <td>31357.0</td>\n",
       "      <td>1995-12-22</td>\n",
       "      <td>81452156.0</td>\n",
       "      <td>127.0</td>\n",
       "      <td>Released</td>\n",
       "      <td>Waiting to Exhale</td>\n",
       "      <td>6.1</td>\n",
       "      <td>34.0</td>\n",
       "      <td>Twentieth Century Fox Film Corporation</td>\n",
       "      <td>United States of America</td>\n",
       "      <td>1995-12-22</td>\n",
       "    </tr>\n",
       "  </tbody>\n",
       "</table>\n",
       "</div>"
      ],
      "text/plain": [
       "   belongs_to_collection      budget                        genres       id  \\\n",
       "0                      1  30000000.0   [Animation, Comedy, Family]    862.0   \n",
       "1                      0  65000000.0  [Adventure, Fantasy, Family]   8844.0   \n",
       "3                      0  16000000.0      [Comedy, Drama, Romance]  31357.0   \n",
       "\n",
       "  release_date      revenue  runtime    status              title  \\\n",
       "0   1995-10-30  373554033.0     81.0  Released          Toy Story   \n",
       "1   1995-12-15  262797249.0    104.0  Released            Jumanji   \n",
       "3   1995-12-22   81452156.0    127.0  Released  Waiting to Exhale   \n",
       "\n",
       "   vote_average  vote_count                      production_company  \\\n",
       "0           7.7      5415.0                 Pixar Animation Studios   \n",
       "1           6.9      2413.0                        TriStar Pictures   \n",
       "3           6.1        34.0  Twentieth Century Fox Film Corporation   \n",
       "\n",
       "         production_country   datetime  \n",
       "0  United States of America 1995-10-30  \n",
       "1  United States of America 1995-12-15  \n",
       "3  United States of America 1995-12-22  "
      ]
     },
     "execution_count": 411,
     "metadata": {},
     "output_type": "execute_result"
    }
   ],
   "source": [
    "final_reves_metadata.head(3)"
   ]
  },
  {
   "cell_type": "markdown",
   "metadata": {},
   "source": [
    "One group of variables that we need for each movie id are those related to the genres. We need to create a new column for each of the 20 genres, and use 0 or 1 values to show if that movie has that genre associated"
   ]
  },
  {
   "cell_type": "markdown",
   "metadata": {},
   "source": [
    "### 11. Joining tables"
   ]
  },
  {
   "cell_type": "markdown",
   "metadata": {},
   "source": [
    "We have analyzed the different csv files on their own, but now that we know what we want to do with each of them, and what info do we need, we should join them in a unique dataframe"
   ]
  },
  {
   "cell_type": "code",
   "execution_count": null,
   "metadata": {},
   "outputs": [],
   "source": []
  }
 ],
 "metadata": {
  "kernelspec": {
   "display_name": "Python 3",
   "language": "python",
   "name": "python3"
  },
  "language_info": {
   "codemirror_mode": {
    "name": "ipython",
    "version": 3
   },
   "file_extension": ".py",
   "mimetype": "text/x-python",
   "name": "python",
   "nbconvert_exporter": "python",
   "pygments_lexer": "ipython3",
   "version": "3.6.5"
  }
 },
 "nbformat": 4,
 "nbformat_minor": 2
}
